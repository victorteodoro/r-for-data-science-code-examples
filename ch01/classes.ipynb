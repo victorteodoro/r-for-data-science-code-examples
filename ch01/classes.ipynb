{
 "cells": [
  {
   "attachments": {},
   "cell_type": "markdown",
   "metadata": {},
   "source": [
    "# Basic usage of classes"
   ]
  },
  {
   "attachments": {},
   "cell_type": "markdown",
   "metadata": {},
   "source": [
    "Introducing the native R datasets"
   ]
  },
  {
   "cell_type": "code",
   "execution_count": 3,
   "metadata": {
    "vscode": {
     "languageId": "r"
    }
   },
   "outputs": [
    {
     "name": "stdout",
     "output_type": "stream",
     "text": [
      "Data sets in package ‘datasets’:\n",
      "\n",
      "AirPassengers           Monthly Airline Passenger Numbers 1949-1960\n",
      "BJsales                 Sales Data with Leading Indicator\n",
      "BJsales.lead (BJsales)\n",
      "                        Sales Data with Leading Indicator\n",
      "BOD                     Biochemical Oxygen Demand\n",
      "CO2                     Carbon Dioxide Uptake in Grass Plants\n",
      "ChickWeight             Weight versus age of chicks on different diets\n",
      "DNase                   Elisa assay of DNase\n",
      "EuStockMarkets          Daily Closing Prices of Major European Stock\n",
      "                        Indices, 1991-1998\n",
      "Formaldehyde            Determination of Formaldehyde\n",
      "HairEyeColor            Hair and Eye Color of Statistics Students\n",
      "Harman23.cor            Harman Example 2.3\n",
      "Harman74.cor            Harman Example 7.4\n",
      "Indometh                Pharmacokinetics of Indomethacin\n",
      "InsectSprays            Effectiveness of Insect Sprays\n",
      "JohnsonJohnson          Quarterly Earnings per Johnson & Johnson Share\n",
      "LakeHuron               Level of Lake Huron 1875-1972\n",
      "LifeCycleSavings        Intercountry Life-Cycle Savings Data\n",
      "Loblolly                Growth of Loblolly pine trees\n",
      "Nile                    Flow of the River Nile\n",
      "Orange                  Growth of Orange Trees\n",
      "OrchardSprays           Potency of Orchard Sprays\n",
      "PlantGrowth             Results from an Experiment on Plant Growth\n",
      "Puromycin               Reaction Velocity of an Enzymatic Reaction\n",
      "Seatbelts               Road Casualties in Great Britain 1969-84\n",
      "Theoph                  Pharmacokinetics of Theophylline\n",
      "Titanic                 Survival of passengers on the Titanic\n",
      "ToothGrowth             The Effect of Vitamin C on Tooth Growth in\n",
      "                        Guinea Pigs\n",
      "UCBAdmissions           Student Admissions at UC Berkeley\n",
      "UKDriverDeaths          Road Casualties in Great Britain 1969-84\n",
      "UKgas                   UK Quarterly Gas Consumption\n",
      "USAccDeaths             Accidental Deaths in the US 1973-1978\n",
      "USArrests               Violent Crime Rates by US State\n",
      "USJudgeRatings          Lawyers' Ratings of State Judges in the US\n",
      "                        Superior Court\n",
      "USPersonalExpenditure   Personal Expenditure Data\n",
      "UScitiesD               Distances Between European Cities and Between\n",
      "                        US Cities\n",
      "VADeaths                Death Rates in Virginia (1940)\n",
      "WWWusage                Internet Usage per Minute\n",
      "WorldPhones             The World's Telephones\n",
      "ability.cov             Ability and Intelligence Tests\n",
      "airmiles                Passenger Miles on Commercial US Airlines,\n",
      "                        1937-1960\n",
      "airquality              New York Air Quality Measurements\n",
      "anscombe                Anscombe's Quartet of 'Identical' Simple Linear\n",
      "                        Regressions\n",
      "attenu                  The Joyner-Boore Attenuation Data\n",
      "attitude                The Chatterjee-Price Attitude Data\n",
      "austres                 Quarterly Time Series of the Number of\n",
      "                        Australian Residents\n",
      "beaver1 (beavers)       Body Temperature Series of Two Beavers\n",
      "beaver2 (beavers)       Body Temperature Series of Two Beavers\n",
      "cars                    Speed and Stopping Distances of Cars\n",
      "chickwts                Chicken Weights by Feed Type\n",
      "co2                     Mauna Loa Atmospheric CO2 Concentration\n",
      "crimtab                 Student's 3000 Criminals Data\n",
      "discoveries             Yearly Numbers of Important Discoveries\n",
      "esoph                   Smoking, Alcohol and (O)esophageal Cancer\n",
      "euro                    Conversion Rates of Euro Currencies\n",
      "euro.cross (euro)       Conversion Rates of Euro Currencies\n",
      "eurodist                Distances Between European Cities and Between\n",
      "                        US Cities\n",
      "faithful                Old Faithful Geyser Data\n",
      "fdeaths (UKLungDeaths)\n",
      "                        Monthly Deaths from Lung Diseases in the UK\n",
      "freeny                  Freeny's Revenue Data\n",
      "freeny.x (freeny)       Freeny's Revenue Data\n",
      "freeny.y (freeny)       Freeny's Revenue Data\n",
      "infert                  Infertility after Spontaneous and Induced\n",
      "                        Abortion\n",
      "iris                    Edgar Anderson's Iris Data\n",
      "iris3                   Edgar Anderson's Iris Data\n",
      "islands                 Areas of the World's Major Landmasses\n",
      "ldeaths (UKLungDeaths)\n",
      "                        Monthly Deaths from Lung Diseases in the UK\n",
      "lh                      Luteinizing Hormone in Blood Samples\n",
      "longley                 Longley's Economic Regression Data\n",
      "lynx                    Annual Canadian Lynx trappings 1821-1934\n",
      "mdeaths (UKLungDeaths)\n",
      "                        Monthly Deaths from Lung Diseases in the UK\n",
      "morley                  Michelson Speed of Light Data\n",
      "mtcars                  Motor Trend Car Road Tests\n",
      "nhtemp                  Average Yearly Temperatures in New Haven\n",
      "nottem                  Average Monthly Temperatures at Nottingham,\n",
      "                        1920-1939\n",
      "npk                     Classical N, P, K Factorial Experiment\n",
      "occupationalStatus      Occupational Status of Fathers and their Sons\n",
      "precip                  Annual Precipitation in US Cities\n",
      "presidents              Quarterly Approval Ratings of US Presidents\n",
      "pressure                Vapor Pressure of Mercury as a Function of\n",
      "                        Temperature\n",
      "quakes                  Locations of Earthquakes off Fiji\n",
      "randu                   Random Numbers from Congruential Generator\n",
      "                        RANDU\n",
      "rivers                  Lengths of Major North American Rivers\n",
      "rock                    Measurements on Petroleum Rock Samples\n",
      "sleep                   Student's Sleep Data\n",
      "stack.loss (stackloss)\n",
      "                        Brownlee's Stack Loss Plant Data\n",
      "stack.x (stackloss)     Brownlee's Stack Loss Plant Data\n",
      "stackloss               Brownlee's Stack Loss Plant Data\n",
      "state.abb (state)       US State Facts and Figures\n",
      "state.area (state)      US State Facts and Figures\n",
      "state.center (state)    US State Facts and Figures\n",
      "state.division (state)\n",
      "                        US State Facts and Figures\n",
      "state.name (state)      US State Facts and Figures\n",
      "state.region (state)    US State Facts and Figures\n",
      "state.x77 (state)       US State Facts and Figures\n",
      "sunspot.month           Monthly Sunspot Data, from 1749 to \"Present\"\n",
      "sunspot.year            Yearly Sunspot Data, 1700-1988\n",
      "sunspots                Monthly Sunspot Numbers, 1749-1983\n",
      "swiss                   Swiss Fertility and Socioeconomic Indicators\n",
      "                        (1888) Data\n",
      "treering                Yearly Treering Data, -6000-1979\n",
      "trees                   Diameter, Height and Volume for Black Cherry\n",
      "                        Trees\n",
      "uspop                   Populations Recorded by the US Census\n",
      "volcano                 Topographic Information on Auckland's Maunga\n",
      "                        Whau Volcano\n",
      "warpbreaks              The Number of Breaks in Yarn during Weaving\n",
      "women                   Average Heights and Weights for American Women\n",
      "\n",
      "Use ‘data(package = .packages(all.available = TRUE))’\n",
      "to list the data sets in all *available* packages."
     ]
    }
   ],
   "source": [
    "data()"
   ]
  },
  {
   "cell_type": "code",
   "execution_count": 14,
   "metadata": {
    "vscode": {
     "languageId": "r"
    }
   },
   "outputs": [
    {
     "data": {
      "text/html": [
       "<style>\n",
       ".list-inline {list-style: none; margin:0; padding: 0}\n",
       ".list-inline>li {display: inline-block}\n",
       ".list-inline>li:not(:last-child)::after {content: \"\\00b7\"; padding: 0 .5ex}\n",
       "</style>\n",
       "<ol class=list-inline><li>'nfnGroupedData'</li><li>'nfGroupedData'</li><li>'groupedData'</li><li>'data.frame'</li></ol>\n"
      ],
      "text/latex": [
       "\\begin{enumerate*}\n",
       "\\item 'nfnGroupedData'\n",
       "\\item 'nfGroupedData'\n",
       "\\item 'groupedData'\n",
       "\\item 'data.frame'\n",
       "\\end{enumerate*}\n"
      ],
      "text/markdown": [
       "1. 'nfnGroupedData'\n",
       "2. 'nfGroupedData'\n",
       "3. 'groupedData'\n",
       "4. 'data.frame'\n",
       "\n",
       "\n"
      ],
      "text/plain": [
       "[1] \"nfnGroupedData\" \"nfGroupedData\"  \"groupedData\"    \"data.frame\"    "
      ]
     },
     "metadata": {},
     "output_type": "display_data"
    }
   ],
   "source": [
    "class(Orange)"
   ]
  },
  {
   "cell_type": "code",
   "execution_count": 16,
   "metadata": {
    "vscode": {
     "languageId": "r"
    }
   },
   "outputs": [
    {
     "data": {
      "text/html": [
       "<table class=\"dataframe\">\n",
       "<caption>A nfnGroupedData: 6 × 3</caption>\n",
       "<thead>\n",
       "\t<tr><th></th><th scope=col>Tree</th><th scope=col>age</th><th scope=col>circumference</th></tr>\n",
       "\t<tr><th></th><th scope=col>&lt;ord&gt;</th><th scope=col>&lt;dbl&gt;</th><th scope=col>&lt;dbl&gt;</th></tr>\n",
       "</thead>\n",
       "<tbody>\n",
       "\t<tr><th scope=row>1</th><td>1</td><td> 118</td><td> 30</td></tr>\n",
       "\t<tr><th scope=row>2</th><td>1</td><td> 484</td><td> 58</td></tr>\n",
       "\t<tr><th scope=row>3</th><td>1</td><td> 664</td><td> 87</td></tr>\n",
       "\t<tr><th scope=row>4</th><td>1</td><td>1004</td><td>115</td></tr>\n",
       "\t<tr><th scope=row>5</th><td>1</td><td>1231</td><td>120</td></tr>\n",
       "\t<tr><th scope=row>6</th><td>1</td><td>1372</td><td>142</td></tr>\n",
       "</tbody>\n",
       "</table>\n"
      ],
      "text/latex": [
       "A nfnGroupedData: 6 × 3\n",
       "\\begin{tabular}{r|lll}\n",
       "  & Tree & age & circumference\\\\\n",
       "  & <ord> & <dbl> & <dbl>\\\\\n",
       "\\hline\n",
       "\t1 & 1 &  118 &  30\\\\\n",
       "\t2 & 1 &  484 &  58\\\\\n",
       "\t3 & 1 &  664 &  87\\\\\n",
       "\t4 & 1 & 1004 & 115\\\\\n",
       "\t5 & 1 & 1231 & 120\\\\\n",
       "\t6 & 1 & 1372 & 142\\\\\n",
       "\\end{tabular}\n"
      ],
      "text/markdown": [
       "\n",
       "A nfnGroupedData: 6 × 3\n",
       "\n",
       "| <!--/--> | Tree &lt;ord&gt; | age &lt;dbl&gt; | circumference &lt;dbl&gt; |\n",
       "|---|---|---|---|\n",
       "| 1 | 1 |  118 |  30 |\n",
       "| 2 | 1 |  484 |  58 |\n",
       "| 3 | 1 |  664 |  87 |\n",
       "| 4 | 1 | 1004 | 115 |\n",
       "| 5 | 1 | 1231 | 120 |\n",
       "| 6 | 1 | 1372 | 142 |\n",
       "\n"
      ],
      "text/plain": [
       "  Tree age  circumference\n",
       "1 1     118  30          \n",
       "2 1     484  58          \n",
       "3 1     664  87          \n",
       "4 1    1004 115          \n",
       "5 1    1231 120          \n",
       "6 1    1372 142          "
      ]
     },
     "metadata": {},
     "output_type": "display_data"
    }
   ],
   "source": [
    "head(Orange)"
   ]
  },
  {
   "cell_type": "code",
   "execution_count": 19,
   "metadata": {
    "vscode": {
     "languageId": "r"
    }
   },
   "outputs": [
    {
     "data": {
      "text/html": [
       "<table class=\"dataframe\">\n",
       "<caption>A nfnGroupedData: 35 × 3</caption>\n",
       "<thead>\n",
       "\t<tr><th></th><th scope=col>Tree</th><th scope=col>age</th><th scope=col>circumference</th></tr>\n",
       "\t<tr><th></th><th scope=col>&lt;ord&gt;</th><th scope=col>&lt;dbl&gt;</th><th scope=col>&lt;dbl&gt;</th></tr>\n",
       "</thead>\n",
       "<tbody>\n",
       "\t<tr><th scope=row>1</th><td>1</td><td> 118</td><td> 30</td></tr>\n",
       "\t<tr><th scope=row>2</th><td>1</td><td> 484</td><td> 58</td></tr>\n",
       "\t<tr><th scope=row>3</th><td>1</td><td> 664</td><td> 87</td></tr>\n",
       "\t<tr><th scope=row>4</th><td>1</td><td>1004</td><td>115</td></tr>\n",
       "\t<tr><th scope=row>5</th><td>1</td><td>1231</td><td>120</td></tr>\n",
       "\t<tr><th scope=row>6</th><td>1</td><td>1372</td><td>142</td></tr>\n",
       "\t<tr><th scope=row>7</th><td>1</td><td>1582</td><td>145</td></tr>\n",
       "\t<tr><th scope=row>8</th><td>2</td><td> 118</td><td> 33</td></tr>\n",
       "\t<tr><th scope=row>9</th><td>2</td><td> 484</td><td> 69</td></tr>\n",
       "\t<tr><th scope=row>10</th><td>2</td><td> 664</td><td>111</td></tr>\n",
       "\t<tr><th scope=row>11</th><td>2</td><td>1004</td><td>156</td></tr>\n",
       "\t<tr><th scope=row>12</th><td>2</td><td>1231</td><td>172</td></tr>\n",
       "\t<tr><th scope=row>13</th><td>2</td><td>1372</td><td>203</td></tr>\n",
       "\t<tr><th scope=row>14</th><td>2</td><td>1582</td><td>203</td></tr>\n",
       "\t<tr><th scope=row>15</th><td>3</td><td> 118</td><td> 30</td></tr>\n",
       "\t<tr><th scope=row>16</th><td>3</td><td> 484</td><td> 51</td></tr>\n",
       "\t<tr><th scope=row>17</th><td>3</td><td> 664</td><td> 75</td></tr>\n",
       "\t<tr><th scope=row>18</th><td>3</td><td>1004</td><td>108</td></tr>\n",
       "\t<tr><th scope=row>19</th><td>3</td><td>1231</td><td>115</td></tr>\n",
       "\t<tr><th scope=row>20</th><td>3</td><td>1372</td><td>139</td></tr>\n",
       "\t<tr><th scope=row>21</th><td>3</td><td>1582</td><td>140</td></tr>\n",
       "\t<tr><th scope=row>22</th><td>4</td><td> 118</td><td> 32</td></tr>\n",
       "\t<tr><th scope=row>23</th><td>4</td><td> 484</td><td> 62</td></tr>\n",
       "\t<tr><th scope=row>24</th><td>4</td><td> 664</td><td>112</td></tr>\n",
       "\t<tr><th scope=row>25</th><td>4</td><td>1004</td><td>167</td></tr>\n",
       "\t<tr><th scope=row>26</th><td>4</td><td>1231</td><td>179</td></tr>\n",
       "\t<tr><th scope=row>27</th><td>4</td><td>1372</td><td>209</td></tr>\n",
       "\t<tr><th scope=row>28</th><td>4</td><td>1582</td><td>214</td></tr>\n",
       "\t<tr><th scope=row>29</th><td>5</td><td> 118</td><td> 30</td></tr>\n",
       "\t<tr><th scope=row>30</th><td>5</td><td> 484</td><td> 49</td></tr>\n",
       "\t<tr><th scope=row>31</th><td>5</td><td> 664</td><td> 81</td></tr>\n",
       "\t<tr><th scope=row>32</th><td>5</td><td>1004</td><td>125</td></tr>\n",
       "\t<tr><th scope=row>33</th><td>5</td><td>1231</td><td>142</td></tr>\n",
       "\t<tr><th scope=row>34</th><td>5</td><td>1372</td><td>174</td></tr>\n",
       "\t<tr><th scope=row>35</th><td>5</td><td>1582</td><td>177</td></tr>\n",
       "</tbody>\n",
       "</table>\n"
      ],
      "text/latex": [
       "A nfnGroupedData: 35 × 3\n",
       "\\begin{tabular}{r|lll}\n",
       "  & Tree & age & circumference\\\\\n",
       "  & <ord> & <dbl> & <dbl>\\\\\n",
       "\\hline\n",
       "\t1 & 1 &  118 &  30\\\\\n",
       "\t2 & 1 &  484 &  58\\\\\n",
       "\t3 & 1 &  664 &  87\\\\\n",
       "\t4 & 1 & 1004 & 115\\\\\n",
       "\t5 & 1 & 1231 & 120\\\\\n",
       "\t6 & 1 & 1372 & 142\\\\\n",
       "\t7 & 1 & 1582 & 145\\\\\n",
       "\t8 & 2 &  118 &  33\\\\\n",
       "\t9 & 2 &  484 &  69\\\\\n",
       "\t10 & 2 &  664 & 111\\\\\n",
       "\t11 & 2 & 1004 & 156\\\\\n",
       "\t12 & 2 & 1231 & 172\\\\\n",
       "\t13 & 2 & 1372 & 203\\\\\n",
       "\t14 & 2 & 1582 & 203\\\\\n",
       "\t15 & 3 &  118 &  30\\\\\n",
       "\t16 & 3 &  484 &  51\\\\\n",
       "\t17 & 3 &  664 &  75\\\\\n",
       "\t18 & 3 & 1004 & 108\\\\\n",
       "\t19 & 3 & 1231 & 115\\\\\n",
       "\t20 & 3 & 1372 & 139\\\\\n",
       "\t21 & 3 & 1582 & 140\\\\\n",
       "\t22 & 4 &  118 &  32\\\\\n",
       "\t23 & 4 &  484 &  62\\\\\n",
       "\t24 & 4 &  664 & 112\\\\\n",
       "\t25 & 4 & 1004 & 167\\\\\n",
       "\t26 & 4 & 1231 & 179\\\\\n",
       "\t27 & 4 & 1372 & 209\\\\\n",
       "\t28 & 4 & 1582 & 214\\\\\n",
       "\t29 & 5 &  118 &  30\\\\\n",
       "\t30 & 5 &  484 &  49\\\\\n",
       "\t31 & 5 &  664 &  81\\\\\n",
       "\t32 & 5 & 1004 & 125\\\\\n",
       "\t33 & 5 & 1231 & 142\\\\\n",
       "\t34 & 5 & 1372 & 174\\\\\n",
       "\t35 & 5 & 1582 & 177\\\\\n",
       "\\end{tabular}\n"
      ],
      "text/markdown": [
       "\n",
       "A nfnGroupedData: 35 × 3\n",
       "\n",
       "| <!--/--> | Tree &lt;ord&gt; | age &lt;dbl&gt; | circumference &lt;dbl&gt; |\n",
       "|---|---|---|---|\n",
       "| 1 | 1 |  118 |  30 |\n",
       "| 2 | 1 |  484 |  58 |\n",
       "| 3 | 1 |  664 |  87 |\n",
       "| 4 | 1 | 1004 | 115 |\n",
       "| 5 | 1 | 1231 | 120 |\n",
       "| 6 | 1 | 1372 | 142 |\n",
       "| 7 | 1 | 1582 | 145 |\n",
       "| 8 | 2 |  118 |  33 |\n",
       "| 9 | 2 |  484 |  69 |\n",
       "| 10 | 2 |  664 | 111 |\n",
       "| 11 | 2 | 1004 | 156 |\n",
       "| 12 | 2 | 1231 | 172 |\n",
       "| 13 | 2 | 1372 | 203 |\n",
       "| 14 | 2 | 1582 | 203 |\n",
       "| 15 | 3 |  118 |  30 |\n",
       "| 16 | 3 |  484 |  51 |\n",
       "| 17 | 3 |  664 |  75 |\n",
       "| 18 | 3 | 1004 | 108 |\n",
       "| 19 | 3 | 1231 | 115 |\n",
       "| 20 | 3 | 1372 | 139 |\n",
       "| 21 | 3 | 1582 | 140 |\n",
       "| 22 | 4 |  118 |  32 |\n",
       "| 23 | 4 |  484 |  62 |\n",
       "| 24 | 4 |  664 | 112 |\n",
       "| 25 | 4 | 1004 | 167 |\n",
       "| 26 | 4 | 1231 | 179 |\n",
       "| 27 | 4 | 1372 | 209 |\n",
       "| 28 | 4 | 1582 | 214 |\n",
       "| 29 | 5 |  118 |  30 |\n",
       "| 30 | 5 |  484 |  49 |\n",
       "| 31 | 5 |  664 |  81 |\n",
       "| 32 | 5 | 1004 | 125 |\n",
       "| 33 | 5 | 1231 | 142 |\n",
       "| 34 | 5 | 1372 | 174 |\n",
       "| 35 | 5 | 1582 | 177 |\n",
       "\n"
      ],
      "text/plain": [
       "   Tree age  circumference\n",
       "1  1     118  30          \n",
       "2  1     484  58          \n",
       "3  1     664  87          \n",
       "4  1    1004 115          \n",
       "5  1    1231 120          \n",
       "6  1    1372 142          \n",
       "7  1    1582 145          \n",
       "8  2     118  33          \n",
       "9  2     484  69          \n",
       "10 2     664 111          \n",
       "11 2    1004 156          \n",
       "12 2    1231 172          \n",
       "13 2    1372 203          \n",
       "14 2    1582 203          \n",
       "15 3     118  30          \n",
       "16 3     484  51          \n",
       "17 3     664  75          \n",
       "18 3    1004 108          \n",
       "19 3    1231 115          \n",
       "20 3    1372 139          \n",
       "21 3    1582 140          \n",
       "22 4     118  32          \n",
       "23 4     484  62          \n",
       "24 4     664 112          \n",
       "25 4    1004 167          \n",
       "26 4    1231 179          \n",
       "27 4    1372 209          \n",
       "28 4    1582 214          \n",
       "29 5     118  30          \n",
       "30 5     484  49          \n",
       "31 5     664  81          \n",
       "32 5    1004 125          \n",
       "33 5    1231 142          \n",
       "34 5    1372 174          \n",
       "35 5    1582 177          "
      ]
     },
     "metadata": {},
     "output_type": "display_data"
    }
   ],
   "source": [
    "subset(Orange, age > 100)"
   ]
  }
 ],
 "metadata": {
  "kernelspec": {
   "display_name": "R",
   "language": "R",
   "name": "ir"
  },
  "language_info": {
   "codemirror_mode": "r",
   "file_extension": ".r",
   "mimetype": "text/x-r-source",
   "name": "R",
   "pygments_lexer": "r",
   "version": "4.2.3"
  },
  "orig_nbformat": 4
 },
 "nbformat": 4,
 "nbformat_minor": 2
}
