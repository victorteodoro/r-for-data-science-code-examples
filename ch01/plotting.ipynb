{
 "cells": [
  {
   "attachments": {},
   "cell_type": "markdown",
   "metadata": {},
   "source": [
    "# Basic usage of classes"
   ]
  },
  {
   "attachments": {},
   "cell_type": "markdown",
   "metadata": {},
   "source": [
    "Loading libs"
   ]
  },
  {
   "cell_type": "code",
   "execution_count": 1,
   "metadata": {
    "vscode": {
     "languageId": "r"
    }
   },
   "outputs": [
    {
     "name": "stderr",
     "output_type": "stream",
     "text": [
      "── \u001b[1mAttaching packages\u001b[22m ─────────────────────────────────────── tidyverse 1.3.2 ──\n",
      "\u001b[32m✔\u001b[39m \u001b[34mggplot2\u001b[39m 3.4.1     \u001b[32m✔\u001b[39m \u001b[34mpurrr  \u001b[39m 1.0.1\n",
      "\u001b[32m✔\u001b[39m \u001b[34mtibble \u001b[39m 3.2.1     \u001b[32m✔\u001b[39m \u001b[34mdplyr  \u001b[39m 1.1.1\n",
      "\u001b[32m✔\u001b[39m \u001b[34mtidyr  \u001b[39m 1.3.0     \u001b[32m✔\u001b[39m \u001b[34mstringr\u001b[39m 1.5.0\n",
      "\u001b[32m✔\u001b[39m \u001b[34mreadr  \u001b[39m 2.1.4     \u001b[32m✔\u001b[39m \u001b[34mforcats\u001b[39m 1.0.0\n",
      "── \u001b[1mConflicts\u001b[22m ────────────────────────────────────────── tidyverse_conflicts() ──\n",
      "\u001b[31m✖\u001b[39m \u001b[34mdplyr\u001b[39m::\u001b[32mfilter()\u001b[39m masks \u001b[34mstats\u001b[39m::filter()\n",
      "\u001b[31m✖\u001b[39m \u001b[34mdplyr\u001b[39m::\u001b[32mlag()\u001b[39m    masks \u001b[34mstats\u001b[39m::lag()\n"
     ]
    }
   ],
   "source": [
    "library(tidyverse)"
   ]
  },
  {
   "attachments": {},
   "cell_type": "markdown",
   "metadata": {},
   "source": [
    "Introducing the native R datasets"
   ]
  },
  {
   "cell_type": "code",
   "execution_count": 3,
   "metadata": {
    "vscode": {
     "languageId": "r"
    }
   },
   "outputs": [
    {
     "name": "stdout",
     "output_type": "stream",
     "text": [
      "Data sets in package ‘datasets’:\n",
      "\n",
      "AirPassengers           Monthly Airline Passenger Numbers 1949-1960\n",
      "BJsales                 Sales Data with Leading Indicator\n",
      "BJsales.lead (BJsales)\n",
      "                        Sales Data with Leading Indicator\n",
      "BOD                     Biochemical Oxygen Demand\n",
      "CO2                     Carbon Dioxide Uptake in Grass Plants\n",
      "ChickWeight             Weight versus age of chicks on different diets\n",
      "DNase                   Elisa assay of DNase\n",
      "EuStockMarkets          Daily Closing Prices of Major European Stock\n",
      "                        Indices, 1991-1998\n",
      "Formaldehyde            Determination of Formaldehyde\n",
      "HairEyeColor            Hair and Eye Color of Statistics Students\n",
      "Harman23.cor            Harman Example 2.3\n",
      "Harman74.cor            Harman Example 7.4\n",
      "Indometh                Pharmacokinetics of Indomethacin\n",
      "InsectSprays            Effectiveness of Insect Sprays\n",
      "JohnsonJohnson          Quarterly Earnings per Johnson & Johnson Share\n",
      "LakeHuron               Level of Lake Huron 1875-1972\n",
      "LifeCycleSavings        Intercountry Life-Cycle Savings Data\n",
      "Loblolly                Growth of Loblolly pine trees\n",
      "Nile                    Flow of the River Nile\n",
      "Orange                  Growth of Orange Trees\n",
      "OrchardSprays           Potency of Orchard Sprays\n",
      "PlantGrowth             Results from an Experiment on Plant Growth\n",
      "Puromycin               Reaction Velocity of an Enzymatic Reaction\n",
      "Seatbelts               Road Casualties in Great Britain 1969-84\n",
      "Theoph                  Pharmacokinetics of Theophylline\n",
      "Titanic                 Survival of passengers on the Titanic\n",
      "ToothGrowth             The Effect of Vitamin C on Tooth Growth in\n",
      "                        Guinea Pigs\n",
      "UCBAdmissions           Student Admissions at UC Berkeley\n",
      "UKDriverDeaths          Road Casualties in Great Britain 1969-84\n",
      "UKgas                   UK Quarterly Gas Consumption\n",
      "USAccDeaths             Accidental Deaths in the US 1973-1978\n",
      "USArrests               Violent Crime Rates by US State\n",
      "USJudgeRatings          Lawyers' Ratings of State Judges in the US\n",
      "                        Superior Court\n",
      "USPersonalExpenditure   Personal Expenditure Data\n",
      "UScitiesD               Distances Between European Cities and Between\n",
      "                        US Cities\n",
      "VADeaths                Death Rates in Virginia (1940)\n",
      "WWWusage                Internet Usage per Minute\n",
      "WorldPhones             The World's Telephones\n",
      "ability.cov             Ability and Intelligence Tests\n",
      "airmiles                Passenger Miles on Commercial US Airlines,\n",
      "                        1937-1960\n",
      "airquality              New York Air Quality Measurements\n",
      "anscombe                Anscombe's Quartet of 'Identical' Simple Linear\n",
      "                        Regressions\n",
      "attenu                  The Joyner-Boore Attenuation Data\n",
      "attitude                The Chatterjee-Price Attitude Data\n",
      "austres                 Quarterly Time Series of the Number of\n",
      "                        Australian Residents\n",
      "beaver1 (beavers)       Body Temperature Series of Two Beavers\n",
      "beaver2 (beavers)       Body Temperature Series of Two Beavers\n",
      "cars                    Speed and Stopping Distances of Cars\n",
      "chickwts                Chicken Weights by Feed Type\n",
      "co2                     Mauna Loa Atmospheric CO2 Concentration\n",
      "crimtab                 Student's 3000 Criminals Data\n",
      "discoveries             Yearly Numbers of Important Discoveries\n",
      "esoph                   Smoking, Alcohol and (O)esophageal Cancer\n",
      "euro                    Conversion Rates of Euro Currencies\n",
      "euro.cross (euro)       Conversion Rates of Euro Currencies\n",
      "eurodist                Distances Between European Cities and Between\n",
      "                        US Cities\n",
      "faithful                Old Faithful Geyser Data\n",
      "fdeaths (UKLungDeaths)\n",
      "                        Monthly Deaths from Lung Diseases in the UK\n",
      "freeny                  Freeny's Revenue Data\n",
      "freeny.x (freeny)       Freeny's Revenue Data\n",
      "freeny.y (freeny)       Freeny's Revenue Data\n",
      "infert                  Infertility after Spontaneous and Induced\n",
      "                        Abortion\n",
      "iris                    Edgar Anderson's Iris Data\n",
      "iris3                   Edgar Anderson's Iris Data\n",
      "islands                 Areas of the World's Major Landmasses\n",
      "ldeaths (UKLungDeaths)\n",
      "                        Monthly Deaths from Lung Diseases in the UK\n",
      "lh                      Luteinizing Hormone in Blood Samples\n",
      "longley                 Longley's Economic Regression Data\n",
      "lynx                    Annual Canadian Lynx trappings 1821-1934\n",
      "mdeaths (UKLungDeaths)\n",
      "                        Monthly Deaths from Lung Diseases in the UK\n",
      "morley                  Michelson Speed of Light Data\n",
      "mtcars                  Motor Trend Car Road Tests\n",
      "nhtemp                  Average Yearly Temperatures in New Haven\n",
      "nottem                  Average Monthly Temperatures at Nottingham,\n",
      "                        1920-1939\n",
      "npk                     Classical N, P, K Factorial Experiment\n",
      "occupationalStatus      Occupational Status of Fathers and their Sons\n",
      "precip                  Annual Precipitation in US Cities\n",
      "presidents              Quarterly Approval Ratings of US Presidents\n",
      "pressure                Vapor Pressure of Mercury as a Function of\n",
      "                        Temperature\n",
      "quakes                  Locations of Earthquakes off Fiji\n",
      "randu                   Random Numbers from Congruential Generator\n",
      "                        RANDU\n",
      "rivers                  Lengths of Major North American Rivers\n",
      "rock                    Measurements on Petroleum Rock Samples\n",
      "sleep                   Student's Sleep Data\n",
      "stack.loss (stackloss)\n",
      "                        Brownlee's Stack Loss Plant Data\n",
      "stack.x (stackloss)     Brownlee's Stack Loss Plant Data\n",
      "stackloss               Brownlee's Stack Loss Plant Data\n",
      "state.abb (state)       US State Facts and Figures\n",
      "state.area (state)      US State Facts and Figures\n",
      "state.center (state)    US State Facts and Figures\n",
      "state.division (state)\n",
      "                        US State Facts and Figures\n",
      "state.name (state)      US State Facts and Figures\n",
      "state.region (state)    US State Facts and Figures\n",
      "state.x77 (state)       US State Facts and Figures\n",
      "sunspot.month           Monthly Sunspot Data, from 1749 to \"Present\"\n",
      "sunspot.year            Yearly Sunspot Data, 1700-1988\n",
      "sunspots                Monthly Sunspot Numbers, 1749-1983\n",
      "swiss                   Swiss Fertility and Socioeconomic Indicators\n",
      "                        (1888) Data\n",
      "treering                Yearly Treering Data, -6000-1979\n",
      "trees                   Diameter, Height and Volume for Black Cherry\n",
      "                        Trees\n",
      "uspop                   Populations Recorded by the US Census\n",
      "volcano                 Topographic Information on Auckland's Maunga\n",
      "                        Whau Volcano\n",
      "warpbreaks              The Number of Breaks in Yarn during Weaving\n",
      "women                   Average Heights and Weights for American Women\n",
      "\n",
      "Use ‘data(package = .packages(all.available = TRUE))’\n",
      "to list the data sets in all *available* packages."
     ]
    }
   ],
   "source": [
    "data()"
   ]
  },
  {
   "cell_type": "code",
   "execution_count": 14,
   "metadata": {
    "vscode": {
     "languageId": "r"
    }
   },
   "outputs": [
    {
     "data": {
      "text/html": [
       "<style>\n",
       ".list-inline {list-style: none; margin:0; padding: 0}\n",
       ".list-inline>li {display: inline-block}\n",
       ".list-inline>li:not(:last-child)::after {content: \"\\00b7\"; padding: 0 .5ex}\n",
       "</style>\n",
       "<ol class=list-inline><li>'nfnGroupedData'</li><li>'nfGroupedData'</li><li>'groupedData'</li><li>'data.frame'</li></ol>\n"
      ],
      "text/latex": [
       "\\begin{enumerate*}\n",
       "\\item 'nfnGroupedData'\n",
       "\\item 'nfGroupedData'\n",
       "\\item 'groupedData'\n",
       "\\item 'data.frame'\n",
       "\\end{enumerate*}\n"
      ],
      "text/markdown": [
       "1. 'nfnGroupedData'\n",
       "2. 'nfGroupedData'\n",
       "3. 'groupedData'\n",
       "4. 'data.frame'\n",
       "\n",
       "\n"
      ],
      "text/plain": [
       "[1] \"nfnGroupedData\" \"nfGroupedData\"  \"groupedData\"    \"data.frame\"    "
      ]
     },
     "metadata": {},
     "output_type": "display_data"
    }
   ],
   "source": [
    "class(Orange)"
   ]
  },
  {
   "cell_type": "code",
   "execution_count": 16,
   "metadata": {
    "vscode": {
     "languageId": "r"
    }
   },
   "outputs": [
    {
     "data": {
      "text/html": [
       "<table class=\"dataframe\">\n",
       "<caption>A nfnGroupedData: 6 × 3</caption>\n",
       "<thead>\n",
       "\t<tr><th></th><th scope=col>Tree</th><th scope=col>age</th><th scope=col>circumference</th></tr>\n",
       "\t<tr><th></th><th scope=col>&lt;ord&gt;</th><th scope=col>&lt;dbl&gt;</th><th scope=col>&lt;dbl&gt;</th></tr>\n",
       "</thead>\n",
       "<tbody>\n",
       "\t<tr><th scope=row>1</th><td>1</td><td> 118</td><td> 30</td></tr>\n",
       "\t<tr><th scope=row>2</th><td>1</td><td> 484</td><td> 58</td></tr>\n",
       "\t<tr><th scope=row>3</th><td>1</td><td> 664</td><td> 87</td></tr>\n",
       "\t<tr><th scope=row>4</th><td>1</td><td>1004</td><td>115</td></tr>\n",
       "\t<tr><th scope=row>5</th><td>1</td><td>1231</td><td>120</td></tr>\n",
       "\t<tr><th scope=row>6</th><td>1</td><td>1372</td><td>142</td></tr>\n",
       "</tbody>\n",
       "</table>\n"
      ],
      "text/latex": [
       "A nfnGroupedData: 6 × 3\n",
       "\\begin{tabular}{r|lll}\n",
       "  & Tree & age & circumference\\\\\n",
       "  & <ord> & <dbl> & <dbl>\\\\\n",
       "\\hline\n",
       "\t1 & 1 &  118 &  30\\\\\n",
       "\t2 & 1 &  484 &  58\\\\\n",
       "\t3 & 1 &  664 &  87\\\\\n",
       "\t4 & 1 & 1004 & 115\\\\\n",
       "\t5 & 1 & 1231 & 120\\\\\n",
       "\t6 & 1 & 1372 & 142\\\\\n",
       "\\end{tabular}\n"
      ],
      "text/markdown": [
       "\n",
       "A nfnGroupedData: 6 × 3\n",
       "\n",
       "| <!--/--> | Tree &lt;ord&gt; | age &lt;dbl&gt; | circumference &lt;dbl&gt; |\n",
       "|---|---|---|---|\n",
       "| 1 | 1 |  118 |  30 |\n",
       "| 2 | 1 |  484 |  58 |\n",
       "| 3 | 1 |  664 |  87 |\n",
       "| 4 | 1 | 1004 | 115 |\n",
       "| 5 | 1 | 1231 | 120 |\n",
       "| 6 | 1 | 1372 | 142 |\n",
       "\n"
      ],
      "text/plain": [
       "  Tree age  circumference\n",
       "1 1     118  30          \n",
       "2 1     484  58          \n",
       "3 1     664  87          \n",
       "4 1    1004 115          \n",
       "5 1    1231 120          \n",
       "6 1    1372 142          "
      ]
     },
     "metadata": {},
     "output_type": "display_data"
    }
   ],
   "source": [
    "head(Orange)"
   ]
  },
  {
   "cell_type": "code",
   "execution_count": 19,
   "metadata": {
    "vscode": {
     "languageId": "r"
    }
   },
   "outputs": [
    {
     "data": {
      "text/html": [
       "<table class=\"dataframe\">\n",
       "<caption>A nfnGroupedData: 35 × 3</caption>\n",
       "<thead>\n",
       "\t<tr><th></th><th scope=col>Tree</th><th scope=col>age</th><th scope=col>circumference</th></tr>\n",
       "\t<tr><th></th><th scope=col>&lt;ord&gt;</th><th scope=col>&lt;dbl&gt;</th><th scope=col>&lt;dbl&gt;</th></tr>\n",
       "</thead>\n",
       "<tbody>\n",
       "\t<tr><th scope=row>1</th><td>1</td><td> 118</td><td> 30</td></tr>\n",
       "\t<tr><th scope=row>2</th><td>1</td><td> 484</td><td> 58</td></tr>\n",
       "\t<tr><th scope=row>3</th><td>1</td><td> 664</td><td> 87</td></tr>\n",
       "\t<tr><th scope=row>4</th><td>1</td><td>1004</td><td>115</td></tr>\n",
       "\t<tr><th scope=row>5</th><td>1</td><td>1231</td><td>120</td></tr>\n",
       "\t<tr><th scope=row>6</th><td>1</td><td>1372</td><td>142</td></tr>\n",
       "\t<tr><th scope=row>7</th><td>1</td><td>1582</td><td>145</td></tr>\n",
       "\t<tr><th scope=row>8</th><td>2</td><td> 118</td><td> 33</td></tr>\n",
       "\t<tr><th scope=row>9</th><td>2</td><td> 484</td><td> 69</td></tr>\n",
       "\t<tr><th scope=row>10</th><td>2</td><td> 664</td><td>111</td></tr>\n",
       "\t<tr><th scope=row>11</th><td>2</td><td>1004</td><td>156</td></tr>\n",
       "\t<tr><th scope=row>12</th><td>2</td><td>1231</td><td>172</td></tr>\n",
       "\t<tr><th scope=row>13</th><td>2</td><td>1372</td><td>203</td></tr>\n",
       "\t<tr><th scope=row>14</th><td>2</td><td>1582</td><td>203</td></tr>\n",
       "\t<tr><th scope=row>15</th><td>3</td><td> 118</td><td> 30</td></tr>\n",
       "\t<tr><th scope=row>16</th><td>3</td><td> 484</td><td> 51</td></tr>\n",
       "\t<tr><th scope=row>17</th><td>3</td><td> 664</td><td> 75</td></tr>\n",
       "\t<tr><th scope=row>18</th><td>3</td><td>1004</td><td>108</td></tr>\n",
       "\t<tr><th scope=row>19</th><td>3</td><td>1231</td><td>115</td></tr>\n",
       "\t<tr><th scope=row>20</th><td>3</td><td>1372</td><td>139</td></tr>\n",
       "\t<tr><th scope=row>21</th><td>3</td><td>1582</td><td>140</td></tr>\n",
       "\t<tr><th scope=row>22</th><td>4</td><td> 118</td><td> 32</td></tr>\n",
       "\t<tr><th scope=row>23</th><td>4</td><td> 484</td><td> 62</td></tr>\n",
       "\t<tr><th scope=row>24</th><td>4</td><td> 664</td><td>112</td></tr>\n",
       "\t<tr><th scope=row>25</th><td>4</td><td>1004</td><td>167</td></tr>\n",
       "\t<tr><th scope=row>26</th><td>4</td><td>1231</td><td>179</td></tr>\n",
       "\t<tr><th scope=row>27</th><td>4</td><td>1372</td><td>209</td></tr>\n",
       "\t<tr><th scope=row>28</th><td>4</td><td>1582</td><td>214</td></tr>\n",
       "\t<tr><th scope=row>29</th><td>5</td><td> 118</td><td> 30</td></tr>\n",
       "\t<tr><th scope=row>30</th><td>5</td><td> 484</td><td> 49</td></tr>\n",
       "\t<tr><th scope=row>31</th><td>5</td><td> 664</td><td> 81</td></tr>\n",
       "\t<tr><th scope=row>32</th><td>5</td><td>1004</td><td>125</td></tr>\n",
       "\t<tr><th scope=row>33</th><td>5</td><td>1231</td><td>142</td></tr>\n",
       "\t<tr><th scope=row>34</th><td>5</td><td>1372</td><td>174</td></tr>\n",
       "\t<tr><th scope=row>35</th><td>5</td><td>1582</td><td>177</td></tr>\n",
       "</tbody>\n",
       "</table>\n"
      ],
      "text/latex": [
       "A nfnGroupedData: 35 × 3\n",
       "\\begin{tabular}{r|lll}\n",
       "  & Tree & age & circumference\\\\\n",
       "  & <ord> & <dbl> & <dbl>\\\\\n",
       "\\hline\n",
       "\t1 & 1 &  118 &  30\\\\\n",
       "\t2 & 1 &  484 &  58\\\\\n",
       "\t3 & 1 &  664 &  87\\\\\n",
       "\t4 & 1 & 1004 & 115\\\\\n",
       "\t5 & 1 & 1231 & 120\\\\\n",
       "\t6 & 1 & 1372 & 142\\\\\n",
       "\t7 & 1 & 1582 & 145\\\\\n",
       "\t8 & 2 &  118 &  33\\\\\n",
       "\t9 & 2 &  484 &  69\\\\\n",
       "\t10 & 2 &  664 & 111\\\\\n",
       "\t11 & 2 & 1004 & 156\\\\\n",
       "\t12 & 2 & 1231 & 172\\\\\n",
       "\t13 & 2 & 1372 & 203\\\\\n",
       "\t14 & 2 & 1582 & 203\\\\\n",
       "\t15 & 3 &  118 &  30\\\\\n",
       "\t16 & 3 &  484 &  51\\\\\n",
       "\t17 & 3 &  664 &  75\\\\\n",
       "\t18 & 3 & 1004 & 108\\\\\n",
       "\t19 & 3 & 1231 & 115\\\\\n",
       "\t20 & 3 & 1372 & 139\\\\\n",
       "\t21 & 3 & 1582 & 140\\\\\n",
       "\t22 & 4 &  118 &  32\\\\\n",
       "\t23 & 4 &  484 &  62\\\\\n",
       "\t24 & 4 &  664 & 112\\\\\n",
       "\t25 & 4 & 1004 & 167\\\\\n",
       "\t26 & 4 & 1231 & 179\\\\\n",
       "\t27 & 4 & 1372 & 209\\\\\n",
       "\t28 & 4 & 1582 & 214\\\\\n",
       "\t29 & 5 &  118 &  30\\\\\n",
       "\t30 & 5 &  484 &  49\\\\\n",
       "\t31 & 5 &  664 &  81\\\\\n",
       "\t32 & 5 & 1004 & 125\\\\\n",
       "\t33 & 5 & 1231 & 142\\\\\n",
       "\t34 & 5 & 1372 & 174\\\\\n",
       "\t35 & 5 & 1582 & 177\\\\\n",
       "\\end{tabular}\n"
      ],
      "text/markdown": [
       "\n",
       "A nfnGroupedData: 35 × 3\n",
       "\n",
       "| <!--/--> | Tree &lt;ord&gt; | age &lt;dbl&gt; | circumference &lt;dbl&gt; |\n",
       "|---|---|---|---|\n",
       "| 1 | 1 |  118 |  30 |\n",
       "| 2 | 1 |  484 |  58 |\n",
       "| 3 | 1 |  664 |  87 |\n",
       "| 4 | 1 | 1004 | 115 |\n",
       "| 5 | 1 | 1231 | 120 |\n",
       "| 6 | 1 | 1372 | 142 |\n",
       "| 7 | 1 | 1582 | 145 |\n",
       "| 8 | 2 |  118 |  33 |\n",
       "| 9 | 2 |  484 |  69 |\n",
       "| 10 | 2 |  664 | 111 |\n",
       "| 11 | 2 | 1004 | 156 |\n",
       "| 12 | 2 | 1231 | 172 |\n",
       "| 13 | 2 | 1372 | 203 |\n",
       "| 14 | 2 | 1582 | 203 |\n",
       "| 15 | 3 |  118 |  30 |\n",
       "| 16 | 3 |  484 |  51 |\n",
       "| 17 | 3 |  664 |  75 |\n",
       "| 18 | 3 | 1004 | 108 |\n",
       "| 19 | 3 | 1231 | 115 |\n",
       "| 20 | 3 | 1372 | 139 |\n",
       "| 21 | 3 | 1582 | 140 |\n",
       "| 22 | 4 |  118 |  32 |\n",
       "| 23 | 4 |  484 |  62 |\n",
       "| 24 | 4 |  664 | 112 |\n",
       "| 25 | 4 | 1004 | 167 |\n",
       "| 26 | 4 | 1231 | 179 |\n",
       "| 27 | 4 | 1372 | 209 |\n",
       "| 28 | 4 | 1582 | 214 |\n",
       "| 29 | 5 |  118 |  30 |\n",
       "| 30 | 5 |  484 |  49 |\n",
       "| 31 | 5 |  664 |  81 |\n",
       "| 32 | 5 | 1004 | 125 |\n",
       "| 33 | 5 | 1231 | 142 |\n",
       "| 34 | 5 | 1372 | 174 |\n",
       "| 35 | 5 | 1582 | 177 |\n",
       "\n"
      ],
      "text/plain": [
       "   Tree age  circumference\n",
       "1  1     118  30          \n",
       "2  1     484  58          \n",
       "3  1     664  87          \n",
       "4  1    1004 115          \n",
       "5  1    1231 120          \n",
       "6  1    1372 142          \n",
       "7  1    1582 145          \n",
       "8  2     118  33          \n",
       "9  2     484  69          \n",
       "10 2     664 111          \n",
       "11 2    1004 156          \n",
       "12 2    1231 172          \n",
       "13 2    1372 203          \n",
       "14 2    1582 203          \n",
       "15 3     118  30          \n",
       "16 3     484  51          \n",
       "17 3     664  75          \n",
       "18 3    1004 108          \n",
       "19 3    1231 115          \n",
       "20 3    1372 139          \n",
       "21 3    1582 140          \n",
       "22 4     118  32          \n",
       "23 4     484  62          \n",
       "24 4     664 112          \n",
       "25 4    1004 167          \n",
       "26 4    1231 179          \n",
       "27 4    1372 209          \n",
       "28 4    1582 214          \n",
       "29 5     118  30          \n",
       "30 5     484  49          \n",
       "31 5     664  81          \n",
       "32 5    1004 125          \n",
       "33 5    1231 142          \n",
       "34 5    1372 174          \n",
       "35 5    1582 177          "
      ]
     },
     "metadata": {},
     "output_type": "display_data"
    }
   ],
   "source": [
    "subset(Orange, age > 100)"
   ]
  },
  {
   "attachments": {},
   "cell_type": "markdown",
   "metadata": {},
   "source": [
    "Using ggplot2's datasets"
   ]
  },
  {
   "cell_type": "code",
   "execution_count": 2,
   "metadata": {
    "vscode": {
     "languageId": "r"
    }
   },
   "outputs": [
    {
     "data": {
      "text/html": [
       "<table class=\"dataframe\">\n",
       "<caption>A tibble: 6 × 11</caption>\n",
       "<thead>\n",
       "\t<tr><th scope=col>manufacturer</th><th scope=col>model</th><th scope=col>displ</th><th scope=col>year</th><th scope=col>cyl</th><th scope=col>trans</th><th scope=col>drv</th><th scope=col>cty</th><th scope=col>hwy</th><th scope=col>fl</th><th scope=col>class</th></tr>\n",
       "\t<tr><th scope=col>&lt;chr&gt;</th><th scope=col>&lt;chr&gt;</th><th scope=col>&lt;dbl&gt;</th><th scope=col>&lt;int&gt;</th><th scope=col>&lt;int&gt;</th><th scope=col>&lt;chr&gt;</th><th scope=col>&lt;chr&gt;</th><th scope=col>&lt;int&gt;</th><th scope=col>&lt;int&gt;</th><th scope=col>&lt;chr&gt;</th><th scope=col>&lt;chr&gt;</th></tr>\n",
       "</thead>\n",
       "<tbody>\n",
       "\t<tr><td>audi</td><td>a4</td><td>1.8</td><td>1999</td><td>4</td><td>auto(l5)  </td><td>f</td><td>18</td><td>29</td><td>p</td><td>compact</td></tr>\n",
       "\t<tr><td>audi</td><td>a4</td><td>1.8</td><td>1999</td><td>4</td><td>manual(m5)</td><td>f</td><td>21</td><td>29</td><td>p</td><td>compact</td></tr>\n",
       "\t<tr><td>audi</td><td>a4</td><td>2.0</td><td>2008</td><td>4</td><td>manual(m6)</td><td>f</td><td>20</td><td>31</td><td>p</td><td>compact</td></tr>\n",
       "\t<tr><td>audi</td><td>a4</td><td>2.0</td><td>2008</td><td>4</td><td>auto(av)  </td><td>f</td><td>21</td><td>30</td><td>p</td><td>compact</td></tr>\n",
       "\t<tr><td>audi</td><td>a4</td><td>2.8</td><td>1999</td><td>6</td><td>auto(l5)  </td><td>f</td><td>16</td><td>26</td><td>p</td><td>compact</td></tr>\n",
       "\t<tr><td>audi</td><td>a4</td><td>2.8</td><td>1999</td><td>6</td><td>manual(m5)</td><td>f</td><td>18</td><td>26</td><td>p</td><td>compact</td></tr>\n",
       "</tbody>\n",
       "</table>\n"
      ],
      "text/latex": [
       "A tibble: 6 × 11\n",
       "\\begin{tabular}{lllllllllll}\n",
       " manufacturer & model & displ & year & cyl & trans & drv & cty & hwy & fl & class\\\\\n",
       " <chr> & <chr> & <dbl> & <int> & <int> & <chr> & <chr> & <int> & <int> & <chr> & <chr>\\\\\n",
       "\\hline\n",
       "\t audi & a4 & 1.8 & 1999 & 4 & auto(l5)   & f & 18 & 29 & p & compact\\\\\n",
       "\t audi & a4 & 1.8 & 1999 & 4 & manual(m5) & f & 21 & 29 & p & compact\\\\\n",
       "\t audi & a4 & 2.0 & 2008 & 4 & manual(m6) & f & 20 & 31 & p & compact\\\\\n",
       "\t audi & a4 & 2.0 & 2008 & 4 & auto(av)   & f & 21 & 30 & p & compact\\\\\n",
       "\t audi & a4 & 2.8 & 1999 & 6 & auto(l5)   & f & 16 & 26 & p & compact\\\\\n",
       "\t audi & a4 & 2.8 & 1999 & 6 & manual(m5) & f & 18 & 26 & p & compact\\\\\n",
       "\\end{tabular}\n"
      ],
      "text/markdown": [
       "\n",
       "A tibble: 6 × 11\n",
       "\n",
       "| manufacturer &lt;chr&gt; | model &lt;chr&gt; | displ &lt;dbl&gt; | year &lt;int&gt; | cyl &lt;int&gt; | trans &lt;chr&gt; | drv &lt;chr&gt; | cty &lt;int&gt; | hwy &lt;int&gt; | fl &lt;chr&gt; | class &lt;chr&gt; |\n",
       "|---|---|---|---|---|---|---|---|---|---|---|\n",
       "| audi | a4 | 1.8 | 1999 | 4 | auto(l5)   | f | 18 | 29 | p | compact |\n",
       "| audi | a4 | 1.8 | 1999 | 4 | manual(m5) | f | 21 | 29 | p | compact |\n",
       "| audi | a4 | 2.0 | 2008 | 4 | manual(m6) | f | 20 | 31 | p | compact |\n",
       "| audi | a4 | 2.0 | 2008 | 4 | auto(av)   | f | 21 | 30 | p | compact |\n",
       "| audi | a4 | 2.8 | 1999 | 6 | auto(l5)   | f | 16 | 26 | p | compact |\n",
       "| audi | a4 | 2.8 | 1999 | 6 | manual(m5) | f | 18 | 26 | p | compact |\n",
       "\n"
      ],
      "text/plain": [
       "  manufacturer model displ year cyl trans      drv cty hwy fl class  \n",
       "1 audi         a4    1.8   1999 4   auto(l5)   f   18  29  p  compact\n",
       "2 audi         a4    1.8   1999 4   manual(m5) f   21  29  p  compact\n",
       "3 audi         a4    2.0   2008 4   manual(m6) f   20  31  p  compact\n",
       "4 audi         a4    2.0   2008 4   auto(av)   f   21  30  p  compact\n",
       "5 audi         a4    2.8   1999 6   auto(l5)   f   16  26  p  compact\n",
       "6 audi         a4    2.8   1999 6   manual(m5) f   18  26  p  compact"
      ]
     },
     "metadata": {},
     "output_type": "display_data"
    }
   ],
   "source": [
    "head(ggplot2::mpg)"
   ]
  },
  {
   "cell_type": "code",
   "execution_count": 3,
   "metadata": {
    "vscode": {
     "languageId": "r"
    }
   },
   "outputs": [
    {
     "data": {
      "text/html": [
       "<style>\n",
       ".list-inline {list-style: none; margin:0; padding: 0}\n",
       ".list-inline>li {display: inline-block}\n",
       ".list-inline>li:not(:last-child)::after {content: \"\\00b7\"; padding: 0 .5ex}\n",
       "</style>\n",
       "<ol class=list-inline><li>'compact'</li><li>'midsize'</li><li>'suv'</li><li>'2seater'</li><li>'minivan'</li><li>'pickup'</li><li>'subcompact'</li></ol>\n"
      ],
      "text/latex": [
       "\\begin{enumerate*}\n",
       "\\item 'compact'\n",
       "\\item 'midsize'\n",
       "\\item 'suv'\n",
       "\\item '2seater'\n",
       "\\item 'minivan'\n",
       "\\item 'pickup'\n",
       "\\item 'subcompact'\n",
       "\\end{enumerate*}\n"
      ],
      "text/markdown": [
       "1. 'compact'\n",
       "2. 'midsize'\n",
       "3. 'suv'\n",
       "4. '2seater'\n",
       "5. 'minivan'\n",
       "6. 'pickup'\n",
       "7. 'subcompact'\n",
       "\n",
       "\n"
      ],
      "text/plain": [
       "[1] \"compact\"    \"midsize\"    \"suv\"        \"2seater\"    \"minivan\"   \n",
       "[6] \"pickup\"     \"subcompact\""
      ]
     },
     "metadata": {},
     "output_type": "display_data"
    }
   ],
   "source": [
    "unique(ggplot2::mpg$class)"
   ]
  },
  {
   "attachments": {},
   "cell_type": "markdown",
   "metadata": {},
   "source": [
    "How does mileage varies with displacement?"
   ]
  },
  {
   "cell_type": "code",
   "execution_count": 9,
   "metadata": {
    "vscode": {
     "languageId": "r"
    }
   },
   "outputs": [
    {
     "data": {
      "text/html": [
       "<table class=\"dataframe\">\n",
       "<caption>A tibble: 33 × 11</caption>\n",
       "<thead>\n",
       "\t<tr><th scope=col>manufacturer</th><th scope=col>model</th><th scope=col>displ</th><th scope=col>year</th><th scope=col>cyl</th><th scope=col>trans</th><th scope=col>drv</th><th scope=col>cty</th><th scope=col>hwy</th><th scope=col>fl</th><th scope=col>class</th></tr>\n",
       "\t<tr><th scope=col>&lt;chr&gt;</th><th scope=col>&lt;chr&gt;</th><th scope=col>&lt;dbl&gt;</th><th scope=col>&lt;int&gt;</th><th scope=col>&lt;int&gt;</th><th scope=col>&lt;chr&gt;</th><th scope=col>&lt;chr&gt;</th><th scope=col>&lt;int&gt;</th><th scope=col>&lt;int&gt;</th><th scope=col>&lt;chr&gt;</th><th scope=col>&lt;chr&gt;</th></tr>\n",
       "</thead>\n",
       "<tbody>\n",
       "\t<tr><td>toyota</td><td>toyota tacoma 4wd  </td><td>2.7</td><td>2008</td><td>4</td><td>manual(m5)</td><td>4</td><td>17</td><td>22</td><td>r</td><td>pickup</td></tr>\n",
       "\t<tr><td>toyota</td><td>toyota tacoma 4wd  </td><td>2.7</td><td>1999</td><td>4</td><td>manual(m5)</td><td>4</td><td>15</td><td>20</td><td>r</td><td>pickup</td></tr>\n",
       "\t<tr><td>toyota</td><td>toyota tacoma 4wd  </td><td>2.7</td><td>1999</td><td>4</td><td>auto(l4)  </td><td>4</td><td>16</td><td>20</td><td>r</td><td>pickup</td></tr>\n",
       "\t<tr><td>toyota</td><td>toyota tacoma 4wd  </td><td>4.0</td><td>2008</td><td>6</td><td>auto(l5)  </td><td>4</td><td>16</td><td>20</td><td>r</td><td>pickup</td></tr>\n",
       "\t<tr><td>dodge </td><td>dakota pickup 4wd  </td><td>3.7</td><td>2008</td><td>6</td><td>manual(m6)</td><td>4</td><td>15</td><td>19</td><td>r</td><td>pickup</td></tr>\n",
       "\t<tr><td>dodge </td><td>dakota pickup 4wd  </td><td>4.7</td><td>2008</td><td>8</td><td>auto(l5)  </td><td>4</td><td>14</td><td>19</td><td>r</td><td>pickup</td></tr>\n",
       "\t<tr><td>dodge </td><td>dakota pickup 4wd  </td><td>4.7</td><td>2008</td><td>8</td><td>auto(l5)  </td><td>4</td><td>14</td><td>19</td><td>r</td><td>pickup</td></tr>\n",
       "\t<tr><td>toyota</td><td>toyota tacoma 4wd  </td><td>3.4</td><td>1999</td><td>6</td><td>auto(l4)  </td><td>4</td><td>15</td><td>19</td><td>r</td><td>pickup</td></tr>\n",
       "\t<tr><td>dodge </td><td>dakota pickup 4wd  </td><td>3.7</td><td>2008</td><td>6</td><td>auto(l4)  </td><td>4</td><td>14</td><td>18</td><td>r</td><td>pickup</td></tr>\n",
       "\t<tr><td>toyota</td><td>toyota tacoma 4wd  </td><td>4.0</td><td>2008</td><td>6</td><td>manual(m6)</td><td>4</td><td>15</td><td>18</td><td>r</td><td>pickup</td></tr>\n",
       "\t<tr><td>dodge </td><td>dakota pickup 4wd  </td><td>3.9</td><td>1999</td><td>6</td><td>auto(l4)  </td><td>4</td><td>13</td><td>17</td><td>r</td><td>pickup</td></tr>\n",
       "\t<tr><td>dodge </td><td>dakota pickup 4wd  </td><td>3.9</td><td>1999</td><td>6</td><td>manual(m5)</td><td>4</td><td>14</td><td>17</td><td>r</td><td>pickup</td></tr>\n",
       "\t<tr><td>dodge </td><td>dakota pickup 4wd  </td><td>5.2</td><td>1999</td><td>8</td><td>manual(m5)</td><td>4</td><td>11</td><td>17</td><td>r</td><td>pickup</td></tr>\n",
       "\t<tr><td>dodge </td><td>ram 1500 pickup 4wd</td><td>4.7</td><td>2008</td><td>8</td><td>auto(l5)  </td><td>4</td><td>13</td><td>17</td><td>r</td><td>pickup</td></tr>\n",
       "\t<tr><td>dodge </td><td>ram 1500 pickup 4wd</td><td>4.7</td><td>2008</td><td>8</td><td>auto(l5)  </td><td>4</td><td>13</td><td>17</td><td>r</td><td>pickup</td></tr>\n",
       "\t<tr><td>dodge </td><td>ram 1500 pickup 4wd</td><td>5.7</td><td>2008</td><td>8</td><td>auto(l5)  </td><td>4</td><td>13</td><td>17</td><td>r</td><td>pickup</td></tr>\n",
       "\t<tr><td>ford  </td><td>f150 pickup 4wd    </td><td>4.2</td><td>1999</td><td>6</td><td>auto(l4)  </td><td>4</td><td>14</td><td>17</td><td>r</td><td>pickup</td></tr>\n",
       "\t<tr><td>ford  </td><td>f150 pickup 4wd    </td><td>4.2</td><td>1999</td><td>6</td><td>manual(m5)</td><td>4</td><td>14</td><td>17</td><td>r</td><td>pickup</td></tr>\n",
       "\t<tr><td>ford  </td><td>f150 pickup 4wd    </td><td>4.6</td><td>2008</td><td>8</td><td>auto(l4)  </td><td>4</td><td>13</td><td>17</td><td>r</td><td>pickup</td></tr>\n",
       "\t<tr><td>ford  </td><td>f150 pickup 4wd    </td><td>5.4</td><td>2008</td><td>8</td><td>auto(l4)  </td><td>4</td><td>13</td><td>17</td><td>r</td><td>pickup</td></tr>\n",
       "\t<tr><td>toyota</td><td>toyota tacoma 4wd  </td><td>3.4</td><td>1999</td><td>6</td><td>manual(m5)</td><td>4</td><td>15</td><td>17</td><td>r</td><td>pickup</td></tr>\n",
       "\t<tr><td>dodge </td><td>ram 1500 pickup 4wd</td><td>4.7</td><td>2008</td><td>8</td><td>manual(m6)</td><td>4</td><td>12</td><td>16</td><td>r</td><td>pickup</td></tr>\n",
       "\t<tr><td>dodge </td><td>ram 1500 pickup 4wd</td><td>4.7</td><td>2008</td><td>8</td><td>manual(m6)</td><td>4</td><td>12</td><td>16</td><td>r</td><td>pickup</td></tr>\n",
       "\t<tr><td>dodge </td><td>ram 1500 pickup 4wd</td><td>5.2</td><td>1999</td><td>8</td><td>manual(m5)</td><td>4</td><td>11</td><td>16</td><td>r</td><td>pickup</td></tr>\n",
       "\t<tr><td>ford  </td><td>f150 pickup 4wd    </td><td>4.6</td><td>1999</td><td>8</td><td>manual(m5)</td><td>4</td><td>13</td><td>16</td><td>r</td><td>pickup</td></tr>\n",
       "\t<tr><td>ford  </td><td>f150 pickup 4wd    </td><td>4.6</td><td>1999</td><td>8</td><td>auto(l4)  </td><td>4</td><td>13</td><td>16</td><td>r</td><td>pickup</td></tr>\n",
       "\t<tr><td>dodge </td><td>dakota pickup 4wd  </td><td>5.2</td><td>1999</td><td>8</td><td>auto(l4)  </td><td>4</td><td>11</td><td>15</td><td>r</td><td>pickup</td></tr>\n",
       "\t<tr><td>dodge </td><td>ram 1500 pickup 4wd</td><td>5.2</td><td>1999</td><td>8</td><td>auto(l4)  </td><td>4</td><td>11</td><td>15</td><td>r</td><td>pickup</td></tr>\n",
       "\t<tr><td>dodge </td><td>ram 1500 pickup 4wd</td><td>5.9</td><td>1999</td><td>8</td><td>auto(l4)  </td><td>4</td><td>11</td><td>15</td><td>r</td><td>pickup</td></tr>\n",
       "\t<tr><td>ford  </td><td>f150 pickup 4wd    </td><td>5.4</td><td>1999</td><td>8</td><td>auto(l4)  </td><td>4</td><td>11</td><td>15</td><td>r</td><td>pickup</td></tr>\n",
       "\t<tr><td>dodge </td><td>dakota pickup 4wd  </td><td>4.7</td><td>2008</td><td>8</td><td>auto(l5)  </td><td>4</td><td> 9</td><td>12</td><td>e</td><td>pickup</td></tr>\n",
       "\t<tr><td>dodge </td><td>ram 1500 pickup 4wd</td><td>4.7</td><td>2008</td><td>8</td><td>auto(l5)  </td><td>4</td><td> 9</td><td>12</td><td>e</td><td>pickup</td></tr>\n",
       "\t<tr><td>dodge </td><td>ram 1500 pickup 4wd</td><td>4.7</td><td>2008</td><td>8</td><td>manual(m6)</td><td>4</td><td> 9</td><td>12</td><td>e</td><td>pickup</td></tr>\n",
       "</tbody>\n",
       "</table>\n"
      ],
      "text/latex": [
       "A tibble: 33 × 11\n",
       "\\begin{tabular}{lllllllllll}\n",
       " manufacturer & model & displ & year & cyl & trans & drv & cty & hwy & fl & class\\\\\n",
       " <chr> & <chr> & <dbl> & <int> & <int> & <chr> & <chr> & <int> & <int> & <chr> & <chr>\\\\\n",
       "\\hline\n",
       "\t toyota & toyota tacoma 4wd   & 2.7 & 2008 & 4 & manual(m5) & 4 & 17 & 22 & r & pickup\\\\\n",
       "\t toyota & toyota tacoma 4wd   & 2.7 & 1999 & 4 & manual(m5) & 4 & 15 & 20 & r & pickup\\\\\n",
       "\t toyota & toyota tacoma 4wd   & 2.7 & 1999 & 4 & auto(l4)   & 4 & 16 & 20 & r & pickup\\\\\n",
       "\t toyota & toyota tacoma 4wd   & 4.0 & 2008 & 6 & auto(l5)   & 4 & 16 & 20 & r & pickup\\\\\n",
       "\t dodge  & dakota pickup 4wd   & 3.7 & 2008 & 6 & manual(m6) & 4 & 15 & 19 & r & pickup\\\\\n",
       "\t dodge  & dakota pickup 4wd   & 4.7 & 2008 & 8 & auto(l5)   & 4 & 14 & 19 & r & pickup\\\\\n",
       "\t dodge  & dakota pickup 4wd   & 4.7 & 2008 & 8 & auto(l5)   & 4 & 14 & 19 & r & pickup\\\\\n",
       "\t toyota & toyota tacoma 4wd   & 3.4 & 1999 & 6 & auto(l4)   & 4 & 15 & 19 & r & pickup\\\\\n",
       "\t dodge  & dakota pickup 4wd   & 3.7 & 2008 & 6 & auto(l4)   & 4 & 14 & 18 & r & pickup\\\\\n",
       "\t toyota & toyota tacoma 4wd   & 4.0 & 2008 & 6 & manual(m6) & 4 & 15 & 18 & r & pickup\\\\\n",
       "\t dodge  & dakota pickup 4wd   & 3.9 & 1999 & 6 & auto(l4)   & 4 & 13 & 17 & r & pickup\\\\\n",
       "\t dodge  & dakota pickup 4wd   & 3.9 & 1999 & 6 & manual(m5) & 4 & 14 & 17 & r & pickup\\\\\n",
       "\t dodge  & dakota pickup 4wd   & 5.2 & 1999 & 8 & manual(m5) & 4 & 11 & 17 & r & pickup\\\\\n",
       "\t dodge  & ram 1500 pickup 4wd & 4.7 & 2008 & 8 & auto(l5)   & 4 & 13 & 17 & r & pickup\\\\\n",
       "\t dodge  & ram 1500 pickup 4wd & 4.7 & 2008 & 8 & auto(l5)   & 4 & 13 & 17 & r & pickup\\\\\n",
       "\t dodge  & ram 1500 pickup 4wd & 5.7 & 2008 & 8 & auto(l5)   & 4 & 13 & 17 & r & pickup\\\\\n",
       "\t ford   & f150 pickup 4wd     & 4.2 & 1999 & 6 & auto(l4)   & 4 & 14 & 17 & r & pickup\\\\\n",
       "\t ford   & f150 pickup 4wd     & 4.2 & 1999 & 6 & manual(m5) & 4 & 14 & 17 & r & pickup\\\\\n",
       "\t ford   & f150 pickup 4wd     & 4.6 & 2008 & 8 & auto(l4)   & 4 & 13 & 17 & r & pickup\\\\\n",
       "\t ford   & f150 pickup 4wd     & 5.4 & 2008 & 8 & auto(l4)   & 4 & 13 & 17 & r & pickup\\\\\n",
       "\t toyota & toyota tacoma 4wd   & 3.4 & 1999 & 6 & manual(m5) & 4 & 15 & 17 & r & pickup\\\\\n",
       "\t dodge  & ram 1500 pickup 4wd & 4.7 & 2008 & 8 & manual(m6) & 4 & 12 & 16 & r & pickup\\\\\n",
       "\t dodge  & ram 1500 pickup 4wd & 4.7 & 2008 & 8 & manual(m6) & 4 & 12 & 16 & r & pickup\\\\\n",
       "\t dodge  & ram 1500 pickup 4wd & 5.2 & 1999 & 8 & manual(m5) & 4 & 11 & 16 & r & pickup\\\\\n",
       "\t ford   & f150 pickup 4wd     & 4.6 & 1999 & 8 & manual(m5) & 4 & 13 & 16 & r & pickup\\\\\n",
       "\t ford   & f150 pickup 4wd     & 4.6 & 1999 & 8 & auto(l4)   & 4 & 13 & 16 & r & pickup\\\\\n",
       "\t dodge  & dakota pickup 4wd   & 5.2 & 1999 & 8 & auto(l4)   & 4 & 11 & 15 & r & pickup\\\\\n",
       "\t dodge  & ram 1500 pickup 4wd & 5.2 & 1999 & 8 & auto(l4)   & 4 & 11 & 15 & r & pickup\\\\\n",
       "\t dodge  & ram 1500 pickup 4wd & 5.9 & 1999 & 8 & auto(l4)   & 4 & 11 & 15 & r & pickup\\\\\n",
       "\t ford   & f150 pickup 4wd     & 5.4 & 1999 & 8 & auto(l4)   & 4 & 11 & 15 & r & pickup\\\\\n",
       "\t dodge  & dakota pickup 4wd   & 4.7 & 2008 & 8 & auto(l5)   & 4 &  9 & 12 & e & pickup\\\\\n",
       "\t dodge  & ram 1500 pickup 4wd & 4.7 & 2008 & 8 & auto(l5)   & 4 &  9 & 12 & e & pickup\\\\\n",
       "\t dodge  & ram 1500 pickup 4wd & 4.7 & 2008 & 8 & manual(m6) & 4 &  9 & 12 & e & pickup\\\\\n",
       "\\end{tabular}\n"
      ],
      "text/markdown": [
       "\n",
       "A tibble: 33 × 11\n",
       "\n",
       "| manufacturer &lt;chr&gt; | model &lt;chr&gt; | displ &lt;dbl&gt; | year &lt;int&gt; | cyl &lt;int&gt; | trans &lt;chr&gt; | drv &lt;chr&gt; | cty &lt;int&gt; | hwy &lt;int&gt; | fl &lt;chr&gt; | class &lt;chr&gt; |\n",
       "|---|---|---|---|---|---|---|---|---|---|---|\n",
       "| toyota | toyota tacoma 4wd   | 2.7 | 2008 | 4 | manual(m5) | 4 | 17 | 22 | r | pickup |\n",
       "| toyota | toyota tacoma 4wd   | 2.7 | 1999 | 4 | manual(m5) | 4 | 15 | 20 | r | pickup |\n",
       "| toyota | toyota tacoma 4wd   | 2.7 | 1999 | 4 | auto(l4)   | 4 | 16 | 20 | r | pickup |\n",
       "| toyota | toyota tacoma 4wd   | 4.0 | 2008 | 6 | auto(l5)   | 4 | 16 | 20 | r | pickup |\n",
       "| dodge  | dakota pickup 4wd   | 3.7 | 2008 | 6 | manual(m6) | 4 | 15 | 19 | r | pickup |\n",
       "| dodge  | dakota pickup 4wd   | 4.7 | 2008 | 8 | auto(l5)   | 4 | 14 | 19 | r | pickup |\n",
       "| dodge  | dakota pickup 4wd   | 4.7 | 2008 | 8 | auto(l5)   | 4 | 14 | 19 | r | pickup |\n",
       "| toyota | toyota tacoma 4wd   | 3.4 | 1999 | 6 | auto(l4)   | 4 | 15 | 19 | r | pickup |\n",
       "| dodge  | dakota pickup 4wd   | 3.7 | 2008 | 6 | auto(l4)   | 4 | 14 | 18 | r | pickup |\n",
       "| toyota | toyota tacoma 4wd   | 4.0 | 2008 | 6 | manual(m6) | 4 | 15 | 18 | r | pickup |\n",
       "| dodge  | dakota pickup 4wd   | 3.9 | 1999 | 6 | auto(l4)   | 4 | 13 | 17 | r | pickup |\n",
       "| dodge  | dakota pickup 4wd   | 3.9 | 1999 | 6 | manual(m5) | 4 | 14 | 17 | r | pickup |\n",
       "| dodge  | dakota pickup 4wd   | 5.2 | 1999 | 8 | manual(m5) | 4 | 11 | 17 | r | pickup |\n",
       "| dodge  | ram 1500 pickup 4wd | 4.7 | 2008 | 8 | auto(l5)   | 4 | 13 | 17 | r | pickup |\n",
       "| dodge  | ram 1500 pickup 4wd | 4.7 | 2008 | 8 | auto(l5)   | 4 | 13 | 17 | r | pickup |\n",
       "| dodge  | ram 1500 pickup 4wd | 5.7 | 2008 | 8 | auto(l5)   | 4 | 13 | 17 | r | pickup |\n",
       "| ford   | f150 pickup 4wd     | 4.2 | 1999 | 6 | auto(l4)   | 4 | 14 | 17 | r | pickup |\n",
       "| ford   | f150 pickup 4wd     | 4.2 | 1999 | 6 | manual(m5) | 4 | 14 | 17 | r | pickup |\n",
       "| ford   | f150 pickup 4wd     | 4.6 | 2008 | 8 | auto(l4)   | 4 | 13 | 17 | r | pickup |\n",
       "| ford   | f150 pickup 4wd     | 5.4 | 2008 | 8 | auto(l4)   | 4 | 13 | 17 | r | pickup |\n",
       "| toyota | toyota tacoma 4wd   | 3.4 | 1999 | 6 | manual(m5) | 4 | 15 | 17 | r | pickup |\n",
       "| dodge  | ram 1500 pickup 4wd | 4.7 | 2008 | 8 | manual(m6) | 4 | 12 | 16 | r | pickup |\n",
       "| dodge  | ram 1500 pickup 4wd | 4.7 | 2008 | 8 | manual(m6) | 4 | 12 | 16 | r | pickup |\n",
       "| dodge  | ram 1500 pickup 4wd | 5.2 | 1999 | 8 | manual(m5) | 4 | 11 | 16 | r | pickup |\n",
       "| ford   | f150 pickup 4wd     | 4.6 | 1999 | 8 | manual(m5) | 4 | 13 | 16 | r | pickup |\n",
       "| ford   | f150 pickup 4wd     | 4.6 | 1999 | 8 | auto(l4)   | 4 | 13 | 16 | r | pickup |\n",
       "| dodge  | dakota pickup 4wd   | 5.2 | 1999 | 8 | auto(l4)   | 4 | 11 | 15 | r | pickup |\n",
       "| dodge  | ram 1500 pickup 4wd | 5.2 | 1999 | 8 | auto(l4)   | 4 | 11 | 15 | r | pickup |\n",
       "| dodge  | ram 1500 pickup 4wd | 5.9 | 1999 | 8 | auto(l4)   | 4 | 11 | 15 | r | pickup |\n",
       "| ford   | f150 pickup 4wd     | 5.4 | 1999 | 8 | auto(l4)   | 4 | 11 | 15 | r | pickup |\n",
       "| dodge  | dakota pickup 4wd   | 4.7 | 2008 | 8 | auto(l5)   | 4 |  9 | 12 | e | pickup |\n",
       "| dodge  | ram 1500 pickup 4wd | 4.7 | 2008 | 8 | auto(l5)   | 4 |  9 | 12 | e | pickup |\n",
       "| dodge  | ram 1500 pickup 4wd | 4.7 | 2008 | 8 | manual(m6) | 4 |  9 | 12 | e | pickup |\n",
       "\n"
      ],
      "text/plain": [
       "   manufacturer model               displ year cyl trans      drv cty hwy fl\n",
       "1  toyota       toyota tacoma 4wd   2.7   2008 4   manual(m5) 4   17  22  r \n",
       "2  toyota       toyota tacoma 4wd   2.7   1999 4   manual(m5) 4   15  20  r \n",
       "3  toyota       toyota tacoma 4wd   2.7   1999 4   auto(l4)   4   16  20  r \n",
       "4  toyota       toyota tacoma 4wd   4.0   2008 6   auto(l5)   4   16  20  r \n",
       "5  dodge        dakota pickup 4wd   3.7   2008 6   manual(m6) 4   15  19  r \n",
       "6  dodge        dakota pickup 4wd   4.7   2008 8   auto(l5)   4   14  19  r \n",
       "7  dodge        dakota pickup 4wd   4.7   2008 8   auto(l5)   4   14  19  r \n",
       "8  toyota       toyota tacoma 4wd   3.4   1999 6   auto(l4)   4   15  19  r \n",
       "9  dodge        dakota pickup 4wd   3.7   2008 6   auto(l4)   4   14  18  r \n",
       "10 toyota       toyota tacoma 4wd   4.0   2008 6   manual(m6) 4   15  18  r \n",
       "11 dodge        dakota pickup 4wd   3.9   1999 6   auto(l4)   4   13  17  r \n",
       "12 dodge        dakota pickup 4wd   3.9   1999 6   manual(m5) 4   14  17  r \n",
       "13 dodge        dakota pickup 4wd   5.2   1999 8   manual(m5) 4   11  17  r \n",
       "14 dodge        ram 1500 pickup 4wd 4.7   2008 8   auto(l5)   4   13  17  r \n",
       "15 dodge        ram 1500 pickup 4wd 4.7   2008 8   auto(l5)   4   13  17  r \n",
       "16 dodge        ram 1500 pickup 4wd 5.7   2008 8   auto(l5)   4   13  17  r \n",
       "17 ford         f150 pickup 4wd     4.2   1999 6   auto(l4)   4   14  17  r \n",
       "18 ford         f150 pickup 4wd     4.2   1999 6   manual(m5) 4   14  17  r \n",
       "19 ford         f150 pickup 4wd     4.6   2008 8   auto(l4)   4   13  17  r \n",
       "20 ford         f150 pickup 4wd     5.4   2008 8   auto(l4)   4   13  17  r \n",
       "21 toyota       toyota tacoma 4wd   3.4   1999 6   manual(m5) 4   15  17  r \n",
       "22 dodge        ram 1500 pickup 4wd 4.7   2008 8   manual(m6) 4   12  16  r \n",
       "23 dodge        ram 1500 pickup 4wd 4.7   2008 8   manual(m6) 4   12  16  r \n",
       "24 dodge        ram 1500 pickup 4wd 5.2   1999 8   manual(m5) 4   11  16  r \n",
       "25 ford         f150 pickup 4wd     4.6   1999 8   manual(m5) 4   13  16  r \n",
       "26 ford         f150 pickup 4wd     4.6   1999 8   auto(l4)   4   13  16  r \n",
       "27 dodge        dakota pickup 4wd   5.2   1999 8   auto(l4)   4   11  15  r \n",
       "28 dodge        ram 1500 pickup 4wd 5.2   1999 8   auto(l4)   4   11  15  r \n",
       "29 dodge        ram 1500 pickup 4wd 5.9   1999 8   auto(l4)   4   11  15  r \n",
       "30 ford         f150 pickup 4wd     5.4   1999 8   auto(l4)   4   11  15  r \n",
       "31 dodge        dakota pickup 4wd   4.7   2008 8   auto(l5)   4    9  12  e \n",
       "32 dodge        ram 1500 pickup 4wd 4.7   2008 8   auto(l5)   4    9  12  e \n",
       "33 dodge        ram 1500 pickup 4wd 4.7   2008 8   manual(m6) 4    9  12  e \n",
       "   class \n",
       "1  pickup\n",
       "2  pickup\n",
       "3  pickup\n",
       "4  pickup\n",
       "5  pickup\n",
       "6  pickup\n",
       "7  pickup\n",
       "8  pickup\n",
       "9  pickup\n",
       "10 pickup\n",
       "11 pickup\n",
       "12 pickup\n",
       "13 pickup\n",
       "14 pickup\n",
       "15 pickup\n",
       "16 pickup\n",
       "17 pickup\n",
       "18 pickup\n",
       "19 pickup\n",
       "20 pickup\n",
       "21 pickup\n",
       "22 pickup\n",
       "23 pickup\n",
       "24 pickup\n",
       "25 pickup\n",
       "26 pickup\n",
       "27 pickup\n",
       "28 pickup\n",
       "29 pickup\n",
       "30 pickup\n",
       "31 pickup\n",
       "32 pickup\n",
       "33 pickup"
      ]
     },
     "metadata": {},
     "output_type": "display_data"
    }
   ],
   "source": [
    "ggplot2::mpg %>% filter(class == \"pickup\") %>% arrange(desc(hwy))"
   ]
  },
  {
   "cell_type": "code",
   "execution_count": 17,
   "metadata": {
    "vscode": {
     "languageId": "r"
    }
   },
   "outputs": [
    {
     "name": "stderr",
     "output_type": "stream",
     "text": [
      "\u001b[1m\u001b[22m`geom_smooth()` using method = 'loess' and formula = 'y ~ x'\n"
     ]
    },
    {
     "data": {
      "image/png": "[encoded data removed]",
      "text/plain": [
       "plot without title"
      ]
     },
     "metadata": {
      "image/png": {
       "height": 420,
       "width": 420
      }
     },
     "output_type": "display_data"
    }
   ],
   "source": [
    "ggplot2::mpg %>% ggplot(aes(x=displ, y=hwy)) +\n",
    "    scale_x_reverse() +  # Reverse the x-axis\n",
    "    geom_point(shape = 1) +    # Use hollow circles\n",
    "    geom_smooth()  # Add a smooth line\n",
    "                             #  (by default includes 95% confidence region)"
   ]
  }
 ],
 "metadata": {
  "kernelspec": {
   "display_name": "R",
   "language": "R",
   "name": "ir"
  },
  "language_info": {
   "codemirror_mode": "r",
   "file_extension": ".r",
   "mimetype": "text/x-r-source",
   "name": "R",
   "pygments_lexer": "r",
   "version": "4.2.3"
  },
  "orig_nbformat": 4
 },
 "nbformat": 4,
 "nbformat_minor": 2
}
