{
 "cells": [
  {
   "cell_type": "markdown",
   "metadata": {},
   "source": [
    "# 3. Data transformation\n",
    "\n",
    "Taken from [the book](https://r4ds.hadley.nz/data-transform)."
   ]
  },
  {
   "cell_type": "code",
   "execution_count": 1,
   "metadata": {
    "vscode": {
     "languageId": "r"
    }
   },
   "outputs": [
    {
     "name": "stderr",
     "output_type": "stream",
     "text": [
      "── \u001b[1mAttaching core tidyverse packages\u001b[22m ──────────────────────── tidyverse 2.0.0 ──\n",
      "\u001b[32m✔\u001b[39m \u001b[34mdplyr    \u001b[39m 1.1.3     \u001b[32m✔\u001b[39m \u001b[34mreadr    \u001b[39m 2.1.4\n",
      "\u001b[32m✔\u001b[39m \u001b[34mforcats  \u001b[39m 1.0.0     \u001b[32m✔\u001b[39m \u001b[34mstringr  \u001b[39m 1.5.0\n",
      "\u001b[32m✔\u001b[39m \u001b[34mggplot2  \u001b[39m 3.4.4     \u001b[32m✔\u001b[39m \u001b[34mtibble   \u001b[39m 3.2.1\n",
      "\u001b[32m✔\u001b[39m \u001b[34mlubridate\u001b[39m 1.9.3     \u001b[32m✔\u001b[39m \u001b[34mtidyr    \u001b[39m 1.3.0\n",
      "\u001b[32m✔\u001b[39m \u001b[34mpurrr    \u001b[39m 1.0.2     \n",
      "── \u001b[1mConflicts\u001b[22m ────────────────────────────────────────── tidyverse_conflicts() ──\n",
      "\u001b[31m✖\u001b[39m \u001b[34mdplyr\u001b[39m::\u001b[32mfilter()\u001b[39m masks \u001b[34mstats\u001b[39m::filter()\n",
      "\u001b[31m✖\u001b[39m \u001b[34mdplyr\u001b[39m::\u001b[32mlag()\u001b[39m    masks \u001b[34mstats\u001b[39m::lag()\n",
      "\u001b[36mℹ\u001b[39m Use the conflicted package (\u001b[3m\u001b[34m<http://conflicted.r-lib.org/>\u001b[39m\u001b[23m) to force all conflicts to become errors\n"
     ]
    }
   ],
   "source": [
    "library(nycflights13)\n",
    "library(tidyverse)\n"
   ]
  },
  {
   "cell_type": "markdown",
   "metadata": {},
   "source": [
    "## Exploring the data"
   ]
  },
  {
   "cell_type": "code",
   "execution_count": 3,
   "metadata": {
    "vscode": {
     "languageId": "r"
    }
   },
   "outputs": [
    {
     "name": "stdout",
     "output_type": "stream",
     "text": [
      "Rows: 336,776\n",
      "Columns: 19\n",
      "$ year           \u001b[3m\u001b[90m<int>\u001b[39m\u001b[23m 2013, 2013, 2013, 2013, 2013, 2013, 2013, 2013, 2013, 2…\n",
      "$ month          \u001b[3m\u001b[90m<int>\u001b[39m\u001b[23m 1, 1, 1, 1, 1, 1, 1, 1, 1, 1, 1, 1, 1, 1, 1, 1, 1, 1, 1…\n",
      "$ day            \u001b[3m\u001b[90m<int>\u001b[39m\u001b[23m 1, 1, 1, 1, 1, 1, 1, 1, 1, 1, 1, 1, 1, 1, 1, 1, 1, 1, 1…\n",
      "$ dep_time       \u001b[3m\u001b[90m<int>\u001b[39m\u001b[23m 517, 533, 542, 544, 554, 554, 555, 557, 557, 558, 558, …\n",
      "$ sched_dep_time \u001b[3m\u001b[90m<int>\u001b[39m\u001b[23m 515, 529, 540, 545, 600, 558, 600, 600, 600, 600, 600, …\n",
      "$ dep_delay      \u001b[3m\u001b[90m<dbl>\u001b[39m\u001b[23m 2, 4, 2, -1, -6, -4, -5, -3, -3, -2, -2, -2, -2, -2, -1…\n",
      "$ arr_time       \u001b[3m\u001b[90m<int>\u001b[39m\u001b[23m 830, 850, 923, 1004, 812, 740, 913, 709, 838, 753, 849,…\n",
      "$ sched_arr_time \u001b[3m\u001b[90m<int>\u001b[39m\u001b[23m 819, 830, 850, 1022, 837, 728, 854, 723, 846, 745, 851,…\n",
      "$ arr_delay      \u001b[3m\u001b[90m<dbl>\u001b[39m\u001b[23m 11, 20, 33, -18, -25, 12, 19, -14, -8, 8, -2, -3, 7, -1…\n",
      "$ carrier        \u001b[3m\u001b[90m<chr>\u001b[39m\u001b[23m \"UA\", \"UA\", \"AA\", \"B6\", \"DL\", \"UA\", \"B6\", \"EV\", \"B6\", \"…\n",
      "$ flight         \u001b[3m\u001b[90m<int>\u001b[39m\u001b[23m 1545, 1714, 1141, 725, 461, 1696, 507, 5708, 79, 301, 4…\n",
      "$ tailnum        \u001b[3m\u001b[90m<chr>\u001b[39m\u001b[23m \"N14228\", \"N24211\", \"N619AA\", \"N804JB\", \"N668DN\", \"N394…\n",
      "$ origin         \u001b[3m\u001b[90m<chr>\u001b[39m\u001b[23m \"EWR\", \"LGA\", \"JFK\", \"JFK\", \"LGA\", \"EWR\", \"EWR\", \"LGA\",…\n",
      "$ dest           \u001b[3m\u001b[90m<chr>\u001b[39m\u001b[23m \"IAH\", \"IAH\", \"MIA\", \"BQN\", \"ATL\", \"ORD\", \"FLL\", \"IAD\",…\n",
      "$ air_time       \u001b[3m\u001b[90m<dbl>\u001b[39m\u001b[23m 227, 227, 160, 183, 116, 150, 158, 53, 140, 138, 149, 1…\n",
      "$ distance       \u001b[3m\u001b[90m<dbl>\u001b[39m\u001b[23m 1400, 1416, 1089, 1576, 762, 719, 1065, 229, 944, 733, …\n",
      "$ hour           \u001b[3m\u001b[90m<dbl>\u001b[39m\u001b[23m 5, 5, 5, 5, 6, 5, 6, 6, 6, 6, 6, 6, 6, 6, 6, 5, 6, 6, 6…\n",
      "$ minute         \u001b[3m\u001b[90m<dbl>\u001b[39m\u001b[23m 15, 29, 40, 45, 0, 58, 0, 0, 0, 0, 0, 0, 0, 0, 0, 59, 0…\n",
      "$ time_hour      \u001b[3m\u001b[90m<dttm>\u001b[39m\u001b[23m 2013-01-01 05:00:00, 2013-01-01 05:00:00, 2013-01-01 0…\n"
     ]
    }
   ],
   "source": [
    "glimpse(flights)\n"
   ]
  },
  {
   "cell_type": "code",
   "execution_count": 4,
   "metadata": {
    "vscode": {
     "languageId": "r"
    }
   },
   "outputs": [
    {
     "data": {
      "text/html": [
       "<table class=\"dataframe\">\n",
       "<caption>A tibble: 6 × 19</caption>\n",
       "<thead>\n",
       "\t<tr><th scope=col>year</th><th scope=col>month</th><th scope=col>day</th><th scope=col>dep_time</th><th scope=col>sched_dep_time</th><th scope=col>dep_delay</th><th scope=col>arr_time</th><th scope=col>sched_arr_time</th><th scope=col>arr_delay</th><th scope=col>carrier</th><th scope=col>flight</th><th scope=col>tailnum</th><th scope=col>origin</th><th scope=col>dest</th><th scope=col>air_time</th><th scope=col>distance</th><th scope=col>hour</th><th scope=col>minute</th><th scope=col>time_hour</th></tr>\n",
       "\t<tr><th scope=col>&lt;int&gt;</th><th scope=col>&lt;int&gt;</th><th scope=col>&lt;int&gt;</th><th scope=col>&lt;int&gt;</th><th scope=col>&lt;int&gt;</th><th scope=col>&lt;dbl&gt;</th><th scope=col>&lt;int&gt;</th><th scope=col>&lt;int&gt;</th><th scope=col>&lt;dbl&gt;</th><th scope=col>&lt;chr&gt;</th><th scope=col>&lt;int&gt;</th><th scope=col>&lt;chr&gt;</th><th scope=col>&lt;chr&gt;</th><th scope=col>&lt;chr&gt;</th><th scope=col>&lt;dbl&gt;</th><th scope=col>&lt;dbl&gt;</th><th scope=col>&lt;dbl&gt;</th><th scope=col>&lt;dbl&gt;</th><th scope=col>&lt;dttm&gt;</th></tr>\n",
       "</thead>\n",
       "<tbody>\n",
       "\t<tr><td>2013</td><td>1</td><td>1</td><td>517</td><td>515</td><td> 2</td><td> 830</td><td> 819</td><td> 11</td><td>UA</td><td>1545</td><td>N14228</td><td>EWR</td><td>IAH</td><td>227</td><td>1400</td><td>5</td><td>15</td><td>2013-01-01 05:00:00</td></tr>\n",
       "\t<tr><td>2013</td><td>1</td><td>1</td><td>533</td><td>529</td><td> 4</td><td> 850</td><td> 830</td><td> 20</td><td>UA</td><td>1714</td><td>N24211</td><td>LGA</td><td>IAH</td><td>227</td><td>1416</td><td>5</td><td>29</td><td>2013-01-01 05:00:00</td></tr>\n",
       "\t<tr><td>2013</td><td>1</td><td>1</td><td>542</td><td>540</td><td> 2</td><td> 923</td><td> 850</td><td> 33</td><td>AA</td><td>1141</td><td>N619AA</td><td>JFK</td><td>MIA</td><td>160</td><td>1089</td><td>5</td><td>40</td><td>2013-01-01 05:00:00</td></tr>\n",
       "\t<tr><td>2013</td><td>1</td><td>1</td><td>544</td><td>545</td><td>-1</td><td>1004</td><td>1022</td><td>-18</td><td>B6</td><td> 725</td><td>N804JB</td><td>JFK</td><td>BQN</td><td>183</td><td>1576</td><td>5</td><td>45</td><td>2013-01-01 05:00:00</td></tr>\n",
       "\t<tr><td>2013</td><td>1</td><td>1</td><td>554</td><td>600</td><td>-6</td><td> 812</td><td> 837</td><td>-25</td><td>DL</td><td> 461</td><td>N668DN</td><td>LGA</td><td>ATL</td><td>116</td><td> 762</td><td>6</td><td> 0</td><td>2013-01-01 06:00:00</td></tr>\n",
       "\t<tr><td>2013</td><td>1</td><td>1</td><td>554</td><td>558</td><td>-4</td><td> 740</td><td> 728</td><td> 12</td><td>UA</td><td>1696</td><td>N39463</td><td>EWR</td><td>ORD</td><td>150</td><td> 719</td><td>5</td><td>58</td><td>2013-01-01 05:00:00</td></tr>\n",
       "</tbody>\n",
       "</table>\n"
      ],
      "text/latex": [
       "A tibble: 6 × 19\n",
       "\\begin{tabular}{lllllllllllllllllll}\n",
       " year & month & day & dep\\_time & sched\\_dep\\_time & dep\\_delay & arr\\_time & sched\\_arr\\_time & arr\\_delay & carrier & flight & tailnum & origin & dest & air\\_time & distance & hour & minute & time\\_hour\\\\\n",
       " <int> & <int> & <int> & <int> & <int> & <dbl> & <int> & <int> & <dbl> & <chr> & <int> & <chr> & <chr> & <chr> & <dbl> & <dbl> & <dbl> & <dbl> & <dttm>\\\\\n",
       "\\hline\n",
       "\t 2013 & 1 & 1 & 517 & 515 &  2 &  830 &  819 &  11 & UA & 1545 & N14228 & EWR & IAH & 227 & 1400 & 5 & 15 & 2013-01-01 05:00:00\\\\\n",
       "\t 2013 & 1 & 1 & 533 & 529 &  4 &  850 &  830 &  20 & UA & 1714 & N24211 & LGA & IAH & 227 & 1416 & 5 & 29 & 2013-01-01 05:00:00\\\\\n",
       "\t 2013 & 1 & 1 & 542 & 540 &  2 &  923 &  850 &  33 & AA & 1141 & N619AA & JFK & MIA & 160 & 1089 & 5 & 40 & 2013-01-01 05:00:00\\\\\n",
       "\t 2013 & 1 & 1 & 544 & 545 & -1 & 1004 & 1022 & -18 & B6 &  725 & N804JB & JFK & BQN & 183 & 1576 & 5 & 45 & 2013-01-01 05:00:00\\\\\n",
       "\t 2013 & 1 & 1 & 554 & 600 & -6 &  812 &  837 & -25 & DL &  461 & N668DN & LGA & ATL & 116 &  762 & 6 &  0 & 2013-01-01 06:00:00\\\\\n",
       "\t 2013 & 1 & 1 & 554 & 558 & -4 &  740 &  728 &  12 & UA & 1696 & N39463 & EWR & ORD & 150 &  719 & 5 & 58 & 2013-01-01 05:00:00\\\\\n",
       "\\end{tabular}\n"
      ],
      "text/markdown": [
       "\n",
       "A tibble: 6 × 19\n",
       "\n",
       "| year &lt;int&gt; | month &lt;int&gt; | day &lt;int&gt; | dep_time &lt;int&gt; | sched_dep_time &lt;int&gt; | dep_delay &lt;dbl&gt; | arr_time &lt;int&gt; | sched_arr_time &lt;int&gt; | arr_delay &lt;dbl&gt; | carrier &lt;chr&gt; | flight &lt;int&gt; | tailnum &lt;chr&gt; | origin &lt;chr&gt; | dest &lt;chr&gt; | air_time &lt;dbl&gt; | distance &lt;dbl&gt; | hour &lt;dbl&gt; | minute &lt;dbl&gt; | time_hour &lt;dttm&gt; |\n",
       "|---|---|---|---|---|---|---|---|---|---|---|---|---|---|---|---|---|---|---|\n",
       "| 2013 | 1 | 1 | 517 | 515 |  2 |  830 |  819 |  11 | UA | 1545 | N14228 | EWR | IAH | 227 | 1400 | 5 | 15 | 2013-01-01 05:00:00 |\n",
       "| 2013 | 1 | 1 | 533 | 529 |  4 |  850 |  830 |  20 | UA | 1714 | N24211 | LGA | IAH | 227 | 1416 | 5 | 29 | 2013-01-01 05:00:00 |\n",
       "| 2013 | 1 | 1 | 542 | 540 |  2 |  923 |  850 |  33 | AA | 1141 | N619AA | JFK | MIA | 160 | 1089 | 5 | 40 | 2013-01-01 05:00:00 |\n",
       "| 2013 | 1 | 1 | 544 | 545 | -1 | 1004 | 1022 | -18 | B6 |  725 | N804JB | JFK | BQN | 183 | 1576 | 5 | 45 | 2013-01-01 05:00:00 |\n",
       "| 2013 | 1 | 1 | 554 | 600 | -6 |  812 |  837 | -25 | DL |  461 | N668DN | LGA | ATL | 116 |  762 | 6 |  0 | 2013-01-01 06:00:00 |\n",
       "| 2013 | 1 | 1 | 554 | 558 | -4 |  740 |  728 |  12 | UA | 1696 | N39463 | EWR | ORD | 150 |  719 | 5 | 58 | 2013-01-01 05:00:00 |\n",
       "\n"
      ],
      "text/plain": [
       "  year month day dep_time sched_dep_time dep_delay arr_time sched_arr_time\n",
       "1 2013 1     1   517      515             2         830      819          \n",
       "2 2013 1     1   533      529             4         850      830          \n",
       "3 2013 1     1   542      540             2         923      850          \n",
       "4 2013 1     1   544      545            -1        1004     1022          \n",
       "5 2013 1     1   554      600            -6         812      837          \n",
       "6 2013 1     1   554      558            -4         740      728          \n",
       "  arr_delay carrier flight tailnum origin dest air_time distance hour minute\n",
       "1  11       UA      1545   N14228  EWR    IAH  227      1400     5    15    \n",
       "2  20       UA      1714   N24211  LGA    IAH  227      1416     5    29    \n",
       "3  33       AA      1141   N619AA  JFK    MIA  160      1089     5    40    \n",
       "4 -18       B6       725   N804JB  JFK    BQN  183      1576     5    45    \n",
       "5 -25       DL       461   N668DN  LGA    ATL  116       762     6     0    \n",
       "6  12       UA      1696   N39463  EWR    ORD  150       719     5    58    \n",
       "  time_hour          \n",
       "1 2013-01-01 05:00:00\n",
       "2 2013-01-01 05:00:00\n",
       "3 2013-01-01 05:00:00\n",
       "4 2013-01-01 05:00:00\n",
       "5 2013-01-01 06:00:00\n",
       "6 2013-01-01 05:00:00"
      ]
     },
     "metadata": {},
     "output_type": "display_data"
    }
   ],
   "source": [
    "head(flights)\n"
   ]
  },
  {
   "cell_type": "markdown",
   "metadata": {},
   "source": [
    "## Intro to `dplyr`"
   ]
  },
  {
   "cell_type": "code",
   "execution_count": 6,
   "metadata": {
    "vscode": {
     "languageId": "r"
    }
   },
   "outputs": [
    {
     "name": "stderr",
     "output_type": "stream",
     "text": [
      "\u001b[1m\u001b[22m`summarise()` has grouped output by 'year', 'month'. You can override using the\n",
      "`.groups` argument.\n"
     ]
    },
    {
     "data": {
      "text/html": [
       "<table class=\"dataframe\">\n",
       "<caption>A grouped_df: 6 × 4</caption>\n",
       "<thead>\n",
       "\t<tr><th scope=col>year</th><th scope=col>month</th><th scope=col>day</th><th scope=col>arr_delay</th></tr>\n",
       "\t<tr><th scope=col>&lt;int&gt;</th><th scope=col>&lt;int&gt;</th><th scope=col>&lt;int&gt;</th><th scope=col>&lt;dbl&gt;</th></tr>\n",
       "</thead>\n",
       "<tbody>\n",
       "\t<tr><td>2013</td><td>1</td><td>1</td><td>17.850000</td></tr>\n",
       "\t<tr><td>2013</td><td>1</td><td>2</td><td> 7.000000</td></tr>\n",
       "\t<tr><td>2013</td><td>1</td><td>3</td><td>18.315789</td></tr>\n",
       "\t<tr><td>2013</td><td>1</td><td>4</td><td>-3.200000</td></tr>\n",
       "\t<tr><td>2013</td><td>1</td><td>5</td><td>20.230769</td></tr>\n",
       "\t<tr><td>2013</td><td>1</td><td>6</td><td> 9.277778</td></tr>\n",
       "</tbody>\n",
       "</table>\n"
      ],
      "text/latex": [
       "A grouped\\_df: 6 × 4\n",
       "\\begin{tabular}{llll}\n",
       " year & month & day & arr\\_delay\\\\\n",
       " <int> & <int> & <int> & <dbl>\\\\\n",
       "\\hline\n",
       "\t 2013 & 1 & 1 & 17.850000\\\\\n",
       "\t 2013 & 1 & 2 &  7.000000\\\\\n",
       "\t 2013 & 1 & 3 & 18.315789\\\\\n",
       "\t 2013 & 1 & 4 & -3.200000\\\\\n",
       "\t 2013 & 1 & 5 & 20.230769\\\\\n",
       "\t 2013 & 1 & 6 &  9.277778\\\\\n",
       "\\end{tabular}\n"
      ],
      "text/markdown": [
       "\n",
       "A grouped_df: 6 × 4\n",
       "\n",
       "| year &lt;int&gt; | month &lt;int&gt; | day &lt;int&gt; | arr_delay &lt;dbl&gt; |\n",
       "|---|---|---|---|\n",
       "| 2013 | 1 | 1 | 17.850000 |\n",
       "| 2013 | 1 | 2 |  7.000000 |\n",
       "| 2013 | 1 | 3 | 18.315789 |\n",
       "| 2013 | 1 | 4 | -3.200000 |\n",
       "| 2013 | 1 | 5 | 20.230769 |\n",
       "| 2013 | 1 | 6 |  9.277778 |\n",
       "\n"
      ],
      "text/plain": [
       "  year month day arr_delay\n",
       "1 2013 1     1   17.850000\n",
       "2 2013 1     2    7.000000\n",
       "3 2013 1     3   18.315789\n",
       "4 2013 1     4   -3.200000\n",
       "5 2013 1     5   20.230769\n",
       "6 2013 1     6    9.277778"
      ]
     },
     "metadata": {},
     "output_type": "display_data"
    }
   ],
   "source": [
    "flights |>\n",
    "  filter(dest == \"IAH\") |>\n",
    "  group_by(year, month, day) |>\n",
    "  summarize(\n",
    "    arr_delay = mean(arr_delay, na.rm = TRUE)\n",
    "  ) |>\n",
    "  head()\n"
   ]
  },
  {
   "cell_type": "code",
   "execution_count": 9,
   "metadata": {
    "vscode": {
     "languageId": "r"
    }
   },
   "outputs": [
    {
     "data": {
      "text/html": [
       "<table class=\"dataframe\">\n",
       "<caption>A tibble: 10 × 19</caption>\n",
       "<thead>\n",
       "\t<tr><th scope=col>year</th><th scope=col>month</th><th scope=col>day</th><th scope=col>dep_time</th><th scope=col>sched_dep_time</th><th scope=col>dep_delay</th><th scope=col>arr_time</th><th scope=col>sched_arr_time</th><th scope=col>arr_delay</th><th scope=col>carrier</th><th scope=col>flight</th><th scope=col>tailnum</th><th scope=col>origin</th><th scope=col>dest</th><th scope=col>air_time</th><th scope=col>distance</th><th scope=col>hour</th><th scope=col>minute</th><th scope=col>time_hour</th></tr>\n",
       "\t<tr><th scope=col>&lt;int&gt;</th><th scope=col>&lt;int&gt;</th><th scope=col>&lt;int&gt;</th><th scope=col>&lt;int&gt;</th><th scope=col>&lt;int&gt;</th><th scope=col>&lt;dbl&gt;</th><th scope=col>&lt;int&gt;</th><th scope=col>&lt;int&gt;</th><th scope=col>&lt;dbl&gt;</th><th scope=col>&lt;chr&gt;</th><th scope=col>&lt;int&gt;</th><th scope=col>&lt;chr&gt;</th><th scope=col>&lt;chr&gt;</th><th scope=col>&lt;chr&gt;</th><th scope=col>&lt;dbl&gt;</th><th scope=col>&lt;dbl&gt;</th><th scope=col>&lt;dbl&gt;</th><th scope=col>&lt;dbl&gt;</th><th scope=col>&lt;dttm&gt;</th></tr>\n",
       "</thead>\n",
       "<tbody>\n",
       "\t<tr><td>2013</td><td>1</td><td>1</td><td> 848</td><td>1835</td><td>853</td><td>1001</td><td>1950</td><td>851</td><td>MQ</td><td>3944</td><td>N942MQ</td><td>JFK</td><td>BWI</td><td> 41</td><td> 184</td><td>18</td><td>35</td><td>2013-01-01 18:00:00</td></tr>\n",
       "\t<tr><td>2013</td><td>1</td><td>1</td><td> 957</td><td> 733</td><td>144</td><td>1056</td><td> 853</td><td>123</td><td>UA</td><td> 856</td><td>N534UA</td><td>EWR</td><td>BOS</td><td> 37</td><td> 200</td><td> 7</td><td>33</td><td>2013-01-01 07:00:00</td></tr>\n",
       "\t<tr><td>2013</td><td>1</td><td>1</td><td>1114</td><td> 900</td><td>134</td><td>1447</td><td>1222</td><td>145</td><td>UA</td><td>1086</td><td>N76502</td><td>LGA</td><td>IAH</td><td>248</td><td>1416</td><td> 9</td><td> 0</td><td>2013-01-01 09:00:00</td></tr>\n",
       "\t<tr><td>2013</td><td>1</td><td>1</td><td>1540</td><td>1338</td><td>122</td><td>2020</td><td>1825</td><td>115</td><td>B6</td><td> 705</td><td>N570JB</td><td>JFK</td><td>SJU</td><td>193</td><td>1598</td><td>13</td><td>38</td><td>2013-01-01 13:00:00</td></tr>\n",
       "\t<tr><td>2013</td><td>1</td><td>1</td><td>1815</td><td>1325</td><td>290</td><td>2120</td><td>1542</td><td>338</td><td>EV</td><td>4417</td><td>N17185</td><td>EWR</td><td>OMA</td><td>213</td><td>1134</td><td>13</td><td>25</td><td>2013-01-01 13:00:00</td></tr>\n",
       "\t<tr><td>2013</td><td>1</td><td>1</td><td>1842</td><td>1422</td><td>260</td><td>1958</td><td>1535</td><td>263</td><td>EV</td><td>4633</td><td>N18120</td><td>EWR</td><td>BTV</td><td> 46</td><td> 266</td><td>14</td><td>22</td><td>2013-01-01 14:00:00</td></tr>\n",
       "\t<tr><td>2013</td><td>1</td><td>1</td><td>1856</td><td>1645</td><td>131</td><td>2212</td><td>2005</td><td>127</td><td>AA</td><td> 181</td><td>N323AA</td><td>JFK</td><td>LAX</td><td>336</td><td>2475</td><td>16</td><td>45</td><td>2013-01-01 16:00:00</td></tr>\n",
       "\t<tr><td>2013</td><td>1</td><td>1</td><td>1934</td><td>1725</td><td>129</td><td>2126</td><td>1855</td><td>151</td><td>MQ</td><td>4255</td><td>N909MQ</td><td>JFK</td><td>BNA</td><td>154</td><td> 765</td><td>17</td><td>25</td><td>2013-01-01 17:00:00</td></tr>\n",
       "\t<tr><td>2013</td><td>1</td><td>1</td><td>1938</td><td>1703</td><td>155</td><td>2109</td><td>1823</td><td>166</td><td>EV</td><td>4300</td><td>N18557</td><td>EWR</td><td>RIC</td><td> 68</td><td> 277</td><td>17</td><td> 3</td><td>2013-01-01 17:00:00</td></tr>\n",
       "\t<tr><td>2013</td><td>1</td><td>1</td><td>1942</td><td>1705</td><td>157</td><td>2124</td><td>1830</td><td>174</td><td>MQ</td><td>4410</td><td>N835MQ</td><td>JFK</td><td>DCA</td><td> 60</td><td> 213</td><td>17</td><td> 5</td><td>2013-01-01 17:00:00</td></tr>\n",
       "</tbody>\n",
       "</table>\n"
      ],
      "text/latex": [
       "A tibble: 10 × 19\n",
       "\\begin{tabular}{lllllllllllllllllll}\n",
       " year & month & day & dep\\_time & sched\\_dep\\_time & dep\\_delay & arr\\_time & sched\\_arr\\_time & arr\\_delay & carrier & flight & tailnum & origin & dest & air\\_time & distance & hour & minute & time\\_hour\\\\\n",
       " <int> & <int> & <int> & <int> & <int> & <dbl> & <int> & <int> & <dbl> & <chr> & <int> & <chr> & <chr> & <chr> & <dbl> & <dbl> & <dbl> & <dbl> & <dttm>\\\\\n",
       "\\hline\n",
       "\t 2013 & 1 & 1 &  848 & 1835 & 853 & 1001 & 1950 & 851 & MQ & 3944 & N942MQ & JFK & BWI &  41 &  184 & 18 & 35 & 2013-01-01 18:00:00\\\\\n",
       "\t 2013 & 1 & 1 &  957 &  733 & 144 & 1056 &  853 & 123 & UA &  856 & N534UA & EWR & BOS &  37 &  200 &  7 & 33 & 2013-01-01 07:00:00\\\\\n",
       "\t 2013 & 1 & 1 & 1114 &  900 & 134 & 1447 & 1222 & 145 & UA & 1086 & N76502 & LGA & IAH & 248 & 1416 &  9 &  0 & 2013-01-01 09:00:00\\\\\n",
       "\t 2013 & 1 & 1 & 1540 & 1338 & 122 & 2020 & 1825 & 115 & B6 &  705 & N570JB & JFK & SJU & 193 & 1598 & 13 & 38 & 2013-01-01 13:00:00\\\\\n",
       "\t 2013 & 1 & 1 & 1815 & 1325 & 290 & 2120 & 1542 & 338 & EV & 4417 & N17185 & EWR & OMA & 213 & 1134 & 13 & 25 & 2013-01-01 13:00:00\\\\\n",
       "\t 2013 & 1 & 1 & 1842 & 1422 & 260 & 1958 & 1535 & 263 & EV & 4633 & N18120 & EWR & BTV &  46 &  266 & 14 & 22 & 2013-01-01 14:00:00\\\\\n",
       "\t 2013 & 1 & 1 & 1856 & 1645 & 131 & 2212 & 2005 & 127 & AA &  181 & N323AA & JFK & LAX & 336 & 2475 & 16 & 45 & 2013-01-01 16:00:00\\\\\n",
       "\t 2013 & 1 & 1 & 1934 & 1725 & 129 & 2126 & 1855 & 151 & MQ & 4255 & N909MQ & JFK & BNA & 154 &  765 & 17 & 25 & 2013-01-01 17:00:00\\\\\n",
       "\t 2013 & 1 & 1 & 1938 & 1703 & 155 & 2109 & 1823 & 166 & EV & 4300 & N18557 & EWR & RIC &  68 &  277 & 17 &  3 & 2013-01-01 17:00:00\\\\\n",
       "\t 2013 & 1 & 1 & 1942 & 1705 & 157 & 2124 & 1830 & 174 & MQ & 4410 & N835MQ & JFK & DCA &  60 &  213 & 17 &  5 & 2013-01-01 17:00:00\\\\\n",
       "\\end{tabular}\n"
      ],
      "text/markdown": [
       "\n",
       "A tibble: 10 × 19\n",
       "\n",
       "| year &lt;int&gt; | month &lt;int&gt; | day &lt;int&gt; | dep_time &lt;int&gt; | sched_dep_time &lt;int&gt; | dep_delay &lt;dbl&gt; | arr_time &lt;int&gt; | sched_arr_time &lt;int&gt; | arr_delay &lt;dbl&gt; | carrier &lt;chr&gt; | flight &lt;int&gt; | tailnum &lt;chr&gt; | origin &lt;chr&gt; | dest &lt;chr&gt; | air_time &lt;dbl&gt; | distance &lt;dbl&gt; | hour &lt;dbl&gt; | minute &lt;dbl&gt; | time_hour &lt;dttm&gt; |\n",
       "|---|---|---|---|---|---|---|---|---|---|---|---|---|---|---|---|---|---|---|\n",
       "| 2013 | 1 | 1 |  848 | 1835 | 853 | 1001 | 1950 | 851 | MQ | 3944 | N942MQ | JFK | BWI |  41 |  184 | 18 | 35 | 2013-01-01 18:00:00 |\n",
       "| 2013 | 1 | 1 |  957 |  733 | 144 | 1056 |  853 | 123 | UA |  856 | N534UA | EWR | BOS |  37 |  200 |  7 | 33 | 2013-01-01 07:00:00 |\n",
       "| 2013 | 1 | 1 | 1114 |  900 | 134 | 1447 | 1222 | 145 | UA | 1086 | N76502 | LGA | IAH | 248 | 1416 |  9 |  0 | 2013-01-01 09:00:00 |\n",
       "| 2013 | 1 | 1 | 1540 | 1338 | 122 | 2020 | 1825 | 115 | B6 |  705 | N570JB | JFK | SJU | 193 | 1598 | 13 | 38 | 2013-01-01 13:00:00 |\n",
       "| 2013 | 1 | 1 | 1815 | 1325 | 290 | 2120 | 1542 | 338 | EV | 4417 | N17185 | EWR | OMA | 213 | 1134 | 13 | 25 | 2013-01-01 13:00:00 |\n",
       "| 2013 | 1 | 1 | 1842 | 1422 | 260 | 1958 | 1535 | 263 | EV | 4633 | N18120 | EWR | BTV |  46 |  266 | 14 | 22 | 2013-01-01 14:00:00 |\n",
       "| 2013 | 1 | 1 | 1856 | 1645 | 131 | 2212 | 2005 | 127 | AA |  181 | N323AA | JFK | LAX | 336 | 2475 | 16 | 45 | 2013-01-01 16:00:00 |\n",
       "| 2013 | 1 | 1 | 1934 | 1725 | 129 | 2126 | 1855 | 151 | MQ | 4255 | N909MQ | JFK | BNA | 154 |  765 | 17 | 25 | 2013-01-01 17:00:00 |\n",
       "| 2013 | 1 | 1 | 1938 | 1703 | 155 | 2109 | 1823 | 166 | EV | 4300 | N18557 | EWR | RIC |  68 |  277 | 17 |  3 | 2013-01-01 17:00:00 |\n",
       "| 2013 | 1 | 1 | 1942 | 1705 | 157 | 2124 | 1830 | 174 | MQ | 4410 | N835MQ | JFK | DCA |  60 |  213 | 17 |  5 | 2013-01-01 17:00:00 |\n",
       "\n"
      ],
      "text/plain": [
       "   year month day dep_time sched_dep_time dep_delay arr_time sched_arr_time\n",
       "1  2013 1     1    848     1835           853       1001     1950          \n",
       "2  2013 1     1    957      733           144       1056      853          \n",
       "3  2013 1     1   1114      900           134       1447     1222          \n",
       "4  2013 1     1   1540     1338           122       2020     1825          \n",
       "5  2013 1     1   1815     1325           290       2120     1542          \n",
       "6  2013 1     1   1842     1422           260       1958     1535          \n",
       "7  2013 1     1   1856     1645           131       2212     2005          \n",
       "8  2013 1     1   1934     1725           129       2126     1855          \n",
       "9  2013 1     1   1938     1703           155       2109     1823          \n",
       "10 2013 1     1   1942     1705           157       2124     1830          \n",
       "   arr_delay carrier flight tailnum origin dest air_time distance hour minute\n",
       "1  851       MQ      3944   N942MQ  JFK    BWI   41       184     18   35    \n",
       "2  123       UA       856   N534UA  EWR    BOS   37       200      7   33    \n",
       "3  145       UA      1086   N76502  LGA    IAH  248      1416      9    0    \n",
       "4  115       B6       705   N570JB  JFK    SJU  193      1598     13   38    \n",
       "5  338       EV      4417   N17185  EWR    OMA  213      1134     13   25    \n",
       "6  263       EV      4633   N18120  EWR    BTV   46       266     14   22    \n",
       "7  127       AA       181   N323AA  JFK    LAX  336      2475     16   45    \n",
       "8  151       MQ      4255   N909MQ  JFK    BNA  154       765     17   25    \n",
       "9  166       EV      4300   N18557  EWR    RIC   68       277     17    3    \n",
       "10 174       MQ      4410   N835MQ  JFK    DCA   60       213     17    5    \n",
       "   time_hour          \n",
       "1  2013-01-01 18:00:00\n",
       "2  2013-01-01 07:00:00\n",
       "3  2013-01-01 09:00:00\n",
       "4  2013-01-01 13:00:00\n",
       "5  2013-01-01 13:00:00\n",
       "6  2013-01-01 14:00:00\n",
       "7  2013-01-01 16:00:00\n",
       "8  2013-01-01 17:00:00\n",
       "9  2013-01-01 17:00:00\n",
       "10 2013-01-01 17:00:00"
      ]
     },
     "metadata": {},
     "output_type": "display_data"
    }
   ],
   "source": [
    "flights |>\n",
    "  filter(dep_delay > 120) |>\n",
    "  head(10)\n"
   ]
  },
  {
   "cell_type": "code",
   "execution_count": 21,
   "metadata": {
    "vscode": {
     "languageId": "r"
    }
   },
   "outputs": [
    {
     "data": {
      "text/html": [
       "<table class=\"dataframe\">\n",
       "<caption>A tibble: 10 × 19</caption>\n",
       "<thead>\n",
       "\t<tr><th scope=col>year</th><th scope=col>month</th><th scope=col>day</th><th scope=col>dep_time</th><th scope=col>sched_dep_time</th><th scope=col>dep_delay</th><th scope=col>arr_time</th><th scope=col>sched_arr_time</th><th scope=col>arr_delay</th><th scope=col>carrier</th><th scope=col>flight</th><th scope=col>tailnum</th><th scope=col>origin</th><th scope=col>dest</th><th scope=col>air_time</th><th scope=col>distance</th><th scope=col>hour</th><th scope=col>minute</th><th scope=col>time_hour</th></tr>\n",
       "\t<tr><th scope=col>&lt;int&gt;</th><th scope=col>&lt;int&gt;</th><th scope=col>&lt;int&gt;</th><th scope=col>&lt;int&gt;</th><th scope=col>&lt;int&gt;</th><th scope=col>&lt;dbl&gt;</th><th scope=col>&lt;int&gt;</th><th scope=col>&lt;int&gt;</th><th scope=col>&lt;dbl&gt;</th><th scope=col>&lt;chr&gt;</th><th scope=col>&lt;int&gt;</th><th scope=col>&lt;chr&gt;</th><th scope=col>&lt;chr&gt;</th><th scope=col>&lt;chr&gt;</th><th scope=col>&lt;dbl&gt;</th><th scope=col>&lt;dbl&gt;</th><th scope=col>&lt;dbl&gt;</th><th scope=col>&lt;dbl&gt;</th><th scope=col>&lt;dttm&gt;</th></tr>\n",
       "</thead>\n",
       "<tbody>\n",
       "\t<tr><td>2013</td><td>1</td><td>1</td><td>1318</td><td>1322</td><td>-4</td><td>1358</td><td>1416</td><td>-18</td><td>EV</td><td>4106</td><td>N19554</td><td>EWR</td><td>BDL</td><td> 25</td><td> 116</td><td>13</td><td>22</td><td>2013-01-01 13:00:00</td></tr>\n",
       "\t<tr><td>2013</td><td>1</td><td>1</td><td> 805</td><td> 800</td><td> 5</td><td>1118</td><td>1106</td><td> 12</td><td>B6</td><td>   3</td><td>N570JB</td><td>JFK</td><td>FLL</td><td>165</td><td>1069</td><td> 8</td><td> 0</td><td>2013-01-01 08:00:00</td></tr>\n",
       "\t<tr><td>2013</td><td>1</td><td>1</td><td> 857</td><td> 905</td><td>-8</td><td>1107</td><td>1120</td><td>-13</td><td>DL</td><td> 181</td><td>N321NB</td><td>LGA</td><td>DTW</td><td>110</td><td> 502</td><td> 9</td><td> 5</td><td>2013-01-01 09:00:00</td></tr>\n",
       "\t<tr><td>2013</td><td>1</td><td>1</td><td>1251</td><td>1252</td><td>-1</td><td>1611</td><td>1555</td><td> 16</td><td>B6</td><td>  85</td><td>N657JB</td><td>JFK</td><td>FLL</td><td>173</td><td>1069</td><td>12</td><td>52</td><td>2013-01-01 12:00:00</td></tr>\n",
       "\t<tr><td>2013</td><td>1</td><td>1</td><td> 629</td><td> 630</td><td>-1</td><td> 824</td><td> 810</td><td> 14</td><td>AA</td><td> 303</td><td>N3CYAA</td><td>LGA</td><td>ORD</td><td>140</td><td> 733</td><td> 6</td><td>30</td><td>2013-01-01 06:00:00</td></tr>\n",
       "\t<tr><td>2013</td><td>1</td><td>1</td><td>1515</td><td>1437</td><td>38</td><td>1834</td><td>1742</td><td> 52</td><td>B6</td><td> 347</td><td>N178JB</td><td>JFK</td><td>SRQ</td><td>171</td><td>1041</td><td>14</td><td>37</td><td>2013-01-01 14:00:00</td></tr>\n",
       "\t<tr><td>2013</td><td>1</td><td>1</td><td>1005</td><td>1000</td><td> 5</td><td>1239</td><td>1234</td><td>  5</td><td>UA</td><td>1625</td><td>N81449</td><td>EWR</td><td>DEN</td><td>254</td><td>1605</td><td>10</td><td> 0</td><td>2013-01-01 10:00:00</td></tr>\n",
       "\t<tr><td>2013</td><td>1</td><td>1</td><td>1720</td><td>1725</td><td>-5</td><td>2121</td><td>2105</td><td> 16</td><td>DL</td><td> 513</td><td>N723TW</td><td>JFK</td><td>LAX</td><td>363</td><td>2475</td><td>17</td><td>25</td><td>2013-01-01 17:00:00</td></tr>\n",
       "\t<tr><td>2013</td><td>1</td><td>1</td><td>1456</td><td>1500</td><td>-4</td><td>1649</td><td>1632</td><td> 17</td><td>UA</td><td> 685</td><td>N802UA</td><td>LGA</td><td>ORD</td><td>140</td><td> 733</td><td>15</td><td> 0</td><td>2013-01-01 15:00:00</td></tr>\n",
       "\t<tr><td>2013</td><td>1</td><td>1</td><td>1422</td><td>1410</td><td>12</td><td>1613</td><td>1555</td><td> 18</td><td>MQ</td><td>4491</td><td>N737MQ</td><td>LGA</td><td>CLE</td><td> 93</td><td> 419</td><td>14</td><td>10</td><td>2013-01-01 14:00:00</td></tr>\n",
       "</tbody>\n",
       "</table>\n"
      ],
      "text/latex": [
       "A tibble: 10 × 19\n",
       "\\begin{tabular}{lllllllllllllllllll}\n",
       " year & month & day & dep\\_time & sched\\_dep\\_time & dep\\_delay & arr\\_time & sched\\_arr\\_time & arr\\_delay & carrier & flight & tailnum & origin & dest & air\\_time & distance & hour & minute & time\\_hour\\\\\n",
       " <int> & <int> & <int> & <int> & <int> & <dbl> & <int> & <int> & <dbl> & <chr> & <int> & <chr> & <chr> & <chr> & <dbl> & <dbl> & <dbl> & <dbl> & <dttm>\\\\\n",
       "\\hline\n",
       "\t 2013 & 1 & 1 & 1318 & 1322 & -4 & 1358 & 1416 & -18 & EV & 4106 & N19554 & EWR & BDL &  25 &  116 & 13 & 22 & 2013-01-01 13:00:00\\\\\n",
       "\t 2013 & 1 & 1 &  805 &  800 &  5 & 1118 & 1106 &  12 & B6 &    3 & N570JB & JFK & FLL & 165 & 1069 &  8 &  0 & 2013-01-01 08:00:00\\\\\n",
       "\t 2013 & 1 & 1 &  857 &  905 & -8 & 1107 & 1120 & -13 & DL &  181 & N321NB & LGA & DTW & 110 &  502 &  9 &  5 & 2013-01-01 09:00:00\\\\\n",
       "\t 2013 & 1 & 1 & 1251 & 1252 & -1 & 1611 & 1555 &  16 & B6 &   85 & N657JB & JFK & FLL & 173 & 1069 & 12 & 52 & 2013-01-01 12:00:00\\\\\n",
       "\t 2013 & 1 & 1 &  629 &  630 & -1 &  824 &  810 &  14 & AA &  303 & N3CYAA & LGA & ORD & 140 &  733 &  6 & 30 & 2013-01-01 06:00:00\\\\\n",
       "\t 2013 & 1 & 1 & 1515 & 1437 & 38 & 1834 & 1742 &  52 & B6 &  347 & N178JB & JFK & SRQ & 171 & 1041 & 14 & 37 & 2013-01-01 14:00:00\\\\\n",
       "\t 2013 & 1 & 1 & 1005 & 1000 &  5 & 1239 & 1234 &   5 & UA & 1625 & N81449 & EWR & DEN & 254 & 1605 & 10 &  0 & 2013-01-01 10:00:00\\\\\n",
       "\t 2013 & 1 & 1 & 1720 & 1725 & -5 & 2121 & 2105 &  16 & DL &  513 & N723TW & JFK & LAX & 363 & 2475 & 17 & 25 & 2013-01-01 17:00:00\\\\\n",
       "\t 2013 & 1 & 1 & 1456 & 1500 & -4 & 1649 & 1632 &  17 & UA &  685 & N802UA & LGA & ORD & 140 &  733 & 15 &  0 & 2013-01-01 15:00:00\\\\\n",
       "\t 2013 & 1 & 1 & 1422 & 1410 & 12 & 1613 & 1555 &  18 & MQ & 4491 & N737MQ & LGA & CLE &  93 &  419 & 14 & 10 & 2013-01-01 14:00:00\\\\\n",
       "\\end{tabular}\n"
      ],
      "text/markdown": [
       "\n",
       "A tibble: 10 × 19\n",
       "\n",
       "| year &lt;int&gt; | month &lt;int&gt; | day &lt;int&gt; | dep_time &lt;int&gt; | sched_dep_time &lt;int&gt; | dep_delay &lt;dbl&gt; | arr_time &lt;int&gt; | sched_arr_time &lt;int&gt; | arr_delay &lt;dbl&gt; | carrier &lt;chr&gt; | flight &lt;int&gt; | tailnum &lt;chr&gt; | origin &lt;chr&gt; | dest &lt;chr&gt; | air_time &lt;dbl&gt; | distance &lt;dbl&gt; | hour &lt;dbl&gt; | minute &lt;dbl&gt; | time_hour &lt;dttm&gt; |\n",
       "|---|---|---|---|---|---|---|---|---|---|---|---|---|---|---|---|---|---|---|\n",
       "| 2013 | 1 | 1 | 1318 | 1322 | -4 | 1358 | 1416 | -18 | EV | 4106 | N19554 | EWR | BDL |  25 |  116 | 13 | 22 | 2013-01-01 13:00:00 |\n",
       "| 2013 | 1 | 1 |  805 |  800 |  5 | 1118 | 1106 |  12 | B6 |    3 | N570JB | JFK | FLL | 165 | 1069 |  8 |  0 | 2013-01-01 08:00:00 |\n",
       "| 2013 | 1 | 1 |  857 |  905 | -8 | 1107 | 1120 | -13 | DL |  181 | N321NB | LGA | DTW | 110 |  502 |  9 |  5 | 2013-01-01 09:00:00 |\n",
       "| 2013 | 1 | 1 | 1251 | 1252 | -1 | 1611 | 1555 |  16 | B6 |   85 | N657JB | JFK | FLL | 173 | 1069 | 12 | 52 | 2013-01-01 12:00:00 |\n",
       "| 2013 | 1 | 1 |  629 |  630 | -1 |  824 |  810 |  14 | AA |  303 | N3CYAA | LGA | ORD | 140 |  733 |  6 | 30 | 2013-01-01 06:00:00 |\n",
       "| 2013 | 1 | 1 | 1515 | 1437 | 38 | 1834 | 1742 |  52 | B6 |  347 | N178JB | JFK | SRQ | 171 | 1041 | 14 | 37 | 2013-01-01 14:00:00 |\n",
       "| 2013 | 1 | 1 | 1005 | 1000 |  5 | 1239 | 1234 |   5 | UA | 1625 | N81449 | EWR | DEN | 254 | 1605 | 10 |  0 | 2013-01-01 10:00:00 |\n",
       "| 2013 | 1 | 1 | 1720 | 1725 | -5 | 2121 | 2105 |  16 | DL |  513 | N723TW | JFK | LAX | 363 | 2475 | 17 | 25 | 2013-01-01 17:00:00 |\n",
       "| 2013 | 1 | 1 | 1456 | 1500 | -4 | 1649 | 1632 |  17 | UA |  685 | N802UA | LGA | ORD | 140 |  733 | 15 |  0 | 2013-01-01 15:00:00 |\n",
       "| 2013 | 1 | 1 | 1422 | 1410 | 12 | 1613 | 1555 |  18 | MQ | 4491 | N737MQ | LGA | CLE |  93 |  419 | 14 | 10 | 2013-01-01 14:00:00 |\n",
       "\n"
      ],
      "text/plain": [
       "   year month day dep_time sched_dep_time dep_delay arr_time sched_arr_time\n",
       "1  2013 1     1   1318     1322           -4        1358     1416          \n",
       "2  2013 1     1    805      800            5        1118     1106          \n",
       "3  2013 1     1    857      905           -8        1107     1120          \n",
       "4  2013 1     1   1251     1252           -1        1611     1555          \n",
       "5  2013 1     1    629      630           -1         824      810          \n",
       "6  2013 1     1   1515     1437           38        1834     1742          \n",
       "7  2013 1     1   1005     1000            5        1239     1234          \n",
       "8  2013 1     1   1720     1725           -5        2121     2105          \n",
       "9  2013 1     1   1456     1500           -4        1649     1632          \n",
       "10 2013 1     1   1422     1410           12        1613     1555          \n",
       "   arr_delay carrier flight tailnum origin dest air_time distance hour minute\n",
       "1  -18       EV      4106   N19554  EWR    BDL   25       116     13   22    \n",
       "2   12       B6         3   N570JB  JFK    FLL  165      1069      8    0    \n",
       "3  -13       DL       181   N321NB  LGA    DTW  110       502      9    5    \n",
       "4   16       B6        85   N657JB  JFK    FLL  173      1069     12   52    \n",
       "5   14       AA       303   N3CYAA  LGA    ORD  140       733      6   30    \n",
       "6   52       B6       347   N178JB  JFK    SRQ  171      1041     14   37    \n",
       "7    5       UA      1625   N81449  EWR    DEN  254      1605     10    0    \n",
       "8   16       DL       513   N723TW  JFK    LAX  363      2475     17   25    \n",
       "9   17       UA       685   N802UA  LGA    ORD  140       733     15    0    \n",
       "10  18       MQ      4491   N737MQ  LGA    CLE   93       419     14   10    \n",
       "   time_hour          \n",
       "1  2013-01-01 13:00:00\n",
       "2  2013-01-01 08:00:00\n",
       "3  2013-01-01 09:00:00\n",
       "4  2013-01-01 12:00:00\n",
       "5  2013-01-01 06:00:00\n",
       "6  2013-01-01 14:00:00\n",
       "7  2013-01-01 10:00:00\n",
       "8  2013-01-01 17:00:00\n",
       "9  2013-01-01 15:00:00\n",
       "10 2013-01-01 14:00:00"
      ]
     },
     "metadata": {},
     "output_type": "display_data"
    }
   ],
   "source": [
    "# Flights that departed on January 1\n",
    "flights |>\n",
    "  filter(month == 1 & day == 1) |>\n",
    "  sample_n(10)\n"
   ]
  },
  {
   "cell_type": "code",
   "execution_count": 20,
   "metadata": {
    "vscode": {
     "languageId": "r"
    }
   },
   "outputs": [
    {
     "data": {
      "text/html": [
       "<table class=\"dataframe\">\n",
       "<caption>A tibble: 10 × 19</caption>\n",
       "<thead>\n",
       "\t<tr><th scope=col>year</th><th scope=col>month</th><th scope=col>day</th><th scope=col>dep_time</th><th scope=col>sched_dep_time</th><th scope=col>dep_delay</th><th scope=col>arr_time</th><th scope=col>sched_arr_time</th><th scope=col>arr_delay</th><th scope=col>carrier</th><th scope=col>flight</th><th scope=col>tailnum</th><th scope=col>origin</th><th scope=col>dest</th><th scope=col>air_time</th><th scope=col>distance</th><th scope=col>hour</th><th scope=col>minute</th><th scope=col>time_hour</th></tr>\n",
       "\t<tr><th scope=col>&lt;int&gt;</th><th scope=col>&lt;int&gt;</th><th scope=col>&lt;int&gt;</th><th scope=col>&lt;int&gt;</th><th scope=col>&lt;int&gt;</th><th scope=col>&lt;dbl&gt;</th><th scope=col>&lt;int&gt;</th><th scope=col>&lt;int&gt;</th><th scope=col>&lt;dbl&gt;</th><th scope=col>&lt;chr&gt;</th><th scope=col>&lt;int&gt;</th><th scope=col>&lt;chr&gt;</th><th scope=col>&lt;chr&gt;</th><th scope=col>&lt;chr&gt;</th><th scope=col>&lt;dbl&gt;</th><th scope=col>&lt;dbl&gt;</th><th scope=col>&lt;dbl&gt;</th><th scope=col>&lt;dbl&gt;</th><th scope=col>&lt;dttm&gt;</th></tr>\n",
       "</thead>\n",
       "<tbody>\n",
       "\t<tr><td>2013</td><td>1</td><td>16</td><td>2008</td><td>2005</td><td>  3</td><td>2254</td><td>2258</td><td> -4</td><td>UA</td><td> 405</td><td>N411UA</td><td>EWR</td><td>MCO</td><td>141</td><td> 937</td><td>20</td><td> 5</td><td>2013-01-16 20:00:00</td></tr>\n",
       "\t<tr><td>2013</td><td>1</td><td>28</td><td> 900</td><td> 905</td><td> -5</td><td>1125</td><td>1115</td><td> 10</td><td>MQ</td><td>4478</td><td>N739MQ</td><td>LGA</td><td>DTW</td><td>109</td><td> 502</td><td> 9</td><td> 5</td><td>2013-01-28 09:00:00</td></tr>\n",
       "\t<tr><td>2013</td><td>2</td><td>16</td><td>1758</td><td>1745</td><td> 13</td><td>2114</td><td>2136</td><td>-22</td><td>DL</td><td>  31</td><td>N721TW</td><td>JFK</td><td>SFO</td><td>348</td><td>2586</td><td>17</td><td>45</td><td>2013-02-16 17:00:00</td></tr>\n",
       "\t<tr><td>2013</td><td>1</td><td>18</td><td>1541</td><td>1530</td><td> 11</td><td>1755</td><td>1734</td><td> 21</td><td>US</td><td>1665</td><td>N716UW</td><td>LGA</td><td>CLT</td><td> 86</td><td> 544</td><td>15</td><td>30</td><td>2013-01-18 15:00:00</td></tr>\n",
       "\t<tr><td>2013</td><td>1</td><td>24</td><td>2348</td><td>2359</td><td>-11</td><td> 418</td><td> 444</td><td>-26</td><td>B6</td><td> 739</td><td>N605JB</td><td>JFK</td><td>PSE</td><td>193</td><td>1617</td><td>23</td><td>59</td><td>2013-01-24 23:00:00</td></tr>\n",
       "\t<tr><td>2013</td><td>2</td><td>18</td><td>1600</td><td>1604</td><td> -4</td><td>1718</td><td>1739</td><td>-21</td><td>UA</td><td>1053</td><td>N76254</td><td>EWR</td><td>ORD</td><td>120</td><td> 719</td><td>16</td><td> 4</td><td>2013-02-18 16:00:00</td></tr>\n",
       "\t<tr><td>2013</td><td>2</td><td>27</td><td>2020</td><td>1900</td><td> 80</td><td>2144</td><td>2018</td><td> 86</td><td>EV</td><td>5714</td><td>N827AS</td><td>JFK</td><td>IAD</td><td> 48</td><td> 228</td><td>19</td><td> 0</td><td>2013-02-27 19:00:00</td></tr>\n",
       "\t<tr><td>2013</td><td>2</td><td>18</td><td>2022</td><td>2010</td><td> 12</td><td>2325</td><td>2321</td><td>  4</td><td>UA</td><td>1299</td><td>N37255</td><td>EWR</td><td>RSW</td><td>164</td><td>1068</td><td>20</td><td>10</td><td>2013-02-18 20:00:00</td></tr>\n",
       "\t<tr><td>2013</td><td>1</td><td>21</td><td> 601</td><td> 608</td><td> -7</td><td> 654</td><td> 725</td><td>-31</td><td>UA</td><td> 733</td><td>N822UA</td><td>EWR</td><td>BOS</td><td> 32</td><td> 200</td><td> 6</td><td> 8</td><td>2013-01-21 06:00:00</td></tr>\n",
       "\t<tr><td>2013</td><td>2</td><td>28</td><td>1459</td><td>1500</td><td> -1</td><td>1747</td><td>1742</td><td>  5</td><td>DL</td><td>2347</td><td>N6708D</td><td>LGA</td><td>ATL</td><td>112</td><td> 762</td><td>15</td><td> 0</td><td>2013-02-28 15:00:00</td></tr>\n",
       "</tbody>\n",
       "</table>\n"
      ],
      "text/latex": [
       "A tibble: 10 × 19\n",
       "\\begin{tabular}{lllllllllllllllllll}\n",
       " year & month & day & dep\\_time & sched\\_dep\\_time & dep\\_delay & arr\\_time & sched\\_arr\\_time & arr\\_delay & carrier & flight & tailnum & origin & dest & air\\_time & distance & hour & minute & time\\_hour\\\\\n",
       " <int> & <int> & <int> & <int> & <int> & <dbl> & <int> & <int> & <dbl> & <chr> & <int> & <chr> & <chr> & <chr> & <dbl> & <dbl> & <dbl> & <dbl> & <dttm>\\\\\n",
       "\\hline\n",
       "\t 2013 & 1 & 16 & 2008 & 2005 &   3 & 2254 & 2258 &  -4 & UA &  405 & N411UA & EWR & MCO & 141 &  937 & 20 &  5 & 2013-01-16 20:00:00\\\\\n",
       "\t 2013 & 1 & 28 &  900 &  905 &  -5 & 1125 & 1115 &  10 & MQ & 4478 & N739MQ & LGA & DTW & 109 &  502 &  9 &  5 & 2013-01-28 09:00:00\\\\\n",
       "\t 2013 & 2 & 16 & 1758 & 1745 &  13 & 2114 & 2136 & -22 & DL &   31 & N721TW & JFK & SFO & 348 & 2586 & 17 & 45 & 2013-02-16 17:00:00\\\\\n",
       "\t 2013 & 1 & 18 & 1541 & 1530 &  11 & 1755 & 1734 &  21 & US & 1665 & N716UW & LGA & CLT &  86 &  544 & 15 & 30 & 2013-01-18 15:00:00\\\\\n",
       "\t 2013 & 1 & 24 & 2348 & 2359 & -11 &  418 &  444 & -26 & B6 &  739 & N605JB & JFK & PSE & 193 & 1617 & 23 & 59 & 2013-01-24 23:00:00\\\\\n",
       "\t 2013 & 2 & 18 & 1600 & 1604 &  -4 & 1718 & 1739 & -21 & UA & 1053 & N76254 & EWR & ORD & 120 &  719 & 16 &  4 & 2013-02-18 16:00:00\\\\\n",
       "\t 2013 & 2 & 27 & 2020 & 1900 &  80 & 2144 & 2018 &  86 & EV & 5714 & N827AS & JFK & IAD &  48 &  228 & 19 &  0 & 2013-02-27 19:00:00\\\\\n",
       "\t 2013 & 2 & 18 & 2022 & 2010 &  12 & 2325 & 2321 &   4 & UA & 1299 & N37255 & EWR & RSW & 164 & 1068 & 20 & 10 & 2013-02-18 20:00:00\\\\\n",
       "\t 2013 & 1 & 21 &  601 &  608 &  -7 &  654 &  725 & -31 & UA &  733 & N822UA & EWR & BOS &  32 &  200 &  6 &  8 & 2013-01-21 06:00:00\\\\\n",
       "\t 2013 & 2 & 28 & 1459 & 1500 &  -1 & 1747 & 1742 &   5 & DL & 2347 & N6708D & LGA & ATL & 112 &  762 & 15 &  0 & 2013-02-28 15:00:00\\\\\n",
       "\\end{tabular}\n"
      ],
      "text/markdown": [
       "\n",
       "A tibble: 10 × 19\n",
       "\n",
       "| year &lt;int&gt; | month &lt;int&gt; | day &lt;int&gt; | dep_time &lt;int&gt; | sched_dep_time &lt;int&gt; | dep_delay &lt;dbl&gt; | arr_time &lt;int&gt; | sched_arr_time &lt;int&gt; | arr_delay &lt;dbl&gt; | carrier &lt;chr&gt; | flight &lt;int&gt; | tailnum &lt;chr&gt; | origin &lt;chr&gt; | dest &lt;chr&gt; | air_time &lt;dbl&gt; | distance &lt;dbl&gt; | hour &lt;dbl&gt; | minute &lt;dbl&gt; | time_hour &lt;dttm&gt; |\n",
       "|---|---|---|---|---|---|---|---|---|---|---|---|---|---|---|---|---|---|---|\n",
       "| 2013 | 1 | 16 | 2008 | 2005 |   3 | 2254 | 2258 |  -4 | UA |  405 | N411UA | EWR | MCO | 141 |  937 | 20 |  5 | 2013-01-16 20:00:00 |\n",
       "| 2013 | 1 | 28 |  900 |  905 |  -5 | 1125 | 1115 |  10 | MQ | 4478 | N739MQ | LGA | DTW | 109 |  502 |  9 |  5 | 2013-01-28 09:00:00 |\n",
       "| 2013 | 2 | 16 | 1758 | 1745 |  13 | 2114 | 2136 | -22 | DL |   31 | N721TW | JFK | SFO | 348 | 2586 | 17 | 45 | 2013-02-16 17:00:00 |\n",
       "| 2013 | 1 | 18 | 1541 | 1530 |  11 | 1755 | 1734 |  21 | US | 1665 | N716UW | LGA | CLT |  86 |  544 | 15 | 30 | 2013-01-18 15:00:00 |\n",
       "| 2013 | 1 | 24 | 2348 | 2359 | -11 |  418 |  444 | -26 | B6 |  739 | N605JB | JFK | PSE | 193 | 1617 | 23 | 59 | 2013-01-24 23:00:00 |\n",
       "| 2013 | 2 | 18 | 1600 | 1604 |  -4 | 1718 | 1739 | -21 | UA | 1053 | N76254 | EWR | ORD | 120 |  719 | 16 |  4 | 2013-02-18 16:00:00 |\n",
       "| 2013 | 2 | 27 | 2020 | 1900 |  80 | 2144 | 2018 |  86 | EV | 5714 | N827AS | JFK | IAD |  48 |  228 | 19 |  0 | 2013-02-27 19:00:00 |\n",
       "| 2013 | 2 | 18 | 2022 | 2010 |  12 | 2325 | 2321 |   4 | UA | 1299 | N37255 | EWR | RSW | 164 | 1068 | 20 | 10 | 2013-02-18 20:00:00 |\n",
       "| 2013 | 1 | 21 |  601 |  608 |  -7 |  654 |  725 | -31 | UA |  733 | N822UA | EWR | BOS |  32 |  200 |  6 |  8 | 2013-01-21 06:00:00 |\n",
       "| 2013 | 2 | 28 | 1459 | 1500 |  -1 | 1747 | 1742 |   5 | DL | 2347 | N6708D | LGA | ATL | 112 |  762 | 15 |  0 | 2013-02-28 15:00:00 |\n",
       "\n"
      ],
      "text/plain": [
       "   year month day dep_time sched_dep_time dep_delay arr_time sched_arr_time\n",
       "1  2013 1     16  2008     2005             3       2254     2258          \n",
       "2  2013 1     28   900      905            -5       1125     1115          \n",
       "3  2013 2     16  1758     1745            13       2114     2136          \n",
       "4  2013 1     18  1541     1530            11       1755     1734          \n",
       "5  2013 1     24  2348     2359           -11        418      444          \n",
       "6  2013 2     18  1600     1604            -4       1718     1739          \n",
       "7  2013 2     27  2020     1900            80       2144     2018          \n",
       "8  2013 2     18  2022     2010            12       2325     2321          \n",
       "9  2013 1     21   601      608            -7        654      725          \n",
       "10 2013 2     28  1459     1500            -1       1747     1742          \n",
       "   arr_delay carrier flight tailnum origin dest air_time distance hour minute\n",
       "1   -4       UA       405   N411UA  EWR    MCO  141       937     20    5    \n",
       "2   10       MQ      4478   N739MQ  LGA    DTW  109       502      9    5    \n",
       "3  -22       DL        31   N721TW  JFK    SFO  348      2586     17   45    \n",
       "4   21       US      1665   N716UW  LGA    CLT   86       544     15   30    \n",
       "5  -26       B6       739   N605JB  JFK    PSE  193      1617     23   59    \n",
       "6  -21       UA      1053   N76254  EWR    ORD  120       719     16    4    \n",
       "7   86       EV      5714   N827AS  JFK    IAD   48       228     19    0    \n",
       "8    4       UA      1299   N37255  EWR    RSW  164      1068     20   10    \n",
       "9  -31       UA       733   N822UA  EWR    BOS   32       200      6    8    \n",
       "10   5       DL      2347   N6708D  LGA    ATL  112       762     15    0    \n",
       "   time_hour          \n",
       "1  2013-01-16 20:00:00\n",
       "2  2013-01-28 09:00:00\n",
       "3  2013-02-16 17:00:00\n",
       "4  2013-01-18 15:00:00\n",
       "5  2013-01-24 23:00:00\n",
       "6  2013-02-18 16:00:00\n",
       "7  2013-02-27 19:00:00\n",
       "8  2013-02-18 20:00:00\n",
       "9  2013-01-21 06:00:00\n",
       "10 2013-02-28 15:00:00"
      ]
     },
     "metadata": {},
     "output_type": "display_data"
    }
   ],
   "source": [
    "# Flights that departed in January or February\n",
    "flights |>\n",
    "  filter(month == 1 | month == 2) |>\n",
    "  sample_n(10)\n"
   ]
  },
  {
   "cell_type": "code",
   "execution_count": 23,
   "metadata": {
    "vscode": {
     "languageId": "r"
    }
   },
   "outputs": [
    {
     "data": {
      "text/html": [
       "<table class=\"dataframe\">\n",
       "<caption>A tibble: 10 × 19</caption>\n",
       "<thead>\n",
       "\t<tr><th scope=col>year</th><th scope=col>month</th><th scope=col>day</th><th scope=col>dep_time</th><th scope=col>sched_dep_time</th><th scope=col>dep_delay</th><th scope=col>arr_time</th><th scope=col>sched_arr_time</th><th scope=col>arr_delay</th><th scope=col>carrier</th><th scope=col>flight</th><th scope=col>tailnum</th><th scope=col>origin</th><th scope=col>dest</th><th scope=col>air_time</th><th scope=col>distance</th><th scope=col>hour</th><th scope=col>minute</th><th scope=col>time_hour</th></tr>\n",
       "\t<tr><th scope=col>&lt;int&gt;</th><th scope=col>&lt;int&gt;</th><th scope=col>&lt;int&gt;</th><th scope=col>&lt;int&gt;</th><th scope=col>&lt;int&gt;</th><th scope=col>&lt;dbl&gt;</th><th scope=col>&lt;int&gt;</th><th scope=col>&lt;int&gt;</th><th scope=col>&lt;dbl&gt;</th><th scope=col>&lt;chr&gt;</th><th scope=col>&lt;int&gt;</th><th scope=col>&lt;chr&gt;</th><th scope=col>&lt;chr&gt;</th><th scope=col>&lt;chr&gt;</th><th scope=col>&lt;dbl&gt;</th><th scope=col>&lt;dbl&gt;</th><th scope=col>&lt;dbl&gt;</th><th scope=col>&lt;dbl&gt;</th><th scope=col>&lt;dttm&gt;</th></tr>\n",
       "</thead>\n",
       "<tbody>\n",
       "\t<tr><td>2013</td><td>1</td><td>24</td><td> 919</td><td> 920</td><td>-1</td><td>1242</td><td>1233</td><td>  9</td><td>UA</td><td>1275</td><td>N57869</td><td>EWR</td><td>LAX</td><td>332</td><td>2454</td><td> 9</td><td>20</td><td>2013-01-24 09:00:00</td></tr>\n",
       "\t<tr><td>2013</td><td>1</td><td> 4</td><td> 810</td><td> 810</td><td> 0</td><td>1029</td><td>1030</td><td> -1</td><td>FL</td><td> 346</td><td>N899AT</td><td>LGA</td><td>ATL</td><td>115</td><td> 762</td><td> 8</td><td>10</td><td>2013-01-04 08:00:00</td></tr>\n",
       "\t<tr><td>2013</td><td>1</td><td> 6</td><td>1126</td><td>1130</td><td>-4</td><td>1253</td><td>1306</td><td>-13</td><td>EV</td><td>4431</td><td>N16151</td><td>EWR</td><td>RDU</td><td> 75</td><td> 416</td><td>11</td><td>30</td><td>2013-01-06 11:00:00</td></tr>\n",
       "\t<tr><td>2013</td><td>1</td><td>22</td><td>1105</td><td>1105</td><td> 0</td><td>1241</td><td>1245</td><td> -4</td><td>WN</td><td> 542</td><td>N443WN</td><td>LGA</td><td>MDW</td><td>121</td><td> 725</td><td>11</td><td> 5</td><td>2013-01-22 11:00:00</td></tr>\n",
       "\t<tr><td>2013</td><td>1</td><td>31</td><td>1801</td><td>1800</td><td> 1</td><td>1922</td><td>1913</td><td>  9</td><td>US</td><td>2185</td><td>N748UW</td><td>LGA</td><td>DCA</td><td> 47</td><td> 214</td><td>18</td><td> 0</td><td>2013-01-31 18:00:00</td></tr>\n",
       "\t<tr><td>2013</td><td>1</td><td>30</td><td>1523</td><td>1345</td><td>98</td><td>1754</td><td>1641</td><td> 73</td><td>B6</td><td>1783</td><td>N805JB</td><td>JFK</td><td>MCO</td><td>139</td><td> 944</td><td>13</td><td>45</td><td>2013-01-30 13:00:00</td></tr>\n",
       "\t<tr><td>2013</td><td>1</td><td>25</td><td> 730</td><td> 710</td><td>20</td><td> 933</td><td> 850</td><td> 43</td><td>MQ</td><td>3737</td><td>N507MQ</td><td>EWR</td><td>ORD</td><td>129</td><td> 719</td><td> 7</td><td>10</td><td>2013-01-25 07:00:00</td></tr>\n",
       "\t<tr><td>2013</td><td>1</td><td> 5</td><td> 537</td><td> 540</td><td>-3</td><td> 831</td><td> 850</td><td>-19</td><td>AA</td><td>1141</td><td>N5DBAA</td><td>JFK</td><td>MIA</td><td>153</td><td>1089</td><td> 5</td><td>40</td><td>2013-01-05 05:00:00</td></tr>\n",
       "\t<tr><td>2013</td><td>2</td><td>26</td><td>1556</td><td>1605</td><td>-9</td><td>1912</td><td>1911</td><td>  1</td><td>B6</td><td> 157</td><td>N794JB</td><td>JFK</td><td>MCO</td><td>157</td><td> 944</td><td>16</td><td> 5</td><td>2013-02-26 16:00:00</td></tr>\n",
       "\t<tr><td>2013</td><td>2</td><td> 9</td><td>  NA</td><td>1600</td><td>NA</td><td>  NA</td><td>1730</td><td> NA</td><td>9E</td><td>3453</td><td>NA    </td><td>JFK</td><td>BOS</td><td> NA</td><td> 187</td><td>16</td><td> 0</td><td>2013-02-09 16:00:00</td></tr>\n",
       "</tbody>\n",
       "</table>\n"
      ],
      "text/latex": [
       "A tibble: 10 × 19\n",
       "\\begin{tabular}{lllllllllllllllllll}\n",
       " year & month & day & dep\\_time & sched\\_dep\\_time & dep\\_delay & arr\\_time & sched\\_arr\\_time & arr\\_delay & carrier & flight & tailnum & origin & dest & air\\_time & distance & hour & minute & time\\_hour\\\\\n",
       " <int> & <int> & <int> & <int> & <int> & <dbl> & <int> & <int> & <dbl> & <chr> & <int> & <chr> & <chr> & <chr> & <dbl> & <dbl> & <dbl> & <dbl> & <dttm>\\\\\n",
       "\\hline\n",
       "\t 2013 & 1 & 24 &  919 &  920 & -1 & 1242 & 1233 &   9 & UA & 1275 & N57869 & EWR & LAX & 332 & 2454 &  9 & 20 & 2013-01-24 09:00:00\\\\\n",
       "\t 2013 & 1 &  4 &  810 &  810 &  0 & 1029 & 1030 &  -1 & FL &  346 & N899AT & LGA & ATL & 115 &  762 &  8 & 10 & 2013-01-04 08:00:00\\\\\n",
       "\t 2013 & 1 &  6 & 1126 & 1130 & -4 & 1253 & 1306 & -13 & EV & 4431 & N16151 & EWR & RDU &  75 &  416 & 11 & 30 & 2013-01-06 11:00:00\\\\\n",
       "\t 2013 & 1 & 22 & 1105 & 1105 &  0 & 1241 & 1245 &  -4 & WN &  542 & N443WN & LGA & MDW & 121 &  725 & 11 &  5 & 2013-01-22 11:00:00\\\\\n",
       "\t 2013 & 1 & 31 & 1801 & 1800 &  1 & 1922 & 1913 &   9 & US & 2185 & N748UW & LGA & DCA &  47 &  214 & 18 &  0 & 2013-01-31 18:00:00\\\\\n",
       "\t 2013 & 1 & 30 & 1523 & 1345 & 98 & 1754 & 1641 &  73 & B6 & 1783 & N805JB & JFK & MCO & 139 &  944 & 13 & 45 & 2013-01-30 13:00:00\\\\\n",
       "\t 2013 & 1 & 25 &  730 &  710 & 20 &  933 &  850 &  43 & MQ & 3737 & N507MQ & EWR & ORD & 129 &  719 &  7 & 10 & 2013-01-25 07:00:00\\\\\n",
       "\t 2013 & 1 &  5 &  537 &  540 & -3 &  831 &  850 & -19 & AA & 1141 & N5DBAA & JFK & MIA & 153 & 1089 &  5 & 40 & 2013-01-05 05:00:00\\\\\n",
       "\t 2013 & 2 & 26 & 1556 & 1605 & -9 & 1912 & 1911 &   1 & B6 &  157 & N794JB & JFK & MCO & 157 &  944 & 16 &  5 & 2013-02-26 16:00:00\\\\\n",
       "\t 2013 & 2 &  9 &   NA & 1600 & NA &   NA & 1730 &  NA & 9E & 3453 & NA     & JFK & BOS &  NA &  187 & 16 &  0 & 2013-02-09 16:00:00\\\\\n",
       "\\end{tabular}\n"
      ],
      "text/markdown": [
       "\n",
       "A tibble: 10 × 19\n",
       "\n",
       "| year &lt;int&gt; | month &lt;int&gt; | day &lt;int&gt; | dep_time &lt;int&gt; | sched_dep_time &lt;int&gt; | dep_delay &lt;dbl&gt; | arr_time &lt;int&gt; | sched_arr_time &lt;int&gt; | arr_delay &lt;dbl&gt; | carrier &lt;chr&gt; | flight &lt;int&gt; | tailnum &lt;chr&gt; | origin &lt;chr&gt; | dest &lt;chr&gt; | air_time &lt;dbl&gt; | distance &lt;dbl&gt; | hour &lt;dbl&gt; | minute &lt;dbl&gt; | time_hour &lt;dttm&gt; |\n",
       "|---|---|---|---|---|---|---|---|---|---|---|---|---|---|---|---|---|---|---|\n",
       "| 2013 | 1 | 24 |  919 |  920 | -1 | 1242 | 1233 |   9 | UA | 1275 | N57869 | EWR | LAX | 332 | 2454 |  9 | 20 | 2013-01-24 09:00:00 |\n",
       "| 2013 | 1 |  4 |  810 |  810 |  0 | 1029 | 1030 |  -1 | FL |  346 | N899AT | LGA | ATL | 115 |  762 |  8 | 10 | 2013-01-04 08:00:00 |\n",
       "| 2013 | 1 |  6 | 1126 | 1130 | -4 | 1253 | 1306 | -13 | EV | 4431 | N16151 | EWR | RDU |  75 |  416 | 11 | 30 | 2013-01-06 11:00:00 |\n",
       "| 2013 | 1 | 22 | 1105 | 1105 |  0 | 1241 | 1245 |  -4 | WN |  542 | N443WN | LGA | MDW | 121 |  725 | 11 |  5 | 2013-01-22 11:00:00 |\n",
       "| 2013 | 1 | 31 | 1801 | 1800 |  1 | 1922 | 1913 |   9 | US | 2185 | N748UW | LGA | DCA |  47 |  214 | 18 |  0 | 2013-01-31 18:00:00 |\n",
       "| 2013 | 1 | 30 | 1523 | 1345 | 98 | 1754 | 1641 |  73 | B6 | 1783 | N805JB | JFK | MCO | 139 |  944 | 13 | 45 | 2013-01-30 13:00:00 |\n",
       "| 2013 | 1 | 25 |  730 |  710 | 20 |  933 |  850 |  43 | MQ | 3737 | N507MQ | EWR | ORD | 129 |  719 |  7 | 10 | 2013-01-25 07:00:00 |\n",
       "| 2013 | 1 |  5 |  537 |  540 | -3 |  831 |  850 | -19 | AA | 1141 | N5DBAA | JFK | MIA | 153 | 1089 |  5 | 40 | 2013-01-05 05:00:00 |\n",
       "| 2013 | 2 | 26 | 1556 | 1605 | -9 | 1912 | 1911 |   1 | B6 |  157 | N794JB | JFK | MCO | 157 |  944 | 16 |  5 | 2013-02-26 16:00:00 |\n",
       "| 2013 | 2 |  9 |   NA | 1600 | NA |   NA | 1730 |  NA | 9E | 3453 | NA     | JFK | BOS |  NA |  187 | 16 |  0 | 2013-02-09 16:00:00 |\n",
       "\n"
      ],
      "text/plain": [
       "   year month day dep_time sched_dep_time dep_delay arr_time sched_arr_time\n",
       "1  2013 1     24   919      920           -1        1242     1233          \n",
       "2  2013 1      4   810      810            0        1029     1030          \n",
       "3  2013 1      6  1126     1130           -4        1253     1306          \n",
       "4  2013 1     22  1105     1105            0        1241     1245          \n",
       "5  2013 1     31  1801     1800            1        1922     1913          \n",
       "6  2013 1     30  1523     1345           98        1754     1641          \n",
       "7  2013 1     25   730      710           20         933      850          \n",
       "8  2013 1      5   537      540           -3         831      850          \n",
       "9  2013 2     26  1556     1605           -9        1912     1911          \n",
       "10 2013 2      9    NA     1600           NA          NA     1730          \n",
       "   arr_delay carrier flight tailnum origin dest air_time distance hour minute\n",
       "1    9       UA      1275   N57869  EWR    LAX  332      2454      9   20    \n",
       "2   -1       FL       346   N899AT  LGA    ATL  115       762      8   10    \n",
       "3  -13       EV      4431   N16151  EWR    RDU   75       416     11   30    \n",
       "4   -4       WN       542   N443WN  LGA    MDW  121       725     11    5    \n",
       "5    9       US      2185   N748UW  LGA    DCA   47       214     18    0    \n",
       "6   73       B6      1783   N805JB  JFK    MCO  139       944     13   45    \n",
       "7   43       MQ      3737   N507MQ  EWR    ORD  129       719      7   10    \n",
       "8  -19       AA      1141   N5DBAA  JFK    MIA  153      1089      5   40    \n",
       "9    1       B6       157   N794JB  JFK    MCO  157       944     16    5    \n",
       "10  NA       9E      3453   NA      JFK    BOS   NA       187     16    0    \n",
       "   time_hour          \n",
       "1  2013-01-24 09:00:00\n",
       "2  2013-01-04 08:00:00\n",
       "3  2013-01-06 11:00:00\n",
       "4  2013-01-22 11:00:00\n",
       "5  2013-01-31 18:00:00\n",
       "6  2013-01-30 13:00:00\n",
       "7  2013-01-25 07:00:00\n",
       "8  2013-01-05 05:00:00\n",
       "9  2013-02-26 16:00:00\n",
       "10 2013-02-09 16:00:00"
      ]
     },
     "metadata": {},
     "output_type": "display_data"
    }
   ],
   "source": [
    "# A shorter way to select flights that departed in January or February\n",
    "flights |>\n",
    "  filter(month %in% c(1, 2)) |>\n",
    "  sample_n(10)\n"
   ]
  },
  {
   "cell_type": "markdown",
   "metadata": {},
   "source": [
    "## Intro to `arrange`"
   ]
  },
  {
   "cell_type": "code",
   "execution_count": 25,
   "metadata": {
    "vscode": {
     "languageId": "r"
    }
   },
   "outputs": [
    {
     "data": {
      "text/html": [
       "<table class=\"dataframe\">\n",
       "<caption>A tibble: 10 × 19</caption>\n",
       "<thead>\n",
       "\t<tr><th scope=col>year</th><th scope=col>month</th><th scope=col>day</th><th scope=col>dep_time</th><th scope=col>sched_dep_time</th><th scope=col>dep_delay</th><th scope=col>arr_time</th><th scope=col>sched_arr_time</th><th scope=col>arr_delay</th><th scope=col>carrier</th><th scope=col>flight</th><th scope=col>tailnum</th><th scope=col>origin</th><th scope=col>dest</th><th scope=col>air_time</th><th scope=col>distance</th><th scope=col>hour</th><th scope=col>minute</th><th scope=col>time_hour</th></tr>\n",
       "\t<tr><th scope=col>&lt;int&gt;</th><th scope=col>&lt;int&gt;</th><th scope=col>&lt;int&gt;</th><th scope=col>&lt;int&gt;</th><th scope=col>&lt;int&gt;</th><th scope=col>&lt;dbl&gt;</th><th scope=col>&lt;int&gt;</th><th scope=col>&lt;int&gt;</th><th scope=col>&lt;dbl&gt;</th><th scope=col>&lt;chr&gt;</th><th scope=col>&lt;int&gt;</th><th scope=col>&lt;chr&gt;</th><th scope=col>&lt;chr&gt;</th><th scope=col>&lt;chr&gt;</th><th scope=col>&lt;dbl&gt;</th><th scope=col>&lt;dbl&gt;</th><th scope=col>&lt;dbl&gt;</th><th scope=col>&lt;dbl&gt;</th><th scope=col>&lt;dttm&gt;</th></tr>\n",
       "</thead>\n",
       "<tbody>\n",
       "\t<tr><td>2013</td><td>12</td><td>31</td><td>2356</td><td>2359</td><td> -3</td><td> 436</td><td> 445</td><td> -9</td><td>B6</td><td> 745</td><td>N665JB</td><td>JFK</td><td>PSE</td><td>200</td><td>1617</td><td>23</td><td>59</td><td>2013-12-31 23:00:00</td></tr>\n",
       "\t<tr><td>2013</td><td>12</td><td>31</td><td>2355</td><td>2359</td><td> -4</td><td> 430</td><td> 440</td><td>-10</td><td>B6</td><td>1503</td><td>N509JB</td><td>JFK</td><td>SJU</td><td>195</td><td>1598</td><td>23</td><td>59</td><td>2013-12-31 23:00:00</td></tr>\n",
       "\t<tr><td>2013</td><td>12</td><td>31</td><td>2332</td><td>2245</td><td> 47</td><td>  58</td><td>   3</td><td> 55</td><td>B6</td><td> 486</td><td>N334JB</td><td>JFK</td><td>ROC</td><td> 60</td><td> 264</td><td>22</td><td>45</td><td>2013-12-31 22:00:00</td></tr>\n",
       "\t<tr><td>2013</td><td>12</td><td>31</td><td>2328</td><td>2330</td><td> -2</td><td> 412</td><td> 409</td><td>  3</td><td>B6</td><td>1389</td><td>N651JB</td><td>EWR</td><td>SJU</td><td>198</td><td>1608</td><td>23</td><td>30</td><td>2013-12-31 23:00:00</td></tr>\n",
       "\t<tr><td>2013</td><td>12</td><td>31</td><td>2321</td><td>2250</td><td> 31</td><td>  46</td><td>   8</td><td> 38</td><td>B6</td><td>2002</td><td>N179JB</td><td>JFK</td><td>BUF</td><td> 66</td><td> 301</td><td>22</td><td>50</td><td>2013-12-31 22:00:00</td></tr>\n",
       "\t<tr><td>2013</td><td>12</td><td>31</td><td>2310</td><td>2255</td><td> 15</td><td>   7</td><td>2356</td><td> 11</td><td>B6</td><td> 718</td><td>N279JB</td><td>JFK</td><td>BOS</td><td> 40</td><td> 187</td><td>22</td><td>55</td><td>2013-12-31 22:00:00</td></tr>\n",
       "\t<tr><td>2013</td><td>12</td><td>31</td><td>2245</td><td>2250</td><td> -5</td><td>2359</td><td>2356</td><td>  3</td><td>B6</td><td>1816</td><td>N318JB</td><td>JFK</td><td>SYR</td><td> 51</td><td> 209</td><td>22</td><td>50</td><td>2013-12-31 22:00:00</td></tr>\n",
       "\t<tr><td>2013</td><td>12</td><td>31</td><td>2235</td><td>2245</td><td>-10</td><td>2351</td><td>2355</td><td> -4</td><td>B6</td><td> 234</td><td>N355JB</td><td>JFK</td><td>BTV</td><td> 49</td><td> 266</td><td>22</td><td>45</td><td>2013-12-31 22:00:00</td></tr>\n",
       "\t<tr><td>2013</td><td>12</td><td>31</td><td>2218</td><td>2219</td><td> -1</td><td> 315</td><td> 304</td><td> 11</td><td>B6</td><td>1203</td><td>N625JB</td><td>JFK</td><td>SJU</td><td>202</td><td>1598</td><td>22</td><td>19</td><td>2013-12-31 22:00:00</td></tr>\n",
       "\t<tr><td>2013</td><td>12</td><td>31</td><td>2211</td><td>2159</td><td> 12</td><td> 100</td><td>  45</td><td> 15</td><td>B6</td><td>1183</td><td>N715JB</td><td>JFK</td><td>MCO</td><td>148</td><td> 944</td><td>21</td><td>59</td><td>2013-12-31 21:00:00</td></tr>\n",
       "</tbody>\n",
       "</table>\n"
      ],
      "text/latex": [
       "A tibble: 10 × 19\n",
       "\\begin{tabular}{lllllllllllllllllll}\n",
       " year & month & day & dep\\_time & sched\\_dep\\_time & dep\\_delay & arr\\_time & sched\\_arr\\_time & arr\\_delay & carrier & flight & tailnum & origin & dest & air\\_time & distance & hour & minute & time\\_hour\\\\\n",
       " <int> & <int> & <int> & <int> & <int> & <dbl> & <int> & <int> & <dbl> & <chr> & <int> & <chr> & <chr> & <chr> & <dbl> & <dbl> & <dbl> & <dbl> & <dttm>\\\\\n",
       "\\hline\n",
       "\t 2013 & 12 & 31 & 2356 & 2359 &  -3 &  436 &  445 &  -9 & B6 &  745 & N665JB & JFK & PSE & 200 & 1617 & 23 & 59 & 2013-12-31 23:00:00\\\\\n",
       "\t 2013 & 12 & 31 & 2355 & 2359 &  -4 &  430 &  440 & -10 & B6 & 1503 & N509JB & JFK & SJU & 195 & 1598 & 23 & 59 & 2013-12-31 23:00:00\\\\\n",
       "\t 2013 & 12 & 31 & 2332 & 2245 &  47 &   58 &    3 &  55 & B6 &  486 & N334JB & JFK & ROC &  60 &  264 & 22 & 45 & 2013-12-31 22:00:00\\\\\n",
       "\t 2013 & 12 & 31 & 2328 & 2330 &  -2 &  412 &  409 &   3 & B6 & 1389 & N651JB & EWR & SJU & 198 & 1608 & 23 & 30 & 2013-12-31 23:00:00\\\\\n",
       "\t 2013 & 12 & 31 & 2321 & 2250 &  31 &   46 &    8 &  38 & B6 & 2002 & N179JB & JFK & BUF &  66 &  301 & 22 & 50 & 2013-12-31 22:00:00\\\\\n",
       "\t 2013 & 12 & 31 & 2310 & 2255 &  15 &    7 & 2356 &  11 & B6 &  718 & N279JB & JFK & BOS &  40 &  187 & 22 & 55 & 2013-12-31 22:00:00\\\\\n",
       "\t 2013 & 12 & 31 & 2245 & 2250 &  -5 & 2359 & 2356 &   3 & B6 & 1816 & N318JB & JFK & SYR &  51 &  209 & 22 & 50 & 2013-12-31 22:00:00\\\\\n",
       "\t 2013 & 12 & 31 & 2235 & 2245 & -10 & 2351 & 2355 &  -4 & B6 &  234 & N355JB & JFK & BTV &  49 &  266 & 22 & 45 & 2013-12-31 22:00:00\\\\\n",
       "\t 2013 & 12 & 31 & 2218 & 2219 &  -1 &  315 &  304 &  11 & B6 & 1203 & N625JB & JFK & SJU & 202 & 1598 & 22 & 19 & 2013-12-31 22:00:00\\\\\n",
       "\t 2013 & 12 & 31 & 2211 & 2159 &  12 &  100 &   45 &  15 & B6 & 1183 & N715JB & JFK & MCO & 148 &  944 & 21 & 59 & 2013-12-31 21:00:00\\\\\n",
       "\\end{tabular}\n"
      ],
      "text/markdown": [
       "\n",
       "A tibble: 10 × 19\n",
       "\n",
       "| year &lt;int&gt; | month &lt;int&gt; | day &lt;int&gt; | dep_time &lt;int&gt; | sched_dep_time &lt;int&gt; | dep_delay &lt;dbl&gt; | arr_time &lt;int&gt; | sched_arr_time &lt;int&gt; | arr_delay &lt;dbl&gt; | carrier &lt;chr&gt; | flight &lt;int&gt; | tailnum &lt;chr&gt; | origin &lt;chr&gt; | dest &lt;chr&gt; | air_time &lt;dbl&gt; | distance &lt;dbl&gt; | hour &lt;dbl&gt; | minute &lt;dbl&gt; | time_hour &lt;dttm&gt; |\n",
       "|---|---|---|---|---|---|---|---|---|---|---|---|---|---|---|---|---|---|---|\n",
       "| 2013 | 12 | 31 | 2356 | 2359 |  -3 |  436 |  445 |  -9 | B6 |  745 | N665JB | JFK | PSE | 200 | 1617 | 23 | 59 | 2013-12-31 23:00:00 |\n",
       "| 2013 | 12 | 31 | 2355 | 2359 |  -4 |  430 |  440 | -10 | B6 | 1503 | N509JB | JFK | SJU | 195 | 1598 | 23 | 59 | 2013-12-31 23:00:00 |\n",
       "| 2013 | 12 | 31 | 2332 | 2245 |  47 |   58 |    3 |  55 | B6 |  486 | N334JB | JFK | ROC |  60 |  264 | 22 | 45 | 2013-12-31 22:00:00 |\n",
       "| 2013 | 12 | 31 | 2328 | 2330 |  -2 |  412 |  409 |   3 | B6 | 1389 | N651JB | EWR | SJU | 198 | 1608 | 23 | 30 | 2013-12-31 23:00:00 |\n",
       "| 2013 | 12 | 31 | 2321 | 2250 |  31 |   46 |    8 |  38 | B6 | 2002 | N179JB | JFK | BUF |  66 |  301 | 22 | 50 | 2013-12-31 22:00:00 |\n",
       "| 2013 | 12 | 31 | 2310 | 2255 |  15 |    7 | 2356 |  11 | B6 |  718 | N279JB | JFK | BOS |  40 |  187 | 22 | 55 | 2013-12-31 22:00:00 |\n",
       "| 2013 | 12 | 31 | 2245 | 2250 |  -5 | 2359 | 2356 |   3 | B6 | 1816 | N318JB | JFK | SYR |  51 |  209 | 22 | 50 | 2013-12-31 22:00:00 |\n",
       "| 2013 | 12 | 31 | 2235 | 2245 | -10 | 2351 | 2355 |  -4 | B6 |  234 | N355JB | JFK | BTV |  49 |  266 | 22 | 45 | 2013-12-31 22:00:00 |\n",
       "| 2013 | 12 | 31 | 2218 | 2219 |  -1 |  315 |  304 |  11 | B6 | 1203 | N625JB | JFK | SJU | 202 | 1598 | 22 | 19 | 2013-12-31 22:00:00 |\n",
       "| 2013 | 12 | 31 | 2211 | 2159 |  12 |  100 |   45 |  15 | B6 | 1183 | N715JB | JFK | MCO | 148 |  944 | 21 | 59 | 2013-12-31 21:00:00 |\n",
       "\n"
      ],
      "text/plain": [
       "   year month day dep_time sched_dep_time dep_delay arr_time sched_arr_time\n",
       "1  2013 12    31  2356     2359            -3        436      445          \n",
       "2  2013 12    31  2355     2359            -4        430      440          \n",
       "3  2013 12    31  2332     2245            47         58        3          \n",
       "4  2013 12    31  2328     2330            -2        412      409          \n",
       "5  2013 12    31  2321     2250            31         46        8          \n",
       "6  2013 12    31  2310     2255            15          7     2356          \n",
       "7  2013 12    31  2245     2250            -5       2359     2356          \n",
       "8  2013 12    31  2235     2245           -10       2351     2355          \n",
       "9  2013 12    31  2218     2219            -1        315      304          \n",
       "10 2013 12    31  2211     2159            12        100       45          \n",
       "   arr_delay carrier flight tailnum origin dest air_time distance hour minute\n",
       "1   -9       B6       745   N665JB  JFK    PSE  200      1617     23   59    \n",
       "2  -10       B6      1503   N509JB  JFK    SJU  195      1598     23   59    \n",
       "3   55       B6       486   N334JB  JFK    ROC   60       264     22   45    \n",
       "4    3       B6      1389   N651JB  EWR    SJU  198      1608     23   30    \n",
       "5   38       B6      2002   N179JB  JFK    BUF   66       301     22   50    \n",
       "6   11       B6       718   N279JB  JFK    BOS   40       187     22   55    \n",
       "7    3       B6      1816   N318JB  JFK    SYR   51       209     22   50    \n",
       "8   -4       B6       234   N355JB  JFK    BTV   49       266     22   45    \n",
       "9   11       B6      1203   N625JB  JFK    SJU  202      1598     22   19    \n",
       "10  15       B6      1183   N715JB  JFK    MCO  148       944     21   59    \n",
       "   time_hour          \n",
       "1  2013-12-31 23:00:00\n",
       "2  2013-12-31 23:00:00\n",
       "3  2013-12-31 22:00:00\n",
       "4  2013-12-31 23:00:00\n",
       "5  2013-12-31 22:00:00\n",
       "6  2013-12-31 22:00:00\n",
       "7  2013-12-31 22:00:00\n",
       "8  2013-12-31 22:00:00\n",
       "9  2013-12-31 22:00:00\n",
       "10 2013-12-31 21:00:00"
      ]
     },
     "metadata": {},
     "output_type": "display_data"
    }
   ],
   "source": [
    "flights |>\n",
    "  arrange(desc(year), desc(month), desc(day), desc(dep_time)) |>\n",
    "  head(10)\n"
   ]
  },
  {
   "cell_type": "markdown",
   "metadata": {},
   "source": [
    "## Intro to `distinct`"
   ]
  },
  {
   "cell_type": "code",
   "execution_count": 29,
   "metadata": {
    "vscode": {
     "languageId": "r"
    }
   },
   "outputs": [
    {
     "data": {
      "text/html": [
       "<table class=\"dataframe\">\n",
       "<caption>A tibble: 10 × 19</caption>\n",
       "<thead>\n",
       "\t<tr><th scope=col>year</th><th scope=col>month</th><th scope=col>day</th><th scope=col>dep_time</th><th scope=col>sched_dep_time</th><th scope=col>dep_delay</th><th scope=col>arr_time</th><th scope=col>sched_arr_time</th><th scope=col>arr_delay</th><th scope=col>carrier</th><th scope=col>flight</th><th scope=col>tailnum</th><th scope=col>origin</th><th scope=col>dest</th><th scope=col>air_time</th><th scope=col>distance</th><th scope=col>hour</th><th scope=col>minute</th><th scope=col>time_hour</th></tr>\n",
       "\t<tr><th scope=col>&lt;int&gt;</th><th scope=col>&lt;int&gt;</th><th scope=col>&lt;int&gt;</th><th scope=col>&lt;int&gt;</th><th scope=col>&lt;int&gt;</th><th scope=col>&lt;dbl&gt;</th><th scope=col>&lt;int&gt;</th><th scope=col>&lt;int&gt;</th><th scope=col>&lt;dbl&gt;</th><th scope=col>&lt;chr&gt;</th><th scope=col>&lt;int&gt;</th><th scope=col>&lt;chr&gt;</th><th scope=col>&lt;chr&gt;</th><th scope=col>&lt;chr&gt;</th><th scope=col>&lt;dbl&gt;</th><th scope=col>&lt;dbl&gt;</th><th scope=col>&lt;dbl&gt;</th><th scope=col>&lt;dbl&gt;</th><th scope=col>&lt;dttm&gt;</th></tr>\n",
       "</thead>\n",
       "<tbody>\n",
       "\t<tr><td>2013</td><td> 6</td><td>29</td><td>1354</td><td>1349</td><td> 5</td><td>1459</td><td>1504</td><td> -5</td><td>B6</td><td> 118</td><td>N318JB</td><td>JFK</td><td>BOS</td><td> 42</td><td> 187</td><td>13</td><td>49</td><td>2013-06-29 13:00:00</td></tr>\n",
       "\t<tr><td>2013</td><td> 5</td><td>21</td><td>1903</td><td>1909</td><td>-6</td><td>2159</td><td>2235</td><td>-36</td><td>B6</td><td>  87</td><td>N633JB</td><td>JFK</td><td>SLC</td><td>265</td><td>1990</td><td>19</td><td> 9</td><td>2013-05-21 19:00:00</td></tr>\n",
       "\t<tr><td>2013</td><td> 9</td><td>19</td><td>1830</td><td>1830</td><td> 0</td><td>2037</td><td>2029</td><td>  8</td><td>DL</td><td> 548</td><td>N316US</td><td>EWR</td><td>DTW</td><td> 78</td><td> 488</td><td>18</td><td>30</td><td>2013-09-19 18:00:00</td></tr>\n",
       "\t<tr><td>2013</td><td> 5</td><td> 7</td><td>1440</td><td>1445</td><td>-5</td><td>1623</td><td>1645</td><td>-22</td><td>US</td><td>1445</td><td>N193UW</td><td>LGA</td><td>CLT</td><td> 78</td><td> 544</td><td>14</td><td>45</td><td>2013-05-07 14:00:00</td></tr>\n",
       "\t<tr><td>2013</td><td>10</td><td>11</td><td> 843</td><td> 850</td><td>-7</td><td>1001</td><td>1003</td><td> -2</td><td>EV</td><td>3810</td><td>N14907</td><td>EWR</td><td>BUF</td><td> 44</td><td> 282</td><td> 8</td><td>50</td><td>2013-10-11 08:00:00</td></tr>\n",
       "\t<tr><td>2013</td><td> 5</td><td>19</td><td>2248</td><td>2130</td><td>78</td><td>  29</td><td>2247</td><td>102</td><td>EV</td><td>4378</td><td>N12564</td><td>EWR</td><td>BTV</td><td> 60</td><td> 266</td><td>21</td><td>30</td><td>2013-05-19 21:00:00</td></tr>\n",
       "\t<tr><td>2013</td><td> 6</td><td>19</td><td>1635</td><td>1635</td><td> 0</td><td>1935</td><td>1954</td><td>-19</td><td>B6</td><td>  15</td><td>N821JB</td><td>JFK</td><td>FLL</td><td>148</td><td>1069</td><td>16</td><td>35</td><td>2013-06-19 16:00:00</td></tr>\n",
       "\t<tr><td>2013</td><td> 4</td><td>21</td><td>1449</td><td>1455</td><td>-6</td><td>1630</td><td>1632</td><td> -2</td><td>9E</td><td>3318</td><td>N907XJ</td><td>JFK</td><td>BUF</td><td> 56</td><td> 301</td><td>14</td><td>55</td><td>2013-04-21 14:00:00</td></tr>\n",
       "\t<tr><td>2013</td><td>10</td><td>17</td><td> 843</td><td> 825</td><td>18</td><td>1131</td><td>1120</td><td> 11</td><td>UA</td><td> 478</td><td>N483UA</td><td>EWR</td><td>MCO</td><td>128</td><td> 937</td><td> 8</td><td>25</td><td>2013-10-17 08:00:00</td></tr>\n",
       "\t<tr><td>2013</td><td> 4</td><td> 6</td><td> 639</td><td> 640</td><td>-1</td><td> 936</td><td>1000</td><td>-24</td><td>UA</td><td> 387</td><td>N822UA</td><td>EWR</td><td>LAX</td><td>338</td><td>2454</td><td> 6</td><td>40</td><td>2013-04-06 06:00:00</td></tr>\n",
       "</tbody>\n",
       "</table>\n"
      ],
      "text/latex": [
       "A tibble: 10 × 19\n",
       "\\begin{tabular}{lllllllllllllllllll}\n",
       " year & month & day & dep\\_time & sched\\_dep\\_time & dep\\_delay & arr\\_time & sched\\_arr\\_time & arr\\_delay & carrier & flight & tailnum & origin & dest & air\\_time & distance & hour & minute & time\\_hour\\\\\n",
       " <int> & <int> & <int> & <int> & <int> & <dbl> & <int> & <int> & <dbl> & <chr> & <int> & <chr> & <chr> & <chr> & <dbl> & <dbl> & <dbl> & <dbl> & <dttm>\\\\\n",
       "\\hline\n",
       "\t 2013 &  6 & 29 & 1354 & 1349 &  5 & 1459 & 1504 &  -5 & B6 &  118 & N318JB & JFK & BOS &  42 &  187 & 13 & 49 & 2013-06-29 13:00:00\\\\\n",
       "\t 2013 &  5 & 21 & 1903 & 1909 & -6 & 2159 & 2235 & -36 & B6 &   87 & N633JB & JFK & SLC & 265 & 1990 & 19 &  9 & 2013-05-21 19:00:00\\\\\n",
       "\t 2013 &  9 & 19 & 1830 & 1830 &  0 & 2037 & 2029 &   8 & DL &  548 & N316US & EWR & DTW &  78 &  488 & 18 & 30 & 2013-09-19 18:00:00\\\\\n",
       "\t 2013 &  5 &  7 & 1440 & 1445 & -5 & 1623 & 1645 & -22 & US & 1445 & N193UW & LGA & CLT &  78 &  544 & 14 & 45 & 2013-05-07 14:00:00\\\\\n",
       "\t 2013 & 10 & 11 &  843 &  850 & -7 & 1001 & 1003 &  -2 & EV & 3810 & N14907 & EWR & BUF &  44 &  282 &  8 & 50 & 2013-10-11 08:00:00\\\\\n",
       "\t 2013 &  5 & 19 & 2248 & 2130 & 78 &   29 & 2247 & 102 & EV & 4378 & N12564 & EWR & BTV &  60 &  266 & 21 & 30 & 2013-05-19 21:00:00\\\\\n",
       "\t 2013 &  6 & 19 & 1635 & 1635 &  0 & 1935 & 1954 & -19 & B6 &   15 & N821JB & JFK & FLL & 148 & 1069 & 16 & 35 & 2013-06-19 16:00:00\\\\\n",
       "\t 2013 &  4 & 21 & 1449 & 1455 & -6 & 1630 & 1632 &  -2 & 9E & 3318 & N907XJ & JFK & BUF &  56 &  301 & 14 & 55 & 2013-04-21 14:00:00\\\\\n",
       "\t 2013 & 10 & 17 &  843 &  825 & 18 & 1131 & 1120 &  11 & UA &  478 & N483UA & EWR & MCO & 128 &  937 &  8 & 25 & 2013-10-17 08:00:00\\\\\n",
       "\t 2013 &  4 &  6 &  639 &  640 & -1 &  936 & 1000 & -24 & UA &  387 & N822UA & EWR & LAX & 338 & 2454 &  6 & 40 & 2013-04-06 06:00:00\\\\\n",
       "\\end{tabular}\n"
      ],
      "text/markdown": [
       "\n",
       "A tibble: 10 × 19\n",
       "\n",
       "| year &lt;int&gt; | month &lt;int&gt; | day &lt;int&gt; | dep_time &lt;int&gt; | sched_dep_time &lt;int&gt; | dep_delay &lt;dbl&gt; | arr_time &lt;int&gt; | sched_arr_time &lt;int&gt; | arr_delay &lt;dbl&gt; | carrier &lt;chr&gt; | flight &lt;int&gt; | tailnum &lt;chr&gt; | origin &lt;chr&gt; | dest &lt;chr&gt; | air_time &lt;dbl&gt; | distance &lt;dbl&gt; | hour &lt;dbl&gt; | minute &lt;dbl&gt; | time_hour &lt;dttm&gt; |\n",
       "|---|---|---|---|---|---|---|---|---|---|---|---|---|---|---|---|---|---|---|\n",
       "| 2013 |  6 | 29 | 1354 | 1349 |  5 | 1459 | 1504 |  -5 | B6 |  118 | N318JB | JFK | BOS |  42 |  187 | 13 | 49 | 2013-06-29 13:00:00 |\n",
       "| 2013 |  5 | 21 | 1903 | 1909 | -6 | 2159 | 2235 | -36 | B6 |   87 | N633JB | JFK | SLC | 265 | 1990 | 19 |  9 | 2013-05-21 19:00:00 |\n",
       "| 2013 |  9 | 19 | 1830 | 1830 |  0 | 2037 | 2029 |   8 | DL |  548 | N316US | EWR | DTW |  78 |  488 | 18 | 30 | 2013-09-19 18:00:00 |\n",
       "| 2013 |  5 |  7 | 1440 | 1445 | -5 | 1623 | 1645 | -22 | US | 1445 | N193UW | LGA | CLT |  78 |  544 | 14 | 45 | 2013-05-07 14:00:00 |\n",
       "| 2013 | 10 | 11 |  843 |  850 | -7 | 1001 | 1003 |  -2 | EV | 3810 | N14907 | EWR | BUF |  44 |  282 |  8 | 50 | 2013-10-11 08:00:00 |\n",
       "| 2013 |  5 | 19 | 2248 | 2130 | 78 |   29 | 2247 | 102 | EV | 4378 | N12564 | EWR | BTV |  60 |  266 | 21 | 30 | 2013-05-19 21:00:00 |\n",
       "| 2013 |  6 | 19 | 1635 | 1635 |  0 | 1935 | 1954 | -19 | B6 |   15 | N821JB | JFK | FLL | 148 | 1069 | 16 | 35 | 2013-06-19 16:00:00 |\n",
       "| 2013 |  4 | 21 | 1449 | 1455 | -6 | 1630 | 1632 |  -2 | 9E | 3318 | N907XJ | JFK | BUF |  56 |  301 | 14 | 55 | 2013-04-21 14:00:00 |\n",
       "| 2013 | 10 | 17 |  843 |  825 | 18 | 1131 | 1120 |  11 | UA |  478 | N483UA | EWR | MCO | 128 |  937 |  8 | 25 | 2013-10-17 08:00:00 |\n",
       "| 2013 |  4 |  6 |  639 |  640 | -1 |  936 | 1000 | -24 | UA |  387 | N822UA | EWR | LAX | 338 | 2454 |  6 | 40 | 2013-04-06 06:00:00 |\n",
       "\n"
      ],
      "text/plain": [
       "   year month day dep_time sched_dep_time dep_delay arr_time sched_arr_time\n",
       "1  2013  6    29  1354     1349            5        1459     1504          \n",
       "2  2013  5    21  1903     1909           -6        2159     2235          \n",
       "3  2013  9    19  1830     1830            0        2037     2029          \n",
       "4  2013  5     7  1440     1445           -5        1623     1645          \n",
       "5  2013 10    11   843      850           -7        1001     1003          \n",
       "6  2013  5    19  2248     2130           78          29     2247          \n",
       "7  2013  6    19  1635     1635            0        1935     1954          \n",
       "8  2013  4    21  1449     1455           -6        1630     1632          \n",
       "9  2013 10    17   843      825           18        1131     1120          \n",
       "10 2013  4     6   639      640           -1         936     1000          \n",
       "   arr_delay carrier flight tailnum origin dest air_time distance hour minute\n",
       "1   -5       B6       118   N318JB  JFK    BOS   42       187     13   49    \n",
       "2  -36       B6        87   N633JB  JFK    SLC  265      1990     19    9    \n",
       "3    8       DL       548   N316US  EWR    DTW   78       488     18   30    \n",
       "4  -22       US      1445   N193UW  LGA    CLT   78       544     14   45    \n",
       "5   -2       EV      3810   N14907  EWR    BUF   44       282      8   50    \n",
       "6  102       EV      4378   N12564  EWR    BTV   60       266     21   30    \n",
       "7  -19       B6        15   N821JB  JFK    FLL  148      1069     16   35    \n",
       "8   -2       9E      3318   N907XJ  JFK    BUF   56       301     14   55    \n",
       "9   11       UA       478   N483UA  EWR    MCO  128       937      8   25    \n",
       "10 -24       UA       387   N822UA  EWR    LAX  338      2454      6   40    \n",
       "   time_hour          \n",
       "1  2013-06-29 13:00:00\n",
       "2  2013-05-21 19:00:00\n",
       "3  2013-09-19 18:00:00\n",
       "4  2013-05-07 14:00:00\n",
       "5  2013-10-11 08:00:00\n",
       "6  2013-05-19 21:00:00\n",
       "7  2013-06-19 16:00:00\n",
       "8  2013-04-21 14:00:00\n",
       "9  2013-10-17 08:00:00\n",
       "10 2013-04-06 06:00:00"
      ]
     },
     "metadata": {},
     "output_type": "display_data"
    }
   ],
   "source": [
    "# Remove duplicate rows, if any\n",
    "flights |>\n",
    "  distinct() |>\n",
    "  sample_n(10)\n"
   ]
  },
  {
   "cell_type": "code",
   "execution_count": 30,
   "metadata": {
    "vscode": {
     "languageId": "r"
    }
   },
   "outputs": [
    {
     "data": {
      "text/html": [
       "<table class=\"dataframe\">\n",
       "<caption>A tibble: 10 × 1</caption>\n",
       "<thead>\n",
       "\t<tr><th scope=col>dest</th></tr>\n",
       "\t<tr><th scope=col>&lt;chr&gt;</th></tr>\n",
       "</thead>\n",
       "<tbody>\n",
       "\t<tr><td>IAH</td></tr>\n",
       "\t<tr><td>MIA</td></tr>\n",
       "\t<tr><td>BQN</td></tr>\n",
       "\t<tr><td>ATL</td></tr>\n",
       "\t<tr><td>ORD</td></tr>\n",
       "\t<tr><td>FLL</td></tr>\n",
       "\t<tr><td>IAD</td></tr>\n",
       "\t<tr><td>MCO</td></tr>\n",
       "\t<tr><td>PBI</td></tr>\n",
       "\t<tr><td>TPA</td></tr>\n",
       "</tbody>\n",
       "</table>\n"
      ],
      "text/latex": [
       "A tibble: 10 × 1\n",
       "\\begin{tabular}{l}\n",
       " dest\\\\\n",
       " <chr>\\\\\n",
       "\\hline\n",
       "\t IAH\\\\\n",
       "\t MIA\\\\\n",
       "\t BQN\\\\\n",
       "\t ATL\\\\\n",
       "\t ORD\\\\\n",
       "\t FLL\\\\\n",
       "\t IAD\\\\\n",
       "\t MCO\\\\\n",
       "\t PBI\\\\\n",
       "\t TPA\\\\\n",
       "\\end{tabular}\n"
      ],
      "text/markdown": [
       "\n",
       "A tibble: 10 × 1\n",
       "\n",
       "| dest &lt;chr&gt; |\n",
       "|---|\n",
       "| IAH |\n",
       "| MIA |\n",
       "| BQN |\n",
       "| ATL |\n",
       "| ORD |\n",
       "| FLL |\n",
       "| IAD |\n",
       "| MCO |\n",
       "| PBI |\n",
       "| TPA |\n",
       "\n"
      ],
      "text/plain": [
       "   dest\n",
       "1  IAH \n",
       "2  MIA \n",
       "3  BQN \n",
       "4  ATL \n",
       "5  ORD \n",
       "6  FLL \n",
       "7  IAD \n",
       "8  MCO \n",
       "9  PBI \n",
       "10 TPA "
      ]
     },
     "metadata": {},
     "output_type": "display_data"
    }
   ],
   "source": [
    "# Find all possible destinations\n",
    "flights |>\n",
    "  distinct(dest) |>\n",
    "  head(10)\n"
   ]
  },
  {
   "cell_type": "code",
   "execution_count": 26,
   "metadata": {
    "vscode": {
     "languageId": "r"
    }
   },
   "outputs": [
    {
     "data": {
      "text/html": [
       "<table class=\"dataframe\">\n",
       "<caption>A tibble: 10 × 2</caption>\n",
       "<thead>\n",
       "\t<tr><th scope=col>origin</th><th scope=col>dest</th></tr>\n",
       "\t<tr><th scope=col>&lt;chr&gt;</th><th scope=col>&lt;chr&gt;</th></tr>\n",
       "</thead>\n",
       "<tbody>\n",
       "\t<tr><td>LGA</td><td>SAV</td></tr>\n",
       "\t<tr><td>EWR</td><td>AVL</td></tr>\n",
       "\t<tr><td>JFK</td><td>TPA</td></tr>\n",
       "\t<tr><td>LGA</td><td>HOU</td></tr>\n",
       "\t<tr><td>EWR</td><td>IND</td></tr>\n",
       "\t<tr><td>JFK</td><td>ABQ</td></tr>\n",
       "\t<tr><td>JFK</td><td>BOS</td></tr>\n",
       "\t<tr><td>JFK</td><td>HOU</td></tr>\n",
       "\t<tr><td>LGA</td><td>CVG</td></tr>\n",
       "\t<tr><td>EWR</td><td>MDW</td></tr>\n",
       "</tbody>\n",
       "</table>\n"
      ],
      "text/latex": [
       "A tibble: 10 × 2\n",
       "\\begin{tabular}{ll}\n",
       " origin & dest\\\\\n",
       " <chr> & <chr>\\\\\n",
       "\\hline\n",
       "\t LGA & SAV\\\\\n",
       "\t EWR & AVL\\\\\n",
       "\t JFK & TPA\\\\\n",
       "\t LGA & HOU\\\\\n",
       "\t EWR & IND\\\\\n",
       "\t JFK & ABQ\\\\\n",
       "\t JFK & BOS\\\\\n",
       "\t JFK & HOU\\\\\n",
       "\t LGA & CVG\\\\\n",
       "\t EWR & MDW\\\\\n",
       "\\end{tabular}\n"
      ],
      "text/markdown": [
       "\n",
       "A tibble: 10 × 2\n",
       "\n",
       "| origin &lt;chr&gt; | dest &lt;chr&gt; |\n",
       "|---|---|\n",
       "| LGA | SAV |\n",
       "| EWR | AVL |\n",
       "| JFK | TPA |\n",
       "| LGA | HOU |\n",
       "| EWR | IND |\n",
       "| JFK | ABQ |\n",
       "| JFK | BOS |\n",
       "| JFK | HOU |\n",
       "| LGA | CVG |\n",
       "| EWR | MDW |\n",
       "\n"
      ],
      "text/plain": [
       "   origin dest\n",
       "1  LGA    SAV \n",
       "2  EWR    AVL \n",
       "3  JFK    TPA \n",
       "4  LGA    HOU \n",
       "5  EWR    IND \n",
       "6  JFK    ABQ \n",
       "7  JFK    BOS \n",
       "8  JFK    HOU \n",
       "9  LGA    CVG \n",
       "10 EWR    MDW "
      ]
     },
     "metadata": {},
     "output_type": "display_data"
    }
   ],
   "source": [
    "# Find all unique origin and destination pairs\n",
    "flights |>\n",
    "  distinct(origin, dest) |>\n",
    "  sample_n(10)\n"
   ]
  },
  {
   "cell_type": "code",
   "execution_count": 33,
   "metadata": {
    "vscode": {
     "languageId": "r"
    }
   },
   "outputs": [
    {
     "data": {
      "text/html": [
       "<table class=\"dataframe\">\n",
       "<caption>A tibble: 10 × 19</caption>\n",
       "<thead>\n",
       "\t<tr><th scope=col>year</th><th scope=col>month</th><th scope=col>day</th><th scope=col>dep_time</th><th scope=col>sched_dep_time</th><th scope=col>dep_delay</th><th scope=col>arr_time</th><th scope=col>sched_arr_time</th><th scope=col>arr_delay</th><th scope=col>carrier</th><th scope=col>flight</th><th scope=col>tailnum</th><th scope=col>origin</th><th scope=col>dest</th><th scope=col>air_time</th><th scope=col>distance</th><th scope=col>hour</th><th scope=col>minute</th><th scope=col>time_hour</th></tr>\n",
       "\t<tr><th scope=col>&lt;int&gt;</th><th scope=col>&lt;int&gt;</th><th scope=col>&lt;int&gt;</th><th scope=col>&lt;int&gt;</th><th scope=col>&lt;int&gt;</th><th scope=col>&lt;dbl&gt;</th><th scope=col>&lt;int&gt;</th><th scope=col>&lt;int&gt;</th><th scope=col>&lt;dbl&gt;</th><th scope=col>&lt;chr&gt;</th><th scope=col>&lt;int&gt;</th><th scope=col>&lt;chr&gt;</th><th scope=col>&lt;chr&gt;</th><th scope=col>&lt;chr&gt;</th><th scope=col>&lt;dbl&gt;</th><th scope=col>&lt;dbl&gt;</th><th scope=col>&lt;dbl&gt;</th><th scope=col>&lt;dbl&gt;</th><th scope=col>&lt;dttm&gt;</th></tr>\n",
       "</thead>\n",
       "<tbody>\n",
       "\t<tr><td>2013</td><td>1</td><td>1</td><td>517</td><td>515</td><td> 2</td><td> 830</td><td> 819</td><td> 11</td><td>UA</td><td>1545</td><td>N14228</td><td>EWR</td><td>IAH</td><td>227</td><td>1400</td><td>5</td><td>15</td><td>2013-01-01 05:00:00</td></tr>\n",
       "\t<tr><td>2013</td><td>1</td><td>1</td><td>533</td><td>529</td><td> 4</td><td> 850</td><td> 830</td><td> 20</td><td>UA</td><td>1714</td><td>N24211</td><td>LGA</td><td>IAH</td><td>227</td><td>1416</td><td>5</td><td>29</td><td>2013-01-01 05:00:00</td></tr>\n",
       "\t<tr><td>2013</td><td>1</td><td>1</td><td>542</td><td>540</td><td> 2</td><td> 923</td><td> 850</td><td> 33</td><td>AA</td><td>1141</td><td>N619AA</td><td>JFK</td><td>MIA</td><td>160</td><td>1089</td><td>5</td><td>40</td><td>2013-01-01 05:00:00</td></tr>\n",
       "\t<tr><td>2013</td><td>1</td><td>1</td><td>544</td><td>545</td><td>-1</td><td>1004</td><td>1022</td><td>-18</td><td>B6</td><td> 725</td><td>N804JB</td><td>JFK</td><td>BQN</td><td>183</td><td>1576</td><td>5</td><td>45</td><td>2013-01-01 05:00:00</td></tr>\n",
       "\t<tr><td>2013</td><td>1</td><td>1</td><td>554</td><td>600</td><td>-6</td><td> 812</td><td> 837</td><td>-25</td><td>DL</td><td> 461</td><td>N668DN</td><td>LGA</td><td>ATL</td><td>116</td><td> 762</td><td>6</td><td> 0</td><td>2013-01-01 06:00:00</td></tr>\n",
       "\t<tr><td>2013</td><td>1</td><td>1</td><td>554</td><td>558</td><td>-4</td><td> 740</td><td> 728</td><td> 12</td><td>UA</td><td>1696</td><td>N39463</td><td>EWR</td><td>ORD</td><td>150</td><td> 719</td><td>5</td><td>58</td><td>2013-01-01 05:00:00</td></tr>\n",
       "\t<tr><td>2013</td><td>1</td><td>1</td><td>555</td><td>600</td><td>-5</td><td> 913</td><td> 854</td><td> 19</td><td>B6</td><td> 507</td><td>N516JB</td><td>EWR</td><td>FLL</td><td>158</td><td>1065</td><td>6</td><td> 0</td><td>2013-01-01 06:00:00</td></tr>\n",
       "\t<tr><td>2013</td><td>1</td><td>1</td><td>557</td><td>600</td><td>-3</td><td> 709</td><td> 723</td><td>-14</td><td>EV</td><td>5708</td><td>N829AS</td><td>LGA</td><td>IAD</td><td> 53</td><td> 229</td><td>6</td><td> 0</td><td>2013-01-01 06:00:00</td></tr>\n",
       "\t<tr><td>2013</td><td>1</td><td>1</td><td>557</td><td>600</td><td>-3</td><td> 838</td><td> 846</td><td> -8</td><td>B6</td><td>  79</td><td>N593JB</td><td>JFK</td><td>MCO</td><td>140</td><td> 944</td><td>6</td><td> 0</td><td>2013-01-01 06:00:00</td></tr>\n",
       "\t<tr><td>2013</td><td>1</td><td>1</td><td>558</td><td>600</td><td>-2</td><td> 753</td><td> 745</td><td>  8</td><td>AA</td><td> 301</td><td>N3ALAA</td><td>LGA</td><td>ORD</td><td>138</td><td> 733</td><td>6</td><td> 0</td><td>2013-01-01 06:00:00</td></tr>\n",
       "</tbody>\n",
       "</table>\n"
      ],
      "text/latex": [
       "A tibble: 10 × 19\n",
       "\\begin{tabular}{lllllllllllllllllll}\n",
       " year & month & day & dep\\_time & sched\\_dep\\_time & dep\\_delay & arr\\_time & sched\\_arr\\_time & arr\\_delay & carrier & flight & tailnum & origin & dest & air\\_time & distance & hour & minute & time\\_hour\\\\\n",
       " <int> & <int> & <int> & <int> & <int> & <dbl> & <int> & <int> & <dbl> & <chr> & <int> & <chr> & <chr> & <chr> & <dbl> & <dbl> & <dbl> & <dbl> & <dttm>\\\\\n",
       "\\hline\n",
       "\t 2013 & 1 & 1 & 517 & 515 &  2 &  830 &  819 &  11 & UA & 1545 & N14228 & EWR & IAH & 227 & 1400 & 5 & 15 & 2013-01-01 05:00:00\\\\\n",
       "\t 2013 & 1 & 1 & 533 & 529 &  4 &  850 &  830 &  20 & UA & 1714 & N24211 & LGA & IAH & 227 & 1416 & 5 & 29 & 2013-01-01 05:00:00\\\\\n",
       "\t 2013 & 1 & 1 & 542 & 540 &  2 &  923 &  850 &  33 & AA & 1141 & N619AA & JFK & MIA & 160 & 1089 & 5 & 40 & 2013-01-01 05:00:00\\\\\n",
       "\t 2013 & 1 & 1 & 544 & 545 & -1 & 1004 & 1022 & -18 & B6 &  725 & N804JB & JFK & BQN & 183 & 1576 & 5 & 45 & 2013-01-01 05:00:00\\\\\n",
       "\t 2013 & 1 & 1 & 554 & 600 & -6 &  812 &  837 & -25 & DL &  461 & N668DN & LGA & ATL & 116 &  762 & 6 &  0 & 2013-01-01 06:00:00\\\\\n",
       "\t 2013 & 1 & 1 & 554 & 558 & -4 &  740 &  728 &  12 & UA & 1696 & N39463 & EWR & ORD & 150 &  719 & 5 & 58 & 2013-01-01 05:00:00\\\\\n",
       "\t 2013 & 1 & 1 & 555 & 600 & -5 &  913 &  854 &  19 & B6 &  507 & N516JB & EWR & FLL & 158 & 1065 & 6 &  0 & 2013-01-01 06:00:00\\\\\n",
       "\t 2013 & 1 & 1 & 557 & 600 & -3 &  709 &  723 & -14 & EV & 5708 & N829AS & LGA & IAD &  53 &  229 & 6 &  0 & 2013-01-01 06:00:00\\\\\n",
       "\t 2013 & 1 & 1 & 557 & 600 & -3 &  838 &  846 &  -8 & B6 &   79 & N593JB & JFK & MCO & 140 &  944 & 6 &  0 & 2013-01-01 06:00:00\\\\\n",
       "\t 2013 & 1 & 1 & 558 & 600 & -2 &  753 &  745 &   8 & AA &  301 & N3ALAA & LGA & ORD & 138 &  733 & 6 &  0 & 2013-01-01 06:00:00\\\\\n",
       "\\end{tabular}\n"
      ],
      "text/markdown": [
       "\n",
       "A tibble: 10 × 19\n",
       "\n",
       "| year &lt;int&gt; | month &lt;int&gt; | day &lt;int&gt; | dep_time &lt;int&gt; | sched_dep_time &lt;int&gt; | dep_delay &lt;dbl&gt; | arr_time &lt;int&gt; | sched_arr_time &lt;int&gt; | arr_delay &lt;dbl&gt; | carrier &lt;chr&gt; | flight &lt;int&gt; | tailnum &lt;chr&gt; | origin &lt;chr&gt; | dest &lt;chr&gt; | air_time &lt;dbl&gt; | distance &lt;dbl&gt; | hour &lt;dbl&gt; | minute &lt;dbl&gt; | time_hour &lt;dttm&gt; |\n",
       "|---|---|---|---|---|---|---|---|---|---|---|---|---|---|---|---|---|---|---|\n",
       "| 2013 | 1 | 1 | 517 | 515 |  2 |  830 |  819 |  11 | UA | 1545 | N14228 | EWR | IAH | 227 | 1400 | 5 | 15 | 2013-01-01 05:00:00 |\n",
       "| 2013 | 1 | 1 | 533 | 529 |  4 |  850 |  830 |  20 | UA | 1714 | N24211 | LGA | IAH | 227 | 1416 | 5 | 29 | 2013-01-01 05:00:00 |\n",
       "| 2013 | 1 | 1 | 542 | 540 |  2 |  923 |  850 |  33 | AA | 1141 | N619AA | JFK | MIA | 160 | 1089 | 5 | 40 | 2013-01-01 05:00:00 |\n",
       "| 2013 | 1 | 1 | 544 | 545 | -1 | 1004 | 1022 | -18 | B6 |  725 | N804JB | JFK | BQN | 183 | 1576 | 5 | 45 | 2013-01-01 05:00:00 |\n",
       "| 2013 | 1 | 1 | 554 | 600 | -6 |  812 |  837 | -25 | DL |  461 | N668DN | LGA | ATL | 116 |  762 | 6 |  0 | 2013-01-01 06:00:00 |\n",
       "| 2013 | 1 | 1 | 554 | 558 | -4 |  740 |  728 |  12 | UA | 1696 | N39463 | EWR | ORD | 150 |  719 | 5 | 58 | 2013-01-01 05:00:00 |\n",
       "| 2013 | 1 | 1 | 555 | 600 | -5 |  913 |  854 |  19 | B6 |  507 | N516JB | EWR | FLL | 158 | 1065 | 6 |  0 | 2013-01-01 06:00:00 |\n",
       "| 2013 | 1 | 1 | 557 | 600 | -3 |  709 |  723 | -14 | EV | 5708 | N829AS | LGA | IAD |  53 |  229 | 6 |  0 | 2013-01-01 06:00:00 |\n",
       "| 2013 | 1 | 1 | 557 | 600 | -3 |  838 |  846 |  -8 | B6 |   79 | N593JB | JFK | MCO | 140 |  944 | 6 |  0 | 2013-01-01 06:00:00 |\n",
       "| 2013 | 1 | 1 | 558 | 600 | -2 |  753 |  745 |   8 | AA |  301 | N3ALAA | LGA | ORD | 138 |  733 | 6 |  0 | 2013-01-01 06:00:00 |\n",
       "\n"
      ],
      "text/plain": [
       "   year month day dep_time sched_dep_time dep_delay arr_time sched_arr_time\n",
       "1  2013 1     1   517      515             2         830      819          \n",
       "2  2013 1     1   533      529             4         850      830          \n",
       "3  2013 1     1   542      540             2         923      850          \n",
       "4  2013 1     1   544      545            -1        1004     1022          \n",
       "5  2013 1     1   554      600            -6         812      837          \n",
       "6  2013 1     1   554      558            -4         740      728          \n",
       "7  2013 1     1   555      600            -5         913      854          \n",
       "8  2013 1     1   557      600            -3         709      723          \n",
       "9  2013 1     1   557      600            -3         838      846          \n",
       "10 2013 1     1   558      600            -2         753      745          \n",
       "   arr_delay carrier flight tailnum origin dest air_time distance hour minute\n",
       "1   11       UA      1545   N14228  EWR    IAH  227      1400     5    15    \n",
       "2   20       UA      1714   N24211  LGA    IAH  227      1416     5    29    \n",
       "3   33       AA      1141   N619AA  JFK    MIA  160      1089     5    40    \n",
       "4  -18       B6       725   N804JB  JFK    BQN  183      1576     5    45    \n",
       "5  -25       DL       461   N668DN  LGA    ATL  116       762     6     0    \n",
       "6   12       UA      1696   N39463  EWR    ORD  150       719     5    58    \n",
       "7   19       B6       507   N516JB  EWR    FLL  158      1065     6     0    \n",
       "8  -14       EV      5708   N829AS  LGA    IAD   53       229     6     0    \n",
       "9   -8       B6        79   N593JB  JFK    MCO  140       944     6     0    \n",
       "10   8       AA       301   N3ALAA  LGA    ORD  138       733     6     0    \n",
       "   time_hour          \n",
       "1  2013-01-01 05:00:00\n",
       "2  2013-01-01 05:00:00\n",
       "3  2013-01-01 05:00:00\n",
       "4  2013-01-01 05:00:00\n",
       "5  2013-01-01 06:00:00\n",
       "6  2013-01-01 05:00:00\n",
       "7  2013-01-01 06:00:00\n",
       "8  2013-01-01 06:00:00\n",
       "9  2013-01-01 06:00:00\n",
       "10 2013-01-01 06:00:00"
      ]
     },
     "metadata": {},
     "output_type": "display_data"
    }
   ],
   "source": [
    "# Keep the other columns as well\n",
    "flights |>\n",
    "  distinct(origin, dest, .keep_all = TRUE) |>\n",
    "  head(10)\n"
   ]
  },
  {
   "cell_type": "markdown",
   "metadata": {},
   "source": [
    "## Intro to `count`"
   ]
  },
  {
   "cell_type": "code",
   "execution_count": 35,
   "metadata": {
    "vscode": {
     "languageId": "r"
    }
   },
   "outputs": [
    {
     "data": {
      "text/html": [
       "<table class=\"dataframe\">\n",
       "<caption>A tibble: 10 × 3</caption>\n",
       "<thead>\n",
       "\t<tr><th scope=col>origin</th><th scope=col>dest</th><th scope=col>n</th></tr>\n",
       "\t<tr><th scope=col>&lt;chr&gt;</th><th scope=col>&lt;chr&gt;</th><th scope=col>&lt;int&gt;</th></tr>\n",
       "</thead>\n",
       "<tbody>\n",
       "\t<tr><td>JFK</td><td>LAX</td><td>11262</td></tr>\n",
       "\t<tr><td>LGA</td><td>ATL</td><td>10263</td></tr>\n",
       "\t<tr><td>LGA</td><td>ORD</td><td> 8857</td></tr>\n",
       "\t<tr><td>JFK</td><td>SFO</td><td> 8204</td></tr>\n",
       "\t<tr><td>LGA</td><td>CLT</td><td> 6168</td></tr>\n",
       "\t<tr><td>EWR</td><td>ORD</td><td> 6100</td></tr>\n",
       "\t<tr><td>JFK</td><td>BOS</td><td> 5898</td></tr>\n",
       "\t<tr><td>LGA</td><td>MIA</td><td> 5781</td></tr>\n",
       "\t<tr><td>JFK</td><td>MCO</td><td> 5464</td></tr>\n",
       "\t<tr><td>EWR</td><td>BOS</td><td> 5327</td></tr>\n",
       "</tbody>\n",
       "</table>\n"
      ],
      "text/latex": [
       "A tibble: 10 × 3\n",
       "\\begin{tabular}{lll}\n",
       " origin & dest & n\\\\\n",
       " <chr> & <chr> & <int>\\\\\n",
       "\\hline\n",
       "\t JFK & LAX & 11262\\\\\n",
       "\t LGA & ATL & 10263\\\\\n",
       "\t LGA & ORD &  8857\\\\\n",
       "\t JFK & SFO &  8204\\\\\n",
       "\t LGA & CLT &  6168\\\\\n",
       "\t EWR & ORD &  6100\\\\\n",
       "\t JFK & BOS &  5898\\\\\n",
       "\t LGA & MIA &  5781\\\\\n",
       "\t JFK & MCO &  5464\\\\\n",
       "\t EWR & BOS &  5327\\\\\n",
       "\\end{tabular}\n"
      ],
      "text/markdown": [
       "\n",
       "A tibble: 10 × 3\n",
       "\n",
       "| origin &lt;chr&gt; | dest &lt;chr&gt; | n &lt;int&gt; |\n",
       "|---|---|---|\n",
       "| JFK | LAX | 11262 |\n",
       "| LGA | ATL | 10263 |\n",
       "| LGA | ORD |  8857 |\n",
       "| JFK | SFO |  8204 |\n",
       "| LGA | CLT |  6168 |\n",
       "| EWR | ORD |  6100 |\n",
       "| JFK | BOS |  5898 |\n",
       "| LGA | MIA |  5781 |\n",
       "| JFK | MCO |  5464 |\n",
       "| EWR | BOS |  5327 |\n",
       "\n"
      ],
      "text/plain": [
       "   origin dest n    \n",
       "1  JFK    LAX  11262\n",
       "2  LGA    ATL  10263\n",
       "3  LGA    ORD   8857\n",
       "4  JFK    SFO   8204\n",
       "5  LGA    CLT   6168\n",
       "6  EWR    ORD   6100\n",
       "7  JFK    BOS   5898\n",
       "8  LGA    MIA   5781\n",
       "9  JFK    MCO   5464\n",
       "10 EWR    BOS   5327"
      ]
     },
     "metadata": {},
     "output_type": "display_data"
    }
   ],
   "source": [
    "# Top 10 routes\n",
    "flights |>\n",
    "  count(origin, dest, sort = TRUE) |>\n",
    "  head(10)\n"
   ]
  },
  {
   "cell_type": "markdown",
   "metadata": {},
   "source": [
    "## Exercises"
   ]
  },
  {
   "cell_type": "markdown",
   "metadata": {},
   "source": [
    "### Exercise 1.\n",
    "\n",
    "In a single pipeline for each condition, find all flights that meet the condition:\n",
    "\n",
    "- Had an arrival delay of two or more hours\n",
    "- Flew to Houston (IAH or HOU)\n",
    "- Were operated by United, American, or Delta\n",
    "- Departed in summer (July, August, and September)\n",
    "- Arrived more than two hours late, but didn’t leave late\n",
    "- Were delayed by at least an hour, but made up over 30 minutes in flight"
   ]
  },
  {
   "cell_type": "code",
   "execution_count": 3,
   "metadata": {
    "vscode": {
     "languageId": "r"
    }
   },
   "outputs": [
    {
     "data": {
      "text/html": [
       "<table class=\"dataframe\">\n",
       "<caption>A tibble: 6 × 19</caption>\n",
       "<thead>\n",
       "\t<tr><th scope=col>year</th><th scope=col>month</th><th scope=col>day</th><th scope=col>dep_time</th><th scope=col>sched_dep_time</th><th scope=col>dep_delay</th><th scope=col>arr_time</th><th scope=col>sched_arr_time</th><th scope=col>arr_delay</th><th scope=col>carrier</th><th scope=col>flight</th><th scope=col>tailnum</th><th scope=col>origin</th><th scope=col>dest</th><th scope=col>air_time</th><th scope=col>distance</th><th scope=col>hour</th><th scope=col>minute</th><th scope=col>time_hour</th></tr>\n",
       "\t<tr><th scope=col>&lt;int&gt;</th><th scope=col>&lt;int&gt;</th><th scope=col>&lt;int&gt;</th><th scope=col>&lt;int&gt;</th><th scope=col>&lt;int&gt;</th><th scope=col>&lt;dbl&gt;</th><th scope=col>&lt;int&gt;</th><th scope=col>&lt;int&gt;</th><th scope=col>&lt;dbl&gt;</th><th scope=col>&lt;chr&gt;</th><th scope=col>&lt;int&gt;</th><th scope=col>&lt;chr&gt;</th><th scope=col>&lt;chr&gt;</th><th scope=col>&lt;chr&gt;</th><th scope=col>&lt;dbl&gt;</th><th scope=col>&lt;dbl&gt;</th><th scope=col>&lt;dbl&gt;</th><th scope=col>&lt;dbl&gt;</th><th scope=col>&lt;dttm&gt;</th></tr>\n",
       "</thead>\n",
       "<tbody>\n",
       "\t<tr><td>2013</td><td>1</td><td>1</td><td>517</td><td>515</td><td> 2</td><td> 830</td><td> 819</td><td> 11</td><td>UA</td><td>1545</td><td>N14228</td><td>EWR</td><td>IAH</td><td>227</td><td>1400</td><td>5</td><td>15</td><td>2013-01-01 05:00:00</td></tr>\n",
       "\t<tr><td>2013</td><td>1</td><td>1</td><td>533</td><td>529</td><td> 4</td><td> 850</td><td> 830</td><td> 20</td><td>UA</td><td>1714</td><td>N24211</td><td>LGA</td><td>IAH</td><td>227</td><td>1416</td><td>5</td><td>29</td><td>2013-01-01 05:00:00</td></tr>\n",
       "\t<tr><td>2013</td><td>1</td><td>1</td><td>542</td><td>540</td><td> 2</td><td> 923</td><td> 850</td><td> 33</td><td>AA</td><td>1141</td><td>N619AA</td><td>JFK</td><td>MIA</td><td>160</td><td>1089</td><td>5</td><td>40</td><td>2013-01-01 05:00:00</td></tr>\n",
       "\t<tr><td>2013</td><td>1</td><td>1</td><td>544</td><td>545</td><td>-1</td><td>1004</td><td>1022</td><td>-18</td><td>B6</td><td> 725</td><td>N804JB</td><td>JFK</td><td>BQN</td><td>183</td><td>1576</td><td>5</td><td>45</td><td>2013-01-01 05:00:00</td></tr>\n",
       "\t<tr><td>2013</td><td>1</td><td>1</td><td>554</td><td>600</td><td>-6</td><td> 812</td><td> 837</td><td>-25</td><td>DL</td><td> 461</td><td>N668DN</td><td>LGA</td><td>ATL</td><td>116</td><td> 762</td><td>6</td><td> 0</td><td>2013-01-01 06:00:00</td></tr>\n",
       "\t<tr><td>2013</td><td>1</td><td>1</td><td>554</td><td>558</td><td>-4</td><td> 740</td><td> 728</td><td> 12</td><td>UA</td><td>1696</td><td>N39463</td><td>EWR</td><td>ORD</td><td>150</td><td> 719</td><td>5</td><td>58</td><td>2013-01-01 05:00:00</td></tr>\n",
       "</tbody>\n",
       "</table>\n"
      ],
      "text/latex": [
       "A tibble: 6 × 19\n",
       "\\begin{tabular}{lllllllllllllllllll}\n",
       " year & month & day & dep\\_time & sched\\_dep\\_time & dep\\_delay & arr\\_time & sched\\_arr\\_time & arr\\_delay & carrier & flight & tailnum & origin & dest & air\\_time & distance & hour & minute & time\\_hour\\\\\n",
       " <int> & <int> & <int> & <int> & <int> & <dbl> & <int> & <int> & <dbl> & <chr> & <int> & <chr> & <chr> & <chr> & <dbl> & <dbl> & <dbl> & <dbl> & <dttm>\\\\\n",
       "\\hline\n",
       "\t 2013 & 1 & 1 & 517 & 515 &  2 &  830 &  819 &  11 & UA & 1545 & N14228 & EWR & IAH & 227 & 1400 & 5 & 15 & 2013-01-01 05:00:00\\\\\n",
       "\t 2013 & 1 & 1 & 533 & 529 &  4 &  850 &  830 &  20 & UA & 1714 & N24211 & LGA & IAH & 227 & 1416 & 5 & 29 & 2013-01-01 05:00:00\\\\\n",
       "\t 2013 & 1 & 1 & 542 & 540 &  2 &  923 &  850 &  33 & AA & 1141 & N619AA & JFK & MIA & 160 & 1089 & 5 & 40 & 2013-01-01 05:00:00\\\\\n",
       "\t 2013 & 1 & 1 & 544 & 545 & -1 & 1004 & 1022 & -18 & B6 &  725 & N804JB & JFK & BQN & 183 & 1576 & 5 & 45 & 2013-01-01 05:00:00\\\\\n",
       "\t 2013 & 1 & 1 & 554 & 600 & -6 &  812 &  837 & -25 & DL &  461 & N668DN & LGA & ATL & 116 &  762 & 6 &  0 & 2013-01-01 06:00:00\\\\\n",
       "\t 2013 & 1 & 1 & 554 & 558 & -4 &  740 &  728 &  12 & UA & 1696 & N39463 & EWR & ORD & 150 &  719 & 5 & 58 & 2013-01-01 05:00:00\\\\\n",
       "\\end{tabular}\n"
      ],
      "text/markdown": [
       "\n",
       "A tibble: 6 × 19\n",
       "\n",
       "| year &lt;int&gt; | month &lt;int&gt; | day &lt;int&gt; | dep_time &lt;int&gt; | sched_dep_time &lt;int&gt; | dep_delay &lt;dbl&gt; | arr_time &lt;int&gt; | sched_arr_time &lt;int&gt; | arr_delay &lt;dbl&gt; | carrier &lt;chr&gt; | flight &lt;int&gt; | tailnum &lt;chr&gt; | origin &lt;chr&gt; | dest &lt;chr&gt; | air_time &lt;dbl&gt; | distance &lt;dbl&gt; | hour &lt;dbl&gt; | minute &lt;dbl&gt; | time_hour &lt;dttm&gt; |\n",
       "|---|---|---|---|---|---|---|---|---|---|---|---|---|---|---|---|---|---|---|\n",
       "| 2013 | 1 | 1 | 517 | 515 |  2 |  830 |  819 |  11 | UA | 1545 | N14228 | EWR | IAH | 227 | 1400 | 5 | 15 | 2013-01-01 05:00:00 |\n",
       "| 2013 | 1 | 1 | 533 | 529 |  4 |  850 |  830 |  20 | UA | 1714 | N24211 | LGA | IAH | 227 | 1416 | 5 | 29 | 2013-01-01 05:00:00 |\n",
       "| 2013 | 1 | 1 | 542 | 540 |  2 |  923 |  850 |  33 | AA | 1141 | N619AA | JFK | MIA | 160 | 1089 | 5 | 40 | 2013-01-01 05:00:00 |\n",
       "| 2013 | 1 | 1 | 544 | 545 | -1 | 1004 | 1022 | -18 | B6 |  725 | N804JB | JFK | BQN | 183 | 1576 | 5 | 45 | 2013-01-01 05:00:00 |\n",
       "| 2013 | 1 | 1 | 554 | 600 | -6 |  812 |  837 | -25 | DL |  461 | N668DN | LGA | ATL | 116 |  762 | 6 |  0 | 2013-01-01 06:00:00 |\n",
       "| 2013 | 1 | 1 | 554 | 558 | -4 |  740 |  728 |  12 | UA | 1696 | N39463 | EWR | ORD | 150 |  719 | 5 | 58 | 2013-01-01 05:00:00 |\n",
       "\n"
      ],
      "text/plain": [
       "  year month day dep_time sched_dep_time dep_delay arr_time sched_arr_time\n",
       "1 2013 1     1   517      515             2         830      819          \n",
       "2 2013 1     1   533      529             4         850      830          \n",
       "3 2013 1     1   542      540             2         923      850          \n",
       "4 2013 1     1   544      545            -1        1004     1022          \n",
       "5 2013 1     1   554      600            -6         812      837          \n",
       "6 2013 1     1   554      558            -4         740      728          \n",
       "  arr_delay carrier flight tailnum origin dest air_time distance hour minute\n",
       "1  11       UA      1545   N14228  EWR    IAH  227      1400     5    15    \n",
       "2  20       UA      1714   N24211  LGA    IAH  227      1416     5    29    \n",
       "3  33       AA      1141   N619AA  JFK    MIA  160      1089     5    40    \n",
       "4 -18       B6       725   N804JB  JFK    BQN  183      1576     5    45    \n",
       "5 -25       DL       461   N668DN  LGA    ATL  116       762     6     0    \n",
       "6  12       UA      1696   N39463  EWR    ORD  150       719     5    58    \n",
       "  time_hour          \n",
       "1 2013-01-01 05:00:00\n",
       "2 2013-01-01 05:00:00\n",
       "3 2013-01-01 05:00:00\n",
       "4 2013-01-01 05:00:00\n",
       "5 2013-01-01 06:00:00\n",
       "6 2013-01-01 05:00:00"
      ]
     },
     "metadata": {},
     "output_type": "display_data"
    }
   ],
   "source": [
    "head(flights)\n"
   ]
  },
  {
   "cell_type": "code",
   "execution_count": 8,
   "metadata": {
    "vscode": {
     "languageId": "r"
    }
   },
   "outputs": [
    {
     "data": {
      "text/html": [
       "<table class=\"dataframe\">\n",
       "<caption>A tibble: 10 × 19</caption>\n",
       "<thead>\n",
       "\t<tr><th scope=col>year</th><th scope=col>month</th><th scope=col>day</th><th scope=col>dep_time</th><th scope=col>sched_dep_time</th><th scope=col>dep_delay</th><th scope=col>arr_time</th><th scope=col>sched_arr_time</th><th scope=col>arr_delay</th><th scope=col>carrier</th><th scope=col>flight</th><th scope=col>tailnum</th><th scope=col>origin</th><th scope=col>dest</th><th scope=col>air_time</th><th scope=col>distance</th><th scope=col>hour</th><th scope=col>minute</th><th scope=col>time_hour</th></tr>\n",
       "\t<tr><th scope=col>&lt;int&gt;</th><th scope=col>&lt;int&gt;</th><th scope=col>&lt;int&gt;</th><th scope=col>&lt;int&gt;</th><th scope=col>&lt;int&gt;</th><th scope=col>&lt;dbl&gt;</th><th scope=col>&lt;int&gt;</th><th scope=col>&lt;int&gt;</th><th scope=col>&lt;dbl&gt;</th><th scope=col>&lt;chr&gt;</th><th scope=col>&lt;int&gt;</th><th scope=col>&lt;chr&gt;</th><th scope=col>&lt;chr&gt;</th><th scope=col>&lt;chr&gt;</th><th scope=col>&lt;dbl&gt;</th><th scope=col>&lt;dbl&gt;</th><th scope=col>&lt;dbl&gt;</th><th scope=col>&lt;dbl&gt;</th><th scope=col>&lt;dttm&gt;</th></tr>\n",
       "</thead>\n",
       "<tbody>\n",
       "\t<tr><td>2013</td><td>9</td><td>22</td><td>2000</td><td>1700</td><td>180</td><td>2232</td><td>1955</td><td>157</td><td>AA</td><td> 211</td><td>N3DDAA</td><td>JFK</td><td>IAH</td><td>184</td><td>1417</td><td>17</td><td> 0</td><td>2013-09-22 17:00:00</td></tr>\n",
       "\t<tr><td>2013</td><td>7</td><td>10</td><td>1629</td><td>1520</td><td> 69</td><td>2048</td><td>1754</td><td>174</td><td>UA</td><td> 646</td><td>N578UA</td><td>EWR</td><td>IAH</td><td>187</td><td>1400</td><td>15</td><td>20</td><td>2013-07-10 15:00:00</td></tr>\n",
       "\t<tr><td>2013</td><td>8</td><td> 9</td><td>1850</td><td>1730</td><td> 80</td><td>2221</td><td>2007</td><td>134</td><td>UA</td><td> 268</td><td>N524UA</td><td>EWR</td><td>IAH</td><td>182</td><td>1400</td><td>17</td><td>30</td><td>2013-08-09 17:00:00</td></tr>\n",
       "\t<tr><td>2013</td><td>7</td><td>22</td><td>1524</td><td>1249</td><td>155</td><td>1902</td><td>1541</td><td>201</td><td>UA</td><td> 215</td><td>N430UA</td><td>LGA</td><td>IAH</td><td>187</td><td>1416</td><td>12</td><td>49</td><td>2013-07-22 12:00:00</td></tr>\n",
       "\t<tr><td>2013</td><td>7</td><td>22</td><td>2018</td><td>1735</td><td>163</td><td>2344</td><td>2030</td><td>194</td><td>AA</td><td>1901</td><td>N3CAAA</td><td>JFK</td><td>IAH</td><td>196</td><td>1417</td><td>17</td><td>35</td><td>2013-07-22 17:00:00</td></tr>\n",
       "\t<tr><td>2013</td><td>7</td><td> 9</td><td>1937</td><td>1735</td><td>122</td><td>2240</td><td>2030</td><td>130</td><td>AA</td><td>1901</td><td>N3ARAA</td><td>JFK</td><td>IAH</td><td>174</td><td>1417</td><td>17</td><td>35</td><td>2013-07-09 17:00:00</td></tr>\n",
       "\t<tr><td>2013</td><td>8</td><td>22</td><td>1956</td><td>1735</td><td>141</td><td>2239</td><td>2030</td><td>129</td><td>AA</td><td>1901</td><td>N3EEAA</td><td>JFK</td><td>IAH</td><td>182</td><td>1417</td><td>17</td><td>35</td><td>2013-08-22 17:00:00</td></tr>\n",
       "\t<tr><td>2013</td><td>9</td><td> 2</td><td>1833</td><td>1520</td><td>193</td><td>2105</td><td>1810</td><td>175</td><td>UA</td><td> 498</td><td>N497UA</td><td>EWR</td><td>IAH</td><td>184</td><td>1400</td><td>15</td><td>20</td><td>2013-09-02 15:00:00</td></tr>\n",
       "\t<tr><td>2013</td><td>8</td><td>16</td><td>1652</td><td>1259</td><td>233</td><td>1935</td><td>1551</td><td>224</td><td>UA</td><td> 643</td><td>N428UA</td><td>LGA</td><td>IAH</td><td>198</td><td>1416</td><td>12</td><td>59</td><td>2013-08-16 12:00:00</td></tr>\n",
       "\t<tr><td>2013</td><td>7</td><td>25</td><td>2147</td><td>1520</td><td>387</td><td>   8</td><td>1754</td><td>374</td><td>UA</td><td> 646</td><td>N569UA</td><td>EWR</td><td>IAH</td><td>181</td><td>1400</td><td>15</td><td>20</td><td>2013-07-25 15:00:00</td></tr>\n",
       "</tbody>\n",
       "</table>\n"
      ],
      "text/latex": [
       "A tibble: 10 × 19\n",
       "\\begin{tabular}{lllllllllllllllllll}\n",
       " year & month & day & dep\\_time & sched\\_dep\\_time & dep\\_delay & arr\\_time & sched\\_arr\\_time & arr\\_delay & carrier & flight & tailnum & origin & dest & air\\_time & distance & hour & minute & time\\_hour\\\\\n",
       " <int> & <int> & <int> & <int> & <int> & <dbl> & <int> & <int> & <dbl> & <chr> & <int> & <chr> & <chr> & <chr> & <dbl> & <dbl> & <dbl> & <dbl> & <dttm>\\\\\n",
       "\\hline\n",
       "\t 2013 & 9 & 22 & 2000 & 1700 & 180 & 2232 & 1955 & 157 & AA &  211 & N3DDAA & JFK & IAH & 184 & 1417 & 17 &  0 & 2013-09-22 17:00:00\\\\\n",
       "\t 2013 & 7 & 10 & 1629 & 1520 &  69 & 2048 & 1754 & 174 & UA &  646 & N578UA & EWR & IAH & 187 & 1400 & 15 & 20 & 2013-07-10 15:00:00\\\\\n",
       "\t 2013 & 8 &  9 & 1850 & 1730 &  80 & 2221 & 2007 & 134 & UA &  268 & N524UA & EWR & IAH & 182 & 1400 & 17 & 30 & 2013-08-09 17:00:00\\\\\n",
       "\t 2013 & 7 & 22 & 1524 & 1249 & 155 & 1902 & 1541 & 201 & UA &  215 & N430UA & LGA & IAH & 187 & 1416 & 12 & 49 & 2013-07-22 12:00:00\\\\\n",
       "\t 2013 & 7 & 22 & 2018 & 1735 & 163 & 2344 & 2030 & 194 & AA & 1901 & N3CAAA & JFK & IAH & 196 & 1417 & 17 & 35 & 2013-07-22 17:00:00\\\\\n",
       "\t 2013 & 7 &  9 & 1937 & 1735 & 122 & 2240 & 2030 & 130 & AA & 1901 & N3ARAA & JFK & IAH & 174 & 1417 & 17 & 35 & 2013-07-09 17:00:00\\\\\n",
       "\t 2013 & 8 & 22 & 1956 & 1735 & 141 & 2239 & 2030 & 129 & AA & 1901 & N3EEAA & JFK & IAH & 182 & 1417 & 17 & 35 & 2013-08-22 17:00:00\\\\\n",
       "\t 2013 & 9 &  2 & 1833 & 1520 & 193 & 2105 & 1810 & 175 & UA &  498 & N497UA & EWR & IAH & 184 & 1400 & 15 & 20 & 2013-09-02 15:00:00\\\\\n",
       "\t 2013 & 8 & 16 & 1652 & 1259 & 233 & 1935 & 1551 & 224 & UA &  643 & N428UA & LGA & IAH & 198 & 1416 & 12 & 59 & 2013-08-16 12:00:00\\\\\n",
       "\t 2013 & 7 & 25 & 2147 & 1520 & 387 &    8 & 1754 & 374 & UA &  646 & N569UA & EWR & IAH & 181 & 1400 & 15 & 20 & 2013-07-25 15:00:00\\\\\n",
       "\\end{tabular}\n"
      ],
      "text/markdown": [
       "\n",
       "A tibble: 10 × 19\n",
       "\n",
       "| year &lt;int&gt; | month &lt;int&gt; | day &lt;int&gt; | dep_time &lt;int&gt; | sched_dep_time &lt;int&gt; | dep_delay &lt;dbl&gt; | arr_time &lt;int&gt; | sched_arr_time &lt;int&gt; | arr_delay &lt;dbl&gt; | carrier &lt;chr&gt; | flight &lt;int&gt; | tailnum &lt;chr&gt; | origin &lt;chr&gt; | dest &lt;chr&gt; | air_time &lt;dbl&gt; | distance &lt;dbl&gt; | hour &lt;dbl&gt; | minute &lt;dbl&gt; | time_hour &lt;dttm&gt; |\n",
       "|---|---|---|---|---|---|---|---|---|---|---|---|---|---|---|---|---|---|---|\n",
       "| 2013 | 9 | 22 | 2000 | 1700 | 180 | 2232 | 1955 | 157 | AA |  211 | N3DDAA | JFK | IAH | 184 | 1417 | 17 |  0 | 2013-09-22 17:00:00 |\n",
       "| 2013 | 7 | 10 | 1629 | 1520 |  69 | 2048 | 1754 | 174 | UA |  646 | N578UA | EWR | IAH | 187 | 1400 | 15 | 20 | 2013-07-10 15:00:00 |\n",
       "| 2013 | 8 |  9 | 1850 | 1730 |  80 | 2221 | 2007 | 134 | UA |  268 | N524UA | EWR | IAH | 182 | 1400 | 17 | 30 | 2013-08-09 17:00:00 |\n",
       "| 2013 | 7 | 22 | 1524 | 1249 | 155 | 1902 | 1541 | 201 | UA |  215 | N430UA | LGA | IAH | 187 | 1416 | 12 | 49 | 2013-07-22 12:00:00 |\n",
       "| 2013 | 7 | 22 | 2018 | 1735 | 163 | 2344 | 2030 | 194 | AA | 1901 | N3CAAA | JFK | IAH | 196 | 1417 | 17 | 35 | 2013-07-22 17:00:00 |\n",
       "| 2013 | 7 |  9 | 1937 | 1735 | 122 | 2240 | 2030 | 130 | AA | 1901 | N3ARAA | JFK | IAH | 174 | 1417 | 17 | 35 | 2013-07-09 17:00:00 |\n",
       "| 2013 | 8 | 22 | 1956 | 1735 | 141 | 2239 | 2030 | 129 | AA | 1901 | N3EEAA | JFK | IAH | 182 | 1417 | 17 | 35 | 2013-08-22 17:00:00 |\n",
       "| 2013 | 9 |  2 | 1833 | 1520 | 193 | 2105 | 1810 | 175 | UA |  498 | N497UA | EWR | IAH | 184 | 1400 | 15 | 20 | 2013-09-02 15:00:00 |\n",
       "| 2013 | 8 | 16 | 1652 | 1259 | 233 | 1935 | 1551 | 224 | UA |  643 | N428UA | LGA | IAH | 198 | 1416 | 12 | 59 | 2013-08-16 12:00:00 |\n",
       "| 2013 | 7 | 25 | 2147 | 1520 | 387 |    8 | 1754 | 374 | UA |  646 | N569UA | EWR | IAH | 181 | 1400 | 15 | 20 | 2013-07-25 15:00:00 |\n",
       "\n"
      ],
      "text/plain": [
       "   year month day dep_time sched_dep_time dep_delay arr_time sched_arr_time\n",
       "1  2013 9     22  2000     1700           180       2232     1955          \n",
       "2  2013 7     10  1629     1520            69       2048     1754          \n",
       "3  2013 8      9  1850     1730            80       2221     2007          \n",
       "4  2013 7     22  1524     1249           155       1902     1541          \n",
       "5  2013 7     22  2018     1735           163       2344     2030          \n",
       "6  2013 7      9  1937     1735           122       2240     2030          \n",
       "7  2013 8     22  1956     1735           141       2239     2030          \n",
       "8  2013 9      2  1833     1520           193       2105     1810          \n",
       "9  2013 8     16  1652     1259           233       1935     1551          \n",
       "10 2013 7     25  2147     1520           387          8     1754          \n",
       "   arr_delay carrier flight tailnum origin dest air_time distance hour minute\n",
       "1  157       AA       211   N3DDAA  JFK    IAH  184      1417     17    0    \n",
       "2  174       UA       646   N578UA  EWR    IAH  187      1400     15   20    \n",
       "3  134       UA       268   N524UA  EWR    IAH  182      1400     17   30    \n",
       "4  201       UA       215   N430UA  LGA    IAH  187      1416     12   49    \n",
       "5  194       AA      1901   N3CAAA  JFK    IAH  196      1417     17   35    \n",
       "6  130       AA      1901   N3ARAA  JFK    IAH  174      1417     17   35    \n",
       "7  129       AA      1901   N3EEAA  JFK    IAH  182      1417     17   35    \n",
       "8  175       UA       498   N497UA  EWR    IAH  184      1400     15   20    \n",
       "9  224       UA       643   N428UA  LGA    IAH  198      1416     12   59    \n",
       "10 374       UA       646   N569UA  EWR    IAH  181      1400     15   20    \n",
       "   time_hour          \n",
       "1  2013-09-22 17:00:00\n",
       "2  2013-07-10 15:00:00\n",
       "3  2013-08-09 17:00:00\n",
       "4  2013-07-22 12:00:00\n",
       "5  2013-07-22 17:00:00\n",
       "6  2013-07-09 17:00:00\n",
       "7  2013-08-22 17:00:00\n",
       "8  2013-09-02 15:00:00\n",
       "9  2013-08-16 12:00:00\n",
       "10 2013-07-25 15:00:00"
      ]
     },
     "metadata": {},
     "output_type": "display_data"
    }
   ],
   "source": [
    "flights |>\n",
    "  filter(arr_delay / 60 >= 2) |>\n",
    "  filter(dest %in% c(\"IAH\", \"HOU\")) |>\n",
    "  filter(carrier %in% c(\"UA\", \"AA\", \"DL\")) |>\n",
    "  filter(month %in% c(7, 8, 9)) |>\n",
    "  sample_n(10)\n"
   ]
  },
  {
   "cell_type": "markdown",
   "metadata": {},
   "source": [
    "### Exercise 2\n",
    "\n",
    "Sort flights to find the flights with longest departure delays. Find the flights that left earliest in the morning."
   ]
  },
  {
   "cell_type": "code",
   "execution_count": 10,
   "metadata": {
    "vscode": {
     "languageId": "r"
    }
   },
   "outputs": [
    {
     "data": {
      "text/html": [
       "<table class=\"dataframe\">\n",
       "<caption>A tibble: 10 × 19</caption>\n",
       "<thead>\n",
       "\t<tr><th scope=col>year</th><th scope=col>month</th><th scope=col>day</th><th scope=col>dep_time</th><th scope=col>sched_dep_time</th><th scope=col>dep_delay</th><th scope=col>arr_time</th><th scope=col>sched_arr_time</th><th scope=col>arr_delay</th><th scope=col>carrier</th><th scope=col>flight</th><th scope=col>tailnum</th><th scope=col>origin</th><th scope=col>dest</th><th scope=col>air_time</th><th scope=col>distance</th><th scope=col>hour</th><th scope=col>minute</th><th scope=col>time_hour</th></tr>\n",
       "\t<tr><th scope=col>&lt;int&gt;</th><th scope=col>&lt;int&gt;</th><th scope=col>&lt;int&gt;</th><th scope=col>&lt;int&gt;</th><th scope=col>&lt;int&gt;</th><th scope=col>&lt;dbl&gt;</th><th scope=col>&lt;int&gt;</th><th scope=col>&lt;int&gt;</th><th scope=col>&lt;dbl&gt;</th><th scope=col>&lt;chr&gt;</th><th scope=col>&lt;int&gt;</th><th scope=col>&lt;chr&gt;</th><th scope=col>&lt;chr&gt;</th><th scope=col>&lt;chr&gt;</th><th scope=col>&lt;dbl&gt;</th><th scope=col>&lt;dbl&gt;</th><th scope=col>&lt;dbl&gt;</th><th scope=col>&lt;dbl&gt;</th><th scope=col>&lt;dttm&gt;</th></tr>\n",
       "</thead>\n",
       "<tbody>\n",
       "\t<tr><td>2013</td><td> 1</td><td> 9</td><td> 641</td><td> 900</td><td>1301</td><td>1242</td><td>1530</td><td>1272</td><td>HA</td><td>  51</td><td>N384HA</td><td>JFK</td><td>HNL</td><td>640</td><td>4983</td><td> 9</td><td> 0</td><td>2013-01-09 09:00:00</td></tr>\n",
       "\t<tr><td>2013</td><td> 6</td><td>15</td><td>1432</td><td>1935</td><td>1137</td><td>1607</td><td>2120</td><td>1127</td><td>MQ</td><td>3535</td><td>N504MQ</td><td>JFK</td><td>CMH</td><td> 74</td><td> 483</td><td>19</td><td>35</td><td>2013-06-15 19:00:00</td></tr>\n",
       "\t<tr><td>2013</td><td> 1</td><td>10</td><td>1121</td><td>1635</td><td>1126</td><td>1239</td><td>1810</td><td>1109</td><td>MQ</td><td>3695</td><td>N517MQ</td><td>EWR</td><td>ORD</td><td>111</td><td> 719</td><td>16</td><td>35</td><td>2013-01-10 16:00:00</td></tr>\n",
       "\t<tr><td>2013</td><td> 9</td><td>20</td><td>1139</td><td>1845</td><td>1014</td><td>1457</td><td>2210</td><td>1007</td><td>AA</td><td> 177</td><td>N338AA</td><td>JFK</td><td>SFO</td><td>354</td><td>2586</td><td>18</td><td>45</td><td>2013-09-20 18:00:00</td></tr>\n",
       "\t<tr><td>2013</td><td> 7</td><td>22</td><td> 845</td><td>1600</td><td>1005</td><td>1044</td><td>1815</td><td> 989</td><td>MQ</td><td>3075</td><td>N665MQ</td><td>JFK</td><td>CVG</td><td> 96</td><td> 589</td><td>16</td><td> 0</td><td>2013-07-22 16:00:00</td></tr>\n",
       "\t<tr><td>2013</td><td> 4</td><td>10</td><td>1100</td><td>1900</td><td> 960</td><td>1342</td><td>2211</td><td> 931</td><td>DL</td><td>2391</td><td>N959DL</td><td>JFK</td><td>TPA</td><td>139</td><td>1005</td><td>19</td><td> 0</td><td>2013-04-10 19:00:00</td></tr>\n",
       "\t<tr><td>2013</td><td> 3</td><td>17</td><td>2321</td><td> 810</td><td> 911</td><td> 135</td><td>1020</td><td> 915</td><td>DL</td><td>2119</td><td>N927DA</td><td>LGA</td><td>MSP</td><td>167</td><td>1020</td><td> 8</td><td>10</td><td>2013-03-17 08:00:00</td></tr>\n",
       "\t<tr><td>2013</td><td> 6</td><td>27</td><td> 959</td><td>1900</td><td> 899</td><td>1236</td><td>2226</td><td> 850</td><td>DL</td><td>2007</td><td>N3762Y</td><td>JFK</td><td>PDX</td><td>313</td><td>2454</td><td>19</td><td> 0</td><td>2013-06-27 19:00:00</td></tr>\n",
       "\t<tr><td>2013</td><td> 7</td><td>22</td><td>2257</td><td> 759</td><td> 898</td><td> 121</td><td>1026</td><td> 895</td><td>DL</td><td>2047</td><td>N6716C</td><td>LGA</td><td>ATL</td><td>109</td><td> 762</td><td> 7</td><td>59</td><td>2013-07-22 07:00:00</td></tr>\n",
       "\t<tr><td>2013</td><td>12</td><td> 5</td><td> 756</td><td>1700</td><td> 896</td><td>1058</td><td>2020</td><td> 878</td><td>AA</td><td> 172</td><td>N5DMAA</td><td>EWR</td><td>MIA</td><td>149</td><td>1085</td><td>17</td><td> 0</td><td>2013-12-05 17:00:00</td></tr>\n",
       "</tbody>\n",
       "</table>\n"
      ],
      "text/latex": [
       "A tibble: 10 × 19\n",
       "\\begin{tabular}{lllllllllllllllllll}\n",
       " year & month & day & dep\\_time & sched\\_dep\\_time & dep\\_delay & arr\\_time & sched\\_arr\\_time & arr\\_delay & carrier & flight & tailnum & origin & dest & air\\_time & distance & hour & minute & time\\_hour\\\\\n",
       " <int> & <int> & <int> & <int> & <int> & <dbl> & <int> & <int> & <dbl> & <chr> & <int> & <chr> & <chr> & <chr> & <dbl> & <dbl> & <dbl> & <dbl> & <dttm>\\\\\n",
       "\\hline\n",
       "\t 2013 &  1 &  9 &  641 &  900 & 1301 & 1242 & 1530 & 1272 & HA &   51 & N384HA & JFK & HNL & 640 & 4983 &  9 &  0 & 2013-01-09 09:00:00\\\\\n",
       "\t 2013 &  6 & 15 & 1432 & 1935 & 1137 & 1607 & 2120 & 1127 & MQ & 3535 & N504MQ & JFK & CMH &  74 &  483 & 19 & 35 & 2013-06-15 19:00:00\\\\\n",
       "\t 2013 &  1 & 10 & 1121 & 1635 & 1126 & 1239 & 1810 & 1109 & MQ & 3695 & N517MQ & EWR & ORD & 111 &  719 & 16 & 35 & 2013-01-10 16:00:00\\\\\n",
       "\t 2013 &  9 & 20 & 1139 & 1845 & 1014 & 1457 & 2210 & 1007 & AA &  177 & N338AA & JFK & SFO & 354 & 2586 & 18 & 45 & 2013-09-20 18:00:00\\\\\n",
       "\t 2013 &  7 & 22 &  845 & 1600 & 1005 & 1044 & 1815 &  989 & MQ & 3075 & N665MQ & JFK & CVG &  96 &  589 & 16 &  0 & 2013-07-22 16:00:00\\\\\n",
       "\t 2013 &  4 & 10 & 1100 & 1900 &  960 & 1342 & 2211 &  931 & DL & 2391 & N959DL & JFK & TPA & 139 & 1005 & 19 &  0 & 2013-04-10 19:00:00\\\\\n",
       "\t 2013 &  3 & 17 & 2321 &  810 &  911 &  135 & 1020 &  915 & DL & 2119 & N927DA & LGA & MSP & 167 & 1020 &  8 & 10 & 2013-03-17 08:00:00\\\\\n",
       "\t 2013 &  6 & 27 &  959 & 1900 &  899 & 1236 & 2226 &  850 & DL & 2007 & N3762Y & JFK & PDX & 313 & 2454 & 19 &  0 & 2013-06-27 19:00:00\\\\\n",
       "\t 2013 &  7 & 22 & 2257 &  759 &  898 &  121 & 1026 &  895 & DL & 2047 & N6716C & LGA & ATL & 109 &  762 &  7 & 59 & 2013-07-22 07:00:00\\\\\n",
       "\t 2013 & 12 &  5 &  756 & 1700 &  896 & 1058 & 2020 &  878 & AA &  172 & N5DMAA & EWR & MIA & 149 & 1085 & 17 &  0 & 2013-12-05 17:00:00\\\\\n",
       "\\end{tabular}\n"
      ],
      "text/markdown": [
       "\n",
       "A tibble: 10 × 19\n",
       "\n",
       "| year &lt;int&gt; | month &lt;int&gt; | day &lt;int&gt; | dep_time &lt;int&gt; | sched_dep_time &lt;int&gt; | dep_delay &lt;dbl&gt; | arr_time &lt;int&gt; | sched_arr_time &lt;int&gt; | arr_delay &lt;dbl&gt; | carrier &lt;chr&gt; | flight &lt;int&gt; | tailnum &lt;chr&gt; | origin &lt;chr&gt; | dest &lt;chr&gt; | air_time &lt;dbl&gt; | distance &lt;dbl&gt; | hour &lt;dbl&gt; | minute &lt;dbl&gt; | time_hour &lt;dttm&gt; |\n",
       "|---|---|---|---|---|---|---|---|---|---|---|---|---|---|---|---|---|---|---|\n",
       "| 2013 |  1 |  9 |  641 |  900 | 1301 | 1242 | 1530 | 1272 | HA |   51 | N384HA | JFK | HNL | 640 | 4983 |  9 |  0 | 2013-01-09 09:00:00 |\n",
       "| 2013 |  6 | 15 | 1432 | 1935 | 1137 | 1607 | 2120 | 1127 | MQ | 3535 | N504MQ | JFK | CMH |  74 |  483 | 19 | 35 | 2013-06-15 19:00:00 |\n",
       "| 2013 |  1 | 10 | 1121 | 1635 | 1126 | 1239 | 1810 | 1109 | MQ | 3695 | N517MQ | EWR | ORD | 111 |  719 | 16 | 35 | 2013-01-10 16:00:00 |\n",
       "| 2013 |  9 | 20 | 1139 | 1845 | 1014 | 1457 | 2210 | 1007 | AA |  177 | N338AA | JFK | SFO | 354 | 2586 | 18 | 45 | 2013-09-20 18:00:00 |\n",
       "| 2013 |  7 | 22 |  845 | 1600 | 1005 | 1044 | 1815 |  989 | MQ | 3075 | N665MQ | JFK | CVG |  96 |  589 | 16 |  0 | 2013-07-22 16:00:00 |\n",
       "| 2013 |  4 | 10 | 1100 | 1900 |  960 | 1342 | 2211 |  931 | DL | 2391 | N959DL | JFK | TPA | 139 | 1005 | 19 |  0 | 2013-04-10 19:00:00 |\n",
       "| 2013 |  3 | 17 | 2321 |  810 |  911 |  135 | 1020 |  915 | DL | 2119 | N927DA | LGA | MSP | 167 | 1020 |  8 | 10 | 2013-03-17 08:00:00 |\n",
       "| 2013 |  6 | 27 |  959 | 1900 |  899 | 1236 | 2226 |  850 | DL | 2007 | N3762Y | JFK | PDX | 313 | 2454 | 19 |  0 | 2013-06-27 19:00:00 |\n",
       "| 2013 |  7 | 22 | 2257 |  759 |  898 |  121 | 1026 |  895 | DL | 2047 | N6716C | LGA | ATL | 109 |  762 |  7 | 59 | 2013-07-22 07:00:00 |\n",
       "| 2013 | 12 |  5 |  756 | 1700 |  896 | 1058 | 2020 |  878 | AA |  172 | N5DMAA | EWR | MIA | 149 | 1085 | 17 |  0 | 2013-12-05 17:00:00 |\n",
       "\n"
      ],
      "text/plain": [
       "   year month day dep_time sched_dep_time dep_delay arr_time sched_arr_time\n",
       "1  2013  1     9   641      900           1301      1242     1530          \n",
       "2  2013  6    15  1432     1935           1137      1607     2120          \n",
       "3  2013  1    10  1121     1635           1126      1239     1810          \n",
       "4  2013  9    20  1139     1845           1014      1457     2210          \n",
       "5  2013  7    22   845     1600           1005      1044     1815          \n",
       "6  2013  4    10  1100     1900            960      1342     2211          \n",
       "7  2013  3    17  2321      810            911       135     1020          \n",
       "8  2013  6    27   959     1900            899      1236     2226          \n",
       "9  2013  7    22  2257      759            898       121     1026          \n",
       "10 2013 12     5   756     1700            896      1058     2020          \n",
       "   arr_delay carrier flight tailnum origin dest air_time distance hour minute\n",
       "1  1272      HA        51   N384HA  JFK    HNL  640      4983      9    0    \n",
       "2  1127      MQ      3535   N504MQ  JFK    CMH   74       483     19   35    \n",
       "3  1109      MQ      3695   N517MQ  EWR    ORD  111       719     16   35    \n",
       "4  1007      AA       177   N338AA  JFK    SFO  354      2586     18   45    \n",
       "5   989      MQ      3075   N665MQ  JFK    CVG   96       589     16    0    \n",
       "6   931      DL      2391   N959DL  JFK    TPA  139      1005     19    0    \n",
       "7   915      DL      2119   N927DA  LGA    MSP  167      1020      8   10    \n",
       "8   850      DL      2007   N3762Y  JFK    PDX  313      2454     19    0    \n",
       "9   895      DL      2047   N6716C  LGA    ATL  109       762      7   59    \n",
       "10  878      AA       172   N5DMAA  EWR    MIA  149      1085     17    0    \n",
       "   time_hour          \n",
       "1  2013-01-09 09:00:00\n",
       "2  2013-06-15 19:00:00\n",
       "3  2013-01-10 16:00:00\n",
       "4  2013-09-20 18:00:00\n",
       "5  2013-07-22 16:00:00\n",
       "6  2013-04-10 19:00:00\n",
       "7  2013-03-17 08:00:00\n",
       "8  2013-06-27 19:00:00\n",
       "9  2013-07-22 07:00:00\n",
       "10 2013-12-05 17:00:00"
      ]
     },
     "metadata": {},
     "output_type": "display_data"
    }
   ],
   "source": [
    "flights |>\n",
    "  arrange(desc(dep_delay), dep_time, .keep_all = TRUE) |>\n",
    "  head(10)\n"
   ]
  },
  {
   "cell_type": "markdown",
   "metadata": {},
   "source": [
    "### Exercise 3\n",
    "\n",
    "Sort flights to find the fastest flights. (Hint: Try including a math calculation inside of your function.)"
   ]
  },
  {
   "cell_type": "code",
   "execution_count": 12,
   "metadata": {
    "vscode": {
     "languageId": "r"
    }
   },
   "outputs": [
    {
     "data": {
      "text/html": [
       "<table class=\"dataframe\">\n",
       "<caption>A tibble: 10 × 19</caption>\n",
       "<thead>\n",
       "\t<tr><th scope=col>year</th><th scope=col>month</th><th scope=col>day</th><th scope=col>dep_time</th><th scope=col>sched_dep_time</th><th scope=col>dep_delay</th><th scope=col>arr_time</th><th scope=col>sched_arr_time</th><th scope=col>arr_delay</th><th scope=col>carrier</th><th scope=col>flight</th><th scope=col>tailnum</th><th scope=col>origin</th><th scope=col>dest</th><th scope=col>air_time</th><th scope=col>distance</th><th scope=col>hour</th><th scope=col>minute</th><th scope=col>time_hour</th></tr>\n",
       "\t<tr><th scope=col>&lt;int&gt;</th><th scope=col>&lt;int&gt;</th><th scope=col>&lt;int&gt;</th><th scope=col>&lt;int&gt;</th><th scope=col>&lt;int&gt;</th><th scope=col>&lt;dbl&gt;</th><th scope=col>&lt;int&gt;</th><th scope=col>&lt;int&gt;</th><th scope=col>&lt;dbl&gt;</th><th scope=col>&lt;chr&gt;</th><th scope=col>&lt;int&gt;</th><th scope=col>&lt;chr&gt;</th><th scope=col>&lt;chr&gt;</th><th scope=col>&lt;chr&gt;</th><th scope=col>&lt;dbl&gt;</th><th scope=col>&lt;dbl&gt;</th><th scope=col>&lt;dbl&gt;</th><th scope=col>&lt;dbl&gt;</th><th scope=col>&lt;dttm&gt;</th></tr>\n",
       "</thead>\n",
       "<tbody>\n",
       "\t<tr><td>2013</td><td> 7</td><td>17</td><td>2400</td><td>2142</td><td>138</td><td>54</td><td>2259</td><td>115</td><td>EV</td><td>3832</td><td>N22971</td><td>EWR</td><td>DCA</td><td>37</td><td>199</td><td>21</td><td>42</td><td>2013-07-17 21:00:00</td></tr>\n",
       "\t<tr><td>2013</td><td>12</td><td> 9</td><td>2400</td><td>2250</td><td> 70</td><td>59</td><td>2356</td><td> 63</td><td>B6</td><td>1816</td><td>N187JB</td><td>JFK</td><td>SYR</td><td>41</td><td>209</td><td>22</td><td>50</td><td>2013-12-09 22:00:00</td></tr>\n",
       "\t<tr><td>2013</td><td> 6</td><td>12</td><td>2338</td><td>2129</td><td>129</td><td>17</td><td>2235</td><td>102</td><td>EV</td><td>4276</td><td>N11109</td><td>EWR</td><td>BDL</td><td>21</td><td>116</td><td>21</td><td>29</td><td>2013-06-12 21:00:00</td></tr>\n",
       "\t<tr><td>2013</td><td>12</td><td>29</td><td>2332</td><td>2155</td><td> 97</td><td>14</td><td>2300</td><td> 74</td><td>EV</td><td>4682</td><td>N13955</td><td>EWR</td><td>ALB</td><td>26</td><td>143</td><td>21</td><td>55</td><td>2013-12-29 21:00:00</td></tr>\n",
       "\t<tr><td>2013</td><td>11</td><td> 6</td><td>2335</td><td>2215</td><td> 80</td><td>18</td><td>2317</td><td> 61</td><td>EV</td><td>4233</td><td>N23139</td><td>EWR</td><td>ALB</td><td>29</td><td>143</td><td>22</td><td>15</td><td>2013-11-06 22:00:00</td></tr>\n",
       "\t<tr><td>2013</td><td> 2</td><td>25</td><td>2347</td><td>2145</td><td>122</td><td>30</td><td>2239</td><td>111</td><td>EV</td><td>4378</td><td>N18557</td><td>EWR</td><td>BWI</td><td>33</td><td>169</td><td>21</td><td>45</td><td>2013-02-25 21:00:00</td></tr>\n",
       "\t<tr><td>2013</td><td> 8</td><td>13</td><td>2351</td><td>2152</td><td>119</td><td>35</td><td>2258</td><td> 97</td><td>EV</td><td>4276</td><td>N15574</td><td>EWR</td><td>BDL</td><td>24</td><td>116</td><td>21</td><td>52</td><td>2013-08-13 21:00:00</td></tr>\n",
       "\t<tr><td>2013</td><td>10</td><td>11</td><td>2342</td><td>2030</td><td>192</td><td>27</td><td>2205</td><td>142</td><td>WN</td><td>2520</td><td>N279WN</td><td>EWR</td><td>MDW</td><td>92</td><td>711</td><td>20</td><td>30</td><td>2013-10-11 20:00:00</td></tr>\n",
       "\t<tr><td>2013</td><td> 2</td><td>26</td><td>2356</td><td>2000</td><td>236</td><td>41</td><td>2104</td><td>217</td><td>EV</td><td>4162</td><td>N10575</td><td>EWR</td><td>ALB</td><td>24</td><td>143</td><td>20</td><td> 0</td><td>2013-02-26 20:00:00</td></tr>\n",
       "\t<tr><td>2013</td><td> 1</td><td>24</td><td>2342</td><td>2159</td><td>103</td><td>28</td><td>2300</td><td> 88</td><td>EV</td><td>4519</td><td>N14916</td><td>EWR</td><td>BWI</td><td>33</td><td>169</td><td>21</td><td>59</td><td>2013-01-24 21:00:00</td></tr>\n",
       "</tbody>\n",
       "</table>\n"
      ],
      "text/latex": [
       "A tibble: 10 × 19\n",
       "\\begin{tabular}{lllllllllllllllllll}\n",
       " year & month & day & dep\\_time & sched\\_dep\\_time & dep\\_delay & arr\\_time & sched\\_arr\\_time & arr\\_delay & carrier & flight & tailnum & origin & dest & air\\_time & distance & hour & minute & time\\_hour\\\\\n",
       " <int> & <int> & <int> & <int> & <int> & <dbl> & <int> & <int> & <dbl> & <chr> & <int> & <chr> & <chr> & <chr> & <dbl> & <dbl> & <dbl> & <dbl> & <dttm>\\\\\n",
       "\\hline\n",
       "\t 2013 &  7 & 17 & 2400 & 2142 & 138 & 54 & 2259 & 115 & EV & 3832 & N22971 & EWR & DCA & 37 & 199 & 21 & 42 & 2013-07-17 21:00:00\\\\\n",
       "\t 2013 & 12 &  9 & 2400 & 2250 &  70 & 59 & 2356 &  63 & B6 & 1816 & N187JB & JFK & SYR & 41 & 209 & 22 & 50 & 2013-12-09 22:00:00\\\\\n",
       "\t 2013 &  6 & 12 & 2338 & 2129 & 129 & 17 & 2235 & 102 & EV & 4276 & N11109 & EWR & BDL & 21 & 116 & 21 & 29 & 2013-06-12 21:00:00\\\\\n",
       "\t 2013 & 12 & 29 & 2332 & 2155 &  97 & 14 & 2300 &  74 & EV & 4682 & N13955 & EWR & ALB & 26 & 143 & 21 & 55 & 2013-12-29 21:00:00\\\\\n",
       "\t 2013 & 11 &  6 & 2335 & 2215 &  80 & 18 & 2317 &  61 & EV & 4233 & N23139 & EWR & ALB & 29 & 143 & 22 & 15 & 2013-11-06 22:00:00\\\\\n",
       "\t 2013 &  2 & 25 & 2347 & 2145 & 122 & 30 & 2239 & 111 & EV & 4378 & N18557 & EWR & BWI & 33 & 169 & 21 & 45 & 2013-02-25 21:00:00\\\\\n",
       "\t 2013 &  8 & 13 & 2351 & 2152 & 119 & 35 & 2258 &  97 & EV & 4276 & N15574 & EWR & BDL & 24 & 116 & 21 & 52 & 2013-08-13 21:00:00\\\\\n",
       "\t 2013 & 10 & 11 & 2342 & 2030 & 192 & 27 & 2205 & 142 & WN & 2520 & N279WN & EWR & MDW & 92 & 711 & 20 & 30 & 2013-10-11 20:00:00\\\\\n",
       "\t 2013 &  2 & 26 & 2356 & 2000 & 236 & 41 & 2104 & 217 & EV & 4162 & N10575 & EWR & ALB & 24 & 143 & 20 &  0 & 2013-02-26 20:00:00\\\\\n",
       "\t 2013 &  1 & 24 & 2342 & 2159 & 103 & 28 & 2300 &  88 & EV & 4519 & N14916 & EWR & BWI & 33 & 169 & 21 & 59 & 2013-01-24 21:00:00\\\\\n",
       "\\end{tabular}\n"
      ],
      "text/markdown": [
       "\n",
       "A tibble: 10 × 19\n",
       "\n",
       "| year &lt;int&gt; | month &lt;int&gt; | day &lt;int&gt; | dep_time &lt;int&gt; | sched_dep_time &lt;int&gt; | dep_delay &lt;dbl&gt; | arr_time &lt;int&gt; | sched_arr_time &lt;int&gt; | arr_delay &lt;dbl&gt; | carrier &lt;chr&gt; | flight &lt;int&gt; | tailnum &lt;chr&gt; | origin &lt;chr&gt; | dest &lt;chr&gt; | air_time &lt;dbl&gt; | distance &lt;dbl&gt; | hour &lt;dbl&gt; | minute &lt;dbl&gt; | time_hour &lt;dttm&gt; |\n",
       "|---|---|---|---|---|---|---|---|---|---|---|---|---|---|---|---|---|---|---|\n",
       "| 2013 |  7 | 17 | 2400 | 2142 | 138 | 54 | 2259 | 115 | EV | 3832 | N22971 | EWR | DCA | 37 | 199 | 21 | 42 | 2013-07-17 21:00:00 |\n",
       "| 2013 | 12 |  9 | 2400 | 2250 |  70 | 59 | 2356 |  63 | B6 | 1816 | N187JB | JFK | SYR | 41 | 209 | 22 | 50 | 2013-12-09 22:00:00 |\n",
       "| 2013 |  6 | 12 | 2338 | 2129 | 129 | 17 | 2235 | 102 | EV | 4276 | N11109 | EWR | BDL | 21 | 116 | 21 | 29 | 2013-06-12 21:00:00 |\n",
       "| 2013 | 12 | 29 | 2332 | 2155 |  97 | 14 | 2300 |  74 | EV | 4682 | N13955 | EWR | ALB | 26 | 143 | 21 | 55 | 2013-12-29 21:00:00 |\n",
       "| 2013 | 11 |  6 | 2335 | 2215 |  80 | 18 | 2317 |  61 | EV | 4233 | N23139 | EWR | ALB | 29 | 143 | 22 | 15 | 2013-11-06 22:00:00 |\n",
       "| 2013 |  2 | 25 | 2347 | 2145 | 122 | 30 | 2239 | 111 | EV | 4378 | N18557 | EWR | BWI | 33 | 169 | 21 | 45 | 2013-02-25 21:00:00 |\n",
       "| 2013 |  8 | 13 | 2351 | 2152 | 119 | 35 | 2258 |  97 | EV | 4276 | N15574 | EWR | BDL | 24 | 116 | 21 | 52 | 2013-08-13 21:00:00 |\n",
       "| 2013 | 10 | 11 | 2342 | 2030 | 192 | 27 | 2205 | 142 | WN | 2520 | N279WN | EWR | MDW | 92 | 711 | 20 | 30 | 2013-10-11 20:00:00 |\n",
       "| 2013 |  2 | 26 | 2356 | 2000 | 236 | 41 | 2104 | 217 | EV | 4162 | N10575 | EWR | ALB | 24 | 143 | 20 |  0 | 2013-02-26 20:00:00 |\n",
       "| 2013 |  1 | 24 | 2342 | 2159 | 103 | 28 | 2300 |  88 | EV | 4519 | N14916 | EWR | BWI | 33 | 169 | 21 | 59 | 2013-01-24 21:00:00 |\n",
       "\n"
      ],
      "text/plain": [
       "   year month day dep_time sched_dep_time dep_delay arr_time sched_arr_time\n",
       "1  2013  7    17  2400     2142           138       54       2259          \n",
       "2  2013 12     9  2400     2250            70       59       2356          \n",
       "3  2013  6    12  2338     2129           129       17       2235          \n",
       "4  2013 12    29  2332     2155            97       14       2300          \n",
       "5  2013 11     6  2335     2215            80       18       2317          \n",
       "6  2013  2    25  2347     2145           122       30       2239          \n",
       "7  2013  8    13  2351     2152           119       35       2258          \n",
       "8  2013 10    11  2342     2030           192       27       2205          \n",
       "9  2013  2    26  2356     2000           236       41       2104          \n",
       "10 2013  1    24  2342     2159           103       28       2300          \n",
       "   arr_delay carrier flight tailnum origin dest air_time distance hour minute\n",
       "1  115       EV      3832   N22971  EWR    DCA  37       199      21   42    \n",
       "2   63       B6      1816   N187JB  JFK    SYR  41       209      22   50    \n",
       "3  102       EV      4276   N11109  EWR    BDL  21       116      21   29    \n",
       "4   74       EV      4682   N13955  EWR    ALB  26       143      21   55    \n",
       "5   61       EV      4233   N23139  EWR    ALB  29       143      22   15    \n",
       "6  111       EV      4378   N18557  EWR    BWI  33       169      21   45    \n",
       "7   97       EV      4276   N15574  EWR    BDL  24       116      21   52    \n",
       "8  142       WN      2520   N279WN  EWR    MDW  92       711      20   30    \n",
       "9  217       EV      4162   N10575  EWR    ALB  24       143      20    0    \n",
       "10  88       EV      4519   N14916  EWR    BWI  33       169      21   59    \n",
       "   time_hour          \n",
       "1  2013-07-17 21:00:00\n",
       "2  2013-12-09 22:00:00\n",
       "3  2013-06-12 21:00:00\n",
       "4  2013-12-29 21:00:00\n",
       "5  2013-11-06 22:00:00\n",
       "6  2013-02-25 21:00:00\n",
       "7  2013-08-13 21:00:00\n",
       "8  2013-10-11 20:00:00\n",
       "9  2013-02-26 20:00:00\n",
       "10 2013-01-24 21:00:00"
      ]
     },
     "metadata": {},
     "output_type": "display_data"
    }
   ],
   "source": [
    "flights |>\n",
    "  arrange(arr_time - (dep_time - 2400), .keep_all = TRUE) |>\n",
    "  head(10)\n"
   ]
  },
  {
   "cell_type": "markdown",
   "metadata": {},
   "source": [
    "### Exercise 4\n",
    "\n",
    "Was there a flight on every day of 2013?"
   ]
  },
  {
   "cell_type": "code",
   "execution_count": 16,
   "metadata": {
    "vscode": {
     "languageId": "r"
    }
   },
   "outputs": [
    {
     "data": {
      "text/html": [
       "365"
      ],
      "text/latex": [
       "365"
      ],
      "text/markdown": [
       "365"
      ],
      "text/plain": [
       "[1] 365"
      ]
     },
     "metadata": {},
     "output_type": "display_data"
    }
   ],
   "source": [
    "flights |>\n",
    "  distinct(year, month, day) |>\n",
    "  nrow()\n"
   ]
  },
  {
   "cell_type": "markdown",
   "metadata": {},
   "source": [
    "## Exercise 5\n",
    "\n",
    "Which flights traveled the farthest distance? Which traveled the least distance?"
   ]
  },
  {
   "cell_type": "code",
   "execution_count": 17,
   "metadata": {
    "vscode": {
     "languageId": "r"
    }
   },
   "outputs": [
    {
     "data": {
      "text/html": [
       "<table class=\"dataframe\">\n",
       "<caption>A tibble: 10 × 19</caption>\n",
       "<thead>\n",
       "\t<tr><th scope=col>year</th><th scope=col>month</th><th scope=col>day</th><th scope=col>dep_time</th><th scope=col>sched_dep_time</th><th scope=col>dep_delay</th><th scope=col>arr_time</th><th scope=col>sched_arr_time</th><th scope=col>arr_delay</th><th scope=col>carrier</th><th scope=col>flight</th><th scope=col>tailnum</th><th scope=col>origin</th><th scope=col>dest</th><th scope=col>air_time</th><th scope=col>distance</th><th scope=col>hour</th><th scope=col>minute</th><th scope=col>time_hour</th></tr>\n",
       "\t<tr><th scope=col>&lt;int&gt;</th><th scope=col>&lt;int&gt;</th><th scope=col>&lt;int&gt;</th><th scope=col>&lt;int&gt;</th><th scope=col>&lt;int&gt;</th><th scope=col>&lt;dbl&gt;</th><th scope=col>&lt;int&gt;</th><th scope=col>&lt;int&gt;</th><th scope=col>&lt;dbl&gt;</th><th scope=col>&lt;chr&gt;</th><th scope=col>&lt;int&gt;</th><th scope=col>&lt;chr&gt;</th><th scope=col>&lt;chr&gt;</th><th scope=col>&lt;chr&gt;</th><th scope=col>&lt;dbl&gt;</th><th scope=col>&lt;dbl&gt;</th><th scope=col>&lt;dbl&gt;</th><th scope=col>&lt;dbl&gt;</th><th scope=col>&lt;dttm&gt;</th></tr>\n",
       "</thead>\n",
       "<tbody>\n",
       "\t<tr><td>2013</td><td>1</td><td> 1</td><td> 857</td><td>900</td><td>  -3</td><td>1516</td><td>1530</td><td> -14</td><td>HA</td><td>51</td><td>N380HA</td><td>JFK</td><td>HNL</td><td>659</td><td>4983</td><td>9</td><td>0</td><td>2013-01-01 09:00:00</td></tr>\n",
       "\t<tr><td>2013</td><td>1</td><td> 2</td><td> 909</td><td>900</td><td>   9</td><td>1525</td><td>1530</td><td>  -5</td><td>HA</td><td>51</td><td>N380HA</td><td>JFK</td><td>HNL</td><td>638</td><td>4983</td><td>9</td><td>0</td><td>2013-01-02 09:00:00</td></tr>\n",
       "\t<tr><td>2013</td><td>1</td><td> 3</td><td> 914</td><td>900</td><td>  14</td><td>1504</td><td>1530</td><td> -26</td><td>HA</td><td>51</td><td>N380HA</td><td>JFK</td><td>HNL</td><td>616</td><td>4983</td><td>9</td><td>0</td><td>2013-01-03 09:00:00</td></tr>\n",
       "\t<tr><td>2013</td><td>1</td><td> 4</td><td> 900</td><td>900</td><td>   0</td><td>1516</td><td>1530</td><td> -14</td><td>HA</td><td>51</td><td>N384HA</td><td>JFK</td><td>HNL</td><td>639</td><td>4983</td><td>9</td><td>0</td><td>2013-01-04 09:00:00</td></tr>\n",
       "\t<tr><td>2013</td><td>1</td><td> 5</td><td> 858</td><td>900</td><td>  -2</td><td>1519</td><td>1530</td><td> -11</td><td>HA</td><td>51</td><td>N381HA</td><td>JFK</td><td>HNL</td><td>635</td><td>4983</td><td>9</td><td>0</td><td>2013-01-05 09:00:00</td></tr>\n",
       "\t<tr><td>2013</td><td>1</td><td> 6</td><td>1019</td><td>900</td><td>  79</td><td>1558</td><td>1530</td><td>  28</td><td>HA</td><td>51</td><td>N385HA</td><td>JFK</td><td>HNL</td><td>611</td><td>4983</td><td>9</td><td>0</td><td>2013-01-06 09:00:00</td></tr>\n",
       "\t<tr><td>2013</td><td>1</td><td> 7</td><td>1042</td><td>900</td><td> 102</td><td>1620</td><td>1530</td><td>  50</td><td>HA</td><td>51</td><td>N385HA</td><td>JFK</td><td>HNL</td><td>612</td><td>4983</td><td>9</td><td>0</td><td>2013-01-07 09:00:00</td></tr>\n",
       "\t<tr><td>2013</td><td>1</td><td> 8</td><td> 901</td><td>900</td><td>   1</td><td>1504</td><td>1530</td><td> -26</td><td>HA</td><td>51</td><td>N389HA</td><td>JFK</td><td>HNL</td><td>645</td><td>4983</td><td>9</td><td>0</td><td>2013-01-08 09:00:00</td></tr>\n",
       "\t<tr><td>2013</td><td>1</td><td> 9</td><td> 641</td><td>900</td><td>1301</td><td>1242</td><td>1530</td><td>1272</td><td>HA</td><td>51</td><td>N384HA</td><td>JFK</td><td>HNL</td><td>640</td><td>4983</td><td>9</td><td>0</td><td>2013-01-09 09:00:00</td></tr>\n",
       "\t<tr><td>2013</td><td>1</td><td>10</td><td> 859</td><td>900</td><td>  -1</td><td>1449</td><td>1530</td><td> -41</td><td>HA</td><td>51</td><td>N388HA</td><td>JFK</td><td>HNL</td><td>633</td><td>4983</td><td>9</td><td>0</td><td>2013-01-10 09:00:00</td></tr>\n",
       "</tbody>\n",
       "</table>\n"
      ],
      "text/latex": [
       "A tibble: 10 × 19\n",
       "\\begin{tabular}{lllllllllllllllllll}\n",
       " year & month & day & dep\\_time & sched\\_dep\\_time & dep\\_delay & arr\\_time & sched\\_arr\\_time & arr\\_delay & carrier & flight & tailnum & origin & dest & air\\_time & distance & hour & minute & time\\_hour\\\\\n",
       " <int> & <int> & <int> & <int> & <int> & <dbl> & <int> & <int> & <dbl> & <chr> & <int> & <chr> & <chr> & <chr> & <dbl> & <dbl> & <dbl> & <dbl> & <dttm>\\\\\n",
       "\\hline\n",
       "\t 2013 & 1 &  1 &  857 & 900 &   -3 & 1516 & 1530 &  -14 & HA & 51 & N380HA & JFK & HNL & 659 & 4983 & 9 & 0 & 2013-01-01 09:00:00\\\\\n",
       "\t 2013 & 1 &  2 &  909 & 900 &    9 & 1525 & 1530 &   -5 & HA & 51 & N380HA & JFK & HNL & 638 & 4983 & 9 & 0 & 2013-01-02 09:00:00\\\\\n",
       "\t 2013 & 1 &  3 &  914 & 900 &   14 & 1504 & 1530 &  -26 & HA & 51 & N380HA & JFK & HNL & 616 & 4983 & 9 & 0 & 2013-01-03 09:00:00\\\\\n",
       "\t 2013 & 1 &  4 &  900 & 900 &    0 & 1516 & 1530 &  -14 & HA & 51 & N384HA & JFK & HNL & 639 & 4983 & 9 & 0 & 2013-01-04 09:00:00\\\\\n",
       "\t 2013 & 1 &  5 &  858 & 900 &   -2 & 1519 & 1530 &  -11 & HA & 51 & N381HA & JFK & HNL & 635 & 4983 & 9 & 0 & 2013-01-05 09:00:00\\\\\n",
       "\t 2013 & 1 &  6 & 1019 & 900 &   79 & 1558 & 1530 &   28 & HA & 51 & N385HA & JFK & HNL & 611 & 4983 & 9 & 0 & 2013-01-06 09:00:00\\\\\n",
       "\t 2013 & 1 &  7 & 1042 & 900 &  102 & 1620 & 1530 &   50 & HA & 51 & N385HA & JFK & HNL & 612 & 4983 & 9 & 0 & 2013-01-07 09:00:00\\\\\n",
       "\t 2013 & 1 &  8 &  901 & 900 &    1 & 1504 & 1530 &  -26 & HA & 51 & N389HA & JFK & HNL & 645 & 4983 & 9 & 0 & 2013-01-08 09:00:00\\\\\n",
       "\t 2013 & 1 &  9 &  641 & 900 & 1301 & 1242 & 1530 & 1272 & HA & 51 & N384HA & JFK & HNL & 640 & 4983 & 9 & 0 & 2013-01-09 09:00:00\\\\\n",
       "\t 2013 & 1 & 10 &  859 & 900 &   -1 & 1449 & 1530 &  -41 & HA & 51 & N388HA & JFK & HNL & 633 & 4983 & 9 & 0 & 2013-01-10 09:00:00\\\\\n",
       "\\end{tabular}\n"
      ],
      "text/markdown": [
       "\n",
       "A tibble: 10 × 19\n",
       "\n",
       "| year &lt;int&gt; | month &lt;int&gt; | day &lt;int&gt; | dep_time &lt;int&gt; | sched_dep_time &lt;int&gt; | dep_delay &lt;dbl&gt; | arr_time &lt;int&gt; | sched_arr_time &lt;int&gt; | arr_delay &lt;dbl&gt; | carrier &lt;chr&gt; | flight &lt;int&gt; | tailnum &lt;chr&gt; | origin &lt;chr&gt; | dest &lt;chr&gt; | air_time &lt;dbl&gt; | distance &lt;dbl&gt; | hour &lt;dbl&gt; | minute &lt;dbl&gt; | time_hour &lt;dttm&gt; |\n",
       "|---|---|---|---|---|---|---|---|---|---|---|---|---|---|---|---|---|---|---|\n",
       "| 2013 | 1 |  1 |  857 | 900 |   -3 | 1516 | 1530 |  -14 | HA | 51 | N380HA | JFK | HNL | 659 | 4983 | 9 | 0 | 2013-01-01 09:00:00 |\n",
       "| 2013 | 1 |  2 |  909 | 900 |    9 | 1525 | 1530 |   -5 | HA | 51 | N380HA | JFK | HNL | 638 | 4983 | 9 | 0 | 2013-01-02 09:00:00 |\n",
       "| 2013 | 1 |  3 |  914 | 900 |   14 | 1504 | 1530 |  -26 | HA | 51 | N380HA | JFK | HNL | 616 | 4983 | 9 | 0 | 2013-01-03 09:00:00 |\n",
       "| 2013 | 1 |  4 |  900 | 900 |    0 | 1516 | 1530 |  -14 | HA | 51 | N384HA | JFK | HNL | 639 | 4983 | 9 | 0 | 2013-01-04 09:00:00 |\n",
       "| 2013 | 1 |  5 |  858 | 900 |   -2 | 1519 | 1530 |  -11 | HA | 51 | N381HA | JFK | HNL | 635 | 4983 | 9 | 0 | 2013-01-05 09:00:00 |\n",
       "| 2013 | 1 |  6 | 1019 | 900 |   79 | 1558 | 1530 |   28 | HA | 51 | N385HA | JFK | HNL | 611 | 4983 | 9 | 0 | 2013-01-06 09:00:00 |\n",
       "| 2013 | 1 |  7 | 1042 | 900 |  102 | 1620 | 1530 |   50 | HA | 51 | N385HA | JFK | HNL | 612 | 4983 | 9 | 0 | 2013-01-07 09:00:00 |\n",
       "| 2013 | 1 |  8 |  901 | 900 |    1 | 1504 | 1530 |  -26 | HA | 51 | N389HA | JFK | HNL | 645 | 4983 | 9 | 0 | 2013-01-08 09:00:00 |\n",
       "| 2013 | 1 |  9 |  641 | 900 | 1301 | 1242 | 1530 | 1272 | HA | 51 | N384HA | JFK | HNL | 640 | 4983 | 9 | 0 | 2013-01-09 09:00:00 |\n",
       "| 2013 | 1 | 10 |  859 | 900 |   -1 | 1449 | 1530 |  -41 | HA | 51 | N388HA | JFK | HNL | 633 | 4983 | 9 | 0 | 2013-01-10 09:00:00 |\n",
       "\n"
      ],
      "text/plain": [
       "   year month day dep_time sched_dep_time dep_delay arr_time sched_arr_time\n",
       "1  2013 1      1   857     900              -3      1516     1530          \n",
       "2  2013 1      2   909     900               9      1525     1530          \n",
       "3  2013 1      3   914     900              14      1504     1530          \n",
       "4  2013 1      4   900     900               0      1516     1530          \n",
       "5  2013 1      5   858     900              -2      1519     1530          \n",
       "6  2013 1      6  1019     900              79      1558     1530          \n",
       "7  2013 1      7  1042     900             102      1620     1530          \n",
       "8  2013 1      8   901     900               1      1504     1530          \n",
       "9  2013 1      9   641     900            1301      1242     1530          \n",
       "10 2013 1     10   859     900              -1      1449     1530          \n",
       "   arr_delay carrier flight tailnum origin dest air_time distance hour minute\n",
       "1   -14      HA      51     N380HA  JFK    HNL  659      4983     9    0     \n",
       "2    -5      HA      51     N380HA  JFK    HNL  638      4983     9    0     \n",
       "3   -26      HA      51     N380HA  JFK    HNL  616      4983     9    0     \n",
       "4   -14      HA      51     N384HA  JFK    HNL  639      4983     9    0     \n",
       "5   -11      HA      51     N381HA  JFK    HNL  635      4983     9    0     \n",
       "6    28      HA      51     N385HA  JFK    HNL  611      4983     9    0     \n",
       "7    50      HA      51     N385HA  JFK    HNL  612      4983     9    0     \n",
       "8   -26      HA      51     N389HA  JFK    HNL  645      4983     9    0     \n",
       "9  1272      HA      51     N384HA  JFK    HNL  640      4983     9    0     \n",
       "10  -41      HA      51     N388HA  JFK    HNL  633      4983     9    0     \n",
       "   time_hour          \n",
       "1  2013-01-01 09:00:00\n",
       "2  2013-01-02 09:00:00\n",
       "3  2013-01-03 09:00:00\n",
       "4  2013-01-04 09:00:00\n",
       "5  2013-01-05 09:00:00\n",
       "6  2013-01-06 09:00:00\n",
       "7  2013-01-07 09:00:00\n",
       "8  2013-01-08 09:00:00\n",
       "9  2013-01-09 09:00:00\n",
       "10 2013-01-10 09:00:00"
      ]
     },
     "metadata": {},
     "output_type": "display_data"
    }
   ],
   "source": [
    "flights |>\n",
    "  arrange(desc(distance), .keep_all = TRUE) |>\n",
    "  head(10)\n"
   ]
  },
  {
   "cell_type": "code",
   "execution_count": 19,
   "metadata": {
    "vscode": {
     "languageId": "r"
    }
   },
   "outputs": [
    {
     "data": {
      "text/html": [
       "<table class=\"dataframe\">\n",
       "<caption>A tibble: 10 × 19</caption>\n",
       "<thead>\n",
       "\t<tr><th scope=col>year</th><th scope=col>month</th><th scope=col>day</th><th scope=col>dep_time</th><th scope=col>sched_dep_time</th><th scope=col>dep_delay</th><th scope=col>arr_time</th><th scope=col>sched_arr_time</th><th scope=col>arr_delay</th><th scope=col>carrier</th><th scope=col>flight</th><th scope=col>tailnum</th><th scope=col>origin</th><th scope=col>dest</th><th scope=col>air_time</th><th scope=col>distance</th><th scope=col>hour</th><th scope=col>minute</th><th scope=col>time_hour</th></tr>\n",
       "\t<tr><th scope=col>&lt;int&gt;</th><th scope=col>&lt;int&gt;</th><th scope=col>&lt;int&gt;</th><th scope=col>&lt;int&gt;</th><th scope=col>&lt;int&gt;</th><th scope=col>&lt;dbl&gt;</th><th scope=col>&lt;int&gt;</th><th scope=col>&lt;int&gt;</th><th scope=col>&lt;dbl&gt;</th><th scope=col>&lt;chr&gt;</th><th scope=col>&lt;int&gt;</th><th scope=col>&lt;chr&gt;</th><th scope=col>&lt;chr&gt;</th><th scope=col>&lt;chr&gt;</th><th scope=col>&lt;dbl&gt;</th><th scope=col>&lt;dbl&gt;</th><th scope=col>&lt;dbl&gt;</th><th scope=col>&lt;dbl&gt;</th><th scope=col>&lt;dttm&gt;</th></tr>\n",
       "</thead>\n",
       "<tbody>\n",
       "\t<tr><td>2013</td><td>7</td><td>27</td><td>  NA</td><td> 106</td><td> NA</td><td>  NA</td><td> 245</td><td> NA</td><td>US</td><td>1632</td><td>NA    </td><td>EWR</td><td>LGA</td><td>NA</td><td>17</td><td> 1</td><td> 6</td><td>2013-07-27 01:00:00</td></tr>\n",
       "\t<tr><td>2013</td><td>1</td><td> 3</td><td>2127</td><td>2129</td><td> -2</td><td>2222</td><td>2224</td><td> -2</td><td>EV</td><td>3833</td><td>N13989</td><td>EWR</td><td>PHL</td><td>30</td><td>80</td><td>21</td><td>29</td><td>2013-01-03 21:00:00</td></tr>\n",
       "\t<tr><td>2013</td><td>1</td><td> 4</td><td>1240</td><td>1200</td><td> 40</td><td>1333</td><td>1306</td><td> 27</td><td>EV</td><td>4193</td><td>N14972</td><td>EWR</td><td>PHL</td><td>30</td><td>80</td><td>12</td><td> 0</td><td>2013-01-04 12:00:00</td></tr>\n",
       "\t<tr><td>2013</td><td>1</td><td> 4</td><td>1829</td><td>1615</td><td>134</td><td>1937</td><td>1721</td><td>136</td><td>EV</td><td>4502</td><td>N15983</td><td>EWR</td><td>PHL</td><td>28</td><td>80</td><td>16</td><td>15</td><td>2013-01-04 16:00:00</td></tr>\n",
       "\t<tr><td>2013</td><td>1</td><td> 4</td><td>2128</td><td>2129</td><td> -1</td><td>2218</td><td>2224</td><td> -6</td><td>EV</td><td>4645</td><td>N27962</td><td>EWR</td><td>PHL</td><td>32</td><td>80</td><td>21</td><td>29</td><td>2013-01-04 21:00:00</td></tr>\n",
       "\t<tr><td>2013</td><td>1</td><td> 5</td><td>1155</td><td>1200</td><td> -5</td><td>1241</td><td>1306</td><td>-25</td><td>EV</td><td>4193</td><td>N14902</td><td>EWR</td><td>PHL</td><td>29</td><td>80</td><td>12</td><td> 0</td><td>2013-01-05 12:00:00</td></tr>\n",
       "\t<tr><td>2013</td><td>1</td><td> 6</td><td>2125</td><td>2129</td><td> -4</td><td>2224</td><td>2224</td><td>  0</td><td>EV</td><td>4619</td><td>N22909</td><td>EWR</td><td>PHL</td><td>22</td><td>80</td><td>21</td><td>29</td><td>2013-01-06 21:00:00</td></tr>\n",
       "\t<tr><td>2013</td><td>1</td><td> 7</td><td>2124</td><td>2129</td><td> -5</td><td>2212</td><td>2224</td><td>-12</td><td>EV</td><td>4619</td><td>N33182</td><td>EWR</td><td>PHL</td><td>25</td><td>80</td><td>21</td><td>29</td><td>2013-01-07 21:00:00</td></tr>\n",
       "\t<tr><td>2013</td><td>1</td><td> 8</td><td>2127</td><td>2130</td><td> -3</td><td>2304</td><td>2225</td><td> 39</td><td>EV</td><td>4619</td><td>N11194</td><td>EWR</td><td>PHL</td><td>30</td><td>80</td><td>21</td><td>30</td><td>2013-01-08 21:00:00</td></tr>\n",
       "\t<tr><td>2013</td><td>1</td><td> 9</td><td>2126</td><td>2129</td><td> -3</td><td>2217</td><td>2224</td><td> -7</td><td>EV</td><td>4619</td><td>N17560</td><td>EWR</td><td>PHL</td><td>27</td><td>80</td><td>21</td><td>29</td><td>2013-01-09 21:00:00</td></tr>\n",
       "</tbody>\n",
       "</table>\n"
      ],
      "text/latex": [
       "A tibble: 10 × 19\n",
       "\\begin{tabular}{lllllllllllllllllll}\n",
       " year & month & day & dep\\_time & sched\\_dep\\_time & dep\\_delay & arr\\_time & sched\\_arr\\_time & arr\\_delay & carrier & flight & tailnum & origin & dest & air\\_time & distance & hour & minute & time\\_hour\\\\\n",
       " <int> & <int> & <int> & <int> & <int> & <dbl> & <int> & <int> & <dbl> & <chr> & <int> & <chr> & <chr> & <chr> & <dbl> & <dbl> & <dbl> & <dbl> & <dttm>\\\\\n",
       "\\hline\n",
       "\t 2013 & 7 & 27 &   NA &  106 &  NA &   NA &  245 &  NA & US & 1632 & NA     & EWR & LGA & NA & 17 &  1 &  6 & 2013-07-27 01:00:00\\\\\n",
       "\t 2013 & 1 &  3 & 2127 & 2129 &  -2 & 2222 & 2224 &  -2 & EV & 3833 & N13989 & EWR & PHL & 30 & 80 & 21 & 29 & 2013-01-03 21:00:00\\\\\n",
       "\t 2013 & 1 &  4 & 1240 & 1200 &  40 & 1333 & 1306 &  27 & EV & 4193 & N14972 & EWR & PHL & 30 & 80 & 12 &  0 & 2013-01-04 12:00:00\\\\\n",
       "\t 2013 & 1 &  4 & 1829 & 1615 & 134 & 1937 & 1721 & 136 & EV & 4502 & N15983 & EWR & PHL & 28 & 80 & 16 & 15 & 2013-01-04 16:00:00\\\\\n",
       "\t 2013 & 1 &  4 & 2128 & 2129 &  -1 & 2218 & 2224 &  -6 & EV & 4645 & N27962 & EWR & PHL & 32 & 80 & 21 & 29 & 2013-01-04 21:00:00\\\\\n",
       "\t 2013 & 1 &  5 & 1155 & 1200 &  -5 & 1241 & 1306 & -25 & EV & 4193 & N14902 & EWR & PHL & 29 & 80 & 12 &  0 & 2013-01-05 12:00:00\\\\\n",
       "\t 2013 & 1 &  6 & 2125 & 2129 &  -4 & 2224 & 2224 &   0 & EV & 4619 & N22909 & EWR & PHL & 22 & 80 & 21 & 29 & 2013-01-06 21:00:00\\\\\n",
       "\t 2013 & 1 &  7 & 2124 & 2129 &  -5 & 2212 & 2224 & -12 & EV & 4619 & N33182 & EWR & PHL & 25 & 80 & 21 & 29 & 2013-01-07 21:00:00\\\\\n",
       "\t 2013 & 1 &  8 & 2127 & 2130 &  -3 & 2304 & 2225 &  39 & EV & 4619 & N11194 & EWR & PHL & 30 & 80 & 21 & 30 & 2013-01-08 21:00:00\\\\\n",
       "\t 2013 & 1 &  9 & 2126 & 2129 &  -3 & 2217 & 2224 &  -7 & EV & 4619 & N17560 & EWR & PHL & 27 & 80 & 21 & 29 & 2013-01-09 21:00:00\\\\\n",
       "\\end{tabular}\n"
      ],
      "text/markdown": [
       "\n",
       "A tibble: 10 × 19\n",
       "\n",
       "| year &lt;int&gt; | month &lt;int&gt; | day &lt;int&gt; | dep_time &lt;int&gt; | sched_dep_time &lt;int&gt; | dep_delay &lt;dbl&gt; | arr_time &lt;int&gt; | sched_arr_time &lt;int&gt; | arr_delay &lt;dbl&gt; | carrier &lt;chr&gt; | flight &lt;int&gt; | tailnum &lt;chr&gt; | origin &lt;chr&gt; | dest &lt;chr&gt; | air_time &lt;dbl&gt; | distance &lt;dbl&gt; | hour &lt;dbl&gt; | minute &lt;dbl&gt; | time_hour &lt;dttm&gt; |\n",
       "|---|---|---|---|---|---|---|---|---|---|---|---|---|---|---|---|---|---|---|\n",
       "| 2013 | 7 | 27 |   NA |  106 |  NA |   NA |  245 |  NA | US | 1632 | NA     | EWR | LGA | NA | 17 |  1 |  6 | 2013-07-27 01:00:00 |\n",
       "| 2013 | 1 |  3 | 2127 | 2129 |  -2 | 2222 | 2224 |  -2 | EV | 3833 | N13989 | EWR | PHL | 30 | 80 | 21 | 29 | 2013-01-03 21:00:00 |\n",
       "| 2013 | 1 |  4 | 1240 | 1200 |  40 | 1333 | 1306 |  27 | EV | 4193 | N14972 | EWR | PHL | 30 | 80 | 12 |  0 | 2013-01-04 12:00:00 |\n",
       "| 2013 | 1 |  4 | 1829 | 1615 | 134 | 1937 | 1721 | 136 | EV | 4502 | N15983 | EWR | PHL | 28 | 80 | 16 | 15 | 2013-01-04 16:00:00 |\n",
       "| 2013 | 1 |  4 | 2128 | 2129 |  -1 | 2218 | 2224 |  -6 | EV | 4645 | N27962 | EWR | PHL | 32 | 80 | 21 | 29 | 2013-01-04 21:00:00 |\n",
       "| 2013 | 1 |  5 | 1155 | 1200 |  -5 | 1241 | 1306 | -25 | EV | 4193 | N14902 | EWR | PHL | 29 | 80 | 12 |  0 | 2013-01-05 12:00:00 |\n",
       "| 2013 | 1 |  6 | 2125 | 2129 |  -4 | 2224 | 2224 |   0 | EV | 4619 | N22909 | EWR | PHL | 22 | 80 | 21 | 29 | 2013-01-06 21:00:00 |\n",
       "| 2013 | 1 |  7 | 2124 | 2129 |  -5 | 2212 | 2224 | -12 | EV | 4619 | N33182 | EWR | PHL | 25 | 80 | 21 | 29 | 2013-01-07 21:00:00 |\n",
       "| 2013 | 1 |  8 | 2127 | 2130 |  -3 | 2304 | 2225 |  39 | EV | 4619 | N11194 | EWR | PHL | 30 | 80 | 21 | 30 | 2013-01-08 21:00:00 |\n",
       "| 2013 | 1 |  9 | 2126 | 2129 |  -3 | 2217 | 2224 |  -7 | EV | 4619 | N17560 | EWR | PHL | 27 | 80 | 21 | 29 | 2013-01-09 21:00:00 |\n",
       "\n"
      ],
      "text/plain": [
       "   year month day dep_time sched_dep_time dep_delay arr_time sched_arr_time\n",
       "1  2013 7     27    NA      106            NA         NA      245          \n",
       "2  2013 1      3  2127     2129            -2       2222     2224          \n",
       "3  2013 1      4  1240     1200            40       1333     1306          \n",
       "4  2013 1      4  1829     1615           134       1937     1721          \n",
       "5  2013 1      4  2128     2129            -1       2218     2224          \n",
       "6  2013 1      5  1155     1200            -5       1241     1306          \n",
       "7  2013 1      6  2125     2129            -4       2224     2224          \n",
       "8  2013 1      7  2124     2129            -5       2212     2224          \n",
       "9  2013 1      8  2127     2130            -3       2304     2225          \n",
       "10 2013 1      9  2126     2129            -3       2217     2224          \n",
       "   arr_delay carrier flight tailnum origin dest air_time distance hour minute\n",
       "1   NA       US      1632   NA      EWR    LGA  NA       17        1    6    \n",
       "2   -2       EV      3833   N13989  EWR    PHL  30       80       21   29    \n",
       "3   27       EV      4193   N14972  EWR    PHL  30       80       12    0    \n",
       "4  136       EV      4502   N15983  EWR    PHL  28       80       16   15    \n",
       "5   -6       EV      4645   N27962  EWR    PHL  32       80       21   29    \n",
       "6  -25       EV      4193   N14902  EWR    PHL  29       80       12    0    \n",
       "7    0       EV      4619   N22909  EWR    PHL  22       80       21   29    \n",
       "8  -12       EV      4619   N33182  EWR    PHL  25       80       21   29    \n",
       "9   39       EV      4619   N11194  EWR    PHL  30       80       21   30    \n",
       "10  -7       EV      4619   N17560  EWR    PHL  27       80       21   29    \n",
       "   time_hour          \n",
       "1  2013-07-27 01:00:00\n",
       "2  2013-01-03 21:00:00\n",
       "3  2013-01-04 12:00:00\n",
       "4  2013-01-04 16:00:00\n",
       "5  2013-01-04 21:00:00\n",
       "6  2013-01-05 12:00:00\n",
       "7  2013-01-06 21:00:00\n",
       "8  2013-01-07 21:00:00\n",
       "9  2013-01-08 21:00:00\n",
       "10 2013-01-09 21:00:00"
      ]
     },
     "metadata": {},
     "output_type": "display_data"
    }
   ],
   "source": [
    "flights |>\n",
    "  arrange(distance, .keep_all = TRUE) |>\n",
    "  head(10)\n"
   ]
  },
  {
   "cell_type": "markdown",
   "metadata": {},
   "source": [
    "### Exercise 6\n",
    "\n",
    "Does it matter what order you used filter() and arrange() if you’re using both? Why/why not? Think about the results and how much work the functions would have to do.\n",
    "\n",
    "**Answer:** yes. Running `filter` and then `arrange` is more efficiente since `arrange` will have less rows to sort through. Functionally both ways return the same result but running `filter` first is generally faster."
   ]
  }
 ],
 "metadata": {
  "kernelspec": {
   "display_name": "R",
   "language": "R",
   "name": "ir"
  },
  "language_info": {
   "codemirror_mode": "r",
   "file_extension": ".r",
   "mimetype": "text/x-r-source",
   "name": "R",
   "pygments_lexer": "r",
   "version": "4.3.2"
  }
 },
 "nbformat": 4,
 "nbformat_minor": 2
}
