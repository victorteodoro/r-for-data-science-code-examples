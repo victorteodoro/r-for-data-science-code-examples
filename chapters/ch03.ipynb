{
 "cells": [
  {
   "cell_type": "markdown",
   "metadata": {},
   "source": [
    "# 3. Data transformation\n",
    "\n",
    "Taken from [the book](https://r4ds.hadley.nz/data-transform).\n"
   ]
  },
  {
   "cell_type": "code",
   "execution_count": 1,
   "metadata": {
    "vscode": {
     "languageId": "r"
    }
   },
   "outputs": [
    {
     "name": "stderr",
     "output_type": "stream",
     "text": [
      "── \u001b[1mAttaching core tidyverse packages\u001b[22m ──────────────────────── tidyverse 2.0.0 ──\n",
      "\u001b[32m✔\u001b[39m \u001b[34mdplyr    \u001b[39m 1.1.4     \u001b[32m✔\u001b[39m \u001b[34mreadr    \u001b[39m 2.1.5\n",
      "\u001b[32m✔\u001b[39m \u001b[34mforcats  \u001b[39m 1.0.0     \u001b[32m✔\u001b[39m \u001b[34mstringr  \u001b[39m 1.5.1\n",
      "\u001b[32m✔\u001b[39m \u001b[34mggplot2  \u001b[39m 3.5.1     \u001b[32m✔\u001b[39m \u001b[34mtibble   \u001b[39m 3.2.1\n",
      "\u001b[32m✔\u001b[39m \u001b[34mlubridate\u001b[39m 1.9.3     \u001b[32m✔\u001b[39m \u001b[34mtidyr    \u001b[39m 1.3.1\n",
      "\u001b[32m✔\u001b[39m \u001b[34mpurrr    \u001b[39m 1.0.2     \n",
      "── \u001b[1mConflicts\u001b[22m ────────────────────────────────────────── tidyverse_conflicts() ──\n",
      "\u001b[31m✖\u001b[39m \u001b[34mdplyr\u001b[39m::\u001b[32mfilter()\u001b[39m masks \u001b[34mstats\u001b[39m::filter()\n",
      "\u001b[31m✖\u001b[39m \u001b[34mdplyr\u001b[39m::\u001b[32mlag()\u001b[39m    masks \u001b[34mstats\u001b[39m::lag()\n",
      "\u001b[36mℹ\u001b[39m Use the conflicted package (\u001b[3m\u001b[34m<http://conflicted.r-lib.org/>\u001b[39m\u001b[23m) to force all conflicts to become errors\n"
     ]
    }
   ],
   "source": [
    "library(nycflights13)\n",
    "library(tidyverse)\n"
   ]
  },
  {
   "cell_type": "markdown",
   "metadata": {},
   "source": [
    "## Exploring the data\n"
   ]
  },
  {
   "cell_type": "code",
   "execution_count": 2,
   "metadata": {
    "vscode": {
     "languageId": "r"
    }
   },
   "outputs": [
    {
     "name": "stdout",
     "output_type": "stream",
     "text": [
      "Rows: 336,776\n",
      "Columns: 19\n",
      "$ year           \u001b[3m\u001b[90m<int>\u001b[39m\u001b[23m 2013, 2013, 2013, 2013, 2013, 2013, 2013, 2013, 2013, 2…\n",
      "$ month          \u001b[3m\u001b[90m<int>\u001b[39m\u001b[23m 1, 1, 1, 1, 1, 1, 1, 1, 1, 1, 1, 1, 1, 1, 1, 1, 1, 1, 1…\n",
      "$ day            \u001b[3m\u001b[90m<int>\u001b[39m\u001b[23m 1, 1, 1, 1, 1, 1, 1, 1, 1, 1, 1, 1, 1, 1, 1, 1, 1, 1, 1…\n",
      "$ dep_time       \u001b[3m\u001b[90m<int>\u001b[39m\u001b[23m 517, 533, 542, 544, 554, 554, 555, 557, 557, 558, 558, …\n",
      "$ sched_dep_time \u001b[3m\u001b[90m<int>\u001b[39m\u001b[23m 515, 529, 540, 545, 600, 558, 600, 600, 600, 600, 600, …\n",
      "$ dep_delay      \u001b[3m\u001b[90m<dbl>\u001b[39m\u001b[23m 2, 4, 2, -1, -6, -4, -5, -3, -3, -2, -2, -2, -2, -2, -1…\n",
      "$ arr_time       \u001b[3m\u001b[90m<int>\u001b[39m\u001b[23m 830, 850, 923, 1004, 812, 740, 913, 709, 838, 753, 849,…\n",
      "$ sched_arr_time \u001b[3m\u001b[90m<int>\u001b[39m\u001b[23m 819, 830, 850, 1022, 837, 728, 854, 723, 846, 745, 851,…\n",
      "$ arr_delay      \u001b[3m\u001b[90m<dbl>\u001b[39m\u001b[23m 11, 20, 33, -18, -25, 12, 19, -14, -8, 8, -2, -3, 7, -1…\n",
      "$ carrier        \u001b[3m\u001b[90m<chr>\u001b[39m\u001b[23m \"UA\", \"UA\", \"AA\", \"B6\", \"DL\", \"UA\", \"B6\", \"EV\", \"B6\", \"…\n",
      "$ flight         \u001b[3m\u001b[90m<int>\u001b[39m\u001b[23m 1545, 1714, 1141, 725, 461, 1696, 507, 5708, 79, 301, 4…\n",
      "$ tailnum        \u001b[3m\u001b[90m<chr>\u001b[39m\u001b[23m \"N14228\", \"N24211\", \"N619AA\", \"N804JB\", \"N668DN\", \"N394…\n",
      "$ origin         \u001b[3m\u001b[90m<chr>\u001b[39m\u001b[23m \"EWR\", \"LGA\", \"JFK\", \"JFK\", \"LGA\", \"EWR\", \"EWR\", \"LGA\",…\n",
      "$ dest           \u001b[3m\u001b[90m<chr>\u001b[39m\u001b[23m \"IAH\", \"IAH\", \"MIA\", \"BQN\", \"ATL\", \"ORD\", \"FLL\", \"IAD\",…\n",
      "$ air_time       \u001b[3m\u001b[90m<dbl>\u001b[39m\u001b[23m 227, 227, 160, 183, 116, 150, 158, 53, 140, 138, 149, 1…\n",
      "$ distance       \u001b[3m\u001b[90m<dbl>\u001b[39m\u001b[23m 1400, 1416, 1089, 1576, 762, 719, 1065, 229, 944, 733, …\n",
      "$ hour           \u001b[3m\u001b[90m<dbl>\u001b[39m\u001b[23m 5, 5, 5, 5, 6, 5, 6, 6, 6, 6, 6, 6, 6, 6, 6, 5, 6, 6, 6…\n",
      "$ minute         \u001b[3m\u001b[90m<dbl>\u001b[39m\u001b[23m 15, 29, 40, 45, 0, 58, 0, 0, 0, 0, 0, 0, 0, 0, 0, 59, 0…\n",
      "$ time_hour      \u001b[3m\u001b[90m<dttm>\u001b[39m\u001b[23m 2013-01-01 05:00:00, 2013-01-01 05:00:00, 2013-01-01 0…\n"
     ]
    }
   ],
   "source": [
    "glimpse(flights)\n"
   ]
  },
  {
   "cell_type": "code",
   "execution_count": 4,
   "metadata": {
    "vscode": {
     "languageId": "r"
    }
   },
   "outputs": [
    {
     "data": {
      "text/html": [
       "<table class=\"dataframe\">\n",
       "<caption>A tibble: 6 × 19</caption>\n",
       "<thead>\n",
       "\t<tr><th scope=col>year</th><th scope=col>month</th><th scope=col>day</th><th scope=col>dep_time</th><th scope=col>sched_dep_time</th><th scope=col>dep_delay</th><th scope=col>arr_time</th><th scope=col>sched_arr_time</th><th scope=col>arr_delay</th><th scope=col>carrier</th><th scope=col>flight</th><th scope=col>tailnum</th><th scope=col>origin</th><th scope=col>dest</th><th scope=col>air_time</th><th scope=col>distance</th><th scope=col>hour</th><th scope=col>minute</th><th scope=col>time_hour</th></tr>\n",
       "\t<tr><th scope=col>&lt;int&gt;</th><th scope=col>&lt;int&gt;</th><th scope=col>&lt;int&gt;</th><th scope=col>&lt;int&gt;</th><th scope=col>&lt;int&gt;</th><th scope=col>&lt;dbl&gt;</th><th scope=col>&lt;int&gt;</th><th scope=col>&lt;int&gt;</th><th scope=col>&lt;dbl&gt;</th><th scope=col>&lt;chr&gt;</th><th scope=col>&lt;int&gt;</th><th scope=col>&lt;chr&gt;</th><th scope=col>&lt;chr&gt;</th><th scope=col>&lt;chr&gt;</th><th scope=col>&lt;dbl&gt;</th><th scope=col>&lt;dbl&gt;</th><th scope=col>&lt;dbl&gt;</th><th scope=col>&lt;dbl&gt;</th><th scope=col>&lt;dttm&gt;</th></tr>\n",
       "</thead>\n",
       "<tbody>\n",
       "\t<tr><td>2013</td><td>1</td><td>1</td><td>517</td><td>515</td><td> 2</td><td> 830</td><td> 819</td><td> 11</td><td>UA</td><td>1545</td><td>N14228</td><td>EWR</td><td>IAH</td><td>227</td><td>1400</td><td>5</td><td>15</td><td>2013-01-01 05:00:00</td></tr>\n",
       "\t<tr><td>2013</td><td>1</td><td>1</td><td>533</td><td>529</td><td> 4</td><td> 850</td><td> 830</td><td> 20</td><td>UA</td><td>1714</td><td>N24211</td><td>LGA</td><td>IAH</td><td>227</td><td>1416</td><td>5</td><td>29</td><td>2013-01-01 05:00:00</td></tr>\n",
       "\t<tr><td>2013</td><td>1</td><td>1</td><td>542</td><td>540</td><td> 2</td><td> 923</td><td> 850</td><td> 33</td><td>AA</td><td>1141</td><td>N619AA</td><td>JFK</td><td>MIA</td><td>160</td><td>1089</td><td>5</td><td>40</td><td>2013-01-01 05:00:00</td></tr>\n",
       "\t<tr><td>2013</td><td>1</td><td>1</td><td>544</td><td>545</td><td>-1</td><td>1004</td><td>1022</td><td>-18</td><td>B6</td><td> 725</td><td>N804JB</td><td>JFK</td><td>BQN</td><td>183</td><td>1576</td><td>5</td><td>45</td><td>2013-01-01 05:00:00</td></tr>\n",
       "\t<tr><td>2013</td><td>1</td><td>1</td><td>554</td><td>600</td><td>-6</td><td> 812</td><td> 837</td><td>-25</td><td>DL</td><td> 461</td><td>N668DN</td><td>LGA</td><td>ATL</td><td>116</td><td> 762</td><td>6</td><td> 0</td><td>2013-01-01 06:00:00</td></tr>\n",
       "\t<tr><td>2013</td><td>1</td><td>1</td><td>554</td><td>558</td><td>-4</td><td> 740</td><td> 728</td><td> 12</td><td>UA</td><td>1696</td><td>N39463</td><td>EWR</td><td>ORD</td><td>150</td><td> 719</td><td>5</td><td>58</td><td>2013-01-01 05:00:00</td></tr>\n",
       "</tbody>\n",
       "</table>\n"
      ],
      "text/latex": [
       "A tibble: 6 × 19\n",
       "\\begin{tabular}{lllllllllllllllllll}\n",
       " year & month & day & dep\\_time & sched\\_dep\\_time & dep\\_delay & arr\\_time & sched\\_arr\\_time & arr\\_delay & carrier & flight & tailnum & origin & dest & air\\_time & distance & hour & minute & time\\_hour\\\\\n",
       " <int> & <int> & <int> & <int> & <int> & <dbl> & <int> & <int> & <dbl> & <chr> & <int> & <chr> & <chr> & <chr> & <dbl> & <dbl> & <dbl> & <dbl> & <dttm>\\\\\n",
       "\\hline\n",
       "\t 2013 & 1 & 1 & 517 & 515 &  2 &  830 &  819 &  11 & UA & 1545 & N14228 & EWR & IAH & 227 & 1400 & 5 & 15 & 2013-01-01 05:00:00\\\\\n",
       "\t 2013 & 1 & 1 & 533 & 529 &  4 &  850 &  830 &  20 & UA & 1714 & N24211 & LGA & IAH & 227 & 1416 & 5 & 29 & 2013-01-01 05:00:00\\\\\n",
       "\t 2013 & 1 & 1 & 542 & 540 &  2 &  923 &  850 &  33 & AA & 1141 & N619AA & JFK & MIA & 160 & 1089 & 5 & 40 & 2013-01-01 05:00:00\\\\\n",
       "\t 2013 & 1 & 1 & 544 & 545 & -1 & 1004 & 1022 & -18 & B6 &  725 & N804JB & JFK & BQN & 183 & 1576 & 5 & 45 & 2013-01-01 05:00:00\\\\\n",
       "\t 2013 & 1 & 1 & 554 & 600 & -6 &  812 &  837 & -25 & DL &  461 & N668DN & LGA & ATL & 116 &  762 & 6 &  0 & 2013-01-01 06:00:00\\\\\n",
       "\t 2013 & 1 & 1 & 554 & 558 & -4 &  740 &  728 &  12 & UA & 1696 & N39463 & EWR & ORD & 150 &  719 & 5 & 58 & 2013-01-01 05:00:00\\\\\n",
       "\\end{tabular}\n"
      ],
      "text/markdown": [
       "\n",
       "A tibble: 6 × 19\n",
       "\n",
       "| year &lt;int&gt; | month &lt;int&gt; | day &lt;int&gt; | dep_time &lt;int&gt; | sched_dep_time &lt;int&gt; | dep_delay &lt;dbl&gt; | arr_time &lt;int&gt; | sched_arr_time &lt;int&gt; | arr_delay &lt;dbl&gt; | carrier &lt;chr&gt; | flight &lt;int&gt; | tailnum &lt;chr&gt; | origin &lt;chr&gt; | dest &lt;chr&gt; | air_time &lt;dbl&gt; | distance &lt;dbl&gt; | hour &lt;dbl&gt; | minute &lt;dbl&gt; | time_hour &lt;dttm&gt; |\n",
       "|---|---|---|---|---|---|---|---|---|---|---|---|---|---|---|---|---|---|---|\n",
       "| 2013 | 1 | 1 | 517 | 515 |  2 |  830 |  819 |  11 | UA | 1545 | N14228 | EWR | IAH | 227 | 1400 | 5 | 15 | 2013-01-01 05:00:00 |\n",
       "| 2013 | 1 | 1 | 533 | 529 |  4 |  850 |  830 |  20 | UA | 1714 | N24211 | LGA | IAH | 227 | 1416 | 5 | 29 | 2013-01-01 05:00:00 |\n",
       "| 2013 | 1 | 1 | 542 | 540 |  2 |  923 |  850 |  33 | AA | 1141 | N619AA | JFK | MIA | 160 | 1089 | 5 | 40 | 2013-01-01 05:00:00 |\n",
       "| 2013 | 1 | 1 | 544 | 545 | -1 | 1004 | 1022 | -18 | B6 |  725 | N804JB | JFK | BQN | 183 | 1576 | 5 | 45 | 2013-01-01 05:00:00 |\n",
       "| 2013 | 1 | 1 | 554 | 600 | -6 |  812 |  837 | -25 | DL |  461 | N668DN | LGA | ATL | 116 |  762 | 6 |  0 | 2013-01-01 06:00:00 |\n",
       "| 2013 | 1 | 1 | 554 | 558 | -4 |  740 |  728 |  12 | UA | 1696 | N39463 | EWR | ORD | 150 |  719 | 5 | 58 | 2013-01-01 05:00:00 |\n",
       "\n"
      ],
      "text/plain": [
       "  year month day dep_time sched_dep_time dep_delay arr_time sched_arr_time\n",
       "1 2013 1     1   517      515             2         830      819          \n",
       "2 2013 1     1   533      529             4         850      830          \n",
       "3 2013 1     1   542      540             2         923      850          \n",
       "4 2013 1     1   544      545            -1        1004     1022          \n",
       "5 2013 1     1   554      600            -6         812      837          \n",
       "6 2013 1     1   554      558            -4         740      728          \n",
       "  arr_delay carrier flight tailnum origin dest air_time distance hour minute\n",
       "1  11       UA      1545   N14228  EWR    IAH  227      1400     5    15    \n",
       "2  20       UA      1714   N24211  LGA    IAH  227      1416     5    29    \n",
       "3  33       AA      1141   N619AA  JFK    MIA  160      1089     5    40    \n",
       "4 -18       B6       725   N804JB  JFK    BQN  183      1576     5    45    \n",
       "5 -25       DL       461   N668DN  LGA    ATL  116       762     6     0    \n",
       "6  12       UA      1696   N39463  EWR    ORD  150       719     5    58    \n",
       "  time_hour          \n",
       "1 2013-01-01 05:00:00\n",
       "2 2013-01-01 05:00:00\n",
       "3 2013-01-01 05:00:00\n",
       "4 2013-01-01 05:00:00\n",
       "5 2013-01-01 06:00:00\n",
       "6 2013-01-01 05:00:00"
      ]
     },
     "metadata": {},
     "output_type": "display_data"
    }
   ],
   "source": [
    "head(flights)\n"
   ]
  },
  {
   "cell_type": "markdown",
   "metadata": {},
   "source": [
    "## Intro to `dplyr`\n"
   ]
  },
  {
   "cell_type": "code",
   "execution_count": 6,
   "metadata": {
    "vscode": {
     "languageId": "r"
    }
   },
   "outputs": [
    {
     "name": "stderr",
     "output_type": "stream",
     "text": [
      "\u001b[1m\u001b[22m`summarise()` has grouped output by 'year', 'month'. You can override using the\n",
      "`.groups` argument.\n"
     ]
    },
    {
     "data": {
      "text/html": [
       "<table class=\"dataframe\">\n",
       "<caption>A grouped_df: 6 × 4</caption>\n",
       "<thead>\n",
       "\t<tr><th scope=col>year</th><th scope=col>month</th><th scope=col>day</th><th scope=col>arr_delay</th></tr>\n",
       "\t<tr><th scope=col>&lt;int&gt;</th><th scope=col>&lt;int&gt;</th><th scope=col>&lt;int&gt;</th><th scope=col>&lt;dbl&gt;</th></tr>\n",
       "</thead>\n",
       "<tbody>\n",
       "\t<tr><td>2013</td><td>1</td><td>1</td><td>17.850000</td></tr>\n",
       "\t<tr><td>2013</td><td>1</td><td>2</td><td> 7.000000</td></tr>\n",
       "\t<tr><td>2013</td><td>1</td><td>3</td><td>18.315789</td></tr>\n",
       "\t<tr><td>2013</td><td>1</td><td>4</td><td>-3.200000</td></tr>\n",
       "\t<tr><td>2013</td><td>1</td><td>5</td><td>20.230769</td></tr>\n",
       "\t<tr><td>2013</td><td>1</td><td>6</td><td> 9.277778</td></tr>\n",
       "</tbody>\n",
       "</table>\n"
      ],
      "text/latex": [
       "A grouped\\_df: 6 × 4\n",
       "\\begin{tabular}{llll}\n",
       " year & month & day & arr\\_delay\\\\\n",
       " <int> & <int> & <int> & <dbl>\\\\\n",
       "\\hline\n",
       "\t 2013 & 1 & 1 & 17.850000\\\\\n",
       "\t 2013 & 1 & 2 &  7.000000\\\\\n",
       "\t 2013 & 1 & 3 & 18.315789\\\\\n",
       "\t 2013 & 1 & 4 & -3.200000\\\\\n",
       "\t 2013 & 1 & 5 & 20.230769\\\\\n",
       "\t 2013 & 1 & 6 &  9.277778\\\\\n",
       "\\end{tabular}\n"
      ],
      "text/markdown": [
       "\n",
       "A grouped_df: 6 × 4\n",
       "\n",
       "| year &lt;int&gt; | month &lt;int&gt; | day &lt;int&gt; | arr_delay &lt;dbl&gt; |\n",
       "|---|---|---|---|\n",
       "| 2013 | 1 | 1 | 17.850000 |\n",
       "| 2013 | 1 | 2 |  7.000000 |\n",
       "| 2013 | 1 | 3 | 18.315789 |\n",
       "| 2013 | 1 | 4 | -3.200000 |\n",
       "| 2013 | 1 | 5 | 20.230769 |\n",
       "| 2013 | 1 | 6 |  9.277778 |\n",
       "\n"
      ],
      "text/plain": [
       "  year month day arr_delay\n",
       "1 2013 1     1   17.850000\n",
       "2 2013 1     2    7.000000\n",
       "3 2013 1     3   18.315789\n",
       "4 2013 1     4   -3.200000\n",
       "5 2013 1     5   20.230769\n",
       "6 2013 1     6    9.277778"
      ]
     },
     "metadata": {},
     "output_type": "display_data"
    }
   ],
   "source": [
    "flights |>\n",
    "  filter(dest == \"IAH\") |>\n",
    "  group_by(year, month, day) |>\n",
    "  summarize(\n",
    "    arr_delay = mean(arr_delay, na.rm = TRUE)\n",
    "  ) |>\n",
    "  head()\n"
   ]
  },
  {
   "cell_type": "code",
   "execution_count": 9,
   "metadata": {
    "vscode": {
     "languageId": "r"
    }
   },
   "outputs": [
    {
     "data": {
      "text/html": [
       "<table class=\"dataframe\">\n",
       "<caption>A tibble: 10 × 19</caption>\n",
       "<thead>\n",
       "\t<tr><th scope=col>year</th><th scope=col>month</th><th scope=col>day</th><th scope=col>dep_time</th><th scope=col>sched_dep_time</th><th scope=col>dep_delay</th><th scope=col>arr_time</th><th scope=col>sched_arr_time</th><th scope=col>arr_delay</th><th scope=col>carrier</th><th scope=col>flight</th><th scope=col>tailnum</th><th scope=col>origin</th><th scope=col>dest</th><th scope=col>air_time</th><th scope=col>distance</th><th scope=col>hour</th><th scope=col>minute</th><th scope=col>time_hour</th></tr>\n",
       "\t<tr><th scope=col>&lt;int&gt;</th><th scope=col>&lt;int&gt;</th><th scope=col>&lt;int&gt;</th><th scope=col>&lt;int&gt;</th><th scope=col>&lt;int&gt;</th><th scope=col>&lt;dbl&gt;</th><th scope=col>&lt;int&gt;</th><th scope=col>&lt;int&gt;</th><th scope=col>&lt;dbl&gt;</th><th scope=col>&lt;chr&gt;</th><th scope=col>&lt;int&gt;</th><th scope=col>&lt;chr&gt;</th><th scope=col>&lt;chr&gt;</th><th scope=col>&lt;chr&gt;</th><th scope=col>&lt;dbl&gt;</th><th scope=col>&lt;dbl&gt;</th><th scope=col>&lt;dbl&gt;</th><th scope=col>&lt;dbl&gt;</th><th scope=col>&lt;dttm&gt;</th></tr>\n",
       "</thead>\n",
       "<tbody>\n",
       "\t<tr><td>2013</td><td>1</td><td>1</td><td> 848</td><td>1835</td><td>853</td><td>1001</td><td>1950</td><td>851</td><td>MQ</td><td>3944</td><td>N942MQ</td><td>JFK</td><td>BWI</td><td> 41</td><td> 184</td><td>18</td><td>35</td><td>2013-01-01 18:00:00</td></tr>\n",
       "\t<tr><td>2013</td><td>1</td><td>1</td><td> 957</td><td> 733</td><td>144</td><td>1056</td><td> 853</td><td>123</td><td>UA</td><td> 856</td><td>N534UA</td><td>EWR</td><td>BOS</td><td> 37</td><td> 200</td><td> 7</td><td>33</td><td>2013-01-01 07:00:00</td></tr>\n",
       "\t<tr><td>2013</td><td>1</td><td>1</td><td>1114</td><td> 900</td><td>134</td><td>1447</td><td>1222</td><td>145</td><td>UA</td><td>1086</td><td>N76502</td><td>LGA</td><td>IAH</td><td>248</td><td>1416</td><td> 9</td><td> 0</td><td>2013-01-01 09:00:00</td></tr>\n",
       "\t<tr><td>2013</td><td>1</td><td>1</td><td>1540</td><td>1338</td><td>122</td><td>2020</td><td>1825</td><td>115</td><td>B6</td><td> 705</td><td>N570JB</td><td>JFK</td><td>SJU</td><td>193</td><td>1598</td><td>13</td><td>38</td><td>2013-01-01 13:00:00</td></tr>\n",
       "\t<tr><td>2013</td><td>1</td><td>1</td><td>1815</td><td>1325</td><td>290</td><td>2120</td><td>1542</td><td>338</td><td>EV</td><td>4417</td><td>N17185</td><td>EWR</td><td>OMA</td><td>213</td><td>1134</td><td>13</td><td>25</td><td>2013-01-01 13:00:00</td></tr>\n",
       "\t<tr><td>2013</td><td>1</td><td>1</td><td>1842</td><td>1422</td><td>260</td><td>1958</td><td>1535</td><td>263</td><td>EV</td><td>4633</td><td>N18120</td><td>EWR</td><td>BTV</td><td> 46</td><td> 266</td><td>14</td><td>22</td><td>2013-01-01 14:00:00</td></tr>\n",
       "\t<tr><td>2013</td><td>1</td><td>1</td><td>1856</td><td>1645</td><td>131</td><td>2212</td><td>2005</td><td>127</td><td>AA</td><td> 181</td><td>N323AA</td><td>JFK</td><td>LAX</td><td>336</td><td>2475</td><td>16</td><td>45</td><td>2013-01-01 16:00:00</td></tr>\n",
       "\t<tr><td>2013</td><td>1</td><td>1</td><td>1934</td><td>1725</td><td>129</td><td>2126</td><td>1855</td><td>151</td><td>MQ</td><td>4255</td><td>N909MQ</td><td>JFK</td><td>BNA</td><td>154</td><td> 765</td><td>17</td><td>25</td><td>2013-01-01 17:00:00</td></tr>\n",
       "\t<tr><td>2013</td><td>1</td><td>1</td><td>1938</td><td>1703</td><td>155</td><td>2109</td><td>1823</td><td>166</td><td>EV</td><td>4300</td><td>N18557</td><td>EWR</td><td>RIC</td><td> 68</td><td> 277</td><td>17</td><td> 3</td><td>2013-01-01 17:00:00</td></tr>\n",
       "\t<tr><td>2013</td><td>1</td><td>1</td><td>1942</td><td>1705</td><td>157</td><td>2124</td><td>1830</td><td>174</td><td>MQ</td><td>4410</td><td>N835MQ</td><td>JFK</td><td>DCA</td><td> 60</td><td> 213</td><td>17</td><td> 5</td><td>2013-01-01 17:00:00</td></tr>\n",
       "</tbody>\n",
       "</table>\n"
      ],
      "text/latex": [
       "A tibble: 10 × 19\n",
       "\\begin{tabular}{lllllllllllllllllll}\n",
       " year & month & day & dep\\_time & sched\\_dep\\_time & dep\\_delay & arr\\_time & sched\\_arr\\_time & arr\\_delay & carrier & flight & tailnum & origin & dest & air\\_time & distance & hour & minute & time\\_hour\\\\\n",
       " <int> & <int> & <int> & <int> & <int> & <dbl> & <int> & <int> & <dbl> & <chr> & <int> & <chr> & <chr> & <chr> & <dbl> & <dbl> & <dbl> & <dbl> & <dttm>\\\\\n",
       "\\hline\n",
       "\t 2013 & 1 & 1 &  848 & 1835 & 853 & 1001 & 1950 & 851 & MQ & 3944 & N942MQ & JFK & BWI &  41 &  184 & 18 & 35 & 2013-01-01 18:00:00\\\\\n",
       "\t 2013 & 1 & 1 &  957 &  733 & 144 & 1056 &  853 & 123 & UA &  856 & N534UA & EWR & BOS &  37 &  200 &  7 & 33 & 2013-01-01 07:00:00\\\\\n",
       "\t 2013 & 1 & 1 & 1114 &  900 & 134 & 1447 & 1222 & 145 & UA & 1086 & N76502 & LGA & IAH & 248 & 1416 &  9 &  0 & 2013-01-01 09:00:00\\\\\n",
       "\t 2013 & 1 & 1 & 1540 & 1338 & 122 & 2020 & 1825 & 115 & B6 &  705 & N570JB & JFK & SJU & 193 & 1598 & 13 & 38 & 2013-01-01 13:00:00\\\\\n",
       "\t 2013 & 1 & 1 & 1815 & 1325 & 290 & 2120 & 1542 & 338 & EV & 4417 & N17185 & EWR & OMA & 213 & 1134 & 13 & 25 & 2013-01-01 13:00:00\\\\\n",
       "\t 2013 & 1 & 1 & 1842 & 1422 & 260 & 1958 & 1535 & 263 & EV & 4633 & N18120 & EWR & BTV &  46 &  266 & 14 & 22 & 2013-01-01 14:00:00\\\\\n",
       "\t 2013 & 1 & 1 & 1856 & 1645 & 131 & 2212 & 2005 & 127 & AA &  181 & N323AA & JFK & LAX & 336 & 2475 & 16 & 45 & 2013-01-01 16:00:00\\\\\n",
       "\t 2013 & 1 & 1 & 1934 & 1725 & 129 & 2126 & 1855 & 151 & MQ & 4255 & N909MQ & JFK & BNA & 154 &  765 & 17 & 25 & 2013-01-01 17:00:00\\\\\n",
       "\t 2013 & 1 & 1 & 1938 & 1703 & 155 & 2109 & 1823 & 166 & EV & 4300 & N18557 & EWR & RIC &  68 &  277 & 17 &  3 & 2013-01-01 17:00:00\\\\\n",
       "\t 2013 & 1 & 1 & 1942 & 1705 & 157 & 2124 & 1830 & 174 & MQ & 4410 & N835MQ & JFK & DCA &  60 &  213 & 17 &  5 & 2013-01-01 17:00:00\\\\\n",
       "\\end{tabular}\n"
      ],
      "text/markdown": [
       "\n",
       "A tibble: 10 × 19\n",
       "\n",
       "| year &lt;int&gt; | month &lt;int&gt; | day &lt;int&gt; | dep_time &lt;int&gt; | sched_dep_time &lt;int&gt; | dep_delay &lt;dbl&gt; | arr_time &lt;int&gt; | sched_arr_time &lt;int&gt; | arr_delay &lt;dbl&gt; | carrier &lt;chr&gt; | flight &lt;int&gt; | tailnum &lt;chr&gt; | origin &lt;chr&gt; | dest &lt;chr&gt; | air_time &lt;dbl&gt; | distance &lt;dbl&gt; | hour &lt;dbl&gt; | minute &lt;dbl&gt; | time_hour &lt;dttm&gt; |\n",
       "|---|---|---|---|---|---|---|---|---|---|---|---|---|---|---|---|---|---|---|\n",
       "| 2013 | 1 | 1 |  848 | 1835 | 853 | 1001 | 1950 | 851 | MQ | 3944 | N942MQ | JFK | BWI |  41 |  184 | 18 | 35 | 2013-01-01 18:00:00 |\n",
       "| 2013 | 1 | 1 |  957 |  733 | 144 | 1056 |  853 | 123 | UA |  856 | N534UA | EWR | BOS |  37 |  200 |  7 | 33 | 2013-01-01 07:00:00 |\n",
       "| 2013 | 1 | 1 | 1114 |  900 | 134 | 1447 | 1222 | 145 | UA | 1086 | N76502 | LGA | IAH | 248 | 1416 |  9 |  0 | 2013-01-01 09:00:00 |\n",
       "| 2013 | 1 | 1 | 1540 | 1338 | 122 | 2020 | 1825 | 115 | B6 |  705 | N570JB | JFK | SJU | 193 | 1598 | 13 | 38 | 2013-01-01 13:00:00 |\n",
       "| 2013 | 1 | 1 | 1815 | 1325 | 290 | 2120 | 1542 | 338 | EV | 4417 | N17185 | EWR | OMA | 213 | 1134 | 13 | 25 | 2013-01-01 13:00:00 |\n",
       "| 2013 | 1 | 1 | 1842 | 1422 | 260 | 1958 | 1535 | 263 | EV | 4633 | N18120 | EWR | BTV |  46 |  266 | 14 | 22 | 2013-01-01 14:00:00 |\n",
       "| 2013 | 1 | 1 | 1856 | 1645 | 131 | 2212 | 2005 | 127 | AA |  181 | N323AA | JFK | LAX | 336 | 2475 | 16 | 45 | 2013-01-01 16:00:00 |\n",
       "| 2013 | 1 | 1 | 1934 | 1725 | 129 | 2126 | 1855 | 151 | MQ | 4255 | N909MQ | JFK | BNA | 154 |  765 | 17 | 25 | 2013-01-01 17:00:00 |\n",
       "| 2013 | 1 | 1 | 1938 | 1703 | 155 | 2109 | 1823 | 166 | EV | 4300 | N18557 | EWR | RIC |  68 |  277 | 17 |  3 | 2013-01-01 17:00:00 |\n",
       "| 2013 | 1 | 1 | 1942 | 1705 | 157 | 2124 | 1830 | 174 | MQ | 4410 | N835MQ | JFK | DCA |  60 |  213 | 17 |  5 | 2013-01-01 17:00:00 |\n",
       "\n"
      ],
      "text/plain": [
       "   year month day dep_time sched_dep_time dep_delay arr_time sched_arr_time\n",
       "1  2013 1     1    848     1835           853       1001     1950          \n",
       "2  2013 1     1    957      733           144       1056      853          \n",
       "3  2013 1     1   1114      900           134       1447     1222          \n",
       "4  2013 1     1   1540     1338           122       2020     1825          \n",
       "5  2013 1     1   1815     1325           290       2120     1542          \n",
       "6  2013 1     1   1842     1422           260       1958     1535          \n",
       "7  2013 1     1   1856     1645           131       2212     2005          \n",
       "8  2013 1     1   1934     1725           129       2126     1855          \n",
       "9  2013 1     1   1938     1703           155       2109     1823          \n",
       "10 2013 1     1   1942     1705           157       2124     1830          \n",
       "   arr_delay carrier flight tailnum origin dest air_time distance hour minute\n",
       "1  851       MQ      3944   N942MQ  JFK    BWI   41       184     18   35    \n",
       "2  123       UA       856   N534UA  EWR    BOS   37       200      7   33    \n",
       "3  145       UA      1086   N76502  LGA    IAH  248      1416      9    0    \n",
       "4  115       B6       705   N570JB  JFK    SJU  193      1598     13   38    \n",
       "5  338       EV      4417   N17185  EWR    OMA  213      1134     13   25    \n",
       "6  263       EV      4633   N18120  EWR    BTV   46       266     14   22    \n",
       "7  127       AA       181   N323AA  JFK    LAX  336      2475     16   45    \n",
       "8  151       MQ      4255   N909MQ  JFK    BNA  154       765     17   25    \n",
       "9  166       EV      4300   N18557  EWR    RIC   68       277     17    3    \n",
       "10 174       MQ      4410   N835MQ  JFK    DCA   60       213     17    5    \n",
       "   time_hour          \n",
       "1  2013-01-01 18:00:00\n",
       "2  2013-01-01 07:00:00\n",
       "3  2013-01-01 09:00:00\n",
       "4  2013-01-01 13:00:00\n",
       "5  2013-01-01 13:00:00\n",
       "6  2013-01-01 14:00:00\n",
       "7  2013-01-01 16:00:00\n",
       "8  2013-01-01 17:00:00\n",
       "9  2013-01-01 17:00:00\n",
       "10 2013-01-01 17:00:00"
      ]
     },
     "metadata": {},
     "output_type": "display_data"
    }
   ],
   "source": [
    "flights |>\n",
    "  filter(dep_delay > 120) |>\n",
    "  head(10)\n"
   ]
  },
  {
   "cell_type": "code",
   "execution_count": 21,
   "metadata": {
    "vscode": {
     "languageId": "r"
    }
   },
   "outputs": [
    {
     "data": {
      "text/html": [
       "<table class=\"dataframe\">\n",
       "<caption>A tibble: 10 × 19</caption>\n",
       "<thead>\n",
       "\t<tr><th scope=col>year</th><th scope=col>month</th><th scope=col>day</th><th scope=col>dep_time</th><th scope=col>sched_dep_time</th><th scope=col>dep_delay</th><th scope=col>arr_time</th><th scope=col>sched_arr_time</th><th scope=col>arr_delay</th><th scope=col>carrier</th><th scope=col>flight</th><th scope=col>tailnum</th><th scope=col>origin</th><th scope=col>dest</th><th scope=col>air_time</th><th scope=col>distance</th><th scope=col>hour</th><th scope=col>minute</th><th scope=col>time_hour</th></tr>\n",
       "\t<tr><th scope=col>&lt;int&gt;</th><th scope=col>&lt;int&gt;</th><th scope=col>&lt;int&gt;</th><th scope=col>&lt;int&gt;</th><th scope=col>&lt;int&gt;</th><th scope=col>&lt;dbl&gt;</th><th scope=col>&lt;int&gt;</th><th scope=col>&lt;int&gt;</th><th scope=col>&lt;dbl&gt;</th><th scope=col>&lt;chr&gt;</th><th scope=col>&lt;int&gt;</th><th scope=col>&lt;chr&gt;</th><th scope=col>&lt;chr&gt;</th><th scope=col>&lt;chr&gt;</th><th scope=col>&lt;dbl&gt;</th><th scope=col>&lt;dbl&gt;</th><th scope=col>&lt;dbl&gt;</th><th scope=col>&lt;dbl&gt;</th><th scope=col>&lt;dttm&gt;</th></tr>\n",
       "</thead>\n",
       "<tbody>\n",
       "\t<tr><td>2013</td><td>1</td><td>1</td><td>1318</td><td>1322</td><td>-4</td><td>1358</td><td>1416</td><td>-18</td><td>EV</td><td>4106</td><td>N19554</td><td>EWR</td><td>BDL</td><td> 25</td><td> 116</td><td>13</td><td>22</td><td>2013-01-01 13:00:00</td></tr>\n",
       "\t<tr><td>2013</td><td>1</td><td>1</td><td> 805</td><td> 800</td><td> 5</td><td>1118</td><td>1106</td><td> 12</td><td>B6</td><td>   3</td><td>N570JB</td><td>JFK</td><td>FLL</td><td>165</td><td>1069</td><td> 8</td><td> 0</td><td>2013-01-01 08:00:00</td></tr>\n",
       "\t<tr><td>2013</td><td>1</td><td>1</td><td> 857</td><td> 905</td><td>-8</td><td>1107</td><td>1120</td><td>-13</td><td>DL</td><td> 181</td><td>N321NB</td><td>LGA</td><td>DTW</td><td>110</td><td> 502</td><td> 9</td><td> 5</td><td>2013-01-01 09:00:00</td></tr>\n",
       "\t<tr><td>2013</td><td>1</td><td>1</td><td>1251</td><td>1252</td><td>-1</td><td>1611</td><td>1555</td><td> 16</td><td>B6</td><td>  85</td><td>N657JB</td><td>JFK</td><td>FLL</td><td>173</td><td>1069</td><td>12</td><td>52</td><td>2013-01-01 12:00:00</td></tr>\n",
       "\t<tr><td>2013</td><td>1</td><td>1</td><td> 629</td><td> 630</td><td>-1</td><td> 824</td><td> 810</td><td> 14</td><td>AA</td><td> 303</td><td>N3CYAA</td><td>LGA</td><td>ORD</td><td>140</td><td> 733</td><td> 6</td><td>30</td><td>2013-01-01 06:00:00</td></tr>\n",
       "\t<tr><td>2013</td><td>1</td><td>1</td><td>1515</td><td>1437</td><td>38</td><td>1834</td><td>1742</td><td> 52</td><td>B6</td><td> 347</td><td>N178JB</td><td>JFK</td><td>SRQ</td><td>171</td><td>1041</td><td>14</td><td>37</td><td>2013-01-01 14:00:00</td></tr>\n",
       "\t<tr><td>2013</td><td>1</td><td>1</td><td>1005</td><td>1000</td><td> 5</td><td>1239</td><td>1234</td><td>  5</td><td>UA</td><td>1625</td><td>N81449</td><td>EWR</td><td>DEN</td><td>254</td><td>1605</td><td>10</td><td> 0</td><td>2013-01-01 10:00:00</td></tr>\n",
       "\t<tr><td>2013</td><td>1</td><td>1</td><td>1720</td><td>1725</td><td>-5</td><td>2121</td><td>2105</td><td> 16</td><td>DL</td><td> 513</td><td>N723TW</td><td>JFK</td><td>LAX</td><td>363</td><td>2475</td><td>17</td><td>25</td><td>2013-01-01 17:00:00</td></tr>\n",
       "\t<tr><td>2013</td><td>1</td><td>1</td><td>1456</td><td>1500</td><td>-4</td><td>1649</td><td>1632</td><td> 17</td><td>UA</td><td> 685</td><td>N802UA</td><td>LGA</td><td>ORD</td><td>140</td><td> 733</td><td>15</td><td> 0</td><td>2013-01-01 15:00:00</td></tr>\n",
       "\t<tr><td>2013</td><td>1</td><td>1</td><td>1422</td><td>1410</td><td>12</td><td>1613</td><td>1555</td><td> 18</td><td>MQ</td><td>4491</td><td>N737MQ</td><td>LGA</td><td>CLE</td><td> 93</td><td> 419</td><td>14</td><td>10</td><td>2013-01-01 14:00:00</td></tr>\n",
       "</tbody>\n",
       "</table>\n"
      ],
      "text/latex": [
       "A tibble: 10 × 19\n",
       "\\begin{tabular}{lllllllllllllllllll}\n",
       " year & month & day & dep\\_time & sched\\_dep\\_time & dep\\_delay & arr\\_time & sched\\_arr\\_time & arr\\_delay & carrier & flight & tailnum & origin & dest & air\\_time & distance & hour & minute & time\\_hour\\\\\n",
       " <int> & <int> & <int> & <int> & <int> & <dbl> & <int> & <int> & <dbl> & <chr> & <int> & <chr> & <chr> & <chr> & <dbl> & <dbl> & <dbl> & <dbl> & <dttm>\\\\\n",
       "\\hline\n",
       "\t 2013 & 1 & 1 & 1318 & 1322 & -4 & 1358 & 1416 & -18 & EV & 4106 & N19554 & EWR & BDL &  25 &  116 & 13 & 22 & 2013-01-01 13:00:00\\\\\n",
       "\t 2013 & 1 & 1 &  805 &  800 &  5 & 1118 & 1106 &  12 & B6 &    3 & N570JB & JFK & FLL & 165 & 1069 &  8 &  0 & 2013-01-01 08:00:00\\\\\n",
       "\t 2013 & 1 & 1 &  857 &  905 & -8 & 1107 & 1120 & -13 & DL &  181 & N321NB & LGA & DTW & 110 &  502 &  9 &  5 & 2013-01-01 09:00:00\\\\\n",
       "\t 2013 & 1 & 1 & 1251 & 1252 & -1 & 1611 & 1555 &  16 & B6 &   85 & N657JB & JFK & FLL & 173 & 1069 & 12 & 52 & 2013-01-01 12:00:00\\\\\n",
       "\t 2013 & 1 & 1 &  629 &  630 & -1 &  824 &  810 &  14 & AA &  303 & N3CYAA & LGA & ORD & 140 &  733 &  6 & 30 & 2013-01-01 06:00:00\\\\\n",
       "\t 2013 & 1 & 1 & 1515 & 1437 & 38 & 1834 & 1742 &  52 & B6 &  347 & N178JB & JFK & SRQ & 171 & 1041 & 14 & 37 & 2013-01-01 14:00:00\\\\\n",
       "\t 2013 & 1 & 1 & 1005 & 1000 &  5 & 1239 & 1234 &   5 & UA & 1625 & N81449 & EWR & DEN & 254 & 1605 & 10 &  0 & 2013-01-01 10:00:00\\\\\n",
       "\t 2013 & 1 & 1 & 1720 & 1725 & -5 & 2121 & 2105 &  16 & DL &  513 & N723TW & JFK & LAX & 363 & 2475 & 17 & 25 & 2013-01-01 17:00:00\\\\\n",
       "\t 2013 & 1 & 1 & 1456 & 1500 & -4 & 1649 & 1632 &  17 & UA &  685 & N802UA & LGA & ORD & 140 &  733 & 15 &  0 & 2013-01-01 15:00:00\\\\\n",
       "\t 2013 & 1 & 1 & 1422 & 1410 & 12 & 1613 & 1555 &  18 & MQ & 4491 & N737MQ & LGA & CLE &  93 &  419 & 14 & 10 & 2013-01-01 14:00:00\\\\\n",
       "\\end{tabular}\n"
      ],
      "text/markdown": [
       "\n",
       "A tibble: 10 × 19\n",
       "\n",
       "| year &lt;int&gt; | month &lt;int&gt; | day &lt;int&gt; | dep_time &lt;int&gt; | sched_dep_time &lt;int&gt; | dep_delay &lt;dbl&gt; | arr_time &lt;int&gt; | sched_arr_time &lt;int&gt; | arr_delay &lt;dbl&gt; | carrier &lt;chr&gt; | flight &lt;int&gt; | tailnum &lt;chr&gt; | origin &lt;chr&gt; | dest &lt;chr&gt; | air_time &lt;dbl&gt; | distance &lt;dbl&gt; | hour &lt;dbl&gt; | minute &lt;dbl&gt; | time_hour &lt;dttm&gt; |\n",
       "|---|---|---|---|---|---|---|---|---|---|---|---|---|---|---|---|---|---|---|\n",
       "| 2013 | 1 | 1 | 1318 | 1322 | -4 | 1358 | 1416 | -18 | EV | 4106 | N19554 | EWR | BDL |  25 |  116 | 13 | 22 | 2013-01-01 13:00:00 |\n",
       "| 2013 | 1 | 1 |  805 |  800 |  5 | 1118 | 1106 |  12 | B6 |    3 | N570JB | JFK | FLL | 165 | 1069 |  8 |  0 | 2013-01-01 08:00:00 |\n",
       "| 2013 | 1 | 1 |  857 |  905 | -8 | 1107 | 1120 | -13 | DL |  181 | N321NB | LGA | DTW | 110 |  502 |  9 |  5 | 2013-01-01 09:00:00 |\n",
       "| 2013 | 1 | 1 | 1251 | 1252 | -1 | 1611 | 1555 |  16 | B6 |   85 | N657JB | JFK | FLL | 173 | 1069 | 12 | 52 | 2013-01-01 12:00:00 |\n",
       "| 2013 | 1 | 1 |  629 |  630 | -1 |  824 |  810 |  14 | AA |  303 | N3CYAA | LGA | ORD | 140 |  733 |  6 | 30 | 2013-01-01 06:00:00 |\n",
       "| 2013 | 1 | 1 | 1515 | 1437 | 38 | 1834 | 1742 |  52 | B6 |  347 | N178JB | JFK | SRQ | 171 | 1041 | 14 | 37 | 2013-01-01 14:00:00 |\n",
       "| 2013 | 1 | 1 | 1005 | 1000 |  5 | 1239 | 1234 |   5 | UA | 1625 | N81449 | EWR | DEN | 254 | 1605 | 10 |  0 | 2013-01-01 10:00:00 |\n",
       "| 2013 | 1 | 1 | 1720 | 1725 | -5 | 2121 | 2105 |  16 | DL |  513 | N723TW | JFK | LAX | 363 | 2475 | 17 | 25 | 2013-01-01 17:00:00 |\n",
       "| 2013 | 1 | 1 | 1456 | 1500 | -4 | 1649 | 1632 |  17 | UA |  685 | N802UA | LGA | ORD | 140 |  733 | 15 |  0 | 2013-01-01 15:00:00 |\n",
       "| 2013 | 1 | 1 | 1422 | 1410 | 12 | 1613 | 1555 |  18 | MQ | 4491 | N737MQ | LGA | CLE |  93 |  419 | 14 | 10 | 2013-01-01 14:00:00 |\n",
       "\n"
      ],
      "text/plain": [
       "   year month day dep_time sched_dep_time dep_delay arr_time sched_arr_time\n",
       "1  2013 1     1   1318     1322           -4        1358     1416          \n",
       "2  2013 1     1    805      800            5        1118     1106          \n",
       "3  2013 1     1    857      905           -8        1107     1120          \n",
       "4  2013 1     1   1251     1252           -1        1611     1555          \n",
       "5  2013 1     1    629      630           -1         824      810          \n",
       "6  2013 1     1   1515     1437           38        1834     1742          \n",
       "7  2013 1     1   1005     1000            5        1239     1234          \n",
       "8  2013 1     1   1720     1725           -5        2121     2105          \n",
       "9  2013 1     1   1456     1500           -4        1649     1632          \n",
       "10 2013 1     1   1422     1410           12        1613     1555          \n",
       "   arr_delay carrier flight tailnum origin dest air_time distance hour minute\n",
       "1  -18       EV      4106   N19554  EWR    BDL   25       116     13   22    \n",
       "2   12       B6         3   N570JB  JFK    FLL  165      1069      8    0    \n",
       "3  -13       DL       181   N321NB  LGA    DTW  110       502      9    5    \n",
       "4   16       B6        85   N657JB  JFK    FLL  173      1069     12   52    \n",
       "5   14       AA       303   N3CYAA  LGA    ORD  140       733      6   30    \n",
       "6   52       B6       347   N178JB  JFK    SRQ  171      1041     14   37    \n",
       "7    5       UA      1625   N81449  EWR    DEN  254      1605     10    0    \n",
       "8   16       DL       513   N723TW  JFK    LAX  363      2475     17   25    \n",
       "9   17       UA       685   N802UA  LGA    ORD  140       733     15    0    \n",
       "10  18       MQ      4491   N737MQ  LGA    CLE   93       419     14   10    \n",
       "   time_hour          \n",
       "1  2013-01-01 13:00:00\n",
       "2  2013-01-01 08:00:00\n",
       "3  2013-01-01 09:00:00\n",
       "4  2013-01-01 12:00:00\n",
       "5  2013-01-01 06:00:00\n",
       "6  2013-01-01 14:00:00\n",
       "7  2013-01-01 10:00:00\n",
       "8  2013-01-01 17:00:00\n",
       "9  2013-01-01 15:00:00\n",
       "10 2013-01-01 14:00:00"
      ]
     },
     "metadata": {},
     "output_type": "display_data"
    }
   ],
   "source": [
    "# Flights that departed on January 1\n",
    "flights |>\n",
    "  filter(month == 1 & day == 1) |>\n",
    "  sample_n(10)\n"
   ]
  },
  {
   "cell_type": "code",
   "execution_count": 20,
   "metadata": {
    "vscode": {
     "languageId": "r"
    }
   },
   "outputs": [
    {
     "data": {
      "text/html": [
       "<table class=\"dataframe\">\n",
       "<caption>A tibble: 10 × 19</caption>\n",
       "<thead>\n",
       "\t<tr><th scope=col>year</th><th scope=col>month</th><th scope=col>day</th><th scope=col>dep_time</th><th scope=col>sched_dep_time</th><th scope=col>dep_delay</th><th scope=col>arr_time</th><th scope=col>sched_arr_time</th><th scope=col>arr_delay</th><th scope=col>carrier</th><th scope=col>flight</th><th scope=col>tailnum</th><th scope=col>origin</th><th scope=col>dest</th><th scope=col>air_time</th><th scope=col>distance</th><th scope=col>hour</th><th scope=col>minute</th><th scope=col>time_hour</th></tr>\n",
       "\t<tr><th scope=col>&lt;int&gt;</th><th scope=col>&lt;int&gt;</th><th scope=col>&lt;int&gt;</th><th scope=col>&lt;int&gt;</th><th scope=col>&lt;int&gt;</th><th scope=col>&lt;dbl&gt;</th><th scope=col>&lt;int&gt;</th><th scope=col>&lt;int&gt;</th><th scope=col>&lt;dbl&gt;</th><th scope=col>&lt;chr&gt;</th><th scope=col>&lt;int&gt;</th><th scope=col>&lt;chr&gt;</th><th scope=col>&lt;chr&gt;</th><th scope=col>&lt;chr&gt;</th><th scope=col>&lt;dbl&gt;</th><th scope=col>&lt;dbl&gt;</th><th scope=col>&lt;dbl&gt;</th><th scope=col>&lt;dbl&gt;</th><th scope=col>&lt;dttm&gt;</th></tr>\n",
       "</thead>\n",
       "<tbody>\n",
       "\t<tr><td>2013</td><td>1</td><td>16</td><td>2008</td><td>2005</td><td>  3</td><td>2254</td><td>2258</td><td> -4</td><td>UA</td><td> 405</td><td>N411UA</td><td>EWR</td><td>MCO</td><td>141</td><td> 937</td><td>20</td><td> 5</td><td>2013-01-16 20:00:00</td></tr>\n",
       "\t<tr><td>2013</td><td>1</td><td>28</td><td> 900</td><td> 905</td><td> -5</td><td>1125</td><td>1115</td><td> 10</td><td>MQ</td><td>4478</td><td>N739MQ</td><td>LGA</td><td>DTW</td><td>109</td><td> 502</td><td> 9</td><td> 5</td><td>2013-01-28 09:00:00</td></tr>\n",
       "\t<tr><td>2013</td><td>2</td><td>16</td><td>1758</td><td>1745</td><td> 13</td><td>2114</td><td>2136</td><td>-22</td><td>DL</td><td>  31</td><td>N721TW</td><td>JFK</td><td>SFO</td><td>348</td><td>2586</td><td>17</td><td>45</td><td>2013-02-16 17:00:00</td></tr>\n",
       "\t<tr><td>2013</td><td>1</td><td>18</td><td>1541</td><td>1530</td><td> 11</td><td>1755</td><td>1734</td><td> 21</td><td>US</td><td>1665</td><td>N716UW</td><td>LGA</td><td>CLT</td><td> 86</td><td> 544</td><td>15</td><td>30</td><td>2013-01-18 15:00:00</td></tr>\n",
       "\t<tr><td>2013</td><td>1</td><td>24</td><td>2348</td><td>2359</td><td>-11</td><td> 418</td><td> 444</td><td>-26</td><td>B6</td><td> 739</td><td>N605JB</td><td>JFK</td><td>PSE</td><td>193</td><td>1617</td><td>23</td><td>59</td><td>2013-01-24 23:00:00</td></tr>\n",
       "\t<tr><td>2013</td><td>2</td><td>18</td><td>1600</td><td>1604</td><td> -4</td><td>1718</td><td>1739</td><td>-21</td><td>UA</td><td>1053</td><td>N76254</td><td>EWR</td><td>ORD</td><td>120</td><td> 719</td><td>16</td><td> 4</td><td>2013-02-18 16:00:00</td></tr>\n",
       "\t<tr><td>2013</td><td>2</td><td>27</td><td>2020</td><td>1900</td><td> 80</td><td>2144</td><td>2018</td><td> 86</td><td>EV</td><td>5714</td><td>N827AS</td><td>JFK</td><td>IAD</td><td> 48</td><td> 228</td><td>19</td><td> 0</td><td>2013-02-27 19:00:00</td></tr>\n",
       "\t<tr><td>2013</td><td>2</td><td>18</td><td>2022</td><td>2010</td><td> 12</td><td>2325</td><td>2321</td><td>  4</td><td>UA</td><td>1299</td><td>N37255</td><td>EWR</td><td>RSW</td><td>164</td><td>1068</td><td>20</td><td>10</td><td>2013-02-18 20:00:00</td></tr>\n",
       "\t<tr><td>2013</td><td>1</td><td>21</td><td> 601</td><td> 608</td><td> -7</td><td> 654</td><td> 725</td><td>-31</td><td>UA</td><td> 733</td><td>N822UA</td><td>EWR</td><td>BOS</td><td> 32</td><td> 200</td><td> 6</td><td> 8</td><td>2013-01-21 06:00:00</td></tr>\n",
       "\t<tr><td>2013</td><td>2</td><td>28</td><td>1459</td><td>1500</td><td> -1</td><td>1747</td><td>1742</td><td>  5</td><td>DL</td><td>2347</td><td>N6708D</td><td>LGA</td><td>ATL</td><td>112</td><td> 762</td><td>15</td><td> 0</td><td>2013-02-28 15:00:00</td></tr>\n",
       "</tbody>\n",
       "</table>\n"
      ],
      "text/latex": [
       "A tibble: 10 × 19\n",
       "\\begin{tabular}{lllllllllllllllllll}\n",
       " year & month & day & dep\\_time & sched\\_dep\\_time & dep\\_delay & arr\\_time & sched\\_arr\\_time & arr\\_delay & carrier & flight & tailnum & origin & dest & air\\_time & distance & hour & minute & time\\_hour\\\\\n",
       " <int> & <int> & <int> & <int> & <int> & <dbl> & <int> & <int> & <dbl> & <chr> & <int> & <chr> & <chr> & <chr> & <dbl> & <dbl> & <dbl> & <dbl> & <dttm>\\\\\n",
       "\\hline\n",
       "\t 2013 & 1 & 16 & 2008 & 2005 &   3 & 2254 & 2258 &  -4 & UA &  405 & N411UA & EWR & MCO & 141 &  937 & 20 &  5 & 2013-01-16 20:00:00\\\\\n",
       "\t 2013 & 1 & 28 &  900 &  905 &  -5 & 1125 & 1115 &  10 & MQ & 4478 & N739MQ & LGA & DTW & 109 &  502 &  9 &  5 & 2013-01-28 09:00:00\\\\\n",
       "\t 2013 & 2 & 16 & 1758 & 1745 &  13 & 2114 & 2136 & -22 & DL &   31 & N721TW & JFK & SFO & 348 & 2586 & 17 & 45 & 2013-02-16 17:00:00\\\\\n",
       "\t 2013 & 1 & 18 & 1541 & 1530 &  11 & 1755 & 1734 &  21 & US & 1665 & N716UW & LGA & CLT &  86 &  544 & 15 & 30 & 2013-01-18 15:00:00\\\\\n",
       "\t 2013 & 1 & 24 & 2348 & 2359 & -11 &  418 &  444 & -26 & B6 &  739 & N605JB & JFK & PSE & 193 & 1617 & 23 & 59 & 2013-01-24 23:00:00\\\\\n",
       "\t 2013 & 2 & 18 & 1600 & 1604 &  -4 & 1718 & 1739 & -21 & UA & 1053 & N76254 & EWR & ORD & 120 &  719 & 16 &  4 & 2013-02-18 16:00:00\\\\\n",
       "\t 2013 & 2 & 27 & 2020 & 1900 &  80 & 2144 & 2018 &  86 & EV & 5714 & N827AS & JFK & IAD &  48 &  228 & 19 &  0 & 2013-02-27 19:00:00\\\\\n",
       "\t 2013 & 2 & 18 & 2022 & 2010 &  12 & 2325 & 2321 &   4 & UA & 1299 & N37255 & EWR & RSW & 164 & 1068 & 20 & 10 & 2013-02-18 20:00:00\\\\\n",
       "\t 2013 & 1 & 21 &  601 &  608 &  -7 &  654 &  725 & -31 & UA &  733 & N822UA & EWR & BOS &  32 &  200 &  6 &  8 & 2013-01-21 06:00:00\\\\\n",
       "\t 2013 & 2 & 28 & 1459 & 1500 &  -1 & 1747 & 1742 &   5 & DL & 2347 & N6708D & LGA & ATL & 112 &  762 & 15 &  0 & 2013-02-28 15:00:00\\\\\n",
       "\\end{tabular}\n"
      ],
      "text/markdown": [
       "\n",
       "A tibble: 10 × 19\n",
       "\n",
       "| year &lt;int&gt; | month &lt;int&gt; | day &lt;int&gt; | dep_time &lt;int&gt; | sched_dep_time &lt;int&gt; | dep_delay &lt;dbl&gt; | arr_time &lt;int&gt; | sched_arr_time &lt;int&gt; | arr_delay &lt;dbl&gt; | carrier &lt;chr&gt; | flight &lt;int&gt; | tailnum &lt;chr&gt; | origin &lt;chr&gt; | dest &lt;chr&gt; | air_time &lt;dbl&gt; | distance &lt;dbl&gt; | hour &lt;dbl&gt; | minute &lt;dbl&gt; | time_hour &lt;dttm&gt; |\n",
       "|---|---|---|---|---|---|---|---|---|---|---|---|---|---|---|---|---|---|---|\n",
       "| 2013 | 1 | 16 | 2008 | 2005 |   3 | 2254 | 2258 |  -4 | UA |  405 | N411UA | EWR | MCO | 141 |  937 | 20 |  5 | 2013-01-16 20:00:00 |\n",
       "| 2013 | 1 | 28 |  900 |  905 |  -5 | 1125 | 1115 |  10 | MQ | 4478 | N739MQ | LGA | DTW | 109 |  502 |  9 |  5 | 2013-01-28 09:00:00 |\n",
       "| 2013 | 2 | 16 | 1758 | 1745 |  13 | 2114 | 2136 | -22 | DL |   31 | N721TW | JFK | SFO | 348 | 2586 | 17 | 45 | 2013-02-16 17:00:00 |\n",
       "| 2013 | 1 | 18 | 1541 | 1530 |  11 | 1755 | 1734 |  21 | US | 1665 | N716UW | LGA | CLT |  86 |  544 | 15 | 30 | 2013-01-18 15:00:00 |\n",
       "| 2013 | 1 | 24 | 2348 | 2359 | -11 |  418 |  444 | -26 | B6 |  739 | N605JB | JFK | PSE | 193 | 1617 | 23 | 59 | 2013-01-24 23:00:00 |\n",
       "| 2013 | 2 | 18 | 1600 | 1604 |  -4 | 1718 | 1739 | -21 | UA | 1053 | N76254 | EWR | ORD | 120 |  719 | 16 |  4 | 2013-02-18 16:00:00 |\n",
       "| 2013 | 2 | 27 | 2020 | 1900 |  80 | 2144 | 2018 |  86 | EV | 5714 | N827AS | JFK | IAD |  48 |  228 | 19 |  0 | 2013-02-27 19:00:00 |\n",
       "| 2013 | 2 | 18 | 2022 | 2010 |  12 | 2325 | 2321 |   4 | UA | 1299 | N37255 | EWR | RSW | 164 | 1068 | 20 | 10 | 2013-02-18 20:00:00 |\n",
       "| 2013 | 1 | 21 |  601 |  608 |  -7 |  654 |  725 | -31 | UA |  733 | N822UA | EWR | BOS |  32 |  200 |  6 |  8 | 2013-01-21 06:00:00 |\n",
       "| 2013 | 2 | 28 | 1459 | 1500 |  -1 | 1747 | 1742 |   5 | DL | 2347 | N6708D | LGA | ATL | 112 |  762 | 15 |  0 | 2013-02-28 15:00:00 |\n",
       "\n"
      ],
      "text/plain": [
       "   year month day dep_time sched_dep_time dep_delay arr_time sched_arr_time\n",
       "1  2013 1     16  2008     2005             3       2254     2258          \n",
       "2  2013 1     28   900      905            -5       1125     1115          \n",
       "3  2013 2     16  1758     1745            13       2114     2136          \n",
       "4  2013 1     18  1541     1530            11       1755     1734          \n",
       "5  2013 1     24  2348     2359           -11        418      444          \n",
       "6  2013 2     18  1600     1604            -4       1718     1739          \n",
       "7  2013 2     27  2020     1900            80       2144     2018          \n",
       "8  2013 2     18  2022     2010            12       2325     2321          \n",
       "9  2013 1     21   601      608            -7        654      725          \n",
       "10 2013 2     28  1459     1500            -1       1747     1742          \n",
       "   arr_delay carrier flight tailnum origin dest air_time distance hour minute\n",
       "1   -4       UA       405   N411UA  EWR    MCO  141       937     20    5    \n",
       "2   10       MQ      4478   N739MQ  LGA    DTW  109       502      9    5    \n",
       "3  -22       DL        31   N721TW  JFK    SFO  348      2586     17   45    \n",
       "4   21       US      1665   N716UW  LGA    CLT   86       544     15   30    \n",
       "5  -26       B6       739   N605JB  JFK    PSE  193      1617     23   59    \n",
       "6  -21       UA      1053   N76254  EWR    ORD  120       719     16    4    \n",
       "7   86       EV      5714   N827AS  JFK    IAD   48       228     19    0    \n",
       "8    4       UA      1299   N37255  EWR    RSW  164      1068     20   10    \n",
       "9  -31       UA       733   N822UA  EWR    BOS   32       200      6    8    \n",
       "10   5       DL      2347   N6708D  LGA    ATL  112       762     15    0    \n",
       "   time_hour          \n",
       "1  2013-01-16 20:00:00\n",
       "2  2013-01-28 09:00:00\n",
       "3  2013-02-16 17:00:00\n",
       "4  2013-01-18 15:00:00\n",
       "5  2013-01-24 23:00:00\n",
       "6  2013-02-18 16:00:00\n",
       "7  2013-02-27 19:00:00\n",
       "8  2013-02-18 20:00:00\n",
       "9  2013-01-21 06:00:00\n",
       "10 2013-02-28 15:00:00"
      ]
     },
     "metadata": {},
     "output_type": "display_data"
    }
   ],
   "source": [
    "# Flights that departed in January or February\n",
    "flights |>\n",
    "  filter(month == 1 | month == 2) |>\n",
    "  sample_n(10)\n"
   ]
  },
  {
   "cell_type": "code",
   "execution_count": 23,
   "metadata": {
    "vscode": {
     "languageId": "r"
    }
   },
   "outputs": [
    {
     "data": {
      "text/html": [
       "<table class=\"dataframe\">\n",
       "<caption>A tibble: 10 × 19</caption>\n",
       "<thead>\n",
       "\t<tr><th scope=col>year</th><th scope=col>month</th><th scope=col>day</th><th scope=col>dep_time</th><th scope=col>sched_dep_time</th><th scope=col>dep_delay</th><th scope=col>arr_time</th><th scope=col>sched_arr_time</th><th scope=col>arr_delay</th><th scope=col>carrier</th><th scope=col>flight</th><th scope=col>tailnum</th><th scope=col>origin</th><th scope=col>dest</th><th scope=col>air_time</th><th scope=col>distance</th><th scope=col>hour</th><th scope=col>minute</th><th scope=col>time_hour</th></tr>\n",
       "\t<tr><th scope=col>&lt;int&gt;</th><th scope=col>&lt;int&gt;</th><th scope=col>&lt;int&gt;</th><th scope=col>&lt;int&gt;</th><th scope=col>&lt;int&gt;</th><th scope=col>&lt;dbl&gt;</th><th scope=col>&lt;int&gt;</th><th scope=col>&lt;int&gt;</th><th scope=col>&lt;dbl&gt;</th><th scope=col>&lt;chr&gt;</th><th scope=col>&lt;int&gt;</th><th scope=col>&lt;chr&gt;</th><th scope=col>&lt;chr&gt;</th><th scope=col>&lt;chr&gt;</th><th scope=col>&lt;dbl&gt;</th><th scope=col>&lt;dbl&gt;</th><th scope=col>&lt;dbl&gt;</th><th scope=col>&lt;dbl&gt;</th><th scope=col>&lt;dttm&gt;</th></tr>\n",
       "</thead>\n",
       "<tbody>\n",
       "\t<tr><td>2013</td><td>1</td><td>24</td><td> 919</td><td> 920</td><td>-1</td><td>1242</td><td>1233</td><td>  9</td><td>UA</td><td>1275</td><td>N57869</td><td>EWR</td><td>LAX</td><td>332</td><td>2454</td><td> 9</td><td>20</td><td>2013-01-24 09:00:00</td></tr>\n",
       "\t<tr><td>2013</td><td>1</td><td> 4</td><td> 810</td><td> 810</td><td> 0</td><td>1029</td><td>1030</td><td> -1</td><td>FL</td><td> 346</td><td>N899AT</td><td>LGA</td><td>ATL</td><td>115</td><td> 762</td><td> 8</td><td>10</td><td>2013-01-04 08:00:00</td></tr>\n",
       "\t<tr><td>2013</td><td>1</td><td> 6</td><td>1126</td><td>1130</td><td>-4</td><td>1253</td><td>1306</td><td>-13</td><td>EV</td><td>4431</td><td>N16151</td><td>EWR</td><td>RDU</td><td> 75</td><td> 416</td><td>11</td><td>30</td><td>2013-01-06 11:00:00</td></tr>\n",
       "\t<tr><td>2013</td><td>1</td><td>22</td><td>1105</td><td>1105</td><td> 0</td><td>1241</td><td>1245</td><td> -4</td><td>WN</td><td> 542</td><td>N443WN</td><td>LGA</td><td>MDW</td><td>121</td><td> 725</td><td>11</td><td> 5</td><td>2013-01-22 11:00:00</td></tr>\n",
       "\t<tr><td>2013</td><td>1</td><td>31</td><td>1801</td><td>1800</td><td> 1</td><td>1922</td><td>1913</td><td>  9</td><td>US</td><td>2185</td><td>N748UW</td><td>LGA</td><td>DCA</td><td> 47</td><td> 214</td><td>18</td><td> 0</td><td>2013-01-31 18:00:00</td></tr>\n",
       "\t<tr><td>2013</td><td>1</td><td>30</td><td>1523</td><td>1345</td><td>98</td><td>1754</td><td>1641</td><td> 73</td><td>B6</td><td>1783</td><td>N805JB</td><td>JFK</td><td>MCO</td><td>139</td><td> 944</td><td>13</td><td>45</td><td>2013-01-30 13:00:00</td></tr>\n",
       "\t<tr><td>2013</td><td>1</td><td>25</td><td> 730</td><td> 710</td><td>20</td><td> 933</td><td> 850</td><td> 43</td><td>MQ</td><td>3737</td><td>N507MQ</td><td>EWR</td><td>ORD</td><td>129</td><td> 719</td><td> 7</td><td>10</td><td>2013-01-25 07:00:00</td></tr>\n",
       "\t<tr><td>2013</td><td>1</td><td> 5</td><td> 537</td><td> 540</td><td>-3</td><td> 831</td><td> 850</td><td>-19</td><td>AA</td><td>1141</td><td>N5DBAA</td><td>JFK</td><td>MIA</td><td>153</td><td>1089</td><td> 5</td><td>40</td><td>2013-01-05 05:00:00</td></tr>\n",
       "\t<tr><td>2013</td><td>2</td><td>26</td><td>1556</td><td>1605</td><td>-9</td><td>1912</td><td>1911</td><td>  1</td><td>B6</td><td> 157</td><td>N794JB</td><td>JFK</td><td>MCO</td><td>157</td><td> 944</td><td>16</td><td> 5</td><td>2013-02-26 16:00:00</td></tr>\n",
       "\t<tr><td>2013</td><td>2</td><td> 9</td><td>  NA</td><td>1600</td><td>NA</td><td>  NA</td><td>1730</td><td> NA</td><td>9E</td><td>3453</td><td>NA    </td><td>JFK</td><td>BOS</td><td> NA</td><td> 187</td><td>16</td><td> 0</td><td>2013-02-09 16:00:00</td></tr>\n",
       "</tbody>\n",
       "</table>\n"
      ],
      "text/latex": [
       "A tibble: 10 × 19\n",
       "\\begin{tabular}{lllllllllllllllllll}\n",
       " year & month & day & dep\\_time & sched\\_dep\\_time & dep\\_delay & arr\\_time & sched\\_arr\\_time & arr\\_delay & carrier & flight & tailnum & origin & dest & air\\_time & distance & hour & minute & time\\_hour\\\\\n",
       " <int> & <int> & <int> & <int> & <int> & <dbl> & <int> & <int> & <dbl> & <chr> & <int> & <chr> & <chr> & <chr> & <dbl> & <dbl> & <dbl> & <dbl> & <dttm>\\\\\n",
       "\\hline\n",
       "\t 2013 & 1 & 24 &  919 &  920 & -1 & 1242 & 1233 &   9 & UA & 1275 & N57869 & EWR & LAX & 332 & 2454 &  9 & 20 & 2013-01-24 09:00:00\\\\\n",
       "\t 2013 & 1 &  4 &  810 &  810 &  0 & 1029 & 1030 &  -1 & FL &  346 & N899AT & LGA & ATL & 115 &  762 &  8 & 10 & 2013-01-04 08:00:00\\\\\n",
       "\t 2013 & 1 &  6 & 1126 & 1130 & -4 & 1253 & 1306 & -13 & EV & 4431 & N16151 & EWR & RDU &  75 &  416 & 11 & 30 & 2013-01-06 11:00:00\\\\\n",
       "\t 2013 & 1 & 22 & 1105 & 1105 &  0 & 1241 & 1245 &  -4 & WN &  542 & N443WN & LGA & MDW & 121 &  725 & 11 &  5 & 2013-01-22 11:00:00\\\\\n",
       "\t 2013 & 1 & 31 & 1801 & 1800 &  1 & 1922 & 1913 &   9 & US & 2185 & N748UW & LGA & DCA &  47 &  214 & 18 &  0 & 2013-01-31 18:00:00\\\\\n",
       "\t 2013 & 1 & 30 & 1523 & 1345 & 98 & 1754 & 1641 &  73 & B6 & 1783 & N805JB & JFK & MCO & 139 &  944 & 13 & 45 & 2013-01-30 13:00:00\\\\\n",
       "\t 2013 & 1 & 25 &  730 &  710 & 20 &  933 &  850 &  43 & MQ & 3737 & N507MQ & EWR & ORD & 129 &  719 &  7 & 10 & 2013-01-25 07:00:00\\\\\n",
       "\t 2013 & 1 &  5 &  537 &  540 & -3 &  831 &  850 & -19 & AA & 1141 & N5DBAA & JFK & MIA & 153 & 1089 &  5 & 40 & 2013-01-05 05:00:00\\\\\n",
       "\t 2013 & 2 & 26 & 1556 & 1605 & -9 & 1912 & 1911 &   1 & B6 &  157 & N794JB & JFK & MCO & 157 &  944 & 16 &  5 & 2013-02-26 16:00:00\\\\\n",
       "\t 2013 & 2 &  9 &   NA & 1600 & NA &   NA & 1730 &  NA & 9E & 3453 & NA     & JFK & BOS &  NA &  187 & 16 &  0 & 2013-02-09 16:00:00\\\\\n",
       "\\end{tabular}\n"
      ],
      "text/markdown": [
       "\n",
       "A tibble: 10 × 19\n",
       "\n",
       "| year &lt;int&gt; | month &lt;int&gt; | day &lt;int&gt; | dep_time &lt;int&gt; | sched_dep_time &lt;int&gt; | dep_delay &lt;dbl&gt; | arr_time &lt;int&gt; | sched_arr_time &lt;int&gt; | arr_delay &lt;dbl&gt; | carrier &lt;chr&gt; | flight &lt;int&gt; | tailnum &lt;chr&gt; | origin &lt;chr&gt; | dest &lt;chr&gt; | air_time &lt;dbl&gt; | distance &lt;dbl&gt; | hour &lt;dbl&gt; | minute &lt;dbl&gt; | time_hour &lt;dttm&gt; |\n",
       "|---|---|---|---|---|---|---|---|---|---|---|---|---|---|---|---|---|---|---|\n",
       "| 2013 | 1 | 24 |  919 |  920 | -1 | 1242 | 1233 |   9 | UA | 1275 | N57869 | EWR | LAX | 332 | 2454 |  9 | 20 | 2013-01-24 09:00:00 |\n",
       "| 2013 | 1 |  4 |  810 |  810 |  0 | 1029 | 1030 |  -1 | FL |  346 | N899AT | LGA | ATL | 115 |  762 |  8 | 10 | 2013-01-04 08:00:00 |\n",
       "| 2013 | 1 |  6 | 1126 | 1130 | -4 | 1253 | 1306 | -13 | EV | 4431 | N16151 | EWR | RDU |  75 |  416 | 11 | 30 | 2013-01-06 11:00:00 |\n",
       "| 2013 | 1 | 22 | 1105 | 1105 |  0 | 1241 | 1245 |  -4 | WN |  542 | N443WN | LGA | MDW | 121 |  725 | 11 |  5 | 2013-01-22 11:00:00 |\n",
       "| 2013 | 1 | 31 | 1801 | 1800 |  1 | 1922 | 1913 |   9 | US | 2185 | N748UW | LGA | DCA |  47 |  214 | 18 |  0 | 2013-01-31 18:00:00 |\n",
       "| 2013 | 1 | 30 | 1523 | 1345 | 98 | 1754 | 1641 |  73 | B6 | 1783 | N805JB | JFK | MCO | 139 |  944 | 13 | 45 | 2013-01-30 13:00:00 |\n",
       "| 2013 | 1 | 25 |  730 |  710 | 20 |  933 |  850 |  43 | MQ | 3737 | N507MQ | EWR | ORD | 129 |  719 |  7 | 10 | 2013-01-25 07:00:00 |\n",
       "| 2013 | 1 |  5 |  537 |  540 | -3 |  831 |  850 | -19 | AA | 1141 | N5DBAA | JFK | MIA | 153 | 1089 |  5 | 40 | 2013-01-05 05:00:00 |\n",
       "| 2013 | 2 | 26 | 1556 | 1605 | -9 | 1912 | 1911 |   1 | B6 |  157 | N794JB | JFK | MCO | 157 |  944 | 16 |  5 | 2013-02-26 16:00:00 |\n",
       "| 2013 | 2 |  9 |   NA | 1600 | NA |   NA | 1730 |  NA | 9E | 3453 | NA     | JFK | BOS |  NA |  187 | 16 |  0 | 2013-02-09 16:00:00 |\n",
       "\n"
      ],
      "text/plain": [
       "   year month day dep_time sched_dep_time dep_delay arr_time sched_arr_time\n",
       "1  2013 1     24   919      920           -1        1242     1233          \n",
       "2  2013 1      4   810      810            0        1029     1030          \n",
       "3  2013 1      6  1126     1130           -4        1253     1306          \n",
       "4  2013 1     22  1105     1105            0        1241     1245          \n",
       "5  2013 1     31  1801     1800            1        1922     1913          \n",
       "6  2013 1     30  1523     1345           98        1754     1641          \n",
       "7  2013 1     25   730      710           20         933      850          \n",
       "8  2013 1      5   537      540           -3         831      850          \n",
       "9  2013 2     26  1556     1605           -9        1912     1911          \n",
       "10 2013 2      9    NA     1600           NA          NA     1730          \n",
       "   arr_delay carrier flight tailnum origin dest air_time distance hour minute\n",
       "1    9       UA      1275   N57869  EWR    LAX  332      2454      9   20    \n",
       "2   -1       FL       346   N899AT  LGA    ATL  115       762      8   10    \n",
       "3  -13       EV      4431   N16151  EWR    RDU   75       416     11   30    \n",
       "4   -4       WN       542   N443WN  LGA    MDW  121       725     11    5    \n",
       "5    9       US      2185   N748UW  LGA    DCA   47       214     18    0    \n",
       "6   73       B6      1783   N805JB  JFK    MCO  139       944     13   45    \n",
       "7   43       MQ      3737   N507MQ  EWR    ORD  129       719      7   10    \n",
       "8  -19       AA      1141   N5DBAA  JFK    MIA  153      1089      5   40    \n",
       "9    1       B6       157   N794JB  JFK    MCO  157       944     16    5    \n",
       "10  NA       9E      3453   NA      JFK    BOS   NA       187     16    0    \n",
       "   time_hour          \n",
       "1  2013-01-24 09:00:00\n",
       "2  2013-01-04 08:00:00\n",
       "3  2013-01-06 11:00:00\n",
       "4  2013-01-22 11:00:00\n",
       "5  2013-01-31 18:00:00\n",
       "6  2013-01-30 13:00:00\n",
       "7  2013-01-25 07:00:00\n",
       "8  2013-01-05 05:00:00\n",
       "9  2013-02-26 16:00:00\n",
       "10 2013-02-09 16:00:00"
      ]
     },
     "metadata": {},
     "output_type": "display_data"
    }
   ],
   "source": [
    "# A shorter way to select flights that departed in January or February\n",
    "flights |>\n",
    "  filter(month %in% c(1, 2)) |>\n",
    "  sample_n(10)\n"
   ]
  },
  {
   "cell_type": "markdown",
   "metadata": {},
   "source": [
    "## Intro to `arrange`\n"
   ]
  },
  {
   "cell_type": "code",
   "execution_count": 25,
   "metadata": {
    "vscode": {
     "languageId": "r"
    }
   },
   "outputs": [
    {
     "data": {
      "text/html": [
       "<table class=\"dataframe\">\n",
       "<caption>A tibble: 10 × 19</caption>\n",
       "<thead>\n",
       "\t<tr><th scope=col>year</th><th scope=col>month</th><th scope=col>day</th><th scope=col>dep_time</th><th scope=col>sched_dep_time</th><th scope=col>dep_delay</th><th scope=col>arr_time</th><th scope=col>sched_arr_time</th><th scope=col>arr_delay</th><th scope=col>carrier</th><th scope=col>flight</th><th scope=col>tailnum</th><th scope=col>origin</th><th scope=col>dest</th><th scope=col>air_time</th><th scope=col>distance</th><th scope=col>hour</th><th scope=col>minute</th><th scope=col>time_hour</th></tr>\n",
       "\t<tr><th scope=col>&lt;int&gt;</th><th scope=col>&lt;int&gt;</th><th scope=col>&lt;int&gt;</th><th scope=col>&lt;int&gt;</th><th scope=col>&lt;int&gt;</th><th scope=col>&lt;dbl&gt;</th><th scope=col>&lt;int&gt;</th><th scope=col>&lt;int&gt;</th><th scope=col>&lt;dbl&gt;</th><th scope=col>&lt;chr&gt;</th><th scope=col>&lt;int&gt;</th><th scope=col>&lt;chr&gt;</th><th scope=col>&lt;chr&gt;</th><th scope=col>&lt;chr&gt;</th><th scope=col>&lt;dbl&gt;</th><th scope=col>&lt;dbl&gt;</th><th scope=col>&lt;dbl&gt;</th><th scope=col>&lt;dbl&gt;</th><th scope=col>&lt;dttm&gt;</th></tr>\n",
       "</thead>\n",
       "<tbody>\n",
       "\t<tr><td>2013</td><td>12</td><td>31</td><td>2356</td><td>2359</td><td> -3</td><td> 436</td><td> 445</td><td> -9</td><td>B6</td><td> 745</td><td>N665JB</td><td>JFK</td><td>PSE</td><td>200</td><td>1617</td><td>23</td><td>59</td><td>2013-12-31 23:00:00</td></tr>\n",
       "\t<tr><td>2013</td><td>12</td><td>31</td><td>2355</td><td>2359</td><td> -4</td><td> 430</td><td> 440</td><td>-10</td><td>B6</td><td>1503</td><td>N509JB</td><td>JFK</td><td>SJU</td><td>195</td><td>1598</td><td>23</td><td>59</td><td>2013-12-31 23:00:00</td></tr>\n",
       "\t<tr><td>2013</td><td>12</td><td>31</td><td>2332</td><td>2245</td><td> 47</td><td>  58</td><td>   3</td><td> 55</td><td>B6</td><td> 486</td><td>N334JB</td><td>JFK</td><td>ROC</td><td> 60</td><td> 264</td><td>22</td><td>45</td><td>2013-12-31 22:00:00</td></tr>\n",
       "\t<tr><td>2013</td><td>12</td><td>31</td><td>2328</td><td>2330</td><td> -2</td><td> 412</td><td> 409</td><td>  3</td><td>B6</td><td>1389</td><td>N651JB</td><td>EWR</td><td>SJU</td><td>198</td><td>1608</td><td>23</td><td>30</td><td>2013-12-31 23:00:00</td></tr>\n",
       "\t<tr><td>2013</td><td>12</td><td>31</td><td>2321</td><td>2250</td><td> 31</td><td>  46</td><td>   8</td><td> 38</td><td>B6</td><td>2002</td><td>N179JB</td><td>JFK</td><td>BUF</td><td> 66</td><td> 301</td><td>22</td><td>50</td><td>2013-12-31 22:00:00</td></tr>\n",
       "\t<tr><td>2013</td><td>12</td><td>31</td><td>2310</td><td>2255</td><td> 15</td><td>   7</td><td>2356</td><td> 11</td><td>B6</td><td> 718</td><td>N279JB</td><td>JFK</td><td>BOS</td><td> 40</td><td> 187</td><td>22</td><td>55</td><td>2013-12-31 22:00:00</td></tr>\n",
       "\t<tr><td>2013</td><td>12</td><td>31</td><td>2245</td><td>2250</td><td> -5</td><td>2359</td><td>2356</td><td>  3</td><td>B6</td><td>1816</td><td>N318JB</td><td>JFK</td><td>SYR</td><td> 51</td><td> 209</td><td>22</td><td>50</td><td>2013-12-31 22:00:00</td></tr>\n",
       "\t<tr><td>2013</td><td>12</td><td>31</td><td>2235</td><td>2245</td><td>-10</td><td>2351</td><td>2355</td><td> -4</td><td>B6</td><td> 234</td><td>N355JB</td><td>JFK</td><td>BTV</td><td> 49</td><td> 266</td><td>22</td><td>45</td><td>2013-12-31 22:00:00</td></tr>\n",
       "\t<tr><td>2013</td><td>12</td><td>31</td><td>2218</td><td>2219</td><td> -1</td><td> 315</td><td> 304</td><td> 11</td><td>B6</td><td>1203</td><td>N625JB</td><td>JFK</td><td>SJU</td><td>202</td><td>1598</td><td>22</td><td>19</td><td>2013-12-31 22:00:00</td></tr>\n",
       "\t<tr><td>2013</td><td>12</td><td>31</td><td>2211</td><td>2159</td><td> 12</td><td> 100</td><td>  45</td><td> 15</td><td>B6</td><td>1183</td><td>N715JB</td><td>JFK</td><td>MCO</td><td>148</td><td> 944</td><td>21</td><td>59</td><td>2013-12-31 21:00:00</td></tr>\n",
       "</tbody>\n",
       "</table>\n"
      ],
      "text/latex": [
       "A tibble: 10 × 19\n",
       "\\begin{tabular}{lllllllllllllllllll}\n",
       " year & month & day & dep\\_time & sched\\_dep\\_time & dep\\_delay & arr\\_time & sched\\_arr\\_time & arr\\_delay & carrier & flight & tailnum & origin & dest & air\\_time & distance & hour & minute & time\\_hour\\\\\n",
       " <int> & <int> & <int> & <int> & <int> & <dbl> & <int> & <int> & <dbl> & <chr> & <int> & <chr> & <chr> & <chr> & <dbl> & <dbl> & <dbl> & <dbl> & <dttm>\\\\\n",
       "\\hline\n",
       "\t 2013 & 12 & 31 & 2356 & 2359 &  -3 &  436 &  445 &  -9 & B6 &  745 & N665JB & JFK & PSE & 200 & 1617 & 23 & 59 & 2013-12-31 23:00:00\\\\\n",
       "\t 2013 & 12 & 31 & 2355 & 2359 &  -4 &  430 &  440 & -10 & B6 & 1503 & N509JB & JFK & SJU & 195 & 1598 & 23 & 59 & 2013-12-31 23:00:00\\\\\n",
       "\t 2013 & 12 & 31 & 2332 & 2245 &  47 &   58 &    3 &  55 & B6 &  486 & N334JB & JFK & ROC &  60 &  264 & 22 & 45 & 2013-12-31 22:00:00\\\\\n",
       "\t 2013 & 12 & 31 & 2328 & 2330 &  -2 &  412 &  409 &   3 & B6 & 1389 & N651JB & EWR & SJU & 198 & 1608 & 23 & 30 & 2013-12-31 23:00:00\\\\\n",
       "\t 2013 & 12 & 31 & 2321 & 2250 &  31 &   46 &    8 &  38 & B6 & 2002 & N179JB & JFK & BUF &  66 &  301 & 22 & 50 & 2013-12-31 22:00:00\\\\\n",
       "\t 2013 & 12 & 31 & 2310 & 2255 &  15 &    7 & 2356 &  11 & B6 &  718 & N279JB & JFK & BOS &  40 &  187 & 22 & 55 & 2013-12-31 22:00:00\\\\\n",
       "\t 2013 & 12 & 31 & 2245 & 2250 &  -5 & 2359 & 2356 &   3 & B6 & 1816 & N318JB & JFK & SYR &  51 &  209 & 22 & 50 & 2013-12-31 22:00:00\\\\\n",
       "\t 2013 & 12 & 31 & 2235 & 2245 & -10 & 2351 & 2355 &  -4 & B6 &  234 & N355JB & JFK & BTV &  49 &  266 & 22 & 45 & 2013-12-31 22:00:00\\\\\n",
       "\t 2013 & 12 & 31 & 2218 & 2219 &  -1 &  315 &  304 &  11 & B6 & 1203 & N625JB & JFK & SJU & 202 & 1598 & 22 & 19 & 2013-12-31 22:00:00\\\\\n",
       "\t 2013 & 12 & 31 & 2211 & 2159 &  12 &  100 &   45 &  15 & B6 & 1183 & N715JB & JFK & MCO & 148 &  944 & 21 & 59 & 2013-12-31 21:00:00\\\\\n",
       "\\end{tabular}\n"
      ],
      "text/markdown": [
       "\n",
       "A tibble: 10 × 19\n",
       "\n",
       "| year &lt;int&gt; | month &lt;int&gt; | day &lt;int&gt; | dep_time &lt;int&gt; | sched_dep_time &lt;int&gt; | dep_delay &lt;dbl&gt; | arr_time &lt;int&gt; | sched_arr_time &lt;int&gt; | arr_delay &lt;dbl&gt; | carrier &lt;chr&gt; | flight &lt;int&gt; | tailnum &lt;chr&gt; | origin &lt;chr&gt; | dest &lt;chr&gt; | air_time &lt;dbl&gt; | distance &lt;dbl&gt; | hour &lt;dbl&gt; | minute &lt;dbl&gt; | time_hour &lt;dttm&gt; |\n",
       "|---|---|---|---|---|---|---|---|---|---|---|---|---|---|---|---|---|---|---|\n",
       "| 2013 | 12 | 31 | 2356 | 2359 |  -3 |  436 |  445 |  -9 | B6 |  745 | N665JB | JFK | PSE | 200 | 1617 | 23 | 59 | 2013-12-31 23:00:00 |\n",
       "| 2013 | 12 | 31 | 2355 | 2359 |  -4 |  430 |  440 | -10 | B6 | 1503 | N509JB | JFK | SJU | 195 | 1598 | 23 | 59 | 2013-12-31 23:00:00 |\n",
       "| 2013 | 12 | 31 | 2332 | 2245 |  47 |   58 |    3 |  55 | B6 |  486 | N334JB | JFK | ROC |  60 |  264 | 22 | 45 | 2013-12-31 22:00:00 |\n",
       "| 2013 | 12 | 31 | 2328 | 2330 |  -2 |  412 |  409 |   3 | B6 | 1389 | N651JB | EWR | SJU | 198 | 1608 | 23 | 30 | 2013-12-31 23:00:00 |\n",
       "| 2013 | 12 | 31 | 2321 | 2250 |  31 |   46 |    8 |  38 | B6 | 2002 | N179JB | JFK | BUF |  66 |  301 | 22 | 50 | 2013-12-31 22:00:00 |\n",
       "| 2013 | 12 | 31 | 2310 | 2255 |  15 |    7 | 2356 |  11 | B6 |  718 | N279JB | JFK | BOS |  40 |  187 | 22 | 55 | 2013-12-31 22:00:00 |\n",
       "| 2013 | 12 | 31 | 2245 | 2250 |  -5 | 2359 | 2356 |   3 | B6 | 1816 | N318JB | JFK | SYR |  51 |  209 | 22 | 50 | 2013-12-31 22:00:00 |\n",
       "| 2013 | 12 | 31 | 2235 | 2245 | -10 | 2351 | 2355 |  -4 | B6 |  234 | N355JB | JFK | BTV |  49 |  266 | 22 | 45 | 2013-12-31 22:00:00 |\n",
       "| 2013 | 12 | 31 | 2218 | 2219 |  -1 |  315 |  304 |  11 | B6 | 1203 | N625JB | JFK | SJU | 202 | 1598 | 22 | 19 | 2013-12-31 22:00:00 |\n",
       "| 2013 | 12 | 31 | 2211 | 2159 |  12 |  100 |   45 |  15 | B6 | 1183 | N715JB | JFK | MCO | 148 |  944 | 21 | 59 | 2013-12-31 21:00:00 |\n",
       "\n"
      ],
      "text/plain": [
       "   year month day dep_time sched_dep_time dep_delay arr_time sched_arr_time\n",
       "1  2013 12    31  2356     2359            -3        436      445          \n",
       "2  2013 12    31  2355     2359            -4        430      440          \n",
       "3  2013 12    31  2332     2245            47         58        3          \n",
       "4  2013 12    31  2328     2330            -2        412      409          \n",
       "5  2013 12    31  2321     2250            31         46        8          \n",
       "6  2013 12    31  2310     2255            15          7     2356          \n",
       "7  2013 12    31  2245     2250            -5       2359     2356          \n",
       "8  2013 12    31  2235     2245           -10       2351     2355          \n",
       "9  2013 12    31  2218     2219            -1        315      304          \n",
       "10 2013 12    31  2211     2159            12        100       45          \n",
       "   arr_delay carrier flight tailnum origin dest air_time distance hour minute\n",
       "1   -9       B6       745   N665JB  JFK    PSE  200      1617     23   59    \n",
       "2  -10       B6      1503   N509JB  JFK    SJU  195      1598     23   59    \n",
       "3   55       B6       486   N334JB  JFK    ROC   60       264     22   45    \n",
       "4    3       B6      1389   N651JB  EWR    SJU  198      1608     23   30    \n",
       "5   38       B6      2002   N179JB  JFK    BUF   66       301     22   50    \n",
       "6   11       B6       718   N279JB  JFK    BOS   40       187     22   55    \n",
       "7    3       B6      1816   N318JB  JFK    SYR   51       209     22   50    \n",
       "8   -4       B6       234   N355JB  JFK    BTV   49       266     22   45    \n",
       "9   11       B6      1203   N625JB  JFK    SJU  202      1598     22   19    \n",
       "10  15       B6      1183   N715JB  JFK    MCO  148       944     21   59    \n",
       "   time_hour          \n",
       "1  2013-12-31 23:00:00\n",
       "2  2013-12-31 23:00:00\n",
       "3  2013-12-31 22:00:00\n",
       "4  2013-12-31 23:00:00\n",
       "5  2013-12-31 22:00:00\n",
       "6  2013-12-31 22:00:00\n",
       "7  2013-12-31 22:00:00\n",
       "8  2013-12-31 22:00:00\n",
       "9  2013-12-31 22:00:00\n",
       "10 2013-12-31 21:00:00"
      ]
     },
     "metadata": {},
     "output_type": "display_data"
    }
   ],
   "source": [
    "flights |>\n",
    "  arrange(desc(year), desc(month), desc(day), desc(dep_time)) |>\n",
    "  head(10)\n"
   ]
  },
  {
   "cell_type": "markdown",
   "metadata": {},
   "source": [
    "## Intro to `distinct`\n"
   ]
  },
  {
   "cell_type": "code",
   "execution_count": 29,
   "metadata": {
    "vscode": {
     "languageId": "r"
    }
   },
   "outputs": [
    {
     "data": {
      "text/html": [
       "<table class=\"dataframe\">\n",
       "<caption>A tibble: 10 × 19</caption>\n",
       "<thead>\n",
       "\t<tr><th scope=col>year</th><th scope=col>month</th><th scope=col>day</th><th scope=col>dep_time</th><th scope=col>sched_dep_time</th><th scope=col>dep_delay</th><th scope=col>arr_time</th><th scope=col>sched_arr_time</th><th scope=col>arr_delay</th><th scope=col>carrier</th><th scope=col>flight</th><th scope=col>tailnum</th><th scope=col>origin</th><th scope=col>dest</th><th scope=col>air_time</th><th scope=col>distance</th><th scope=col>hour</th><th scope=col>minute</th><th scope=col>time_hour</th></tr>\n",
       "\t<tr><th scope=col>&lt;int&gt;</th><th scope=col>&lt;int&gt;</th><th scope=col>&lt;int&gt;</th><th scope=col>&lt;int&gt;</th><th scope=col>&lt;int&gt;</th><th scope=col>&lt;dbl&gt;</th><th scope=col>&lt;int&gt;</th><th scope=col>&lt;int&gt;</th><th scope=col>&lt;dbl&gt;</th><th scope=col>&lt;chr&gt;</th><th scope=col>&lt;int&gt;</th><th scope=col>&lt;chr&gt;</th><th scope=col>&lt;chr&gt;</th><th scope=col>&lt;chr&gt;</th><th scope=col>&lt;dbl&gt;</th><th scope=col>&lt;dbl&gt;</th><th scope=col>&lt;dbl&gt;</th><th scope=col>&lt;dbl&gt;</th><th scope=col>&lt;dttm&gt;</th></tr>\n",
       "</thead>\n",
       "<tbody>\n",
       "\t<tr><td>2013</td><td> 6</td><td>29</td><td>1354</td><td>1349</td><td> 5</td><td>1459</td><td>1504</td><td> -5</td><td>B6</td><td> 118</td><td>N318JB</td><td>JFK</td><td>BOS</td><td> 42</td><td> 187</td><td>13</td><td>49</td><td>2013-06-29 13:00:00</td></tr>\n",
       "\t<tr><td>2013</td><td> 5</td><td>21</td><td>1903</td><td>1909</td><td>-6</td><td>2159</td><td>2235</td><td>-36</td><td>B6</td><td>  87</td><td>N633JB</td><td>JFK</td><td>SLC</td><td>265</td><td>1990</td><td>19</td><td> 9</td><td>2013-05-21 19:00:00</td></tr>\n",
       "\t<tr><td>2013</td><td> 9</td><td>19</td><td>1830</td><td>1830</td><td> 0</td><td>2037</td><td>2029</td><td>  8</td><td>DL</td><td> 548</td><td>N316US</td><td>EWR</td><td>DTW</td><td> 78</td><td> 488</td><td>18</td><td>30</td><td>2013-09-19 18:00:00</td></tr>\n",
       "\t<tr><td>2013</td><td> 5</td><td> 7</td><td>1440</td><td>1445</td><td>-5</td><td>1623</td><td>1645</td><td>-22</td><td>US</td><td>1445</td><td>N193UW</td><td>LGA</td><td>CLT</td><td> 78</td><td> 544</td><td>14</td><td>45</td><td>2013-05-07 14:00:00</td></tr>\n",
       "\t<tr><td>2013</td><td>10</td><td>11</td><td> 843</td><td> 850</td><td>-7</td><td>1001</td><td>1003</td><td> -2</td><td>EV</td><td>3810</td><td>N14907</td><td>EWR</td><td>BUF</td><td> 44</td><td> 282</td><td> 8</td><td>50</td><td>2013-10-11 08:00:00</td></tr>\n",
       "\t<tr><td>2013</td><td> 5</td><td>19</td><td>2248</td><td>2130</td><td>78</td><td>  29</td><td>2247</td><td>102</td><td>EV</td><td>4378</td><td>N12564</td><td>EWR</td><td>BTV</td><td> 60</td><td> 266</td><td>21</td><td>30</td><td>2013-05-19 21:00:00</td></tr>\n",
       "\t<tr><td>2013</td><td> 6</td><td>19</td><td>1635</td><td>1635</td><td> 0</td><td>1935</td><td>1954</td><td>-19</td><td>B6</td><td>  15</td><td>N821JB</td><td>JFK</td><td>FLL</td><td>148</td><td>1069</td><td>16</td><td>35</td><td>2013-06-19 16:00:00</td></tr>\n",
       "\t<tr><td>2013</td><td> 4</td><td>21</td><td>1449</td><td>1455</td><td>-6</td><td>1630</td><td>1632</td><td> -2</td><td>9E</td><td>3318</td><td>N907XJ</td><td>JFK</td><td>BUF</td><td> 56</td><td> 301</td><td>14</td><td>55</td><td>2013-04-21 14:00:00</td></tr>\n",
       "\t<tr><td>2013</td><td>10</td><td>17</td><td> 843</td><td> 825</td><td>18</td><td>1131</td><td>1120</td><td> 11</td><td>UA</td><td> 478</td><td>N483UA</td><td>EWR</td><td>MCO</td><td>128</td><td> 937</td><td> 8</td><td>25</td><td>2013-10-17 08:00:00</td></tr>\n",
       "\t<tr><td>2013</td><td> 4</td><td> 6</td><td> 639</td><td> 640</td><td>-1</td><td> 936</td><td>1000</td><td>-24</td><td>UA</td><td> 387</td><td>N822UA</td><td>EWR</td><td>LAX</td><td>338</td><td>2454</td><td> 6</td><td>40</td><td>2013-04-06 06:00:00</td></tr>\n",
       "</tbody>\n",
       "</table>\n"
      ],
      "text/latex": [
       "A tibble: 10 × 19\n",
       "\\begin{tabular}{lllllllllllllllllll}\n",
       " year & month & day & dep\\_time & sched\\_dep\\_time & dep\\_delay & arr\\_time & sched\\_arr\\_time & arr\\_delay & carrier & flight & tailnum & origin & dest & air\\_time & distance & hour & minute & time\\_hour\\\\\n",
       " <int> & <int> & <int> & <int> & <int> & <dbl> & <int> & <int> & <dbl> & <chr> & <int> & <chr> & <chr> & <chr> & <dbl> & <dbl> & <dbl> & <dbl> & <dttm>\\\\\n",
       "\\hline\n",
       "\t 2013 &  6 & 29 & 1354 & 1349 &  5 & 1459 & 1504 &  -5 & B6 &  118 & N318JB & JFK & BOS &  42 &  187 & 13 & 49 & 2013-06-29 13:00:00\\\\\n",
       "\t 2013 &  5 & 21 & 1903 & 1909 & -6 & 2159 & 2235 & -36 & B6 &   87 & N633JB & JFK & SLC & 265 & 1990 & 19 &  9 & 2013-05-21 19:00:00\\\\\n",
       "\t 2013 &  9 & 19 & 1830 & 1830 &  0 & 2037 & 2029 &   8 & DL &  548 & N316US & EWR & DTW &  78 &  488 & 18 & 30 & 2013-09-19 18:00:00\\\\\n",
       "\t 2013 &  5 &  7 & 1440 & 1445 & -5 & 1623 & 1645 & -22 & US & 1445 & N193UW & LGA & CLT &  78 &  544 & 14 & 45 & 2013-05-07 14:00:00\\\\\n",
       "\t 2013 & 10 & 11 &  843 &  850 & -7 & 1001 & 1003 &  -2 & EV & 3810 & N14907 & EWR & BUF &  44 &  282 &  8 & 50 & 2013-10-11 08:00:00\\\\\n",
       "\t 2013 &  5 & 19 & 2248 & 2130 & 78 &   29 & 2247 & 102 & EV & 4378 & N12564 & EWR & BTV &  60 &  266 & 21 & 30 & 2013-05-19 21:00:00\\\\\n",
       "\t 2013 &  6 & 19 & 1635 & 1635 &  0 & 1935 & 1954 & -19 & B6 &   15 & N821JB & JFK & FLL & 148 & 1069 & 16 & 35 & 2013-06-19 16:00:00\\\\\n",
       "\t 2013 &  4 & 21 & 1449 & 1455 & -6 & 1630 & 1632 &  -2 & 9E & 3318 & N907XJ & JFK & BUF &  56 &  301 & 14 & 55 & 2013-04-21 14:00:00\\\\\n",
       "\t 2013 & 10 & 17 &  843 &  825 & 18 & 1131 & 1120 &  11 & UA &  478 & N483UA & EWR & MCO & 128 &  937 &  8 & 25 & 2013-10-17 08:00:00\\\\\n",
       "\t 2013 &  4 &  6 &  639 &  640 & -1 &  936 & 1000 & -24 & UA &  387 & N822UA & EWR & LAX & 338 & 2454 &  6 & 40 & 2013-04-06 06:00:00\\\\\n",
       "\\end{tabular}\n"
      ],
      "text/markdown": [
       "\n",
       "A tibble: 10 × 19\n",
       "\n",
       "| year &lt;int&gt; | month &lt;int&gt; | day &lt;int&gt; | dep_time &lt;int&gt; | sched_dep_time &lt;int&gt; | dep_delay &lt;dbl&gt; | arr_time &lt;int&gt; | sched_arr_time &lt;int&gt; | arr_delay &lt;dbl&gt; | carrier &lt;chr&gt; | flight &lt;int&gt; | tailnum &lt;chr&gt; | origin &lt;chr&gt; | dest &lt;chr&gt; | air_time &lt;dbl&gt; | distance &lt;dbl&gt; | hour &lt;dbl&gt; | minute &lt;dbl&gt; | time_hour &lt;dttm&gt; |\n",
       "|---|---|---|---|---|---|---|---|---|---|---|---|---|---|---|---|---|---|---|\n",
       "| 2013 |  6 | 29 | 1354 | 1349 |  5 | 1459 | 1504 |  -5 | B6 |  118 | N318JB | JFK | BOS |  42 |  187 | 13 | 49 | 2013-06-29 13:00:00 |\n",
       "| 2013 |  5 | 21 | 1903 | 1909 | -6 | 2159 | 2235 | -36 | B6 |   87 | N633JB | JFK | SLC | 265 | 1990 | 19 |  9 | 2013-05-21 19:00:00 |\n",
       "| 2013 |  9 | 19 | 1830 | 1830 |  0 | 2037 | 2029 |   8 | DL |  548 | N316US | EWR | DTW |  78 |  488 | 18 | 30 | 2013-09-19 18:00:00 |\n",
       "| 2013 |  5 |  7 | 1440 | 1445 | -5 | 1623 | 1645 | -22 | US | 1445 | N193UW | LGA | CLT |  78 |  544 | 14 | 45 | 2013-05-07 14:00:00 |\n",
       "| 2013 | 10 | 11 |  843 |  850 | -7 | 1001 | 1003 |  -2 | EV | 3810 | N14907 | EWR | BUF |  44 |  282 |  8 | 50 | 2013-10-11 08:00:00 |\n",
       "| 2013 |  5 | 19 | 2248 | 2130 | 78 |   29 | 2247 | 102 | EV | 4378 | N12564 | EWR | BTV |  60 |  266 | 21 | 30 | 2013-05-19 21:00:00 |\n",
       "| 2013 |  6 | 19 | 1635 | 1635 |  0 | 1935 | 1954 | -19 | B6 |   15 | N821JB | JFK | FLL | 148 | 1069 | 16 | 35 | 2013-06-19 16:00:00 |\n",
       "| 2013 |  4 | 21 | 1449 | 1455 | -6 | 1630 | 1632 |  -2 | 9E | 3318 | N907XJ | JFK | BUF |  56 |  301 | 14 | 55 | 2013-04-21 14:00:00 |\n",
       "| 2013 | 10 | 17 |  843 |  825 | 18 | 1131 | 1120 |  11 | UA |  478 | N483UA | EWR | MCO | 128 |  937 |  8 | 25 | 2013-10-17 08:00:00 |\n",
       "| 2013 |  4 |  6 |  639 |  640 | -1 |  936 | 1000 | -24 | UA |  387 | N822UA | EWR | LAX | 338 | 2454 |  6 | 40 | 2013-04-06 06:00:00 |\n",
       "\n"
      ],
      "text/plain": [
       "   year month day dep_time sched_dep_time dep_delay arr_time sched_arr_time\n",
       "1  2013  6    29  1354     1349            5        1459     1504          \n",
       "2  2013  5    21  1903     1909           -6        2159     2235          \n",
       "3  2013  9    19  1830     1830            0        2037     2029          \n",
       "4  2013  5     7  1440     1445           -5        1623     1645          \n",
       "5  2013 10    11   843      850           -7        1001     1003          \n",
       "6  2013  5    19  2248     2130           78          29     2247          \n",
       "7  2013  6    19  1635     1635            0        1935     1954          \n",
       "8  2013  4    21  1449     1455           -6        1630     1632          \n",
       "9  2013 10    17   843      825           18        1131     1120          \n",
       "10 2013  4     6   639      640           -1         936     1000          \n",
       "   arr_delay carrier flight tailnum origin dest air_time distance hour minute\n",
       "1   -5       B6       118   N318JB  JFK    BOS   42       187     13   49    \n",
       "2  -36       B6        87   N633JB  JFK    SLC  265      1990     19    9    \n",
       "3    8       DL       548   N316US  EWR    DTW   78       488     18   30    \n",
       "4  -22       US      1445   N193UW  LGA    CLT   78       544     14   45    \n",
       "5   -2       EV      3810   N14907  EWR    BUF   44       282      8   50    \n",
       "6  102       EV      4378   N12564  EWR    BTV   60       266     21   30    \n",
       "7  -19       B6        15   N821JB  JFK    FLL  148      1069     16   35    \n",
       "8   -2       9E      3318   N907XJ  JFK    BUF   56       301     14   55    \n",
       "9   11       UA       478   N483UA  EWR    MCO  128       937      8   25    \n",
       "10 -24       UA       387   N822UA  EWR    LAX  338      2454      6   40    \n",
       "   time_hour          \n",
       "1  2013-06-29 13:00:00\n",
       "2  2013-05-21 19:00:00\n",
       "3  2013-09-19 18:00:00\n",
       "4  2013-05-07 14:00:00\n",
       "5  2013-10-11 08:00:00\n",
       "6  2013-05-19 21:00:00\n",
       "7  2013-06-19 16:00:00\n",
       "8  2013-04-21 14:00:00\n",
       "9  2013-10-17 08:00:00\n",
       "10 2013-04-06 06:00:00"
      ]
     },
     "metadata": {},
     "output_type": "display_data"
    }
   ],
   "source": [
    "# Remove duplicate rows, if any\n",
    "flights |>\n",
    "  distinct() |>\n",
    "  sample_n(10)\n"
   ]
  },
  {
   "cell_type": "code",
   "execution_count": 30,
   "metadata": {
    "vscode": {
     "languageId": "r"
    }
   },
   "outputs": [
    {
     "data": {
      "text/html": [
       "<table class=\"dataframe\">\n",
       "<caption>A tibble: 10 × 1</caption>\n",
       "<thead>\n",
       "\t<tr><th scope=col>dest</th></tr>\n",
       "\t<tr><th scope=col>&lt;chr&gt;</th></tr>\n",
       "</thead>\n",
       "<tbody>\n",
       "\t<tr><td>IAH</td></tr>\n",
       "\t<tr><td>MIA</td></tr>\n",
       "\t<tr><td>BQN</td></tr>\n",
       "\t<tr><td>ATL</td></tr>\n",
       "\t<tr><td>ORD</td></tr>\n",
       "\t<tr><td>FLL</td></tr>\n",
       "\t<tr><td>IAD</td></tr>\n",
       "\t<tr><td>MCO</td></tr>\n",
       "\t<tr><td>PBI</td></tr>\n",
       "\t<tr><td>TPA</td></tr>\n",
       "</tbody>\n",
       "</table>\n"
      ],
      "text/latex": [
       "A tibble: 10 × 1\n",
       "\\begin{tabular}{l}\n",
       " dest\\\\\n",
       " <chr>\\\\\n",
       "\\hline\n",
       "\t IAH\\\\\n",
       "\t MIA\\\\\n",
       "\t BQN\\\\\n",
       "\t ATL\\\\\n",
       "\t ORD\\\\\n",
       "\t FLL\\\\\n",
       "\t IAD\\\\\n",
       "\t MCO\\\\\n",
       "\t PBI\\\\\n",
       "\t TPA\\\\\n",
       "\\end{tabular}\n"
      ],
      "text/markdown": [
       "\n",
       "A tibble: 10 × 1\n",
       "\n",
       "| dest &lt;chr&gt; |\n",
       "|---|\n",
       "| IAH |\n",
       "| MIA |\n",
       "| BQN |\n",
       "| ATL |\n",
       "| ORD |\n",
       "| FLL |\n",
       "| IAD |\n",
       "| MCO |\n",
       "| PBI |\n",
       "| TPA |\n",
       "\n"
      ],
      "text/plain": [
       "   dest\n",
       "1  IAH \n",
       "2  MIA \n",
       "3  BQN \n",
       "4  ATL \n",
       "5  ORD \n",
       "6  FLL \n",
       "7  IAD \n",
       "8  MCO \n",
       "9  PBI \n",
       "10 TPA "
      ]
     },
     "metadata": {},
     "output_type": "display_data"
    }
   ],
   "source": [
    "# Find all possible destinations\n",
    "flights |>\n",
    "  distinct(dest) |>\n",
    "  head(10)\n"
   ]
  },
  {
   "cell_type": "code",
   "execution_count": 26,
   "metadata": {
    "vscode": {
     "languageId": "r"
    }
   },
   "outputs": [
    {
     "data": {
      "text/html": [
       "<table class=\"dataframe\">\n",
       "<caption>A tibble: 10 × 2</caption>\n",
       "<thead>\n",
       "\t<tr><th scope=col>origin</th><th scope=col>dest</th></tr>\n",
       "\t<tr><th scope=col>&lt;chr&gt;</th><th scope=col>&lt;chr&gt;</th></tr>\n",
       "</thead>\n",
       "<tbody>\n",
       "\t<tr><td>LGA</td><td>SAV</td></tr>\n",
       "\t<tr><td>EWR</td><td>AVL</td></tr>\n",
       "\t<tr><td>JFK</td><td>TPA</td></tr>\n",
       "\t<tr><td>LGA</td><td>HOU</td></tr>\n",
       "\t<tr><td>EWR</td><td>IND</td></tr>\n",
       "\t<tr><td>JFK</td><td>ABQ</td></tr>\n",
       "\t<tr><td>JFK</td><td>BOS</td></tr>\n",
       "\t<tr><td>JFK</td><td>HOU</td></tr>\n",
       "\t<tr><td>LGA</td><td>CVG</td></tr>\n",
       "\t<tr><td>EWR</td><td>MDW</td></tr>\n",
       "</tbody>\n",
       "</table>\n"
      ],
      "text/latex": [
       "A tibble: 10 × 2\n",
       "\\begin{tabular}{ll}\n",
       " origin & dest\\\\\n",
       " <chr> & <chr>\\\\\n",
       "\\hline\n",
       "\t LGA & SAV\\\\\n",
       "\t EWR & AVL\\\\\n",
       "\t JFK & TPA\\\\\n",
       "\t LGA & HOU\\\\\n",
       "\t EWR & IND\\\\\n",
       "\t JFK & ABQ\\\\\n",
       "\t JFK & BOS\\\\\n",
       "\t JFK & HOU\\\\\n",
       "\t LGA & CVG\\\\\n",
       "\t EWR & MDW\\\\\n",
       "\\end{tabular}\n"
      ],
      "text/markdown": [
       "\n",
       "A tibble: 10 × 2\n",
       "\n",
       "| origin &lt;chr&gt; | dest &lt;chr&gt; |\n",
       "|---|---|\n",
       "| LGA | SAV |\n",
       "| EWR | AVL |\n",
       "| JFK | TPA |\n",
       "| LGA | HOU |\n",
       "| EWR | IND |\n",
       "| JFK | ABQ |\n",
       "| JFK | BOS |\n",
       "| JFK | HOU |\n",
       "| LGA | CVG |\n",
       "| EWR | MDW |\n",
       "\n"
      ],
      "text/plain": [
       "   origin dest\n",
       "1  LGA    SAV \n",
       "2  EWR    AVL \n",
       "3  JFK    TPA \n",
       "4  LGA    HOU \n",
       "5  EWR    IND \n",
       "6  JFK    ABQ \n",
       "7  JFK    BOS \n",
       "8  JFK    HOU \n",
       "9  LGA    CVG \n",
       "10 EWR    MDW "
      ]
     },
     "metadata": {},
     "output_type": "display_data"
    }
   ],
   "source": [
    "# Find all unique origin and destination pairs\n",
    "flights |>\n",
    "  distinct(origin, dest) |>\n",
    "  sample_n(10)\n"
   ]
  },
  {
   "cell_type": "code",
   "execution_count": 33,
   "metadata": {
    "vscode": {
     "languageId": "r"
    }
   },
   "outputs": [
    {
     "data": {
      "text/html": [
       "<table class=\"dataframe\">\n",
       "<caption>A tibble: 10 × 19</caption>\n",
       "<thead>\n",
       "\t<tr><th scope=col>year</th><th scope=col>month</th><th scope=col>day</th><th scope=col>dep_time</th><th scope=col>sched_dep_time</th><th scope=col>dep_delay</th><th scope=col>arr_time</th><th scope=col>sched_arr_time</th><th scope=col>arr_delay</th><th scope=col>carrier</th><th scope=col>flight</th><th scope=col>tailnum</th><th scope=col>origin</th><th scope=col>dest</th><th scope=col>air_time</th><th scope=col>distance</th><th scope=col>hour</th><th scope=col>minute</th><th scope=col>time_hour</th></tr>\n",
       "\t<tr><th scope=col>&lt;int&gt;</th><th scope=col>&lt;int&gt;</th><th scope=col>&lt;int&gt;</th><th scope=col>&lt;int&gt;</th><th scope=col>&lt;int&gt;</th><th scope=col>&lt;dbl&gt;</th><th scope=col>&lt;int&gt;</th><th scope=col>&lt;int&gt;</th><th scope=col>&lt;dbl&gt;</th><th scope=col>&lt;chr&gt;</th><th scope=col>&lt;int&gt;</th><th scope=col>&lt;chr&gt;</th><th scope=col>&lt;chr&gt;</th><th scope=col>&lt;chr&gt;</th><th scope=col>&lt;dbl&gt;</th><th scope=col>&lt;dbl&gt;</th><th scope=col>&lt;dbl&gt;</th><th scope=col>&lt;dbl&gt;</th><th scope=col>&lt;dttm&gt;</th></tr>\n",
       "</thead>\n",
       "<tbody>\n",
       "\t<tr><td>2013</td><td>1</td><td>1</td><td>517</td><td>515</td><td> 2</td><td> 830</td><td> 819</td><td> 11</td><td>UA</td><td>1545</td><td>N14228</td><td>EWR</td><td>IAH</td><td>227</td><td>1400</td><td>5</td><td>15</td><td>2013-01-01 05:00:00</td></tr>\n",
       "\t<tr><td>2013</td><td>1</td><td>1</td><td>533</td><td>529</td><td> 4</td><td> 850</td><td> 830</td><td> 20</td><td>UA</td><td>1714</td><td>N24211</td><td>LGA</td><td>IAH</td><td>227</td><td>1416</td><td>5</td><td>29</td><td>2013-01-01 05:00:00</td></tr>\n",
       "\t<tr><td>2013</td><td>1</td><td>1</td><td>542</td><td>540</td><td> 2</td><td> 923</td><td> 850</td><td> 33</td><td>AA</td><td>1141</td><td>N619AA</td><td>JFK</td><td>MIA</td><td>160</td><td>1089</td><td>5</td><td>40</td><td>2013-01-01 05:00:00</td></tr>\n",
       "\t<tr><td>2013</td><td>1</td><td>1</td><td>544</td><td>545</td><td>-1</td><td>1004</td><td>1022</td><td>-18</td><td>B6</td><td> 725</td><td>N804JB</td><td>JFK</td><td>BQN</td><td>183</td><td>1576</td><td>5</td><td>45</td><td>2013-01-01 05:00:00</td></tr>\n",
       "\t<tr><td>2013</td><td>1</td><td>1</td><td>554</td><td>600</td><td>-6</td><td> 812</td><td> 837</td><td>-25</td><td>DL</td><td> 461</td><td>N668DN</td><td>LGA</td><td>ATL</td><td>116</td><td> 762</td><td>6</td><td> 0</td><td>2013-01-01 06:00:00</td></tr>\n",
       "\t<tr><td>2013</td><td>1</td><td>1</td><td>554</td><td>558</td><td>-4</td><td> 740</td><td> 728</td><td> 12</td><td>UA</td><td>1696</td><td>N39463</td><td>EWR</td><td>ORD</td><td>150</td><td> 719</td><td>5</td><td>58</td><td>2013-01-01 05:00:00</td></tr>\n",
       "\t<tr><td>2013</td><td>1</td><td>1</td><td>555</td><td>600</td><td>-5</td><td> 913</td><td> 854</td><td> 19</td><td>B6</td><td> 507</td><td>N516JB</td><td>EWR</td><td>FLL</td><td>158</td><td>1065</td><td>6</td><td> 0</td><td>2013-01-01 06:00:00</td></tr>\n",
       "\t<tr><td>2013</td><td>1</td><td>1</td><td>557</td><td>600</td><td>-3</td><td> 709</td><td> 723</td><td>-14</td><td>EV</td><td>5708</td><td>N829AS</td><td>LGA</td><td>IAD</td><td> 53</td><td> 229</td><td>6</td><td> 0</td><td>2013-01-01 06:00:00</td></tr>\n",
       "\t<tr><td>2013</td><td>1</td><td>1</td><td>557</td><td>600</td><td>-3</td><td> 838</td><td> 846</td><td> -8</td><td>B6</td><td>  79</td><td>N593JB</td><td>JFK</td><td>MCO</td><td>140</td><td> 944</td><td>6</td><td> 0</td><td>2013-01-01 06:00:00</td></tr>\n",
       "\t<tr><td>2013</td><td>1</td><td>1</td><td>558</td><td>600</td><td>-2</td><td> 753</td><td> 745</td><td>  8</td><td>AA</td><td> 301</td><td>N3ALAA</td><td>LGA</td><td>ORD</td><td>138</td><td> 733</td><td>6</td><td> 0</td><td>2013-01-01 06:00:00</td></tr>\n",
       "</tbody>\n",
       "</table>\n"
      ],
      "text/latex": [
       "A tibble: 10 × 19\n",
       "\\begin{tabular}{lllllllllllllllllll}\n",
       " year & month & day & dep\\_time & sched\\_dep\\_time & dep\\_delay & arr\\_time & sched\\_arr\\_time & arr\\_delay & carrier & flight & tailnum & origin & dest & air\\_time & distance & hour & minute & time\\_hour\\\\\n",
       " <int> & <int> & <int> & <int> & <int> & <dbl> & <int> & <int> & <dbl> & <chr> & <int> & <chr> & <chr> & <chr> & <dbl> & <dbl> & <dbl> & <dbl> & <dttm>\\\\\n",
       "\\hline\n",
       "\t 2013 & 1 & 1 & 517 & 515 &  2 &  830 &  819 &  11 & UA & 1545 & N14228 & EWR & IAH & 227 & 1400 & 5 & 15 & 2013-01-01 05:00:00\\\\\n",
       "\t 2013 & 1 & 1 & 533 & 529 &  4 &  850 &  830 &  20 & UA & 1714 & N24211 & LGA & IAH & 227 & 1416 & 5 & 29 & 2013-01-01 05:00:00\\\\\n",
       "\t 2013 & 1 & 1 & 542 & 540 &  2 &  923 &  850 &  33 & AA & 1141 & N619AA & JFK & MIA & 160 & 1089 & 5 & 40 & 2013-01-01 05:00:00\\\\\n",
       "\t 2013 & 1 & 1 & 544 & 545 & -1 & 1004 & 1022 & -18 & B6 &  725 & N804JB & JFK & BQN & 183 & 1576 & 5 & 45 & 2013-01-01 05:00:00\\\\\n",
       "\t 2013 & 1 & 1 & 554 & 600 & -6 &  812 &  837 & -25 & DL &  461 & N668DN & LGA & ATL & 116 &  762 & 6 &  0 & 2013-01-01 06:00:00\\\\\n",
       "\t 2013 & 1 & 1 & 554 & 558 & -4 &  740 &  728 &  12 & UA & 1696 & N39463 & EWR & ORD & 150 &  719 & 5 & 58 & 2013-01-01 05:00:00\\\\\n",
       "\t 2013 & 1 & 1 & 555 & 600 & -5 &  913 &  854 &  19 & B6 &  507 & N516JB & EWR & FLL & 158 & 1065 & 6 &  0 & 2013-01-01 06:00:00\\\\\n",
       "\t 2013 & 1 & 1 & 557 & 600 & -3 &  709 &  723 & -14 & EV & 5708 & N829AS & LGA & IAD &  53 &  229 & 6 &  0 & 2013-01-01 06:00:00\\\\\n",
       "\t 2013 & 1 & 1 & 557 & 600 & -3 &  838 &  846 &  -8 & B6 &   79 & N593JB & JFK & MCO & 140 &  944 & 6 &  0 & 2013-01-01 06:00:00\\\\\n",
       "\t 2013 & 1 & 1 & 558 & 600 & -2 &  753 &  745 &   8 & AA &  301 & N3ALAA & LGA & ORD & 138 &  733 & 6 &  0 & 2013-01-01 06:00:00\\\\\n",
       "\\end{tabular}\n"
      ],
      "text/markdown": [
       "\n",
       "A tibble: 10 × 19\n",
       "\n",
       "| year &lt;int&gt; | month &lt;int&gt; | day &lt;int&gt; | dep_time &lt;int&gt; | sched_dep_time &lt;int&gt; | dep_delay &lt;dbl&gt; | arr_time &lt;int&gt; | sched_arr_time &lt;int&gt; | arr_delay &lt;dbl&gt; | carrier &lt;chr&gt; | flight &lt;int&gt; | tailnum &lt;chr&gt; | origin &lt;chr&gt; | dest &lt;chr&gt; | air_time &lt;dbl&gt; | distance &lt;dbl&gt; | hour &lt;dbl&gt; | minute &lt;dbl&gt; | time_hour &lt;dttm&gt; |\n",
       "|---|---|---|---|---|---|---|---|---|---|---|---|---|---|---|---|---|---|---|\n",
       "| 2013 | 1 | 1 | 517 | 515 |  2 |  830 |  819 |  11 | UA | 1545 | N14228 | EWR | IAH | 227 | 1400 | 5 | 15 | 2013-01-01 05:00:00 |\n",
       "| 2013 | 1 | 1 | 533 | 529 |  4 |  850 |  830 |  20 | UA | 1714 | N24211 | LGA | IAH | 227 | 1416 | 5 | 29 | 2013-01-01 05:00:00 |\n",
       "| 2013 | 1 | 1 | 542 | 540 |  2 |  923 |  850 |  33 | AA | 1141 | N619AA | JFK | MIA | 160 | 1089 | 5 | 40 | 2013-01-01 05:00:00 |\n",
       "| 2013 | 1 | 1 | 544 | 545 | -1 | 1004 | 1022 | -18 | B6 |  725 | N804JB | JFK | BQN | 183 | 1576 | 5 | 45 | 2013-01-01 05:00:00 |\n",
       "| 2013 | 1 | 1 | 554 | 600 | -6 |  812 |  837 | -25 | DL |  461 | N668DN | LGA | ATL | 116 |  762 | 6 |  0 | 2013-01-01 06:00:00 |\n",
       "| 2013 | 1 | 1 | 554 | 558 | -4 |  740 |  728 |  12 | UA | 1696 | N39463 | EWR | ORD | 150 |  719 | 5 | 58 | 2013-01-01 05:00:00 |\n",
       "| 2013 | 1 | 1 | 555 | 600 | -5 |  913 |  854 |  19 | B6 |  507 | N516JB | EWR | FLL | 158 | 1065 | 6 |  0 | 2013-01-01 06:00:00 |\n",
       "| 2013 | 1 | 1 | 557 | 600 | -3 |  709 |  723 | -14 | EV | 5708 | N829AS | LGA | IAD |  53 |  229 | 6 |  0 | 2013-01-01 06:00:00 |\n",
       "| 2013 | 1 | 1 | 557 | 600 | -3 |  838 |  846 |  -8 | B6 |   79 | N593JB | JFK | MCO | 140 |  944 | 6 |  0 | 2013-01-01 06:00:00 |\n",
       "| 2013 | 1 | 1 | 558 | 600 | -2 |  753 |  745 |   8 | AA |  301 | N3ALAA | LGA | ORD | 138 |  733 | 6 |  0 | 2013-01-01 06:00:00 |\n",
       "\n"
      ],
      "text/plain": [
       "   year month day dep_time sched_dep_time dep_delay arr_time sched_arr_time\n",
       "1  2013 1     1   517      515             2         830      819          \n",
       "2  2013 1     1   533      529             4         850      830          \n",
       "3  2013 1     1   542      540             2         923      850          \n",
       "4  2013 1     1   544      545            -1        1004     1022          \n",
       "5  2013 1     1   554      600            -6         812      837          \n",
       "6  2013 1     1   554      558            -4         740      728          \n",
       "7  2013 1     1   555      600            -5         913      854          \n",
       "8  2013 1     1   557      600            -3         709      723          \n",
       "9  2013 1     1   557      600            -3         838      846          \n",
       "10 2013 1     1   558      600            -2         753      745          \n",
       "   arr_delay carrier flight tailnum origin dest air_time distance hour minute\n",
       "1   11       UA      1545   N14228  EWR    IAH  227      1400     5    15    \n",
       "2   20       UA      1714   N24211  LGA    IAH  227      1416     5    29    \n",
       "3   33       AA      1141   N619AA  JFK    MIA  160      1089     5    40    \n",
       "4  -18       B6       725   N804JB  JFK    BQN  183      1576     5    45    \n",
       "5  -25       DL       461   N668DN  LGA    ATL  116       762     6     0    \n",
       "6   12       UA      1696   N39463  EWR    ORD  150       719     5    58    \n",
       "7   19       B6       507   N516JB  EWR    FLL  158      1065     6     0    \n",
       "8  -14       EV      5708   N829AS  LGA    IAD   53       229     6     0    \n",
       "9   -8       B6        79   N593JB  JFK    MCO  140       944     6     0    \n",
       "10   8       AA       301   N3ALAA  LGA    ORD  138       733     6     0    \n",
       "   time_hour          \n",
       "1  2013-01-01 05:00:00\n",
       "2  2013-01-01 05:00:00\n",
       "3  2013-01-01 05:00:00\n",
       "4  2013-01-01 05:00:00\n",
       "5  2013-01-01 06:00:00\n",
       "6  2013-01-01 05:00:00\n",
       "7  2013-01-01 06:00:00\n",
       "8  2013-01-01 06:00:00\n",
       "9  2013-01-01 06:00:00\n",
       "10 2013-01-01 06:00:00"
      ]
     },
     "metadata": {},
     "output_type": "display_data"
    }
   ],
   "source": [
    "# Keep the other columns as well\n",
    "flights |>\n",
    "  distinct(origin, dest, .keep_all = TRUE) |>\n",
    "  head(10)\n"
   ]
  },
  {
   "cell_type": "markdown",
   "metadata": {},
   "source": [
    "## Intro to `count`\n"
   ]
  },
  {
   "cell_type": "code",
   "execution_count": 35,
   "metadata": {
    "vscode": {
     "languageId": "r"
    }
   },
   "outputs": [
    {
     "data": {
      "text/html": [
       "<table class=\"dataframe\">\n",
       "<caption>A tibble: 10 × 3</caption>\n",
       "<thead>\n",
       "\t<tr><th scope=col>origin</th><th scope=col>dest</th><th scope=col>n</th></tr>\n",
       "\t<tr><th scope=col>&lt;chr&gt;</th><th scope=col>&lt;chr&gt;</th><th scope=col>&lt;int&gt;</th></tr>\n",
       "</thead>\n",
       "<tbody>\n",
       "\t<tr><td>JFK</td><td>LAX</td><td>11262</td></tr>\n",
       "\t<tr><td>LGA</td><td>ATL</td><td>10263</td></tr>\n",
       "\t<tr><td>LGA</td><td>ORD</td><td> 8857</td></tr>\n",
       "\t<tr><td>JFK</td><td>SFO</td><td> 8204</td></tr>\n",
       "\t<tr><td>LGA</td><td>CLT</td><td> 6168</td></tr>\n",
       "\t<tr><td>EWR</td><td>ORD</td><td> 6100</td></tr>\n",
       "\t<tr><td>JFK</td><td>BOS</td><td> 5898</td></tr>\n",
       "\t<tr><td>LGA</td><td>MIA</td><td> 5781</td></tr>\n",
       "\t<tr><td>JFK</td><td>MCO</td><td> 5464</td></tr>\n",
       "\t<tr><td>EWR</td><td>BOS</td><td> 5327</td></tr>\n",
       "</tbody>\n",
       "</table>\n"
      ],
      "text/latex": [
       "A tibble: 10 × 3\n",
       "\\begin{tabular}{lll}\n",
       " origin & dest & n\\\\\n",
       " <chr> & <chr> & <int>\\\\\n",
       "\\hline\n",
       "\t JFK & LAX & 11262\\\\\n",
       "\t LGA & ATL & 10263\\\\\n",
       "\t LGA & ORD &  8857\\\\\n",
       "\t JFK & SFO &  8204\\\\\n",
       "\t LGA & CLT &  6168\\\\\n",
       "\t EWR & ORD &  6100\\\\\n",
       "\t JFK & BOS &  5898\\\\\n",
       "\t LGA & MIA &  5781\\\\\n",
       "\t JFK & MCO &  5464\\\\\n",
       "\t EWR & BOS &  5327\\\\\n",
       "\\end{tabular}\n"
      ],
      "text/markdown": [
       "\n",
       "A tibble: 10 × 3\n",
       "\n",
       "| origin &lt;chr&gt; | dest &lt;chr&gt; | n &lt;int&gt; |\n",
       "|---|---|---|\n",
       "| JFK | LAX | 11262 |\n",
       "| LGA | ATL | 10263 |\n",
       "| LGA | ORD |  8857 |\n",
       "| JFK | SFO |  8204 |\n",
       "| LGA | CLT |  6168 |\n",
       "| EWR | ORD |  6100 |\n",
       "| JFK | BOS |  5898 |\n",
       "| LGA | MIA |  5781 |\n",
       "| JFK | MCO |  5464 |\n",
       "| EWR | BOS |  5327 |\n",
       "\n"
      ],
      "text/plain": [
       "   origin dest n    \n",
       "1  JFK    LAX  11262\n",
       "2  LGA    ATL  10263\n",
       "3  LGA    ORD   8857\n",
       "4  JFK    SFO   8204\n",
       "5  LGA    CLT   6168\n",
       "6  EWR    ORD   6100\n",
       "7  JFK    BOS   5898\n",
       "8  LGA    MIA   5781\n",
       "9  JFK    MCO   5464\n",
       "10 EWR    BOS   5327"
      ]
     },
     "metadata": {},
     "output_type": "display_data"
    }
   ],
   "source": [
    "# Top 10 routes\n",
    "flights |>\n",
    "  count(origin, dest, sort = TRUE) |>\n",
    "  head(10)\n"
   ]
  },
  {
   "cell_type": "markdown",
   "metadata": {},
   "source": [
    "## Exercises\n"
   ]
  },
  {
   "cell_type": "markdown",
   "metadata": {},
   "source": [
    "### Exercise 1.\n",
    "\n",
    "In a single pipeline for each condition, find all flights that meet the condition:\n",
    "\n",
    "- Had an arrival delay of two or more hours\n",
    "- Flew to Houston (IAH or HOU)\n",
    "- Were operated by United, American, or Delta\n",
    "- Departed in summer (July, August, and September)\n",
    "- Arrived more than two hours late, but didn’t leave late\n",
    "- Were delayed by at least an hour, but made up over 30 minutes in flight\n"
   ]
  },
  {
   "cell_type": "code",
   "execution_count": 3,
   "metadata": {
    "vscode": {
     "languageId": "r"
    }
   },
   "outputs": [
    {
     "data": {
      "text/html": [
       "<table class=\"dataframe\">\n",
       "<caption>A tibble: 6 × 19</caption>\n",
       "<thead>\n",
       "\t<tr><th scope=col>year</th><th scope=col>month</th><th scope=col>day</th><th scope=col>dep_time</th><th scope=col>sched_dep_time</th><th scope=col>dep_delay</th><th scope=col>arr_time</th><th scope=col>sched_arr_time</th><th scope=col>arr_delay</th><th scope=col>carrier</th><th scope=col>flight</th><th scope=col>tailnum</th><th scope=col>origin</th><th scope=col>dest</th><th scope=col>air_time</th><th scope=col>distance</th><th scope=col>hour</th><th scope=col>minute</th><th scope=col>time_hour</th></tr>\n",
       "\t<tr><th scope=col>&lt;int&gt;</th><th scope=col>&lt;int&gt;</th><th scope=col>&lt;int&gt;</th><th scope=col>&lt;int&gt;</th><th scope=col>&lt;int&gt;</th><th scope=col>&lt;dbl&gt;</th><th scope=col>&lt;int&gt;</th><th scope=col>&lt;int&gt;</th><th scope=col>&lt;dbl&gt;</th><th scope=col>&lt;chr&gt;</th><th scope=col>&lt;int&gt;</th><th scope=col>&lt;chr&gt;</th><th scope=col>&lt;chr&gt;</th><th scope=col>&lt;chr&gt;</th><th scope=col>&lt;dbl&gt;</th><th scope=col>&lt;dbl&gt;</th><th scope=col>&lt;dbl&gt;</th><th scope=col>&lt;dbl&gt;</th><th scope=col>&lt;dttm&gt;</th></tr>\n",
       "</thead>\n",
       "<tbody>\n",
       "\t<tr><td>2013</td><td>1</td><td>1</td><td>517</td><td>515</td><td> 2</td><td> 830</td><td> 819</td><td> 11</td><td>UA</td><td>1545</td><td>N14228</td><td>EWR</td><td>IAH</td><td>227</td><td>1400</td><td>5</td><td>15</td><td>2013-01-01 05:00:00</td></tr>\n",
       "\t<tr><td>2013</td><td>1</td><td>1</td><td>533</td><td>529</td><td> 4</td><td> 850</td><td> 830</td><td> 20</td><td>UA</td><td>1714</td><td>N24211</td><td>LGA</td><td>IAH</td><td>227</td><td>1416</td><td>5</td><td>29</td><td>2013-01-01 05:00:00</td></tr>\n",
       "\t<tr><td>2013</td><td>1</td><td>1</td><td>542</td><td>540</td><td> 2</td><td> 923</td><td> 850</td><td> 33</td><td>AA</td><td>1141</td><td>N619AA</td><td>JFK</td><td>MIA</td><td>160</td><td>1089</td><td>5</td><td>40</td><td>2013-01-01 05:00:00</td></tr>\n",
       "\t<tr><td>2013</td><td>1</td><td>1</td><td>544</td><td>545</td><td>-1</td><td>1004</td><td>1022</td><td>-18</td><td>B6</td><td> 725</td><td>N804JB</td><td>JFK</td><td>BQN</td><td>183</td><td>1576</td><td>5</td><td>45</td><td>2013-01-01 05:00:00</td></tr>\n",
       "\t<tr><td>2013</td><td>1</td><td>1</td><td>554</td><td>600</td><td>-6</td><td> 812</td><td> 837</td><td>-25</td><td>DL</td><td> 461</td><td>N668DN</td><td>LGA</td><td>ATL</td><td>116</td><td> 762</td><td>6</td><td> 0</td><td>2013-01-01 06:00:00</td></tr>\n",
       "\t<tr><td>2013</td><td>1</td><td>1</td><td>554</td><td>558</td><td>-4</td><td> 740</td><td> 728</td><td> 12</td><td>UA</td><td>1696</td><td>N39463</td><td>EWR</td><td>ORD</td><td>150</td><td> 719</td><td>5</td><td>58</td><td>2013-01-01 05:00:00</td></tr>\n",
       "</tbody>\n",
       "</table>\n"
      ],
      "text/latex": [
       "A tibble: 6 × 19\n",
       "\\begin{tabular}{lllllllllllllllllll}\n",
       " year & month & day & dep\\_time & sched\\_dep\\_time & dep\\_delay & arr\\_time & sched\\_arr\\_time & arr\\_delay & carrier & flight & tailnum & origin & dest & air\\_time & distance & hour & minute & time\\_hour\\\\\n",
       " <int> & <int> & <int> & <int> & <int> & <dbl> & <int> & <int> & <dbl> & <chr> & <int> & <chr> & <chr> & <chr> & <dbl> & <dbl> & <dbl> & <dbl> & <dttm>\\\\\n",
       "\\hline\n",
       "\t 2013 & 1 & 1 & 517 & 515 &  2 &  830 &  819 &  11 & UA & 1545 & N14228 & EWR & IAH & 227 & 1400 & 5 & 15 & 2013-01-01 05:00:00\\\\\n",
       "\t 2013 & 1 & 1 & 533 & 529 &  4 &  850 &  830 &  20 & UA & 1714 & N24211 & LGA & IAH & 227 & 1416 & 5 & 29 & 2013-01-01 05:00:00\\\\\n",
       "\t 2013 & 1 & 1 & 542 & 540 &  2 &  923 &  850 &  33 & AA & 1141 & N619AA & JFK & MIA & 160 & 1089 & 5 & 40 & 2013-01-01 05:00:00\\\\\n",
       "\t 2013 & 1 & 1 & 544 & 545 & -1 & 1004 & 1022 & -18 & B6 &  725 & N804JB & JFK & BQN & 183 & 1576 & 5 & 45 & 2013-01-01 05:00:00\\\\\n",
       "\t 2013 & 1 & 1 & 554 & 600 & -6 &  812 &  837 & -25 & DL &  461 & N668DN & LGA & ATL & 116 &  762 & 6 &  0 & 2013-01-01 06:00:00\\\\\n",
       "\t 2013 & 1 & 1 & 554 & 558 & -4 &  740 &  728 &  12 & UA & 1696 & N39463 & EWR & ORD & 150 &  719 & 5 & 58 & 2013-01-01 05:00:00\\\\\n",
       "\\end{tabular}\n"
      ],
      "text/markdown": [
       "\n",
       "A tibble: 6 × 19\n",
       "\n",
       "| year &lt;int&gt; | month &lt;int&gt; | day &lt;int&gt; | dep_time &lt;int&gt; | sched_dep_time &lt;int&gt; | dep_delay &lt;dbl&gt; | arr_time &lt;int&gt; | sched_arr_time &lt;int&gt; | arr_delay &lt;dbl&gt; | carrier &lt;chr&gt; | flight &lt;int&gt; | tailnum &lt;chr&gt; | origin &lt;chr&gt; | dest &lt;chr&gt; | air_time &lt;dbl&gt; | distance &lt;dbl&gt; | hour &lt;dbl&gt; | minute &lt;dbl&gt; | time_hour &lt;dttm&gt; |\n",
       "|---|---|---|---|---|---|---|---|---|---|---|---|---|---|---|---|---|---|---|\n",
       "| 2013 | 1 | 1 | 517 | 515 |  2 |  830 |  819 |  11 | UA | 1545 | N14228 | EWR | IAH | 227 | 1400 | 5 | 15 | 2013-01-01 05:00:00 |\n",
       "| 2013 | 1 | 1 | 533 | 529 |  4 |  850 |  830 |  20 | UA | 1714 | N24211 | LGA | IAH | 227 | 1416 | 5 | 29 | 2013-01-01 05:00:00 |\n",
       "| 2013 | 1 | 1 | 542 | 540 |  2 |  923 |  850 |  33 | AA | 1141 | N619AA | JFK | MIA | 160 | 1089 | 5 | 40 | 2013-01-01 05:00:00 |\n",
       "| 2013 | 1 | 1 | 544 | 545 | -1 | 1004 | 1022 | -18 | B6 |  725 | N804JB | JFK | BQN | 183 | 1576 | 5 | 45 | 2013-01-01 05:00:00 |\n",
       "| 2013 | 1 | 1 | 554 | 600 | -6 |  812 |  837 | -25 | DL |  461 | N668DN | LGA | ATL | 116 |  762 | 6 |  0 | 2013-01-01 06:00:00 |\n",
       "| 2013 | 1 | 1 | 554 | 558 | -4 |  740 |  728 |  12 | UA | 1696 | N39463 | EWR | ORD | 150 |  719 | 5 | 58 | 2013-01-01 05:00:00 |\n",
       "\n"
      ],
      "text/plain": [
       "  year month day dep_time sched_dep_time dep_delay arr_time sched_arr_time\n",
       "1 2013 1     1   517      515             2         830      819          \n",
       "2 2013 1     1   533      529             4         850      830          \n",
       "3 2013 1     1   542      540             2         923      850          \n",
       "4 2013 1     1   544      545            -1        1004     1022          \n",
       "5 2013 1     1   554      600            -6         812      837          \n",
       "6 2013 1     1   554      558            -4         740      728          \n",
       "  arr_delay carrier flight tailnum origin dest air_time distance hour minute\n",
       "1  11       UA      1545   N14228  EWR    IAH  227      1400     5    15    \n",
       "2  20       UA      1714   N24211  LGA    IAH  227      1416     5    29    \n",
       "3  33       AA      1141   N619AA  JFK    MIA  160      1089     5    40    \n",
       "4 -18       B6       725   N804JB  JFK    BQN  183      1576     5    45    \n",
       "5 -25       DL       461   N668DN  LGA    ATL  116       762     6     0    \n",
       "6  12       UA      1696   N39463  EWR    ORD  150       719     5    58    \n",
       "  time_hour          \n",
       "1 2013-01-01 05:00:00\n",
       "2 2013-01-01 05:00:00\n",
       "3 2013-01-01 05:00:00\n",
       "4 2013-01-01 05:00:00\n",
       "5 2013-01-01 06:00:00\n",
       "6 2013-01-01 05:00:00"
      ]
     },
     "metadata": {},
     "output_type": "display_data"
    }
   ],
   "source": [
    "head(flights)\n"
   ]
  },
  {
   "cell_type": "code",
   "execution_count": 8,
   "metadata": {
    "vscode": {
     "languageId": "r"
    }
   },
   "outputs": [
    {
     "data": {
      "text/html": [
       "<table class=\"dataframe\">\n",
       "<caption>A tibble: 10 × 19</caption>\n",
       "<thead>\n",
       "\t<tr><th scope=col>year</th><th scope=col>month</th><th scope=col>day</th><th scope=col>dep_time</th><th scope=col>sched_dep_time</th><th scope=col>dep_delay</th><th scope=col>arr_time</th><th scope=col>sched_arr_time</th><th scope=col>arr_delay</th><th scope=col>carrier</th><th scope=col>flight</th><th scope=col>tailnum</th><th scope=col>origin</th><th scope=col>dest</th><th scope=col>air_time</th><th scope=col>distance</th><th scope=col>hour</th><th scope=col>minute</th><th scope=col>time_hour</th></tr>\n",
       "\t<tr><th scope=col>&lt;int&gt;</th><th scope=col>&lt;int&gt;</th><th scope=col>&lt;int&gt;</th><th scope=col>&lt;int&gt;</th><th scope=col>&lt;int&gt;</th><th scope=col>&lt;dbl&gt;</th><th scope=col>&lt;int&gt;</th><th scope=col>&lt;int&gt;</th><th scope=col>&lt;dbl&gt;</th><th scope=col>&lt;chr&gt;</th><th scope=col>&lt;int&gt;</th><th scope=col>&lt;chr&gt;</th><th scope=col>&lt;chr&gt;</th><th scope=col>&lt;chr&gt;</th><th scope=col>&lt;dbl&gt;</th><th scope=col>&lt;dbl&gt;</th><th scope=col>&lt;dbl&gt;</th><th scope=col>&lt;dbl&gt;</th><th scope=col>&lt;dttm&gt;</th></tr>\n",
       "</thead>\n",
       "<tbody>\n",
       "\t<tr><td>2013</td><td>9</td><td>22</td><td>2000</td><td>1700</td><td>180</td><td>2232</td><td>1955</td><td>157</td><td>AA</td><td> 211</td><td>N3DDAA</td><td>JFK</td><td>IAH</td><td>184</td><td>1417</td><td>17</td><td> 0</td><td>2013-09-22 17:00:00</td></tr>\n",
       "\t<tr><td>2013</td><td>7</td><td>10</td><td>1629</td><td>1520</td><td> 69</td><td>2048</td><td>1754</td><td>174</td><td>UA</td><td> 646</td><td>N578UA</td><td>EWR</td><td>IAH</td><td>187</td><td>1400</td><td>15</td><td>20</td><td>2013-07-10 15:00:00</td></tr>\n",
       "\t<tr><td>2013</td><td>8</td><td> 9</td><td>1850</td><td>1730</td><td> 80</td><td>2221</td><td>2007</td><td>134</td><td>UA</td><td> 268</td><td>N524UA</td><td>EWR</td><td>IAH</td><td>182</td><td>1400</td><td>17</td><td>30</td><td>2013-08-09 17:00:00</td></tr>\n",
       "\t<tr><td>2013</td><td>7</td><td>22</td><td>1524</td><td>1249</td><td>155</td><td>1902</td><td>1541</td><td>201</td><td>UA</td><td> 215</td><td>N430UA</td><td>LGA</td><td>IAH</td><td>187</td><td>1416</td><td>12</td><td>49</td><td>2013-07-22 12:00:00</td></tr>\n",
       "\t<tr><td>2013</td><td>7</td><td>22</td><td>2018</td><td>1735</td><td>163</td><td>2344</td><td>2030</td><td>194</td><td>AA</td><td>1901</td><td>N3CAAA</td><td>JFK</td><td>IAH</td><td>196</td><td>1417</td><td>17</td><td>35</td><td>2013-07-22 17:00:00</td></tr>\n",
       "\t<tr><td>2013</td><td>7</td><td> 9</td><td>1937</td><td>1735</td><td>122</td><td>2240</td><td>2030</td><td>130</td><td>AA</td><td>1901</td><td>N3ARAA</td><td>JFK</td><td>IAH</td><td>174</td><td>1417</td><td>17</td><td>35</td><td>2013-07-09 17:00:00</td></tr>\n",
       "\t<tr><td>2013</td><td>8</td><td>22</td><td>1956</td><td>1735</td><td>141</td><td>2239</td><td>2030</td><td>129</td><td>AA</td><td>1901</td><td>N3EEAA</td><td>JFK</td><td>IAH</td><td>182</td><td>1417</td><td>17</td><td>35</td><td>2013-08-22 17:00:00</td></tr>\n",
       "\t<tr><td>2013</td><td>9</td><td> 2</td><td>1833</td><td>1520</td><td>193</td><td>2105</td><td>1810</td><td>175</td><td>UA</td><td> 498</td><td>N497UA</td><td>EWR</td><td>IAH</td><td>184</td><td>1400</td><td>15</td><td>20</td><td>2013-09-02 15:00:00</td></tr>\n",
       "\t<tr><td>2013</td><td>8</td><td>16</td><td>1652</td><td>1259</td><td>233</td><td>1935</td><td>1551</td><td>224</td><td>UA</td><td> 643</td><td>N428UA</td><td>LGA</td><td>IAH</td><td>198</td><td>1416</td><td>12</td><td>59</td><td>2013-08-16 12:00:00</td></tr>\n",
       "\t<tr><td>2013</td><td>7</td><td>25</td><td>2147</td><td>1520</td><td>387</td><td>   8</td><td>1754</td><td>374</td><td>UA</td><td> 646</td><td>N569UA</td><td>EWR</td><td>IAH</td><td>181</td><td>1400</td><td>15</td><td>20</td><td>2013-07-25 15:00:00</td></tr>\n",
       "</tbody>\n",
       "</table>\n"
      ],
      "text/latex": [
       "A tibble: 10 × 19\n",
       "\\begin{tabular}{lllllllllllllllllll}\n",
       " year & month & day & dep\\_time & sched\\_dep\\_time & dep\\_delay & arr\\_time & sched\\_arr\\_time & arr\\_delay & carrier & flight & tailnum & origin & dest & air\\_time & distance & hour & minute & time\\_hour\\\\\n",
       " <int> & <int> & <int> & <int> & <int> & <dbl> & <int> & <int> & <dbl> & <chr> & <int> & <chr> & <chr> & <chr> & <dbl> & <dbl> & <dbl> & <dbl> & <dttm>\\\\\n",
       "\\hline\n",
       "\t 2013 & 9 & 22 & 2000 & 1700 & 180 & 2232 & 1955 & 157 & AA &  211 & N3DDAA & JFK & IAH & 184 & 1417 & 17 &  0 & 2013-09-22 17:00:00\\\\\n",
       "\t 2013 & 7 & 10 & 1629 & 1520 &  69 & 2048 & 1754 & 174 & UA &  646 & N578UA & EWR & IAH & 187 & 1400 & 15 & 20 & 2013-07-10 15:00:00\\\\\n",
       "\t 2013 & 8 &  9 & 1850 & 1730 &  80 & 2221 & 2007 & 134 & UA &  268 & N524UA & EWR & IAH & 182 & 1400 & 17 & 30 & 2013-08-09 17:00:00\\\\\n",
       "\t 2013 & 7 & 22 & 1524 & 1249 & 155 & 1902 & 1541 & 201 & UA &  215 & N430UA & LGA & IAH & 187 & 1416 & 12 & 49 & 2013-07-22 12:00:00\\\\\n",
       "\t 2013 & 7 & 22 & 2018 & 1735 & 163 & 2344 & 2030 & 194 & AA & 1901 & N3CAAA & JFK & IAH & 196 & 1417 & 17 & 35 & 2013-07-22 17:00:00\\\\\n",
       "\t 2013 & 7 &  9 & 1937 & 1735 & 122 & 2240 & 2030 & 130 & AA & 1901 & N3ARAA & JFK & IAH & 174 & 1417 & 17 & 35 & 2013-07-09 17:00:00\\\\\n",
       "\t 2013 & 8 & 22 & 1956 & 1735 & 141 & 2239 & 2030 & 129 & AA & 1901 & N3EEAA & JFK & IAH & 182 & 1417 & 17 & 35 & 2013-08-22 17:00:00\\\\\n",
       "\t 2013 & 9 &  2 & 1833 & 1520 & 193 & 2105 & 1810 & 175 & UA &  498 & N497UA & EWR & IAH & 184 & 1400 & 15 & 20 & 2013-09-02 15:00:00\\\\\n",
       "\t 2013 & 8 & 16 & 1652 & 1259 & 233 & 1935 & 1551 & 224 & UA &  643 & N428UA & LGA & IAH & 198 & 1416 & 12 & 59 & 2013-08-16 12:00:00\\\\\n",
       "\t 2013 & 7 & 25 & 2147 & 1520 & 387 &    8 & 1754 & 374 & UA &  646 & N569UA & EWR & IAH & 181 & 1400 & 15 & 20 & 2013-07-25 15:00:00\\\\\n",
       "\\end{tabular}\n"
      ],
      "text/markdown": [
       "\n",
       "A tibble: 10 × 19\n",
       "\n",
       "| year &lt;int&gt; | month &lt;int&gt; | day &lt;int&gt; | dep_time &lt;int&gt; | sched_dep_time &lt;int&gt; | dep_delay &lt;dbl&gt; | arr_time &lt;int&gt; | sched_arr_time &lt;int&gt; | arr_delay &lt;dbl&gt; | carrier &lt;chr&gt; | flight &lt;int&gt; | tailnum &lt;chr&gt; | origin &lt;chr&gt; | dest &lt;chr&gt; | air_time &lt;dbl&gt; | distance &lt;dbl&gt; | hour &lt;dbl&gt; | minute &lt;dbl&gt; | time_hour &lt;dttm&gt; |\n",
       "|---|---|---|---|---|---|---|---|---|---|---|---|---|---|---|---|---|---|---|\n",
       "| 2013 | 9 | 22 | 2000 | 1700 | 180 | 2232 | 1955 | 157 | AA |  211 | N3DDAA | JFK | IAH | 184 | 1417 | 17 |  0 | 2013-09-22 17:00:00 |\n",
       "| 2013 | 7 | 10 | 1629 | 1520 |  69 | 2048 | 1754 | 174 | UA |  646 | N578UA | EWR | IAH | 187 | 1400 | 15 | 20 | 2013-07-10 15:00:00 |\n",
       "| 2013 | 8 |  9 | 1850 | 1730 |  80 | 2221 | 2007 | 134 | UA |  268 | N524UA | EWR | IAH | 182 | 1400 | 17 | 30 | 2013-08-09 17:00:00 |\n",
       "| 2013 | 7 | 22 | 1524 | 1249 | 155 | 1902 | 1541 | 201 | UA |  215 | N430UA | LGA | IAH | 187 | 1416 | 12 | 49 | 2013-07-22 12:00:00 |\n",
       "| 2013 | 7 | 22 | 2018 | 1735 | 163 | 2344 | 2030 | 194 | AA | 1901 | N3CAAA | JFK | IAH | 196 | 1417 | 17 | 35 | 2013-07-22 17:00:00 |\n",
       "| 2013 | 7 |  9 | 1937 | 1735 | 122 | 2240 | 2030 | 130 | AA | 1901 | N3ARAA | JFK | IAH | 174 | 1417 | 17 | 35 | 2013-07-09 17:00:00 |\n",
       "| 2013 | 8 | 22 | 1956 | 1735 | 141 | 2239 | 2030 | 129 | AA | 1901 | N3EEAA | JFK | IAH | 182 | 1417 | 17 | 35 | 2013-08-22 17:00:00 |\n",
       "| 2013 | 9 |  2 | 1833 | 1520 | 193 | 2105 | 1810 | 175 | UA |  498 | N497UA | EWR | IAH | 184 | 1400 | 15 | 20 | 2013-09-02 15:00:00 |\n",
       "| 2013 | 8 | 16 | 1652 | 1259 | 233 | 1935 | 1551 | 224 | UA |  643 | N428UA | LGA | IAH | 198 | 1416 | 12 | 59 | 2013-08-16 12:00:00 |\n",
       "| 2013 | 7 | 25 | 2147 | 1520 | 387 |    8 | 1754 | 374 | UA |  646 | N569UA | EWR | IAH | 181 | 1400 | 15 | 20 | 2013-07-25 15:00:00 |\n",
       "\n"
      ],
      "text/plain": [
       "   year month day dep_time sched_dep_time dep_delay arr_time sched_arr_time\n",
       "1  2013 9     22  2000     1700           180       2232     1955          \n",
       "2  2013 7     10  1629     1520            69       2048     1754          \n",
       "3  2013 8      9  1850     1730            80       2221     2007          \n",
       "4  2013 7     22  1524     1249           155       1902     1541          \n",
       "5  2013 7     22  2018     1735           163       2344     2030          \n",
       "6  2013 7      9  1937     1735           122       2240     2030          \n",
       "7  2013 8     22  1956     1735           141       2239     2030          \n",
       "8  2013 9      2  1833     1520           193       2105     1810          \n",
       "9  2013 8     16  1652     1259           233       1935     1551          \n",
       "10 2013 7     25  2147     1520           387          8     1754          \n",
       "   arr_delay carrier flight tailnum origin dest air_time distance hour minute\n",
       "1  157       AA       211   N3DDAA  JFK    IAH  184      1417     17    0    \n",
       "2  174       UA       646   N578UA  EWR    IAH  187      1400     15   20    \n",
       "3  134       UA       268   N524UA  EWR    IAH  182      1400     17   30    \n",
       "4  201       UA       215   N430UA  LGA    IAH  187      1416     12   49    \n",
       "5  194       AA      1901   N3CAAA  JFK    IAH  196      1417     17   35    \n",
       "6  130       AA      1901   N3ARAA  JFK    IAH  174      1417     17   35    \n",
       "7  129       AA      1901   N3EEAA  JFK    IAH  182      1417     17   35    \n",
       "8  175       UA       498   N497UA  EWR    IAH  184      1400     15   20    \n",
       "9  224       UA       643   N428UA  LGA    IAH  198      1416     12   59    \n",
       "10 374       UA       646   N569UA  EWR    IAH  181      1400     15   20    \n",
       "   time_hour          \n",
       "1  2013-09-22 17:00:00\n",
       "2  2013-07-10 15:00:00\n",
       "3  2013-08-09 17:00:00\n",
       "4  2013-07-22 12:00:00\n",
       "5  2013-07-22 17:00:00\n",
       "6  2013-07-09 17:00:00\n",
       "7  2013-08-22 17:00:00\n",
       "8  2013-09-02 15:00:00\n",
       "9  2013-08-16 12:00:00\n",
       "10 2013-07-25 15:00:00"
      ]
     },
     "metadata": {},
     "output_type": "display_data"
    }
   ],
   "source": [
    "flights |>\n",
    "  filter(arr_delay / 60 >= 2) |>\n",
    "  filter(dest %in% c(\"IAH\", \"HOU\")) |>\n",
    "  filter(carrier %in% c(\"UA\", \"AA\", \"DL\")) |>\n",
    "  filter(month %in% c(7, 8, 9)) |>\n",
    "  sample_n(10)\n"
   ]
  },
  {
   "cell_type": "markdown",
   "metadata": {},
   "source": [
    "### Exercise 2\n",
    "\n",
    "Sort flights to find the flights with longest departure delays. Find the flights that left earliest in the morning.\n"
   ]
  },
  {
   "cell_type": "code",
   "execution_count": 10,
   "metadata": {
    "vscode": {
     "languageId": "r"
    }
   },
   "outputs": [
    {
     "data": {
      "text/html": [
       "<table class=\"dataframe\">\n",
       "<caption>A tibble: 10 × 19</caption>\n",
       "<thead>\n",
       "\t<tr><th scope=col>year</th><th scope=col>month</th><th scope=col>day</th><th scope=col>dep_time</th><th scope=col>sched_dep_time</th><th scope=col>dep_delay</th><th scope=col>arr_time</th><th scope=col>sched_arr_time</th><th scope=col>arr_delay</th><th scope=col>carrier</th><th scope=col>flight</th><th scope=col>tailnum</th><th scope=col>origin</th><th scope=col>dest</th><th scope=col>air_time</th><th scope=col>distance</th><th scope=col>hour</th><th scope=col>minute</th><th scope=col>time_hour</th></tr>\n",
       "\t<tr><th scope=col>&lt;int&gt;</th><th scope=col>&lt;int&gt;</th><th scope=col>&lt;int&gt;</th><th scope=col>&lt;int&gt;</th><th scope=col>&lt;int&gt;</th><th scope=col>&lt;dbl&gt;</th><th scope=col>&lt;int&gt;</th><th scope=col>&lt;int&gt;</th><th scope=col>&lt;dbl&gt;</th><th scope=col>&lt;chr&gt;</th><th scope=col>&lt;int&gt;</th><th scope=col>&lt;chr&gt;</th><th scope=col>&lt;chr&gt;</th><th scope=col>&lt;chr&gt;</th><th scope=col>&lt;dbl&gt;</th><th scope=col>&lt;dbl&gt;</th><th scope=col>&lt;dbl&gt;</th><th scope=col>&lt;dbl&gt;</th><th scope=col>&lt;dttm&gt;</th></tr>\n",
       "</thead>\n",
       "<tbody>\n",
       "\t<tr><td>2013</td><td> 1</td><td> 9</td><td> 641</td><td> 900</td><td>1301</td><td>1242</td><td>1530</td><td>1272</td><td>HA</td><td>  51</td><td>N384HA</td><td>JFK</td><td>HNL</td><td>640</td><td>4983</td><td> 9</td><td> 0</td><td>2013-01-09 09:00:00</td></tr>\n",
       "\t<tr><td>2013</td><td> 6</td><td>15</td><td>1432</td><td>1935</td><td>1137</td><td>1607</td><td>2120</td><td>1127</td><td>MQ</td><td>3535</td><td>N504MQ</td><td>JFK</td><td>CMH</td><td> 74</td><td> 483</td><td>19</td><td>35</td><td>2013-06-15 19:00:00</td></tr>\n",
       "\t<tr><td>2013</td><td> 1</td><td>10</td><td>1121</td><td>1635</td><td>1126</td><td>1239</td><td>1810</td><td>1109</td><td>MQ</td><td>3695</td><td>N517MQ</td><td>EWR</td><td>ORD</td><td>111</td><td> 719</td><td>16</td><td>35</td><td>2013-01-10 16:00:00</td></tr>\n",
       "\t<tr><td>2013</td><td> 9</td><td>20</td><td>1139</td><td>1845</td><td>1014</td><td>1457</td><td>2210</td><td>1007</td><td>AA</td><td> 177</td><td>N338AA</td><td>JFK</td><td>SFO</td><td>354</td><td>2586</td><td>18</td><td>45</td><td>2013-09-20 18:00:00</td></tr>\n",
       "\t<tr><td>2013</td><td> 7</td><td>22</td><td> 845</td><td>1600</td><td>1005</td><td>1044</td><td>1815</td><td> 989</td><td>MQ</td><td>3075</td><td>N665MQ</td><td>JFK</td><td>CVG</td><td> 96</td><td> 589</td><td>16</td><td> 0</td><td>2013-07-22 16:00:00</td></tr>\n",
       "\t<tr><td>2013</td><td> 4</td><td>10</td><td>1100</td><td>1900</td><td> 960</td><td>1342</td><td>2211</td><td> 931</td><td>DL</td><td>2391</td><td>N959DL</td><td>JFK</td><td>TPA</td><td>139</td><td>1005</td><td>19</td><td> 0</td><td>2013-04-10 19:00:00</td></tr>\n",
       "\t<tr><td>2013</td><td> 3</td><td>17</td><td>2321</td><td> 810</td><td> 911</td><td> 135</td><td>1020</td><td> 915</td><td>DL</td><td>2119</td><td>N927DA</td><td>LGA</td><td>MSP</td><td>167</td><td>1020</td><td> 8</td><td>10</td><td>2013-03-17 08:00:00</td></tr>\n",
       "\t<tr><td>2013</td><td> 6</td><td>27</td><td> 959</td><td>1900</td><td> 899</td><td>1236</td><td>2226</td><td> 850</td><td>DL</td><td>2007</td><td>N3762Y</td><td>JFK</td><td>PDX</td><td>313</td><td>2454</td><td>19</td><td> 0</td><td>2013-06-27 19:00:00</td></tr>\n",
       "\t<tr><td>2013</td><td> 7</td><td>22</td><td>2257</td><td> 759</td><td> 898</td><td> 121</td><td>1026</td><td> 895</td><td>DL</td><td>2047</td><td>N6716C</td><td>LGA</td><td>ATL</td><td>109</td><td> 762</td><td> 7</td><td>59</td><td>2013-07-22 07:00:00</td></tr>\n",
       "\t<tr><td>2013</td><td>12</td><td> 5</td><td> 756</td><td>1700</td><td> 896</td><td>1058</td><td>2020</td><td> 878</td><td>AA</td><td> 172</td><td>N5DMAA</td><td>EWR</td><td>MIA</td><td>149</td><td>1085</td><td>17</td><td> 0</td><td>2013-12-05 17:00:00</td></tr>\n",
       "</tbody>\n",
       "</table>\n"
      ],
      "text/latex": [
       "A tibble: 10 × 19\n",
       "\\begin{tabular}{lllllllllllllllllll}\n",
       " year & month & day & dep\\_time & sched\\_dep\\_time & dep\\_delay & arr\\_time & sched\\_arr\\_time & arr\\_delay & carrier & flight & tailnum & origin & dest & air\\_time & distance & hour & minute & time\\_hour\\\\\n",
       " <int> & <int> & <int> & <int> & <int> & <dbl> & <int> & <int> & <dbl> & <chr> & <int> & <chr> & <chr> & <chr> & <dbl> & <dbl> & <dbl> & <dbl> & <dttm>\\\\\n",
       "\\hline\n",
       "\t 2013 &  1 &  9 &  641 &  900 & 1301 & 1242 & 1530 & 1272 & HA &   51 & N384HA & JFK & HNL & 640 & 4983 &  9 &  0 & 2013-01-09 09:00:00\\\\\n",
       "\t 2013 &  6 & 15 & 1432 & 1935 & 1137 & 1607 & 2120 & 1127 & MQ & 3535 & N504MQ & JFK & CMH &  74 &  483 & 19 & 35 & 2013-06-15 19:00:00\\\\\n",
       "\t 2013 &  1 & 10 & 1121 & 1635 & 1126 & 1239 & 1810 & 1109 & MQ & 3695 & N517MQ & EWR & ORD & 111 &  719 & 16 & 35 & 2013-01-10 16:00:00\\\\\n",
       "\t 2013 &  9 & 20 & 1139 & 1845 & 1014 & 1457 & 2210 & 1007 & AA &  177 & N338AA & JFK & SFO & 354 & 2586 & 18 & 45 & 2013-09-20 18:00:00\\\\\n",
       "\t 2013 &  7 & 22 &  845 & 1600 & 1005 & 1044 & 1815 &  989 & MQ & 3075 & N665MQ & JFK & CVG &  96 &  589 & 16 &  0 & 2013-07-22 16:00:00\\\\\n",
       "\t 2013 &  4 & 10 & 1100 & 1900 &  960 & 1342 & 2211 &  931 & DL & 2391 & N959DL & JFK & TPA & 139 & 1005 & 19 &  0 & 2013-04-10 19:00:00\\\\\n",
       "\t 2013 &  3 & 17 & 2321 &  810 &  911 &  135 & 1020 &  915 & DL & 2119 & N927DA & LGA & MSP & 167 & 1020 &  8 & 10 & 2013-03-17 08:00:00\\\\\n",
       "\t 2013 &  6 & 27 &  959 & 1900 &  899 & 1236 & 2226 &  850 & DL & 2007 & N3762Y & JFK & PDX & 313 & 2454 & 19 &  0 & 2013-06-27 19:00:00\\\\\n",
       "\t 2013 &  7 & 22 & 2257 &  759 &  898 &  121 & 1026 &  895 & DL & 2047 & N6716C & LGA & ATL & 109 &  762 &  7 & 59 & 2013-07-22 07:00:00\\\\\n",
       "\t 2013 & 12 &  5 &  756 & 1700 &  896 & 1058 & 2020 &  878 & AA &  172 & N5DMAA & EWR & MIA & 149 & 1085 & 17 &  0 & 2013-12-05 17:00:00\\\\\n",
       "\\end{tabular}\n"
      ],
      "text/markdown": [
       "\n",
       "A tibble: 10 × 19\n",
       "\n",
       "| year &lt;int&gt; | month &lt;int&gt; | day &lt;int&gt; | dep_time &lt;int&gt; | sched_dep_time &lt;int&gt; | dep_delay &lt;dbl&gt; | arr_time &lt;int&gt; | sched_arr_time &lt;int&gt; | arr_delay &lt;dbl&gt; | carrier &lt;chr&gt; | flight &lt;int&gt; | tailnum &lt;chr&gt; | origin &lt;chr&gt; | dest &lt;chr&gt; | air_time &lt;dbl&gt; | distance &lt;dbl&gt; | hour &lt;dbl&gt; | minute &lt;dbl&gt; | time_hour &lt;dttm&gt; |\n",
       "|---|---|---|---|---|---|---|---|---|---|---|---|---|---|---|---|---|---|---|\n",
       "| 2013 |  1 |  9 |  641 |  900 | 1301 | 1242 | 1530 | 1272 | HA |   51 | N384HA | JFK | HNL | 640 | 4983 |  9 |  0 | 2013-01-09 09:00:00 |\n",
       "| 2013 |  6 | 15 | 1432 | 1935 | 1137 | 1607 | 2120 | 1127 | MQ | 3535 | N504MQ | JFK | CMH |  74 |  483 | 19 | 35 | 2013-06-15 19:00:00 |\n",
       "| 2013 |  1 | 10 | 1121 | 1635 | 1126 | 1239 | 1810 | 1109 | MQ | 3695 | N517MQ | EWR | ORD | 111 |  719 | 16 | 35 | 2013-01-10 16:00:00 |\n",
       "| 2013 |  9 | 20 | 1139 | 1845 | 1014 | 1457 | 2210 | 1007 | AA |  177 | N338AA | JFK | SFO | 354 | 2586 | 18 | 45 | 2013-09-20 18:00:00 |\n",
       "| 2013 |  7 | 22 |  845 | 1600 | 1005 | 1044 | 1815 |  989 | MQ | 3075 | N665MQ | JFK | CVG |  96 |  589 | 16 |  0 | 2013-07-22 16:00:00 |\n",
       "| 2013 |  4 | 10 | 1100 | 1900 |  960 | 1342 | 2211 |  931 | DL | 2391 | N959DL | JFK | TPA | 139 | 1005 | 19 |  0 | 2013-04-10 19:00:00 |\n",
       "| 2013 |  3 | 17 | 2321 |  810 |  911 |  135 | 1020 |  915 | DL | 2119 | N927DA | LGA | MSP | 167 | 1020 |  8 | 10 | 2013-03-17 08:00:00 |\n",
       "| 2013 |  6 | 27 |  959 | 1900 |  899 | 1236 | 2226 |  850 | DL | 2007 | N3762Y | JFK | PDX | 313 | 2454 | 19 |  0 | 2013-06-27 19:00:00 |\n",
       "| 2013 |  7 | 22 | 2257 |  759 |  898 |  121 | 1026 |  895 | DL | 2047 | N6716C | LGA | ATL | 109 |  762 |  7 | 59 | 2013-07-22 07:00:00 |\n",
       "| 2013 | 12 |  5 |  756 | 1700 |  896 | 1058 | 2020 |  878 | AA |  172 | N5DMAA | EWR | MIA | 149 | 1085 | 17 |  0 | 2013-12-05 17:00:00 |\n",
       "\n"
      ],
      "text/plain": [
       "   year month day dep_time sched_dep_time dep_delay arr_time sched_arr_time\n",
       "1  2013  1     9   641      900           1301      1242     1530          \n",
       "2  2013  6    15  1432     1935           1137      1607     2120          \n",
       "3  2013  1    10  1121     1635           1126      1239     1810          \n",
       "4  2013  9    20  1139     1845           1014      1457     2210          \n",
       "5  2013  7    22   845     1600           1005      1044     1815          \n",
       "6  2013  4    10  1100     1900            960      1342     2211          \n",
       "7  2013  3    17  2321      810            911       135     1020          \n",
       "8  2013  6    27   959     1900            899      1236     2226          \n",
       "9  2013  7    22  2257      759            898       121     1026          \n",
       "10 2013 12     5   756     1700            896      1058     2020          \n",
       "   arr_delay carrier flight tailnum origin dest air_time distance hour minute\n",
       "1  1272      HA        51   N384HA  JFK    HNL  640      4983      9    0    \n",
       "2  1127      MQ      3535   N504MQ  JFK    CMH   74       483     19   35    \n",
       "3  1109      MQ      3695   N517MQ  EWR    ORD  111       719     16   35    \n",
       "4  1007      AA       177   N338AA  JFK    SFO  354      2586     18   45    \n",
       "5   989      MQ      3075   N665MQ  JFK    CVG   96       589     16    0    \n",
       "6   931      DL      2391   N959DL  JFK    TPA  139      1005     19    0    \n",
       "7   915      DL      2119   N927DA  LGA    MSP  167      1020      8   10    \n",
       "8   850      DL      2007   N3762Y  JFK    PDX  313      2454     19    0    \n",
       "9   895      DL      2047   N6716C  LGA    ATL  109       762      7   59    \n",
       "10  878      AA       172   N5DMAA  EWR    MIA  149      1085     17    0    \n",
       "   time_hour          \n",
       "1  2013-01-09 09:00:00\n",
       "2  2013-06-15 19:00:00\n",
       "3  2013-01-10 16:00:00\n",
       "4  2013-09-20 18:00:00\n",
       "5  2013-07-22 16:00:00\n",
       "6  2013-04-10 19:00:00\n",
       "7  2013-03-17 08:00:00\n",
       "8  2013-06-27 19:00:00\n",
       "9  2013-07-22 07:00:00\n",
       "10 2013-12-05 17:00:00"
      ]
     },
     "metadata": {},
     "output_type": "display_data"
    }
   ],
   "source": [
    "flights |>\n",
    "  arrange(desc(dep_delay), dep_time, .keep_all = TRUE) |>\n",
    "  head(10)\n"
   ]
  },
  {
   "cell_type": "markdown",
   "metadata": {},
   "source": [
    "### Exercise 3\n",
    "\n",
    "Sort flights to find the fastest flights. (Hint: Try including a math calculation inside of your function.)\n"
   ]
  },
  {
   "cell_type": "code",
   "execution_count": 12,
   "metadata": {
    "vscode": {
     "languageId": "r"
    }
   },
   "outputs": [
    {
     "data": {
      "text/html": [
       "<table class=\"dataframe\">\n",
       "<caption>A tibble: 10 × 19</caption>\n",
       "<thead>\n",
       "\t<tr><th scope=col>year</th><th scope=col>month</th><th scope=col>day</th><th scope=col>dep_time</th><th scope=col>sched_dep_time</th><th scope=col>dep_delay</th><th scope=col>arr_time</th><th scope=col>sched_arr_time</th><th scope=col>arr_delay</th><th scope=col>carrier</th><th scope=col>flight</th><th scope=col>tailnum</th><th scope=col>origin</th><th scope=col>dest</th><th scope=col>air_time</th><th scope=col>distance</th><th scope=col>hour</th><th scope=col>minute</th><th scope=col>time_hour</th></tr>\n",
       "\t<tr><th scope=col>&lt;int&gt;</th><th scope=col>&lt;int&gt;</th><th scope=col>&lt;int&gt;</th><th scope=col>&lt;int&gt;</th><th scope=col>&lt;int&gt;</th><th scope=col>&lt;dbl&gt;</th><th scope=col>&lt;int&gt;</th><th scope=col>&lt;int&gt;</th><th scope=col>&lt;dbl&gt;</th><th scope=col>&lt;chr&gt;</th><th scope=col>&lt;int&gt;</th><th scope=col>&lt;chr&gt;</th><th scope=col>&lt;chr&gt;</th><th scope=col>&lt;chr&gt;</th><th scope=col>&lt;dbl&gt;</th><th scope=col>&lt;dbl&gt;</th><th scope=col>&lt;dbl&gt;</th><th scope=col>&lt;dbl&gt;</th><th scope=col>&lt;dttm&gt;</th></tr>\n",
       "</thead>\n",
       "<tbody>\n",
       "\t<tr><td>2013</td><td> 7</td><td>17</td><td>2400</td><td>2142</td><td>138</td><td>54</td><td>2259</td><td>115</td><td>EV</td><td>3832</td><td>N22971</td><td>EWR</td><td>DCA</td><td>37</td><td>199</td><td>21</td><td>42</td><td>2013-07-17 21:00:00</td></tr>\n",
       "\t<tr><td>2013</td><td>12</td><td> 9</td><td>2400</td><td>2250</td><td> 70</td><td>59</td><td>2356</td><td> 63</td><td>B6</td><td>1816</td><td>N187JB</td><td>JFK</td><td>SYR</td><td>41</td><td>209</td><td>22</td><td>50</td><td>2013-12-09 22:00:00</td></tr>\n",
       "\t<tr><td>2013</td><td> 6</td><td>12</td><td>2338</td><td>2129</td><td>129</td><td>17</td><td>2235</td><td>102</td><td>EV</td><td>4276</td><td>N11109</td><td>EWR</td><td>BDL</td><td>21</td><td>116</td><td>21</td><td>29</td><td>2013-06-12 21:00:00</td></tr>\n",
       "\t<tr><td>2013</td><td>12</td><td>29</td><td>2332</td><td>2155</td><td> 97</td><td>14</td><td>2300</td><td> 74</td><td>EV</td><td>4682</td><td>N13955</td><td>EWR</td><td>ALB</td><td>26</td><td>143</td><td>21</td><td>55</td><td>2013-12-29 21:00:00</td></tr>\n",
       "\t<tr><td>2013</td><td>11</td><td> 6</td><td>2335</td><td>2215</td><td> 80</td><td>18</td><td>2317</td><td> 61</td><td>EV</td><td>4233</td><td>N23139</td><td>EWR</td><td>ALB</td><td>29</td><td>143</td><td>22</td><td>15</td><td>2013-11-06 22:00:00</td></tr>\n",
       "\t<tr><td>2013</td><td> 2</td><td>25</td><td>2347</td><td>2145</td><td>122</td><td>30</td><td>2239</td><td>111</td><td>EV</td><td>4378</td><td>N18557</td><td>EWR</td><td>BWI</td><td>33</td><td>169</td><td>21</td><td>45</td><td>2013-02-25 21:00:00</td></tr>\n",
       "\t<tr><td>2013</td><td> 8</td><td>13</td><td>2351</td><td>2152</td><td>119</td><td>35</td><td>2258</td><td> 97</td><td>EV</td><td>4276</td><td>N15574</td><td>EWR</td><td>BDL</td><td>24</td><td>116</td><td>21</td><td>52</td><td>2013-08-13 21:00:00</td></tr>\n",
       "\t<tr><td>2013</td><td>10</td><td>11</td><td>2342</td><td>2030</td><td>192</td><td>27</td><td>2205</td><td>142</td><td>WN</td><td>2520</td><td>N279WN</td><td>EWR</td><td>MDW</td><td>92</td><td>711</td><td>20</td><td>30</td><td>2013-10-11 20:00:00</td></tr>\n",
       "\t<tr><td>2013</td><td> 2</td><td>26</td><td>2356</td><td>2000</td><td>236</td><td>41</td><td>2104</td><td>217</td><td>EV</td><td>4162</td><td>N10575</td><td>EWR</td><td>ALB</td><td>24</td><td>143</td><td>20</td><td> 0</td><td>2013-02-26 20:00:00</td></tr>\n",
       "\t<tr><td>2013</td><td> 1</td><td>24</td><td>2342</td><td>2159</td><td>103</td><td>28</td><td>2300</td><td> 88</td><td>EV</td><td>4519</td><td>N14916</td><td>EWR</td><td>BWI</td><td>33</td><td>169</td><td>21</td><td>59</td><td>2013-01-24 21:00:00</td></tr>\n",
       "</tbody>\n",
       "</table>\n"
      ],
      "text/latex": [
       "A tibble: 10 × 19\n",
       "\\begin{tabular}{lllllllllllllllllll}\n",
       " year & month & day & dep\\_time & sched\\_dep\\_time & dep\\_delay & arr\\_time & sched\\_arr\\_time & arr\\_delay & carrier & flight & tailnum & origin & dest & air\\_time & distance & hour & minute & time\\_hour\\\\\n",
       " <int> & <int> & <int> & <int> & <int> & <dbl> & <int> & <int> & <dbl> & <chr> & <int> & <chr> & <chr> & <chr> & <dbl> & <dbl> & <dbl> & <dbl> & <dttm>\\\\\n",
       "\\hline\n",
       "\t 2013 &  7 & 17 & 2400 & 2142 & 138 & 54 & 2259 & 115 & EV & 3832 & N22971 & EWR & DCA & 37 & 199 & 21 & 42 & 2013-07-17 21:00:00\\\\\n",
       "\t 2013 & 12 &  9 & 2400 & 2250 &  70 & 59 & 2356 &  63 & B6 & 1816 & N187JB & JFK & SYR & 41 & 209 & 22 & 50 & 2013-12-09 22:00:00\\\\\n",
       "\t 2013 &  6 & 12 & 2338 & 2129 & 129 & 17 & 2235 & 102 & EV & 4276 & N11109 & EWR & BDL & 21 & 116 & 21 & 29 & 2013-06-12 21:00:00\\\\\n",
       "\t 2013 & 12 & 29 & 2332 & 2155 &  97 & 14 & 2300 &  74 & EV & 4682 & N13955 & EWR & ALB & 26 & 143 & 21 & 55 & 2013-12-29 21:00:00\\\\\n",
       "\t 2013 & 11 &  6 & 2335 & 2215 &  80 & 18 & 2317 &  61 & EV & 4233 & N23139 & EWR & ALB & 29 & 143 & 22 & 15 & 2013-11-06 22:00:00\\\\\n",
       "\t 2013 &  2 & 25 & 2347 & 2145 & 122 & 30 & 2239 & 111 & EV & 4378 & N18557 & EWR & BWI & 33 & 169 & 21 & 45 & 2013-02-25 21:00:00\\\\\n",
       "\t 2013 &  8 & 13 & 2351 & 2152 & 119 & 35 & 2258 &  97 & EV & 4276 & N15574 & EWR & BDL & 24 & 116 & 21 & 52 & 2013-08-13 21:00:00\\\\\n",
       "\t 2013 & 10 & 11 & 2342 & 2030 & 192 & 27 & 2205 & 142 & WN & 2520 & N279WN & EWR & MDW & 92 & 711 & 20 & 30 & 2013-10-11 20:00:00\\\\\n",
       "\t 2013 &  2 & 26 & 2356 & 2000 & 236 & 41 & 2104 & 217 & EV & 4162 & N10575 & EWR & ALB & 24 & 143 & 20 &  0 & 2013-02-26 20:00:00\\\\\n",
       "\t 2013 &  1 & 24 & 2342 & 2159 & 103 & 28 & 2300 &  88 & EV & 4519 & N14916 & EWR & BWI & 33 & 169 & 21 & 59 & 2013-01-24 21:00:00\\\\\n",
       "\\end{tabular}\n"
      ],
      "text/markdown": [
       "\n",
       "A tibble: 10 × 19\n",
       "\n",
       "| year &lt;int&gt; | month &lt;int&gt; | day &lt;int&gt; | dep_time &lt;int&gt; | sched_dep_time &lt;int&gt; | dep_delay &lt;dbl&gt; | arr_time &lt;int&gt; | sched_arr_time &lt;int&gt; | arr_delay &lt;dbl&gt; | carrier &lt;chr&gt; | flight &lt;int&gt; | tailnum &lt;chr&gt; | origin &lt;chr&gt; | dest &lt;chr&gt; | air_time &lt;dbl&gt; | distance &lt;dbl&gt; | hour &lt;dbl&gt; | minute &lt;dbl&gt; | time_hour &lt;dttm&gt; |\n",
       "|---|---|---|---|---|---|---|---|---|---|---|---|---|---|---|---|---|---|---|\n",
       "| 2013 |  7 | 17 | 2400 | 2142 | 138 | 54 | 2259 | 115 | EV | 3832 | N22971 | EWR | DCA | 37 | 199 | 21 | 42 | 2013-07-17 21:00:00 |\n",
       "| 2013 | 12 |  9 | 2400 | 2250 |  70 | 59 | 2356 |  63 | B6 | 1816 | N187JB | JFK | SYR | 41 | 209 | 22 | 50 | 2013-12-09 22:00:00 |\n",
       "| 2013 |  6 | 12 | 2338 | 2129 | 129 | 17 | 2235 | 102 | EV | 4276 | N11109 | EWR | BDL | 21 | 116 | 21 | 29 | 2013-06-12 21:00:00 |\n",
       "| 2013 | 12 | 29 | 2332 | 2155 |  97 | 14 | 2300 |  74 | EV | 4682 | N13955 | EWR | ALB | 26 | 143 | 21 | 55 | 2013-12-29 21:00:00 |\n",
       "| 2013 | 11 |  6 | 2335 | 2215 |  80 | 18 | 2317 |  61 | EV | 4233 | N23139 | EWR | ALB | 29 | 143 | 22 | 15 | 2013-11-06 22:00:00 |\n",
       "| 2013 |  2 | 25 | 2347 | 2145 | 122 | 30 | 2239 | 111 | EV | 4378 | N18557 | EWR | BWI | 33 | 169 | 21 | 45 | 2013-02-25 21:00:00 |\n",
       "| 2013 |  8 | 13 | 2351 | 2152 | 119 | 35 | 2258 |  97 | EV | 4276 | N15574 | EWR | BDL | 24 | 116 | 21 | 52 | 2013-08-13 21:00:00 |\n",
       "| 2013 | 10 | 11 | 2342 | 2030 | 192 | 27 | 2205 | 142 | WN | 2520 | N279WN | EWR | MDW | 92 | 711 | 20 | 30 | 2013-10-11 20:00:00 |\n",
       "| 2013 |  2 | 26 | 2356 | 2000 | 236 | 41 | 2104 | 217 | EV | 4162 | N10575 | EWR | ALB | 24 | 143 | 20 |  0 | 2013-02-26 20:00:00 |\n",
       "| 2013 |  1 | 24 | 2342 | 2159 | 103 | 28 | 2300 |  88 | EV | 4519 | N14916 | EWR | BWI | 33 | 169 | 21 | 59 | 2013-01-24 21:00:00 |\n",
       "\n"
      ],
      "text/plain": [
       "   year month day dep_time sched_dep_time dep_delay arr_time sched_arr_time\n",
       "1  2013  7    17  2400     2142           138       54       2259          \n",
       "2  2013 12     9  2400     2250            70       59       2356          \n",
       "3  2013  6    12  2338     2129           129       17       2235          \n",
       "4  2013 12    29  2332     2155            97       14       2300          \n",
       "5  2013 11     6  2335     2215            80       18       2317          \n",
       "6  2013  2    25  2347     2145           122       30       2239          \n",
       "7  2013  8    13  2351     2152           119       35       2258          \n",
       "8  2013 10    11  2342     2030           192       27       2205          \n",
       "9  2013  2    26  2356     2000           236       41       2104          \n",
       "10 2013  1    24  2342     2159           103       28       2300          \n",
       "   arr_delay carrier flight tailnum origin dest air_time distance hour minute\n",
       "1  115       EV      3832   N22971  EWR    DCA  37       199      21   42    \n",
       "2   63       B6      1816   N187JB  JFK    SYR  41       209      22   50    \n",
       "3  102       EV      4276   N11109  EWR    BDL  21       116      21   29    \n",
       "4   74       EV      4682   N13955  EWR    ALB  26       143      21   55    \n",
       "5   61       EV      4233   N23139  EWR    ALB  29       143      22   15    \n",
       "6  111       EV      4378   N18557  EWR    BWI  33       169      21   45    \n",
       "7   97       EV      4276   N15574  EWR    BDL  24       116      21   52    \n",
       "8  142       WN      2520   N279WN  EWR    MDW  92       711      20   30    \n",
       "9  217       EV      4162   N10575  EWR    ALB  24       143      20    0    \n",
       "10  88       EV      4519   N14916  EWR    BWI  33       169      21   59    \n",
       "   time_hour          \n",
       "1  2013-07-17 21:00:00\n",
       "2  2013-12-09 22:00:00\n",
       "3  2013-06-12 21:00:00\n",
       "4  2013-12-29 21:00:00\n",
       "5  2013-11-06 22:00:00\n",
       "6  2013-02-25 21:00:00\n",
       "7  2013-08-13 21:00:00\n",
       "8  2013-10-11 20:00:00\n",
       "9  2013-02-26 20:00:00\n",
       "10 2013-01-24 21:00:00"
      ]
     },
     "metadata": {},
     "output_type": "display_data"
    }
   ],
   "source": [
    "flights |>\n",
    "  arrange(arr_time - (dep_time - 2400), .keep_all = TRUE) |>\n",
    "  head(10)\n"
   ]
  },
  {
   "cell_type": "markdown",
   "metadata": {},
   "source": [
    "### Exercise 4\n",
    "\n",
    "Was there a flight on every day of 2013?\n"
   ]
  },
  {
   "cell_type": "code",
   "execution_count": 16,
   "metadata": {
    "vscode": {
     "languageId": "r"
    }
   },
   "outputs": [
    {
     "data": {
      "text/html": [
       "365"
      ],
      "text/latex": [
       "365"
      ],
      "text/markdown": [
       "365"
      ],
      "text/plain": [
       "[1] 365"
      ]
     },
     "metadata": {},
     "output_type": "display_data"
    }
   ],
   "source": [
    "flights |>\n",
    "  distinct(year, month, day) |>\n",
    "  nrow()\n"
   ]
  },
  {
   "cell_type": "markdown",
   "metadata": {},
   "source": [
    "### Exercise 5\n",
    "\n",
    "Which flights traveled the farthest distance? Which traveled the least distance?\n"
   ]
  },
  {
   "cell_type": "code",
   "execution_count": 17,
   "metadata": {
    "vscode": {
     "languageId": "r"
    }
   },
   "outputs": [
    {
     "data": {
      "text/html": [
       "<table class=\"dataframe\">\n",
       "<caption>A tibble: 10 × 19</caption>\n",
       "<thead>\n",
       "\t<tr><th scope=col>year</th><th scope=col>month</th><th scope=col>day</th><th scope=col>dep_time</th><th scope=col>sched_dep_time</th><th scope=col>dep_delay</th><th scope=col>arr_time</th><th scope=col>sched_arr_time</th><th scope=col>arr_delay</th><th scope=col>carrier</th><th scope=col>flight</th><th scope=col>tailnum</th><th scope=col>origin</th><th scope=col>dest</th><th scope=col>air_time</th><th scope=col>distance</th><th scope=col>hour</th><th scope=col>minute</th><th scope=col>time_hour</th></tr>\n",
       "\t<tr><th scope=col>&lt;int&gt;</th><th scope=col>&lt;int&gt;</th><th scope=col>&lt;int&gt;</th><th scope=col>&lt;int&gt;</th><th scope=col>&lt;int&gt;</th><th scope=col>&lt;dbl&gt;</th><th scope=col>&lt;int&gt;</th><th scope=col>&lt;int&gt;</th><th scope=col>&lt;dbl&gt;</th><th scope=col>&lt;chr&gt;</th><th scope=col>&lt;int&gt;</th><th scope=col>&lt;chr&gt;</th><th scope=col>&lt;chr&gt;</th><th scope=col>&lt;chr&gt;</th><th scope=col>&lt;dbl&gt;</th><th scope=col>&lt;dbl&gt;</th><th scope=col>&lt;dbl&gt;</th><th scope=col>&lt;dbl&gt;</th><th scope=col>&lt;dttm&gt;</th></tr>\n",
       "</thead>\n",
       "<tbody>\n",
       "\t<tr><td>2013</td><td>1</td><td> 1</td><td> 857</td><td>900</td><td>  -3</td><td>1516</td><td>1530</td><td> -14</td><td>HA</td><td>51</td><td>N380HA</td><td>JFK</td><td>HNL</td><td>659</td><td>4983</td><td>9</td><td>0</td><td>2013-01-01 09:00:00</td></tr>\n",
       "\t<tr><td>2013</td><td>1</td><td> 2</td><td> 909</td><td>900</td><td>   9</td><td>1525</td><td>1530</td><td>  -5</td><td>HA</td><td>51</td><td>N380HA</td><td>JFK</td><td>HNL</td><td>638</td><td>4983</td><td>9</td><td>0</td><td>2013-01-02 09:00:00</td></tr>\n",
       "\t<tr><td>2013</td><td>1</td><td> 3</td><td> 914</td><td>900</td><td>  14</td><td>1504</td><td>1530</td><td> -26</td><td>HA</td><td>51</td><td>N380HA</td><td>JFK</td><td>HNL</td><td>616</td><td>4983</td><td>9</td><td>0</td><td>2013-01-03 09:00:00</td></tr>\n",
       "\t<tr><td>2013</td><td>1</td><td> 4</td><td> 900</td><td>900</td><td>   0</td><td>1516</td><td>1530</td><td> -14</td><td>HA</td><td>51</td><td>N384HA</td><td>JFK</td><td>HNL</td><td>639</td><td>4983</td><td>9</td><td>0</td><td>2013-01-04 09:00:00</td></tr>\n",
       "\t<tr><td>2013</td><td>1</td><td> 5</td><td> 858</td><td>900</td><td>  -2</td><td>1519</td><td>1530</td><td> -11</td><td>HA</td><td>51</td><td>N381HA</td><td>JFK</td><td>HNL</td><td>635</td><td>4983</td><td>9</td><td>0</td><td>2013-01-05 09:00:00</td></tr>\n",
       "\t<tr><td>2013</td><td>1</td><td> 6</td><td>1019</td><td>900</td><td>  79</td><td>1558</td><td>1530</td><td>  28</td><td>HA</td><td>51</td><td>N385HA</td><td>JFK</td><td>HNL</td><td>611</td><td>4983</td><td>9</td><td>0</td><td>2013-01-06 09:00:00</td></tr>\n",
       "\t<tr><td>2013</td><td>1</td><td> 7</td><td>1042</td><td>900</td><td> 102</td><td>1620</td><td>1530</td><td>  50</td><td>HA</td><td>51</td><td>N385HA</td><td>JFK</td><td>HNL</td><td>612</td><td>4983</td><td>9</td><td>0</td><td>2013-01-07 09:00:00</td></tr>\n",
       "\t<tr><td>2013</td><td>1</td><td> 8</td><td> 901</td><td>900</td><td>   1</td><td>1504</td><td>1530</td><td> -26</td><td>HA</td><td>51</td><td>N389HA</td><td>JFK</td><td>HNL</td><td>645</td><td>4983</td><td>9</td><td>0</td><td>2013-01-08 09:00:00</td></tr>\n",
       "\t<tr><td>2013</td><td>1</td><td> 9</td><td> 641</td><td>900</td><td>1301</td><td>1242</td><td>1530</td><td>1272</td><td>HA</td><td>51</td><td>N384HA</td><td>JFK</td><td>HNL</td><td>640</td><td>4983</td><td>9</td><td>0</td><td>2013-01-09 09:00:00</td></tr>\n",
       "\t<tr><td>2013</td><td>1</td><td>10</td><td> 859</td><td>900</td><td>  -1</td><td>1449</td><td>1530</td><td> -41</td><td>HA</td><td>51</td><td>N388HA</td><td>JFK</td><td>HNL</td><td>633</td><td>4983</td><td>9</td><td>0</td><td>2013-01-10 09:00:00</td></tr>\n",
       "</tbody>\n",
       "</table>\n"
      ],
      "text/latex": [
       "A tibble: 10 × 19\n",
       "\\begin{tabular}{lllllllllllllllllll}\n",
       " year & month & day & dep\\_time & sched\\_dep\\_time & dep\\_delay & arr\\_time & sched\\_arr\\_time & arr\\_delay & carrier & flight & tailnum & origin & dest & air\\_time & distance & hour & minute & time\\_hour\\\\\n",
       " <int> & <int> & <int> & <int> & <int> & <dbl> & <int> & <int> & <dbl> & <chr> & <int> & <chr> & <chr> & <chr> & <dbl> & <dbl> & <dbl> & <dbl> & <dttm>\\\\\n",
       "\\hline\n",
       "\t 2013 & 1 &  1 &  857 & 900 &   -3 & 1516 & 1530 &  -14 & HA & 51 & N380HA & JFK & HNL & 659 & 4983 & 9 & 0 & 2013-01-01 09:00:00\\\\\n",
       "\t 2013 & 1 &  2 &  909 & 900 &    9 & 1525 & 1530 &   -5 & HA & 51 & N380HA & JFK & HNL & 638 & 4983 & 9 & 0 & 2013-01-02 09:00:00\\\\\n",
       "\t 2013 & 1 &  3 &  914 & 900 &   14 & 1504 & 1530 &  -26 & HA & 51 & N380HA & JFK & HNL & 616 & 4983 & 9 & 0 & 2013-01-03 09:00:00\\\\\n",
       "\t 2013 & 1 &  4 &  900 & 900 &    0 & 1516 & 1530 &  -14 & HA & 51 & N384HA & JFK & HNL & 639 & 4983 & 9 & 0 & 2013-01-04 09:00:00\\\\\n",
       "\t 2013 & 1 &  5 &  858 & 900 &   -2 & 1519 & 1530 &  -11 & HA & 51 & N381HA & JFK & HNL & 635 & 4983 & 9 & 0 & 2013-01-05 09:00:00\\\\\n",
       "\t 2013 & 1 &  6 & 1019 & 900 &   79 & 1558 & 1530 &   28 & HA & 51 & N385HA & JFK & HNL & 611 & 4983 & 9 & 0 & 2013-01-06 09:00:00\\\\\n",
       "\t 2013 & 1 &  7 & 1042 & 900 &  102 & 1620 & 1530 &   50 & HA & 51 & N385HA & JFK & HNL & 612 & 4983 & 9 & 0 & 2013-01-07 09:00:00\\\\\n",
       "\t 2013 & 1 &  8 &  901 & 900 &    1 & 1504 & 1530 &  -26 & HA & 51 & N389HA & JFK & HNL & 645 & 4983 & 9 & 0 & 2013-01-08 09:00:00\\\\\n",
       "\t 2013 & 1 &  9 &  641 & 900 & 1301 & 1242 & 1530 & 1272 & HA & 51 & N384HA & JFK & HNL & 640 & 4983 & 9 & 0 & 2013-01-09 09:00:00\\\\\n",
       "\t 2013 & 1 & 10 &  859 & 900 &   -1 & 1449 & 1530 &  -41 & HA & 51 & N388HA & JFK & HNL & 633 & 4983 & 9 & 0 & 2013-01-10 09:00:00\\\\\n",
       "\\end{tabular}\n"
      ],
      "text/markdown": [
       "\n",
       "A tibble: 10 × 19\n",
       "\n",
       "| year &lt;int&gt; | month &lt;int&gt; | day &lt;int&gt; | dep_time &lt;int&gt; | sched_dep_time &lt;int&gt; | dep_delay &lt;dbl&gt; | arr_time &lt;int&gt; | sched_arr_time &lt;int&gt; | arr_delay &lt;dbl&gt; | carrier &lt;chr&gt; | flight &lt;int&gt; | tailnum &lt;chr&gt; | origin &lt;chr&gt; | dest &lt;chr&gt; | air_time &lt;dbl&gt; | distance &lt;dbl&gt; | hour &lt;dbl&gt; | minute &lt;dbl&gt; | time_hour &lt;dttm&gt; |\n",
       "|---|---|---|---|---|---|---|---|---|---|---|---|---|---|---|---|---|---|---|\n",
       "| 2013 | 1 |  1 |  857 | 900 |   -3 | 1516 | 1530 |  -14 | HA | 51 | N380HA | JFK | HNL | 659 | 4983 | 9 | 0 | 2013-01-01 09:00:00 |\n",
       "| 2013 | 1 |  2 |  909 | 900 |    9 | 1525 | 1530 |   -5 | HA | 51 | N380HA | JFK | HNL | 638 | 4983 | 9 | 0 | 2013-01-02 09:00:00 |\n",
       "| 2013 | 1 |  3 |  914 | 900 |   14 | 1504 | 1530 |  -26 | HA | 51 | N380HA | JFK | HNL | 616 | 4983 | 9 | 0 | 2013-01-03 09:00:00 |\n",
       "| 2013 | 1 |  4 |  900 | 900 |    0 | 1516 | 1530 |  -14 | HA | 51 | N384HA | JFK | HNL | 639 | 4983 | 9 | 0 | 2013-01-04 09:00:00 |\n",
       "| 2013 | 1 |  5 |  858 | 900 |   -2 | 1519 | 1530 |  -11 | HA | 51 | N381HA | JFK | HNL | 635 | 4983 | 9 | 0 | 2013-01-05 09:00:00 |\n",
       "| 2013 | 1 |  6 | 1019 | 900 |   79 | 1558 | 1530 |   28 | HA | 51 | N385HA | JFK | HNL | 611 | 4983 | 9 | 0 | 2013-01-06 09:00:00 |\n",
       "| 2013 | 1 |  7 | 1042 | 900 |  102 | 1620 | 1530 |   50 | HA | 51 | N385HA | JFK | HNL | 612 | 4983 | 9 | 0 | 2013-01-07 09:00:00 |\n",
       "| 2013 | 1 |  8 |  901 | 900 |    1 | 1504 | 1530 |  -26 | HA | 51 | N389HA | JFK | HNL | 645 | 4983 | 9 | 0 | 2013-01-08 09:00:00 |\n",
       "| 2013 | 1 |  9 |  641 | 900 | 1301 | 1242 | 1530 | 1272 | HA | 51 | N384HA | JFK | HNL | 640 | 4983 | 9 | 0 | 2013-01-09 09:00:00 |\n",
       "| 2013 | 1 | 10 |  859 | 900 |   -1 | 1449 | 1530 |  -41 | HA | 51 | N388HA | JFK | HNL | 633 | 4983 | 9 | 0 | 2013-01-10 09:00:00 |\n",
       "\n"
      ],
      "text/plain": [
       "   year month day dep_time sched_dep_time dep_delay arr_time sched_arr_time\n",
       "1  2013 1      1   857     900              -3      1516     1530          \n",
       "2  2013 1      2   909     900               9      1525     1530          \n",
       "3  2013 1      3   914     900              14      1504     1530          \n",
       "4  2013 1      4   900     900               0      1516     1530          \n",
       "5  2013 1      5   858     900              -2      1519     1530          \n",
       "6  2013 1      6  1019     900              79      1558     1530          \n",
       "7  2013 1      7  1042     900             102      1620     1530          \n",
       "8  2013 1      8   901     900               1      1504     1530          \n",
       "9  2013 1      9   641     900            1301      1242     1530          \n",
       "10 2013 1     10   859     900              -1      1449     1530          \n",
       "   arr_delay carrier flight tailnum origin dest air_time distance hour minute\n",
       "1   -14      HA      51     N380HA  JFK    HNL  659      4983     9    0     \n",
       "2    -5      HA      51     N380HA  JFK    HNL  638      4983     9    0     \n",
       "3   -26      HA      51     N380HA  JFK    HNL  616      4983     9    0     \n",
       "4   -14      HA      51     N384HA  JFK    HNL  639      4983     9    0     \n",
       "5   -11      HA      51     N381HA  JFK    HNL  635      4983     9    0     \n",
       "6    28      HA      51     N385HA  JFK    HNL  611      4983     9    0     \n",
       "7    50      HA      51     N385HA  JFK    HNL  612      4983     9    0     \n",
       "8   -26      HA      51     N389HA  JFK    HNL  645      4983     9    0     \n",
       "9  1272      HA      51     N384HA  JFK    HNL  640      4983     9    0     \n",
       "10  -41      HA      51     N388HA  JFK    HNL  633      4983     9    0     \n",
       "   time_hour          \n",
       "1  2013-01-01 09:00:00\n",
       "2  2013-01-02 09:00:00\n",
       "3  2013-01-03 09:00:00\n",
       "4  2013-01-04 09:00:00\n",
       "5  2013-01-05 09:00:00\n",
       "6  2013-01-06 09:00:00\n",
       "7  2013-01-07 09:00:00\n",
       "8  2013-01-08 09:00:00\n",
       "9  2013-01-09 09:00:00\n",
       "10 2013-01-10 09:00:00"
      ]
     },
     "metadata": {},
     "output_type": "display_data"
    }
   ],
   "source": [
    "flights |>\n",
    "  arrange(desc(distance), .keep_all = TRUE) |>\n",
    "  head(10)\n"
   ]
  },
  {
   "cell_type": "code",
   "execution_count": 19,
   "metadata": {
    "vscode": {
     "languageId": "r"
    }
   },
   "outputs": [
    {
     "data": {
      "text/html": [
       "<table class=\"dataframe\">\n",
       "<caption>A tibble: 10 × 19</caption>\n",
       "<thead>\n",
       "\t<tr><th scope=col>year</th><th scope=col>month</th><th scope=col>day</th><th scope=col>dep_time</th><th scope=col>sched_dep_time</th><th scope=col>dep_delay</th><th scope=col>arr_time</th><th scope=col>sched_arr_time</th><th scope=col>arr_delay</th><th scope=col>carrier</th><th scope=col>flight</th><th scope=col>tailnum</th><th scope=col>origin</th><th scope=col>dest</th><th scope=col>air_time</th><th scope=col>distance</th><th scope=col>hour</th><th scope=col>minute</th><th scope=col>time_hour</th></tr>\n",
       "\t<tr><th scope=col>&lt;int&gt;</th><th scope=col>&lt;int&gt;</th><th scope=col>&lt;int&gt;</th><th scope=col>&lt;int&gt;</th><th scope=col>&lt;int&gt;</th><th scope=col>&lt;dbl&gt;</th><th scope=col>&lt;int&gt;</th><th scope=col>&lt;int&gt;</th><th scope=col>&lt;dbl&gt;</th><th scope=col>&lt;chr&gt;</th><th scope=col>&lt;int&gt;</th><th scope=col>&lt;chr&gt;</th><th scope=col>&lt;chr&gt;</th><th scope=col>&lt;chr&gt;</th><th scope=col>&lt;dbl&gt;</th><th scope=col>&lt;dbl&gt;</th><th scope=col>&lt;dbl&gt;</th><th scope=col>&lt;dbl&gt;</th><th scope=col>&lt;dttm&gt;</th></tr>\n",
       "</thead>\n",
       "<tbody>\n",
       "\t<tr><td>2013</td><td>7</td><td>27</td><td>  NA</td><td> 106</td><td> NA</td><td>  NA</td><td> 245</td><td> NA</td><td>US</td><td>1632</td><td>NA    </td><td>EWR</td><td>LGA</td><td>NA</td><td>17</td><td> 1</td><td> 6</td><td>2013-07-27 01:00:00</td></tr>\n",
       "\t<tr><td>2013</td><td>1</td><td> 3</td><td>2127</td><td>2129</td><td> -2</td><td>2222</td><td>2224</td><td> -2</td><td>EV</td><td>3833</td><td>N13989</td><td>EWR</td><td>PHL</td><td>30</td><td>80</td><td>21</td><td>29</td><td>2013-01-03 21:00:00</td></tr>\n",
       "\t<tr><td>2013</td><td>1</td><td> 4</td><td>1240</td><td>1200</td><td> 40</td><td>1333</td><td>1306</td><td> 27</td><td>EV</td><td>4193</td><td>N14972</td><td>EWR</td><td>PHL</td><td>30</td><td>80</td><td>12</td><td> 0</td><td>2013-01-04 12:00:00</td></tr>\n",
       "\t<tr><td>2013</td><td>1</td><td> 4</td><td>1829</td><td>1615</td><td>134</td><td>1937</td><td>1721</td><td>136</td><td>EV</td><td>4502</td><td>N15983</td><td>EWR</td><td>PHL</td><td>28</td><td>80</td><td>16</td><td>15</td><td>2013-01-04 16:00:00</td></tr>\n",
       "\t<tr><td>2013</td><td>1</td><td> 4</td><td>2128</td><td>2129</td><td> -1</td><td>2218</td><td>2224</td><td> -6</td><td>EV</td><td>4645</td><td>N27962</td><td>EWR</td><td>PHL</td><td>32</td><td>80</td><td>21</td><td>29</td><td>2013-01-04 21:00:00</td></tr>\n",
       "\t<tr><td>2013</td><td>1</td><td> 5</td><td>1155</td><td>1200</td><td> -5</td><td>1241</td><td>1306</td><td>-25</td><td>EV</td><td>4193</td><td>N14902</td><td>EWR</td><td>PHL</td><td>29</td><td>80</td><td>12</td><td> 0</td><td>2013-01-05 12:00:00</td></tr>\n",
       "\t<tr><td>2013</td><td>1</td><td> 6</td><td>2125</td><td>2129</td><td> -4</td><td>2224</td><td>2224</td><td>  0</td><td>EV</td><td>4619</td><td>N22909</td><td>EWR</td><td>PHL</td><td>22</td><td>80</td><td>21</td><td>29</td><td>2013-01-06 21:00:00</td></tr>\n",
       "\t<tr><td>2013</td><td>1</td><td> 7</td><td>2124</td><td>2129</td><td> -5</td><td>2212</td><td>2224</td><td>-12</td><td>EV</td><td>4619</td><td>N33182</td><td>EWR</td><td>PHL</td><td>25</td><td>80</td><td>21</td><td>29</td><td>2013-01-07 21:00:00</td></tr>\n",
       "\t<tr><td>2013</td><td>1</td><td> 8</td><td>2127</td><td>2130</td><td> -3</td><td>2304</td><td>2225</td><td> 39</td><td>EV</td><td>4619</td><td>N11194</td><td>EWR</td><td>PHL</td><td>30</td><td>80</td><td>21</td><td>30</td><td>2013-01-08 21:00:00</td></tr>\n",
       "\t<tr><td>2013</td><td>1</td><td> 9</td><td>2126</td><td>2129</td><td> -3</td><td>2217</td><td>2224</td><td> -7</td><td>EV</td><td>4619</td><td>N17560</td><td>EWR</td><td>PHL</td><td>27</td><td>80</td><td>21</td><td>29</td><td>2013-01-09 21:00:00</td></tr>\n",
       "</tbody>\n",
       "</table>\n"
      ],
      "text/latex": [
       "A tibble: 10 × 19\n",
       "\\begin{tabular}{lllllllllllllllllll}\n",
       " year & month & day & dep\\_time & sched\\_dep\\_time & dep\\_delay & arr\\_time & sched\\_arr\\_time & arr\\_delay & carrier & flight & tailnum & origin & dest & air\\_time & distance & hour & minute & time\\_hour\\\\\n",
       " <int> & <int> & <int> & <int> & <int> & <dbl> & <int> & <int> & <dbl> & <chr> & <int> & <chr> & <chr> & <chr> & <dbl> & <dbl> & <dbl> & <dbl> & <dttm>\\\\\n",
       "\\hline\n",
       "\t 2013 & 7 & 27 &   NA &  106 &  NA &   NA &  245 &  NA & US & 1632 & NA     & EWR & LGA & NA & 17 &  1 &  6 & 2013-07-27 01:00:00\\\\\n",
       "\t 2013 & 1 &  3 & 2127 & 2129 &  -2 & 2222 & 2224 &  -2 & EV & 3833 & N13989 & EWR & PHL & 30 & 80 & 21 & 29 & 2013-01-03 21:00:00\\\\\n",
       "\t 2013 & 1 &  4 & 1240 & 1200 &  40 & 1333 & 1306 &  27 & EV & 4193 & N14972 & EWR & PHL & 30 & 80 & 12 &  0 & 2013-01-04 12:00:00\\\\\n",
       "\t 2013 & 1 &  4 & 1829 & 1615 & 134 & 1937 & 1721 & 136 & EV & 4502 & N15983 & EWR & PHL & 28 & 80 & 16 & 15 & 2013-01-04 16:00:00\\\\\n",
       "\t 2013 & 1 &  4 & 2128 & 2129 &  -1 & 2218 & 2224 &  -6 & EV & 4645 & N27962 & EWR & PHL & 32 & 80 & 21 & 29 & 2013-01-04 21:00:00\\\\\n",
       "\t 2013 & 1 &  5 & 1155 & 1200 &  -5 & 1241 & 1306 & -25 & EV & 4193 & N14902 & EWR & PHL & 29 & 80 & 12 &  0 & 2013-01-05 12:00:00\\\\\n",
       "\t 2013 & 1 &  6 & 2125 & 2129 &  -4 & 2224 & 2224 &   0 & EV & 4619 & N22909 & EWR & PHL & 22 & 80 & 21 & 29 & 2013-01-06 21:00:00\\\\\n",
       "\t 2013 & 1 &  7 & 2124 & 2129 &  -5 & 2212 & 2224 & -12 & EV & 4619 & N33182 & EWR & PHL & 25 & 80 & 21 & 29 & 2013-01-07 21:00:00\\\\\n",
       "\t 2013 & 1 &  8 & 2127 & 2130 &  -3 & 2304 & 2225 &  39 & EV & 4619 & N11194 & EWR & PHL & 30 & 80 & 21 & 30 & 2013-01-08 21:00:00\\\\\n",
       "\t 2013 & 1 &  9 & 2126 & 2129 &  -3 & 2217 & 2224 &  -7 & EV & 4619 & N17560 & EWR & PHL & 27 & 80 & 21 & 29 & 2013-01-09 21:00:00\\\\\n",
       "\\end{tabular}\n"
      ],
      "text/markdown": [
       "\n",
       "A tibble: 10 × 19\n",
       "\n",
       "| year &lt;int&gt; | month &lt;int&gt; | day &lt;int&gt; | dep_time &lt;int&gt; | sched_dep_time &lt;int&gt; | dep_delay &lt;dbl&gt; | arr_time &lt;int&gt; | sched_arr_time &lt;int&gt; | arr_delay &lt;dbl&gt; | carrier &lt;chr&gt; | flight &lt;int&gt; | tailnum &lt;chr&gt; | origin &lt;chr&gt; | dest &lt;chr&gt; | air_time &lt;dbl&gt; | distance &lt;dbl&gt; | hour &lt;dbl&gt; | minute &lt;dbl&gt; | time_hour &lt;dttm&gt; |\n",
       "|---|---|---|---|---|---|---|---|---|---|---|---|---|---|---|---|---|---|---|\n",
       "| 2013 | 7 | 27 |   NA |  106 |  NA |   NA |  245 |  NA | US | 1632 | NA     | EWR | LGA | NA | 17 |  1 |  6 | 2013-07-27 01:00:00 |\n",
       "| 2013 | 1 |  3 | 2127 | 2129 |  -2 | 2222 | 2224 |  -2 | EV | 3833 | N13989 | EWR | PHL | 30 | 80 | 21 | 29 | 2013-01-03 21:00:00 |\n",
       "| 2013 | 1 |  4 | 1240 | 1200 |  40 | 1333 | 1306 |  27 | EV | 4193 | N14972 | EWR | PHL | 30 | 80 | 12 |  0 | 2013-01-04 12:00:00 |\n",
       "| 2013 | 1 |  4 | 1829 | 1615 | 134 | 1937 | 1721 | 136 | EV | 4502 | N15983 | EWR | PHL | 28 | 80 | 16 | 15 | 2013-01-04 16:00:00 |\n",
       "| 2013 | 1 |  4 | 2128 | 2129 |  -1 | 2218 | 2224 |  -6 | EV | 4645 | N27962 | EWR | PHL | 32 | 80 | 21 | 29 | 2013-01-04 21:00:00 |\n",
       "| 2013 | 1 |  5 | 1155 | 1200 |  -5 | 1241 | 1306 | -25 | EV | 4193 | N14902 | EWR | PHL | 29 | 80 | 12 |  0 | 2013-01-05 12:00:00 |\n",
       "| 2013 | 1 |  6 | 2125 | 2129 |  -4 | 2224 | 2224 |   0 | EV | 4619 | N22909 | EWR | PHL | 22 | 80 | 21 | 29 | 2013-01-06 21:00:00 |\n",
       "| 2013 | 1 |  7 | 2124 | 2129 |  -5 | 2212 | 2224 | -12 | EV | 4619 | N33182 | EWR | PHL | 25 | 80 | 21 | 29 | 2013-01-07 21:00:00 |\n",
       "| 2013 | 1 |  8 | 2127 | 2130 |  -3 | 2304 | 2225 |  39 | EV | 4619 | N11194 | EWR | PHL | 30 | 80 | 21 | 30 | 2013-01-08 21:00:00 |\n",
       "| 2013 | 1 |  9 | 2126 | 2129 |  -3 | 2217 | 2224 |  -7 | EV | 4619 | N17560 | EWR | PHL | 27 | 80 | 21 | 29 | 2013-01-09 21:00:00 |\n",
       "\n"
      ],
      "text/plain": [
       "   year month day dep_time sched_dep_time dep_delay arr_time sched_arr_time\n",
       "1  2013 7     27    NA      106            NA         NA      245          \n",
       "2  2013 1      3  2127     2129            -2       2222     2224          \n",
       "3  2013 1      4  1240     1200            40       1333     1306          \n",
       "4  2013 1      4  1829     1615           134       1937     1721          \n",
       "5  2013 1      4  2128     2129            -1       2218     2224          \n",
       "6  2013 1      5  1155     1200            -5       1241     1306          \n",
       "7  2013 1      6  2125     2129            -4       2224     2224          \n",
       "8  2013 1      7  2124     2129            -5       2212     2224          \n",
       "9  2013 1      8  2127     2130            -3       2304     2225          \n",
       "10 2013 1      9  2126     2129            -3       2217     2224          \n",
       "   arr_delay carrier flight tailnum origin dest air_time distance hour minute\n",
       "1   NA       US      1632   NA      EWR    LGA  NA       17        1    6    \n",
       "2   -2       EV      3833   N13989  EWR    PHL  30       80       21   29    \n",
       "3   27       EV      4193   N14972  EWR    PHL  30       80       12    0    \n",
       "4  136       EV      4502   N15983  EWR    PHL  28       80       16   15    \n",
       "5   -6       EV      4645   N27962  EWR    PHL  32       80       21   29    \n",
       "6  -25       EV      4193   N14902  EWR    PHL  29       80       12    0    \n",
       "7    0       EV      4619   N22909  EWR    PHL  22       80       21   29    \n",
       "8  -12       EV      4619   N33182  EWR    PHL  25       80       21   29    \n",
       "9   39       EV      4619   N11194  EWR    PHL  30       80       21   30    \n",
       "10  -7       EV      4619   N17560  EWR    PHL  27       80       21   29    \n",
       "   time_hour          \n",
       "1  2013-07-27 01:00:00\n",
       "2  2013-01-03 21:00:00\n",
       "3  2013-01-04 12:00:00\n",
       "4  2013-01-04 16:00:00\n",
       "5  2013-01-04 21:00:00\n",
       "6  2013-01-05 12:00:00\n",
       "7  2013-01-06 21:00:00\n",
       "8  2013-01-07 21:00:00\n",
       "9  2013-01-08 21:00:00\n",
       "10 2013-01-09 21:00:00"
      ]
     },
     "metadata": {},
     "output_type": "display_data"
    }
   ],
   "source": [
    "flights |>\n",
    "  arrange(distance, .keep_all = TRUE) |>\n",
    "  head(10)\n"
   ]
  },
  {
   "cell_type": "markdown",
   "metadata": {},
   "source": [
    "### Exercise 6\n",
    "\n",
    "Does it matter what order you used filter() and arrange() if you’re using both? Why/why not? Think about the results and how much work the functions would have to do.\n",
    "\n",
    "**Answer:** yes. Running `filter` and then `arrange` is more efficiente since `arrange` will have less rows to sort through. Functionally both ways return the same result but running `filter` first is generally faster.\n"
   ]
  },
  {
   "cell_type": "markdown",
   "metadata": {},
   "source": [
    "## Intro to `mutate`\n"
   ]
  },
  {
   "cell_type": "code",
   "execution_count": 3,
   "metadata": {
    "vscode": {
     "languageId": "r"
    }
   },
   "outputs": [
    {
     "data": {
      "text/html": [
       "<table class=\"dataframe\">\n",
       "<caption>A tibble: 10 × 21</caption>\n",
       "<thead>\n",
       "\t<tr><th scope=col>gain</th><th scope=col>speed</th><th scope=col>year</th><th scope=col>month</th><th scope=col>day</th><th scope=col>dep_time</th><th scope=col>sched_dep_time</th><th scope=col>dep_delay</th><th scope=col>arr_time</th><th scope=col>sched_arr_time</th><th scope=col>⋯</th><th scope=col>carrier</th><th scope=col>flight</th><th scope=col>tailnum</th><th scope=col>origin</th><th scope=col>dest</th><th scope=col>air_time</th><th scope=col>distance</th><th scope=col>hour</th><th scope=col>minute</th><th scope=col>time_hour</th></tr>\n",
       "\t<tr><th scope=col>&lt;dbl&gt;</th><th scope=col>&lt;dbl&gt;</th><th scope=col>&lt;int&gt;</th><th scope=col>&lt;int&gt;</th><th scope=col>&lt;int&gt;</th><th scope=col>&lt;int&gt;</th><th scope=col>&lt;int&gt;</th><th scope=col>&lt;dbl&gt;</th><th scope=col>&lt;int&gt;</th><th scope=col>&lt;int&gt;</th><th scope=col>⋯</th><th scope=col>&lt;chr&gt;</th><th scope=col>&lt;int&gt;</th><th scope=col>&lt;chr&gt;</th><th scope=col>&lt;chr&gt;</th><th scope=col>&lt;chr&gt;</th><th scope=col>&lt;dbl&gt;</th><th scope=col>&lt;dbl&gt;</th><th scope=col>&lt;dbl&gt;</th><th scope=col>&lt;dbl&gt;</th><th scope=col>&lt;dttm&gt;</th></tr>\n",
       "</thead>\n",
       "<tbody>\n",
       "\t<tr><td>  2</td><td>343.5938</td><td>2013</td><td> 5</td><td>10</td><td>1704</td><td>1500</td><td>124</td><td>1847</td><td>1645</td><td>⋯</td><td>AA</td><td> 341</td><td>N4YJAA</td><td>LGA</td><td>ORD</td><td>128</td><td> 733</td><td>15</td><td> 0</td><td>2013-05-10 15:00:00</td></tr>\n",
       "\t<tr><td> 18</td><td>356.5289</td><td>2013</td><td>11</td><td>22</td><td>1653</td><td>1650</td><td>  3</td><td>1809</td><td>1824</td><td>⋯</td><td>UA</td><td> 708</td><td>N825UA</td><td>EWR</td><td>ORD</td><td>121</td><td> 719</td><td>16</td><td>50</td><td>2013-11-22 16:00:00</td></tr>\n",
       "\t<tr><td>-22</td><td>377.1041</td><td>2013</td><td>12</td><td>21</td><td>1016</td><td>1025</td><td> -9</td><td>1353</td><td>1340</td><td>⋯</td><td>AA</td><td>1131</td><td>N3ACAA</td><td>LGA</td><td>DFW</td><td>221</td><td>1389</td><td>10</td><td>25</td><td>2013-12-21 10:00:00</td></tr>\n",
       "\t<tr><td> 12</td><td>426.4000</td><td>2013</td><td> 8</td><td>21</td><td> 725</td><td> 739</td><td>-14</td><td> 907</td><td> 933</td><td>⋯</td><td>EV</td><td>4691</td><td>N13161</td><td>EWR</td><td>DAY</td><td> 75</td><td> 533</td><td> 7</td><td>39</td><td>2013-08-21 07:00:00</td></tr>\n",
       "\t<tr><td> -7</td><td>413.8065</td><td>2013</td><td> 1</td><td>10</td><td>1524</td><td>1530</td><td> -6</td><td>1856</td><td>1855</td><td>⋯</td><td>AA</td><td>1039</td><td>N3DWAA</td><td>JFK</td><td>FLL</td><td>155</td><td>1069</td><td>15</td><td>30</td><td>2013-01-10 15:00:00</td></tr>\n",
       "\t<tr><td> 23</td><td>438.2609</td><td>2013</td><td> 9</td><td> 1</td><td> 825</td><td> 829</td><td> -4</td><td>1000</td><td>1027</td><td>⋯</td><td>DL</td><td>1157</td><td>N321NB</td><td>EWR</td><td>MSP</td><td>138</td><td>1008</td><td> 8</td><td>29</td><td>2013-09-01 08:00:00</td></tr>\n",
       "\t<tr><td> -4</td><td>332.4000</td><td>2013</td><td>12</td><td>26</td><td>1825</td><td>1824</td><td>  1</td><td>1950</td><td>1945</td><td>⋯</td><td>EV</td><td>4131</td><td>N15574</td><td>EWR</td><td>RIC</td><td> 50</td><td> 277</td><td>18</td><td>24</td><td>2013-12-26 18:00:00</td></tr>\n",
       "\t<tr><td> 33</td><td>463.9877</td><td>2013</td><td> 5</td><td>11</td><td>2018</td><td>1931</td><td> 47</td><td>2319</td><td>2305</td><td>⋯</td><td>B6</td><td> 171</td><td>N529JB</td><td>JFK</td><td>SMF</td><td>326</td><td>2521</td><td>19</td><td>31</td><td>2013-05-11 19:00:00</td></tr>\n",
       "\t<tr><td>-13</td><td>418.0435</td><td>2013</td><td> 6</td><td> 4</td><td>1518</td><td>1500</td><td> 18</td><td>1753</td><td>1722</td><td>⋯</td><td>EV</td><td>4971</td><td>N398CA</td><td>LGA</td><td>CHS</td><td> 92</td><td> 641</td><td>15</td><td> 0</td><td>2013-06-04 15:00:00</td></tr>\n",
       "\t<tr><td> 24</td><td>379.5349</td><td>2013</td><td> 7</td><td> 2</td><td> 920</td><td> 920</td><td>  0</td><td>1109</td><td>1133</td><td>⋯</td><td>EV</td><td>4952</td><td>N391CA</td><td>LGA</td><td>CLT</td><td> 86</td><td> 544</td><td> 9</td><td>20</td><td>2013-07-02 09:00:00</td></tr>\n",
       "</tbody>\n",
       "</table>\n"
      ],
      "text/latex": [
       "A tibble: 10 × 21\n",
       "\\begin{tabular}{lllllllllllllllllllll}\n",
       " gain & speed & year & month & day & dep\\_time & sched\\_dep\\_time & dep\\_delay & arr\\_time & sched\\_arr\\_time & ⋯ & carrier & flight & tailnum & origin & dest & air\\_time & distance & hour & minute & time\\_hour\\\\\n",
       " <dbl> & <dbl> & <int> & <int> & <int> & <int> & <int> & <dbl> & <int> & <int> & ⋯ & <chr> & <int> & <chr> & <chr> & <chr> & <dbl> & <dbl> & <dbl> & <dbl> & <dttm>\\\\\n",
       "\\hline\n",
       "\t   2 & 343.5938 & 2013 &  5 & 10 & 1704 & 1500 & 124 & 1847 & 1645 & ⋯ & AA &  341 & N4YJAA & LGA & ORD & 128 &  733 & 15 &  0 & 2013-05-10 15:00:00\\\\\n",
       "\t  18 & 356.5289 & 2013 & 11 & 22 & 1653 & 1650 &   3 & 1809 & 1824 & ⋯ & UA &  708 & N825UA & EWR & ORD & 121 &  719 & 16 & 50 & 2013-11-22 16:00:00\\\\\n",
       "\t -22 & 377.1041 & 2013 & 12 & 21 & 1016 & 1025 &  -9 & 1353 & 1340 & ⋯ & AA & 1131 & N3ACAA & LGA & DFW & 221 & 1389 & 10 & 25 & 2013-12-21 10:00:00\\\\\n",
       "\t  12 & 426.4000 & 2013 &  8 & 21 &  725 &  739 & -14 &  907 &  933 & ⋯ & EV & 4691 & N13161 & EWR & DAY &  75 &  533 &  7 & 39 & 2013-08-21 07:00:00\\\\\n",
       "\t  -7 & 413.8065 & 2013 &  1 & 10 & 1524 & 1530 &  -6 & 1856 & 1855 & ⋯ & AA & 1039 & N3DWAA & JFK & FLL & 155 & 1069 & 15 & 30 & 2013-01-10 15:00:00\\\\\n",
       "\t  23 & 438.2609 & 2013 &  9 &  1 &  825 &  829 &  -4 & 1000 & 1027 & ⋯ & DL & 1157 & N321NB & EWR & MSP & 138 & 1008 &  8 & 29 & 2013-09-01 08:00:00\\\\\n",
       "\t  -4 & 332.4000 & 2013 & 12 & 26 & 1825 & 1824 &   1 & 1950 & 1945 & ⋯ & EV & 4131 & N15574 & EWR & RIC &  50 &  277 & 18 & 24 & 2013-12-26 18:00:00\\\\\n",
       "\t  33 & 463.9877 & 2013 &  5 & 11 & 2018 & 1931 &  47 & 2319 & 2305 & ⋯ & B6 &  171 & N529JB & JFK & SMF & 326 & 2521 & 19 & 31 & 2013-05-11 19:00:00\\\\\n",
       "\t -13 & 418.0435 & 2013 &  6 &  4 & 1518 & 1500 &  18 & 1753 & 1722 & ⋯ & EV & 4971 & N398CA & LGA & CHS &  92 &  641 & 15 &  0 & 2013-06-04 15:00:00\\\\\n",
       "\t  24 & 379.5349 & 2013 &  7 &  2 &  920 &  920 &   0 & 1109 & 1133 & ⋯ & EV & 4952 & N391CA & LGA & CLT &  86 &  544 &  9 & 20 & 2013-07-02 09:00:00\\\\\n",
       "\\end{tabular}\n"
      ],
      "text/markdown": [
       "\n",
       "A tibble: 10 × 21\n",
       "\n",
       "| gain &lt;dbl&gt; | speed &lt;dbl&gt; | year &lt;int&gt; | month &lt;int&gt; | day &lt;int&gt; | dep_time &lt;int&gt; | sched_dep_time &lt;int&gt; | dep_delay &lt;dbl&gt; | arr_time &lt;int&gt; | sched_arr_time &lt;int&gt; | ⋯ ⋯ | carrier &lt;chr&gt; | flight &lt;int&gt; | tailnum &lt;chr&gt; | origin &lt;chr&gt; | dest &lt;chr&gt; | air_time &lt;dbl&gt; | distance &lt;dbl&gt; | hour &lt;dbl&gt; | minute &lt;dbl&gt; | time_hour &lt;dttm&gt; |\n",
       "|---|---|---|---|---|---|---|---|---|---|---|---|---|---|---|---|---|---|---|---|---|\n",
       "|   2 | 343.5938 | 2013 |  5 | 10 | 1704 | 1500 | 124 | 1847 | 1645 | ⋯ | AA |  341 | N4YJAA | LGA | ORD | 128 |  733 | 15 |  0 | 2013-05-10 15:00:00 |\n",
       "|  18 | 356.5289 | 2013 | 11 | 22 | 1653 | 1650 |   3 | 1809 | 1824 | ⋯ | UA |  708 | N825UA | EWR | ORD | 121 |  719 | 16 | 50 | 2013-11-22 16:00:00 |\n",
       "| -22 | 377.1041 | 2013 | 12 | 21 | 1016 | 1025 |  -9 | 1353 | 1340 | ⋯ | AA | 1131 | N3ACAA | LGA | DFW | 221 | 1389 | 10 | 25 | 2013-12-21 10:00:00 |\n",
       "|  12 | 426.4000 | 2013 |  8 | 21 |  725 |  739 | -14 |  907 |  933 | ⋯ | EV | 4691 | N13161 | EWR | DAY |  75 |  533 |  7 | 39 | 2013-08-21 07:00:00 |\n",
       "|  -7 | 413.8065 | 2013 |  1 | 10 | 1524 | 1530 |  -6 | 1856 | 1855 | ⋯ | AA | 1039 | N3DWAA | JFK | FLL | 155 | 1069 | 15 | 30 | 2013-01-10 15:00:00 |\n",
       "|  23 | 438.2609 | 2013 |  9 |  1 |  825 |  829 |  -4 | 1000 | 1027 | ⋯ | DL | 1157 | N321NB | EWR | MSP | 138 | 1008 |  8 | 29 | 2013-09-01 08:00:00 |\n",
       "|  -4 | 332.4000 | 2013 | 12 | 26 | 1825 | 1824 |   1 | 1950 | 1945 | ⋯ | EV | 4131 | N15574 | EWR | RIC |  50 |  277 | 18 | 24 | 2013-12-26 18:00:00 |\n",
       "|  33 | 463.9877 | 2013 |  5 | 11 | 2018 | 1931 |  47 | 2319 | 2305 | ⋯ | B6 |  171 | N529JB | JFK | SMF | 326 | 2521 | 19 | 31 | 2013-05-11 19:00:00 |\n",
       "| -13 | 418.0435 | 2013 |  6 |  4 | 1518 | 1500 |  18 | 1753 | 1722 | ⋯ | EV | 4971 | N398CA | LGA | CHS |  92 |  641 | 15 |  0 | 2013-06-04 15:00:00 |\n",
       "|  24 | 379.5349 | 2013 |  7 |  2 |  920 |  920 |   0 | 1109 | 1133 | ⋯ | EV | 4952 | N391CA | LGA | CLT |  86 |  544 |  9 | 20 | 2013-07-02 09:00:00 |\n",
       "\n"
      ],
      "text/plain": [
       "   gain speed    year month day dep_time sched_dep_time dep_delay arr_time\n",
       "1    2  343.5938 2013  5    10  1704     1500           124       1847    \n",
       "2   18  356.5289 2013 11    22  1653     1650             3       1809    \n",
       "3  -22  377.1041 2013 12    21  1016     1025            -9       1353    \n",
       "4   12  426.4000 2013  8    21   725      739           -14        907    \n",
       "5   -7  413.8065 2013  1    10  1524     1530            -6       1856    \n",
       "6   23  438.2609 2013  9     1   825      829            -4       1000    \n",
       "7   -4  332.4000 2013 12    26  1825     1824             1       1950    \n",
       "8   33  463.9877 2013  5    11  2018     1931            47       2319    \n",
       "9  -13  418.0435 2013  6     4  1518     1500            18       1753    \n",
       "10  24  379.5349 2013  7     2   920      920             0       1109    \n",
       "   sched_arr_time ⋯ carrier flight tailnum origin dest air_time distance hour\n",
       "1  1645           ⋯ AA       341   N4YJAA  LGA    ORD  128       733     15  \n",
       "2  1824           ⋯ UA       708   N825UA  EWR    ORD  121       719     16  \n",
       "3  1340           ⋯ AA      1131   N3ACAA  LGA    DFW  221      1389     10  \n",
       "4   933           ⋯ EV      4691   N13161  EWR    DAY   75       533      7  \n",
       "5  1855           ⋯ AA      1039   N3DWAA  JFK    FLL  155      1069     15  \n",
       "6  1027           ⋯ DL      1157   N321NB  EWR    MSP  138      1008      8  \n",
       "7  1945           ⋯ EV      4131   N15574  EWR    RIC   50       277     18  \n",
       "8  2305           ⋯ B6       171   N529JB  JFK    SMF  326      2521     19  \n",
       "9  1722           ⋯ EV      4971   N398CA  LGA    CHS   92       641     15  \n",
       "10 1133           ⋯ EV      4952   N391CA  LGA    CLT   86       544      9  \n",
       "   minute time_hour          \n",
       "1   0     2013-05-10 15:00:00\n",
       "2  50     2013-11-22 16:00:00\n",
       "3  25     2013-12-21 10:00:00\n",
       "4  39     2013-08-21 07:00:00\n",
       "5  30     2013-01-10 15:00:00\n",
       "6  29     2013-09-01 08:00:00\n",
       "7  24     2013-12-26 18:00:00\n",
       "8  31     2013-05-11 19:00:00\n",
       "9   0     2013-06-04 15:00:00\n",
       "10 20     2013-07-02 09:00:00"
      ]
     },
     "metadata": {},
     "output_type": "display_data"
    }
   ],
   "source": [
    "flights |>\n",
    "  mutate(\n",
    "    gain = dep_delay - arr_delay,\n",
    "    speed = distance / (air_time / 60),\n",
    "    .before = 1\n",
    "  ) |>\n",
    "  sample_n(10)\n"
   ]
  },
  {
   "cell_type": "code",
   "execution_count": 6,
   "metadata": {
    "vscode": {
     "languageId": "r"
    }
   },
   "outputs": [
    {
     "data": {
      "text/html": [
       "<table class=\"dataframe\">\n",
       "<caption>A tibble: 10 × 21</caption>\n",
       "<thead>\n",
       "\t<tr><th scope=col>year</th><th scope=col>month</th><th scope=col>day</th><th scope=col>gain</th><th scope=col>speed</th><th scope=col>dep_time</th><th scope=col>sched_dep_time</th><th scope=col>dep_delay</th><th scope=col>arr_time</th><th scope=col>sched_arr_time</th><th scope=col>⋯</th><th scope=col>carrier</th><th scope=col>flight</th><th scope=col>tailnum</th><th scope=col>origin</th><th scope=col>dest</th><th scope=col>air_time</th><th scope=col>distance</th><th scope=col>hour</th><th scope=col>minute</th><th scope=col>time_hour</th></tr>\n",
       "\t<tr><th scope=col>&lt;int&gt;</th><th scope=col>&lt;int&gt;</th><th scope=col>&lt;int&gt;</th><th scope=col>&lt;dbl&gt;</th><th scope=col>&lt;dbl&gt;</th><th scope=col>&lt;int&gt;</th><th scope=col>&lt;int&gt;</th><th scope=col>&lt;dbl&gt;</th><th scope=col>&lt;int&gt;</th><th scope=col>&lt;int&gt;</th><th scope=col>⋯</th><th scope=col>&lt;chr&gt;</th><th scope=col>&lt;int&gt;</th><th scope=col>&lt;chr&gt;</th><th scope=col>&lt;chr&gt;</th><th scope=col>&lt;chr&gt;</th><th scope=col>&lt;dbl&gt;</th><th scope=col>&lt;dbl&gt;</th><th scope=col>&lt;dbl&gt;</th><th scope=col>&lt;dbl&gt;</th><th scope=col>&lt;dttm&gt;</th></tr>\n",
       "</thead>\n",
       "<tbody>\n",
       "\t<tr><td>2013</td><td> 2</td><td>22</td><td>-18</td><td>393.3333</td><td> 653</td><td> 659</td><td> -6</td><td>1011</td><td> 959</td><td>⋯</td><td>AA</td><td>1815</td><td>N5EXAA</td><td>JFK</td><td>MCO</td><td>144</td><td> 944</td><td> 6</td><td>59</td><td>2013-02-22 06:00:00</td></tr>\n",
       "\t<tr><td>2013</td><td> 9</td><td>11</td><td>-49</td><td>418.9655</td><td>1802</td><td>1735</td><td> 27</td><td>2116</td><td>2000</td><td>⋯</td><td>WN</td><td> 401</td><td>N756SA</td><td>LGA</td><td>DEN</td><td>232</td><td>1620</td><td>17</td><td>35</td><td>2013-09-11 17:00:00</td></tr>\n",
       "\t<tr><td>2013</td><td> 2</td><td>28</td><td> 19</td><td>416.5161</td><td> 655</td><td> 700</td><td> -5</td><td> 950</td><td>1014</td><td>⋯</td><td>DL</td><td>1879</td><td>N330NW</td><td>LGA</td><td>FLL</td><td>155</td><td>1076</td><td> 7</td><td> 0</td><td>2013-02-28 07:00:00</td></tr>\n",
       "\t<tr><td>2013</td><td> 9</td><td>26</td><td> 19</td><td>449.7744</td><td>1135</td><td>1140</td><td> -5</td><td>1404</td><td>1428</td><td>⋯</td><td>UA</td><td>1618</td><td>N37253</td><td>EWR</td><td>TPA</td><td>133</td><td> 997</td><td>11</td><td>40</td><td>2013-09-26 11:00:00</td></tr>\n",
       "\t<tr><td>2013</td><td> 6</td><td> 1</td><td> -5</td><td>416.0000</td><td> 706</td><td> 630</td><td> 36</td><td> 844</td><td> 803</td><td>⋯</td><td>EV</td><td>3266</td><td>N15572</td><td>EWR</td><td>RDU</td><td> 60</td><td> 416</td><td> 6</td><td>30</td><td>2013-06-01 06:00:00</td></tr>\n",
       "\t<tr><td>2013</td><td>10</td><td>11</td><td>  9</td><td>456.7742</td><td> 543</td><td> 545</td><td> -2</td><td> 816</td><td> 827</td><td>⋯</td><td>UA</td><td>1714</td><td>N29717</td><td>LGA</td><td>IAH</td><td>186</td><td>1416</td><td> 5</td><td>45</td><td>2013-10-11 05:00:00</td></tr>\n",
       "\t<tr><td>2013</td><td>12</td><td> 4</td><td>  9</td><td>375.4054</td><td>1640</td><td>1650</td><td>-10</td><td>1946</td><td>2005</td><td>⋯</td><td>AA</td><td>1171</td><td>N3GUAA</td><td>LGA</td><td>DFW</td><td>222</td><td>1389</td><td>16</td><td>50</td><td>2013-12-04 16:00:00</td></tr>\n",
       "\t<tr><td>2013</td><td> 5</td><td>17</td><td> -6</td><td>445.5882</td><td>1938</td><td>1940</td><td> -2</td><td>2247</td><td>2243</td><td>⋯</td><td>DL</td><td>1435</td><td>N953DL</td><td>LGA</td><td>TPA</td><td>136</td><td>1010</td><td>19</td><td>40</td><td>2013-05-17 19:00:00</td></tr>\n",
       "\t<tr><td>2013</td><td>11</td><td> 2</td><td> -7</td><td>425.0000</td><td>1147</td><td>1150</td><td> -3</td><td>1344</td><td>1340</td><td>⋯</td><td>MQ</td><td>3616</td><td>N523MQ</td><td>LGA</td><td>MSP</td><td>144</td><td>1020</td><td>11</td><td>50</td><td>2013-11-02 11:00:00</td></tr>\n",
       "\t<tr><td>2013</td><td> 3</td><td> 7</td><td> NA</td><td>      NA</td><td>  NA</td><td> 600</td><td> NA</td><td>  NA</td><td> 715</td><td>⋯</td><td>EV</td><td>5716</td><td>N828AS</td><td>JFK</td><td>IAD</td><td> NA</td><td> 228</td><td> 6</td><td> 0</td><td>2013-03-07 06:00:00</td></tr>\n",
       "</tbody>\n",
       "</table>\n"
      ],
      "text/latex": [
       "A tibble: 10 × 21\n",
       "\\begin{tabular}{lllllllllllllllllllll}\n",
       " year & month & day & gain & speed & dep\\_time & sched\\_dep\\_time & dep\\_delay & arr\\_time & sched\\_arr\\_time & ⋯ & carrier & flight & tailnum & origin & dest & air\\_time & distance & hour & minute & time\\_hour\\\\\n",
       " <int> & <int> & <int> & <dbl> & <dbl> & <int> & <int> & <dbl> & <int> & <int> & ⋯ & <chr> & <int> & <chr> & <chr> & <chr> & <dbl> & <dbl> & <dbl> & <dbl> & <dttm>\\\\\n",
       "\\hline\n",
       "\t 2013 &  2 & 22 & -18 & 393.3333 &  653 &  659 &  -6 & 1011 &  959 & ⋯ & AA & 1815 & N5EXAA & JFK & MCO & 144 &  944 &  6 & 59 & 2013-02-22 06:00:00\\\\\n",
       "\t 2013 &  9 & 11 & -49 & 418.9655 & 1802 & 1735 &  27 & 2116 & 2000 & ⋯ & WN &  401 & N756SA & LGA & DEN & 232 & 1620 & 17 & 35 & 2013-09-11 17:00:00\\\\\n",
       "\t 2013 &  2 & 28 &  19 & 416.5161 &  655 &  700 &  -5 &  950 & 1014 & ⋯ & DL & 1879 & N330NW & LGA & FLL & 155 & 1076 &  7 &  0 & 2013-02-28 07:00:00\\\\\n",
       "\t 2013 &  9 & 26 &  19 & 449.7744 & 1135 & 1140 &  -5 & 1404 & 1428 & ⋯ & UA & 1618 & N37253 & EWR & TPA & 133 &  997 & 11 & 40 & 2013-09-26 11:00:00\\\\\n",
       "\t 2013 &  6 &  1 &  -5 & 416.0000 &  706 &  630 &  36 &  844 &  803 & ⋯ & EV & 3266 & N15572 & EWR & RDU &  60 &  416 &  6 & 30 & 2013-06-01 06:00:00\\\\\n",
       "\t 2013 & 10 & 11 &   9 & 456.7742 &  543 &  545 &  -2 &  816 &  827 & ⋯ & UA & 1714 & N29717 & LGA & IAH & 186 & 1416 &  5 & 45 & 2013-10-11 05:00:00\\\\\n",
       "\t 2013 & 12 &  4 &   9 & 375.4054 & 1640 & 1650 & -10 & 1946 & 2005 & ⋯ & AA & 1171 & N3GUAA & LGA & DFW & 222 & 1389 & 16 & 50 & 2013-12-04 16:00:00\\\\\n",
       "\t 2013 &  5 & 17 &  -6 & 445.5882 & 1938 & 1940 &  -2 & 2247 & 2243 & ⋯ & DL & 1435 & N953DL & LGA & TPA & 136 & 1010 & 19 & 40 & 2013-05-17 19:00:00\\\\\n",
       "\t 2013 & 11 &  2 &  -7 & 425.0000 & 1147 & 1150 &  -3 & 1344 & 1340 & ⋯ & MQ & 3616 & N523MQ & LGA & MSP & 144 & 1020 & 11 & 50 & 2013-11-02 11:00:00\\\\\n",
       "\t 2013 &  3 &  7 &  NA &       NA &   NA &  600 &  NA &   NA &  715 & ⋯ & EV & 5716 & N828AS & JFK & IAD &  NA &  228 &  6 &  0 & 2013-03-07 06:00:00\\\\\n",
       "\\end{tabular}\n"
      ],
      "text/markdown": [
       "\n",
       "A tibble: 10 × 21\n",
       "\n",
       "| year &lt;int&gt; | month &lt;int&gt; | day &lt;int&gt; | gain &lt;dbl&gt; | speed &lt;dbl&gt; | dep_time &lt;int&gt; | sched_dep_time &lt;int&gt; | dep_delay &lt;dbl&gt; | arr_time &lt;int&gt; | sched_arr_time &lt;int&gt; | ⋯ ⋯ | carrier &lt;chr&gt; | flight &lt;int&gt; | tailnum &lt;chr&gt; | origin &lt;chr&gt; | dest &lt;chr&gt; | air_time &lt;dbl&gt; | distance &lt;dbl&gt; | hour &lt;dbl&gt; | minute &lt;dbl&gt; | time_hour &lt;dttm&gt; |\n",
       "|---|---|---|---|---|---|---|---|---|---|---|---|---|---|---|---|---|---|---|---|---|\n",
       "| 2013 |  2 | 22 | -18 | 393.3333 |  653 |  659 |  -6 | 1011 |  959 | ⋯ | AA | 1815 | N5EXAA | JFK | MCO | 144 |  944 |  6 | 59 | 2013-02-22 06:00:00 |\n",
       "| 2013 |  9 | 11 | -49 | 418.9655 | 1802 | 1735 |  27 | 2116 | 2000 | ⋯ | WN |  401 | N756SA | LGA | DEN | 232 | 1620 | 17 | 35 | 2013-09-11 17:00:00 |\n",
       "| 2013 |  2 | 28 |  19 | 416.5161 |  655 |  700 |  -5 |  950 | 1014 | ⋯ | DL | 1879 | N330NW | LGA | FLL | 155 | 1076 |  7 |  0 | 2013-02-28 07:00:00 |\n",
       "| 2013 |  9 | 26 |  19 | 449.7744 | 1135 | 1140 |  -5 | 1404 | 1428 | ⋯ | UA | 1618 | N37253 | EWR | TPA | 133 |  997 | 11 | 40 | 2013-09-26 11:00:00 |\n",
       "| 2013 |  6 |  1 |  -5 | 416.0000 |  706 |  630 |  36 |  844 |  803 | ⋯ | EV | 3266 | N15572 | EWR | RDU |  60 |  416 |  6 | 30 | 2013-06-01 06:00:00 |\n",
       "| 2013 | 10 | 11 |   9 | 456.7742 |  543 |  545 |  -2 |  816 |  827 | ⋯ | UA | 1714 | N29717 | LGA | IAH | 186 | 1416 |  5 | 45 | 2013-10-11 05:00:00 |\n",
       "| 2013 | 12 |  4 |   9 | 375.4054 | 1640 | 1650 | -10 | 1946 | 2005 | ⋯ | AA | 1171 | N3GUAA | LGA | DFW | 222 | 1389 | 16 | 50 | 2013-12-04 16:00:00 |\n",
       "| 2013 |  5 | 17 |  -6 | 445.5882 | 1938 | 1940 |  -2 | 2247 | 2243 | ⋯ | DL | 1435 | N953DL | LGA | TPA | 136 | 1010 | 19 | 40 | 2013-05-17 19:00:00 |\n",
       "| 2013 | 11 |  2 |  -7 | 425.0000 | 1147 | 1150 |  -3 | 1344 | 1340 | ⋯ | MQ | 3616 | N523MQ | LGA | MSP | 144 | 1020 | 11 | 50 | 2013-11-02 11:00:00 |\n",
       "| 2013 |  3 |  7 |  NA |       NA |   NA |  600 |  NA |   NA |  715 | ⋯ | EV | 5716 | N828AS | JFK | IAD |  NA |  228 |  6 |  0 | 2013-03-07 06:00:00 |\n",
       "\n"
      ],
      "text/plain": [
       "   year month day gain speed    dep_time sched_dep_time dep_delay arr_time\n",
       "1  2013  2    22  -18  393.3333  653      659            -6       1011    \n",
       "2  2013  9    11  -49  418.9655 1802     1735            27       2116    \n",
       "3  2013  2    28   19  416.5161  655      700            -5        950    \n",
       "4  2013  9    26   19  449.7744 1135     1140            -5       1404    \n",
       "5  2013  6     1   -5  416.0000  706      630            36        844    \n",
       "6  2013 10    11    9  456.7742  543      545            -2        816    \n",
       "7  2013 12     4    9  375.4054 1640     1650           -10       1946    \n",
       "8  2013  5    17   -6  445.5882 1938     1940            -2       2247    \n",
       "9  2013 11     2   -7  425.0000 1147     1150            -3       1344    \n",
       "10 2013  3     7   NA        NA   NA      600            NA         NA    \n",
       "   sched_arr_time ⋯ carrier flight tailnum origin dest air_time distance hour\n",
       "1   959           ⋯ AA      1815   N5EXAA  JFK    MCO  144       944      6  \n",
       "2  2000           ⋯ WN       401   N756SA  LGA    DEN  232      1620     17  \n",
       "3  1014           ⋯ DL      1879   N330NW  LGA    FLL  155      1076      7  \n",
       "4  1428           ⋯ UA      1618   N37253  EWR    TPA  133       997     11  \n",
       "5   803           ⋯ EV      3266   N15572  EWR    RDU   60       416      6  \n",
       "6   827           ⋯ UA      1714   N29717  LGA    IAH  186      1416      5  \n",
       "7  2005           ⋯ AA      1171   N3GUAA  LGA    DFW  222      1389     16  \n",
       "8  2243           ⋯ DL      1435   N953DL  LGA    TPA  136      1010     19  \n",
       "9  1340           ⋯ MQ      3616   N523MQ  LGA    MSP  144      1020     11  \n",
       "10  715           ⋯ EV      5716   N828AS  JFK    IAD   NA       228      6  \n",
       "   minute time_hour          \n",
       "1  59     2013-02-22 06:00:00\n",
       "2  35     2013-09-11 17:00:00\n",
       "3   0     2013-02-28 07:00:00\n",
       "4  40     2013-09-26 11:00:00\n",
       "5  30     2013-06-01 06:00:00\n",
       "6  45     2013-10-11 05:00:00\n",
       "7  50     2013-12-04 16:00:00\n",
       "8  40     2013-05-17 19:00:00\n",
       "9  50     2013-11-02 11:00:00\n",
       "10  0     2013-03-07 06:00:00"
      ]
     },
     "metadata": {},
     "output_type": "display_data"
    }
   ],
   "source": [
    "flights |>\n",
    "  mutate(\n",
    "    gain = dep_delay - arr_delay,\n",
    "    speed = distance / (air_time / 60),\n",
    "    .after = day\n",
    "  ) |>\n",
    "  sample_n(10)\n"
   ]
  },
  {
   "cell_type": "code",
   "execution_count": 7,
   "metadata": {
    "vscode": {
     "languageId": "r"
    }
   },
   "outputs": [
    {
     "data": {
      "text/html": [
       "<table class=\"dataframe\">\n",
       "<caption>A tibble: 10 × 6</caption>\n",
       "<thead>\n",
       "\t<tr><th scope=col>dep_delay</th><th scope=col>arr_delay</th><th scope=col>air_time</th><th scope=col>gain</th><th scope=col>hours</th><th scope=col>gain_per_hour</th></tr>\n",
       "\t<tr><th scope=col>&lt;dbl&gt;</th><th scope=col>&lt;dbl&gt;</th><th scope=col>&lt;dbl&gt;</th><th scope=col>&lt;dbl&gt;</th><th scope=col>&lt;dbl&gt;</th><th scope=col>&lt;dbl&gt;</th></tr>\n",
       "</thead>\n",
       "<tbody>\n",
       "\t<tr><td>-7</td><td> 12</td><td> 96</td><td>-19</td><td>1.6000000</td><td>-11.875000</td></tr>\n",
       "\t<tr><td>10</td><td> 11</td><td> 52</td><td> -1</td><td>0.8666667</td><td> -1.153846</td></tr>\n",
       "\t<tr><td> 5</td><td>-10</td><td>323</td><td> 15</td><td>5.3833333</td><td>  2.786378</td></tr>\n",
       "\t<tr><td>22</td><td> 26</td><td>224</td><td> -4</td><td>3.7333333</td><td> -1.071429</td></tr>\n",
       "\t<tr><td>67</td><td> 20</td><td>321</td><td> 47</td><td>5.3500000</td><td>  8.785047</td></tr>\n",
       "\t<tr><td>-4</td><td>-20</td><td>111</td><td> 16</td><td>1.8500000</td><td>  8.648649</td></tr>\n",
       "\t<tr><td>62</td><td> 44</td><td> 63</td><td> 18</td><td>1.0500000</td><td> 17.142857</td></tr>\n",
       "\t<tr><td>16</td><td>  0</td><td>192</td><td> 16</td><td>3.2000000</td><td>  5.000000</td></tr>\n",
       "\t<tr><td>-4</td><td> 17</td><td>152</td><td>-21</td><td>2.5333333</td><td> -8.289474</td></tr>\n",
       "\t<tr><td>62</td><td> 60</td><td>110</td><td>  2</td><td>1.8333333</td><td>  1.090909</td></tr>\n",
       "</tbody>\n",
       "</table>\n"
      ],
      "text/latex": [
       "A tibble: 10 × 6\n",
       "\\begin{tabular}{llllll}\n",
       " dep\\_delay & arr\\_delay & air\\_time & gain & hours & gain\\_per\\_hour\\\\\n",
       " <dbl> & <dbl> & <dbl> & <dbl> & <dbl> & <dbl>\\\\\n",
       "\\hline\n",
       "\t -7 &  12 &  96 & -19 & 1.6000000 & -11.875000\\\\\n",
       "\t 10 &  11 &  52 &  -1 & 0.8666667 &  -1.153846\\\\\n",
       "\t  5 & -10 & 323 &  15 & 5.3833333 &   2.786378\\\\\n",
       "\t 22 &  26 & 224 &  -4 & 3.7333333 &  -1.071429\\\\\n",
       "\t 67 &  20 & 321 &  47 & 5.3500000 &   8.785047\\\\\n",
       "\t -4 & -20 & 111 &  16 & 1.8500000 &   8.648649\\\\\n",
       "\t 62 &  44 &  63 &  18 & 1.0500000 &  17.142857\\\\\n",
       "\t 16 &   0 & 192 &  16 & 3.2000000 &   5.000000\\\\\n",
       "\t -4 &  17 & 152 & -21 & 2.5333333 &  -8.289474\\\\\n",
       "\t 62 &  60 & 110 &   2 & 1.8333333 &   1.090909\\\\\n",
       "\\end{tabular}\n"
      ],
      "text/markdown": [
       "\n",
       "A tibble: 10 × 6\n",
       "\n",
       "| dep_delay &lt;dbl&gt; | arr_delay &lt;dbl&gt; | air_time &lt;dbl&gt; | gain &lt;dbl&gt; | hours &lt;dbl&gt; | gain_per_hour &lt;dbl&gt; |\n",
       "|---|---|---|---|---|---|\n",
       "| -7 |  12 |  96 | -19 | 1.6000000 | -11.875000 |\n",
       "| 10 |  11 |  52 |  -1 | 0.8666667 |  -1.153846 |\n",
       "|  5 | -10 | 323 |  15 | 5.3833333 |   2.786378 |\n",
       "| 22 |  26 | 224 |  -4 | 3.7333333 |  -1.071429 |\n",
       "| 67 |  20 | 321 |  47 | 5.3500000 |   8.785047 |\n",
       "| -4 | -20 | 111 |  16 | 1.8500000 |   8.648649 |\n",
       "| 62 |  44 |  63 |  18 | 1.0500000 |  17.142857 |\n",
       "| 16 |   0 | 192 |  16 | 3.2000000 |   5.000000 |\n",
       "| -4 |  17 | 152 | -21 | 2.5333333 |  -8.289474 |\n",
       "| 62 |  60 | 110 |   2 | 1.8333333 |   1.090909 |\n",
       "\n"
      ],
      "text/plain": [
       "   dep_delay arr_delay air_time gain hours     gain_per_hour\n",
       "1  -7         12        96      -19  1.6000000 -11.875000   \n",
       "2  10         11        52       -1  0.8666667  -1.153846   \n",
       "3   5        -10       323       15  5.3833333   2.786378   \n",
       "4  22         26       224       -4  3.7333333  -1.071429   \n",
       "5  67         20       321       47  5.3500000   8.785047   \n",
       "6  -4        -20       111       16  1.8500000   8.648649   \n",
       "7  62         44        63       18  1.0500000  17.142857   \n",
       "8  16          0       192       16  3.2000000   5.000000   \n",
       "9  -4         17       152      -21  2.5333333  -8.289474   \n",
       "10 62         60       110        2  1.8333333   1.090909   "
      ]
     },
     "metadata": {},
     "output_type": "display_data"
    }
   ],
   "source": [
    "flights |>\n",
    "  mutate(\n",
    "    gain = dep_delay - arr_delay,\n",
    "    hours = air_time / 60,\n",
    "    gain_per_hour = gain / hours,\n",
    "    .keep = \"used\"\n",
    "  ) |>\n",
    "  sample_n(10)\n"
   ]
  },
  {
   "cell_type": "markdown",
   "metadata": {},
   "source": [
    "## Intro to `select`\n"
   ]
  },
  {
   "cell_type": "code",
   "execution_count": 8,
   "metadata": {
    "vscode": {
     "languageId": "r"
    }
   },
   "outputs": [
    {
     "data": {
      "text/html": [
       "<table class=\"dataframe\">\n",
       "<caption>A tibble: 10 × 3</caption>\n",
       "<thead>\n",
       "\t<tr><th scope=col>year</th><th scope=col>month</th><th scope=col>day</th></tr>\n",
       "\t<tr><th scope=col>&lt;int&gt;</th><th scope=col>&lt;int&gt;</th><th scope=col>&lt;int&gt;</th></tr>\n",
       "</thead>\n",
       "<tbody>\n",
       "\t<tr><td>2013</td><td>12</td><td> 9</td></tr>\n",
       "\t<tr><td>2013</td><td>10</td><td>22</td></tr>\n",
       "\t<tr><td>2013</td><td> 3</td><td>14</td></tr>\n",
       "\t<tr><td>2013</td><td> 9</td><td>23</td></tr>\n",
       "\t<tr><td>2013</td><td> 9</td><td>15</td></tr>\n",
       "\t<tr><td>2013</td><td> 7</td><td> 6</td></tr>\n",
       "\t<tr><td>2013</td><td> 8</td><td>13</td></tr>\n",
       "\t<tr><td>2013</td><td> 3</td><td> 2</td></tr>\n",
       "\t<tr><td>2013</td><td>10</td><td>25</td></tr>\n",
       "\t<tr><td>2013</td><td> 4</td><td>17</td></tr>\n",
       "</tbody>\n",
       "</table>\n"
      ],
      "text/latex": [
       "A tibble: 10 × 3\n",
       "\\begin{tabular}{lll}\n",
       " year & month & day\\\\\n",
       " <int> & <int> & <int>\\\\\n",
       "\\hline\n",
       "\t 2013 & 12 &  9\\\\\n",
       "\t 2013 & 10 & 22\\\\\n",
       "\t 2013 &  3 & 14\\\\\n",
       "\t 2013 &  9 & 23\\\\\n",
       "\t 2013 &  9 & 15\\\\\n",
       "\t 2013 &  7 &  6\\\\\n",
       "\t 2013 &  8 & 13\\\\\n",
       "\t 2013 &  3 &  2\\\\\n",
       "\t 2013 & 10 & 25\\\\\n",
       "\t 2013 &  4 & 17\\\\\n",
       "\\end{tabular}\n"
      ],
      "text/markdown": [
       "\n",
       "A tibble: 10 × 3\n",
       "\n",
       "| year &lt;int&gt; | month &lt;int&gt; | day &lt;int&gt; |\n",
       "|---|---|---|\n",
       "| 2013 | 12 |  9 |\n",
       "| 2013 | 10 | 22 |\n",
       "| 2013 |  3 | 14 |\n",
       "| 2013 |  9 | 23 |\n",
       "| 2013 |  9 | 15 |\n",
       "| 2013 |  7 |  6 |\n",
       "| 2013 |  8 | 13 |\n",
       "| 2013 |  3 |  2 |\n",
       "| 2013 | 10 | 25 |\n",
       "| 2013 |  4 | 17 |\n",
       "\n"
      ],
      "text/plain": [
       "   year month day\n",
       "1  2013 12     9 \n",
       "2  2013 10    22 \n",
       "3  2013  3    14 \n",
       "4  2013  9    23 \n",
       "5  2013  9    15 \n",
       "6  2013  7     6 \n",
       "7  2013  8    13 \n",
       "8  2013  3     2 \n",
       "9  2013 10    25 \n",
       "10 2013  4    17 "
      ]
     },
     "metadata": {},
     "output_type": "display_data"
    }
   ],
   "source": [
    "flights |>\n",
    "  select(year, month, day) |>\n",
    "  sample_n(10)\n"
   ]
  },
  {
   "cell_type": "code",
   "execution_count": 9,
   "metadata": {
    "vscode": {
     "languageId": "r"
    }
   },
   "outputs": [
    {
     "data": {
      "text/html": [
       "<table class=\"dataframe\">\n",
       "<caption>A tibble: 10 × 3</caption>\n",
       "<thead>\n",
       "\t<tr><th scope=col>year</th><th scope=col>month</th><th scope=col>day</th></tr>\n",
       "\t<tr><th scope=col>&lt;int&gt;</th><th scope=col>&lt;int&gt;</th><th scope=col>&lt;int&gt;</th></tr>\n",
       "</thead>\n",
       "<tbody>\n",
       "\t<tr><td>2013</td><td> 1</td><td>19</td></tr>\n",
       "\t<tr><td>2013</td><td> 6</td><td>12</td></tr>\n",
       "\t<tr><td>2013</td><td> 6</td><td>11</td></tr>\n",
       "\t<tr><td>2013</td><td>12</td><td>19</td></tr>\n",
       "\t<tr><td>2013</td><td> 7</td><td>12</td></tr>\n",
       "\t<tr><td>2013</td><td>12</td><td> 8</td></tr>\n",
       "\t<tr><td>2013</td><td> 9</td><td>15</td></tr>\n",
       "\t<tr><td>2013</td><td> 6</td><td> 6</td></tr>\n",
       "\t<tr><td>2013</td><td>11</td><td>16</td></tr>\n",
       "\t<tr><td>2013</td><td> 5</td><td> 1</td></tr>\n",
       "</tbody>\n",
       "</table>\n"
      ],
      "text/latex": [
       "A tibble: 10 × 3\n",
       "\\begin{tabular}{lll}\n",
       " year & month & day\\\\\n",
       " <int> & <int> & <int>\\\\\n",
       "\\hline\n",
       "\t 2013 &  1 & 19\\\\\n",
       "\t 2013 &  6 & 12\\\\\n",
       "\t 2013 &  6 & 11\\\\\n",
       "\t 2013 & 12 & 19\\\\\n",
       "\t 2013 &  7 & 12\\\\\n",
       "\t 2013 & 12 &  8\\\\\n",
       "\t 2013 &  9 & 15\\\\\n",
       "\t 2013 &  6 &  6\\\\\n",
       "\t 2013 & 11 & 16\\\\\n",
       "\t 2013 &  5 &  1\\\\\n",
       "\\end{tabular}\n"
      ],
      "text/markdown": [
       "\n",
       "A tibble: 10 × 3\n",
       "\n",
       "| year &lt;int&gt; | month &lt;int&gt; | day &lt;int&gt; |\n",
       "|---|---|---|\n",
       "| 2013 |  1 | 19 |\n",
       "| 2013 |  6 | 12 |\n",
       "| 2013 |  6 | 11 |\n",
       "| 2013 | 12 | 19 |\n",
       "| 2013 |  7 | 12 |\n",
       "| 2013 | 12 |  8 |\n",
       "| 2013 |  9 | 15 |\n",
       "| 2013 |  6 |  6 |\n",
       "| 2013 | 11 | 16 |\n",
       "| 2013 |  5 |  1 |\n",
       "\n"
      ],
      "text/plain": [
       "   year month day\n",
       "1  2013  1    19 \n",
       "2  2013  6    12 \n",
       "3  2013  6    11 \n",
       "4  2013 12    19 \n",
       "5  2013  7    12 \n",
       "6  2013 12     8 \n",
       "7  2013  9    15 \n",
       "8  2013  6     6 \n",
       "9  2013 11    16 \n",
       "10 2013  5     1 "
      ]
     },
     "metadata": {},
     "output_type": "display_data"
    }
   ],
   "source": [
    "flights |>\n",
    "  select(year:day) |>\n",
    "  sample_n(10)\n"
   ]
  },
  {
   "cell_type": "code",
   "execution_count": 10,
   "metadata": {
    "vscode": {
     "languageId": "r"
    }
   },
   "outputs": [
    {
     "data": {
      "text/html": [
       "<table class=\"dataframe\">\n",
       "<caption>A tibble: 10 × 16</caption>\n",
       "<thead>\n",
       "\t<tr><th scope=col>dep_time</th><th scope=col>sched_dep_time</th><th scope=col>dep_delay</th><th scope=col>arr_time</th><th scope=col>sched_arr_time</th><th scope=col>arr_delay</th><th scope=col>carrier</th><th scope=col>flight</th><th scope=col>tailnum</th><th scope=col>origin</th><th scope=col>dest</th><th scope=col>air_time</th><th scope=col>distance</th><th scope=col>hour</th><th scope=col>minute</th><th scope=col>time_hour</th></tr>\n",
       "\t<tr><th scope=col>&lt;int&gt;</th><th scope=col>&lt;int&gt;</th><th scope=col>&lt;dbl&gt;</th><th scope=col>&lt;int&gt;</th><th scope=col>&lt;int&gt;</th><th scope=col>&lt;dbl&gt;</th><th scope=col>&lt;chr&gt;</th><th scope=col>&lt;int&gt;</th><th scope=col>&lt;chr&gt;</th><th scope=col>&lt;chr&gt;</th><th scope=col>&lt;chr&gt;</th><th scope=col>&lt;dbl&gt;</th><th scope=col>&lt;dbl&gt;</th><th scope=col>&lt;dbl&gt;</th><th scope=col>&lt;dbl&gt;</th><th scope=col>&lt;dttm&gt;</th></tr>\n",
       "</thead>\n",
       "<tbody>\n",
       "\t<tr><td> 839</td><td> 845</td><td> -6</td><td>1014</td><td>1030</td><td>-16</td><td>EV</td><td>5288</td><td>N371CA</td><td>LGA</td><td>BUF</td><td> 48</td><td> 292</td><td> 8</td><td>45</td><td>2013-10-23 08:00:00</td></tr>\n",
       "\t<tr><td>1619</td><td>1630</td><td>-11</td><td>2011</td><td>2020</td><td> -9</td><td>VX</td><td>  27</td><td>N843VA</td><td>JFK</td><td>SFO</td><td>388</td><td>2586</td><td>16</td><td>30</td><td>2013-01-23 16:00:00</td></tr>\n",
       "\t<tr><td>  NA</td><td>2155</td><td> NA</td><td>  NA</td><td>2329</td><td> NA</td><td>EV</td><td>3267</td><td>N15983</td><td>EWR</td><td>ORF</td><td> NA</td><td> 284</td><td>21</td><td>55</td><td>2013-07-22 21:00:00</td></tr>\n",
       "\t<tr><td> 611</td><td> 615</td><td> -4</td><td> 903</td><td> 910</td><td> -7</td><td>AA</td><td>1895</td><td>N3GBAA</td><td>EWR</td><td>MIA</td><td>145</td><td>1085</td><td> 6</td><td>15</td><td>2013-08-02 06:00:00</td></tr>\n",
       "\t<tr><td>1059</td><td>1106</td><td> -7</td><td>1152</td><td>1209</td><td>-17</td><td>EV</td><td>4404</td><td>N14570</td><td>EWR</td><td>PVD</td><td> 32</td><td> 160</td><td>11</td><td> 6</td><td>2013-06-09 11:00:00</td></tr>\n",
       "\t<tr><td> 752</td><td> 800</td><td> -8</td><td> 949</td><td> 914</td><td> 35</td><td>US</td><td>2165</td><td>N732US</td><td>LGA</td><td>DCA</td><td> 60</td><td> 214</td><td> 8</td><td> 0</td><td>2013-05-21 08:00:00</td></tr>\n",
       "\t<tr><td>2053</td><td>2055</td><td> -2</td><td>2254</td><td>2250</td><td>  4</td><td>MQ</td><td>4573</td><td>N737MQ</td><td>LGA</td><td>DTW</td><td> 80</td><td> 502</td><td>20</td><td>55</td><td>2013-03-08 20:00:00</td></tr>\n",
       "\t<tr><td>1751</td><td>1755</td><td> -4</td><td>2052</td><td>2108</td><td>-16</td><td>B6</td><td> 989</td><td>N587JB</td><td>JFK</td><td>FLL</td><td>155</td><td>1069</td><td>17</td><td>55</td><td>2013-02-05 17:00:00</td></tr>\n",
       "\t<tr><td>1252</td><td>1300</td><td> -8</td><td>1404</td><td>1415</td><td>-11</td><td>US</td><td>2181</td><td>N732US</td><td>LGA</td><td>DCA</td><td> 39</td><td> 214</td><td>13</td><td> 0</td><td>2013-10-08 13:00:00</td></tr>\n",
       "\t<tr><td>2205</td><td>1959</td><td>126</td><td>2332</td><td>2140</td><td>112</td><td>EV</td><td>4649</td><td>N17108</td><td>LGA</td><td>CLE</td><td> 65</td><td> 419</td><td>19</td><td>59</td><td>2013-06-28 19:00:00</td></tr>\n",
       "</tbody>\n",
       "</table>\n"
      ],
      "text/latex": [
       "A tibble: 10 × 16\n",
       "\\begin{tabular}{llllllllllllllll}\n",
       " dep\\_time & sched\\_dep\\_time & dep\\_delay & arr\\_time & sched\\_arr\\_time & arr\\_delay & carrier & flight & tailnum & origin & dest & air\\_time & distance & hour & minute & time\\_hour\\\\\n",
       " <int> & <int> & <dbl> & <int> & <int> & <dbl> & <chr> & <int> & <chr> & <chr> & <chr> & <dbl> & <dbl> & <dbl> & <dbl> & <dttm>\\\\\n",
       "\\hline\n",
       "\t  839 &  845 &  -6 & 1014 & 1030 & -16 & EV & 5288 & N371CA & LGA & BUF &  48 &  292 &  8 & 45 & 2013-10-23 08:00:00\\\\\n",
       "\t 1619 & 1630 & -11 & 2011 & 2020 &  -9 & VX &   27 & N843VA & JFK & SFO & 388 & 2586 & 16 & 30 & 2013-01-23 16:00:00\\\\\n",
       "\t   NA & 2155 &  NA &   NA & 2329 &  NA & EV & 3267 & N15983 & EWR & ORF &  NA &  284 & 21 & 55 & 2013-07-22 21:00:00\\\\\n",
       "\t  611 &  615 &  -4 &  903 &  910 &  -7 & AA & 1895 & N3GBAA & EWR & MIA & 145 & 1085 &  6 & 15 & 2013-08-02 06:00:00\\\\\n",
       "\t 1059 & 1106 &  -7 & 1152 & 1209 & -17 & EV & 4404 & N14570 & EWR & PVD &  32 &  160 & 11 &  6 & 2013-06-09 11:00:00\\\\\n",
       "\t  752 &  800 &  -8 &  949 &  914 &  35 & US & 2165 & N732US & LGA & DCA &  60 &  214 &  8 &  0 & 2013-05-21 08:00:00\\\\\n",
       "\t 2053 & 2055 &  -2 & 2254 & 2250 &   4 & MQ & 4573 & N737MQ & LGA & DTW &  80 &  502 & 20 & 55 & 2013-03-08 20:00:00\\\\\n",
       "\t 1751 & 1755 &  -4 & 2052 & 2108 & -16 & B6 &  989 & N587JB & JFK & FLL & 155 & 1069 & 17 & 55 & 2013-02-05 17:00:00\\\\\n",
       "\t 1252 & 1300 &  -8 & 1404 & 1415 & -11 & US & 2181 & N732US & LGA & DCA &  39 &  214 & 13 &  0 & 2013-10-08 13:00:00\\\\\n",
       "\t 2205 & 1959 & 126 & 2332 & 2140 & 112 & EV & 4649 & N17108 & LGA & CLE &  65 &  419 & 19 & 59 & 2013-06-28 19:00:00\\\\\n",
       "\\end{tabular}\n"
      ],
      "text/markdown": [
       "\n",
       "A tibble: 10 × 16\n",
       "\n",
       "| dep_time &lt;int&gt; | sched_dep_time &lt;int&gt; | dep_delay &lt;dbl&gt; | arr_time &lt;int&gt; | sched_arr_time &lt;int&gt; | arr_delay &lt;dbl&gt; | carrier &lt;chr&gt; | flight &lt;int&gt; | tailnum &lt;chr&gt; | origin &lt;chr&gt; | dest &lt;chr&gt; | air_time &lt;dbl&gt; | distance &lt;dbl&gt; | hour &lt;dbl&gt; | minute &lt;dbl&gt; | time_hour &lt;dttm&gt; |\n",
       "|---|---|---|---|---|---|---|---|---|---|---|---|---|---|---|---|\n",
       "|  839 |  845 |  -6 | 1014 | 1030 | -16 | EV | 5288 | N371CA | LGA | BUF |  48 |  292 |  8 | 45 | 2013-10-23 08:00:00 |\n",
       "| 1619 | 1630 | -11 | 2011 | 2020 |  -9 | VX |   27 | N843VA | JFK | SFO | 388 | 2586 | 16 | 30 | 2013-01-23 16:00:00 |\n",
       "|   NA | 2155 |  NA |   NA | 2329 |  NA | EV | 3267 | N15983 | EWR | ORF |  NA |  284 | 21 | 55 | 2013-07-22 21:00:00 |\n",
       "|  611 |  615 |  -4 |  903 |  910 |  -7 | AA | 1895 | N3GBAA | EWR | MIA | 145 | 1085 |  6 | 15 | 2013-08-02 06:00:00 |\n",
       "| 1059 | 1106 |  -7 | 1152 | 1209 | -17 | EV | 4404 | N14570 | EWR | PVD |  32 |  160 | 11 |  6 | 2013-06-09 11:00:00 |\n",
       "|  752 |  800 |  -8 |  949 |  914 |  35 | US | 2165 | N732US | LGA | DCA |  60 |  214 |  8 |  0 | 2013-05-21 08:00:00 |\n",
       "| 2053 | 2055 |  -2 | 2254 | 2250 |   4 | MQ | 4573 | N737MQ | LGA | DTW |  80 |  502 | 20 | 55 | 2013-03-08 20:00:00 |\n",
       "| 1751 | 1755 |  -4 | 2052 | 2108 | -16 | B6 |  989 | N587JB | JFK | FLL | 155 | 1069 | 17 | 55 | 2013-02-05 17:00:00 |\n",
       "| 1252 | 1300 |  -8 | 1404 | 1415 | -11 | US | 2181 | N732US | LGA | DCA |  39 |  214 | 13 |  0 | 2013-10-08 13:00:00 |\n",
       "| 2205 | 1959 | 126 | 2332 | 2140 | 112 | EV | 4649 | N17108 | LGA | CLE |  65 |  419 | 19 | 59 | 2013-06-28 19:00:00 |\n",
       "\n"
      ],
      "text/plain": [
       "   dep_time sched_dep_time dep_delay arr_time sched_arr_time arr_delay carrier\n",
       "1   839      845            -6       1014     1030           -16       EV     \n",
       "2  1619     1630           -11       2011     2020            -9       VX     \n",
       "3    NA     2155            NA         NA     2329            NA       EV     \n",
       "4   611      615            -4        903      910            -7       AA     \n",
       "5  1059     1106            -7       1152     1209           -17       EV     \n",
       "6   752      800            -8        949      914            35       US     \n",
       "7  2053     2055            -2       2254     2250             4       MQ     \n",
       "8  1751     1755            -4       2052     2108           -16       B6     \n",
       "9  1252     1300            -8       1404     1415           -11       US     \n",
       "10 2205     1959           126       2332     2140           112       EV     \n",
       "   flight tailnum origin dest air_time distance hour minute time_hour          \n",
       "1  5288   N371CA  LGA    BUF   48       292      8   45     2013-10-23 08:00:00\n",
       "2    27   N843VA  JFK    SFO  388      2586     16   30     2013-01-23 16:00:00\n",
       "3  3267   N15983  EWR    ORF   NA       284     21   55     2013-07-22 21:00:00\n",
       "4  1895   N3GBAA  EWR    MIA  145      1085      6   15     2013-08-02 06:00:00\n",
       "5  4404   N14570  EWR    PVD   32       160     11    6     2013-06-09 11:00:00\n",
       "6  2165   N732US  LGA    DCA   60       214      8    0     2013-05-21 08:00:00\n",
       "7  4573   N737MQ  LGA    DTW   80       502     20   55     2013-03-08 20:00:00\n",
       "8   989   N587JB  JFK    FLL  155      1069     17   55     2013-02-05 17:00:00\n",
       "9  2181   N732US  LGA    DCA   39       214     13    0     2013-10-08 13:00:00\n",
       "10 4649   N17108  LGA    CLE   65       419     19   59     2013-06-28 19:00:00"
      ]
     },
     "metadata": {},
     "output_type": "display_data"
    }
   ],
   "source": [
    "flights |>\n",
    "  select(!year:day) |>\n",
    "  sample_n(10)\n"
   ]
  },
  {
   "cell_type": "code",
   "execution_count": 11,
   "metadata": {
    "vscode": {
     "languageId": "r"
    }
   },
   "outputs": [
    {
     "data": {
      "text/html": [
       "<table class=\"dataframe\">\n",
       "<caption>A tibble: 10 × 4</caption>\n",
       "<thead>\n",
       "\t<tr><th scope=col>carrier</th><th scope=col>tailnum</th><th scope=col>origin</th><th scope=col>dest</th></tr>\n",
       "\t<tr><th scope=col>&lt;chr&gt;</th><th scope=col>&lt;chr&gt;</th><th scope=col>&lt;chr&gt;</th><th scope=col>&lt;chr&gt;</th></tr>\n",
       "</thead>\n",
       "<tbody>\n",
       "\t<tr><td>MQ</td><td>N531MQ</td><td>LGA</td><td>BNA</td></tr>\n",
       "\t<tr><td>B6</td><td>N521JB</td><td>LGA</td><td>MCO</td></tr>\n",
       "\t<tr><td>UA</td><td>N29124</td><td>JFK</td><td>LAX</td></tr>\n",
       "\t<tr><td>B6</td><td>N632JB</td><td>EWR</td><td>FLL</td></tr>\n",
       "\t<tr><td>UA</td><td>N75432</td><td>EWR</td><td>PBI</td></tr>\n",
       "\t<tr><td>UA</td><td>N38459</td><td>EWR</td><td>LAS</td></tr>\n",
       "\t<tr><td>VX</td><td>N840VA</td><td>EWR</td><td>SFO</td></tr>\n",
       "\t<tr><td>US</td><td>NA    </td><td>LGA</td><td>BOS</td></tr>\n",
       "\t<tr><td>DL</td><td>N3742C</td><td>JFK</td><td>LAS</td></tr>\n",
       "\t<tr><td>UA</td><td>N11206</td><td>EWR</td><td>FLL</td></tr>\n",
       "</tbody>\n",
       "</table>\n"
      ],
      "text/latex": [
       "A tibble: 10 × 4\n",
       "\\begin{tabular}{llll}\n",
       " carrier & tailnum & origin & dest\\\\\n",
       " <chr> & <chr> & <chr> & <chr>\\\\\n",
       "\\hline\n",
       "\t MQ & N531MQ & LGA & BNA\\\\\n",
       "\t B6 & N521JB & LGA & MCO\\\\\n",
       "\t UA & N29124 & JFK & LAX\\\\\n",
       "\t B6 & N632JB & EWR & FLL\\\\\n",
       "\t UA & N75432 & EWR & PBI\\\\\n",
       "\t UA & N38459 & EWR & LAS\\\\\n",
       "\t VX & N840VA & EWR & SFO\\\\\n",
       "\t US & NA     & LGA & BOS\\\\\n",
       "\t DL & N3742C & JFK & LAS\\\\\n",
       "\t UA & N11206 & EWR & FLL\\\\\n",
       "\\end{tabular}\n"
      ],
      "text/markdown": [
       "\n",
       "A tibble: 10 × 4\n",
       "\n",
       "| carrier &lt;chr&gt; | tailnum &lt;chr&gt; | origin &lt;chr&gt; | dest &lt;chr&gt; |\n",
       "|---|---|---|---|\n",
       "| MQ | N531MQ | LGA | BNA |\n",
       "| B6 | N521JB | LGA | MCO |\n",
       "| UA | N29124 | JFK | LAX |\n",
       "| B6 | N632JB | EWR | FLL |\n",
       "| UA | N75432 | EWR | PBI |\n",
       "| UA | N38459 | EWR | LAS |\n",
       "| VX | N840VA | EWR | SFO |\n",
       "| US | NA     | LGA | BOS |\n",
       "| DL | N3742C | JFK | LAS |\n",
       "| UA | N11206 | EWR | FLL |\n",
       "\n"
      ],
      "text/plain": [
       "   carrier tailnum origin dest\n",
       "1  MQ      N531MQ  LGA    BNA \n",
       "2  B6      N521JB  LGA    MCO \n",
       "3  UA      N29124  JFK    LAX \n",
       "4  B6      N632JB  EWR    FLL \n",
       "5  UA      N75432  EWR    PBI \n",
       "6  UA      N38459  EWR    LAS \n",
       "7  VX      N840VA  EWR    SFO \n",
       "8  US      NA      LGA    BOS \n",
       "9  DL      N3742C  JFK    LAS \n",
       "10 UA      N11206  EWR    FLL "
      ]
     },
     "metadata": {},
     "output_type": "display_data"
    }
   ],
   "source": [
    "flights |>\n",
    "  select(where(is.character)) |>\n",
    "  sample_n(10)\n"
   ]
  },
  {
   "cell_type": "code",
   "execution_count": 14,
   "metadata": {
    "vscode": {
     "languageId": "r"
    }
   },
   "outputs": [
    {
     "data": {
      "text/html": [
       "<table class=\"dataframe\">\n",
       "<caption>A tibble: 10 × 4</caption>\n",
       "<thead>\n",
       "\t<tr><th scope=col>dep_time</th><th scope=col>dep_delay</th><th scope=col>arr_time</th><th scope=col>arr_delay</th></tr>\n",
       "\t<tr><th scope=col>&lt;int&gt;</th><th scope=col>&lt;dbl&gt;</th><th scope=col>&lt;int&gt;</th><th scope=col>&lt;dbl&gt;</th></tr>\n",
       "</thead>\n",
       "<tbody>\n",
       "\t<tr><td> 727</td><td>45</td><td> 937</td><td> 47</td></tr>\n",
       "\t<tr><td>1357</td><td>-3</td><td>1626</td><td> -5</td></tr>\n",
       "\t<tr><td>1525</td><td>10</td><td>1800</td><td> 20</td></tr>\n",
       "\t<tr><td>1825</td><td>30</td><td>2029</td><td>  1</td></tr>\n",
       "\t<tr><td>2018</td><td>83</td><td>2310</td><td> 50</td></tr>\n",
       "\t<tr><td>1526</td><td> 6</td><td>1824</td><td> 34</td></tr>\n",
       "\t<tr><td> 734</td><td>-1</td><td>1013</td><td>  5</td></tr>\n",
       "\t<tr><td>1922</td><td>-3</td><td>2209</td><td>-33</td></tr>\n",
       "\t<tr><td>1626</td><td>16</td><td>1816</td><td> 18</td></tr>\n",
       "\t<tr><td>1234</td><td>-6</td><td>1532</td><td>-23</td></tr>\n",
       "</tbody>\n",
       "</table>\n"
      ],
      "text/latex": [
       "A tibble: 10 × 4\n",
       "\\begin{tabular}{llll}\n",
       " dep\\_time & dep\\_delay & arr\\_time & arr\\_delay\\\\\n",
       " <int> & <dbl> & <int> & <dbl>\\\\\n",
       "\\hline\n",
       "\t  727 & 45 &  937 &  47\\\\\n",
       "\t 1357 & -3 & 1626 &  -5\\\\\n",
       "\t 1525 & 10 & 1800 &  20\\\\\n",
       "\t 1825 & 30 & 2029 &   1\\\\\n",
       "\t 2018 & 83 & 2310 &  50\\\\\n",
       "\t 1526 &  6 & 1824 &  34\\\\\n",
       "\t  734 & -1 & 1013 &   5\\\\\n",
       "\t 1922 & -3 & 2209 & -33\\\\\n",
       "\t 1626 & 16 & 1816 &  18\\\\\n",
       "\t 1234 & -6 & 1532 & -23\\\\\n",
       "\\end{tabular}\n"
      ],
      "text/markdown": [
       "\n",
       "A tibble: 10 × 4\n",
       "\n",
       "| dep_time &lt;int&gt; | dep_delay &lt;dbl&gt; | arr_time &lt;int&gt; | arr_delay &lt;dbl&gt; |\n",
       "|---|---|---|---|\n",
       "|  727 | 45 |  937 |  47 |\n",
       "| 1357 | -3 | 1626 |  -5 |\n",
       "| 1525 | 10 | 1800 |  20 |\n",
       "| 1825 | 30 | 2029 |   1 |\n",
       "| 2018 | 83 | 2310 |  50 |\n",
       "| 1526 |  6 | 1824 |  34 |\n",
       "|  734 | -1 | 1013 |   5 |\n",
       "| 1922 | -3 | 2209 | -33 |\n",
       "| 1626 | 16 | 1816 |  18 |\n",
       "| 1234 | -6 | 1532 | -23 |\n",
       "\n"
      ],
      "text/plain": [
       "   dep_time dep_delay arr_time arr_delay\n",
       "1   727     45         937      47      \n",
       "2  1357     -3        1626      -5      \n",
       "3  1525     10        1800      20      \n",
       "4  1825     30        2029       1      \n",
       "5  2018     83        2310      50      \n",
       "6  1526      6        1824      34      \n",
       "7   734     -1        1013       5      \n",
       "8  1922     -3        2209     -33      \n",
       "9  1626     16        1816      18      \n",
       "10 1234     -6        1532     -23      "
      ]
     },
     "metadata": {},
     "output_type": "display_data"
    }
   ],
   "source": [
    "flights |>\n",
    "  select(matches(\"^(dep|arr).+\")) |>\n",
    "  sample_n(10)\n"
   ]
  },
  {
   "cell_type": "code",
   "execution_count": 15,
   "metadata": {
    "vscode": {
     "languageId": "r"
    }
   },
   "outputs": [
    {
     "data": {
      "text/html": [
       "<table class=\"dataframe\">\n",
       "<caption>A tibble: 10 × 4</caption>\n",
       "<thead>\n",
       "\t<tr><th scope=col>dep_time</th><th scope=col>dep_delay</th><th scope=col>arr_time</th><th scope=col>arr_delay</th></tr>\n",
       "\t<tr><th scope=col>&lt;int&gt;</th><th scope=col>&lt;dbl&gt;</th><th scope=col>&lt;int&gt;</th><th scope=col>&lt;dbl&gt;</th></tr>\n",
       "</thead>\n",
       "<tbody>\n",
       "\t<tr><td> 722</td><td>-7</td><td> 910</td><td>-44</td></tr>\n",
       "\t<tr><td> 853</td><td>-7</td><td>1043</td><td>-27</td></tr>\n",
       "\t<tr><td>1240</td><td>-5</td><td>1531</td><td>-29</td></tr>\n",
       "\t<tr><td>1045</td><td>-7</td><td>1322</td><td>-44</td></tr>\n",
       "\t<tr><td>1318</td><td>18</td><td>1622</td><td>  0</td></tr>\n",
       "\t<tr><td> 613</td><td>-2</td><td> 915</td><td> 20</td></tr>\n",
       "\t<tr><td>1700</td><td> 1</td><td>2025</td><td> -9</td></tr>\n",
       "\t<tr><td> 848</td><td>48</td><td>1107</td><td> 35</td></tr>\n",
       "\t<tr><td>1017</td><td>-6</td><td>1206</td><td>-12</td></tr>\n",
       "\t<tr><td>1100</td><td> 0</td><td>1345</td><td>-13</td></tr>\n",
       "</tbody>\n",
       "</table>\n"
      ],
      "text/latex": [
       "A tibble: 10 × 4\n",
       "\\begin{tabular}{llll}\n",
       " dep\\_time & dep\\_delay & arr\\_time & arr\\_delay\\\\\n",
       " <int> & <dbl> & <int> & <dbl>\\\\\n",
       "\\hline\n",
       "\t  722 & -7 &  910 & -44\\\\\n",
       "\t  853 & -7 & 1043 & -27\\\\\n",
       "\t 1240 & -5 & 1531 & -29\\\\\n",
       "\t 1045 & -7 & 1322 & -44\\\\\n",
       "\t 1318 & 18 & 1622 &   0\\\\\n",
       "\t  613 & -2 &  915 &  20\\\\\n",
       "\t 1700 &  1 & 2025 &  -9\\\\\n",
       "\t  848 & 48 & 1107 &  35\\\\\n",
       "\t 1017 & -6 & 1206 & -12\\\\\n",
       "\t 1100 &  0 & 1345 & -13\\\\\n",
       "\\end{tabular}\n"
      ],
      "text/markdown": [
       "\n",
       "A tibble: 10 × 4\n",
       "\n",
       "| dep_time &lt;int&gt; | dep_delay &lt;dbl&gt; | arr_time &lt;int&gt; | arr_delay &lt;dbl&gt; |\n",
       "|---|---|---|---|\n",
       "|  722 | -7 |  910 | -44 |\n",
       "|  853 | -7 | 1043 | -27 |\n",
       "| 1240 | -5 | 1531 | -29 |\n",
       "| 1045 | -7 | 1322 | -44 |\n",
       "| 1318 | 18 | 1622 |   0 |\n",
       "|  613 | -2 |  915 |  20 |\n",
       "| 1700 |  1 | 2025 |  -9 |\n",
       "|  848 | 48 | 1107 |  35 |\n",
       "| 1017 | -6 | 1206 | -12 |\n",
       "| 1100 |  0 | 1345 | -13 |\n",
       "\n"
      ],
      "text/plain": [
       "   dep_time dep_delay arr_time arr_delay\n",
       "1   722     -7         910     -44      \n",
       "2   853     -7        1043     -27      \n",
       "3  1240     -5        1531     -29      \n",
       "4  1045     -7        1322     -44      \n",
       "5  1318     18        1622       0      \n",
       "6   613     -2         915      20      \n",
       "7  1700      1        2025      -9      \n",
       "8   848     48        1107      35      \n",
       "9  1017     -6        1206     -12      \n",
       "10 1100      0        1345     -13      "
      ]
     },
     "metadata": {},
     "output_type": "display_data"
    }
   ],
   "source": [
    "flights |>\n",
    "  select(starts_with(\"dep\") | starts_with(\"arr\")) |>\n",
    "  sample_n(10)\n"
   ]
  },
  {
   "cell_type": "code",
   "execution_count": 16,
   "metadata": {
    "vscode": {
     "languageId": "r"
    }
   },
   "outputs": [
    {
     "data": {
      "text/html": [
       "<table class=\"dataframe\">\n",
       "<caption>A tibble: 10 × 2</caption>\n",
       "<thead>\n",
       "\t<tr><th scope=col>dep_time</th><th scope=col>arr_time</th></tr>\n",
       "\t<tr><th scope=col>&lt;int&gt;</th><th scope=col>&lt;int&gt;</th></tr>\n",
       "</thead>\n",
       "<tbody>\n",
       "\t<tr><td>1238</td><td>1507</td></tr>\n",
       "\t<tr><td>2040</td><td> 107</td></tr>\n",
       "\t<tr><td> 917</td><td>1203</td></tr>\n",
       "\t<tr><td>1052</td><td>1236</td></tr>\n",
       "\t<tr><td> 555</td><td> 839</td></tr>\n",
       "\t<tr><td>2109</td><td>2348</td></tr>\n",
       "\t<tr><td>1619</td><td>1813</td></tr>\n",
       "\t<tr><td> 602</td><td> 854</td></tr>\n",
       "\t<tr><td> 827</td><td>1015</td></tr>\n",
       "\t<tr><td>1006</td><td>1108</td></tr>\n",
       "</tbody>\n",
       "</table>\n"
      ],
      "text/latex": [
       "A tibble: 10 × 2\n",
       "\\begin{tabular}{ll}\n",
       " dep\\_time & arr\\_time\\\\\n",
       " <int> & <int>\\\\\n",
       "\\hline\n",
       "\t 1238 & 1507\\\\\n",
       "\t 2040 &  107\\\\\n",
       "\t  917 & 1203\\\\\n",
       "\t 1052 & 1236\\\\\n",
       "\t  555 &  839\\\\\n",
       "\t 2109 & 2348\\\\\n",
       "\t 1619 & 1813\\\\\n",
       "\t  602 &  854\\\\\n",
       "\t  827 & 1015\\\\\n",
       "\t 1006 & 1108\\\\\n",
       "\\end{tabular}\n"
      ],
      "text/markdown": [
       "\n",
       "A tibble: 10 × 2\n",
       "\n",
       "| dep_time &lt;int&gt; | arr_time &lt;int&gt; |\n",
       "|---|---|\n",
       "| 1238 | 1507 |\n",
       "| 2040 |  107 |\n",
       "|  917 | 1203 |\n",
       "| 1052 | 1236 |\n",
       "|  555 |  839 |\n",
       "| 2109 | 2348 |\n",
       "| 1619 | 1813 |\n",
       "|  602 |  854 |\n",
       "|  827 | 1015 |\n",
       "| 1006 | 1108 |\n",
       "\n"
      ],
      "text/plain": [
       "   dep_time arr_time\n",
       "1  1238     1507    \n",
       "2  2040      107    \n",
       "3   917     1203    \n",
       "4  1052     1236    \n",
       "5   555      839    \n",
       "6  2109     2348    \n",
       "7  1619     1813    \n",
       "8   602      854    \n",
       "9   827     1015    \n",
       "10 1006     1108    "
      ]
     },
     "metadata": {},
     "output_type": "display_data"
    }
   ],
   "source": [
    "flights |>\n",
    "  select((starts_with(\"dep\") | starts_with(\"arr\")) & !ends_with(\"delay\")) |>\n",
    "  sample_n(10)\n"
   ]
  },
  {
   "cell_type": "code",
   "execution_count": 17,
   "metadata": {
    "vscode": {
     "languageId": "r"
    }
   },
   "outputs": [
    {
     "data": {
      "text/html": [
       "<table class=\"dataframe\">\n",
       "<caption>A tibble: 10 × 1</caption>\n",
       "<thead>\n",
       "\t<tr><th scope=col>tail_num</th></tr>\n",
       "\t<tr><th scope=col>&lt;chr&gt;</th></tr>\n",
       "</thead>\n",
       "<tbody>\n",
       "\t<tr><td>N202WN</td></tr>\n",
       "\t<tr><td>N925XJ</td></tr>\n",
       "\t<tr><td>N3GBAA</td></tr>\n",
       "\t<tr><td>N454UA</td></tr>\n",
       "\t<tr><td>N316JB</td></tr>\n",
       "\t<tr><td>N551UA</td></tr>\n",
       "\t<tr><td>N544MQ</td></tr>\n",
       "\t<tr><td>N3KJAA</td></tr>\n",
       "\t<tr><td>N635VA</td></tr>\n",
       "\t<tr><td>N3JMAA</td></tr>\n",
       "</tbody>\n",
       "</table>\n"
      ],
      "text/latex": [
       "A tibble: 10 × 1\n",
       "\\begin{tabular}{l}\n",
       " tail\\_num\\\\\n",
       " <chr>\\\\\n",
       "\\hline\n",
       "\t N202WN\\\\\n",
       "\t N925XJ\\\\\n",
       "\t N3GBAA\\\\\n",
       "\t N454UA\\\\\n",
       "\t N316JB\\\\\n",
       "\t N551UA\\\\\n",
       "\t N544MQ\\\\\n",
       "\t N3KJAA\\\\\n",
       "\t N635VA\\\\\n",
       "\t N3JMAA\\\\\n",
       "\\end{tabular}\n"
      ],
      "text/markdown": [
       "\n",
       "A tibble: 10 × 1\n",
       "\n",
       "| tail_num &lt;chr&gt; |\n",
       "|---|\n",
       "| N202WN |\n",
       "| N925XJ |\n",
       "| N3GBAA |\n",
       "| N454UA |\n",
       "| N316JB |\n",
       "| N551UA |\n",
       "| N544MQ |\n",
       "| N3KJAA |\n",
       "| N635VA |\n",
       "| N3JMAA |\n",
       "\n"
      ],
      "text/plain": [
       "   tail_num\n",
       "1  N202WN  \n",
       "2  N925XJ  \n",
       "3  N3GBAA  \n",
       "4  N454UA  \n",
       "5  N316JB  \n",
       "6  N551UA  \n",
       "7  N544MQ  \n",
       "8  N3KJAA  \n",
       "9  N635VA  \n",
       "10 N3JMAA  "
      ]
     },
     "metadata": {},
     "output_type": "display_data"
    }
   ],
   "source": [
    "flights |>\n",
    "  select(tail_num = tailnum) |>\n",
    "  sample_n(10)\n"
   ]
  },
  {
   "cell_type": "markdown",
   "metadata": {},
   "source": [
    "## Intro to `rename`\n"
   ]
  },
  {
   "cell_type": "code",
   "execution_count": 3,
   "metadata": {
    "vscode": {
     "languageId": "r"
    }
   },
   "outputs": [
    {
     "data": {
      "text/html": [
       "<table class=\"dataframe\">\n",
       "<caption>A tibble: 10 × 19</caption>\n",
       "<thead>\n",
       "\t<tr><th scope=col>year</th><th scope=col>month</th><th scope=col>day</th><th scope=col>dep_time</th><th scope=col>sched_dep_time</th><th scope=col>dep_delay</th><th scope=col>arr_time</th><th scope=col>sched_arr_time</th><th scope=col>arr_delay</th><th scope=col>carrier</th><th scope=col>flight</th><th scope=col>tail_num</th><th scope=col>origin</th><th scope=col>dest</th><th scope=col>air_time</th><th scope=col>distance</th><th scope=col>hour</th><th scope=col>minute</th><th scope=col>time_hour</th></tr>\n",
       "\t<tr><th scope=col>&lt;int&gt;</th><th scope=col>&lt;int&gt;</th><th scope=col>&lt;int&gt;</th><th scope=col>&lt;int&gt;</th><th scope=col>&lt;int&gt;</th><th scope=col>&lt;dbl&gt;</th><th scope=col>&lt;int&gt;</th><th scope=col>&lt;int&gt;</th><th scope=col>&lt;dbl&gt;</th><th scope=col>&lt;chr&gt;</th><th scope=col>&lt;int&gt;</th><th scope=col>&lt;chr&gt;</th><th scope=col>&lt;chr&gt;</th><th scope=col>&lt;chr&gt;</th><th scope=col>&lt;dbl&gt;</th><th scope=col>&lt;dbl&gt;</th><th scope=col>&lt;dbl&gt;</th><th scope=col>&lt;dbl&gt;</th><th scope=col>&lt;dttm&gt;</th></tr>\n",
       "</thead>\n",
       "<tbody>\n",
       "\t<tr><td>2013</td><td> 5</td><td> 7</td><td>2051</td><td>1755</td><td>176</td><td>2207</td><td>1930</td><td>157</td><td>MQ</td><td>4601</td><td>N532MQ</td><td>LGA</td><td>RDU</td><td> 62</td><td> 431</td><td>17</td><td>55</td><td>2013-05-07 17:00:00</td></tr>\n",
       "\t<tr><td>2013</td><td> 7</td><td>29</td><td> 930</td><td> 934</td><td> -4</td><td>1238</td><td>1249</td><td>-11</td><td>UA</td><td>1281</td><td>N12218</td><td>EWR</td><td>SFO</td><td>355</td><td>2565</td><td> 9</td><td>34</td><td>2013-07-29 09:00:00</td></tr>\n",
       "\t<tr><td>2013</td><td> 4</td><td>24</td><td>1843</td><td>1850</td><td> -7</td><td>2143</td><td>2136</td><td>  7</td><td>B6</td><td> 527</td><td>N563JB</td><td>EWR</td><td>MCO</td><td>133</td><td> 937</td><td>18</td><td>50</td><td>2013-04-24 18:00:00</td></tr>\n",
       "\t<tr><td>2013</td><td> 5</td><td>30</td><td>2203</td><td>1929</td><td>154</td><td>2332</td><td>2109</td><td>143</td><td>MQ</td><td>4569</td><td>N723MQ</td><td>LGA</td><td>RDU</td><td> 65</td><td> 431</td><td>19</td><td>29</td><td>2013-05-30 19:00:00</td></tr>\n",
       "\t<tr><td>2013</td><td> 5</td><td>14</td><td>1759</td><td>1759</td><td>  0</td><td>2038</td><td>2049</td><td>-11</td><td>B6</td><td> 391</td><td>N509JB</td><td>LGA</td><td>MCO</td><td>123</td><td> 950</td><td>17</td><td>59</td><td>2013-05-14 17:00:00</td></tr>\n",
       "\t<tr><td>2013</td><td> 1</td><td>30</td><td>1837</td><td>1705</td><td> 92</td><td>2005</td><td>1830</td><td> 95</td><td>MQ</td><td>4410</td><td>N832MQ</td><td>JFK</td><td>DCA</td><td> 56</td><td> 213</td><td>17</td><td> 5</td><td>2013-01-30 17:00:00</td></tr>\n",
       "\t<tr><td>2013</td><td> 6</td><td>14</td><td> 644</td><td> 641</td><td>  3</td><td> 927</td><td> 940</td><td>-13</td><td>UA</td><td>1701</td><td>N38417</td><td>EWR</td><td>FLL</td><td>142</td><td>1065</td><td> 6</td><td>41</td><td>2013-06-14 06:00:00</td></tr>\n",
       "\t<tr><td>2013</td><td> 2</td><td>22</td><td>1515</td><td>1516</td><td> -1</td><td>1733</td><td>1728</td><td>  5</td><td>UA</td><td> 594</td><td>N572UA</td><td>EWR</td><td>DEN</td><td>229</td><td>1605</td><td>15</td><td>16</td><td>2013-02-22 15:00:00</td></tr>\n",
       "\t<tr><td>2013</td><td>10</td><td>16</td><td> 802</td><td> 808</td><td> -6</td><td> 919</td><td> 929</td><td>-10</td><td>B6</td><td>2702</td><td>N265JB</td><td>JFK</td><td>BUF</td><td> 55</td><td> 301</td><td> 8</td><td> 8</td><td>2013-10-16 08:00:00</td></tr>\n",
       "\t<tr><td>2013</td><td> 5</td><td> 9</td><td>1602</td><td>1529</td><td> 33</td><td>1809</td><td>1753</td><td> 16</td><td>UA</td><td>1023</td><td>N24211</td><td>EWR</td><td>DEN</td><td>219</td><td>1605</td><td>15</td><td>29</td><td>2013-05-09 15:00:00</td></tr>\n",
       "</tbody>\n",
       "</table>\n"
      ],
      "text/latex": [
       "A tibble: 10 × 19\n",
       "\\begin{tabular}{lllllllllllllllllll}\n",
       " year & month & day & dep\\_time & sched\\_dep\\_time & dep\\_delay & arr\\_time & sched\\_arr\\_time & arr\\_delay & carrier & flight & tail\\_num & origin & dest & air\\_time & distance & hour & minute & time\\_hour\\\\\n",
       " <int> & <int> & <int> & <int> & <int> & <dbl> & <int> & <int> & <dbl> & <chr> & <int> & <chr> & <chr> & <chr> & <dbl> & <dbl> & <dbl> & <dbl> & <dttm>\\\\\n",
       "\\hline\n",
       "\t 2013 &  5 &  7 & 2051 & 1755 & 176 & 2207 & 1930 & 157 & MQ & 4601 & N532MQ & LGA & RDU &  62 &  431 & 17 & 55 & 2013-05-07 17:00:00\\\\\n",
       "\t 2013 &  7 & 29 &  930 &  934 &  -4 & 1238 & 1249 & -11 & UA & 1281 & N12218 & EWR & SFO & 355 & 2565 &  9 & 34 & 2013-07-29 09:00:00\\\\\n",
       "\t 2013 &  4 & 24 & 1843 & 1850 &  -7 & 2143 & 2136 &   7 & B6 &  527 & N563JB & EWR & MCO & 133 &  937 & 18 & 50 & 2013-04-24 18:00:00\\\\\n",
       "\t 2013 &  5 & 30 & 2203 & 1929 & 154 & 2332 & 2109 & 143 & MQ & 4569 & N723MQ & LGA & RDU &  65 &  431 & 19 & 29 & 2013-05-30 19:00:00\\\\\n",
       "\t 2013 &  5 & 14 & 1759 & 1759 &   0 & 2038 & 2049 & -11 & B6 &  391 & N509JB & LGA & MCO & 123 &  950 & 17 & 59 & 2013-05-14 17:00:00\\\\\n",
       "\t 2013 &  1 & 30 & 1837 & 1705 &  92 & 2005 & 1830 &  95 & MQ & 4410 & N832MQ & JFK & DCA &  56 &  213 & 17 &  5 & 2013-01-30 17:00:00\\\\\n",
       "\t 2013 &  6 & 14 &  644 &  641 &   3 &  927 &  940 & -13 & UA & 1701 & N38417 & EWR & FLL & 142 & 1065 &  6 & 41 & 2013-06-14 06:00:00\\\\\n",
       "\t 2013 &  2 & 22 & 1515 & 1516 &  -1 & 1733 & 1728 &   5 & UA &  594 & N572UA & EWR & DEN & 229 & 1605 & 15 & 16 & 2013-02-22 15:00:00\\\\\n",
       "\t 2013 & 10 & 16 &  802 &  808 &  -6 &  919 &  929 & -10 & B6 & 2702 & N265JB & JFK & BUF &  55 &  301 &  8 &  8 & 2013-10-16 08:00:00\\\\\n",
       "\t 2013 &  5 &  9 & 1602 & 1529 &  33 & 1809 & 1753 &  16 & UA & 1023 & N24211 & EWR & DEN & 219 & 1605 & 15 & 29 & 2013-05-09 15:00:00\\\\\n",
       "\\end{tabular}\n"
      ],
      "text/markdown": [
       "\n",
       "A tibble: 10 × 19\n",
       "\n",
       "| year &lt;int&gt; | month &lt;int&gt; | day &lt;int&gt; | dep_time &lt;int&gt; | sched_dep_time &lt;int&gt; | dep_delay &lt;dbl&gt; | arr_time &lt;int&gt; | sched_arr_time &lt;int&gt; | arr_delay &lt;dbl&gt; | carrier &lt;chr&gt; | flight &lt;int&gt; | tail_num &lt;chr&gt; | origin &lt;chr&gt; | dest &lt;chr&gt; | air_time &lt;dbl&gt; | distance &lt;dbl&gt; | hour &lt;dbl&gt; | minute &lt;dbl&gt; | time_hour &lt;dttm&gt; |\n",
       "|---|---|---|---|---|---|---|---|---|---|---|---|---|---|---|---|---|---|---|\n",
       "| 2013 |  5 |  7 | 2051 | 1755 | 176 | 2207 | 1930 | 157 | MQ | 4601 | N532MQ | LGA | RDU |  62 |  431 | 17 | 55 | 2013-05-07 17:00:00 |\n",
       "| 2013 |  7 | 29 |  930 |  934 |  -4 | 1238 | 1249 | -11 | UA | 1281 | N12218 | EWR | SFO | 355 | 2565 |  9 | 34 | 2013-07-29 09:00:00 |\n",
       "| 2013 |  4 | 24 | 1843 | 1850 |  -7 | 2143 | 2136 |   7 | B6 |  527 | N563JB | EWR | MCO | 133 |  937 | 18 | 50 | 2013-04-24 18:00:00 |\n",
       "| 2013 |  5 | 30 | 2203 | 1929 | 154 | 2332 | 2109 | 143 | MQ | 4569 | N723MQ | LGA | RDU |  65 |  431 | 19 | 29 | 2013-05-30 19:00:00 |\n",
       "| 2013 |  5 | 14 | 1759 | 1759 |   0 | 2038 | 2049 | -11 | B6 |  391 | N509JB | LGA | MCO | 123 |  950 | 17 | 59 | 2013-05-14 17:00:00 |\n",
       "| 2013 |  1 | 30 | 1837 | 1705 |  92 | 2005 | 1830 |  95 | MQ | 4410 | N832MQ | JFK | DCA |  56 |  213 | 17 |  5 | 2013-01-30 17:00:00 |\n",
       "| 2013 |  6 | 14 |  644 |  641 |   3 |  927 |  940 | -13 | UA | 1701 | N38417 | EWR | FLL | 142 | 1065 |  6 | 41 | 2013-06-14 06:00:00 |\n",
       "| 2013 |  2 | 22 | 1515 | 1516 |  -1 | 1733 | 1728 |   5 | UA |  594 | N572UA | EWR | DEN | 229 | 1605 | 15 | 16 | 2013-02-22 15:00:00 |\n",
       "| 2013 | 10 | 16 |  802 |  808 |  -6 |  919 |  929 | -10 | B6 | 2702 | N265JB | JFK | BUF |  55 |  301 |  8 |  8 | 2013-10-16 08:00:00 |\n",
       "| 2013 |  5 |  9 | 1602 | 1529 |  33 | 1809 | 1753 |  16 | UA | 1023 | N24211 | EWR | DEN | 219 | 1605 | 15 | 29 | 2013-05-09 15:00:00 |\n",
       "\n"
      ],
      "text/plain": [
       "   year month day dep_time sched_dep_time dep_delay arr_time sched_arr_time\n",
       "1  2013  5     7  2051     1755           176       2207     1930          \n",
       "2  2013  7    29   930      934            -4       1238     1249          \n",
       "3  2013  4    24  1843     1850            -7       2143     2136          \n",
       "4  2013  5    30  2203     1929           154       2332     2109          \n",
       "5  2013  5    14  1759     1759             0       2038     2049          \n",
       "6  2013  1    30  1837     1705            92       2005     1830          \n",
       "7  2013  6    14   644      641             3        927      940          \n",
       "8  2013  2    22  1515     1516            -1       1733     1728          \n",
       "9  2013 10    16   802      808            -6        919      929          \n",
       "10 2013  5     9  1602     1529            33       1809     1753          \n",
       "   arr_delay carrier flight tail_num origin dest air_time distance hour minute\n",
       "1  157       MQ      4601   N532MQ   LGA    RDU   62       431     17   55    \n",
       "2  -11       UA      1281   N12218   EWR    SFO  355      2565      9   34    \n",
       "3    7       B6       527   N563JB   EWR    MCO  133       937     18   50    \n",
       "4  143       MQ      4569   N723MQ   LGA    RDU   65       431     19   29    \n",
       "5  -11       B6       391   N509JB   LGA    MCO  123       950     17   59    \n",
       "6   95       MQ      4410   N832MQ   JFK    DCA   56       213     17    5    \n",
       "7  -13       UA      1701   N38417   EWR    FLL  142      1065      6   41    \n",
       "8    5       UA       594   N572UA   EWR    DEN  229      1605     15   16    \n",
       "9  -10       B6      2702   N265JB   JFK    BUF   55       301      8    8    \n",
       "10  16       UA      1023   N24211   EWR    DEN  219      1605     15   29    \n",
       "   time_hour          \n",
       "1  2013-05-07 17:00:00\n",
       "2  2013-07-29 09:00:00\n",
       "3  2013-04-24 18:00:00\n",
       "4  2013-05-30 19:00:00\n",
       "5  2013-05-14 17:00:00\n",
       "6  2013-01-30 17:00:00\n",
       "7  2013-06-14 06:00:00\n",
       "8  2013-02-22 15:00:00\n",
       "9  2013-10-16 08:00:00\n",
       "10 2013-05-09 15:00:00"
      ]
     },
     "metadata": {},
     "output_type": "display_data"
    }
   ],
   "source": [
    "# Close to `select` but keeps all the other columns as well\n",
    "flights |>\n",
    "    rename(tail_num = tailnum) |>\n",
    "    sample_n(10)\n"
   ]
  },
  {
   "cell_type": "markdown",
   "metadata": {},
   "source": [
    "## Intro to `relocate`\n"
   ]
  },
  {
   "cell_type": "code",
   "execution_count": 4,
   "metadata": {
    "vscode": {
     "languageId": "r"
    }
   },
   "outputs": [
    {
     "data": {
      "text/html": [
       "<table class=\"dataframe\">\n",
       "<caption>A tibble: 10 × 19</caption>\n",
       "<thead>\n",
       "\t<tr><th scope=col>time_hour</th><th scope=col>air_time</th><th scope=col>year</th><th scope=col>month</th><th scope=col>day</th><th scope=col>dep_time</th><th scope=col>sched_dep_time</th><th scope=col>dep_delay</th><th scope=col>arr_time</th><th scope=col>sched_arr_time</th><th scope=col>arr_delay</th><th scope=col>carrier</th><th scope=col>flight</th><th scope=col>tailnum</th><th scope=col>origin</th><th scope=col>dest</th><th scope=col>distance</th><th scope=col>hour</th><th scope=col>minute</th></tr>\n",
       "\t<tr><th scope=col>&lt;dttm&gt;</th><th scope=col>&lt;dbl&gt;</th><th scope=col>&lt;int&gt;</th><th scope=col>&lt;int&gt;</th><th scope=col>&lt;int&gt;</th><th scope=col>&lt;int&gt;</th><th scope=col>&lt;int&gt;</th><th scope=col>&lt;dbl&gt;</th><th scope=col>&lt;int&gt;</th><th scope=col>&lt;int&gt;</th><th scope=col>&lt;dbl&gt;</th><th scope=col>&lt;chr&gt;</th><th scope=col>&lt;int&gt;</th><th scope=col>&lt;chr&gt;</th><th scope=col>&lt;chr&gt;</th><th scope=col>&lt;chr&gt;</th><th scope=col>&lt;dbl&gt;</th><th scope=col>&lt;dbl&gt;</th><th scope=col>&lt;dbl&gt;</th></tr>\n",
       "</thead>\n",
       "<tbody>\n",
       "\t<tr><td>2013-04-02 12:00:00</td><td>347</td><td>2013</td><td> 4</td><td> 2</td><td>1156</td><td>1200</td><td> -4</td><td>1523</td><td>1511</td><td> 12</td><td>DL</td><td> 863</td><td>N713TW</td><td>JFK</td><td>LAX</td><td>2475</td><td>12</td><td> 0</td></tr>\n",
       "\t<tr><td>2013-04-20 08:00:00</td><td>328</td><td>2013</td><td> 4</td><td>20</td><td> 807</td><td> 810</td><td> -3</td><td>1111</td><td>1051</td><td> 20</td><td>DL</td><td>1429</td><td>N655DL</td><td>JFK</td><td>LAS</td><td>2248</td><td> 8</td><td>10</td></tr>\n",
       "\t<tr><td>2013-11-08 09:00:00</td><td>123</td><td>2013</td><td>11</td><td> 8</td><td> 954</td><td> 959</td><td> -5</td><td>1215</td><td>1241</td><td>-26</td><td>EV</td><td>4140</td><td>N13979</td><td>EWR</td><td>ATL</td><td> 746</td><td> 9</td><td>59</td></tr>\n",
       "\t<tr><td>2013-10-19 11:00:00</td><td> 85</td><td>2013</td><td>10</td><td>19</td><td>1055</td><td>1100</td><td> -5</td><td>1314</td><td>1304</td><td> 10</td><td>DL</td><td>2452</td><td>N320NB</td><td>LGA</td><td>DTW</td><td> 502</td><td>11</td><td> 0</td></tr>\n",
       "\t<tr><td>2013-02-10 09:00:00</td><td>316</td><td>2013</td><td> 2</td><td>10</td><td>1032</td><td> 950</td><td> 42</td><td>1306</td><td>1311</td><td> -5</td><td>UA</td><td> 499</td><td>N813UA</td><td>EWR</td><td>SEA</td><td>2402</td><td> 9</td><td>50</td></tr>\n",
       "\t<tr><td>2013-06-25 15:00:00</td><td>322</td><td>2013</td><td> 6</td><td>25</td><td>1544</td><td>1530</td><td> 14</td><td>1908</td><td>1850</td><td> 18</td><td>DL</td><td>  95</td><td>N195DN</td><td>JFK</td><td>LAX</td><td>2475</td><td>15</td><td>30</td></tr>\n",
       "\t<tr><td>2013-11-05 13:00:00</td><td>139</td><td>2013</td><td>11</td><td> 5</td><td>1311</td><td>1313</td><td> -2</td><td>1553</td><td>1609</td><td>-16</td><td>B6</td><td> 505</td><td>N556JB</td><td>EWR</td><td>FLL</td><td>1065</td><td>13</td><td>13</td></tr>\n",
       "\t<tr><td>2013-12-28 08:00:00</td><td> 73</td><td>2013</td><td>12</td><td>28</td><td> 753</td><td> 805</td><td>-12</td><td> 922</td><td> 945</td><td>-23</td><td>MQ</td><td>3531</td><td>N845MQ</td><td>LGA</td><td>RDU</td><td> 431</td><td> 8</td><td> 5</td></tr>\n",
       "\t<tr><td>2013-04-25 12:00:00</td><td>111</td><td>2013</td><td> 4</td><td>25</td><td>1149</td><td>1200</td><td>-11</td><td>1401</td><td>1354</td><td>  7</td><td>US</td><td>1443</td><td>N711UW</td><td>JFK</td><td>CLT</td><td> 541</td><td>12</td><td> 0</td></tr>\n",
       "\t<tr><td>2013-06-07 12:00:00</td><td> 35</td><td>2013</td><td> 6</td><td> 7</td><td>1152</td><td>1200</td><td> -8</td><td>1256</td><td>1309</td><td>-13</td><td>US</td><td>2126</td><td>N956UW</td><td>LGA</td><td>BOS</td><td> 184</td><td>12</td><td> 0</td></tr>\n",
       "</tbody>\n",
       "</table>\n"
      ],
      "text/latex": [
       "A tibble: 10 × 19\n",
       "\\begin{tabular}{lllllllllllllllllll}\n",
       " time\\_hour & air\\_time & year & month & day & dep\\_time & sched\\_dep\\_time & dep\\_delay & arr\\_time & sched\\_arr\\_time & arr\\_delay & carrier & flight & tailnum & origin & dest & distance & hour & minute\\\\\n",
       " <dttm> & <dbl> & <int> & <int> & <int> & <int> & <int> & <dbl> & <int> & <int> & <dbl> & <chr> & <int> & <chr> & <chr> & <chr> & <dbl> & <dbl> & <dbl>\\\\\n",
       "\\hline\n",
       "\t 2013-04-02 12:00:00 & 347 & 2013 &  4 &  2 & 1156 & 1200 &  -4 & 1523 & 1511 &  12 & DL &  863 & N713TW & JFK & LAX & 2475 & 12 &  0\\\\\n",
       "\t 2013-04-20 08:00:00 & 328 & 2013 &  4 & 20 &  807 &  810 &  -3 & 1111 & 1051 &  20 & DL & 1429 & N655DL & JFK & LAS & 2248 &  8 & 10\\\\\n",
       "\t 2013-11-08 09:00:00 & 123 & 2013 & 11 &  8 &  954 &  959 &  -5 & 1215 & 1241 & -26 & EV & 4140 & N13979 & EWR & ATL &  746 &  9 & 59\\\\\n",
       "\t 2013-10-19 11:00:00 &  85 & 2013 & 10 & 19 & 1055 & 1100 &  -5 & 1314 & 1304 &  10 & DL & 2452 & N320NB & LGA & DTW &  502 & 11 &  0\\\\\n",
       "\t 2013-02-10 09:00:00 & 316 & 2013 &  2 & 10 & 1032 &  950 &  42 & 1306 & 1311 &  -5 & UA &  499 & N813UA & EWR & SEA & 2402 &  9 & 50\\\\\n",
       "\t 2013-06-25 15:00:00 & 322 & 2013 &  6 & 25 & 1544 & 1530 &  14 & 1908 & 1850 &  18 & DL &   95 & N195DN & JFK & LAX & 2475 & 15 & 30\\\\\n",
       "\t 2013-11-05 13:00:00 & 139 & 2013 & 11 &  5 & 1311 & 1313 &  -2 & 1553 & 1609 & -16 & B6 &  505 & N556JB & EWR & FLL & 1065 & 13 & 13\\\\\n",
       "\t 2013-12-28 08:00:00 &  73 & 2013 & 12 & 28 &  753 &  805 & -12 &  922 &  945 & -23 & MQ & 3531 & N845MQ & LGA & RDU &  431 &  8 &  5\\\\\n",
       "\t 2013-04-25 12:00:00 & 111 & 2013 &  4 & 25 & 1149 & 1200 & -11 & 1401 & 1354 &   7 & US & 1443 & N711UW & JFK & CLT &  541 & 12 &  0\\\\\n",
       "\t 2013-06-07 12:00:00 &  35 & 2013 &  6 &  7 & 1152 & 1200 &  -8 & 1256 & 1309 & -13 & US & 2126 & N956UW & LGA & BOS &  184 & 12 &  0\\\\\n",
       "\\end{tabular}\n"
      ],
      "text/markdown": [
       "\n",
       "A tibble: 10 × 19\n",
       "\n",
       "| time_hour &lt;dttm&gt; | air_time &lt;dbl&gt; | year &lt;int&gt; | month &lt;int&gt; | day &lt;int&gt; | dep_time &lt;int&gt; | sched_dep_time &lt;int&gt; | dep_delay &lt;dbl&gt; | arr_time &lt;int&gt; | sched_arr_time &lt;int&gt; | arr_delay &lt;dbl&gt; | carrier &lt;chr&gt; | flight &lt;int&gt; | tailnum &lt;chr&gt; | origin &lt;chr&gt; | dest &lt;chr&gt; | distance &lt;dbl&gt; | hour &lt;dbl&gt; | minute &lt;dbl&gt; |\n",
       "|---|---|---|---|---|---|---|---|---|---|---|---|---|---|---|---|---|---|---|\n",
       "| 2013-04-02 12:00:00 | 347 | 2013 |  4 |  2 | 1156 | 1200 |  -4 | 1523 | 1511 |  12 | DL |  863 | N713TW | JFK | LAX | 2475 | 12 |  0 |\n",
       "| 2013-04-20 08:00:00 | 328 | 2013 |  4 | 20 |  807 |  810 |  -3 | 1111 | 1051 |  20 | DL | 1429 | N655DL | JFK | LAS | 2248 |  8 | 10 |\n",
       "| 2013-11-08 09:00:00 | 123 | 2013 | 11 |  8 |  954 |  959 |  -5 | 1215 | 1241 | -26 | EV | 4140 | N13979 | EWR | ATL |  746 |  9 | 59 |\n",
       "| 2013-10-19 11:00:00 |  85 | 2013 | 10 | 19 | 1055 | 1100 |  -5 | 1314 | 1304 |  10 | DL | 2452 | N320NB | LGA | DTW |  502 | 11 |  0 |\n",
       "| 2013-02-10 09:00:00 | 316 | 2013 |  2 | 10 | 1032 |  950 |  42 | 1306 | 1311 |  -5 | UA |  499 | N813UA | EWR | SEA | 2402 |  9 | 50 |\n",
       "| 2013-06-25 15:00:00 | 322 | 2013 |  6 | 25 | 1544 | 1530 |  14 | 1908 | 1850 |  18 | DL |   95 | N195DN | JFK | LAX | 2475 | 15 | 30 |\n",
       "| 2013-11-05 13:00:00 | 139 | 2013 | 11 |  5 | 1311 | 1313 |  -2 | 1553 | 1609 | -16 | B6 |  505 | N556JB | EWR | FLL | 1065 | 13 | 13 |\n",
       "| 2013-12-28 08:00:00 |  73 | 2013 | 12 | 28 |  753 |  805 | -12 |  922 |  945 | -23 | MQ | 3531 | N845MQ | LGA | RDU |  431 |  8 |  5 |\n",
       "| 2013-04-25 12:00:00 | 111 | 2013 |  4 | 25 | 1149 | 1200 | -11 | 1401 | 1354 |   7 | US | 1443 | N711UW | JFK | CLT |  541 | 12 |  0 |\n",
       "| 2013-06-07 12:00:00 |  35 | 2013 |  6 |  7 | 1152 | 1200 |  -8 | 1256 | 1309 | -13 | US | 2126 | N956UW | LGA | BOS |  184 | 12 |  0 |\n",
       "\n"
      ],
      "text/plain": [
       "   time_hour           air_time year month day dep_time sched_dep_time\n",
       "1  2013-04-02 12:00:00 347      2013  4     2  1156     1200          \n",
       "2  2013-04-20 08:00:00 328      2013  4    20   807      810          \n",
       "3  2013-11-08 09:00:00 123      2013 11     8   954      959          \n",
       "4  2013-10-19 11:00:00  85      2013 10    19  1055     1100          \n",
       "5  2013-02-10 09:00:00 316      2013  2    10  1032      950          \n",
       "6  2013-06-25 15:00:00 322      2013  6    25  1544     1530          \n",
       "7  2013-11-05 13:00:00 139      2013 11     5  1311     1313          \n",
       "8  2013-12-28 08:00:00  73      2013 12    28   753      805          \n",
       "9  2013-04-25 12:00:00 111      2013  4    25  1149     1200          \n",
       "10 2013-06-07 12:00:00  35      2013  6     7  1152     1200          \n",
       "   dep_delay arr_time sched_arr_time arr_delay carrier flight tailnum origin\n",
       "1   -4       1523     1511            12       DL       863   N713TW  JFK   \n",
       "2   -3       1111     1051            20       DL      1429   N655DL  JFK   \n",
       "3   -5       1215     1241           -26       EV      4140   N13979  EWR   \n",
       "4   -5       1314     1304            10       DL      2452   N320NB  LGA   \n",
       "5   42       1306     1311            -5       UA       499   N813UA  EWR   \n",
       "6   14       1908     1850            18       DL        95   N195DN  JFK   \n",
       "7   -2       1553     1609           -16       B6       505   N556JB  EWR   \n",
       "8  -12        922      945           -23       MQ      3531   N845MQ  LGA   \n",
       "9  -11       1401     1354             7       US      1443   N711UW  JFK   \n",
       "10  -8       1256     1309           -13       US      2126   N956UW  LGA   \n",
       "   dest distance hour minute\n",
       "1  LAX  2475     12    0    \n",
       "2  LAS  2248      8   10    \n",
       "3  ATL   746      9   59    \n",
       "4  DTW   502     11    0    \n",
       "5  SEA  2402      9   50    \n",
       "6  LAX  2475     15   30    \n",
       "7  FLL  1065     13   13    \n",
       "8  RDU   431      8    5    \n",
       "9  CLT   541     12    0    \n",
       "10 BOS   184     12    0    "
      ]
     },
     "metadata": {},
     "output_type": "display_data"
    }
   ],
   "source": [
    "flights |>\n",
    "  relocate(time_hour, air_time) |>\n",
    "  sample_n(10)\n"
   ]
  },
  {
   "cell_type": "code",
   "execution_count": 5,
   "metadata": {
    "vscode": {
     "languageId": "r"
    }
   },
   "outputs": [
    {
     "data": {
      "text/html": [
       "<table class=\"dataframe\">\n",
       "<caption>A tibble: 10 × 19</caption>\n",
       "<thead>\n",
       "\t<tr><th scope=col>sched_dep_time</th><th scope=col>dep_delay</th><th scope=col>arr_time</th><th scope=col>sched_arr_time</th><th scope=col>arr_delay</th><th scope=col>carrier</th><th scope=col>flight</th><th scope=col>tailnum</th><th scope=col>origin</th><th scope=col>dest</th><th scope=col>air_time</th><th scope=col>distance</th><th scope=col>hour</th><th scope=col>minute</th><th scope=col>time_hour</th><th scope=col>year</th><th scope=col>month</th><th scope=col>day</th><th scope=col>dep_time</th></tr>\n",
       "\t<tr><th scope=col>&lt;int&gt;</th><th scope=col>&lt;dbl&gt;</th><th scope=col>&lt;int&gt;</th><th scope=col>&lt;int&gt;</th><th scope=col>&lt;dbl&gt;</th><th scope=col>&lt;chr&gt;</th><th scope=col>&lt;int&gt;</th><th scope=col>&lt;chr&gt;</th><th scope=col>&lt;chr&gt;</th><th scope=col>&lt;chr&gt;</th><th scope=col>&lt;dbl&gt;</th><th scope=col>&lt;dbl&gt;</th><th scope=col>&lt;dbl&gt;</th><th scope=col>&lt;dbl&gt;</th><th scope=col>&lt;dttm&gt;</th><th scope=col>&lt;int&gt;</th><th scope=col>&lt;int&gt;</th><th scope=col>&lt;int&gt;</th><th scope=col>&lt;int&gt;</th></tr>\n",
       "</thead>\n",
       "<tbody>\n",
       "\t<tr><td>1440</td><td>-2</td><td>1725</td><td>1746</td><td>-21</td><td>DL</td><td>1902</td><td>N907DL</td><td>LGA</td><td>PBI</td><td>149</td><td>1035</td><td>14</td><td>40</td><td>2013-07-02 14:00:00</td><td>2013</td><td> 7</td><td> 2</td><td>1438</td></tr>\n",
       "\t<tr><td>1400</td><td>-7</td><td>1445</td><td>1506</td><td>-21</td><td>B6</td><td>2480</td><td>N273JB</td><td>EWR</td><td>BOS</td><td> 34</td><td> 200</td><td>14</td><td> 0</td><td>2013-09-16 14:00:00</td><td>2013</td><td> 9</td><td>16</td><td>1353</td></tr>\n",
       "\t<tr><td>1559</td><td>20</td><td>1940</td><td>1919</td><td> 21</td><td>DL</td><td>1373</td><td>N3757D</td><td>JFK</td><td>MIA</td><td>148</td><td>1089</td><td>15</td><td>59</td><td>2013-08-22 15:00:00</td><td>2013</td><td> 8</td><td>22</td><td>1619</td></tr>\n",
       "\t<tr><td> 810</td><td>-3</td><td>1042</td><td>1100</td><td>-18</td><td>UA</td><td>1218</td><td>N15710</td><td>EWR</td><td>DFW</td><td>198</td><td>1372</td><td> 8</td><td>10</td><td>2013-09-24 08:00:00</td><td>2013</td><td> 9</td><td>24</td><td> 807</td></tr>\n",
       "\t<tr><td>1830</td><td> 0</td><td>2113</td><td>2055</td><td> 18</td><td>UA</td><td>1236</td><td>N36472</td><td>EWR</td><td>DEN</td><td>258</td><td>1605</td><td>18</td><td>30</td><td>2013-06-15 18:00:00</td><td>2013</td><td> 6</td><td>15</td><td>1830</td></tr>\n",
       "\t<tr><td>2030</td><td>43</td><td>  18</td><td>2350</td><td> 28</td><td>B6</td><td>1069</td><td>N273JB</td><td>JFK</td><td>AUS</td><td>217</td><td>1521</td><td>20</td><td>30</td><td>2013-01-28 20:00:00</td><td>2013</td><td> 1</td><td>28</td><td>2113</td></tr>\n",
       "\t<tr><td>1445</td><td> 6</td><td>1758</td><td>1616</td><td>102</td><td>UA</td><td>1290</td><td>N75432</td><td>EWR</td><td>CLE</td><td> 61</td><td> 404</td><td>14</td><td>45</td><td>2013-07-23 14:00:00</td><td>2013</td><td> 7</td><td>23</td><td>1451</td></tr>\n",
       "\t<tr><td> 730</td><td>55</td><td>1235</td><td>1129</td><td> 66</td><td>B6</td><td>1289</td><td>N584JB</td><td>EWR</td><td>SJU</td><td>214</td><td>1608</td><td> 7</td><td>30</td><td>2013-07-29 07:00:00</td><td>2013</td><td> 7</td><td>29</td><td> 825</td></tr>\n",
       "\t<tr><td>2055</td><td>-2</td><td>   3</td><td>2359</td><td>  4</td><td>B6</td><td>1205</td><td>N775JB</td><td>JFK</td><td>PDX</td><td>329</td><td>2454</td><td>20</td><td>55</td><td>2013-10-25 20:00:00</td><td>2013</td><td>10</td><td>25</td><td>2053</td></tr>\n",
       "\t<tr><td>1520</td><td> 0</td><td>1715</td><td>1705</td><td> 10</td><td>AA</td><td> 341</td><td>N4WNAA</td><td>LGA</td><td>ORD</td><td>139</td><td> 733</td><td>15</td><td>20</td><td>2013-11-06 15:00:00</td><td>2013</td><td>11</td><td> 6</td><td>1520</td></tr>\n",
       "</tbody>\n",
       "</table>\n"
      ],
      "text/latex": [
       "A tibble: 10 × 19\n",
       "\\begin{tabular}{lllllllllllllllllll}\n",
       " sched\\_dep\\_time & dep\\_delay & arr\\_time & sched\\_arr\\_time & arr\\_delay & carrier & flight & tailnum & origin & dest & air\\_time & distance & hour & minute & time\\_hour & year & month & day & dep\\_time\\\\\n",
       " <int> & <dbl> & <int> & <int> & <dbl> & <chr> & <int> & <chr> & <chr> & <chr> & <dbl> & <dbl> & <dbl> & <dbl> & <dttm> & <int> & <int> & <int> & <int>\\\\\n",
       "\\hline\n",
       "\t 1440 & -2 & 1725 & 1746 & -21 & DL & 1902 & N907DL & LGA & PBI & 149 & 1035 & 14 & 40 & 2013-07-02 14:00:00 & 2013 &  7 &  2 & 1438\\\\\n",
       "\t 1400 & -7 & 1445 & 1506 & -21 & B6 & 2480 & N273JB & EWR & BOS &  34 &  200 & 14 &  0 & 2013-09-16 14:00:00 & 2013 &  9 & 16 & 1353\\\\\n",
       "\t 1559 & 20 & 1940 & 1919 &  21 & DL & 1373 & N3757D & JFK & MIA & 148 & 1089 & 15 & 59 & 2013-08-22 15:00:00 & 2013 &  8 & 22 & 1619\\\\\n",
       "\t  810 & -3 & 1042 & 1100 & -18 & UA & 1218 & N15710 & EWR & DFW & 198 & 1372 &  8 & 10 & 2013-09-24 08:00:00 & 2013 &  9 & 24 &  807\\\\\n",
       "\t 1830 &  0 & 2113 & 2055 &  18 & UA & 1236 & N36472 & EWR & DEN & 258 & 1605 & 18 & 30 & 2013-06-15 18:00:00 & 2013 &  6 & 15 & 1830\\\\\n",
       "\t 2030 & 43 &   18 & 2350 &  28 & B6 & 1069 & N273JB & JFK & AUS & 217 & 1521 & 20 & 30 & 2013-01-28 20:00:00 & 2013 &  1 & 28 & 2113\\\\\n",
       "\t 1445 &  6 & 1758 & 1616 & 102 & UA & 1290 & N75432 & EWR & CLE &  61 &  404 & 14 & 45 & 2013-07-23 14:00:00 & 2013 &  7 & 23 & 1451\\\\\n",
       "\t  730 & 55 & 1235 & 1129 &  66 & B6 & 1289 & N584JB & EWR & SJU & 214 & 1608 &  7 & 30 & 2013-07-29 07:00:00 & 2013 &  7 & 29 &  825\\\\\n",
       "\t 2055 & -2 &    3 & 2359 &   4 & B6 & 1205 & N775JB & JFK & PDX & 329 & 2454 & 20 & 55 & 2013-10-25 20:00:00 & 2013 & 10 & 25 & 2053\\\\\n",
       "\t 1520 &  0 & 1715 & 1705 &  10 & AA &  341 & N4WNAA & LGA & ORD & 139 &  733 & 15 & 20 & 2013-11-06 15:00:00 & 2013 & 11 &  6 & 1520\\\\\n",
       "\\end{tabular}\n"
      ],
      "text/markdown": [
       "\n",
       "A tibble: 10 × 19\n",
       "\n",
       "| sched_dep_time &lt;int&gt; | dep_delay &lt;dbl&gt; | arr_time &lt;int&gt; | sched_arr_time &lt;int&gt; | arr_delay &lt;dbl&gt; | carrier &lt;chr&gt; | flight &lt;int&gt; | tailnum &lt;chr&gt; | origin &lt;chr&gt; | dest &lt;chr&gt; | air_time &lt;dbl&gt; | distance &lt;dbl&gt; | hour &lt;dbl&gt; | minute &lt;dbl&gt; | time_hour &lt;dttm&gt; | year &lt;int&gt; | month &lt;int&gt; | day &lt;int&gt; | dep_time &lt;int&gt; |\n",
       "|---|---|---|---|---|---|---|---|---|---|---|---|---|---|---|---|---|---|---|\n",
       "| 1440 | -2 | 1725 | 1746 | -21 | DL | 1902 | N907DL | LGA | PBI | 149 | 1035 | 14 | 40 | 2013-07-02 14:00:00 | 2013 |  7 |  2 | 1438 |\n",
       "| 1400 | -7 | 1445 | 1506 | -21 | B6 | 2480 | N273JB | EWR | BOS |  34 |  200 | 14 |  0 | 2013-09-16 14:00:00 | 2013 |  9 | 16 | 1353 |\n",
       "| 1559 | 20 | 1940 | 1919 |  21 | DL | 1373 | N3757D | JFK | MIA | 148 | 1089 | 15 | 59 | 2013-08-22 15:00:00 | 2013 |  8 | 22 | 1619 |\n",
       "|  810 | -3 | 1042 | 1100 | -18 | UA | 1218 | N15710 | EWR | DFW | 198 | 1372 |  8 | 10 | 2013-09-24 08:00:00 | 2013 |  9 | 24 |  807 |\n",
       "| 1830 |  0 | 2113 | 2055 |  18 | UA | 1236 | N36472 | EWR | DEN | 258 | 1605 | 18 | 30 | 2013-06-15 18:00:00 | 2013 |  6 | 15 | 1830 |\n",
       "| 2030 | 43 |   18 | 2350 |  28 | B6 | 1069 | N273JB | JFK | AUS | 217 | 1521 | 20 | 30 | 2013-01-28 20:00:00 | 2013 |  1 | 28 | 2113 |\n",
       "| 1445 |  6 | 1758 | 1616 | 102 | UA | 1290 | N75432 | EWR | CLE |  61 |  404 | 14 | 45 | 2013-07-23 14:00:00 | 2013 |  7 | 23 | 1451 |\n",
       "|  730 | 55 | 1235 | 1129 |  66 | B6 | 1289 | N584JB | EWR | SJU | 214 | 1608 |  7 | 30 | 2013-07-29 07:00:00 | 2013 |  7 | 29 |  825 |\n",
       "| 2055 | -2 |    3 | 2359 |   4 | B6 | 1205 | N775JB | JFK | PDX | 329 | 2454 | 20 | 55 | 2013-10-25 20:00:00 | 2013 | 10 | 25 | 2053 |\n",
       "| 1520 |  0 | 1715 | 1705 |  10 | AA |  341 | N4WNAA | LGA | ORD | 139 |  733 | 15 | 20 | 2013-11-06 15:00:00 | 2013 | 11 |  6 | 1520 |\n",
       "\n"
      ],
      "text/plain": [
       "   sched_dep_time dep_delay arr_time sched_arr_time arr_delay carrier flight\n",
       "1  1440           -2        1725     1746           -21       DL      1902  \n",
       "2  1400           -7        1445     1506           -21       B6      2480  \n",
       "3  1559           20        1940     1919            21       DL      1373  \n",
       "4   810           -3        1042     1100           -18       UA      1218  \n",
       "5  1830            0        2113     2055            18       UA      1236  \n",
       "6  2030           43          18     2350            28       B6      1069  \n",
       "7  1445            6        1758     1616           102       UA      1290  \n",
       "8   730           55        1235     1129            66       B6      1289  \n",
       "9  2055           -2           3     2359             4       B6      1205  \n",
       "10 1520            0        1715     1705            10       AA       341  \n",
       "   tailnum origin dest air_time distance hour minute time_hour           year\n",
       "1  N907DL  LGA    PBI  149      1035     14   40     2013-07-02 14:00:00 2013\n",
       "2  N273JB  EWR    BOS   34       200     14    0     2013-09-16 14:00:00 2013\n",
       "3  N3757D  JFK    MIA  148      1089     15   59     2013-08-22 15:00:00 2013\n",
       "4  N15710  EWR    DFW  198      1372      8   10     2013-09-24 08:00:00 2013\n",
       "5  N36472  EWR    DEN  258      1605     18   30     2013-06-15 18:00:00 2013\n",
       "6  N273JB  JFK    AUS  217      1521     20   30     2013-01-28 20:00:00 2013\n",
       "7  N75432  EWR    CLE   61       404     14   45     2013-07-23 14:00:00 2013\n",
       "8  N584JB  EWR    SJU  214      1608      7   30     2013-07-29 07:00:00 2013\n",
       "9  N775JB  JFK    PDX  329      2454     20   55     2013-10-25 20:00:00 2013\n",
       "10 N4WNAA  LGA    ORD  139       733     15   20     2013-11-06 15:00:00 2013\n",
       "   month day dep_time\n",
       "1   7     2  1438    \n",
       "2   9    16  1353    \n",
       "3   8    22  1619    \n",
       "4   9    24   807    \n",
       "5   6    15  1830    \n",
       "6   1    28  2113    \n",
       "7   7    23  1451    \n",
       "8   7    29   825    \n",
       "9  10    25  2053    \n",
       "10 11     6  1520    "
      ]
     },
     "metadata": {},
     "output_type": "display_data"
    }
   ],
   "source": [
    "flights |>\n",
    "  relocate(year:dep_time, .after = time_hour) |>\n",
    "  sample_n(10)\n"
   ]
  },
  {
   "cell_type": "code",
   "execution_count": 6,
   "metadata": {
    "vscode": {
     "languageId": "r"
    }
   },
   "outputs": [
    {
     "data": {
      "text/html": [
       "<table class=\"dataframe\">\n",
       "<caption>A tibble: 10 × 19</caption>\n",
       "<thead>\n",
       "\t<tr><th scope=col>year</th><th scope=col>month</th><th scope=col>day</th><th scope=col>arr_time</th><th scope=col>arr_delay</th><th scope=col>dep_time</th><th scope=col>sched_dep_time</th><th scope=col>dep_delay</th><th scope=col>sched_arr_time</th><th scope=col>carrier</th><th scope=col>flight</th><th scope=col>tailnum</th><th scope=col>origin</th><th scope=col>dest</th><th scope=col>air_time</th><th scope=col>distance</th><th scope=col>hour</th><th scope=col>minute</th><th scope=col>time_hour</th></tr>\n",
       "\t<tr><th scope=col>&lt;int&gt;</th><th scope=col>&lt;int&gt;</th><th scope=col>&lt;int&gt;</th><th scope=col>&lt;int&gt;</th><th scope=col>&lt;dbl&gt;</th><th scope=col>&lt;int&gt;</th><th scope=col>&lt;int&gt;</th><th scope=col>&lt;dbl&gt;</th><th scope=col>&lt;int&gt;</th><th scope=col>&lt;chr&gt;</th><th scope=col>&lt;int&gt;</th><th scope=col>&lt;chr&gt;</th><th scope=col>&lt;chr&gt;</th><th scope=col>&lt;chr&gt;</th><th scope=col>&lt;dbl&gt;</th><th scope=col>&lt;dbl&gt;</th><th scope=col>&lt;dbl&gt;</th><th scope=col>&lt;dbl&gt;</th><th scope=col>&lt;dttm&gt;</th></tr>\n",
       "</thead>\n",
       "<tbody>\n",
       "\t<tr><td>2013</td><td> 6</td><td>13</td><td>1800</td><td>  5</td><td>1458</td><td>1500</td><td> -2</td><td>1755</td><td>AA</td><td>1813</td><td>N5FKAA</td><td>JFK</td><td>MCO</td><td>132</td><td> 944</td><td>15</td><td> 0</td><td>2013-06-13 15:00:00</td></tr>\n",
       "\t<tr><td>2013</td><td> 2</td><td>24</td><td>1924</td><td>-41</td><td>1812</td><td>1820</td><td> -8</td><td>2005</td><td>AA</td><td> 353</td><td>N3DUAA</td><td>LGA</td><td>ORD</td><td>115</td><td> 733</td><td>18</td><td>20</td><td>2013-02-24 18:00:00</td></tr>\n",
       "\t<tr><td>2013</td><td> 6</td><td>27</td><td>1237</td><td>-32</td><td>1038</td><td>1040</td><td> -2</td><td>1309</td><td>UA</td><td> 277</td><td>N473UA</td><td>EWR</td><td>LAS</td><td>279</td><td>2227</td><td>10</td><td>40</td><td>2013-06-27 10:00:00</td></tr>\n",
       "\t<tr><td>2013</td><td> 6</td><td>24</td><td>2400</td><td>214</td><td>2246</td><td>1859</td><td>227</td><td>2026</td><td>EV</td><td>4131</td><td>N11150</td><td>EWR</td><td>RIC</td><td> 48</td><td> 277</td><td>18</td><td>59</td><td>2013-06-24 18:00:00</td></tr>\n",
       "\t<tr><td>2013</td><td> 4</td><td>18</td><td>1627</td><td>169</td><td>1304</td><td>1200</td><td> 64</td><td>1338</td><td>UA</td><td> 617</td><td>N574UA</td><td>LGA</td><td>ORD</td><td>108</td><td> 733</td><td>12</td><td> 0</td><td>2013-04-18 12:00:00</td></tr>\n",
       "\t<tr><td>2013</td><td> 7</td><td>10</td><td>1155</td><td>-15</td><td> 917</td><td> 915</td><td>  2</td><td>1210</td><td>AA</td><td>   1</td><td>N320AA</td><td>JFK</td><td>LAX</td><td>302</td><td>2475</td><td> 9</td><td>15</td><td>2013-07-10 09:00:00</td></tr>\n",
       "\t<tr><td>2013</td><td> 7</td><td>16</td><td>1940</td><td>  2</td><td>1734</td><td>1728</td><td>  6</td><td>1938</td><td>EV</td><td>4382</td><td>N11107</td><td>EWR</td><td>DTW</td><td> 77</td><td> 488</td><td>17</td><td>28</td><td>2013-07-16 17:00:00</td></tr>\n",
       "\t<tr><td>2013</td><td>12</td><td>16</td><td>1440</td><td>-27</td><td>1351</td><td>1400</td><td> -9</td><td>1507</td><td>US</td><td>2150</td><td>N949UW</td><td>LGA</td><td>BOS</td><td> 32</td><td> 184</td><td>14</td><td> 0</td><td>2013-12-16 14:00:00</td></tr>\n",
       "\t<tr><td>2013</td><td>10</td><td>17</td><td>1856</td><td>  9</td><td>1611</td><td>1600</td><td> 11</td><td>1847</td><td>B6</td><td> 543</td><td>N643JB</td><td>EWR</td><td>PBI</td><td>140</td><td>1023</td><td>16</td><td> 0</td><td>2013-10-17 16:00:00</td></tr>\n",
       "\t<tr><td>2013</td><td> 6</td><td> 7</td><td>1534</td><td>-22</td><td>1440</td><td>1445</td><td> -5</td><td>1556</td><td>EV</td><td>4434</td><td>N13968</td><td>EWR</td><td>MHT</td><td> 35</td><td> 209</td><td>14</td><td>45</td><td>2013-06-07 14:00:00</td></tr>\n",
       "</tbody>\n",
       "</table>\n"
      ],
      "text/latex": [
       "A tibble: 10 × 19\n",
       "\\begin{tabular}{lllllllllllllllllll}\n",
       " year & month & day & arr\\_time & arr\\_delay & dep\\_time & sched\\_dep\\_time & dep\\_delay & sched\\_arr\\_time & carrier & flight & tailnum & origin & dest & air\\_time & distance & hour & minute & time\\_hour\\\\\n",
       " <int> & <int> & <int> & <int> & <dbl> & <int> & <int> & <dbl> & <int> & <chr> & <int> & <chr> & <chr> & <chr> & <dbl> & <dbl> & <dbl> & <dbl> & <dttm>\\\\\n",
       "\\hline\n",
       "\t 2013 &  6 & 13 & 1800 &   5 & 1458 & 1500 &  -2 & 1755 & AA & 1813 & N5FKAA & JFK & MCO & 132 &  944 & 15 &  0 & 2013-06-13 15:00:00\\\\\n",
       "\t 2013 &  2 & 24 & 1924 & -41 & 1812 & 1820 &  -8 & 2005 & AA &  353 & N3DUAA & LGA & ORD & 115 &  733 & 18 & 20 & 2013-02-24 18:00:00\\\\\n",
       "\t 2013 &  6 & 27 & 1237 & -32 & 1038 & 1040 &  -2 & 1309 & UA &  277 & N473UA & EWR & LAS & 279 & 2227 & 10 & 40 & 2013-06-27 10:00:00\\\\\n",
       "\t 2013 &  6 & 24 & 2400 & 214 & 2246 & 1859 & 227 & 2026 & EV & 4131 & N11150 & EWR & RIC &  48 &  277 & 18 & 59 & 2013-06-24 18:00:00\\\\\n",
       "\t 2013 &  4 & 18 & 1627 & 169 & 1304 & 1200 &  64 & 1338 & UA &  617 & N574UA & LGA & ORD & 108 &  733 & 12 &  0 & 2013-04-18 12:00:00\\\\\n",
       "\t 2013 &  7 & 10 & 1155 & -15 &  917 &  915 &   2 & 1210 & AA &    1 & N320AA & JFK & LAX & 302 & 2475 &  9 & 15 & 2013-07-10 09:00:00\\\\\n",
       "\t 2013 &  7 & 16 & 1940 &   2 & 1734 & 1728 &   6 & 1938 & EV & 4382 & N11107 & EWR & DTW &  77 &  488 & 17 & 28 & 2013-07-16 17:00:00\\\\\n",
       "\t 2013 & 12 & 16 & 1440 & -27 & 1351 & 1400 &  -9 & 1507 & US & 2150 & N949UW & LGA & BOS &  32 &  184 & 14 &  0 & 2013-12-16 14:00:00\\\\\n",
       "\t 2013 & 10 & 17 & 1856 &   9 & 1611 & 1600 &  11 & 1847 & B6 &  543 & N643JB & EWR & PBI & 140 & 1023 & 16 &  0 & 2013-10-17 16:00:00\\\\\n",
       "\t 2013 &  6 &  7 & 1534 & -22 & 1440 & 1445 &  -5 & 1556 & EV & 4434 & N13968 & EWR & MHT &  35 &  209 & 14 & 45 & 2013-06-07 14:00:00\\\\\n",
       "\\end{tabular}\n"
      ],
      "text/markdown": [
       "\n",
       "A tibble: 10 × 19\n",
       "\n",
       "| year &lt;int&gt; | month &lt;int&gt; | day &lt;int&gt; | arr_time &lt;int&gt; | arr_delay &lt;dbl&gt; | dep_time &lt;int&gt; | sched_dep_time &lt;int&gt; | dep_delay &lt;dbl&gt; | sched_arr_time &lt;int&gt; | carrier &lt;chr&gt; | flight &lt;int&gt; | tailnum &lt;chr&gt; | origin &lt;chr&gt; | dest &lt;chr&gt; | air_time &lt;dbl&gt; | distance &lt;dbl&gt; | hour &lt;dbl&gt; | minute &lt;dbl&gt; | time_hour &lt;dttm&gt; |\n",
       "|---|---|---|---|---|---|---|---|---|---|---|---|---|---|---|---|---|---|---|\n",
       "| 2013 |  6 | 13 | 1800 |   5 | 1458 | 1500 |  -2 | 1755 | AA | 1813 | N5FKAA | JFK | MCO | 132 |  944 | 15 |  0 | 2013-06-13 15:00:00 |\n",
       "| 2013 |  2 | 24 | 1924 | -41 | 1812 | 1820 |  -8 | 2005 | AA |  353 | N3DUAA | LGA | ORD | 115 |  733 | 18 | 20 | 2013-02-24 18:00:00 |\n",
       "| 2013 |  6 | 27 | 1237 | -32 | 1038 | 1040 |  -2 | 1309 | UA |  277 | N473UA | EWR | LAS | 279 | 2227 | 10 | 40 | 2013-06-27 10:00:00 |\n",
       "| 2013 |  6 | 24 | 2400 | 214 | 2246 | 1859 | 227 | 2026 | EV | 4131 | N11150 | EWR | RIC |  48 |  277 | 18 | 59 | 2013-06-24 18:00:00 |\n",
       "| 2013 |  4 | 18 | 1627 | 169 | 1304 | 1200 |  64 | 1338 | UA |  617 | N574UA | LGA | ORD | 108 |  733 | 12 |  0 | 2013-04-18 12:00:00 |\n",
       "| 2013 |  7 | 10 | 1155 | -15 |  917 |  915 |   2 | 1210 | AA |    1 | N320AA | JFK | LAX | 302 | 2475 |  9 | 15 | 2013-07-10 09:00:00 |\n",
       "| 2013 |  7 | 16 | 1940 |   2 | 1734 | 1728 |   6 | 1938 | EV | 4382 | N11107 | EWR | DTW |  77 |  488 | 17 | 28 | 2013-07-16 17:00:00 |\n",
       "| 2013 | 12 | 16 | 1440 | -27 | 1351 | 1400 |  -9 | 1507 | US | 2150 | N949UW | LGA | BOS |  32 |  184 | 14 |  0 | 2013-12-16 14:00:00 |\n",
       "| 2013 | 10 | 17 | 1856 |   9 | 1611 | 1600 |  11 | 1847 | B6 |  543 | N643JB | EWR | PBI | 140 | 1023 | 16 |  0 | 2013-10-17 16:00:00 |\n",
       "| 2013 |  6 |  7 | 1534 | -22 | 1440 | 1445 |  -5 | 1556 | EV | 4434 | N13968 | EWR | MHT |  35 |  209 | 14 | 45 | 2013-06-07 14:00:00 |\n",
       "\n"
      ],
      "text/plain": [
       "   year month day arr_time arr_delay dep_time sched_dep_time dep_delay\n",
       "1  2013  6    13  1800       5       1458     1500            -2      \n",
       "2  2013  2    24  1924     -41       1812     1820            -8      \n",
       "3  2013  6    27  1237     -32       1038     1040            -2      \n",
       "4  2013  6    24  2400     214       2246     1859           227      \n",
       "5  2013  4    18  1627     169       1304     1200            64      \n",
       "6  2013  7    10  1155     -15        917      915             2      \n",
       "7  2013  7    16  1940       2       1734     1728             6      \n",
       "8  2013 12    16  1440     -27       1351     1400            -9      \n",
       "9  2013 10    17  1856       9       1611     1600            11      \n",
       "10 2013  6     7  1534     -22       1440     1445            -5      \n",
       "   sched_arr_time carrier flight tailnum origin dest air_time distance hour\n",
       "1  1755           AA      1813   N5FKAA  JFK    MCO  132       944     15  \n",
       "2  2005           AA       353   N3DUAA  LGA    ORD  115       733     18  \n",
       "3  1309           UA       277   N473UA  EWR    LAS  279      2227     10  \n",
       "4  2026           EV      4131   N11150  EWR    RIC   48       277     18  \n",
       "5  1338           UA       617   N574UA  LGA    ORD  108       733     12  \n",
       "6  1210           AA         1   N320AA  JFK    LAX  302      2475      9  \n",
       "7  1938           EV      4382   N11107  EWR    DTW   77       488     17  \n",
       "8  1507           US      2150   N949UW  LGA    BOS   32       184     14  \n",
       "9  1847           B6       543   N643JB  EWR    PBI  140      1023     16  \n",
       "10 1556           EV      4434   N13968  EWR    MHT   35       209     14  \n",
       "   minute time_hour          \n",
       "1   0     2013-06-13 15:00:00\n",
       "2  20     2013-02-24 18:00:00\n",
       "3  40     2013-06-27 10:00:00\n",
       "4  59     2013-06-24 18:00:00\n",
       "5   0     2013-04-18 12:00:00\n",
       "6  15     2013-07-10 09:00:00\n",
       "7  28     2013-07-16 17:00:00\n",
       "8   0     2013-12-16 14:00:00\n",
       "9   0     2013-10-17 16:00:00\n",
       "10 45     2013-06-07 14:00:00"
      ]
     },
     "metadata": {},
     "output_type": "display_data"
    }
   ],
   "source": [
    "flights |>\n",
    "  relocate(starts_with(\"arr\"), .before = dep_time) |>\n",
    "  sample_n(10)\n"
   ]
  },
  {
   "cell_type": "markdown",
   "metadata": {},
   "source": [
    "## Exercises\n"
   ]
  },
  {
   "cell_type": "markdown",
   "metadata": {},
   "source": [
    "### Exercise 1\n",
    "\n",
    "Compare `dep_time`, `sched_dep_time`, and `dep_delay`. How would you expect those three numbers to be related?\n"
   ]
  },
  {
   "cell_type": "code",
   "execution_count": 4,
   "metadata": {
    "vscode": {
     "languageId": "r"
    }
   },
   "outputs": [
    {
     "name": "stderr",
     "output_type": "stream",
     "text": [
      "Warning message:\n",
      "“\u001b[1m\u001b[22mThere was 1 warning in `mutate()`.\n",
      "\u001b[1m\u001b[22m\u001b[36mℹ\u001b[39m In argument: `dep_time_hms = hm(paste0(substr(dep_time, 1, 2), \":\",\n",
      "  substr(dep_time, 3, 4)))`.\n",
      "Caused by warning in `.parse_hms()`:\n",
      "\u001b[33m!\u001b[39m Some strings failed to parse”\n"
     ]
    },
    {
     "data": {
      "text/html": [
       "<table class=\"dataframe\">\n",
       "<caption>A tibble: 10 × 6</caption>\n",
       "<thead>\n",
       "\t<tr><th scope=col>dep_time</th><th scope=col>sched_dep_time</th><th scope=col>dep_delay</th><th scope=col>delay</th><th scope=col>dep_time_hms</th><th scope=col>sched_dep_time_hms</th></tr>\n",
       "\t<tr><th scope=col>&lt;chr&gt;</th><th scope=col>&lt;chr&gt;</th><th scope=col>&lt;dbl&gt;</th><th scope=col>&lt;dbl&gt;</th><th scope=col>&lt;Period&gt;</th><th scope=col>&lt;Period&gt;</th></tr>\n",
       "</thead>\n",
       "<tbody>\n",
       "\t<tr><td>0635</td><td>0630</td><td>  5</td><td>  5</td><td>6H 35M 0S</td><td>6H 30M 0S</td></tr>\n",
       "\t<tr><td>1822</td><td>1830</td><td> -8</td><td> -8</td><td>18H 22M 0S</td><td>18H 30M 0S</td></tr>\n",
       "\t<tr><td>1827</td><td>1815</td><td> 12</td><td> 12</td><td>18H 27M 0S</td><td>18H 15M 0S</td></tr>\n",
       "\t<tr><td>2304</td><td>1845</td><td>259</td><td>259</td><td>23H 4M 0S</td><td>18H 45M 0S</td></tr>\n",
       "\t<tr><td>1744</td><td>1726</td><td> 18</td><td> 18</td><td>17H 44M 0S</td><td>17H 26M 0S</td></tr>\n",
       "\t<tr><td>1655</td><td>1703</td><td> -8</td><td> -8</td><td>16H 55M 0S</td><td>17H 3M 0S</td></tr>\n",
       "\t<tr><td>0643</td><td>0647</td><td> -4</td><td> -4</td><td>6H 43M 0S</td><td>6H 47M 0S</td></tr>\n",
       "\t<tr><td>1716</td><td>1625</td><td> 51</td><td> 51</td><td>17H 16M 0S</td><td>16H 25M 0S</td></tr>\n",
       "\t<tr><td>0839</td><td>0840</td><td> -1</td><td> -1</td><td>8H 39M 0S</td><td>8H 40M 0S</td></tr>\n",
       "\t<tr><td>1927</td><td>1930</td><td> -3</td><td> -3</td><td>19H 27M 0S</td><td>19H 30M 0S</td></tr>\n",
       "</tbody>\n",
       "</table>\n"
      ],
      "text/latex": [
       "A tibble: 10 × 6\n",
       "\\begin{tabular}{llllll}\n",
       " dep\\_time & sched\\_dep\\_time & dep\\_delay & delay & dep\\_time\\_hms & sched\\_dep\\_time\\_hms\\\\\n",
       " <chr> & <chr> & <dbl> & <dbl> & <Period> & <Period>\\\\\n",
       "\\hline\n",
       "\t 0635 & 0630 &   5 &   5 & 6H 35M 0S & 6H 30M 0S\\\\\n",
       "\t 1822 & 1830 &  -8 &  -8 & 18H 22M 0S & 18H 30M 0S\\\\\n",
       "\t 1827 & 1815 &  12 &  12 & 18H 27M 0S & 18H 15M 0S\\\\\n",
       "\t 2304 & 1845 & 259 & 259 & 23H 4M 0S & 18H 45M 0S\\\\\n",
       "\t 1744 & 1726 &  18 &  18 & 17H 44M 0S & 17H 26M 0S\\\\\n",
       "\t 1655 & 1703 &  -8 &  -8 & 16H 55M 0S & 17H 3M 0S\\\\\n",
       "\t 0643 & 0647 &  -4 &  -4 & 6H 43M 0S & 6H 47M 0S\\\\\n",
       "\t 1716 & 1625 &  51 &  51 & 17H 16M 0S & 16H 25M 0S\\\\\n",
       "\t 0839 & 0840 &  -1 &  -1 & 8H 39M 0S & 8H 40M 0S\\\\\n",
       "\t 1927 & 1930 &  -3 &  -3 & 19H 27M 0S & 19H 30M 0S\\\\\n",
       "\\end{tabular}\n"
      ],
      "text/markdown": [
       "\n",
       "A tibble: 10 × 6\n",
       "\n",
       "| dep_time &lt;chr&gt; | sched_dep_time &lt;chr&gt; | dep_delay &lt;dbl&gt; | delay &lt;dbl&gt; | dep_time_hms &lt;Period&gt; | sched_dep_time_hms &lt;Period&gt; |\n",
       "|---|---|---|---|---|---|\n",
       "| 0635 | 0630 |   5 |   5 | 6H 35M 0S | 6H 30M 0S |\n",
       "| 1822 | 1830 |  -8 |  -8 | 18H 22M 0S | 18H 30M 0S |\n",
       "| 1827 | 1815 |  12 |  12 | 18H 27M 0S | 18H 15M 0S |\n",
       "| 2304 | 1845 | 259 | 259 | 23H 4M 0S | 18H 45M 0S |\n",
       "| 1744 | 1726 |  18 |  18 | 17H 44M 0S | 17H 26M 0S |\n",
       "| 1655 | 1703 |  -8 |  -8 | 16H 55M 0S | 17H 3M 0S |\n",
       "| 0643 | 0647 |  -4 |  -4 | 6H 43M 0S | 6H 47M 0S |\n",
       "| 1716 | 1625 |  51 |  51 | 17H 16M 0S | 16H 25M 0S |\n",
       "| 0839 | 0840 |  -1 |  -1 | 8H 39M 0S | 8H 40M 0S |\n",
       "| 1927 | 1930 |  -3 |  -3 | 19H 27M 0S | 19H 30M 0S |\n",
       "\n"
      ],
      "text/plain": [
       "   dep_time sched_dep_time dep_delay delay dep_time_hms sched_dep_time_hms\n",
       "1  0635     0630             5         5   6H 35M 0S    6H 30M 0S         \n",
       "2  1822     1830            -8        -8   18H 22M 0S   18H 30M 0S        \n",
       "3  1827     1815            12        12   18H 27M 0S   18H 15M 0S        \n",
       "4  2304     1845           259       259   23H 4M 0S    18H 45M 0S        \n",
       "5  1744     1726            18        18   17H 44M 0S   17H 26M 0S        \n",
       "6  1655     1703            -8        -8   16H 55M 0S   17H 3M 0S         \n",
       "7  0643     0647            -4        -4   6H 43M 0S    6H 47M 0S         \n",
       "8  1716     1625            51        51   17H 16M 0S   16H 25M 0S        \n",
       "9  0839     0840            -1        -1   8H 39M 0S    8H 40M 0S         \n",
       "10 1927     1930            -3        -3   19H 27M 0S   19H 30M 0S        "
      ]
     },
     "metadata": {},
     "output_type": "display_data"
    }
   ],
   "source": [
    "flights |>\n",
    "  select(dep_time, sched_dep_time, dep_delay) |>\n",
    "  mutate(\n",
    "    dep_time = sprintf(\"%04s\", dep_time),\n",
    "    sched_dep_time = sprintf(\"%04s\", sched_dep_time)\n",
    "  ) |>\n",
    "  mutate(\n",
    "    dep_time_hms = hm(paste0(substr(dep_time, 1, 2), \":\", substr(dep_time, 3, 4))),\n",
    "    sched_dep_time_hms = hm(paste0(substr(sched_dep_time, 1, 2), \":\", substr(sched_dep_time, 3, 4)))\n",
    "  ) |>\n",
    "  mutate(delay = as.numeric(dep_time_hms - sched_dep_time_hms) / 60, .after = dep_delay) |>\n",
    "  sample_n(10)\n"
   ]
  },
  {
   "cell_type": "markdown",
   "metadata": {},
   "source": [
    "### Exercise 3\n",
    "\n",
    "What happens if you specify the name of the same variable multiple times in a `select()` call?\n"
   ]
  },
  {
   "cell_type": "code",
   "execution_count": 6,
   "metadata": {
    "vscode": {
     "languageId": "r"
    }
   },
   "outputs": [
    {
     "data": {
      "text/html": [
       "<table class=\"dataframe\">\n",
       "<caption>A tibble: 10 × 1</caption>\n",
       "<thead>\n",
       "\t<tr><th scope=col>dep_time</th></tr>\n",
       "\t<tr><th scope=col>&lt;int&gt;</th></tr>\n",
       "</thead>\n",
       "<tbody>\n",
       "\t<tr><td> 613</td></tr>\n",
       "\t<tr><td> 708</td></tr>\n",
       "\t<tr><td>1604</td></tr>\n",
       "\t<tr><td>2059</td></tr>\n",
       "\t<tr><td>1635</td></tr>\n",
       "\t<tr><td> 922</td></tr>\n",
       "\t<tr><td>1256</td></tr>\n",
       "\t<tr><td> 640</td></tr>\n",
       "\t<tr><td>1854</td></tr>\n",
       "\t<tr><td> 613</td></tr>\n",
       "</tbody>\n",
       "</table>\n"
      ],
      "text/latex": [
       "A tibble: 10 × 1\n",
       "\\begin{tabular}{l}\n",
       " dep\\_time\\\\\n",
       " <int>\\\\\n",
       "\\hline\n",
       "\t  613\\\\\n",
       "\t  708\\\\\n",
       "\t 1604\\\\\n",
       "\t 2059\\\\\n",
       "\t 1635\\\\\n",
       "\t  922\\\\\n",
       "\t 1256\\\\\n",
       "\t  640\\\\\n",
       "\t 1854\\\\\n",
       "\t  613\\\\\n",
       "\\end{tabular}\n"
      ],
      "text/markdown": [
       "\n",
       "A tibble: 10 × 1\n",
       "\n",
       "| dep_time &lt;int&gt; |\n",
       "|---|\n",
       "|  613 |\n",
       "|  708 |\n",
       "| 1604 |\n",
       "| 2059 |\n",
       "| 1635 |\n",
       "|  922 |\n",
       "| 1256 |\n",
       "|  640 |\n",
       "| 1854 |\n",
       "|  613 |\n",
       "\n"
      ],
      "text/plain": [
       "   dep_time\n",
       "1   613    \n",
       "2   708    \n",
       "3  1604    \n",
       "4  2059    \n",
       "5  1635    \n",
       "6   922    \n",
       "7  1256    \n",
       "8   640    \n",
       "9  1854    \n",
       "10  613    "
      ]
     },
     "metadata": {},
     "output_type": "display_data"
    }
   ],
   "source": [
    "flights |>\n",
    "  select(dep_time, dep_time) |>\n",
    "  sample_n(10)\n"
   ]
  },
  {
   "cell_type": "markdown",
   "metadata": {},
   "source": [
    "### Exercise 4\n",
    "\n",
    "What does the `any_of()` function do? Why might it be helpful in conjunction with this vector?\n"
   ]
  },
  {
   "cell_type": "code",
   "execution_count": 27,
   "metadata": {
    "vscode": {
     "languageId": "r"
    }
   },
   "outputs": [],
   "source": [
    "variables <- c(\"year\", \"month\", \"day\", \"dep_delay\", \"arr_delay\")\n"
   ]
  },
  {
   "cell_type": "code",
   "execution_count": 29,
   "metadata": {
    "vscode": {
     "languageId": "r"
    }
   },
   "outputs": [
    {
     "data": {
      "text/html": [
       "<table class=\"dataframe\">\n",
       "<caption>A tibble: 10 × 5</caption>\n",
       "<thead>\n",
       "\t<tr><th scope=col>year</th><th scope=col>month</th><th scope=col>day</th><th scope=col>dep_delay</th><th scope=col>arr_delay</th></tr>\n",
       "\t<tr><th scope=col>&lt;int&gt;</th><th scope=col>&lt;int&gt;</th><th scope=col>&lt;int&gt;</th><th scope=col>&lt;dbl&gt;</th><th scope=col>&lt;dbl&gt;</th></tr>\n",
       "</thead>\n",
       "<tbody>\n",
       "\t<tr><td>2013</td><td> 9</td><td>29</td><td>30</td><td> 18</td></tr>\n",
       "\t<tr><td>2013</td><td> 9</td><td> 4</td><td>28</td><td> 26</td></tr>\n",
       "\t<tr><td>2013</td><td>12</td><td>12</td><td>-6</td><td>-12</td></tr>\n",
       "\t<tr><td>2013</td><td> 4</td><td>13</td><td>-1</td><td>  3</td></tr>\n",
       "\t<tr><td>2013</td><td>12</td><td>22</td><td>-2</td><td> -3</td></tr>\n",
       "\t<tr><td>2013</td><td>11</td><td>13</td><td>-2</td><td>-41</td></tr>\n",
       "\t<tr><td>2013</td><td> 4</td><td> 5</td><td>28</td><td> 83</td></tr>\n",
       "\t<tr><td>2013</td><td> 3</td><td> 6</td><td> 2</td><td>-15</td></tr>\n",
       "\t<tr><td>2013</td><td> 6</td><td>17</td><td>-8</td><td> -3</td></tr>\n",
       "\t<tr><td>2013</td><td> 3</td><td>16</td><td>-4</td><td>-12</td></tr>\n",
       "</tbody>\n",
       "</table>\n"
      ],
      "text/latex": [
       "A tibble: 10 × 5\n",
       "\\begin{tabular}{lllll}\n",
       " year & month & day & dep\\_delay & arr\\_delay\\\\\n",
       " <int> & <int> & <int> & <dbl> & <dbl>\\\\\n",
       "\\hline\n",
       "\t 2013 &  9 & 29 & 30 &  18\\\\\n",
       "\t 2013 &  9 &  4 & 28 &  26\\\\\n",
       "\t 2013 & 12 & 12 & -6 & -12\\\\\n",
       "\t 2013 &  4 & 13 & -1 &   3\\\\\n",
       "\t 2013 & 12 & 22 & -2 &  -3\\\\\n",
       "\t 2013 & 11 & 13 & -2 & -41\\\\\n",
       "\t 2013 &  4 &  5 & 28 &  83\\\\\n",
       "\t 2013 &  3 &  6 &  2 & -15\\\\\n",
       "\t 2013 &  6 & 17 & -8 &  -3\\\\\n",
       "\t 2013 &  3 & 16 & -4 & -12\\\\\n",
       "\\end{tabular}\n"
      ],
      "text/markdown": [
       "\n",
       "A tibble: 10 × 5\n",
       "\n",
       "| year &lt;int&gt; | month &lt;int&gt; | day &lt;int&gt; | dep_delay &lt;dbl&gt; | arr_delay &lt;dbl&gt; |\n",
       "|---|---|---|---|---|\n",
       "| 2013 |  9 | 29 | 30 |  18 |\n",
       "| 2013 |  9 |  4 | 28 |  26 |\n",
       "| 2013 | 12 | 12 | -6 | -12 |\n",
       "| 2013 |  4 | 13 | -1 |   3 |\n",
       "| 2013 | 12 | 22 | -2 |  -3 |\n",
       "| 2013 | 11 | 13 | -2 | -41 |\n",
       "| 2013 |  4 |  5 | 28 |  83 |\n",
       "| 2013 |  3 |  6 |  2 | -15 |\n",
       "| 2013 |  6 | 17 | -8 |  -3 |\n",
       "| 2013 |  3 | 16 | -4 | -12 |\n",
       "\n"
      ],
      "text/plain": [
       "   year month day dep_delay arr_delay\n",
       "1  2013  9    29  30         18      \n",
       "2  2013  9     4  28         26      \n",
       "3  2013 12    12  -6        -12      \n",
       "4  2013  4    13  -1          3      \n",
       "5  2013 12    22  -2         -3      \n",
       "6  2013 11    13  -2        -41      \n",
       "7  2013  4     5  28         83      \n",
       "8  2013  3     6   2        -15      \n",
       "9  2013  6    17  -8         -3      \n",
       "10 2013  3    16  -4        -12      "
      ]
     },
     "metadata": {},
     "output_type": "display_data"
    }
   ],
   "source": [
    "flights |>\n",
    "    select(any_of(variables)) |>\n",
    "    sample_n(10)\n"
   ]
  },
  {
   "cell_type": "markdown",
   "metadata": {},
   "source": [
    "### Exerice 5\n",
    "\n",
    "Does the result of running the following code surprise you? How do the select helpers deal with upper and lower case by default? How can you change that default?\n"
   ]
  },
  {
   "cell_type": "code",
   "execution_count": 31,
   "metadata": {
    "vscode": {
     "languageId": "r"
    }
   },
   "outputs": [
    {
     "data": {
      "text/html": [
       "<table class=\"dataframe\">\n",
       "<caption>A tibble: 10 × 6</caption>\n",
       "<thead>\n",
       "\t<tr><th scope=col>dep_time</th><th scope=col>sched_dep_time</th><th scope=col>arr_time</th><th scope=col>sched_arr_time</th><th scope=col>air_time</th><th scope=col>time_hour</th></tr>\n",
       "\t<tr><th scope=col>&lt;int&gt;</th><th scope=col>&lt;int&gt;</th><th scope=col>&lt;int&gt;</th><th scope=col>&lt;int&gt;</th><th scope=col>&lt;dbl&gt;</th><th scope=col>&lt;dttm&gt;</th></tr>\n",
       "</thead>\n",
       "<tbody>\n",
       "\t<tr><td>1924</td><td>1935</td><td>2115</td><td>2137</td><td> 79</td><td>2013-06-19 19:00:00</td></tr>\n",
       "\t<tr><td>1711</td><td>1638</td><td>1823</td><td>1811</td><td> 51</td><td>2013-07-30 16:00:00</td></tr>\n",
       "\t<tr><td>1239</td><td>1245</td><td>1600</td><td>1600</td><td>179</td><td>2013-09-25 12:00:00</td></tr>\n",
       "\t<tr><td>1950</td><td>1700</td><td>2142</td><td>1923</td><td> 96</td><td>2013-08-12 17:00:00</td></tr>\n",
       "\t<tr><td> 556</td><td> 600</td><td> 700</td><td> 715</td><td>107</td><td>2013-08-24 06:00:00</td></tr>\n",
       "\t<tr><td>1306</td><td>1315</td><td>1422</td><td>1433</td><td> 54</td><td>2013-04-10 13:00:00</td></tr>\n",
       "\t<tr><td> 821</td><td> 822</td><td>1128</td><td>1141</td><td>349</td><td>2013-11-16 08:00:00</td></tr>\n",
       "\t<tr><td>1400</td><td>1405</td><td>1654</td><td>1712</td><td>335</td><td>2013-11-19 14:00:00</td></tr>\n",
       "\t<tr><td> 554</td><td> 600</td><td> 721</td><td> 745</td><td>124</td><td>2013-12-30 06:00:00</td></tr>\n",
       "\t<tr><td>1516</td><td>1523</td><td>1630</td><td>1657</td><td>117</td><td>2013-11-18 15:00:00</td></tr>\n",
       "</tbody>\n",
       "</table>\n"
      ],
      "text/latex": [
       "A tibble: 10 × 6\n",
       "\\begin{tabular}{llllll}\n",
       " dep\\_time & sched\\_dep\\_time & arr\\_time & sched\\_arr\\_time & air\\_time & time\\_hour\\\\\n",
       " <int> & <int> & <int> & <int> & <dbl> & <dttm>\\\\\n",
       "\\hline\n",
       "\t 1924 & 1935 & 2115 & 2137 &  79 & 2013-06-19 19:00:00\\\\\n",
       "\t 1711 & 1638 & 1823 & 1811 &  51 & 2013-07-30 16:00:00\\\\\n",
       "\t 1239 & 1245 & 1600 & 1600 & 179 & 2013-09-25 12:00:00\\\\\n",
       "\t 1950 & 1700 & 2142 & 1923 &  96 & 2013-08-12 17:00:00\\\\\n",
       "\t  556 &  600 &  700 &  715 & 107 & 2013-08-24 06:00:00\\\\\n",
       "\t 1306 & 1315 & 1422 & 1433 &  54 & 2013-04-10 13:00:00\\\\\n",
       "\t  821 &  822 & 1128 & 1141 & 349 & 2013-11-16 08:00:00\\\\\n",
       "\t 1400 & 1405 & 1654 & 1712 & 335 & 2013-11-19 14:00:00\\\\\n",
       "\t  554 &  600 &  721 &  745 & 124 & 2013-12-30 06:00:00\\\\\n",
       "\t 1516 & 1523 & 1630 & 1657 & 117 & 2013-11-18 15:00:00\\\\\n",
       "\\end{tabular}\n"
      ],
      "text/markdown": [
       "\n",
       "A tibble: 10 × 6\n",
       "\n",
       "| dep_time &lt;int&gt; | sched_dep_time &lt;int&gt; | arr_time &lt;int&gt; | sched_arr_time &lt;int&gt; | air_time &lt;dbl&gt; | time_hour &lt;dttm&gt; |\n",
       "|---|---|---|---|---|---|\n",
       "| 1924 | 1935 | 2115 | 2137 |  79 | 2013-06-19 19:00:00 |\n",
       "| 1711 | 1638 | 1823 | 1811 |  51 | 2013-07-30 16:00:00 |\n",
       "| 1239 | 1245 | 1600 | 1600 | 179 | 2013-09-25 12:00:00 |\n",
       "| 1950 | 1700 | 2142 | 1923 |  96 | 2013-08-12 17:00:00 |\n",
       "|  556 |  600 |  700 |  715 | 107 | 2013-08-24 06:00:00 |\n",
       "| 1306 | 1315 | 1422 | 1433 |  54 | 2013-04-10 13:00:00 |\n",
       "|  821 |  822 | 1128 | 1141 | 349 | 2013-11-16 08:00:00 |\n",
       "| 1400 | 1405 | 1654 | 1712 | 335 | 2013-11-19 14:00:00 |\n",
       "|  554 |  600 |  721 |  745 | 124 | 2013-12-30 06:00:00 |\n",
       "| 1516 | 1523 | 1630 | 1657 | 117 | 2013-11-18 15:00:00 |\n",
       "\n"
      ],
      "text/plain": [
       "   dep_time sched_dep_time arr_time sched_arr_time air_time time_hour          \n",
       "1  1924     1935           2115     2137            79      2013-06-19 19:00:00\n",
       "2  1711     1638           1823     1811            51      2013-07-30 16:00:00\n",
       "3  1239     1245           1600     1600           179      2013-09-25 12:00:00\n",
       "4  1950     1700           2142     1923            96      2013-08-12 17:00:00\n",
       "5   556      600            700      715           107      2013-08-24 06:00:00\n",
       "6  1306     1315           1422     1433            54      2013-04-10 13:00:00\n",
       "7   821      822           1128     1141           349      2013-11-16 08:00:00\n",
       "8  1400     1405           1654     1712           335      2013-11-19 14:00:00\n",
       "9   554      600            721      745           124      2013-12-30 06:00:00\n",
       "10 1516     1523           1630     1657           117      2013-11-18 15:00:00"
      ]
     },
     "metadata": {},
     "output_type": "display_data"
    }
   ],
   "source": [
    "flights |>\n",
    "    select(contains(\"TIME\")) |>\n",
    "    sample_n(10)\n"
   ]
  },
  {
   "cell_type": "code",
   "execution_count": 8,
   "metadata": {
    "vscode": {
     "languageId": "r"
    }
   },
   "outputs": [
    {
     "data": {
      "text/html": [
       "<table class=\"dataframe\">\n",
       "<caption>A tibble: 10 × 6</caption>\n",
       "<thead>\n",
       "\t<tr><th scope=col>dep_time</th><th scope=col>sched_dep_time</th><th scope=col>arr_time</th><th scope=col>sched_arr_time</th><th scope=col>air_time</th><th scope=col>time_hour</th></tr>\n",
       "\t<tr><th scope=col>&lt;int&gt;</th><th scope=col>&lt;int&gt;</th><th scope=col>&lt;int&gt;</th><th scope=col>&lt;int&gt;</th><th scope=col>&lt;dbl&gt;</th><th scope=col>&lt;dttm&gt;</th></tr>\n",
       "</thead>\n",
       "<tbody>\n",
       "\t<tr><td>1124</td><td>1006</td><td>1240</td><td>1125</td><td> 46</td><td>2013-12-13 10:00:00</td></tr>\n",
       "\t<tr><td> 958</td><td>1000</td><td>1326</td><td>1341</td><td>365</td><td>2013-02-18 10:00:00</td></tr>\n",
       "\t<tr><td>1310</td><td>1259</td><td>1525</td><td>1530</td><td> 97</td><td>2013-05-14 12:00:00</td></tr>\n",
       "\t<tr><td>1752</td><td>1800</td><td>1853</td><td>1919</td><td> 41</td><td>2013-11-01 18:00:00</td></tr>\n",
       "\t<tr><td> 647</td><td> 700</td><td> 943</td><td>1001</td><td>161</td><td>2013-10-22 07:00:00</td></tr>\n",
       "\t<tr><td>1951</td><td>1935</td><td>2050</td><td>2121</td><td> 45</td><td>2013-05-16 19:00:00</td></tr>\n",
       "\t<tr><td> 628</td><td> 615</td><td> 730</td><td> 715</td><td> 42</td><td>2013-01-02 06:00:00</td></tr>\n",
       "\t<tr><td> 555</td><td> 600</td><td> 651</td><td> 657</td><td> 32</td><td>2013-05-14 06:00:00</td></tr>\n",
       "\t<tr><td> 656</td><td> 700</td><td>1020</td><td>1014</td><td>169</td><td>2013-01-14 07:00:00</td></tr>\n",
       "\t<tr><td>1616</td><td>1556</td><td>1842</td><td>1852</td><td>127</td><td>2013-05-09 15:00:00</td></tr>\n",
       "</tbody>\n",
       "</table>\n"
      ],
      "text/latex": [
       "A tibble: 10 × 6\n",
       "\\begin{tabular}{llllll}\n",
       " dep\\_time & sched\\_dep\\_time & arr\\_time & sched\\_arr\\_time & air\\_time & time\\_hour\\\\\n",
       " <int> & <int> & <int> & <int> & <dbl> & <dttm>\\\\\n",
       "\\hline\n",
       "\t 1124 & 1006 & 1240 & 1125 &  46 & 2013-12-13 10:00:00\\\\\n",
       "\t  958 & 1000 & 1326 & 1341 & 365 & 2013-02-18 10:00:00\\\\\n",
       "\t 1310 & 1259 & 1525 & 1530 &  97 & 2013-05-14 12:00:00\\\\\n",
       "\t 1752 & 1800 & 1853 & 1919 &  41 & 2013-11-01 18:00:00\\\\\n",
       "\t  647 &  700 &  943 & 1001 & 161 & 2013-10-22 07:00:00\\\\\n",
       "\t 1951 & 1935 & 2050 & 2121 &  45 & 2013-05-16 19:00:00\\\\\n",
       "\t  628 &  615 &  730 &  715 &  42 & 2013-01-02 06:00:00\\\\\n",
       "\t  555 &  600 &  651 &  657 &  32 & 2013-05-14 06:00:00\\\\\n",
       "\t  656 &  700 & 1020 & 1014 & 169 & 2013-01-14 07:00:00\\\\\n",
       "\t 1616 & 1556 & 1842 & 1852 & 127 & 2013-05-09 15:00:00\\\\\n",
       "\\end{tabular}\n"
      ],
      "text/markdown": [
       "\n",
       "A tibble: 10 × 6\n",
       "\n",
       "| dep_time &lt;int&gt; | sched_dep_time &lt;int&gt; | arr_time &lt;int&gt; | sched_arr_time &lt;int&gt; | air_time &lt;dbl&gt; | time_hour &lt;dttm&gt; |\n",
       "|---|---|---|---|---|---|\n",
       "| 1124 | 1006 | 1240 | 1125 |  46 | 2013-12-13 10:00:00 |\n",
       "|  958 | 1000 | 1326 | 1341 | 365 | 2013-02-18 10:00:00 |\n",
       "| 1310 | 1259 | 1525 | 1530 |  97 | 2013-05-14 12:00:00 |\n",
       "| 1752 | 1800 | 1853 | 1919 |  41 | 2013-11-01 18:00:00 |\n",
       "|  647 |  700 |  943 | 1001 | 161 | 2013-10-22 07:00:00 |\n",
       "| 1951 | 1935 | 2050 | 2121 |  45 | 2013-05-16 19:00:00 |\n",
       "|  628 |  615 |  730 |  715 |  42 | 2013-01-02 06:00:00 |\n",
       "|  555 |  600 |  651 |  657 |  32 | 2013-05-14 06:00:00 |\n",
       "|  656 |  700 | 1020 | 1014 | 169 | 2013-01-14 07:00:00 |\n",
       "| 1616 | 1556 | 1842 | 1852 | 127 | 2013-05-09 15:00:00 |\n",
       "\n"
      ],
      "text/plain": [
       "   dep_time sched_dep_time arr_time sched_arr_time air_time time_hour          \n",
       "1  1124     1006           1240     1125            46      2013-12-13 10:00:00\n",
       "2   958     1000           1326     1341           365      2013-02-18 10:00:00\n",
       "3  1310     1259           1525     1530            97      2013-05-14 12:00:00\n",
       "4  1752     1800           1853     1919            41      2013-11-01 18:00:00\n",
       "5   647      700            943     1001           161      2013-10-22 07:00:00\n",
       "6  1951     1935           2050     2121            45      2013-05-16 19:00:00\n",
       "7   628      615            730      715            42      2013-01-02 06:00:00\n",
       "8   555      600            651      657            32      2013-05-14 06:00:00\n",
       "9   656      700           1020     1014           169      2013-01-14 07:00:00\n",
       "10 1616     1556           1842     1852           127      2013-05-09 15:00:00"
      ]
     },
     "metadata": {},
     "output_type": "display_data"
    }
   ],
   "source": [
    "flights |>\n",
    "    select(contains(\"time\", ignore.case = FALSE)) |>\n",
    "    sample_n(10)\n"
   ]
  },
  {
   "cell_type": "markdown",
   "metadata": {},
   "source": [
    "## Intro to `group_by`\n"
   ]
  },
  {
   "cell_type": "code",
   "execution_count": 14,
   "metadata": {
    "vscode": {
     "languageId": "r"
    }
   },
   "outputs": [
    {
     "data": {
      "text/html": [
       "<table class=\"dataframe\">\n",
       "<caption>A grouped_df: 6 × 19</caption>\n",
       "<thead>\n",
       "\t<tr><th scope=col>year</th><th scope=col>month</th><th scope=col>day</th><th scope=col>dep_time</th><th scope=col>sched_dep_time</th><th scope=col>dep_delay</th><th scope=col>arr_time</th><th scope=col>sched_arr_time</th><th scope=col>arr_delay</th><th scope=col>carrier</th><th scope=col>flight</th><th scope=col>tailnum</th><th scope=col>origin</th><th scope=col>dest</th><th scope=col>air_time</th><th scope=col>distance</th><th scope=col>hour</th><th scope=col>minute</th><th scope=col>time_hour</th></tr>\n",
       "\t<tr><th scope=col>&lt;int&gt;</th><th scope=col>&lt;int&gt;</th><th scope=col>&lt;int&gt;</th><th scope=col>&lt;int&gt;</th><th scope=col>&lt;int&gt;</th><th scope=col>&lt;dbl&gt;</th><th scope=col>&lt;int&gt;</th><th scope=col>&lt;int&gt;</th><th scope=col>&lt;dbl&gt;</th><th scope=col>&lt;chr&gt;</th><th scope=col>&lt;int&gt;</th><th scope=col>&lt;chr&gt;</th><th scope=col>&lt;chr&gt;</th><th scope=col>&lt;chr&gt;</th><th scope=col>&lt;dbl&gt;</th><th scope=col>&lt;dbl&gt;</th><th scope=col>&lt;dbl&gt;</th><th scope=col>&lt;dbl&gt;</th><th scope=col>&lt;dttm&gt;</th></tr>\n",
       "</thead>\n",
       "<tbody>\n",
       "\t<tr><td>2013</td><td>1</td><td>1</td><td>517</td><td>515</td><td> 2</td><td> 830</td><td> 819</td><td> 11</td><td>UA</td><td>1545</td><td>N14228</td><td>EWR</td><td>IAH</td><td>227</td><td>1400</td><td>5</td><td>15</td><td>2013-01-01 05:00:00</td></tr>\n",
       "\t<tr><td>2013</td><td>1</td><td>1</td><td>533</td><td>529</td><td> 4</td><td> 850</td><td> 830</td><td> 20</td><td>UA</td><td>1714</td><td>N24211</td><td>LGA</td><td>IAH</td><td>227</td><td>1416</td><td>5</td><td>29</td><td>2013-01-01 05:00:00</td></tr>\n",
       "\t<tr><td>2013</td><td>1</td><td>1</td><td>542</td><td>540</td><td> 2</td><td> 923</td><td> 850</td><td> 33</td><td>AA</td><td>1141</td><td>N619AA</td><td>JFK</td><td>MIA</td><td>160</td><td>1089</td><td>5</td><td>40</td><td>2013-01-01 05:00:00</td></tr>\n",
       "\t<tr><td>2013</td><td>1</td><td>1</td><td>544</td><td>545</td><td>-1</td><td>1004</td><td>1022</td><td>-18</td><td>B6</td><td> 725</td><td>N804JB</td><td>JFK</td><td>BQN</td><td>183</td><td>1576</td><td>5</td><td>45</td><td>2013-01-01 05:00:00</td></tr>\n",
       "\t<tr><td>2013</td><td>1</td><td>1</td><td>554</td><td>600</td><td>-6</td><td> 812</td><td> 837</td><td>-25</td><td>DL</td><td> 461</td><td>N668DN</td><td>LGA</td><td>ATL</td><td>116</td><td> 762</td><td>6</td><td> 0</td><td>2013-01-01 06:00:00</td></tr>\n",
       "\t<tr><td>2013</td><td>1</td><td>1</td><td>554</td><td>558</td><td>-4</td><td> 740</td><td> 728</td><td> 12</td><td>UA</td><td>1696</td><td>N39463</td><td>EWR</td><td>ORD</td><td>150</td><td> 719</td><td>5</td><td>58</td><td>2013-01-01 05:00:00</td></tr>\n",
       "</tbody>\n",
       "</table>\n"
      ],
      "text/latex": [
       "A grouped\\_df: 6 × 19\n",
       "\\begin{tabular}{lllllllllllllllllll}\n",
       " year & month & day & dep\\_time & sched\\_dep\\_time & dep\\_delay & arr\\_time & sched\\_arr\\_time & arr\\_delay & carrier & flight & tailnum & origin & dest & air\\_time & distance & hour & minute & time\\_hour\\\\\n",
       " <int> & <int> & <int> & <int> & <int> & <dbl> & <int> & <int> & <dbl> & <chr> & <int> & <chr> & <chr> & <chr> & <dbl> & <dbl> & <dbl> & <dbl> & <dttm>\\\\\n",
       "\\hline\n",
       "\t 2013 & 1 & 1 & 517 & 515 &  2 &  830 &  819 &  11 & UA & 1545 & N14228 & EWR & IAH & 227 & 1400 & 5 & 15 & 2013-01-01 05:00:00\\\\\n",
       "\t 2013 & 1 & 1 & 533 & 529 &  4 &  850 &  830 &  20 & UA & 1714 & N24211 & LGA & IAH & 227 & 1416 & 5 & 29 & 2013-01-01 05:00:00\\\\\n",
       "\t 2013 & 1 & 1 & 542 & 540 &  2 &  923 &  850 &  33 & AA & 1141 & N619AA & JFK & MIA & 160 & 1089 & 5 & 40 & 2013-01-01 05:00:00\\\\\n",
       "\t 2013 & 1 & 1 & 544 & 545 & -1 & 1004 & 1022 & -18 & B6 &  725 & N804JB & JFK & BQN & 183 & 1576 & 5 & 45 & 2013-01-01 05:00:00\\\\\n",
       "\t 2013 & 1 & 1 & 554 & 600 & -6 &  812 &  837 & -25 & DL &  461 & N668DN & LGA & ATL & 116 &  762 & 6 &  0 & 2013-01-01 06:00:00\\\\\n",
       "\t 2013 & 1 & 1 & 554 & 558 & -4 &  740 &  728 &  12 & UA & 1696 & N39463 & EWR & ORD & 150 &  719 & 5 & 58 & 2013-01-01 05:00:00\\\\\n",
       "\\end{tabular}\n"
      ],
      "text/markdown": [
       "\n",
       "A grouped_df: 6 × 19\n",
       "\n",
       "| year &lt;int&gt; | month &lt;int&gt; | day &lt;int&gt; | dep_time &lt;int&gt; | sched_dep_time &lt;int&gt; | dep_delay &lt;dbl&gt; | arr_time &lt;int&gt; | sched_arr_time &lt;int&gt; | arr_delay &lt;dbl&gt; | carrier &lt;chr&gt; | flight &lt;int&gt; | tailnum &lt;chr&gt; | origin &lt;chr&gt; | dest &lt;chr&gt; | air_time &lt;dbl&gt; | distance &lt;dbl&gt; | hour &lt;dbl&gt; | minute &lt;dbl&gt; | time_hour &lt;dttm&gt; |\n",
       "|---|---|---|---|---|---|---|---|---|---|---|---|---|---|---|---|---|---|---|\n",
       "| 2013 | 1 | 1 | 517 | 515 |  2 |  830 |  819 |  11 | UA | 1545 | N14228 | EWR | IAH | 227 | 1400 | 5 | 15 | 2013-01-01 05:00:00 |\n",
       "| 2013 | 1 | 1 | 533 | 529 |  4 |  850 |  830 |  20 | UA | 1714 | N24211 | LGA | IAH | 227 | 1416 | 5 | 29 | 2013-01-01 05:00:00 |\n",
       "| 2013 | 1 | 1 | 542 | 540 |  2 |  923 |  850 |  33 | AA | 1141 | N619AA | JFK | MIA | 160 | 1089 | 5 | 40 | 2013-01-01 05:00:00 |\n",
       "| 2013 | 1 | 1 | 544 | 545 | -1 | 1004 | 1022 | -18 | B6 |  725 | N804JB | JFK | BQN | 183 | 1576 | 5 | 45 | 2013-01-01 05:00:00 |\n",
       "| 2013 | 1 | 1 | 554 | 600 | -6 |  812 |  837 | -25 | DL |  461 | N668DN | LGA | ATL | 116 |  762 | 6 |  0 | 2013-01-01 06:00:00 |\n",
       "| 2013 | 1 | 1 | 554 | 558 | -4 |  740 |  728 |  12 | UA | 1696 | N39463 | EWR | ORD | 150 |  719 | 5 | 58 | 2013-01-01 05:00:00 |\n",
       "\n"
      ],
      "text/plain": [
       "  year month day dep_time sched_dep_time dep_delay arr_time sched_arr_time\n",
       "1 2013 1     1   517      515             2         830      819          \n",
       "2 2013 1     1   533      529             4         850      830          \n",
       "3 2013 1     1   542      540             2         923      850          \n",
       "4 2013 1     1   544      545            -1        1004     1022          \n",
       "5 2013 1     1   554      600            -6         812      837          \n",
       "6 2013 1     1   554      558            -4         740      728          \n",
       "  arr_delay carrier flight tailnum origin dest air_time distance hour minute\n",
       "1  11       UA      1545   N14228  EWR    IAH  227      1400     5    15    \n",
       "2  20       UA      1714   N24211  LGA    IAH  227      1416     5    29    \n",
       "3  33       AA      1141   N619AA  JFK    MIA  160      1089     5    40    \n",
       "4 -18       B6       725   N804JB  JFK    BQN  183      1576     5    45    \n",
       "5 -25       DL       461   N668DN  LGA    ATL  116       762     6     0    \n",
       "6  12       UA      1696   N39463  EWR    ORD  150       719     5    58    \n",
       "  time_hour          \n",
       "1 2013-01-01 05:00:00\n",
       "2 2013-01-01 05:00:00\n",
       "3 2013-01-01 05:00:00\n",
       "4 2013-01-01 05:00:00\n",
       "5 2013-01-01 06:00:00\n",
       "6 2013-01-01 05:00:00"
      ]
     },
     "metadata": {},
     "output_type": "display_data"
    }
   ],
   "source": [
    "flights |>\n",
    "    group_by(month) |>\n",
    "    head()\n"
   ]
  },
  {
   "cell_type": "markdown",
   "metadata": {},
   "source": [
    "## Intro to `summarize`\n"
   ]
  },
  {
   "cell_type": "code",
   "execution_count": 12,
   "metadata": {
    "vscode": {
     "languageId": "r"
    }
   },
   "outputs": [
    {
     "data": {
      "text/html": [
       "<table class=\"dataframe\">\n",
       "<caption>A tibble: 12 × 3</caption>\n",
       "<thead>\n",
       "\t<tr><th scope=col>month</th><th scope=col>avg_dep_delay</th><th scope=col>nrows</th></tr>\n",
       "\t<tr><th scope=col>&lt;int&gt;</th><th scope=col>&lt;dbl&gt;</th><th scope=col>&lt;int&gt;</th></tr>\n",
       "</thead>\n",
       "<tbody>\n",
       "\t<tr><td> 7</td><td>21.727787</td><td>29425</td></tr>\n",
       "\t<tr><td> 6</td><td>20.846332</td><td>28243</td></tr>\n",
       "\t<tr><td>12</td><td>16.576688</td><td>28135</td></tr>\n",
       "\t<tr><td> 4</td><td>13.938038</td><td>28330</td></tr>\n",
       "\t<tr><td> 3</td><td>13.227076</td><td>28834</td></tr>\n",
       "\t<tr><td> 5</td><td>12.986859</td><td>28796</td></tr>\n",
       "\t<tr><td> 8</td><td>12.611040</td><td>29327</td></tr>\n",
       "\t<tr><td> 2</td><td>10.816843</td><td>24951</td></tr>\n",
       "\t<tr><td> 1</td><td>10.036665</td><td>27004</td></tr>\n",
       "\t<tr><td> 9</td><td> 6.722476</td><td>27574</td></tr>\n",
       "\t<tr><td>10</td><td> 6.243988</td><td>28889</td></tr>\n",
       "\t<tr><td>11</td><td> 5.435362</td><td>27268</td></tr>\n",
       "</tbody>\n",
       "</table>\n"
      ],
      "text/latex": [
       "A tibble: 12 × 3\n",
       "\\begin{tabular}{lll}\n",
       " month & avg\\_dep\\_delay & nrows\\\\\n",
       " <int> & <dbl> & <int>\\\\\n",
       "\\hline\n",
       "\t  7 & 21.727787 & 29425\\\\\n",
       "\t  6 & 20.846332 & 28243\\\\\n",
       "\t 12 & 16.576688 & 28135\\\\\n",
       "\t  4 & 13.938038 & 28330\\\\\n",
       "\t  3 & 13.227076 & 28834\\\\\n",
       "\t  5 & 12.986859 & 28796\\\\\n",
       "\t  8 & 12.611040 & 29327\\\\\n",
       "\t  2 & 10.816843 & 24951\\\\\n",
       "\t  1 & 10.036665 & 27004\\\\\n",
       "\t  9 &  6.722476 & 27574\\\\\n",
       "\t 10 &  6.243988 & 28889\\\\\n",
       "\t 11 &  5.435362 & 27268\\\\\n",
       "\\end{tabular}\n"
      ],
      "text/markdown": [
       "\n",
       "A tibble: 12 × 3\n",
       "\n",
       "| month &lt;int&gt; | avg_dep_delay &lt;dbl&gt; | nrows &lt;int&gt; |\n",
       "|---|---|---|\n",
       "|  7 | 21.727787 | 29425 |\n",
       "|  6 | 20.846332 | 28243 |\n",
       "| 12 | 16.576688 | 28135 |\n",
       "|  4 | 13.938038 | 28330 |\n",
       "|  3 | 13.227076 | 28834 |\n",
       "|  5 | 12.986859 | 28796 |\n",
       "|  8 | 12.611040 | 29327 |\n",
       "|  2 | 10.816843 | 24951 |\n",
       "|  1 | 10.036665 | 27004 |\n",
       "|  9 |  6.722476 | 27574 |\n",
       "| 10 |  6.243988 | 28889 |\n",
       "| 11 |  5.435362 | 27268 |\n",
       "\n"
      ],
      "text/plain": [
       "   month avg_dep_delay nrows\n",
       "1   7    21.727787     29425\n",
       "2   6    20.846332     28243\n",
       "3  12    16.576688     28135\n",
       "4   4    13.938038     28330\n",
       "5   3    13.227076     28834\n",
       "6   5    12.986859     28796\n",
       "7   8    12.611040     29327\n",
       "8   2    10.816843     24951\n",
       "9   1    10.036665     27004\n",
       "10  9     6.722476     27574\n",
       "11 10     6.243988     28889\n",
       "12 11     5.435362     27268"
      ]
     },
     "metadata": {},
     "output_type": "display_data"
    }
   ],
   "source": [
    "flights |>\n",
    "    group_by(month) |>\n",
    "    summarize(\n",
    "        avg_dep_delay = mean(dep_delay, na.rm = TRUE),\n",
    "        nrows = n()\n",
    "    ) |>\n",
    "    arrange(desc(avg_dep_delay))\n"
   ]
  },
  {
   "cell_type": "markdown",
   "metadata": {},
   "source": [
    "## Intro to `slice_` functions"
   ]
  },
  {
   "cell_type": "code",
   "execution_count": 18,
   "metadata": {
    "vscode": {
     "languageId": "r"
    }
   },
   "outputs": [
    {
     "name": "stdout",
     "output_type": "stream",
     "text": [
      "Rows: 108\n",
      "Columns: 19\n",
      "Groups: dest [105]\n",
      "$ dest           \u001b[3m\u001b[90m<chr>\u001b[39m\u001b[23m \"ABQ\", \"ACK\", \"ALB\", \"ANC\", \"ATL\", \"AUS\", \"AVL\", \"BDL\",…\n",
      "$ year           \u001b[3m\u001b[90m<int>\u001b[39m\u001b[23m 2013, 2013, 2013, 2013, 2013, 2013, 2013, 2013, 2013, 2…\n",
      "$ month          \u001b[3m\u001b[90m<int>\u001b[39m\u001b[23m 7, 7, 1, 8, 7, 7, 8, 2, 12, 4, 1, 3, 6, 9, 11, 6, 1, 12…\n",
      "$ day            \u001b[3m\u001b[90m<int>\u001b[39m\u001b[23m 22, 23, 25, 17, 22, 10, 13, 21, 1, 10, 25, 8, 13, 12, 2…\n",
      "$ dep_time       \u001b[3m\u001b[90m<int>\u001b[39m\u001b[23m 2145, 1139, 123, 1740, 2257, 2056, 1156, 1728, 1504, 25…\n",
      "$ sched_dep_time \u001b[3m\u001b[90m<int>\u001b[39m\u001b[23m 2007, 800, 2000, 1625, 759, 1505, 832, 1316, 1056, 1900…\n",
      "$ dep_delay      \u001b[3m\u001b[90m<dbl>\u001b[39m\u001b[23m 98, 219, 323, 75, 898, 351, 204, 252, 248, 325, 293, 37…\n",
      "$ arr_time       \u001b[3m\u001b[90m<int>\u001b[39m\u001b[23m 132, 1250, 229, 2042, 121, 2347, 1417, 1839, 1628, 136,…\n",
      "$ sched_arr_time \u001b[3m\u001b[90m<int>\u001b[39m\u001b[23m 2259, 909, 2101, 2003, 1026, 1758, 1029, 1413, 1230, 20…\n",
      "$ arr_delay      \u001b[3m\u001b[90m<dbl>\u001b[39m\u001b[23m 153, 221, 328, 39, 895, 349, 228, 266, 238, 291, 364, 4…\n",
      "$ carrier        \u001b[3m\u001b[90m<chr>\u001b[39m\u001b[23m \"B6\", \"B6\", \"EV\", \"UA\", \"DL\", \"UA\", \"EV\", \"EV\", \"EV\", \"…\n",
      "$ flight         \u001b[3m\u001b[90m<int>\u001b[39m\u001b[23m 1505, 1491, 4309, 887, 2047, 503, 4175, 4103, 5309, 503…\n",
      "$ tailnum        \u001b[3m\u001b[90m<chr>\u001b[39m\u001b[23m \"N784JB\", \"N192JB\", \"N13908\", \"N528UA\", \"N6716C\", \"N803…\n",
      "$ origin         \u001b[3m\u001b[90m<chr>\u001b[39m\u001b[23m \"JFK\", \"JFK\", \"EWR\", \"EWR\", \"LGA\", \"EWR\", \"EWR\", \"EWR\",…\n",
      "$ air_time       \u001b[3m\u001b[90m<dbl>\u001b[39m\u001b[23m 259, 44, 30, 404, 109, 192, 108, 26, 57, 115, 124, 47, …\n",
      "$ distance       \u001b[3m\u001b[90m<dbl>\u001b[39m\u001b[23m 1826, 199, 143, 3370, 762, 1504, 583, 116, 378, 866, 74…\n",
      "$ hour           \u001b[3m\u001b[90m<dbl>\u001b[39m\u001b[23m 20, 8, 20, 16, 7, 15, 8, 13, 10, 19, 15, 12, 20, 14, 8,…\n",
      "$ minute         \u001b[3m\u001b[90m<dbl>\u001b[39m\u001b[23m 7, 0, 0, 25, 59, 5, 32, 16, 56, 0, 27, 0, 34, 59, 15, 0…\n",
      "$ time_hour      \u001b[3m\u001b[90m<dttm>\u001b[39m\u001b[23m 2013-07-22 20:00:00, 2013-07-23 08:00:00, 2013-01-25 2…\n"
     ]
    }
   ],
   "source": [
    "flights |>\n",
    "    group_by(dest) |>\n",
    "    slice_max(arr_delay, n = 1) |>\n",
    "    relocate(dest) |>\n",
    "    glimpse()\n"
   ]
  },
  {
   "cell_type": "code",
   "execution_count": 19,
   "metadata": {
    "vscode": {
     "languageId": "r"
    }
   },
   "outputs": [
    {
     "name": "stdout",
     "output_type": "stream",
     "text": [
      "Rows: 105\n",
      "Columns: 19\n",
      "Groups: dest [105]\n",
      "$ dest           \u001b[3m\u001b[90m<chr>\u001b[39m\u001b[23m \"ABQ\", \"ACK\", \"ALB\", \"ANC\", \"ATL\", \"AUS\", \"AVL\", \"BDL\",…\n",
      "$ year           \u001b[3m\u001b[90m<int>\u001b[39m\u001b[23m 2013, 2013, 2013, 2013, 2013, 2013, 2013, 2013, 2013, 2…\n",
      "$ month          \u001b[3m\u001b[90m<int>\u001b[39m\u001b[23m 7, 7, 1, 8, 7, 7, 8, 2, 12, 4, 1, 3, 6, 9, 11, 6, 1, 12…\n",
      "$ day            \u001b[3m\u001b[90m<int>\u001b[39m\u001b[23m 22, 23, 25, 17, 22, 10, 13, 21, 1, 10, 25, 8, 13, 12, 2…\n",
      "$ dep_time       \u001b[3m\u001b[90m<int>\u001b[39m\u001b[23m 2145, 1139, 123, 1740, 2257, 2056, 1156, 1728, 1504, 25…\n",
      "$ sched_dep_time \u001b[3m\u001b[90m<int>\u001b[39m\u001b[23m 2007, 800, 2000, 1625, 759, 1505, 832, 1316, 1056, 1900…\n",
      "$ dep_delay      \u001b[3m\u001b[90m<dbl>\u001b[39m\u001b[23m 98, 219, 323, 75, 898, 351, 204, 252, 248, 325, 293, 37…\n",
      "$ arr_time       \u001b[3m\u001b[90m<int>\u001b[39m\u001b[23m 132, 1250, 229, 2042, 121, 2347, 1417, 1839, 1628, 136,…\n",
      "$ sched_arr_time \u001b[3m\u001b[90m<int>\u001b[39m\u001b[23m 2259, 909, 2101, 2003, 1026, 1758, 1029, 1413, 1230, 20…\n",
      "$ arr_delay      \u001b[3m\u001b[90m<dbl>\u001b[39m\u001b[23m 153, 221, 328, 39, 895, 349, 228, 266, 238, 291, 364, 4…\n",
      "$ carrier        \u001b[3m\u001b[90m<chr>\u001b[39m\u001b[23m \"B6\", \"B6\", \"EV\", \"UA\", \"DL\", \"UA\", \"EV\", \"EV\", \"EV\", \"…\n",
      "$ flight         \u001b[3m\u001b[90m<int>\u001b[39m\u001b[23m 1505, 1491, 4309, 887, 2047, 503, 4175, 4103, 5309, 503…\n",
      "$ tailnum        \u001b[3m\u001b[90m<chr>\u001b[39m\u001b[23m \"N784JB\", \"N192JB\", \"N13908\", \"N528UA\", \"N6716C\", \"N803…\n",
      "$ origin         \u001b[3m\u001b[90m<chr>\u001b[39m\u001b[23m \"JFK\", \"JFK\", \"EWR\", \"EWR\", \"LGA\", \"EWR\", \"EWR\", \"EWR\",…\n",
      "$ air_time       \u001b[3m\u001b[90m<dbl>\u001b[39m\u001b[23m 259, 44, 30, 404, 109, 192, 108, 26, 57, 115, 124, 47, …\n",
      "$ distance       \u001b[3m\u001b[90m<dbl>\u001b[39m\u001b[23m 1826, 199, 143, 3370, 762, 1504, 583, 116, 378, 866, 74…\n",
      "$ hour           \u001b[3m\u001b[90m<dbl>\u001b[39m\u001b[23m 20, 8, 20, 16, 7, 15, 8, 13, 10, 19, 15, 12, 20, 14, 8,…\n",
      "$ minute         \u001b[3m\u001b[90m<dbl>\u001b[39m\u001b[23m 7, 0, 0, 25, 59, 5, 32, 16, 56, 0, 27, 0, 34, 59, 15, 0…\n",
      "$ time_hour      \u001b[3m\u001b[90m<dttm>\u001b[39m\u001b[23m 2013-07-22 20:00:00, 2013-07-23 08:00:00, 2013-01-25 2…\n"
     ]
    }
   ],
   "source": [
    "flights |>\n",
    "    group_by(dest) |>\n",
    "    slice_max(arr_delay, n = 1, with_ties = FALSE) |>\n",
    "    relocate(dest) |>\n",
    "    glimpse()\n"
   ]
  },
  {
   "cell_type": "code",
   "execution_count": 24,
   "metadata": {
    "vscode": {
     "languageId": "r"
    }
   },
   "outputs": [
    {
     "name": "stderr",
     "output_type": "stream",
     "text": [
      "Warning message:\n",
      "“\u001b[1m\u001b[22mThere was 1 warning in `summarize()`.\n",
      "\u001b[1m\u001b[22m\u001b[36mℹ\u001b[39m In argument: `max_arr_delay = max(arr_delay, na.rm = TRUE)`.\n",
      "\u001b[36mℹ\u001b[39m In group 52: `dest = \"LGA\"`.\n",
      "Caused by warning in `max()`:\n",
      "\u001b[33m!\u001b[39m no non-missing arguments to max; returning -Inf”\n"
     ]
    },
    {
     "data": {
      "text/html": [
       "<table class=\"dataframe\">\n",
       "<caption>A tibble: 10 × 2</caption>\n",
       "<thead>\n",
       "\t<tr><th scope=col>dest</th><th scope=col>max_arr_delay</th></tr>\n",
       "\t<tr><th scope=col>&lt;chr&gt;</th><th scope=col>&lt;dbl&gt;</th></tr>\n",
       "</thead>\n",
       "<tbody>\n",
       "\t<tr><td>HNL</td><td>1272</td></tr>\n",
       "\t<tr><td>CMH</td><td>1127</td></tr>\n",
       "\t<tr><td>ORD</td><td>1109</td></tr>\n",
       "\t<tr><td>SFO</td><td>1007</td></tr>\n",
       "\t<tr><td>CVG</td><td> 989</td></tr>\n",
       "\t<tr><td>TPA</td><td> 931</td></tr>\n",
       "\t<tr><td>MSP</td><td> 915</td></tr>\n",
       "\t<tr><td>ATL</td><td> 895</td></tr>\n",
       "\t<tr><td>MIA</td><td> 878</td></tr>\n",
       "\t<tr><td>LAS</td><td> 852</td></tr>\n",
       "</tbody>\n",
       "</table>\n"
      ],
      "text/latex": [
       "A tibble: 10 × 2\n",
       "\\begin{tabular}{ll}\n",
       " dest & max\\_arr\\_delay\\\\\n",
       " <chr> & <dbl>\\\\\n",
       "\\hline\n",
       "\t HNL & 1272\\\\\n",
       "\t CMH & 1127\\\\\n",
       "\t ORD & 1109\\\\\n",
       "\t SFO & 1007\\\\\n",
       "\t CVG &  989\\\\\n",
       "\t TPA &  931\\\\\n",
       "\t MSP &  915\\\\\n",
       "\t ATL &  895\\\\\n",
       "\t MIA &  878\\\\\n",
       "\t LAS &  852\\\\\n",
       "\\end{tabular}\n"
      ],
      "text/markdown": [
       "\n",
       "A tibble: 10 × 2\n",
       "\n",
       "| dest &lt;chr&gt; | max_arr_delay &lt;dbl&gt; |\n",
       "|---|---|\n",
       "| HNL | 1272 |\n",
       "| CMH | 1127 |\n",
       "| ORD | 1109 |\n",
       "| SFO | 1007 |\n",
       "| CVG |  989 |\n",
       "| TPA |  931 |\n",
       "| MSP |  915 |\n",
       "| ATL |  895 |\n",
       "| MIA |  878 |\n",
       "| LAS |  852 |\n",
       "\n"
      ],
      "text/plain": [
       "   dest max_arr_delay\n",
       "1  HNL  1272         \n",
       "2  CMH  1127         \n",
       "3  ORD  1109         \n",
       "4  SFO  1007         \n",
       "5  CVG   989         \n",
       "6  TPA   931         \n",
       "7  MSP   915         \n",
       "8  ATL   895         \n",
       "9  MIA   878         \n",
       "10 LAS   852         "
      ]
     },
     "metadata": {},
     "output_type": "display_data"
    }
   ],
   "source": [
    "flights |>\n",
    "    group_by(dest) |>\n",
    "    summarize(max_arr_delay = max(arr_delay, na.rm = TRUE)) |>\n",
    "    arrange(desc(max_arr_delay)) |>\n",
    "    head(10)\n"
   ]
  },
  {
   "cell_type": "markdown",
   "metadata": {},
   "source": [
    "## Grouping by multiple columns"
   ]
  },
  {
   "cell_type": "markdown",
   "metadata": {},
   "source": [
    "Exercise 4 - Were there flights everyday of the year?"
   ]
  },
  {
   "cell_type": "code",
   "execution_count": 38,
   "metadata": {
    "vscode": {
     "languageId": "r"
    }
   },
   "outputs": [
    {
     "name": "stderr",
     "output_type": "stream",
     "text": [
      "\u001b[1m\u001b[22m`summarise()` has grouped output by 'year', 'month'. You can override using the\n",
      "`.groups` argument.\n"
     ]
    },
    {
     "data": {
      "text/html": [
       "<table class=\"dataframe\">\n",
       "<caption>A grouped_df: 10 × 4</caption>\n",
       "<thead>\n",
       "\t<tr><th scope=col>year</th><th scope=col>month</th><th scope=col>day</th><th scope=col>n_flights</th></tr>\n",
       "\t<tr><th scope=col>&lt;int&gt;</th><th scope=col>&lt;int&gt;</th><th scope=col>&lt;int&gt;</th><th scope=col>&lt;int&gt;</th></tr>\n",
       "</thead>\n",
       "<tbody>\n",
       "\t<tr><td>2013</td><td>11</td><td>28</td><td>634</td></tr>\n",
       "\t<tr><td>2013</td><td>11</td><td>29</td><td>661</td></tr>\n",
       "\t<tr><td>2013</td><td> 1</td><td>19</td><td>674</td></tr>\n",
       "\t<tr><td>2013</td><td>10</td><td>12</td><td>676</td></tr>\n",
       "\t<tr><td>2013</td><td> 1</td><td>26</td><td>680</td></tr>\n",
       "\t<tr><td>2013</td><td> 8</td><td>31</td><td>680</td></tr>\n",
       "\t<tr><td>2013</td><td> 2</td><td> 2</td><td>682</td></tr>\n",
       "\t<tr><td>2013</td><td> 9</td><td>28</td><td>682</td></tr>\n",
       "\t<tr><td>2013</td><td> 2</td><td> 9</td><td>684</td></tr>\n",
       "\t<tr><td>2013</td><td>10</td><td>19</td><td>684</td></tr>\n",
       "</tbody>\n",
       "</table>\n"
      ],
      "text/latex": [
       "A grouped\\_df: 10 × 4\n",
       "\\begin{tabular}{llll}\n",
       " year & month & day & n\\_flights\\\\\n",
       " <int> & <int> & <int> & <int>\\\\\n",
       "\\hline\n",
       "\t 2013 & 11 & 28 & 634\\\\\n",
       "\t 2013 & 11 & 29 & 661\\\\\n",
       "\t 2013 &  1 & 19 & 674\\\\\n",
       "\t 2013 & 10 & 12 & 676\\\\\n",
       "\t 2013 &  1 & 26 & 680\\\\\n",
       "\t 2013 &  8 & 31 & 680\\\\\n",
       "\t 2013 &  2 &  2 & 682\\\\\n",
       "\t 2013 &  9 & 28 & 682\\\\\n",
       "\t 2013 &  2 &  9 & 684\\\\\n",
       "\t 2013 & 10 & 19 & 684\\\\\n",
       "\\end{tabular}\n"
      ],
      "text/markdown": [
       "\n",
       "A grouped_df: 10 × 4\n",
       "\n",
       "| year &lt;int&gt; | month &lt;int&gt; | day &lt;int&gt; | n_flights &lt;int&gt; |\n",
       "|---|---|---|---|\n",
       "| 2013 | 11 | 28 | 634 |\n",
       "| 2013 | 11 | 29 | 661 |\n",
       "| 2013 |  1 | 19 | 674 |\n",
       "| 2013 | 10 | 12 | 676 |\n",
       "| 2013 |  1 | 26 | 680 |\n",
       "| 2013 |  8 | 31 | 680 |\n",
       "| 2013 |  2 |  2 | 682 |\n",
       "| 2013 |  9 | 28 | 682 |\n",
       "| 2013 |  2 |  9 | 684 |\n",
       "| 2013 | 10 | 19 | 684 |\n",
       "\n"
      ],
      "text/plain": [
       "   year month day n_flights\n",
       "1  2013 11    28  634      \n",
       "2  2013 11    29  661      \n",
       "3  2013  1    19  674      \n",
       "4  2013 10    12  676      \n",
       "5  2013  1    26  680      \n",
       "6  2013  8    31  680      \n",
       "7  2013  2     2  682      \n",
       "8  2013  9    28  682      \n",
       "9  2013  2     9  684      \n",
       "10 2013 10    19  684      "
      ]
     },
     "metadata": {},
     "output_type": "display_data"
    }
   ],
   "source": [
    "flights |>\n",
    "    group_by(year, month, day) |>\n",
    "    summarise(n_flights = n()) |>\n",
    "    arrange(n_flights) |>\n",
    "    head(10)\n"
   ]
  },
  {
   "cell_type": "code",
   "execution_count": 39,
   "metadata": {
    "vscode": {
     "languageId": "r"
    }
   },
   "outputs": [
    {
     "data": {
      "text/html": [
       "<table class=\"dataframe\">\n",
       "<caption>A grouped_df: 10 × 4</caption>\n",
       "<thead>\n",
       "\t<tr><th scope=col>year</th><th scope=col>month</th><th scope=col>day</th><th scope=col>n_flights</th></tr>\n",
       "\t<tr><th scope=col>&lt;int&gt;</th><th scope=col>&lt;int&gt;</th><th scope=col>&lt;int&gt;</th><th scope=col>&lt;int&gt;</th></tr>\n",
       "</thead>\n",
       "<tbody>\n",
       "\t<tr><td>2013</td><td>11</td><td>27</td><td>1014</td></tr>\n",
       "\t<tr><td>2013</td><td> 7</td><td>11</td><td>1006</td></tr>\n",
       "\t<tr><td>2013</td><td> 7</td><td> 8</td><td>1004</td></tr>\n",
       "\t<tr><td>2013</td><td> 7</td><td>10</td><td>1004</td></tr>\n",
       "\t<tr><td>2013</td><td>12</td><td> 2</td><td>1004</td></tr>\n",
       "\t<tr><td>2013</td><td> 7</td><td>18</td><td>1003</td></tr>\n",
       "\t<tr><td>2013</td><td> 7</td><td>25</td><td>1003</td></tr>\n",
       "\t<tr><td>2013</td><td> 7</td><td>12</td><td>1002</td></tr>\n",
       "\t<tr><td>2013</td><td> 7</td><td> 9</td><td>1001</td></tr>\n",
       "\t<tr><td>2013</td><td> 7</td><td>17</td><td>1001</td></tr>\n",
       "</tbody>\n",
       "</table>\n"
      ],
      "text/latex": [
       "A grouped\\_df: 10 × 4\n",
       "\\begin{tabular}{llll}\n",
       " year & month & day & n\\_flights\\\\\n",
       " <int> & <int> & <int> & <int>\\\\\n",
       "\\hline\n",
       "\t 2013 & 11 & 27 & 1014\\\\\n",
       "\t 2013 &  7 & 11 & 1006\\\\\n",
       "\t 2013 &  7 &  8 & 1004\\\\\n",
       "\t 2013 &  7 & 10 & 1004\\\\\n",
       "\t 2013 & 12 &  2 & 1004\\\\\n",
       "\t 2013 &  7 & 18 & 1003\\\\\n",
       "\t 2013 &  7 & 25 & 1003\\\\\n",
       "\t 2013 &  7 & 12 & 1002\\\\\n",
       "\t 2013 &  7 &  9 & 1001\\\\\n",
       "\t 2013 &  7 & 17 & 1001\\\\\n",
       "\\end{tabular}\n"
      ],
      "text/markdown": [
       "\n",
       "A grouped_df: 10 × 4\n",
       "\n",
       "| year &lt;int&gt; | month &lt;int&gt; | day &lt;int&gt; | n_flights &lt;int&gt; |\n",
       "|---|---|---|---|\n",
       "| 2013 | 11 | 27 | 1014 |\n",
       "| 2013 |  7 | 11 | 1006 |\n",
       "| 2013 |  7 |  8 | 1004 |\n",
       "| 2013 |  7 | 10 | 1004 |\n",
       "| 2013 | 12 |  2 | 1004 |\n",
       "| 2013 |  7 | 18 | 1003 |\n",
       "| 2013 |  7 | 25 | 1003 |\n",
       "| 2013 |  7 | 12 | 1002 |\n",
       "| 2013 |  7 |  9 | 1001 |\n",
       "| 2013 |  7 | 17 | 1001 |\n",
       "\n"
      ],
      "text/plain": [
       "   year month day n_flights\n",
       "1  2013 11    27  1014     \n",
       "2  2013  7    11  1006     \n",
       "3  2013  7     8  1004     \n",
       "4  2013  7    10  1004     \n",
       "5  2013 12     2  1004     \n",
       "6  2013  7    18  1003     \n",
       "7  2013  7    25  1003     \n",
       "8  2013  7    12  1002     \n",
       "9  2013  7     9  1001     \n",
       "10 2013  7    17  1001     "
      ]
     },
     "metadata": {},
     "output_type": "display_data"
    }
   ],
   "source": [
    "flights |>\n",
    "    group_by(year, month, day) |>\n",
    "    summarise(n_flights = n(), .groups = \"drop_last\") |>\n",
    "    arrange(desc(n_flights)) |>\n",
    "    head(10)\n"
   ]
  },
  {
   "cell_type": "markdown",
   "metadata": {},
   "source": [
    "## Ungrouping"
   ]
  },
  {
   "cell_type": "code",
   "execution_count": 2,
   "metadata": {
    "vscode": {
     "languageId": "r"
    }
   },
   "outputs": [],
   "source": [
    "daily <- flights |>\n",
    "    group_by(year, month, day)\n"
   ]
  },
  {
   "cell_type": "code",
   "execution_count": 3,
   "metadata": {
    "vscode": {
     "languageId": "r"
    }
   },
   "outputs": [
    {
     "data": {
      "text/html": [
       "<table class=\"dataframe\">\n",
       "<caption>A tibble: 1 × 2</caption>\n",
       "<thead>\n",
       "\t<tr><th scope=col>avg_delay</th><th scope=col>flights</th></tr>\n",
       "\t<tr><th scope=col>&lt;dbl&gt;</th><th scope=col>&lt;int&gt;</th></tr>\n",
       "</thead>\n",
       "<tbody>\n",
       "\t<tr><td>12.63907</td><td>336776</td></tr>\n",
       "</tbody>\n",
       "</table>\n"
      ],
      "text/latex": [
       "A tibble: 1 × 2\n",
       "\\begin{tabular}{ll}\n",
       " avg\\_delay & flights\\\\\n",
       " <dbl> & <int>\\\\\n",
       "\\hline\n",
       "\t 12.63907 & 336776\\\\\n",
       "\\end{tabular}\n"
      ],
      "text/markdown": [
       "\n",
       "A tibble: 1 × 2\n",
       "\n",
       "| avg_delay &lt;dbl&gt; | flights &lt;int&gt; |\n",
       "|---|---|\n",
       "| 12.63907 | 336776 |\n",
       "\n"
      ],
      "text/plain": [
       "  avg_delay flights\n",
       "1 12.63907  336776 "
      ]
     },
     "metadata": {},
     "output_type": "display_data"
    }
   ],
   "source": [
    "daily |>\n",
    "    ungroup() |>\n",
    "    summarize(\n",
    "        avg_delay = mean(dep_delay, na.rm = TRUE),\n",
    "        flights = n()\n",
    "    )\n"
   ]
  },
  {
   "cell_type": "markdown",
   "metadata": {},
   "source": [
    "## Using the `.by` argument\n",
    "\n",
    "`.by` is available for `dplyr` 1.1 and above."
   ]
  },
  {
   "cell_type": "code",
   "execution_count": 5,
   "metadata": {
    "vscode": {
     "languageId": "r"
    }
   },
   "outputs": [
    {
     "data": {
      "text/html": [
       "<table class=\"dataframe\">\n",
       "<caption>A tibble: 12 × 3</caption>\n",
       "<thead>\n",
       "\t<tr><th scope=col>month</th><th scope=col>avg_delay</th><th scope=col>n_flights</th></tr>\n",
       "\t<tr><th scope=col>&lt;int&gt;</th><th scope=col>&lt;dbl&gt;</th><th scope=col>&lt;int&gt;</th></tr>\n",
       "</thead>\n",
       "<tbody>\n",
       "\t<tr><td> 7</td><td>21.727787</td><td>29425</td></tr>\n",
       "\t<tr><td> 6</td><td>20.846332</td><td>28243</td></tr>\n",
       "\t<tr><td>12</td><td>16.576688</td><td>28135</td></tr>\n",
       "\t<tr><td> 4</td><td>13.938038</td><td>28330</td></tr>\n",
       "\t<tr><td> 3</td><td>13.227076</td><td>28834</td></tr>\n",
       "\t<tr><td> 5</td><td>12.986859</td><td>28796</td></tr>\n",
       "\t<tr><td> 8</td><td>12.611040</td><td>29327</td></tr>\n",
       "\t<tr><td> 2</td><td>10.816843</td><td>24951</td></tr>\n",
       "\t<tr><td> 1</td><td>10.036665</td><td>27004</td></tr>\n",
       "\t<tr><td> 9</td><td> 6.722476</td><td>27574</td></tr>\n",
       "\t<tr><td>10</td><td> 6.243988</td><td>28889</td></tr>\n",
       "\t<tr><td>11</td><td> 5.435362</td><td>27268</td></tr>\n",
       "</tbody>\n",
       "</table>\n"
      ],
      "text/latex": [
       "A tibble: 12 × 3\n",
       "\\begin{tabular}{lll}\n",
       " month & avg\\_delay & n\\_flights\\\\\n",
       " <int> & <dbl> & <int>\\\\\n",
       "\\hline\n",
       "\t  7 & 21.727787 & 29425\\\\\n",
       "\t  6 & 20.846332 & 28243\\\\\n",
       "\t 12 & 16.576688 & 28135\\\\\n",
       "\t  4 & 13.938038 & 28330\\\\\n",
       "\t  3 & 13.227076 & 28834\\\\\n",
       "\t  5 & 12.986859 & 28796\\\\\n",
       "\t  8 & 12.611040 & 29327\\\\\n",
       "\t  2 & 10.816843 & 24951\\\\\n",
       "\t  1 & 10.036665 & 27004\\\\\n",
       "\t  9 &  6.722476 & 27574\\\\\n",
       "\t 10 &  6.243988 & 28889\\\\\n",
       "\t 11 &  5.435362 & 27268\\\\\n",
       "\\end{tabular}\n"
      ],
      "text/markdown": [
       "\n",
       "A tibble: 12 × 3\n",
       "\n",
       "| month &lt;int&gt; | avg_delay &lt;dbl&gt; | n_flights &lt;int&gt; |\n",
       "|---|---|---|\n",
       "|  7 | 21.727787 | 29425 |\n",
       "|  6 | 20.846332 | 28243 |\n",
       "| 12 | 16.576688 | 28135 |\n",
       "|  4 | 13.938038 | 28330 |\n",
       "|  3 | 13.227076 | 28834 |\n",
       "|  5 | 12.986859 | 28796 |\n",
       "|  8 | 12.611040 | 29327 |\n",
       "|  2 | 10.816843 | 24951 |\n",
       "|  1 | 10.036665 | 27004 |\n",
       "|  9 |  6.722476 | 27574 |\n",
       "| 10 |  6.243988 | 28889 |\n",
       "| 11 |  5.435362 | 27268 |\n",
       "\n"
      ],
      "text/plain": [
       "   month avg_delay n_flights\n",
       "1   7    21.727787 29425    \n",
       "2   6    20.846332 28243    \n",
       "3  12    16.576688 28135    \n",
       "4   4    13.938038 28330    \n",
       "5   3    13.227076 28834    \n",
       "6   5    12.986859 28796    \n",
       "7   8    12.611040 29327    \n",
       "8   2    10.816843 24951    \n",
       "9   1    10.036665 27004    \n",
       "10  9     6.722476 27574    \n",
       "11 10     6.243988 28889    \n",
       "12 11     5.435362 27268    "
      ]
     },
     "metadata": {},
     "output_type": "display_data"
    }
   ],
   "source": [
    "flights |>\n",
    "    summarize(\n",
    "        avg_delay = mean(dep_delay, na.rm = TRUE),\n",
    "        n_flights = n(),\n",
    "        .by = month\n",
    "    ) |>\n",
    "    arrange(desc(avg_delay))\n"
   ]
  },
  {
   "cell_type": "code",
   "execution_count": 8,
   "metadata": {
    "vscode": {
     "languageId": "r"
    }
   },
   "outputs": [
    {
     "data": {
      "text/html": [
       "<table class=\"dataframe\">\n",
       "<caption>A tibble: 10 × 5</caption>\n",
       "<thead>\n",
       "\t<tr><th scope=col>origin</th><th scope=col>dest</th><th scope=col>month</th><th scope=col>avg_delay</th><th scope=col>n_flights</th></tr>\n",
       "\t<tr><th scope=col>&lt;chr&gt;</th><th scope=col>&lt;chr&gt;</th><th scope=col>&lt;int&gt;</th><th scope=col>&lt;dbl&gt;</th><th scope=col>&lt;int&gt;</th></tr>\n",
       "</thead>\n",
       "<tbody>\n",
       "\t<tr><td>EWR</td><td>CAE</td><td> 7</td><td>81.50000</td><td> 8</td></tr>\n",
       "\t<tr><td>EWR</td><td>TYS</td><td> 7</td><td>81.22222</td><td>27</td></tr>\n",
       "\t<tr><td>EWR</td><td>BZN</td><td>12</td><td>75.00000</td><td> 4</td></tr>\n",
       "\t<tr><td>EWR</td><td>TUL</td><td> 7</td><td>72.61538</td><td>26</td></tr>\n",
       "\t<tr><td>EWR</td><td>DSM</td><td> 3</td><td>71.03846</td><td>26</td></tr>\n",
       "\t<tr><td>EWR</td><td>CAE</td><td>12</td><td>68.25000</td><td> 9</td></tr>\n",
       "\t<tr><td>EWR</td><td>TYS</td><td> 6</td><td>68.24138</td><td>29</td></tr>\n",
       "\t<tr><td>LGA</td><td>SBN</td><td>11</td><td>67.50000</td><td> 2</td></tr>\n",
       "\t<tr><td>EWR</td><td>BWI</td><td> 7</td><td>65.75000</td><td> 4</td></tr>\n",
       "\t<tr><td>LGA</td><td>BHM</td><td> 7</td><td>64.64000</td><td>29</td></tr>\n",
       "</tbody>\n",
       "</table>\n"
      ],
      "text/latex": [
       "A tibble: 10 × 5\n",
       "\\begin{tabular}{lllll}\n",
       " origin & dest & month & avg\\_delay & n\\_flights\\\\\n",
       " <chr> & <chr> & <int> & <dbl> & <int>\\\\\n",
       "\\hline\n",
       "\t EWR & CAE &  7 & 81.50000 &  8\\\\\n",
       "\t EWR & TYS &  7 & 81.22222 & 27\\\\\n",
       "\t EWR & BZN & 12 & 75.00000 &  4\\\\\n",
       "\t EWR & TUL &  7 & 72.61538 & 26\\\\\n",
       "\t EWR & DSM &  3 & 71.03846 & 26\\\\\n",
       "\t EWR & CAE & 12 & 68.25000 &  9\\\\\n",
       "\t EWR & TYS &  6 & 68.24138 & 29\\\\\n",
       "\t LGA & SBN & 11 & 67.50000 &  2\\\\\n",
       "\t EWR & BWI &  7 & 65.75000 &  4\\\\\n",
       "\t LGA & BHM &  7 & 64.64000 & 29\\\\\n",
       "\\end{tabular}\n"
      ],
      "text/markdown": [
       "\n",
       "A tibble: 10 × 5\n",
       "\n",
       "| origin &lt;chr&gt; | dest &lt;chr&gt; | month &lt;int&gt; | avg_delay &lt;dbl&gt; | n_flights &lt;int&gt; |\n",
       "|---|---|---|---|---|\n",
       "| EWR | CAE |  7 | 81.50000 |  8 |\n",
       "| EWR | TYS |  7 | 81.22222 | 27 |\n",
       "| EWR | BZN | 12 | 75.00000 |  4 |\n",
       "| EWR | TUL |  7 | 72.61538 | 26 |\n",
       "| EWR | DSM |  3 | 71.03846 | 26 |\n",
       "| EWR | CAE | 12 | 68.25000 |  9 |\n",
       "| EWR | TYS |  6 | 68.24138 | 29 |\n",
       "| LGA | SBN | 11 | 67.50000 |  2 |\n",
       "| EWR | BWI |  7 | 65.75000 |  4 |\n",
       "| LGA | BHM |  7 | 64.64000 | 29 |\n",
       "\n"
      ],
      "text/plain": [
       "   origin dest month avg_delay n_flights\n",
       "1  EWR    CAE   7    81.50000   8       \n",
       "2  EWR    TYS   7    81.22222  27       \n",
       "3  EWR    BZN  12    75.00000   4       \n",
       "4  EWR    TUL   7    72.61538  26       \n",
       "5  EWR    DSM   3    71.03846  26       \n",
       "6  EWR    CAE  12    68.25000   9       \n",
       "7  EWR    TYS   6    68.24138  29       \n",
       "8  LGA    SBN  11    67.50000   2       \n",
       "9  EWR    BWI   7    65.75000   4       \n",
       "10 LGA    BHM   7    64.64000  29       "
      ]
     },
     "metadata": {},
     "output_type": "display_data"
    }
   ],
   "source": [
    "flights |>\n",
    "    summarize(\n",
    "        avg_delay = mean(dep_delay, na.rm = TRUE),\n",
    "        n_flights = n(),\n",
    "        .by = c(origin, dest, month)\n",
    "    ) |>\n",
    "    arrange(desc(avg_delay)) |>\n",
    "    head(10)\n"
   ]
  },
  {
   "cell_type": "markdown",
   "metadata": {},
   "source": [
    "Notice how you don't have to run `ungroup()` or pass the `.groups` argument to get rid of the grouping later."
   ]
  },
  {
   "cell_type": "markdown",
   "metadata": {},
   "source": [
    "## 3.5.7 Exercises"
   ]
  },
  {
   "cell_type": "markdown",
   "metadata": {
    "vscode": {
     "languageId": "r"
    }
   },
   "source": [
    "### 3.5.7.1\n",
    "\n",
    "Which carrier has the worst average delays? Challenge: can you disentangle the effects of bad airports vs. bad carriers? Why/why not? (Hint: think about `flights |> group_by(carrier, dest) |> summarize(n())`)"
   ]
  },
  {
   "cell_type": "code",
   "execution_count": 21,
   "metadata": {
    "vscode": {
     "languageId": "r"
    }
   },
   "outputs": [
    {
     "data": {
      "text/html": [
       "<table class=\"dataframe\">\n",
       "<caption>A tibble: 16 × 2</caption>\n",
       "<thead>\n",
       "\t<tr><th scope=col>carrier</th><th scope=col>avg_delay</th></tr>\n",
       "\t<tr><th scope=col>&lt;chr&gt;</th><th scope=col>&lt;dbl&gt;</th></tr>\n",
       "</thead>\n",
       "<tbody>\n",
       "\t<tr><td>F9</td><td>20.215543</td></tr>\n",
       "\t<tr><td>EV</td><td>19.955390</td></tr>\n",
       "\t<tr><td>YV</td><td>18.996330</td></tr>\n",
       "\t<tr><td>FL</td><td>18.726075</td></tr>\n",
       "\t<tr><td>WN</td><td>17.711744</td></tr>\n",
       "\t<tr><td>9E</td><td>16.725769</td></tr>\n",
       "\t<tr><td>B6</td><td>13.022522</td></tr>\n",
       "\t<tr><td>VX</td><td>12.869421</td></tr>\n",
       "\t<tr><td>OO</td><td>12.586207</td></tr>\n",
       "\t<tr><td>UA</td><td>12.106073</td></tr>\n",
       "\t<tr><td>MQ</td><td>10.552041</td></tr>\n",
       "\t<tr><td>DL</td><td> 9.264505</td></tr>\n",
       "\t<tr><td>AA</td><td> 8.586016</td></tr>\n",
       "\t<tr><td>AS</td><td> 5.804775</td></tr>\n",
       "\t<tr><td>HA</td><td> 4.900585</td></tr>\n",
       "\t<tr><td>US</td><td> 3.782418</td></tr>\n",
       "</tbody>\n",
       "</table>\n"
      ],
      "text/latex": [
       "A tibble: 16 × 2\n",
       "\\begin{tabular}{ll}\n",
       " carrier & avg\\_delay\\\\\n",
       " <chr> & <dbl>\\\\\n",
       "\\hline\n",
       "\t F9 & 20.215543\\\\\n",
       "\t EV & 19.955390\\\\\n",
       "\t YV & 18.996330\\\\\n",
       "\t FL & 18.726075\\\\\n",
       "\t WN & 17.711744\\\\\n",
       "\t 9E & 16.725769\\\\\n",
       "\t B6 & 13.022522\\\\\n",
       "\t VX & 12.869421\\\\\n",
       "\t OO & 12.586207\\\\\n",
       "\t UA & 12.106073\\\\\n",
       "\t MQ & 10.552041\\\\\n",
       "\t DL &  9.264505\\\\\n",
       "\t AA &  8.586016\\\\\n",
       "\t AS &  5.804775\\\\\n",
       "\t HA &  4.900585\\\\\n",
       "\t US &  3.782418\\\\\n",
       "\\end{tabular}\n"
      ],
      "text/markdown": [
       "\n",
       "A tibble: 16 × 2\n",
       "\n",
       "| carrier &lt;chr&gt; | avg_delay &lt;dbl&gt; |\n",
       "|---|---|\n",
       "| F9 | 20.215543 |\n",
       "| EV | 19.955390 |\n",
       "| YV | 18.996330 |\n",
       "| FL | 18.726075 |\n",
       "| WN | 17.711744 |\n",
       "| 9E | 16.725769 |\n",
       "| B6 | 13.022522 |\n",
       "| VX | 12.869421 |\n",
       "| OO | 12.586207 |\n",
       "| UA | 12.106073 |\n",
       "| MQ | 10.552041 |\n",
       "| DL |  9.264505 |\n",
       "| AA |  8.586016 |\n",
       "| AS |  5.804775 |\n",
       "| HA |  4.900585 |\n",
       "| US |  3.782418 |\n",
       "\n"
      ],
      "text/plain": [
       "   carrier avg_delay\n",
       "1  F9      20.215543\n",
       "2  EV      19.955390\n",
       "3  YV      18.996330\n",
       "4  FL      18.726075\n",
       "5  WN      17.711744\n",
       "6  9E      16.725769\n",
       "7  B6      13.022522\n",
       "8  VX      12.869421\n",
       "9  OO      12.586207\n",
       "10 UA      12.106073\n",
       "11 MQ      10.552041\n",
       "12 DL       9.264505\n",
       "13 AA       8.586016\n",
       "14 AS       5.804775\n",
       "15 HA       4.900585\n",
       "16 US       3.782418"
      ]
     },
     "metadata": {},
     "output_type": "display_data"
    }
   ],
   "source": [
    "avg_delay_by_carrier <- flights |>\n",
    "    summarise(\n",
    "        avg_delay = mean(dep_delay, na.rm = TRUE),\n",
    "        .by = carrier\n",
    "    ) |>\n",
    "    arrange(desc(avg_delay))\n",
    "\n",
    "avg_delay_by_carrier\n"
   ]
  },
  {
   "cell_type": "code",
   "execution_count": 22,
   "metadata": {
    "vscode": {
     "languageId": "r"
    }
   },
   "outputs": [
    {
     "name": "stdout",
     "output_type": "stream",
     "text": [
      "Rows: 105\n",
      "Columns: 2\n",
      "$ dest      \u001b[3m\u001b[90m<chr>\u001b[39m\u001b[23m \"CAE\", \"TUL\", \"OKC\", \"BHM\", \"TYS\", \"JAC\", \"DSM\", \"RIC\", \"ALB…\n",
      "$ avg_delay \u001b[3m\u001b[90m<dbl>\u001b[39m\u001b[23m 35.57009, 34.90635, 30.56881, 29.69485, 28.49396, 26.54545, …\n"
     ]
    }
   ],
   "source": [
    "avg_delay_by_airport <- flights |>\n",
    "    summarise(\n",
    "        avg_delay = mean(dep_delay, na.rm = TRUE),\n",
    "        .by = dest\n",
    "    ) |>\n",
    "    arrange(desc(avg_delay))\n",
    "\n",
    "avg_delay_by_airport |> glimpse()\n"
   ]
  },
  {
   "cell_type": "code",
   "execution_count": 27,
   "metadata": {
    "vscode": {
     "languageId": "r"
    }
   },
   "outputs": [
    {
     "data": {
      "text/html": [
       "<table class=\"dataframe\">\n",
       "<caption>A tibble: 10 × 6</caption>\n",
       "<thead>\n",
       "\t<tr><th scope=col>carrier</th><th scope=col>dest</th><th scope=col>avg_delay_per_carrier</th><th scope=col>n_flights</th><th scope=col>avg_delay_per_airport</th><th scope=col>avg_delay</th></tr>\n",
       "\t<tr><th scope=col>&lt;chr&gt;</th><th scope=col>&lt;chr&gt;</th><th scope=col>&lt;dbl&gt;</th><th scope=col>&lt;int&gt;</th><th scope=col>&lt;dbl&gt;</th><th scope=col>&lt;dbl&gt;</th></tr>\n",
       "</thead>\n",
       "<tbody>\n",
       "\t<tr><td>EV</td><td>CAE</td><td>36.701923</td><td>113</td><td>19.955390</td><td>35.57009</td></tr>\n",
       "\t<tr><td>9E</td><td>CAE</td><td>-3.666667</td><td>  3</td><td>16.725769</td><td>35.57009</td></tr>\n",
       "\t<tr><td>EV</td><td>TUL</td><td>34.906355</td><td>315</td><td>19.955390</td><td>34.90635</td></tr>\n",
       "\t<tr><td>EV</td><td>OKC</td><td>30.568807</td><td>346</td><td>19.955390</td><td>30.56881</td></tr>\n",
       "\t<tr><td>EV</td><td>BHM</td><td>29.694853</td><td>297</td><td>19.955390</td><td>29.69485</td></tr>\n",
       "\t<tr><td>EV</td><td>TYS</td><td>41.818471</td><td>323</td><td>19.955390</td><td>28.49396</td></tr>\n",
       "\t<tr><td>9E</td><td>TYS</td><td>12.705660</td><td>308</td><td>16.725769</td><td>28.49396</td></tr>\n",
       "\t<tr><td>UA</td><td>JAC</td><td>28.700000</td><td> 23</td><td>12.106073</td><td>26.54545</td></tr>\n",
       "\t<tr><td>DL</td><td>JAC</td><td> 5.000000</td><td>  2</td><td> 9.264505</td><td>26.54545</td></tr>\n",
       "\t<tr><td>EV</td><td>DSM</td><td>28.828829</td><td>478</td><td>19.955390</td><td>26.23295</td></tr>\n",
       "</tbody>\n",
       "</table>\n"
      ],
      "text/latex": [
       "A tibble: 10 × 6\n",
       "\\begin{tabular}{llllll}\n",
       " carrier & dest & avg\\_delay\\_per\\_carrier & n\\_flights & avg\\_delay\\_per\\_airport & avg\\_delay\\\\\n",
       " <chr> & <chr> & <dbl> & <int> & <dbl> & <dbl>\\\\\n",
       "\\hline\n",
       "\t EV & CAE & 36.701923 & 113 & 19.955390 & 35.57009\\\\\n",
       "\t 9E & CAE & -3.666667 &   3 & 16.725769 & 35.57009\\\\\n",
       "\t EV & TUL & 34.906355 & 315 & 19.955390 & 34.90635\\\\\n",
       "\t EV & OKC & 30.568807 & 346 & 19.955390 & 30.56881\\\\\n",
       "\t EV & BHM & 29.694853 & 297 & 19.955390 & 29.69485\\\\\n",
       "\t EV & TYS & 41.818471 & 323 & 19.955390 & 28.49396\\\\\n",
       "\t 9E & TYS & 12.705660 & 308 & 16.725769 & 28.49396\\\\\n",
       "\t UA & JAC & 28.700000 &  23 & 12.106073 & 26.54545\\\\\n",
       "\t DL & JAC &  5.000000 &   2 &  9.264505 & 26.54545\\\\\n",
       "\t EV & DSM & 28.828829 & 478 & 19.955390 & 26.23295\\\\\n",
       "\\end{tabular}\n"
      ],
      "text/markdown": [
       "\n",
       "A tibble: 10 × 6\n",
       "\n",
       "| carrier &lt;chr&gt; | dest &lt;chr&gt; | avg_delay_per_carrier &lt;dbl&gt; | n_flights &lt;int&gt; | avg_delay_per_airport &lt;dbl&gt; | avg_delay &lt;dbl&gt; |\n",
       "|---|---|---|---|---|---|\n",
       "| EV | CAE | 36.701923 | 113 | 19.955390 | 35.57009 |\n",
       "| 9E | CAE | -3.666667 |   3 | 16.725769 | 35.57009 |\n",
       "| EV | TUL | 34.906355 | 315 | 19.955390 | 34.90635 |\n",
       "| EV | OKC | 30.568807 | 346 | 19.955390 | 30.56881 |\n",
       "| EV | BHM | 29.694853 | 297 | 19.955390 | 29.69485 |\n",
       "| EV | TYS | 41.818471 | 323 | 19.955390 | 28.49396 |\n",
       "| 9E | TYS | 12.705660 | 308 | 16.725769 | 28.49396 |\n",
       "| UA | JAC | 28.700000 |  23 | 12.106073 | 26.54545 |\n",
       "| DL | JAC |  5.000000 |   2 |  9.264505 | 26.54545 |\n",
       "| EV | DSM | 28.828829 | 478 | 19.955390 | 26.23295 |\n",
       "\n"
      ],
      "text/plain": [
       "   carrier dest avg_delay_per_carrier n_flights avg_delay_per_airport avg_delay\n",
       "1  EV      CAE  36.701923             113       19.955390             35.57009 \n",
       "2  9E      CAE  -3.666667               3       16.725769             35.57009 \n",
       "3  EV      TUL  34.906355             315       19.955390             34.90635 \n",
       "4  EV      OKC  30.568807             346       19.955390             30.56881 \n",
       "5  EV      BHM  29.694853             297       19.955390             29.69485 \n",
       "6  EV      TYS  41.818471             323       19.955390             28.49396 \n",
       "7  9E      TYS  12.705660             308       16.725769             28.49396 \n",
       "8  UA      JAC  28.700000              23       12.106073             26.54545 \n",
       "9  DL      JAC   5.000000               2        9.264505             26.54545 \n",
       "10 EV      DSM  28.828829             478       19.955390             26.23295 "
      ]
     },
     "metadata": {},
     "output_type": "display_data"
    }
   ],
   "source": [
    "flights |>\n",
    "    summarise(\n",
    "        avg_delay =  mean(dep_delay, na.rm = TRUE),\n",
    "        n_flights = n(),\n",
    "        .by = c(carrier, dest)\n",
    "    ) |>\n",
    "    left_join(avg_delay_by_carrier, by = \"carrier\") |>\n",
    "    rename(avg_delay_per_carrier = avg_delay.x) |>\n",
    "    left_join(avg_delay_by_airport, by = \"dest\") |>\n",
    "    rename(avg_delay_per_airport = avg_delay.y) |>\n",
    "    arrange(desc(avg_delay)) |>\n",
    "    head(10)"
   ]
  },
  {
   "cell_type": "markdown",
   "metadata": {},
   "source": [
    "### 3.5.7.2\n",
    "\n",
    "Find the flights that are most delayed upon departure from each destination."
   ]
  },
  {
   "cell_type": "code",
   "execution_count": 37,
   "metadata": {
    "vscode": {
     "languageId": "r"
    }
   },
   "outputs": [
    {
     "data": {
      "text/html": [
       "<table class=\"dataframe\">\n",
       "<caption>A tibble: 10 × 3</caption>\n",
       "<thead>\n",
       "\t<tr><th scope=col>dest</th><th scope=col>flight</th><th scope=col>avg_delay</th></tr>\n",
       "\t<tr><th scope=col>&lt;chr&gt;</th><th scope=col>&lt;int&gt;</th><th scope=col>&lt;dbl&gt;</th></tr>\n",
       "</thead>\n",
       "<tbody>\n",
       "\t<tr><td>CLE</td><td> 372</td><td>483</td></tr>\n",
       "\t<tr><td>DEN</td><td> 488</td><td>379</td></tr>\n",
       "\t<tr><td>DTW</td><td>5017</td><td>372</td></tr>\n",
       "\t<tr><td>BNA</td><td> 521</td><td>346</td></tr>\n",
       "\t<tr><td>MCO</td><td> 468</td><td>334</td></tr>\n",
       "\t<tr><td>SLC</td><td> 809</td><td>298</td></tr>\n",
       "\t<tr><td>IAH</td><td>1510</td><td>278</td></tr>\n",
       "\t<tr><td>GSO</td><td>5478</td><td>242</td></tr>\n",
       "\t<tr><td>PDX</td><td> 593</td><td>239</td></tr>\n",
       "\t<tr><td>ORD</td><td>1107</td><td>224</td></tr>\n",
       "</tbody>\n",
       "</table>\n"
      ],
      "text/latex": [
       "A tibble: 10 × 3\n",
       "\\begin{tabular}{lll}\n",
       " dest & flight & avg\\_delay\\\\\n",
       " <chr> & <int> & <dbl>\\\\\n",
       "\\hline\n",
       "\t CLE &  372 & 483\\\\\n",
       "\t DEN &  488 & 379\\\\\n",
       "\t DTW & 5017 & 372\\\\\n",
       "\t BNA &  521 & 346\\\\\n",
       "\t MCO &  468 & 334\\\\\n",
       "\t SLC &  809 & 298\\\\\n",
       "\t IAH & 1510 & 278\\\\\n",
       "\t GSO & 5478 & 242\\\\\n",
       "\t PDX &  593 & 239\\\\\n",
       "\t ORD & 1107 & 224\\\\\n",
       "\\end{tabular}\n"
      ],
      "text/markdown": [
       "\n",
       "A tibble: 10 × 3\n",
       "\n",
       "| dest &lt;chr&gt; | flight &lt;int&gt; | avg_delay &lt;dbl&gt; |\n",
       "|---|---|---|\n",
       "| CLE |  372 | 483 |\n",
       "| DEN |  488 | 379 |\n",
       "| DTW | 5017 | 372 |\n",
       "| BNA |  521 | 346 |\n",
       "| MCO |  468 | 334 |\n",
       "| SLC |  809 | 298 |\n",
       "| IAH | 1510 | 278 |\n",
       "| GSO | 5478 | 242 |\n",
       "| PDX |  593 | 239 |\n",
       "| ORD | 1107 | 224 |\n",
       "\n"
      ],
      "text/plain": [
       "   dest flight avg_delay\n",
       "1  CLE   372   483      \n",
       "2  DEN   488   379      \n",
       "3  DTW  5017   372      \n",
       "4  BNA   521   346      \n",
       "5  MCO   468   334      \n",
       "6  SLC   809   298      \n",
       "7  IAH  1510   278      \n",
       "8  GSO  5478   242      \n",
       "9  PDX   593   239      \n",
       "10 ORD  1107   224      "
      ]
     },
     "metadata": {},
     "output_type": "display_data"
    }
   ],
   "source": [
    "flights |>\n",
    "    summarise(\n",
    "        avg_delay = mean(dep_delay, na.rm = TRUE),\n",
    "        .by = c(dest, flight)\n",
    "    ) |>\n",
    "    arrange(desc(avg_delay)) |>\n",
    "    distinct(dest, .keep_all = TRUE) |>\n",
    "    head(10)\n"
   ]
  },
  {
   "cell_type": "markdown",
   "metadata": {},
   "source": [
    "### 3.5.7.3\n",
    "\n",
    "How do delays vary over the course of the day? Illustrate your answer with a plot."
   ]
  },
  {
   "cell_type": "code",
   "execution_count": 38,
   "metadata": {
    "vscode": {
     "languageId": "r"
    }
   },
   "outputs": [
    {
     "data": {
      "text/html": [
       "<table class=\"dataframe\">\n",
       "<caption>A tibble: 10 × 19</caption>\n",
       "<thead>\n",
       "\t<tr><th scope=col>year</th><th scope=col>month</th><th scope=col>day</th><th scope=col>dep_time</th><th scope=col>sched_dep_time</th><th scope=col>dep_delay</th><th scope=col>arr_time</th><th scope=col>sched_arr_time</th><th scope=col>arr_delay</th><th scope=col>carrier</th><th scope=col>flight</th><th scope=col>tailnum</th><th scope=col>origin</th><th scope=col>dest</th><th scope=col>air_time</th><th scope=col>distance</th><th scope=col>hour</th><th scope=col>minute</th><th scope=col>time_hour</th></tr>\n",
       "\t<tr><th scope=col>&lt;int&gt;</th><th scope=col>&lt;int&gt;</th><th scope=col>&lt;int&gt;</th><th scope=col>&lt;int&gt;</th><th scope=col>&lt;int&gt;</th><th scope=col>&lt;dbl&gt;</th><th scope=col>&lt;int&gt;</th><th scope=col>&lt;int&gt;</th><th scope=col>&lt;dbl&gt;</th><th scope=col>&lt;chr&gt;</th><th scope=col>&lt;int&gt;</th><th scope=col>&lt;chr&gt;</th><th scope=col>&lt;chr&gt;</th><th scope=col>&lt;chr&gt;</th><th scope=col>&lt;dbl&gt;</th><th scope=col>&lt;dbl&gt;</th><th scope=col>&lt;dbl&gt;</th><th scope=col>&lt;dbl&gt;</th><th scope=col>&lt;dttm&gt;</th></tr>\n",
       "</thead>\n",
       "<tbody>\n",
       "\t<tr><td>2013</td><td>1</td><td>1</td><td>517</td><td>515</td><td> 2</td><td> 830</td><td> 819</td><td> 11</td><td>UA</td><td>1545</td><td>N14228</td><td>EWR</td><td>IAH</td><td>227</td><td>1400</td><td>5</td><td>15</td><td>2013-01-01 05:00:00</td></tr>\n",
       "\t<tr><td>2013</td><td>1</td><td>1</td><td>533</td><td>529</td><td> 4</td><td> 850</td><td> 830</td><td> 20</td><td>UA</td><td>1714</td><td>N24211</td><td>LGA</td><td>IAH</td><td>227</td><td>1416</td><td>5</td><td>29</td><td>2013-01-01 05:00:00</td></tr>\n",
       "\t<tr><td>2013</td><td>1</td><td>1</td><td>542</td><td>540</td><td> 2</td><td> 923</td><td> 850</td><td> 33</td><td>AA</td><td>1141</td><td>N619AA</td><td>JFK</td><td>MIA</td><td>160</td><td>1089</td><td>5</td><td>40</td><td>2013-01-01 05:00:00</td></tr>\n",
       "\t<tr><td>2013</td><td>1</td><td>1</td><td>544</td><td>545</td><td>-1</td><td>1004</td><td>1022</td><td>-18</td><td>B6</td><td> 725</td><td>N804JB</td><td>JFK</td><td>BQN</td><td>183</td><td>1576</td><td>5</td><td>45</td><td>2013-01-01 05:00:00</td></tr>\n",
       "\t<tr><td>2013</td><td>1</td><td>1</td><td>554</td><td>600</td><td>-6</td><td> 812</td><td> 837</td><td>-25</td><td>DL</td><td> 461</td><td>N668DN</td><td>LGA</td><td>ATL</td><td>116</td><td> 762</td><td>6</td><td> 0</td><td>2013-01-01 06:00:00</td></tr>\n",
       "\t<tr><td>2013</td><td>1</td><td>1</td><td>554</td><td>558</td><td>-4</td><td> 740</td><td> 728</td><td> 12</td><td>UA</td><td>1696</td><td>N39463</td><td>EWR</td><td>ORD</td><td>150</td><td> 719</td><td>5</td><td>58</td><td>2013-01-01 05:00:00</td></tr>\n",
       "\t<tr><td>2013</td><td>1</td><td>1</td><td>555</td><td>600</td><td>-5</td><td> 913</td><td> 854</td><td> 19</td><td>B6</td><td> 507</td><td>N516JB</td><td>EWR</td><td>FLL</td><td>158</td><td>1065</td><td>6</td><td> 0</td><td>2013-01-01 06:00:00</td></tr>\n",
       "\t<tr><td>2013</td><td>1</td><td>1</td><td>557</td><td>600</td><td>-3</td><td> 709</td><td> 723</td><td>-14</td><td>EV</td><td>5708</td><td>N829AS</td><td>LGA</td><td>IAD</td><td> 53</td><td> 229</td><td>6</td><td> 0</td><td>2013-01-01 06:00:00</td></tr>\n",
       "\t<tr><td>2013</td><td>1</td><td>1</td><td>557</td><td>600</td><td>-3</td><td> 838</td><td> 846</td><td> -8</td><td>B6</td><td>  79</td><td>N593JB</td><td>JFK</td><td>MCO</td><td>140</td><td> 944</td><td>6</td><td> 0</td><td>2013-01-01 06:00:00</td></tr>\n",
       "\t<tr><td>2013</td><td>1</td><td>1</td><td>558</td><td>600</td><td>-2</td><td> 753</td><td> 745</td><td>  8</td><td>AA</td><td> 301</td><td>N3ALAA</td><td>LGA</td><td>ORD</td><td>138</td><td> 733</td><td>6</td><td> 0</td><td>2013-01-01 06:00:00</td></tr>\n",
       "</tbody>\n",
       "</table>\n"
      ],
      "text/latex": [
       "A tibble: 10 × 19\n",
       "\\begin{tabular}{lllllllllllllllllll}\n",
       " year & month & day & dep\\_time & sched\\_dep\\_time & dep\\_delay & arr\\_time & sched\\_arr\\_time & arr\\_delay & carrier & flight & tailnum & origin & dest & air\\_time & distance & hour & minute & time\\_hour\\\\\n",
       " <int> & <int> & <int> & <int> & <int> & <dbl> & <int> & <int> & <dbl> & <chr> & <int> & <chr> & <chr> & <chr> & <dbl> & <dbl> & <dbl> & <dbl> & <dttm>\\\\\n",
       "\\hline\n",
       "\t 2013 & 1 & 1 & 517 & 515 &  2 &  830 &  819 &  11 & UA & 1545 & N14228 & EWR & IAH & 227 & 1400 & 5 & 15 & 2013-01-01 05:00:00\\\\\n",
       "\t 2013 & 1 & 1 & 533 & 529 &  4 &  850 &  830 &  20 & UA & 1714 & N24211 & LGA & IAH & 227 & 1416 & 5 & 29 & 2013-01-01 05:00:00\\\\\n",
       "\t 2013 & 1 & 1 & 542 & 540 &  2 &  923 &  850 &  33 & AA & 1141 & N619AA & JFK & MIA & 160 & 1089 & 5 & 40 & 2013-01-01 05:00:00\\\\\n",
       "\t 2013 & 1 & 1 & 544 & 545 & -1 & 1004 & 1022 & -18 & B6 &  725 & N804JB & JFK & BQN & 183 & 1576 & 5 & 45 & 2013-01-01 05:00:00\\\\\n",
       "\t 2013 & 1 & 1 & 554 & 600 & -6 &  812 &  837 & -25 & DL &  461 & N668DN & LGA & ATL & 116 &  762 & 6 &  0 & 2013-01-01 06:00:00\\\\\n",
       "\t 2013 & 1 & 1 & 554 & 558 & -4 &  740 &  728 &  12 & UA & 1696 & N39463 & EWR & ORD & 150 &  719 & 5 & 58 & 2013-01-01 05:00:00\\\\\n",
       "\t 2013 & 1 & 1 & 555 & 600 & -5 &  913 &  854 &  19 & B6 &  507 & N516JB & EWR & FLL & 158 & 1065 & 6 &  0 & 2013-01-01 06:00:00\\\\\n",
       "\t 2013 & 1 & 1 & 557 & 600 & -3 &  709 &  723 & -14 & EV & 5708 & N829AS & LGA & IAD &  53 &  229 & 6 &  0 & 2013-01-01 06:00:00\\\\\n",
       "\t 2013 & 1 & 1 & 557 & 600 & -3 &  838 &  846 &  -8 & B6 &   79 & N593JB & JFK & MCO & 140 &  944 & 6 &  0 & 2013-01-01 06:00:00\\\\\n",
       "\t 2013 & 1 & 1 & 558 & 600 & -2 &  753 &  745 &   8 & AA &  301 & N3ALAA & LGA & ORD & 138 &  733 & 6 &  0 & 2013-01-01 06:00:00\\\\\n",
       "\\end{tabular}\n"
      ],
      "text/markdown": [
       "\n",
       "A tibble: 10 × 19\n",
       "\n",
       "| year &lt;int&gt; | month &lt;int&gt; | day &lt;int&gt; | dep_time &lt;int&gt; | sched_dep_time &lt;int&gt; | dep_delay &lt;dbl&gt; | arr_time &lt;int&gt; | sched_arr_time &lt;int&gt; | arr_delay &lt;dbl&gt; | carrier &lt;chr&gt; | flight &lt;int&gt; | tailnum &lt;chr&gt; | origin &lt;chr&gt; | dest &lt;chr&gt; | air_time &lt;dbl&gt; | distance &lt;dbl&gt; | hour &lt;dbl&gt; | minute &lt;dbl&gt; | time_hour &lt;dttm&gt; |\n",
       "|---|---|---|---|---|---|---|---|---|---|---|---|---|---|---|---|---|---|---|\n",
       "| 2013 | 1 | 1 | 517 | 515 |  2 |  830 |  819 |  11 | UA | 1545 | N14228 | EWR | IAH | 227 | 1400 | 5 | 15 | 2013-01-01 05:00:00 |\n",
       "| 2013 | 1 | 1 | 533 | 529 |  4 |  850 |  830 |  20 | UA | 1714 | N24211 | LGA | IAH | 227 | 1416 | 5 | 29 | 2013-01-01 05:00:00 |\n",
       "| 2013 | 1 | 1 | 542 | 540 |  2 |  923 |  850 |  33 | AA | 1141 | N619AA | JFK | MIA | 160 | 1089 | 5 | 40 | 2013-01-01 05:00:00 |\n",
       "| 2013 | 1 | 1 | 544 | 545 | -1 | 1004 | 1022 | -18 | B6 |  725 | N804JB | JFK | BQN | 183 | 1576 | 5 | 45 | 2013-01-01 05:00:00 |\n",
       "| 2013 | 1 | 1 | 554 | 600 | -6 |  812 |  837 | -25 | DL |  461 | N668DN | LGA | ATL | 116 |  762 | 6 |  0 | 2013-01-01 06:00:00 |\n",
       "| 2013 | 1 | 1 | 554 | 558 | -4 |  740 |  728 |  12 | UA | 1696 | N39463 | EWR | ORD | 150 |  719 | 5 | 58 | 2013-01-01 05:00:00 |\n",
       "| 2013 | 1 | 1 | 555 | 600 | -5 |  913 |  854 |  19 | B6 |  507 | N516JB | EWR | FLL | 158 | 1065 | 6 |  0 | 2013-01-01 06:00:00 |\n",
       "| 2013 | 1 | 1 | 557 | 600 | -3 |  709 |  723 | -14 | EV | 5708 | N829AS | LGA | IAD |  53 |  229 | 6 |  0 | 2013-01-01 06:00:00 |\n",
       "| 2013 | 1 | 1 | 557 | 600 | -3 |  838 |  846 |  -8 | B6 |   79 | N593JB | JFK | MCO | 140 |  944 | 6 |  0 | 2013-01-01 06:00:00 |\n",
       "| 2013 | 1 | 1 | 558 | 600 | -2 |  753 |  745 |   8 | AA |  301 | N3ALAA | LGA | ORD | 138 |  733 | 6 |  0 | 2013-01-01 06:00:00 |\n",
       "\n"
      ],
      "text/plain": [
       "   year month day dep_time sched_dep_time dep_delay arr_time sched_arr_time\n",
       "1  2013 1     1   517      515             2         830      819          \n",
       "2  2013 1     1   533      529             4         850      830          \n",
       "3  2013 1     1   542      540             2         923      850          \n",
       "4  2013 1     1   544      545            -1        1004     1022          \n",
       "5  2013 1     1   554      600            -6         812      837          \n",
       "6  2013 1     1   554      558            -4         740      728          \n",
       "7  2013 1     1   555      600            -5         913      854          \n",
       "8  2013 1     1   557      600            -3         709      723          \n",
       "9  2013 1     1   557      600            -3         838      846          \n",
       "10 2013 1     1   558      600            -2         753      745          \n",
       "   arr_delay carrier flight tailnum origin dest air_time distance hour minute\n",
       "1   11       UA      1545   N14228  EWR    IAH  227      1400     5    15    \n",
       "2   20       UA      1714   N24211  LGA    IAH  227      1416     5    29    \n",
       "3   33       AA      1141   N619AA  JFK    MIA  160      1089     5    40    \n",
       "4  -18       B6       725   N804JB  JFK    BQN  183      1576     5    45    \n",
       "5  -25       DL       461   N668DN  LGA    ATL  116       762     6     0    \n",
       "6   12       UA      1696   N39463  EWR    ORD  150       719     5    58    \n",
       "7   19       B6       507   N516JB  EWR    FLL  158      1065     6     0    \n",
       "8  -14       EV      5708   N829AS  LGA    IAD   53       229     6     0    \n",
       "9   -8       B6        79   N593JB  JFK    MCO  140       944     6     0    \n",
       "10   8       AA       301   N3ALAA  LGA    ORD  138       733     6     0    \n",
       "   time_hour          \n",
       "1  2013-01-01 05:00:00\n",
       "2  2013-01-01 05:00:00\n",
       "3  2013-01-01 05:00:00\n",
       "4  2013-01-01 05:00:00\n",
       "5  2013-01-01 06:00:00\n",
       "6  2013-01-01 05:00:00\n",
       "7  2013-01-01 06:00:00\n",
       "8  2013-01-01 06:00:00\n",
       "9  2013-01-01 06:00:00\n",
       "10 2013-01-01 06:00:00"
      ]
     },
     "metadata": {},
     "output_type": "display_data"
    }
   ],
   "source": [
    "flights |> head(10)"
   ]
  },
  {
   "cell_type": "code",
   "execution_count": 44,
   "metadata": {
    "vscode": {
     "languageId": "r"
    }
   },
   "outputs": [],
   "source": [
    "avg_delay_per_time <- flights |> \n",
    "    summarise(\n",
    "        avg_delay_per_time = mean(dep_delay, na.rm = TRUE),\n",
    "        .by = dep_time\n",
    "    )"
   ]
  },
  {
   "cell_type": "code",
   "execution_count": 45,
   "metadata": {
    "vscode": {
     "languageId": "r"
    }
   },
   "outputs": [
    {
     "name": "stderr",
     "output_type": "stream",
     "text": [
      "Warning message:\n",
      "“\u001b[1m\u001b[22mRemoved 1 row containing missing values or values outside the scale range\n",
      "(`geom_point()`).”\n"
     ]
    },
    {
     "data": {
      "image/png": "[encoded data removed]",
      "text/plain": [
       "plot without title"
      ]
     },
     "metadata": {
      "image/png": {
       "height": 420,
       "width": 420
      }
     },
     "output_type": "display_data"
    }
   ],
   "source": [
    "ggplot(\n",
    "    avg_delay_per_time,\n",
    "    mapping = aes(x = dep_time, y = avg_delay_per_time)\n",
    ") +\n",
    "    geom_point()\n"
   ]
  },
  {
   "cell_type": "markdown",
   "metadata": {},
   "source": [
    "### 3.5.7.4\n",
    "\n",
    "What happens if you supply a negative n to `slice_min()` and friends?"
   ]
  },
  {
   "cell_type": "code",
   "execution_count": 68,
   "metadata": {
    "vscode": {
     "languageId": "r"
    }
   },
   "outputs": [
    {
     "data": {
      "text/html": [
       "<table class=\"dataframe\">\n",
       "<caption>A tibble: 10 × 2</caption>\n",
       "<thead>\n",
       "\t<tr><th scope=col>dest</th><th scope=col>n_flights</th></tr>\n",
       "\t<tr><th scope=col>&lt;chr&gt;</th><th scope=col>&lt;int&gt;</th></tr>\n",
       "</thead>\n",
       "<tbody>\n",
       "\t<tr><td>ORD</td><td>17283</td></tr>\n",
       "\t<tr><td>ATL</td><td>17215</td></tr>\n",
       "\t<tr><td>LAX</td><td>16174</td></tr>\n",
       "\t<tr><td>BOS</td><td>15508</td></tr>\n",
       "\t<tr><td>MCO</td><td>14082</td></tr>\n",
       "\t<tr><td>CLT</td><td>14064</td></tr>\n",
       "\t<tr><td>SFO</td><td>13331</td></tr>\n",
       "\t<tr><td>FLL</td><td>12055</td></tr>\n",
       "\t<tr><td>MIA</td><td>11728</td></tr>\n",
       "\t<tr><td>DCA</td><td> 9705</td></tr>\n",
       "</tbody>\n",
       "</table>\n"
      ],
      "text/latex": [
       "A tibble: 10 × 2\n",
       "\\begin{tabular}{ll}\n",
       " dest & n\\_flights\\\\\n",
       " <chr> & <int>\\\\\n",
       "\\hline\n",
       "\t ORD & 17283\\\\\n",
       "\t ATL & 17215\\\\\n",
       "\t LAX & 16174\\\\\n",
       "\t BOS & 15508\\\\\n",
       "\t MCO & 14082\\\\\n",
       "\t CLT & 14064\\\\\n",
       "\t SFO & 13331\\\\\n",
       "\t FLL & 12055\\\\\n",
       "\t MIA & 11728\\\\\n",
       "\t DCA &  9705\\\\\n",
       "\\end{tabular}\n"
      ],
      "text/markdown": [
       "\n",
       "A tibble: 10 × 2\n",
       "\n",
       "| dest &lt;chr&gt; | n_flights &lt;int&gt; |\n",
       "|---|---|\n",
       "| ORD | 17283 |\n",
       "| ATL | 17215 |\n",
       "| LAX | 16174 |\n",
       "| BOS | 15508 |\n",
       "| MCO | 14082 |\n",
       "| CLT | 14064 |\n",
       "| SFO | 13331 |\n",
       "| FLL | 12055 |\n",
       "| MIA | 11728 |\n",
       "| DCA |  9705 |\n",
       "\n"
      ],
      "text/plain": [
       "   dest n_flights\n",
       "1  ORD  17283    \n",
       "2  ATL  17215    \n",
       "3  LAX  16174    \n",
       "4  BOS  15508    \n",
       "5  MCO  14082    \n",
       "6  CLT  14064    \n",
       "7  SFO  13331    \n",
       "8  FLL  12055    \n",
       "9  MIA  11728    \n",
       "10 DCA   9705    "
      ]
     },
     "metadata": {},
     "output_type": "display_data"
    }
   ],
   "source": [
    "flights |>\n",
    "    group_by(dest) |>\n",
    "    slice_min(dep_delay, n = 1000000, with_ties = FALSE) |>\n",
    "    summarise(n_flights = n()) |>\n",
    "    arrange(desc(n_flights)) |>\n",
    "    head(10)\n"
   ]
  },
  {
   "cell_type": "code",
   "execution_count": 70,
   "metadata": {
    "vscode": {
     "languageId": "r"
    }
   },
   "outputs": [
    {
     "data": {
      "text/html": [
       "<table class=\"dataframe\">\n",
       "<caption>A tibble: 9 × 2</caption>\n",
       "<thead>\n",
       "\t<tr><th scope=col>dest</th><th scope=col>n_flights</th></tr>\n",
       "\t<tr><th scope=col>&lt;chr&gt;</th><th scope=col>&lt;int&gt;</th></tr>\n",
       "</thead>\n",
       "<tbody>\n",
       "\t<tr><td>ORD</td><td>7283</td></tr>\n",
       "\t<tr><td>ATL</td><td>7215</td></tr>\n",
       "\t<tr><td>LAX</td><td>6174</td></tr>\n",
       "\t<tr><td>BOS</td><td>5508</td></tr>\n",
       "\t<tr><td>MCO</td><td>4082</td></tr>\n",
       "\t<tr><td>CLT</td><td>4064</td></tr>\n",
       "\t<tr><td>SFO</td><td>3331</td></tr>\n",
       "\t<tr><td>FLL</td><td>2055</td></tr>\n",
       "\t<tr><td>MIA</td><td>1728</td></tr>\n",
       "</tbody>\n",
       "</table>\n"
      ],
      "text/latex": [
       "A tibble: 9 × 2\n",
       "\\begin{tabular}{ll}\n",
       " dest & n\\_flights\\\\\n",
       " <chr> & <int>\\\\\n",
       "\\hline\n",
       "\t ORD & 7283\\\\\n",
       "\t ATL & 7215\\\\\n",
       "\t LAX & 6174\\\\\n",
       "\t BOS & 5508\\\\\n",
       "\t MCO & 4082\\\\\n",
       "\t CLT & 4064\\\\\n",
       "\t SFO & 3331\\\\\n",
       "\t FLL & 2055\\\\\n",
       "\t MIA & 1728\\\\\n",
       "\\end{tabular}\n"
      ],
      "text/markdown": [
       "\n",
       "A tibble: 9 × 2\n",
       "\n",
       "| dest &lt;chr&gt; | n_flights &lt;int&gt; |\n",
       "|---|---|\n",
       "| ORD | 7283 |\n",
       "| ATL | 7215 |\n",
       "| LAX | 6174 |\n",
       "| BOS | 5508 |\n",
       "| MCO | 4082 |\n",
       "| CLT | 4064 |\n",
       "| SFO | 3331 |\n",
       "| FLL | 2055 |\n",
       "| MIA | 1728 |\n",
       "\n"
      ],
      "text/plain": [
       "  dest n_flights\n",
       "1 ORD  7283     \n",
       "2 ATL  7215     \n",
       "3 LAX  6174     \n",
       "4 BOS  5508     \n",
       "5 MCO  4082     \n",
       "6 CLT  4064     \n",
       "7 SFO  3331     \n",
       "8 FLL  2055     \n",
       "9 MIA  1728     "
      ]
     },
     "metadata": {},
     "output_type": "display_data"
    }
   ],
   "source": [
    "flights |>\n",
    "    group_by(dest) |>\n",
    "    slice_min(dep_delay, n = -10000, with_ties = FALSE) |>\n",
    "    summarise(n_flights = n()) |>\n",
    "    arrange(desc(n_flights)) |>\n",
    "    head(10)\n"
   ]
  },
  {
   "cell_type": "code",
   "execution_count": 60,
   "metadata": {
    "vscode": {
     "languageId": "r"
    }
   },
   "outputs": [
    {
     "name": "stdout",
     "output_type": "stream",
     "text": [
      "slice                  package:dplyr                   R Documentation\n",
      "\n",
      "_\bS_\bu_\bb_\bs_\be_\bt _\br_\bo_\bw_\bs _\bu_\bs_\bi_\bn_\bg _\bt_\bh_\be_\bi_\br _\bp_\bo_\bs_\bi_\bt_\bi_\bo_\bn_\bs\n",
      "\n",
      "_\bD_\be_\bs_\bc_\br_\bi_\bp_\bt_\bi_\bo_\bn:\n",
      "\n",
      "     ‘slice()’ lets you index rows by their (integer) locations. It\n",
      "     allows you to select, remove, and duplicate rows. It is\n",
      "     accompanied by a number of helpers for common use cases:\n",
      "\n",
      "        • ‘slice_head()’ and ‘slice_tail()’ select the first or last\n",
      "          rows.\n",
      "\n",
      "        • ‘slice_sample()’ randomly selects rows.\n",
      "\n",
      "        • ‘slice_min()’ and ‘slice_max()’ select rows with the smallest\n",
      "          or largest values of a variable.\n",
      "\n",
      "     If ‘.data’ is a grouped_df, the operation will be performed on\n",
      "     each group, so that (e.g.) ‘slice_head(df, n = 5)’ will select the\n",
      "     first five rows in each group.\n",
      "\n",
      "_\bU_\bs_\ba_\bg_\be:\n",
      "\n",
      "     slice(.data, ..., .by = NULL, .preserve = FALSE)\n",
      "     \n",
      "     slice_head(.data, ..., n, prop, by = NULL)\n",
      "     \n",
      "     slice_tail(.data, ..., n, prop, by = NULL)\n",
      "     \n",
      "     slice_min(\n",
      "       .data,\n",
      "       order_by,\n",
      "       ...,\n",
      "       n,\n",
      "       prop,\n",
      "       by = NULL,\n",
      "       with_ties = TRUE,\n",
      "       na_rm = FALSE\n",
      "     )\n",
      "     \n",
      "     slice_max(\n",
      "       .data,\n",
      "       order_by,\n",
      "       ...,\n",
      "       n,\n",
      "       prop,\n",
      "       by = NULL,\n",
      "       with_ties = TRUE,\n",
      "       na_rm = FALSE\n",
      "     )\n",
      "     \n",
      "     slice_sample(.data, ..., n, prop, by = NULL, weight_by = NULL, replace = FALSE)\n",
      "     \n",
      "_\bA_\br_\bg_\bu_\bm_\be_\bn_\bt_\bs:\n",
      "\n",
      "   .data: A data frame, data frame extension (e.g. a tibble), or a lazy\n",
      "          data frame (e.g. from dbplyr or dtplyr). See _Methods_,\n",
      "          below, for more details.\n",
      "\n",
      "     ...: For ‘slice()’: <‘data-masking’> Integer row values.\n",
      "\n",
      "          Provide either positive values to keep, or negative values to\n",
      "          drop. The values provided must be either all positive or all\n",
      "          negative. Indices beyond the number of rows in the input are\n",
      "          silently ignored.\n",
      "\n",
      "          For slice_*(), these arguments are passed on to methods.\n",
      "\n",
      " .by, by: *[Experimental]*\n",
      "\n",
      "          <‘tidy-select’> Optionally, a selection of columns to group\n",
      "          by for just this operation, functioning as an alternative to\n",
      "          ‘group_by()’. For details and examples, see ?dplyr_by.\n",
      "\n",
      ".preserve: Relevant when the ‘.data’ input is grouped. If ‘.preserve =\n",
      "          FALSE’ (the default), the grouping structure is recalculated\n",
      "          based on the resulting data, otherwise the grouping is kept\n",
      "          as is.\n",
      "\n",
      " n, prop: Provide either ‘n’, the number of rows, or ‘prop’, the\n",
      "          proportion of rows to select. If neither are supplied, ‘n =\n",
      "          1’ will be used. If ‘n’ is greater than the number of rows in\n",
      "          the group (or ‘prop > 1’), the result will be silently\n",
      "          truncated to the group size. ‘prop’ will be rounded towards\n",
      "          zero to generate an integer number of rows.\n",
      "\n",
      "          A negative value of ‘n’ or ‘prop’ will be subtracted from the\n",
      "          group size. For example, ‘n = -2’ with a group of 5 rows will\n",
      "          select 5 - 2 = 3 rows; ‘prop = -0.25’ with 8 rows will select\n",
      "          8 * (1 - 0.25) = 6 rows.\n",
      "\n",
      "order_by: <‘data-masking’> Variable or function of variables to order\n",
      "          by. To order by multiple variables, wrap them in a data frame\n",
      "          or tibble.\n",
      "\n",
      "with_ties: Should ties be kept together? The default, ‘TRUE’, may\n",
      "          return more rows than you request. Use ‘FALSE’ to ignore\n",
      "          ties, and return the first ‘n’ rows.\n",
      "\n",
      "   na_rm: Should missing values in ‘order_by’ be removed from the\n",
      "          result? If ‘FALSE’, ‘NA’ values are sorted to the end (like\n",
      "          in ‘arrange()’), so they will only be included if there are\n",
      "          insufficient non-missing values to reach ‘n’/‘prop’.\n",
      "\n",
      "weight_by: <‘data-masking’> Sampling weights. This must evaluate to a\n",
      "          vector of non-negative numbers the same length as the input.\n",
      "          Weights are automatically standardised to sum to 1.\n",
      "\n",
      " replace: Should sampling be performed with (‘TRUE’) or without\n",
      "          (‘FALSE’, the default) replacement.\n",
      "\n",
      "_\bD_\be_\bt_\ba_\bi_\bl_\bs:\n",
      "\n",
      "     Slice does not work with relational databases because they have no\n",
      "     intrinsic notion of row order. If you want to perform the\n",
      "     equivalent operation, use ‘filter()’ and ‘row_number()’.\n",
      "\n",
      "_\bV_\ba_\bl_\bu_\be:\n",
      "\n",
      "     An object of the same type as ‘.data’. The output has the\n",
      "     following properties:\n",
      "\n",
      "        • Each row may appear 0, 1, or many times in the output.\n",
      "\n",
      "        • Columns are not modified.\n",
      "\n",
      "        • Groups are not modified.\n",
      "\n",
      "        • Data frame attributes are preserved.\n",
      "\n",
      "_\bM_\be_\bt_\bh_\bo_\bd_\bs:\n",
      "\n",
      "     These function are *generic*s, which means that packages can\n",
      "     provide implementations (methods) for other classes. See the\n",
      "     documentation of individual methods for extra arguments and\n",
      "     differences in behaviour.\n",
      "\n",
      "     Methods available in currently loaded packages:\n",
      "\n",
      "        • ‘slice()’: dplyr (‘data.frame’).\n",
      "\n",
      "        • ‘slice_head()’: dplyr (‘data.frame’).\n",
      "\n",
      "        • ‘slice_tail()’: dplyr (‘data.frame’).\n",
      "\n",
      "        • ‘slice_min()’: dplyr (‘data.frame’).\n",
      "\n",
      "        • ‘slice_max()’: dplyr (‘data.frame’).\n",
      "\n",
      "        • ‘slice_sample()’: dplyr (‘data.frame’).\n",
      "\n",
      "_\bS_\be_\be _\bA_\bl_\bs_\bo:\n",
      "\n",
      "     Other single table verbs: ‘arrange()’, ‘filter()’, ‘mutate()’,\n",
      "     ‘reframe()’, ‘rename()’, ‘select()’, ‘summarise()’\n",
      "\n",
      "_\bE_\bx_\ba_\bm_\bp_\bl_\be_\bs:\n",
      "\n",
      "     # Similar to head(mtcars, 1):\n",
      "     mtcars %>% slice(1L)\n",
      "     # Similar to tail(mtcars, 1):\n",
      "     mtcars %>% slice(n())\n",
      "     mtcars %>% slice(5:n())\n",
      "     # Rows can be dropped with negative indices:\n",
      "     slice(mtcars, -(1:4))\n",
      "     \n",
      "     # First and last rows based on existing order\n",
      "     mtcars %>% slice_head(n = 5)\n",
      "     mtcars %>% slice_tail(n = 5)\n",
      "     \n",
      "     # Rows with minimum and maximum values of a variable\n",
      "     mtcars %>% slice_min(mpg, n = 5)\n",
      "     mtcars %>% slice_max(mpg, n = 5)\n",
      "     \n",
      "     # slice_min() and slice_max() may return more rows than requested\n",
      "     # in the presence of ties.\n",
      "     mtcars %>% slice_min(cyl, n = 1)\n",
      "     # Use with_ties = FALSE to return exactly n matches\n",
      "     mtcars %>% slice_min(cyl, n = 1, with_ties = FALSE)\n",
      "     # Or use additional variables to break the tie:\n",
      "     mtcars %>% slice_min(tibble(cyl, mpg), n = 1)\n",
      "     \n",
      "     # slice_sample() allows you to random select with or without replacement\n",
      "     mtcars %>% slice_sample(n = 5)\n",
      "     mtcars %>% slice_sample(n = 5, replace = TRUE)\n",
      "     \n",
      "     # you can optionally weight by a variable - this code weights by the\n",
      "     # physical weight of the cars, so heavy cars are more likely to get\n",
      "     # selected\n",
      "     mtcars %>% slice_sample(weight_by = wt, n = 5)\n",
      "     \n",
      "     # Group wise operation ----------------------------------------\n",
      "     df <- tibble(\n",
      "       group = rep(c(\"a\", \"b\", \"c\"), c(1, 2, 4)),\n",
      "       x = runif(7)\n",
      "     )\n",
      "     \n",
      "     # All slice helpers operate per group, silently truncating to the group\n",
      "     # size, so the following code works without error\n",
      "     df %>% group_by(group) %>% slice_head(n = 2)\n",
      "     \n",
      "     # When specifying the proportion of rows to include non-integer sizes\n",
      "     # are rounded down, so group a gets 0 rows\n",
      "     df %>% group_by(group) %>% slice_head(prop = 0.5)\n",
      "     \n",
      "     # Filter equivalents --------------------------------------------\n",
      "     # slice() expressions can often be written to use `filter()` and\n",
      "     # `row_number()`, which can also be translated to SQL. For many databases,\n",
      "     # you'll need to supply an explicit variable to use to compute the row number.\n",
      "     filter(mtcars, row_number() == 1L)\n",
      "     filter(mtcars, row_number() == n())\n",
      "     filter(mtcars, between(row_number(), 5, n()))\n",
      "     "
     ]
    }
   ],
   "source": [
    "?slice_min"
   ]
  },
  {
   "cell_type": "markdown",
   "metadata": {},
   "source": [
    "### 3.5.7.5\n",
    "\n",
    "Explain what `count()` does in terms of the dplyr verbs you just learned. What does the sort argument to `count()` do?"
   ]
  },
  {
   "cell_type": "code",
   "execution_count": 3,
   "metadata": {
    "vscode": {
     "languageId": "r"
    }
   },
   "outputs": [
    {
     "name": "stdout",
     "output_type": "stream",
     "text": [
      "count                  package:dplyr                   R Documentation\n",
      "\n",
      "_\bC_\bo_\bu_\bn_\bt _\bt_\bh_\be _\bo_\bb_\bs_\be_\br_\bv_\ba_\bt_\bi_\bo_\bn_\bs _\bi_\bn _\be_\ba_\bc_\bh _\bg_\br_\bo_\bu_\bp\n",
      "\n",
      "_\bD_\be_\bs_\bc_\br_\bi_\bp_\bt_\bi_\bo_\bn:\n",
      "\n",
      "     ‘count()’ lets you quickly count the unique values of one or more\n",
      "     variables: ‘df %>% count(a, b)’ is roughly equivalent to ‘df %>%\n",
      "     group_by(a, b) %>% summarise(n = n())’. ‘count()’ is paired with\n",
      "     ‘tally()’, a lower-level helper that is equivalent to ‘df %>%\n",
      "     summarise(n = n())’. Supply ‘wt’ to perform weighted counts,\n",
      "     switching the summary from ‘n = n()’ to ‘n = sum(wt)’.\n",
      "\n",
      "     ‘add_count()’ and ‘add_tally()’ are equivalents to ‘count()’ and\n",
      "     ‘tally()’ but use ‘mutate()’ instead of ‘summarise()’ so that they\n",
      "     add a new column with group-wise counts.\n",
      "\n",
      "_\bU_\bs_\ba_\bg_\be:\n",
      "\n",
      "     count(x, ..., wt = NULL, sort = FALSE, name = NULL)\n",
      "     \n",
      "     ## S3 method for class 'data.frame'\n",
      "     count(\n",
      "       x,\n",
      "       ...,\n",
      "       wt = NULL,\n",
      "       sort = FALSE,\n",
      "       name = NULL,\n",
      "       .drop = group_by_drop_default(x)\n",
      "     )\n",
      "     \n",
      "     tally(x, wt = NULL, sort = FALSE, name = NULL)\n",
      "     \n",
      "     add_count(x, ..., wt = NULL, sort = FALSE, name = NULL, .drop = deprecated())\n",
      "     \n",
      "     add_tally(x, wt = NULL, sort = FALSE, name = NULL)\n",
      "     \n",
      "_\bA_\br_\bg_\bu_\bm_\be_\bn_\bt_\bs:\n",
      "\n",
      "       x: A data frame, data frame extension (e.g. a tibble), or a lazy\n",
      "          data frame (e.g. from dbplyr or dtplyr).\n",
      "\n",
      "     ...: <‘data-masking’> Variables to group by.\n",
      "\n",
      "      wt: <‘data-masking’> Frequency weights. Can be ‘NULL’ or a\n",
      "          variable:\n",
      "\n",
      "            • If ‘NULL’ (the default), counts the number of rows in\n",
      "              each group.\n",
      "\n",
      "            • If a variable, computes ‘sum(wt)’ for each group.\n",
      "\n",
      "    sort: If ‘TRUE’, will show the largest groups at the top.\n",
      "\n",
      "    name: The name of the new column in the output.\n",
      "\n",
      "          If omitted, it will default to ‘n’. If there's already a\n",
      "          column called ‘n’, it will use ‘nn’. If there's a column\n",
      "          called ‘n’ and ‘nn’, it'll use ‘nnn’, and so on, adding ‘n’s\n",
      "          until it gets a new name.\n",
      "\n",
      "   .drop: Handling of factor levels that don't appear in the data,\n",
      "          passed on to ‘group_by()’.\n",
      "\n",
      "          For ‘count()’: if ‘FALSE’ will include counts for empty\n",
      "          groups (i.e. for levels of factors that don't exist in the\n",
      "          data).\n",
      "\n",
      "          *[Deprecated]* For ‘add_count()’: deprecated since it can't\n",
      "          actually affect the output.\n",
      "\n",
      "_\bV_\ba_\bl_\bu_\be:\n",
      "\n",
      "     An object of the same type as ‘.data’. ‘count()’ and ‘add_count()’\n",
      "     group transiently, so the output has the same groups as the input.\n",
      "\n",
      "_\bE_\bx_\ba_\bm_\bp_\bl_\be_\bs:\n",
      "\n",
      "     # count() is a convenient way to get a sense of the distribution of\n",
      "     # values in a dataset\n",
      "     starwars %>% count(species)\n",
      "     starwars %>% count(species, sort = TRUE)\n",
      "     starwars %>% count(sex, gender, sort = TRUE)\n",
      "     starwars %>% count(birth_decade = round(birth_year, -1))\n",
      "     \n",
      "     # use the `wt` argument to perform a weighted count. This is useful\n",
      "     # when the data has already been aggregated once\n",
      "     df <- tribble(\n",
      "       ~name,    ~gender,   ~runs,\n",
      "       \"Max\",    \"male\",       10,\n",
      "       \"Sandra\", \"female\",      1,\n",
      "       \"Susan\",  \"female\",      4\n",
      "     )\n",
      "     # counts rows:\n",
      "     df %>% count(gender)\n",
      "     # counts runs:\n",
      "     df %>% count(gender, wt = runs)\n",
      "     \n",
      "     # When factors are involved, `.drop = FALSE` can be used to retain factor\n",
      "     # levels that don't appear in the data\n",
      "     df2 <- tibble(\n",
      "       id = 1:5,\n",
      "       type = factor(c(\"a\", \"c\", \"a\", NA, \"a\"), levels = c(\"a\", \"b\", \"c\"))\n",
      "     )\n",
      "     df2 %>% count(type)\n",
      "     df2 %>% count(type, .drop = FALSE)\n",
      "     \n",
      "     # Or, using `group_by()`:\n",
      "     df2 %>% group_by(type, .drop = FALSE) %>% count()\n",
      "     \n",
      "     # tally() is a lower-level function that assumes you've done the grouping\n",
      "     starwars %>% tally()\n",
      "     starwars %>% group_by(species) %>% tally()\n",
      "     \n",
      "     # both count() and tally() have add_ variants that work like\n",
      "     # mutate() instead of summarise\n",
      "     df %>% add_count(gender, wt = runs)\n",
      "     df %>% add_tally(wt = runs)\n",
      "     "
     ]
    }
   ],
   "source": [
    "?count"
   ]
  },
  {
   "cell_type": "code",
   "execution_count": 5,
   "metadata": {
    "vscode": {
     "languageId": "r"
    }
   },
   "outputs": [
    {
     "data": {
      "text/html": [
       "<table class=\"dataframe\">\n",
       "<caption>A tibble: 10 × 3</caption>\n",
       "<thead>\n",
       "\t<tr><th scope=col>origin</th><th scope=col>dest</th><th scope=col>n</th></tr>\n",
       "\t<tr><th scope=col>&lt;chr&gt;</th><th scope=col>&lt;chr&gt;</th><th scope=col>&lt;int&gt;</th></tr>\n",
       "</thead>\n",
       "<tbody>\n",
       "\t<tr><td>JFK</td><td>LAX</td><td>11262</td></tr>\n",
       "\t<tr><td>LGA</td><td>ATL</td><td>10263</td></tr>\n",
       "\t<tr><td>LGA</td><td>ORD</td><td> 8857</td></tr>\n",
       "\t<tr><td>JFK</td><td>SFO</td><td> 8204</td></tr>\n",
       "\t<tr><td>LGA</td><td>CLT</td><td> 6168</td></tr>\n",
       "\t<tr><td>EWR</td><td>ORD</td><td> 6100</td></tr>\n",
       "\t<tr><td>JFK</td><td>BOS</td><td> 5898</td></tr>\n",
       "\t<tr><td>LGA</td><td>MIA</td><td> 5781</td></tr>\n",
       "\t<tr><td>JFK</td><td>MCO</td><td> 5464</td></tr>\n",
       "\t<tr><td>EWR</td><td>BOS</td><td> 5327</td></tr>\n",
       "</tbody>\n",
       "</table>\n"
      ],
      "text/latex": [
       "A tibble: 10 × 3\n",
       "\\begin{tabular}{lll}\n",
       " origin & dest & n\\\\\n",
       " <chr> & <chr> & <int>\\\\\n",
       "\\hline\n",
       "\t JFK & LAX & 11262\\\\\n",
       "\t LGA & ATL & 10263\\\\\n",
       "\t LGA & ORD &  8857\\\\\n",
       "\t JFK & SFO &  8204\\\\\n",
       "\t LGA & CLT &  6168\\\\\n",
       "\t EWR & ORD &  6100\\\\\n",
       "\t JFK & BOS &  5898\\\\\n",
       "\t LGA & MIA &  5781\\\\\n",
       "\t JFK & MCO &  5464\\\\\n",
       "\t EWR & BOS &  5327\\\\\n",
       "\\end{tabular}\n"
      ],
      "text/markdown": [
       "\n",
       "A tibble: 10 × 3\n",
       "\n",
       "| origin &lt;chr&gt; | dest &lt;chr&gt; | n &lt;int&gt; |\n",
       "|---|---|---|\n",
       "| JFK | LAX | 11262 |\n",
       "| LGA | ATL | 10263 |\n",
       "| LGA | ORD |  8857 |\n",
       "| JFK | SFO |  8204 |\n",
       "| LGA | CLT |  6168 |\n",
       "| EWR | ORD |  6100 |\n",
       "| JFK | BOS |  5898 |\n",
       "| LGA | MIA |  5781 |\n",
       "| JFK | MCO |  5464 |\n",
       "| EWR | BOS |  5327 |\n",
       "\n"
      ],
      "text/plain": [
       "   origin dest n    \n",
       "1  JFK    LAX  11262\n",
       "2  LGA    ATL  10263\n",
       "3  LGA    ORD   8857\n",
       "4  JFK    SFO   8204\n",
       "5  LGA    CLT   6168\n",
       "6  EWR    ORD   6100\n",
       "7  JFK    BOS   5898\n",
       "8  LGA    MIA   5781\n",
       "9  JFK    MCO   5464\n",
       "10 EWR    BOS   5327"
      ]
     },
     "metadata": {},
     "output_type": "display_data"
    }
   ],
   "source": [
    "flights |> count(origin, dest, sort = TRUE) |> head(10)"
   ]
  },
  {
   "cell_type": "code",
   "execution_count": 4,
   "metadata": {
    "vscode": {
     "languageId": "r"
    }
   },
   "outputs": [
    {
     "data": {
      "text/html": [
       "<table class=\"dataframe\">\n",
       "<caption>A grouped_df: 10 × 3</caption>\n",
       "<thead>\n",
       "\t<tr><th scope=col>origin</th><th scope=col>dest</th><th scope=col>n_flights</th></tr>\n",
       "\t<tr><th scope=col>&lt;chr&gt;</th><th scope=col>&lt;chr&gt;</th><th scope=col>&lt;int&gt;</th></tr>\n",
       "</thead>\n",
       "<tbody>\n",
       "\t<tr><td>JFK</td><td>LAX</td><td>11262</td></tr>\n",
       "\t<tr><td>LGA</td><td>ATL</td><td>10263</td></tr>\n",
       "\t<tr><td>LGA</td><td>ORD</td><td> 8857</td></tr>\n",
       "\t<tr><td>JFK</td><td>SFO</td><td> 8204</td></tr>\n",
       "\t<tr><td>LGA</td><td>CLT</td><td> 6168</td></tr>\n",
       "\t<tr><td>EWR</td><td>ORD</td><td> 6100</td></tr>\n",
       "\t<tr><td>JFK</td><td>BOS</td><td> 5898</td></tr>\n",
       "\t<tr><td>LGA</td><td>MIA</td><td> 5781</td></tr>\n",
       "\t<tr><td>JFK</td><td>MCO</td><td> 5464</td></tr>\n",
       "\t<tr><td>EWR</td><td>BOS</td><td> 5327</td></tr>\n",
       "</tbody>\n",
       "</table>\n"
      ],
      "text/latex": [
       "A grouped\\_df: 10 × 3\n",
       "\\begin{tabular}{lll}\n",
       " origin & dest & n\\_flights\\\\\n",
       " <chr> & <chr> & <int>\\\\\n",
       "\\hline\n",
       "\t JFK & LAX & 11262\\\\\n",
       "\t LGA & ATL & 10263\\\\\n",
       "\t LGA & ORD &  8857\\\\\n",
       "\t JFK & SFO &  8204\\\\\n",
       "\t LGA & CLT &  6168\\\\\n",
       "\t EWR & ORD &  6100\\\\\n",
       "\t JFK & BOS &  5898\\\\\n",
       "\t LGA & MIA &  5781\\\\\n",
       "\t JFK & MCO &  5464\\\\\n",
       "\t EWR & BOS &  5327\\\\\n",
       "\\end{tabular}\n"
      ],
      "text/markdown": [
       "\n",
       "A grouped_df: 10 × 3\n",
       "\n",
       "| origin &lt;chr&gt; | dest &lt;chr&gt; | n_flights &lt;int&gt; |\n",
       "|---|---|---|\n",
       "| JFK | LAX | 11262 |\n",
       "| LGA | ATL | 10263 |\n",
       "| LGA | ORD |  8857 |\n",
       "| JFK | SFO |  8204 |\n",
       "| LGA | CLT |  6168 |\n",
       "| EWR | ORD |  6100 |\n",
       "| JFK | BOS |  5898 |\n",
       "| LGA | MIA |  5781 |\n",
       "| JFK | MCO |  5464 |\n",
       "| EWR | BOS |  5327 |\n",
       "\n"
      ],
      "text/plain": [
       "   origin dest n_flights\n",
       "1  JFK    LAX  11262    \n",
       "2  LGA    ATL  10263    \n",
       "3  LGA    ORD   8857    \n",
       "4  JFK    SFO   8204    \n",
       "5  LGA    CLT   6168    \n",
       "6  EWR    ORD   6100    \n",
       "7  JFK    BOS   5898    \n",
       "8  LGA    MIA   5781    \n",
       "9  JFK    MCO   5464    \n",
       "10 EWR    BOS   5327    "
      ]
     },
     "metadata": {},
     "output_type": "display_data"
    }
   ],
   "source": [
    "flights |>\n",
    "    group_by(origin, dest) |>\n",
    "    summarise(n_flights = n(), .groups = \"drop_last\") |>\n",
    "    arrange(desc(n_flights)) |>\n",
    "    head(10)\n"
   ]
  },
  {
   "cell_type": "markdown",
   "metadata": {},
   "source": [
    "### 3.5.7.6\n",
    "\n",
    "Suppose we have the following tiny data frame:"
   ]
  },
  {
   "cell_type": "code",
   "execution_count": 5,
   "metadata": {
    "vscode": {
     "languageId": "r"
    }
   },
   "outputs": [],
   "source": [
    "df <- tibble(\n",
    "    x = 1:5,\n",
    "    y = c(\"a\", \"b\", \"a\", \"a\", \"b\"),\n",
    "    z = c(\"K\", \"K\", \"L\", \"L\", \"K\")\n",
    ")"
   ]
  },
  {
   "cell_type": "markdown",
   "metadata": {},
   "source": [
    "#### a. Write down what you think the output will look like, then check if you were correct, and describe what `group_by()` does.\n",
    "\n",
    "Group alone by returns a grouped data.frame or tibble. It looks like the same but all subsequent operations on it will be grouped (sums, averages, counts, &c)."
   ]
  },
  {
   "cell_type": "code",
   "execution_count": 6,
   "metadata": {
    "vscode": {
     "languageId": "r"
    }
   },
   "outputs": [
    {
     "data": {
      "text/html": [
       "<table class=\"dataframe\">\n",
       "<caption>A grouped_df: 5 × 3</caption>\n",
       "<thead>\n",
       "\t<tr><th scope=col>x</th><th scope=col>y</th><th scope=col>z</th></tr>\n",
       "\t<tr><th scope=col>&lt;int&gt;</th><th scope=col>&lt;chr&gt;</th><th scope=col>&lt;chr&gt;</th></tr>\n",
       "</thead>\n",
       "<tbody>\n",
       "\t<tr><td>1</td><td>a</td><td>K</td></tr>\n",
       "\t<tr><td>2</td><td>b</td><td>K</td></tr>\n",
       "\t<tr><td>3</td><td>a</td><td>L</td></tr>\n",
       "\t<tr><td>4</td><td>a</td><td>L</td></tr>\n",
       "\t<tr><td>5</td><td>b</td><td>K</td></tr>\n",
       "</tbody>\n",
       "</table>\n"
      ],
      "text/latex": [
       "A grouped\\_df: 5 × 3\n",
       "\\begin{tabular}{lll}\n",
       " x & y & z\\\\\n",
       " <int> & <chr> & <chr>\\\\\n",
       "\\hline\n",
       "\t 1 & a & K\\\\\n",
       "\t 2 & b & K\\\\\n",
       "\t 3 & a & L\\\\\n",
       "\t 4 & a & L\\\\\n",
       "\t 5 & b & K\\\\\n",
       "\\end{tabular}\n"
      ],
      "text/markdown": [
       "\n",
       "A grouped_df: 5 × 3\n",
       "\n",
       "| x &lt;int&gt; | y &lt;chr&gt; | z &lt;chr&gt; |\n",
       "|---|---|---|\n",
       "| 1 | a | K |\n",
       "| 2 | b | K |\n",
       "| 3 | a | L |\n",
       "| 4 | a | L |\n",
       "| 5 | b | K |\n",
       "\n"
      ],
      "text/plain": [
       "  x y z\n",
       "1 1 a K\n",
       "2 2 b K\n",
       "3 3 a L\n",
       "4 4 a L\n",
       "5 5 b K"
      ]
     },
     "metadata": {},
     "output_type": "display_data"
    }
   ],
   "source": [
    "df |> group_by(y)"
   ]
  },
  {
   "cell_type": "markdown",
   "metadata": {},
   "source": [
    "#### b. Write down what you think the output will look like, then check if you were correct, and describe what `arrange()` does. Also comment on how it’s different from the `group_by()` in part (a).\n",
    "\n",
    "`arrange()` sorts the data in the columns passed to it. Ascending is the default but descending order can be achieved with `desc()`. `arrange()` doesn't return grouped data like `group_by()`."
   ]
  },
  {
   "cell_type": "code",
   "execution_count": 7,
   "metadata": {
    "vscode": {
     "languageId": "r"
    }
   },
   "outputs": [
    {
     "data": {
      "text/html": [
       "<table class=\"dataframe\">\n",
       "<caption>A tibble: 5 × 3</caption>\n",
       "<thead>\n",
       "\t<tr><th scope=col>x</th><th scope=col>y</th><th scope=col>z</th></tr>\n",
       "\t<tr><th scope=col>&lt;int&gt;</th><th scope=col>&lt;chr&gt;</th><th scope=col>&lt;chr&gt;</th></tr>\n",
       "</thead>\n",
       "<tbody>\n",
       "\t<tr><td>1</td><td>a</td><td>K</td></tr>\n",
       "\t<tr><td>3</td><td>a</td><td>L</td></tr>\n",
       "\t<tr><td>4</td><td>a</td><td>L</td></tr>\n",
       "\t<tr><td>2</td><td>b</td><td>K</td></tr>\n",
       "\t<tr><td>5</td><td>b</td><td>K</td></tr>\n",
       "</tbody>\n",
       "</table>\n"
      ],
      "text/latex": [
       "A tibble: 5 × 3\n",
       "\\begin{tabular}{lll}\n",
       " x & y & z\\\\\n",
       " <int> & <chr> & <chr>\\\\\n",
       "\\hline\n",
       "\t 1 & a & K\\\\\n",
       "\t 3 & a & L\\\\\n",
       "\t 4 & a & L\\\\\n",
       "\t 2 & b & K\\\\\n",
       "\t 5 & b & K\\\\\n",
       "\\end{tabular}\n"
      ],
      "text/markdown": [
       "\n",
       "A tibble: 5 × 3\n",
       "\n",
       "| x &lt;int&gt; | y &lt;chr&gt; | z &lt;chr&gt; |\n",
       "|---|---|---|\n",
       "| 1 | a | K |\n",
       "| 3 | a | L |\n",
       "| 4 | a | L |\n",
       "| 2 | b | K |\n",
       "| 5 | b | K |\n",
       "\n"
      ],
      "text/plain": [
       "  x y z\n",
       "1 1 a K\n",
       "2 3 a L\n",
       "3 4 a L\n",
       "4 2 b K\n",
       "5 5 b K"
      ]
     },
     "metadata": {},
     "output_type": "display_data"
    }
   ],
   "source": [
    "df |> arrange(y)"
   ]
  },
  {
   "cell_type": "markdown",
   "metadata": {},
   "source": [
    "#### c. Write down what you think the output will look like, then check if you were correct, and describe what the pipeline does.\n",
    "\n",
    "It will return the average value of `x` for each value of `y`. The pipeline passes the data returned from a previous operation as the first argument to the next function, thus allowing for an arbitrarily complex manipulation flow that would be very hard to read and reason about otherwise."
   ]
  },
  {
   "cell_type": "code",
   "execution_count": 8,
   "metadata": {
    "vscode": {
     "languageId": "r"
    }
   },
   "outputs": [
    {
     "data": {
      "text/html": [
       "<table class=\"dataframe\">\n",
       "<caption>A tibble: 2 × 2</caption>\n",
       "<thead>\n",
       "\t<tr><th scope=col>y</th><th scope=col>mean_x</th></tr>\n",
       "\t<tr><th scope=col>&lt;chr&gt;</th><th scope=col>&lt;dbl&gt;</th></tr>\n",
       "</thead>\n",
       "<tbody>\n",
       "\t<tr><td>a</td><td>2.666667</td></tr>\n",
       "\t<tr><td>b</td><td>3.500000</td></tr>\n",
       "</tbody>\n",
       "</table>\n"
      ],
      "text/latex": [
       "A tibble: 2 × 2\n",
       "\\begin{tabular}{ll}\n",
       " y & mean\\_x\\\\\n",
       " <chr> & <dbl>\\\\\n",
       "\\hline\n",
       "\t a & 2.666667\\\\\n",
       "\t b & 3.500000\\\\\n",
       "\\end{tabular}\n"
      ],
      "text/markdown": [
       "\n",
       "A tibble: 2 × 2\n",
       "\n",
       "| y &lt;chr&gt; | mean_x &lt;dbl&gt; |\n",
       "|---|---|\n",
       "| a | 2.666667 |\n",
       "| b | 3.500000 |\n",
       "\n"
      ],
      "text/plain": [
       "  y mean_x  \n",
       "1 a 2.666667\n",
       "2 b 3.500000"
      ]
     },
     "metadata": {},
     "output_type": "display_data"
    }
   ],
   "source": [
    "df |>\n",
    "    group_by(y) |>\n",
    "    summarize(mean_x = mean(x))\n"
   ]
  },
  {
   "cell_type": "markdown",
   "metadata": {},
   "source": [
    "#### d. Write down what you think the output will look like, then check if you were correct, and describe what the pipeline does. Then, comment on what the message says.\n",
    "\n",
    "It will return the average value of `x` for each distinct pair of `y` and `z`. The warning message is complaining that `summarise()` returns a grouped dataset and not the original one. Knowing this is important because all further operations will be done on the grouped data if the user doesn't remember to ungroup it. Using the `.by` argument could help here."
   ]
  },
  {
   "cell_type": "code",
   "execution_count": 9,
   "metadata": {
    "vscode": {
     "languageId": "r"
    }
   },
   "outputs": [
    {
     "name": "stderr",
     "output_type": "stream",
     "text": [
      "\u001b[1m\u001b[22m`summarise()` has grouped output by 'y'. You can override using the `.groups`\n",
      "argument.\n"
     ]
    },
    {
     "data": {
      "text/html": [
       "<table class=\"dataframe\">\n",
       "<caption>A grouped_df: 3 × 3</caption>\n",
       "<thead>\n",
       "\t<tr><th scope=col>y</th><th scope=col>z</th><th scope=col>mean_x</th></tr>\n",
       "\t<tr><th scope=col>&lt;chr&gt;</th><th scope=col>&lt;chr&gt;</th><th scope=col>&lt;dbl&gt;</th></tr>\n",
       "</thead>\n",
       "<tbody>\n",
       "\t<tr><td>a</td><td>K</td><td>1.0</td></tr>\n",
       "\t<tr><td>a</td><td>L</td><td>3.5</td></tr>\n",
       "\t<tr><td>b</td><td>K</td><td>3.5</td></tr>\n",
       "</tbody>\n",
       "</table>\n"
      ],
      "text/latex": [
       "A grouped\\_df: 3 × 3\n",
       "\\begin{tabular}{lll}\n",
       " y & z & mean\\_x\\\\\n",
       " <chr> & <chr> & <dbl>\\\\\n",
       "\\hline\n",
       "\t a & K & 1.0\\\\\n",
       "\t a & L & 3.5\\\\\n",
       "\t b & K & 3.5\\\\\n",
       "\\end{tabular}\n"
      ],
      "text/markdown": [
       "\n",
       "A grouped_df: 3 × 3\n",
       "\n",
       "| y &lt;chr&gt; | z &lt;chr&gt; | mean_x &lt;dbl&gt; |\n",
       "|---|---|---|\n",
       "| a | K | 1.0 |\n",
       "| a | L | 3.5 |\n",
       "| b | K | 3.5 |\n",
       "\n"
      ],
      "text/plain": [
       "  y z mean_x\n",
       "1 a K 1.0   \n",
       "2 a L 3.5   \n",
       "3 b K 3.5   "
      ]
     },
     "metadata": {},
     "output_type": "display_data"
    }
   ],
   "source": [
    "df |>\n",
    "    group_by(y, z) |>\n",
    "    summarize(mean_x = mean(x))\n"
   ]
  },
  {
   "cell_type": "markdown",
   "metadata": {},
   "source": [
    "## 3.6 Case study: aggregates and sample size\n",
    "\n",
    "Whenever you do any aggregation, it’s always a good idea to include a count (`n()`). That way, you can ensure that you’re not drawing conclusions based on very small amounts of data. We’ll demonstrate this with some baseball data from the Lahman package. Specifically, we will compare what proportion of times a player gets a hit (`H`) vs. the number of times they try to put the ball in play (`AB`):"
   ]
  },
  {
   "cell_type": "code",
   "execution_count": 10,
   "metadata": {
    "vscode": {
     "languageId": "r"
    }
   },
   "outputs": [
    {
     "name": "stderr",
     "output_type": "stream",
     "text": [
      "Updating HTML index of packages in '.Library'\n",
      "\n",
      "Making 'packages.html' ...\n",
      " done\n",
      "\n"
     ]
    }
   ],
   "source": [
    "install.packages(\"Lahman\")\n",
    "library(Lahman)"
   ]
  },
  {
   "cell_type": "code",
   "execution_count": 11,
   "metadata": {
    "vscode": {
     "languageId": "r"
    }
   },
   "outputs": [
    {
     "data": {
      "text/html": [
       "<table class=\"dataframe\">\n",
       "<caption>A tibble: 10 × 3</caption>\n",
       "<thead>\n",
       "\t<tr><th scope=col>playerID</th><th scope=col>performance</th><th scope=col>n</th></tr>\n",
       "\t<tr><th scope=col>&lt;chr&gt;</th><th scope=col>&lt;dbl&gt;</th><th scope=col>&lt;int&gt;</th></tr>\n",
       "</thead>\n",
       "<tbody>\n",
       "\t<tr><td>aardsda01</td><td>0.0000000</td><td>    4</td></tr>\n",
       "\t<tr><td>aaronha01</td><td>0.3049984</td><td>12364</td></tr>\n",
       "\t<tr><td>aaronto01</td><td>0.2288136</td><td>  944</td></tr>\n",
       "\t<tr><td>aasedo01 </td><td>0.0000000</td><td>    5</td></tr>\n",
       "\t<tr><td>abadan01 </td><td>0.0952381</td><td>   21</td></tr>\n",
       "\t<tr><td>abadfe01 </td><td>0.1111111</td><td>    9</td></tr>\n",
       "\t<tr><td>abadijo01</td><td>0.2244898</td><td>   49</td></tr>\n",
       "\t<tr><td>abbated01</td><td>0.2536137</td><td> 3044</td></tr>\n",
       "\t<tr><td>abbeybe01</td><td>0.1688889</td><td>  225</td></tr>\n",
       "\t<tr><td>abbeych01</td><td>0.2807517</td><td> 1756</td></tr>\n",
       "</tbody>\n",
       "</table>\n"
      ],
      "text/latex": [
       "A tibble: 10 × 3\n",
       "\\begin{tabular}{lll}\n",
       " playerID & performance & n\\\\\n",
       " <chr> & <dbl> & <int>\\\\\n",
       "\\hline\n",
       "\t aardsda01 & 0.0000000 &     4\\\\\n",
       "\t aaronha01 & 0.3049984 & 12364\\\\\n",
       "\t aaronto01 & 0.2288136 &   944\\\\\n",
       "\t aasedo01  & 0.0000000 &     5\\\\\n",
       "\t abadan01  & 0.0952381 &    21\\\\\n",
       "\t abadfe01  & 0.1111111 &     9\\\\\n",
       "\t abadijo01 & 0.2244898 &    49\\\\\n",
       "\t abbated01 & 0.2536137 &  3044\\\\\n",
       "\t abbeybe01 & 0.1688889 &   225\\\\\n",
       "\t abbeych01 & 0.2807517 &  1756\\\\\n",
       "\\end{tabular}\n"
      ],
      "text/markdown": [
       "\n",
       "A tibble: 10 × 3\n",
       "\n",
       "| playerID &lt;chr&gt; | performance &lt;dbl&gt; | n &lt;int&gt; |\n",
       "|---|---|---|\n",
       "| aardsda01 | 0.0000000 |     4 |\n",
       "| aaronha01 | 0.3049984 | 12364 |\n",
       "| aaronto01 | 0.2288136 |   944 |\n",
       "| aasedo01  | 0.0000000 |     5 |\n",
       "| abadan01  | 0.0952381 |    21 |\n",
       "| abadfe01  | 0.1111111 |     9 |\n",
       "| abadijo01 | 0.2244898 |    49 |\n",
       "| abbated01 | 0.2536137 |  3044 |\n",
       "| abbeybe01 | 0.1688889 |   225 |\n",
       "| abbeych01 | 0.2807517 |  1756 |\n",
       "\n"
      ],
      "text/plain": [
       "   playerID  performance n    \n",
       "1  aardsda01 0.0000000       4\n",
       "2  aaronha01 0.3049984   12364\n",
       "3  aaronto01 0.2288136     944\n",
       "4  aasedo01  0.0000000       5\n",
       "5  abadan01  0.0952381      21\n",
       "6  abadfe01  0.1111111       9\n",
       "7  abadijo01 0.2244898      49\n",
       "8  abbated01 0.2536137    3044\n",
       "9  abbeybe01 0.1688889     225\n",
       "10 abbeych01 0.2807517    1756"
      ]
     },
     "metadata": {},
     "output_type": "display_data"
    }
   ],
   "source": [
    "batters <- Lahman::Batting |>\n",
    "    group_by(playerID) |>\n",
    "    summarize(\n",
    "        performance = sum(H, na.rm = TRUE) / sum(AB, na.rm = TRUE),\n",
    "        n = sum(AB, na.rm = TRUE)\n",
    "    )\n",
    "\n",
    "batters |> head(10)\n"
   ]
  },
  {
   "cell_type": "code",
   "execution_count": 12,
   "metadata": {
    "vscode": {
     "languageId": "r"
    }
   },
   "outputs": [
    {
     "name": "stderr",
     "output_type": "stream",
     "text": [
      "\u001b[1m\u001b[22m`geom_smooth()` using method = 'gam' and formula = 'y ~ s(x, bs = \"cs\")'\n"
     ]
    },
    {
     "data": {
      "image/png": "[encoded data removed]",
      "text/plain": [
       "plot without title"
      ]
     },
     "metadata": {
      "image/png": {
       "height": 420,
       "width": 420
      }
     },
     "output_type": "display_data"
    }
   ],
   "source": [
    "batters |>\n",
    "    filter(n > 100) |>\n",
    "    ggplot(aes(x = n, y = performance)) +\n",
    "    geom_point(alpha = 1 / 10) +\n",
    "    geom_smooth(se = FALSE)\n"
   ]
  },
  {
   "cell_type": "markdown",
   "metadata": {
    "vscode": {
     "languageId": "r"
    }
   },
   "source": [
    "1. The variation in performance is larger among players with fewer at-bats. The shape of this plot is very characteristic: whenever you plot a mean (or other summary statistics) vs. group size, you’ll see that the variation decreases as the sample size increases4.\n",
    "2. There’s a positive correlation between skill (performance) and opportunities to hit the ball (n) because teams want to give their best batters the most opportunities to hit the ball.\n"
   ]
  }
 ],
 "metadata": {
  "kernelspec": {
   "display_name": "R",
   "language": "R",
   "name": "ir"
  },
  "language_info": {
   "codemirror_mode": "r",
   "file_extension": ".r",
   "mimetype": "text/x-r-source",
   "name": "R",
   "pygments_lexer": "r",
   "version": "4.3.3"
  }
 },
 "nbformat": 4,
 "nbformat_minor": 2
}
