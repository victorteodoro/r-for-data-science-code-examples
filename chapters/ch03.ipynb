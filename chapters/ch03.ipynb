{
 "cells": [
  {
   "cell_type": "markdown",
   "metadata": {},
   "source": [
    "# 3. Data transformation\n",
    "\n",
    "Taken from [the book](https://r4ds.hadley.nz/data-transform)."
   ]
  },
  {
   "cell_type": "code",
   "execution_count": 2,
   "metadata": {
    "vscode": {
     "languageId": "r"
    }
   },
   "outputs": [
    {
     "name": "stderr",
     "output_type": "stream",
     "text": [
      "── \u001b[1mAttaching core tidyverse packages\u001b[22m ──────────────────────── tidyverse 2.0.0 ──\n",
      "\u001b[32m✔\u001b[39m \u001b[34mdplyr    \u001b[39m 1.1.3     \u001b[32m✔\u001b[39m \u001b[34mreadr    \u001b[39m 2.1.4\n",
      "\u001b[32m✔\u001b[39m \u001b[34mforcats  \u001b[39m 1.0.0     \u001b[32m✔\u001b[39m \u001b[34mstringr  \u001b[39m 1.5.0\n",
      "\u001b[32m✔\u001b[39m \u001b[34mggplot2  \u001b[39m 3.4.4     \u001b[32m✔\u001b[39m \u001b[34mtibble   \u001b[39m 3.2.1\n",
      "\u001b[32m✔\u001b[39m \u001b[34mlubridate\u001b[39m 1.9.3     \u001b[32m✔\u001b[39m \u001b[34mtidyr    \u001b[39m 1.3.0\n",
      "\u001b[32m✔\u001b[39m \u001b[34mpurrr    \u001b[39m 1.0.2     \n",
      "── \u001b[1mConflicts\u001b[22m ────────────────────────────────────────── tidyverse_conflicts() ──\n",
      "\u001b[31m✖\u001b[39m \u001b[34mdplyr\u001b[39m::\u001b[32mfilter()\u001b[39m masks \u001b[34mstats\u001b[39m::filter()\n",
      "\u001b[31m✖\u001b[39m \u001b[34mdplyr\u001b[39m::\u001b[32mlag()\u001b[39m    masks \u001b[34mstats\u001b[39m::lag()\n",
      "\u001b[36mℹ\u001b[39m Use the conflicted package (\u001b[3m\u001b[34m<http://conflicted.r-lib.org/>\u001b[39m\u001b[23m) to force all conflicts to become errors\n"
     ]
    }
   ],
   "source": [
    "library(nycflights13)\n",
    "library(tidyverse)"
   ]
  },
  {
   "cell_type": "markdown",
   "metadata": {},
   "source": [
    "## Exploring the data"
   ]
  },
  {
   "cell_type": "code",
   "execution_count": 3,
   "metadata": {
    "vscode": {
     "languageId": "r"
    }
   },
   "outputs": [
    {
     "name": "stdout",
     "output_type": "stream",
     "text": [
      "Rows: 336,776\n",
      "Columns: 19\n",
      "$ year           \u001b[3m\u001b[90m<int>\u001b[39m\u001b[23m 2013, 2013, 2013, 2013, 2013, 2013, 2013, 2013, 2013, 2…\n",
      "$ month          \u001b[3m\u001b[90m<int>\u001b[39m\u001b[23m 1, 1, 1, 1, 1, 1, 1, 1, 1, 1, 1, 1, 1, 1, 1, 1, 1, 1, 1…\n",
      "$ day            \u001b[3m\u001b[90m<int>\u001b[39m\u001b[23m 1, 1, 1, 1, 1, 1, 1, 1, 1, 1, 1, 1, 1, 1, 1, 1, 1, 1, 1…\n",
      "$ dep_time       \u001b[3m\u001b[90m<int>\u001b[39m\u001b[23m 517, 533, 542, 544, 554, 554, 555, 557, 557, 558, 558, …\n",
      "$ sched_dep_time \u001b[3m\u001b[90m<int>\u001b[39m\u001b[23m 515, 529, 540, 545, 600, 558, 600, 600, 600, 600, 600, …\n",
      "$ dep_delay      \u001b[3m\u001b[90m<dbl>\u001b[39m\u001b[23m 2, 4, 2, -1, -6, -4, -5, -3, -3, -2, -2, -2, -2, -2, -1…\n",
      "$ arr_time       \u001b[3m\u001b[90m<int>\u001b[39m\u001b[23m 830, 850, 923, 1004, 812, 740, 913, 709, 838, 753, 849,…\n",
      "$ sched_arr_time \u001b[3m\u001b[90m<int>\u001b[39m\u001b[23m 819, 830, 850, 1022, 837, 728, 854, 723, 846, 745, 851,…\n",
      "$ arr_delay      \u001b[3m\u001b[90m<dbl>\u001b[39m\u001b[23m 11, 20, 33, -18, -25, 12, 19, -14, -8, 8, -2, -3, 7, -1…\n",
      "$ carrier        \u001b[3m\u001b[90m<chr>\u001b[39m\u001b[23m \"UA\", \"UA\", \"AA\", \"B6\", \"DL\", \"UA\", \"B6\", \"EV\", \"B6\", \"…\n",
      "$ flight         \u001b[3m\u001b[90m<int>\u001b[39m\u001b[23m 1545, 1714, 1141, 725, 461, 1696, 507, 5708, 79, 301, 4…\n",
      "$ tailnum        \u001b[3m\u001b[90m<chr>\u001b[39m\u001b[23m \"N14228\", \"N24211\", \"N619AA\", \"N804JB\", \"N668DN\", \"N394…\n",
      "$ origin         \u001b[3m\u001b[90m<chr>\u001b[39m\u001b[23m \"EWR\", \"LGA\", \"JFK\", \"JFK\", \"LGA\", \"EWR\", \"EWR\", \"LGA\",…\n",
      "$ dest           \u001b[3m\u001b[90m<chr>\u001b[39m\u001b[23m \"IAH\", \"IAH\", \"MIA\", \"BQN\", \"ATL\", \"ORD\", \"FLL\", \"IAD\",…\n",
      "$ air_time       \u001b[3m\u001b[90m<dbl>\u001b[39m\u001b[23m 227, 227, 160, 183, 116, 150, 158, 53, 140, 138, 149, 1…\n",
      "$ distance       \u001b[3m\u001b[90m<dbl>\u001b[39m\u001b[23m 1400, 1416, 1089, 1576, 762, 719, 1065, 229, 944, 733, …\n",
      "$ hour           \u001b[3m\u001b[90m<dbl>\u001b[39m\u001b[23m 5, 5, 5, 5, 6, 5, 6, 6, 6, 6, 6, 6, 6, 6, 6, 5, 6, 6, 6…\n",
      "$ minute         \u001b[3m\u001b[90m<dbl>\u001b[39m\u001b[23m 15, 29, 40, 45, 0, 58, 0, 0, 0, 0, 0, 0, 0, 0, 0, 59, 0…\n",
      "$ time_hour      \u001b[3m\u001b[90m<dttm>\u001b[39m\u001b[23m 2013-01-01 05:00:00, 2013-01-01 05:00:00, 2013-01-01 0…\n"
     ]
    }
   ],
   "source": [
    "glimpse(flights)"
   ]
  },
  {
   "cell_type": "code",
   "execution_count": 4,
   "metadata": {
    "vscode": {
     "languageId": "r"
    }
   },
   "outputs": [
    {
     "data": {
      "text/html": [
       "<table class=\"dataframe\">\n",
       "<caption>A tibble: 6 × 19</caption>\n",
       "<thead>\n",
       "\t<tr><th scope=col>year</th><th scope=col>month</th><th scope=col>day</th><th scope=col>dep_time</th><th scope=col>sched_dep_time</th><th scope=col>dep_delay</th><th scope=col>arr_time</th><th scope=col>sched_arr_time</th><th scope=col>arr_delay</th><th scope=col>carrier</th><th scope=col>flight</th><th scope=col>tailnum</th><th scope=col>origin</th><th scope=col>dest</th><th scope=col>air_time</th><th scope=col>distance</th><th scope=col>hour</th><th scope=col>minute</th><th scope=col>time_hour</th></tr>\n",
       "\t<tr><th scope=col>&lt;int&gt;</th><th scope=col>&lt;int&gt;</th><th scope=col>&lt;int&gt;</th><th scope=col>&lt;int&gt;</th><th scope=col>&lt;int&gt;</th><th scope=col>&lt;dbl&gt;</th><th scope=col>&lt;int&gt;</th><th scope=col>&lt;int&gt;</th><th scope=col>&lt;dbl&gt;</th><th scope=col>&lt;chr&gt;</th><th scope=col>&lt;int&gt;</th><th scope=col>&lt;chr&gt;</th><th scope=col>&lt;chr&gt;</th><th scope=col>&lt;chr&gt;</th><th scope=col>&lt;dbl&gt;</th><th scope=col>&lt;dbl&gt;</th><th scope=col>&lt;dbl&gt;</th><th scope=col>&lt;dbl&gt;</th><th scope=col>&lt;dttm&gt;</th></tr>\n",
       "</thead>\n",
       "<tbody>\n",
       "\t<tr><td>2013</td><td>1</td><td>1</td><td>517</td><td>515</td><td> 2</td><td> 830</td><td> 819</td><td> 11</td><td>UA</td><td>1545</td><td>N14228</td><td>EWR</td><td>IAH</td><td>227</td><td>1400</td><td>5</td><td>15</td><td>2013-01-01 05:00:00</td></tr>\n",
       "\t<tr><td>2013</td><td>1</td><td>1</td><td>533</td><td>529</td><td> 4</td><td> 850</td><td> 830</td><td> 20</td><td>UA</td><td>1714</td><td>N24211</td><td>LGA</td><td>IAH</td><td>227</td><td>1416</td><td>5</td><td>29</td><td>2013-01-01 05:00:00</td></tr>\n",
       "\t<tr><td>2013</td><td>1</td><td>1</td><td>542</td><td>540</td><td> 2</td><td> 923</td><td> 850</td><td> 33</td><td>AA</td><td>1141</td><td>N619AA</td><td>JFK</td><td>MIA</td><td>160</td><td>1089</td><td>5</td><td>40</td><td>2013-01-01 05:00:00</td></tr>\n",
       "\t<tr><td>2013</td><td>1</td><td>1</td><td>544</td><td>545</td><td>-1</td><td>1004</td><td>1022</td><td>-18</td><td>B6</td><td> 725</td><td>N804JB</td><td>JFK</td><td>BQN</td><td>183</td><td>1576</td><td>5</td><td>45</td><td>2013-01-01 05:00:00</td></tr>\n",
       "\t<tr><td>2013</td><td>1</td><td>1</td><td>554</td><td>600</td><td>-6</td><td> 812</td><td> 837</td><td>-25</td><td>DL</td><td> 461</td><td>N668DN</td><td>LGA</td><td>ATL</td><td>116</td><td> 762</td><td>6</td><td> 0</td><td>2013-01-01 06:00:00</td></tr>\n",
       "\t<tr><td>2013</td><td>1</td><td>1</td><td>554</td><td>558</td><td>-4</td><td> 740</td><td> 728</td><td> 12</td><td>UA</td><td>1696</td><td>N39463</td><td>EWR</td><td>ORD</td><td>150</td><td> 719</td><td>5</td><td>58</td><td>2013-01-01 05:00:00</td></tr>\n",
       "</tbody>\n",
       "</table>\n"
      ],
      "text/latex": [
       "A tibble: 6 × 19\n",
       "\\begin{tabular}{lllllllllllllllllll}\n",
       " year & month & day & dep\\_time & sched\\_dep\\_time & dep\\_delay & arr\\_time & sched\\_arr\\_time & arr\\_delay & carrier & flight & tailnum & origin & dest & air\\_time & distance & hour & minute & time\\_hour\\\\\n",
       " <int> & <int> & <int> & <int> & <int> & <dbl> & <int> & <int> & <dbl> & <chr> & <int> & <chr> & <chr> & <chr> & <dbl> & <dbl> & <dbl> & <dbl> & <dttm>\\\\\n",
       "\\hline\n",
       "\t 2013 & 1 & 1 & 517 & 515 &  2 &  830 &  819 &  11 & UA & 1545 & N14228 & EWR & IAH & 227 & 1400 & 5 & 15 & 2013-01-01 05:00:00\\\\\n",
       "\t 2013 & 1 & 1 & 533 & 529 &  4 &  850 &  830 &  20 & UA & 1714 & N24211 & LGA & IAH & 227 & 1416 & 5 & 29 & 2013-01-01 05:00:00\\\\\n",
       "\t 2013 & 1 & 1 & 542 & 540 &  2 &  923 &  850 &  33 & AA & 1141 & N619AA & JFK & MIA & 160 & 1089 & 5 & 40 & 2013-01-01 05:00:00\\\\\n",
       "\t 2013 & 1 & 1 & 544 & 545 & -1 & 1004 & 1022 & -18 & B6 &  725 & N804JB & JFK & BQN & 183 & 1576 & 5 & 45 & 2013-01-01 05:00:00\\\\\n",
       "\t 2013 & 1 & 1 & 554 & 600 & -6 &  812 &  837 & -25 & DL &  461 & N668DN & LGA & ATL & 116 &  762 & 6 &  0 & 2013-01-01 06:00:00\\\\\n",
       "\t 2013 & 1 & 1 & 554 & 558 & -4 &  740 &  728 &  12 & UA & 1696 & N39463 & EWR & ORD & 150 &  719 & 5 & 58 & 2013-01-01 05:00:00\\\\\n",
       "\\end{tabular}\n"
      ],
      "text/markdown": [
       "\n",
       "A tibble: 6 × 19\n",
       "\n",
       "| year &lt;int&gt; | month &lt;int&gt; | day &lt;int&gt; | dep_time &lt;int&gt; | sched_dep_time &lt;int&gt; | dep_delay &lt;dbl&gt; | arr_time &lt;int&gt; | sched_arr_time &lt;int&gt; | arr_delay &lt;dbl&gt; | carrier &lt;chr&gt; | flight &lt;int&gt; | tailnum &lt;chr&gt; | origin &lt;chr&gt; | dest &lt;chr&gt; | air_time &lt;dbl&gt; | distance &lt;dbl&gt; | hour &lt;dbl&gt; | minute &lt;dbl&gt; | time_hour &lt;dttm&gt; |\n",
       "|---|---|---|---|---|---|---|---|---|---|---|---|---|---|---|---|---|---|---|\n",
       "| 2013 | 1 | 1 | 517 | 515 |  2 |  830 |  819 |  11 | UA | 1545 | N14228 | EWR | IAH | 227 | 1400 | 5 | 15 | 2013-01-01 05:00:00 |\n",
       "| 2013 | 1 | 1 | 533 | 529 |  4 |  850 |  830 |  20 | UA | 1714 | N24211 | LGA | IAH | 227 | 1416 | 5 | 29 | 2013-01-01 05:00:00 |\n",
       "| 2013 | 1 | 1 | 542 | 540 |  2 |  923 |  850 |  33 | AA | 1141 | N619AA | JFK | MIA | 160 | 1089 | 5 | 40 | 2013-01-01 05:00:00 |\n",
       "| 2013 | 1 | 1 | 544 | 545 | -1 | 1004 | 1022 | -18 | B6 |  725 | N804JB | JFK | BQN | 183 | 1576 | 5 | 45 | 2013-01-01 05:00:00 |\n",
       "| 2013 | 1 | 1 | 554 | 600 | -6 |  812 |  837 | -25 | DL |  461 | N668DN | LGA | ATL | 116 |  762 | 6 |  0 | 2013-01-01 06:00:00 |\n",
       "| 2013 | 1 | 1 | 554 | 558 | -4 |  740 |  728 |  12 | UA | 1696 | N39463 | EWR | ORD | 150 |  719 | 5 | 58 | 2013-01-01 05:00:00 |\n",
       "\n"
      ],
      "text/plain": [
       "  year month day dep_time sched_dep_time dep_delay arr_time sched_arr_time\n",
       "1 2013 1     1   517      515             2         830      819          \n",
       "2 2013 1     1   533      529             4         850      830          \n",
       "3 2013 1     1   542      540             2         923      850          \n",
       "4 2013 1     1   544      545            -1        1004     1022          \n",
       "5 2013 1     1   554      600            -6         812      837          \n",
       "6 2013 1     1   554      558            -4         740      728          \n",
       "  arr_delay carrier flight tailnum origin dest air_time distance hour minute\n",
       "1  11       UA      1545   N14228  EWR    IAH  227      1400     5    15    \n",
       "2  20       UA      1714   N24211  LGA    IAH  227      1416     5    29    \n",
       "3  33       AA      1141   N619AA  JFK    MIA  160      1089     5    40    \n",
       "4 -18       B6       725   N804JB  JFK    BQN  183      1576     5    45    \n",
       "5 -25       DL       461   N668DN  LGA    ATL  116       762     6     0    \n",
       "6  12       UA      1696   N39463  EWR    ORD  150       719     5    58    \n",
       "  time_hour          \n",
       "1 2013-01-01 05:00:00\n",
       "2 2013-01-01 05:00:00\n",
       "3 2013-01-01 05:00:00\n",
       "4 2013-01-01 05:00:00\n",
       "5 2013-01-01 06:00:00\n",
       "6 2013-01-01 05:00:00"
      ]
     },
     "metadata": {},
     "output_type": "display_data"
    }
   ],
   "source": [
    "head(flights)"
   ]
  },
  {
   "cell_type": "markdown",
   "metadata": {},
   "source": [
    "## Intro to `dplyr`"
   ]
  },
  {
   "cell_type": "code",
   "execution_count": 6,
   "metadata": {
    "vscode": {
     "languageId": "r"
    }
   },
   "outputs": [
    {
     "name": "stderr",
     "output_type": "stream",
     "text": [
      "\u001b[1m\u001b[22m`summarise()` has grouped output by 'year', 'month'. You can override using the\n",
      "`.groups` argument.\n"
     ]
    },
    {
     "data": {
      "text/html": [
       "<table class=\"dataframe\">\n",
       "<caption>A grouped_df: 6 × 4</caption>\n",
       "<thead>\n",
       "\t<tr><th scope=col>year</th><th scope=col>month</th><th scope=col>day</th><th scope=col>arr_delay</th></tr>\n",
       "\t<tr><th scope=col>&lt;int&gt;</th><th scope=col>&lt;int&gt;</th><th scope=col>&lt;int&gt;</th><th scope=col>&lt;dbl&gt;</th></tr>\n",
       "</thead>\n",
       "<tbody>\n",
       "\t<tr><td>2013</td><td>1</td><td>1</td><td>17.850000</td></tr>\n",
       "\t<tr><td>2013</td><td>1</td><td>2</td><td> 7.000000</td></tr>\n",
       "\t<tr><td>2013</td><td>1</td><td>3</td><td>18.315789</td></tr>\n",
       "\t<tr><td>2013</td><td>1</td><td>4</td><td>-3.200000</td></tr>\n",
       "\t<tr><td>2013</td><td>1</td><td>5</td><td>20.230769</td></tr>\n",
       "\t<tr><td>2013</td><td>1</td><td>6</td><td> 9.277778</td></tr>\n",
       "</tbody>\n",
       "</table>\n"
      ],
      "text/latex": [
       "A grouped\\_df: 6 × 4\n",
       "\\begin{tabular}{llll}\n",
       " year & month & day & arr\\_delay\\\\\n",
       " <int> & <int> & <int> & <dbl>\\\\\n",
       "\\hline\n",
       "\t 2013 & 1 & 1 & 17.850000\\\\\n",
       "\t 2013 & 1 & 2 &  7.000000\\\\\n",
       "\t 2013 & 1 & 3 & 18.315789\\\\\n",
       "\t 2013 & 1 & 4 & -3.200000\\\\\n",
       "\t 2013 & 1 & 5 & 20.230769\\\\\n",
       "\t 2013 & 1 & 6 &  9.277778\\\\\n",
       "\\end{tabular}\n"
      ],
      "text/markdown": [
       "\n",
       "A grouped_df: 6 × 4\n",
       "\n",
       "| year &lt;int&gt; | month &lt;int&gt; | day &lt;int&gt; | arr_delay &lt;dbl&gt; |\n",
       "|---|---|---|---|\n",
       "| 2013 | 1 | 1 | 17.850000 |\n",
       "| 2013 | 1 | 2 |  7.000000 |\n",
       "| 2013 | 1 | 3 | 18.315789 |\n",
       "| 2013 | 1 | 4 | -3.200000 |\n",
       "| 2013 | 1 | 5 | 20.230769 |\n",
       "| 2013 | 1 | 6 |  9.277778 |\n",
       "\n"
      ],
      "text/plain": [
       "  year month day arr_delay\n",
       "1 2013 1     1   17.850000\n",
       "2 2013 1     2    7.000000\n",
       "3 2013 1     3   18.315789\n",
       "4 2013 1     4   -3.200000\n",
       "5 2013 1     5   20.230769\n",
       "6 2013 1     6    9.277778"
      ]
     },
     "metadata": {},
     "output_type": "display_data"
    }
   ],
   "source": [
    "flights |>\n",
    "  filter(dest == \"IAH\") |> \n",
    "  group_by(year, month, day) |> \n",
    "  summarize(\n",
    "    arr_delay = mean(arr_delay, na.rm = TRUE)\n",
    "  ) |>\n",
    "  head()"
   ]
  },
  {
   "cell_type": "code",
   "execution_count": 9,
   "metadata": {
    "vscode": {
     "languageId": "r"
    }
   },
   "outputs": [
    {
     "data": {
      "text/html": [
       "<table class=\"dataframe\">\n",
       "<caption>A tibble: 10 × 19</caption>\n",
       "<thead>\n",
       "\t<tr><th scope=col>year</th><th scope=col>month</th><th scope=col>day</th><th scope=col>dep_time</th><th scope=col>sched_dep_time</th><th scope=col>dep_delay</th><th scope=col>arr_time</th><th scope=col>sched_arr_time</th><th scope=col>arr_delay</th><th scope=col>carrier</th><th scope=col>flight</th><th scope=col>tailnum</th><th scope=col>origin</th><th scope=col>dest</th><th scope=col>air_time</th><th scope=col>distance</th><th scope=col>hour</th><th scope=col>minute</th><th scope=col>time_hour</th></tr>\n",
       "\t<tr><th scope=col>&lt;int&gt;</th><th scope=col>&lt;int&gt;</th><th scope=col>&lt;int&gt;</th><th scope=col>&lt;int&gt;</th><th scope=col>&lt;int&gt;</th><th scope=col>&lt;dbl&gt;</th><th scope=col>&lt;int&gt;</th><th scope=col>&lt;int&gt;</th><th scope=col>&lt;dbl&gt;</th><th scope=col>&lt;chr&gt;</th><th scope=col>&lt;int&gt;</th><th scope=col>&lt;chr&gt;</th><th scope=col>&lt;chr&gt;</th><th scope=col>&lt;chr&gt;</th><th scope=col>&lt;dbl&gt;</th><th scope=col>&lt;dbl&gt;</th><th scope=col>&lt;dbl&gt;</th><th scope=col>&lt;dbl&gt;</th><th scope=col>&lt;dttm&gt;</th></tr>\n",
       "</thead>\n",
       "<tbody>\n",
       "\t<tr><td>2013</td><td>1</td><td>1</td><td> 848</td><td>1835</td><td>853</td><td>1001</td><td>1950</td><td>851</td><td>MQ</td><td>3944</td><td>N942MQ</td><td>JFK</td><td>BWI</td><td> 41</td><td> 184</td><td>18</td><td>35</td><td>2013-01-01 18:00:00</td></tr>\n",
       "\t<tr><td>2013</td><td>1</td><td>1</td><td> 957</td><td> 733</td><td>144</td><td>1056</td><td> 853</td><td>123</td><td>UA</td><td> 856</td><td>N534UA</td><td>EWR</td><td>BOS</td><td> 37</td><td> 200</td><td> 7</td><td>33</td><td>2013-01-01 07:00:00</td></tr>\n",
       "\t<tr><td>2013</td><td>1</td><td>1</td><td>1114</td><td> 900</td><td>134</td><td>1447</td><td>1222</td><td>145</td><td>UA</td><td>1086</td><td>N76502</td><td>LGA</td><td>IAH</td><td>248</td><td>1416</td><td> 9</td><td> 0</td><td>2013-01-01 09:00:00</td></tr>\n",
       "\t<tr><td>2013</td><td>1</td><td>1</td><td>1540</td><td>1338</td><td>122</td><td>2020</td><td>1825</td><td>115</td><td>B6</td><td> 705</td><td>N570JB</td><td>JFK</td><td>SJU</td><td>193</td><td>1598</td><td>13</td><td>38</td><td>2013-01-01 13:00:00</td></tr>\n",
       "\t<tr><td>2013</td><td>1</td><td>1</td><td>1815</td><td>1325</td><td>290</td><td>2120</td><td>1542</td><td>338</td><td>EV</td><td>4417</td><td>N17185</td><td>EWR</td><td>OMA</td><td>213</td><td>1134</td><td>13</td><td>25</td><td>2013-01-01 13:00:00</td></tr>\n",
       "\t<tr><td>2013</td><td>1</td><td>1</td><td>1842</td><td>1422</td><td>260</td><td>1958</td><td>1535</td><td>263</td><td>EV</td><td>4633</td><td>N18120</td><td>EWR</td><td>BTV</td><td> 46</td><td> 266</td><td>14</td><td>22</td><td>2013-01-01 14:00:00</td></tr>\n",
       "\t<tr><td>2013</td><td>1</td><td>1</td><td>1856</td><td>1645</td><td>131</td><td>2212</td><td>2005</td><td>127</td><td>AA</td><td> 181</td><td>N323AA</td><td>JFK</td><td>LAX</td><td>336</td><td>2475</td><td>16</td><td>45</td><td>2013-01-01 16:00:00</td></tr>\n",
       "\t<tr><td>2013</td><td>1</td><td>1</td><td>1934</td><td>1725</td><td>129</td><td>2126</td><td>1855</td><td>151</td><td>MQ</td><td>4255</td><td>N909MQ</td><td>JFK</td><td>BNA</td><td>154</td><td> 765</td><td>17</td><td>25</td><td>2013-01-01 17:00:00</td></tr>\n",
       "\t<tr><td>2013</td><td>1</td><td>1</td><td>1938</td><td>1703</td><td>155</td><td>2109</td><td>1823</td><td>166</td><td>EV</td><td>4300</td><td>N18557</td><td>EWR</td><td>RIC</td><td> 68</td><td> 277</td><td>17</td><td> 3</td><td>2013-01-01 17:00:00</td></tr>\n",
       "\t<tr><td>2013</td><td>1</td><td>1</td><td>1942</td><td>1705</td><td>157</td><td>2124</td><td>1830</td><td>174</td><td>MQ</td><td>4410</td><td>N835MQ</td><td>JFK</td><td>DCA</td><td> 60</td><td> 213</td><td>17</td><td> 5</td><td>2013-01-01 17:00:00</td></tr>\n",
       "</tbody>\n",
       "</table>\n"
      ],
      "text/latex": [
       "A tibble: 10 × 19\n",
       "\\begin{tabular}{lllllllllllllllllll}\n",
       " year & month & day & dep\\_time & sched\\_dep\\_time & dep\\_delay & arr\\_time & sched\\_arr\\_time & arr\\_delay & carrier & flight & tailnum & origin & dest & air\\_time & distance & hour & minute & time\\_hour\\\\\n",
       " <int> & <int> & <int> & <int> & <int> & <dbl> & <int> & <int> & <dbl> & <chr> & <int> & <chr> & <chr> & <chr> & <dbl> & <dbl> & <dbl> & <dbl> & <dttm>\\\\\n",
       "\\hline\n",
       "\t 2013 & 1 & 1 &  848 & 1835 & 853 & 1001 & 1950 & 851 & MQ & 3944 & N942MQ & JFK & BWI &  41 &  184 & 18 & 35 & 2013-01-01 18:00:00\\\\\n",
       "\t 2013 & 1 & 1 &  957 &  733 & 144 & 1056 &  853 & 123 & UA &  856 & N534UA & EWR & BOS &  37 &  200 &  7 & 33 & 2013-01-01 07:00:00\\\\\n",
       "\t 2013 & 1 & 1 & 1114 &  900 & 134 & 1447 & 1222 & 145 & UA & 1086 & N76502 & LGA & IAH & 248 & 1416 &  9 &  0 & 2013-01-01 09:00:00\\\\\n",
       "\t 2013 & 1 & 1 & 1540 & 1338 & 122 & 2020 & 1825 & 115 & B6 &  705 & N570JB & JFK & SJU & 193 & 1598 & 13 & 38 & 2013-01-01 13:00:00\\\\\n",
       "\t 2013 & 1 & 1 & 1815 & 1325 & 290 & 2120 & 1542 & 338 & EV & 4417 & N17185 & EWR & OMA & 213 & 1134 & 13 & 25 & 2013-01-01 13:00:00\\\\\n",
       "\t 2013 & 1 & 1 & 1842 & 1422 & 260 & 1958 & 1535 & 263 & EV & 4633 & N18120 & EWR & BTV &  46 &  266 & 14 & 22 & 2013-01-01 14:00:00\\\\\n",
       "\t 2013 & 1 & 1 & 1856 & 1645 & 131 & 2212 & 2005 & 127 & AA &  181 & N323AA & JFK & LAX & 336 & 2475 & 16 & 45 & 2013-01-01 16:00:00\\\\\n",
       "\t 2013 & 1 & 1 & 1934 & 1725 & 129 & 2126 & 1855 & 151 & MQ & 4255 & N909MQ & JFK & BNA & 154 &  765 & 17 & 25 & 2013-01-01 17:00:00\\\\\n",
       "\t 2013 & 1 & 1 & 1938 & 1703 & 155 & 2109 & 1823 & 166 & EV & 4300 & N18557 & EWR & RIC &  68 &  277 & 17 &  3 & 2013-01-01 17:00:00\\\\\n",
       "\t 2013 & 1 & 1 & 1942 & 1705 & 157 & 2124 & 1830 & 174 & MQ & 4410 & N835MQ & JFK & DCA &  60 &  213 & 17 &  5 & 2013-01-01 17:00:00\\\\\n",
       "\\end{tabular}\n"
      ],
      "text/markdown": [
       "\n",
       "A tibble: 10 × 19\n",
       "\n",
       "| year &lt;int&gt; | month &lt;int&gt; | day &lt;int&gt; | dep_time &lt;int&gt; | sched_dep_time &lt;int&gt; | dep_delay &lt;dbl&gt; | arr_time &lt;int&gt; | sched_arr_time &lt;int&gt; | arr_delay &lt;dbl&gt; | carrier &lt;chr&gt; | flight &lt;int&gt; | tailnum &lt;chr&gt; | origin &lt;chr&gt; | dest &lt;chr&gt; | air_time &lt;dbl&gt; | distance &lt;dbl&gt; | hour &lt;dbl&gt; | minute &lt;dbl&gt; | time_hour &lt;dttm&gt; |\n",
       "|---|---|---|---|---|---|---|---|---|---|---|---|---|---|---|---|---|---|---|\n",
       "| 2013 | 1 | 1 |  848 | 1835 | 853 | 1001 | 1950 | 851 | MQ | 3944 | N942MQ | JFK | BWI |  41 |  184 | 18 | 35 | 2013-01-01 18:00:00 |\n",
       "| 2013 | 1 | 1 |  957 |  733 | 144 | 1056 |  853 | 123 | UA |  856 | N534UA | EWR | BOS |  37 |  200 |  7 | 33 | 2013-01-01 07:00:00 |\n",
       "| 2013 | 1 | 1 | 1114 |  900 | 134 | 1447 | 1222 | 145 | UA | 1086 | N76502 | LGA | IAH | 248 | 1416 |  9 |  0 | 2013-01-01 09:00:00 |\n",
       "| 2013 | 1 | 1 | 1540 | 1338 | 122 | 2020 | 1825 | 115 | B6 |  705 | N570JB | JFK | SJU | 193 | 1598 | 13 | 38 | 2013-01-01 13:00:00 |\n",
       "| 2013 | 1 | 1 | 1815 | 1325 | 290 | 2120 | 1542 | 338 | EV | 4417 | N17185 | EWR | OMA | 213 | 1134 | 13 | 25 | 2013-01-01 13:00:00 |\n",
       "| 2013 | 1 | 1 | 1842 | 1422 | 260 | 1958 | 1535 | 263 | EV | 4633 | N18120 | EWR | BTV |  46 |  266 | 14 | 22 | 2013-01-01 14:00:00 |\n",
       "| 2013 | 1 | 1 | 1856 | 1645 | 131 | 2212 | 2005 | 127 | AA |  181 | N323AA | JFK | LAX | 336 | 2475 | 16 | 45 | 2013-01-01 16:00:00 |\n",
       "| 2013 | 1 | 1 | 1934 | 1725 | 129 | 2126 | 1855 | 151 | MQ | 4255 | N909MQ | JFK | BNA | 154 |  765 | 17 | 25 | 2013-01-01 17:00:00 |\n",
       "| 2013 | 1 | 1 | 1938 | 1703 | 155 | 2109 | 1823 | 166 | EV | 4300 | N18557 | EWR | RIC |  68 |  277 | 17 |  3 | 2013-01-01 17:00:00 |\n",
       "| 2013 | 1 | 1 | 1942 | 1705 | 157 | 2124 | 1830 | 174 | MQ | 4410 | N835MQ | JFK | DCA |  60 |  213 | 17 |  5 | 2013-01-01 17:00:00 |\n",
       "\n"
      ],
      "text/plain": [
       "   year month day dep_time sched_dep_time dep_delay arr_time sched_arr_time\n",
       "1  2013 1     1    848     1835           853       1001     1950          \n",
       "2  2013 1     1    957      733           144       1056      853          \n",
       "3  2013 1     1   1114      900           134       1447     1222          \n",
       "4  2013 1     1   1540     1338           122       2020     1825          \n",
       "5  2013 1     1   1815     1325           290       2120     1542          \n",
       "6  2013 1     1   1842     1422           260       1958     1535          \n",
       "7  2013 1     1   1856     1645           131       2212     2005          \n",
       "8  2013 1     1   1934     1725           129       2126     1855          \n",
       "9  2013 1     1   1938     1703           155       2109     1823          \n",
       "10 2013 1     1   1942     1705           157       2124     1830          \n",
       "   arr_delay carrier flight tailnum origin dest air_time distance hour minute\n",
       "1  851       MQ      3944   N942MQ  JFK    BWI   41       184     18   35    \n",
       "2  123       UA       856   N534UA  EWR    BOS   37       200      7   33    \n",
       "3  145       UA      1086   N76502  LGA    IAH  248      1416      9    0    \n",
       "4  115       B6       705   N570JB  JFK    SJU  193      1598     13   38    \n",
       "5  338       EV      4417   N17185  EWR    OMA  213      1134     13   25    \n",
       "6  263       EV      4633   N18120  EWR    BTV   46       266     14   22    \n",
       "7  127       AA       181   N323AA  JFK    LAX  336      2475     16   45    \n",
       "8  151       MQ      4255   N909MQ  JFK    BNA  154       765     17   25    \n",
       "9  166       EV      4300   N18557  EWR    RIC   68       277     17    3    \n",
       "10 174       MQ      4410   N835MQ  JFK    DCA   60       213     17    5    \n",
       "   time_hour          \n",
       "1  2013-01-01 18:00:00\n",
       "2  2013-01-01 07:00:00\n",
       "3  2013-01-01 09:00:00\n",
       "4  2013-01-01 13:00:00\n",
       "5  2013-01-01 13:00:00\n",
       "6  2013-01-01 14:00:00\n",
       "7  2013-01-01 16:00:00\n",
       "8  2013-01-01 17:00:00\n",
       "9  2013-01-01 17:00:00\n",
       "10 2013-01-01 17:00:00"
      ]
     },
     "metadata": {},
     "output_type": "display_data"
    }
   ],
   "source": [
    "flights |> \n",
    "  filter(dep_delay > 120) |>\n",
    "  head(10)"
   ]
  },
  {
   "cell_type": "code",
   "execution_count": 21,
   "metadata": {
    "vscode": {
     "languageId": "r"
    }
   },
   "outputs": [
    {
     "data": {
      "text/html": [
       "<table class=\"dataframe\">\n",
       "<caption>A tibble: 10 × 19</caption>\n",
       "<thead>\n",
       "\t<tr><th scope=col>year</th><th scope=col>month</th><th scope=col>day</th><th scope=col>dep_time</th><th scope=col>sched_dep_time</th><th scope=col>dep_delay</th><th scope=col>arr_time</th><th scope=col>sched_arr_time</th><th scope=col>arr_delay</th><th scope=col>carrier</th><th scope=col>flight</th><th scope=col>tailnum</th><th scope=col>origin</th><th scope=col>dest</th><th scope=col>air_time</th><th scope=col>distance</th><th scope=col>hour</th><th scope=col>minute</th><th scope=col>time_hour</th></tr>\n",
       "\t<tr><th scope=col>&lt;int&gt;</th><th scope=col>&lt;int&gt;</th><th scope=col>&lt;int&gt;</th><th scope=col>&lt;int&gt;</th><th scope=col>&lt;int&gt;</th><th scope=col>&lt;dbl&gt;</th><th scope=col>&lt;int&gt;</th><th scope=col>&lt;int&gt;</th><th scope=col>&lt;dbl&gt;</th><th scope=col>&lt;chr&gt;</th><th scope=col>&lt;int&gt;</th><th scope=col>&lt;chr&gt;</th><th scope=col>&lt;chr&gt;</th><th scope=col>&lt;chr&gt;</th><th scope=col>&lt;dbl&gt;</th><th scope=col>&lt;dbl&gt;</th><th scope=col>&lt;dbl&gt;</th><th scope=col>&lt;dbl&gt;</th><th scope=col>&lt;dttm&gt;</th></tr>\n",
       "</thead>\n",
       "<tbody>\n",
       "\t<tr><td>2013</td><td>1</td><td>1</td><td>1318</td><td>1322</td><td>-4</td><td>1358</td><td>1416</td><td>-18</td><td>EV</td><td>4106</td><td>N19554</td><td>EWR</td><td>BDL</td><td> 25</td><td> 116</td><td>13</td><td>22</td><td>2013-01-01 13:00:00</td></tr>\n",
       "\t<tr><td>2013</td><td>1</td><td>1</td><td> 805</td><td> 800</td><td> 5</td><td>1118</td><td>1106</td><td> 12</td><td>B6</td><td>   3</td><td>N570JB</td><td>JFK</td><td>FLL</td><td>165</td><td>1069</td><td> 8</td><td> 0</td><td>2013-01-01 08:00:00</td></tr>\n",
       "\t<tr><td>2013</td><td>1</td><td>1</td><td> 857</td><td> 905</td><td>-8</td><td>1107</td><td>1120</td><td>-13</td><td>DL</td><td> 181</td><td>N321NB</td><td>LGA</td><td>DTW</td><td>110</td><td> 502</td><td> 9</td><td> 5</td><td>2013-01-01 09:00:00</td></tr>\n",
       "\t<tr><td>2013</td><td>1</td><td>1</td><td>1251</td><td>1252</td><td>-1</td><td>1611</td><td>1555</td><td> 16</td><td>B6</td><td>  85</td><td>N657JB</td><td>JFK</td><td>FLL</td><td>173</td><td>1069</td><td>12</td><td>52</td><td>2013-01-01 12:00:00</td></tr>\n",
       "\t<tr><td>2013</td><td>1</td><td>1</td><td> 629</td><td> 630</td><td>-1</td><td> 824</td><td> 810</td><td> 14</td><td>AA</td><td> 303</td><td>N3CYAA</td><td>LGA</td><td>ORD</td><td>140</td><td> 733</td><td> 6</td><td>30</td><td>2013-01-01 06:00:00</td></tr>\n",
       "\t<tr><td>2013</td><td>1</td><td>1</td><td>1515</td><td>1437</td><td>38</td><td>1834</td><td>1742</td><td> 52</td><td>B6</td><td> 347</td><td>N178JB</td><td>JFK</td><td>SRQ</td><td>171</td><td>1041</td><td>14</td><td>37</td><td>2013-01-01 14:00:00</td></tr>\n",
       "\t<tr><td>2013</td><td>1</td><td>1</td><td>1005</td><td>1000</td><td> 5</td><td>1239</td><td>1234</td><td>  5</td><td>UA</td><td>1625</td><td>N81449</td><td>EWR</td><td>DEN</td><td>254</td><td>1605</td><td>10</td><td> 0</td><td>2013-01-01 10:00:00</td></tr>\n",
       "\t<tr><td>2013</td><td>1</td><td>1</td><td>1720</td><td>1725</td><td>-5</td><td>2121</td><td>2105</td><td> 16</td><td>DL</td><td> 513</td><td>N723TW</td><td>JFK</td><td>LAX</td><td>363</td><td>2475</td><td>17</td><td>25</td><td>2013-01-01 17:00:00</td></tr>\n",
       "\t<tr><td>2013</td><td>1</td><td>1</td><td>1456</td><td>1500</td><td>-4</td><td>1649</td><td>1632</td><td> 17</td><td>UA</td><td> 685</td><td>N802UA</td><td>LGA</td><td>ORD</td><td>140</td><td> 733</td><td>15</td><td> 0</td><td>2013-01-01 15:00:00</td></tr>\n",
       "\t<tr><td>2013</td><td>1</td><td>1</td><td>1422</td><td>1410</td><td>12</td><td>1613</td><td>1555</td><td> 18</td><td>MQ</td><td>4491</td><td>N737MQ</td><td>LGA</td><td>CLE</td><td> 93</td><td> 419</td><td>14</td><td>10</td><td>2013-01-01 14:00:00</td></tr>\n",
       "</tbody>\n",
       "</table>\n"
      ],
      "text/latex": [
       "A tibble: 10 × 19\n",
       "\\begin{tabular}{lllllllllllllllllll}\n",
       " year & month & day & dep\\_time & sched\\_dep\\_time & dep\\_delay & arr\\_time & sched\\_arr\\_time & arr\\_delay & carrier & flight & tailnum & origin & dest & air\\_time & distance & hour & minute & time\\_hour\\\\\n",
       " <int> & <int> & <int> & <int> & <int> & <dbl> & <int> & <int> & <dbl> & <chr> & <int> & <chr> & <chr> & <chr> & <dbl> & <dbl> & <dbl> & <dbl> & <dttm>\\\\\n",
       "\\hline\n",
       "\t 2013 & 1 & 1 & 1318 & 1322 & -4 & 1358 & 1416 & -18 & EV & 4106 & N19554 & EWR & BDL &  25 &  116 & 13 & 22 & 2013-01-01 13:00:00\\\\\n",
       "\t 2013 & 1 & 1 &  805 &  800 &  5 & 1118 & 1106 &  12 & B6 &    3 & N570JB & JFK & FLL & 165 & 1069 &  8 &  0 & 2013-01-01 08:00:00\\\\\n",
       "\t 2013 & 1 & 1 &  857 &  905 & -8 & 1107 & 1120 & -13 & DL &  181 & N321NB & LGA & DTW & 110 &  502 &  9 &  5 & 2013-01-01 09:00:00\\\\\n",
       "\t 2013 & 1 & 1 & 1251 & 1252 & -1 & 1611 & 1555 &  16 & B6 &   85 & N657JB & JFK & FLL & 173 & 1069 & 12 & 52 & 2013-01-01 12:00:00\\\\\n",
       "\t 2013 & 1 & 1 &  629 &  630 & -1 &  824 &  810 &  14 & AA &  303 & N3CYAA & LGA & ORD & 140 &  733 &  6 & 30 & 2013-01-01 06:00:00\\\\\n",
       "\t 2013 & 1 & 1 & 1515 & 1437 & 38 & 1834 & 1742 &  52 & B6 &  347 & N178JB & JFK & SRQ & 171 & 1041 & 14 & 37 & 2013-01-01 14:00:00\\\\\n",
       "\t 2013 & 1 & 1 & 1005 & 1000 &  5 & 1239 & 1234 &   5 & UA & 1625 & N81449 & EWR & DEN & 254 & 1605 & 10 &  0 & 2013-01-01 10:00:00\\\\\n",
       "\t 2013 & 1 & 1 & 1720 & 1725 & -5 & 2121 & 2105 &  16 & DL &  513 & N723TW & JFK & LAX & 363 & 2475 & 17 & 25 & 2013-01-01 17:00:00\\\\\n",
       "\t 2013 & 1 & 1 & 1456 & 1500 & -4 & 1649 & 1632 &  17 & UA &  685 & N802UA & LGA & ORD & 140 &  733 & 15 &  0 & 2013-01-01 15:00:00\\\\\n",
       "\t 2013 & 1 & 1 & 1422 & 1410 & 12 & 1613 & 1555 &  18 & MQ & 4491 & N737MQ & LGA & CLE &  93 &  419 & 14 & 10 & 2013-01-01 14:00:00\\\\\n",
       "\\end{tabular}\n"
      ],
      "text/markdown": [
       "\n",
       "A tibble: 10 × 19\n",
       "\n",
       "| year &lt;int&gt; | month &lt;int&gt; | day &lt;int&gt; | dep_time &lt;int&gt; | sched_dep_time &lt;int&gt; | dep_delay &lt;dbl&gt; | arr_time &lt;int&gt; | sched_arr_time &lt;int&gt; | arr_delay &lt;dbl&gt; | carrier &lt;chr&gt; | flight &lt;int&gt; | tailnum &lt;chr&gt; | origin &lt;chr&gt; | dest &lt;chr&gt; | air_time &lt;dbl&gt; | distance &lt;dbl&gt; | hour &lt;dbl&gt; | minute &lt;dbl&gt; | time_hour &lt;dttm&gt; |\n",
       "|---|---|---|---|---|---|---|---|---|---|---|---|---|---|---|---|---|---|---|\n",
       "| 2013 | 1 | 1 | 1318 | 1322 | -4 | 1358 | 1416 | -18 | EV | 4106 | N19554 | EWR | BDL |  25 |  116 | 13 | 22 | 2013-01-01 13:00:00 |\n",
       "| 2013 | 1 | 1 |  805 |  800 |  5 | 1118 | 1106 |  12 | B6 |    3 | N570JB | JFK | FLL | 165 | 1069 |  8 |  0 | 2013-01-01 08:00:00 |\n",
       "| 2013 | 1 | 1 |  857 |  905 | -8 | 1107 | 1120 | -13 | DL |  181 | N321NB | LGA | DTW | 110 |  502 |  9 |  5 | 2013-01-01 09:00:00 |\n",
       "| 2013 | 1 | 1 | 1251 | 1252 | -1 | 1611 | 1555 |  16 | B6 |   85 | N657JB | JFK | FLL | 173 | 1069 | 12 | 52 | 2013-01-01 12:00:00 |\n",
       "| 2013 | 1 | 1 |  629 |  630 | -1 |  824 |  810 |  14 | AA |  303 | N3CYAA | LGA | ORD | 140 |  733 |  6 | 30 | 2013-01-01 06:00:00 |\n",
       "| 2013 | 1 | 1 | 1515 | 1437 | 38 | 1834 | 1742 |  52 | B6 |  347 | N178JB | JFK | SRQ | 171 | 1041 | 14 | 37 | 2013-01-01 14:00:00 |\n",
       "| 2013 | 1 | 1 | 1005 | 1000 |  5 | 1239 | 1234 |   5 | UA | 1625 | N81449 | EWR | DEN | 254 | 1605 | 10 |  0 | 2013-01-01 10:00:00 |\n",
       "| 2013 | 1 | 1 | 1720 | 1725 | -5 | 2121 | 2105 |  16 | DL |  513 | N723TW | JFK | LAX | 363 | 2475 | 17 | 25 | 2013-01-01 17:00:00 |\n",
       "| 2013 | 1 | 1 | 1456 | 1500 | -4 | 1649 | 1632 |  17 | UA |  685 | N802UA | LGA | ORD | 140 |  733 | 15 |  0 | 2013-01-01 15:00:00 |\n",
       "| 2013 | 1 | 1 | 1422 | 1410 | 12 | 1613 | 1555 |  18 | MQ | 4491 | N737MQ | LGA | CLE |  93 |  419 | 14 | 10 | 2013-01-01 14:00:00 |\n",
       "\n"
      ],
      "text/plain": [
       "   year month day dep_time sched_dep_time dep_delay arr_time sched_arr_time\n",
       "1  2013 1     1   1318     1322           -4        1358     1416          \n",
       "2  2013 1     1    805      800            5        1118     1106          \n",
       "3  2013 1     1    857      905           -8        1107     1120          \n",
       "4  2013 1     1   1251     1252           -1        1611     1555          \n",
       "5  2013 1     1    629      630           -1         824      810          \n",
       "6  2013 1     1   1515     1437           38        1834     1742          \n",
       "7  2013 1     1   1005     1000            5        1239     1234          \n",
       "8  2013 1     1   1720     1725           -5        2121     2105          \n",
       "9  2013 1     1   1456     1500           -4        1649     1632          \n",
       "10 2013 1     1   1422     1410           12        1613     1555          \n",
       "   arr_delay carrier flight tailnum origin dest air_time distance hour minute\n",
       "1  -18       EV      4106   N19554  EWR    BDL   25       116     13   22    \n",
       "2   12       B6         3   N570JB  JFK    FLL  165      1069      8    0    \n",
       "3  -13       DL       181   N321NB  LGA    DTW  110       502      9    5    \n",
       "4   16       B6        85   N657JB  JFK    FLL  173      1069     12   52    \n",
       "5   14       AA       303   N3CYAA  LGA    ORD  140       733      6   30    \n",
       "6   52       B6       347   N178JB  JFK    SRQ  171      1041     14   37    \n",
       "7    5       UA      1625   N81449  EWR    DEN  254      1605     10    0    \n",
       "8   16       DL       513   N723TW  JFK    LAX  363      2475     17   25    \n",
       "9   17       UA       685   N802UA  LGA    ORD  140       733     15    0    \n",
       "10  18       MQ      4491   N737MQ  LGA    CLE   93       419     14   10    \n",
       "   time_hour          \n",
       "1  2013-01-01 13:00:00\n",
       "2  2013-01-01 08:00:00\n",
       "3  2013-01-01 09:00:00\n",
       "4  2013-01-01 12:00:00\n",
       "5  2013-01-01 06:00:00\n",
       "6  2013-01-01 14:00:00\n",
       "7  2013-01-01 10:00:00\n",
       "8  2013-01-01 17:00:00\n",
       "9  2013-01-01 15:00:00\n",
       "10 2013-01-01 14:00:00"
      ]
     },
     "metadata": {},
     "output_type": "display_data"
    }
   ],
   "source": [
    "# Flights that departed on January 1\n",
    "flights |> \n",
    "  filter(month == 1 & day == 1) |>\n",
    "  sample_n(10)\n"
   ]
  },
  {
   "cell_type": "code",
   "execution_count": 20,
   "metadata": {
    "vscode": {
     "languageId": "r"
    }
   },
   "outputs": [
    {
     "data": {
      "text/html": [
       "<table class=\"dataframe\">\n",
       "<caption>A tibble: 10 × 19</caption>\n",
       "<thead>\n",
       "\t<tr><th scope=col>year</th><th scope=col>month</th><th scope=col>day</th><th scope=col>dep_time</th><th scope=col>sched_dep_time</th><th scope=col>dep_delay</th><th scope=col>arr_time</th><th scope=col>sched_arr_time</th><th scope=col>arr_delay</th><th scope=col>carrier</th><th scope=col>flight</th><th scope=col>tailnum</th><th scope=col>origin</th><th scope=col>dest</th><th scope=col>air_time</th><th scope=col>distance</th><th scope=col>hour</th><th scope=col>minute</th><th scope=col>time_hour</th></tr>\n",
       "\t<tr><th scope=col>&lt;int&gt;</th><th scope=col>&lt;int&gt;</th><th scope=col>&lt;int&gt;</th><th scope=col>&lt;int&gt;</th><th scope=col>&lt;int&gt;</th><th scope=col>&lt;dbl&gt;</th><th scope=col>&lt;int&gt;</th><th scope=col>&lt;int&gt;</th><th scope=col>&lt;dbl&gt;</th><th scope=col>&lt;chr&gt;</th><th scope=col>&lt;int&gt;</th><th scope=col>&lt;chr&gt;</th><th scope=col>&lt;chr&gt;</th><th scope=col>&lt;chr&gt;</th><th scope=col>&lt;dbl&gt;</th><th scope=col>&lt;dbl&gt;</th><th scope=col>&lt;dbl&gt;</th><th scope=col>&lt;dbl&gt;</th><th scope=col>&lt;dttm&gt;</th></tr>\n",
       "</thead>\n",
       "<tbody>\n",
       "\t<tr><td>2013</td><td>1</td><td>16</td><td>2008</td><td>2005</td><td>  3</td><td>2254</td><td>2258</td><td> -4</td><td>UA</td><td> 405</td><td>N411UA</td><td>EWR</td><td>MCO</td><td>141</td><td> 937</td><td>20</td><td> 5</td><td>2013-01-16 20:00:00</td></tr>\n",
       "\t<tr><td>2013</td><td>1</td><td>28</td><td> 900</td><td> 905</td><td> -5</td><td>1125</td><td>1115</td><td> 10</td><td>MQ</td><td>4478</td><td>N739MQ</td><td>LGA</td><td>DTW</td><td>109</td><td> 502</td><td> 9</td><td> 5</td><td>2013-01-28 09:00:00</td></tr>\n",
       "\t<tr><td>2013</td><td>2</td><td>16</td><td>1758</td><td>1745</td><td> 13</td><td>2114</td><td>2136</td><td>-22</td><td>DL</td><td>  31</td><td>N721TW</td><td>JFK</td><td>SFO</td><td>348</td><td>2586</td><td>17</td><td>45</td><td>2013-02-16 17:00:00</td></tr>\n",
       "\t<tr><td>2013</td><td>1</td><td>18</td><td>1541</td><td>1530</td><td> 11</td><td>1755</td><td>1734</td><td> 21</td><td>US</td><td>1665</td><td>N716UW</td><td>LGA</td><td>CLT</td><td> 86</td><td> 544</td><td>15</td><td>30</td><td>2013-01-18 15:00:00</td></tr>\n",
       "\t<tr><td>2013</td><td>1</td><td>24</td><td>2348</td><td>2359</td><td>-11</td><td> 418</td><td> 444</td><td>-26</td><td>B6</td><td> 739</td><td>N605JB</td><td>JFK</td><td>PSE</td><td>193</td><td>1617</td><td>23</td><td>59</td><td>2013-01-24 23:00:00</td></tr>\n",
       "\t<tr><td>2013</td><td>2</td><td>18</td><td>1600</td><td>1604</td><td> -4</td><td>1718</td><td>1739</td><td>-21</td><td>UA</td><td>1053</td><td>N76254</td><td>EWR</td><td>ORD</td><td>120</td><td> 719</td><td>16</td><td> 4</td><td>2013-02-18 16:00:00</td></tr>\n",
       "\t<tr><td>2013</td><td>2</td><td>27</td><td>2020</td><td>1900</td><td> 80</td><td>2144</td><td>2018</td><td> 86</td><td>EV</td><td>5714</td><td>N827AS</td><td>JFK</td><td>IAD</td><td> 48</td><td> 228</td><td>19</td><td> 0</td><td>2013-02-27 19:00:00</td></tr>\n",
       "\t<tr><td>2013</td><td>2</td><td>18</td><td>2022</td><td>2010</td><td> 12</td><td>2325</td><td>2321</td><td>  4</td><td>UA</td><td>1299</td><td>N37255</td><td>EWR</td><td>RSW</td><td>164</td><td>1068</td><td>20</td><td>10</td><td>2013-02-18 20:00:00</td></tr>\n",
       "\t<tr><td>2013</td><td>1</td><td>21</td><td> 601</td><td> 608</td><td> -7</td><td> 654</td><td> 725</td><td>-31</td><td>UA</td><td> 733</td><td>N822UA</td><td>EWR</td><td>BOS</td><td> 32</td><td> 200</td><td> 6</td><td> 8</td><td>2013-01-21 06:00:00</td></tr>\n",
       "\t<tr><td>2013</td><td>2</td><td>28</td><td>1459</td><td>1500</td><td> -1</td><td>1747</td><td>1742</td><td>  5</td><td>DL</td><td>2347</td><td>N6708D</td><td>LGA</td><td>ATL</td><td>112</td><td> 762</td><td>15</td><td> 0</td><td>2013-02-28 15:00:00</td></tr>\n",
       "</tbody>\n",
       "</table>\n"
      ],
      "text/latex": [
       "A tibble: 10 × 19\n",
       "\\begin{tabular}{lllllllllllllllllll}\n",
       " year & month & day & dep\\_time & sched\\_dep\\_time & dep\\_delay & arr\\_time & sched\\_arr\\_time & arr\\_delay & carrier & flight & tailnum & origin & dest & air\\_time & distance & hour & minute & time\\_hour\\\\\n",
       " <int> & <int> & <int> & <int> & <int> & <dbl> & <int> & <int> & <dbl> & <chr> & <int> & <chr> & <chr> & <chr> & <dbl> & <dbl> & <dbl> & <dbl> & <dttm>\\\\\n",
       "\\hline\n",
       "\t 2013 & 1 & 16 & 2008 & 2005 &   3 & 2254 & 2258 &  -4 & UA &  405 & N411UA & EWR & MCO & 141 &  937 & 20 &  5 & 2013-01-16 20:00:00\\\\\n",
       "\t 2013 & 1 & 28 &  900 &  905 &  -5 & 1125 & 1115 &  10 & MQ & 4478 & N739MQ & LGA & DTW & 109 &  502 &  9 &  5 & 2013-01-28 09:00:00\\\\\n",
       "\t 2013 & 2 & 16 & 1758 & 1745 &  13 & 2114 & 2136 & -22 & DL &   31 & N721TW & JFK & SFO & 348 & 2586 & 17 & 45 & 2013-02-16 17:00:00\\\\\n",
       "\t 2013 & 1 & 18 & 1541 & 1530 &  11 & 1755 & 1734 &  21 & US & 1665 & N716UW & LGA & CLT &  86 &  544 & 15 & 30 & 2013-01-18 15:00:00\\\\\n",
       "\t 2013 & 1 & 24 & 2348 & 2359 & -11 &  418 &  444 & -26 & B6 &  739 & N605JB & JFK & PSE & 193 & 1617 & 23 & 59 & 2013-01-24 23:00:00\\\\\n",
       "\t 2013 & 2 & 18 & 1600 & 1604 &  -4 & 1718 & 1739 & -21 & UA & 1053 & N76254 & EWR & ORD & 120 &  719 & 16 &  4 & 2013-02-18 16:00:00\\\\\n",
       "\t 2013 & 2 & 27 & 2020 & 1900 &  80 & 2144 & 2018 &  86 & EV & 5714 & N827AS & JFK & IAD &  48 &  228 & 19 &  0 & 2013-02-27 19:00:00\\\\\n",
       "\t 2013 & 2 & 18 & 2022 & 2010 &  12 & 2325 & 2321 &   4 & UA & 1299 & N37255 & EWR & RSW & 164 & 1068 & 20 & 10 & 2013-02-18 20:00:00\\\\\n",
       "\t 2013 & 1 & 21 &  601 &  608 &  -7 &  654 &  725 & -31 & UA &  733 & N822UA & EWR & BOS &  32 &  200 &  6 &  8 & 2013-01-21 06:00:00\\\\\n",
       "\t 2013 & 2 & 28 & 1459 & 1500 &  -1 & 1747 & 1742 &   5 & DL & 2347 & N6708D & LGA & ATL & 112 &  762 & 15 &  0 & 2013-02-28 15:00:00\\\\\n",
       "\\end{tabular}\n"
      ],
      "text/markdown": [
       "\n",
       "A tibble: 10 × 19\n",
       "\n",
       "| year &lt;int&gt; | month &lt;int&gt; | day &lt;int&gt; | dep_time &lt;int&gt; | sched_dep_time &lt;int&gt; | dep_delay &lt;dbl&gt; | arr_time &lt;int&gt; | sched_arr_time &lt;int&gt; | arr_delay &lt;dbl&gt; | carrier &lt;chr&gt; | flight &lt;int&gt; | tailnum &lt;chr&gt; | origin &lt;chr&gt; | dest &lt;chr&gt; | air_time &lt;dbl&gt; | distance &lt;dbl&gt; | hour &lt;dbl&gt; | minute &lt;dbl&gt; | time_hour &lt;dttm&gt; |\n",
       "|---|---|---|---|---|---|---|---|---|---|---|---|---|---|---|---|---|---|---|\n",
       "| 2013 | 1 | 16 | 2008 | 2005 |   3 | 2254 | 2258 |  -4 | UA |  405 | N411UA | EWR | MCO | 141 |  937 | 20 |  5 | 2013-01-16 20:00:00 |\n",
       "| 2013 | 1 | 28 |  900 |  905 |  -5 | 1125 | 1115 |  10 | MQ | 4478 | N739MQ | LGA | DTW | 109 |  502 |  9 |  5 | 2013-01-28 09:00:00 |\n",
       "| 2013 | 2 | 16 | 1758 | 1745 |  13 | 2114 | 2136 | -22 | DL |   31 | N721TW | JFK | SFO | 348 | 2586 | 17 | 45 | 2013-02-16 17:00:00 |\n",
       "| 2013 | 1 | 18 | 1541 | 1530 |  11 | 1755 | 1734 |  21 | US | 1665 | N716UW | LGA | CLT |  86 |  544 | 15 | 30 | 2013-01-18 15:00:00 |\n",
       "| 2013 | 1 | 24 | 2348 | 2359 | -11 |  418 |  444 | -26 | B6 |  739 | N605JB | JFK | PSE | 193 | 1617 | 23 | 59 | 2013-01-24 23:00:00 |\n",
       "| 2013 | 2 | 18 | 1600 | 1604 |  -4 | 1718 | 1739 | -21 | UA | 1053 | N76254 | EWR | ORD | 120 |  719 | 16 |  4 | 2013-02-18 16:00:00 |\n",
       "| 2013 | 2 | 27 | 2020 | 1900 |  80 | 2144 | 2018 |  86 | EV | 5714 | N827AS | JFK | IAD |  48 |  228 | 19 |  0 | 2013-02-27 19:00:00 |\n",
       "| 2013 | 2 | 18 | 2022 | 2010 |  12 | 2325 | 2321 |   4 | UA | 1299 | N37255 | EWR | RSW | 164 | 1068 | 20 | 10 | 2013-02-18 20:00:00 |\n",
       "| 2013 | 1 | 21 |  601 |  608 |  -7 |  654 |  725 | -31 | UA |  733 | N822UA | EWR | BOS |  32 |  200 |  6 |  8 | 2013-01-21 06:00:00 |\n",
       "| 2013 | 2 | 28 | 1459 | 1500 |  -1 | 1747 | 1742 |   5 | DL | 2347 | N6708D | LGA | ATL | 112 |  762 | 15 |  0 | 2013-02-28 15:00:00 |\n",
       "\n"
      ],
      "text/plain": [
       "   year month day dep_time sched_dep_time dep_delay arr_time sched_arr_time\n",
       "1  2013 1     16  2008     2005             3       2254     2258          \n",
       "2  2013 1     28   900      905            -5       1125     1115          \n",
       "3  2013 2     16  1758     1745            13       2114     2136          \n",
       "4  2013 1     18  1541     1530            11       1755     1734          \n",
       "5  2013 1     24  2348     2359           -11        418      444          \n",
       "6  2013 2     18  1600     1604            -4       1718     1739          \n",
       "7  2013 2     27  2020     1900            80       2144     2018          \n",
       "8  2013 2     18  2022     2010            12       2325     2321          \n",
       "9  2013 1     21   601      608            -7        654      725          \n",
       "10 2013 2     28  1459     1500            -1       1747     1742          \n",
       "   arr_delay carrier flight tailnum origin dest air_time distance hour minute\n",
       "1   -4       UA       405   N411UA  EWR    MCO  141       937     20    5    \n",
       "2   10       MQ      4478   N739MQ  LGA    DTW  109       502      9    5    \n",
       "3  -22       DL        31   N721TW  JFK    SFO  348      2586     17   45    \n",
       "4   21       US      1665   N716UW  LGA    CLT   86       544     15   30    \n",
       "5  -26       B6       739   N605JB  JFK    PSE  193      1617     23   59    \n",
       "6  -21       UA      1053   N76254  EWR    ORD  120       719     16    4    \n",
       "7   86       EV      5714   N827AS  JFK    IAD   48       228     19    0    \n",
       "8    4       UA      1299   N37255  EWR    RSW  164      1068     20   10    \n",
       "9  -31       UA       733   N822UA  EWR    BOS   32       200      6    8    \n",
       "10   5       DL      2347   N6708D  LGA    ATL  112       762     15    0    \n",
       "   time_hour          \n",
       "1  2013-01-16 20:00:00\n",
       "2  2013-01-28 09:00:00\n",
       "3  2013-02-16 17:00:00\n",
       "4  2013-01-18 15:00:00\n",
       "5  2013-01-24 23:00:00\n",
       "6  2013-02-18 16:00:00\n",
       "7  2013-02-27 19:00:00\n",
       "8  2013-02-18 20:00:00\n",
       "9  2013-01-21 06:00:00\n",
       "10 2013-02-28 15:00:00"
      ]
     },
     "metadata": {},
     "output_type": "display_data"
    }
   ],
   "source": [
    "# Flights that departed in January or February\n",
    "flights |> \n",
    "  filter(month == 1 | month == 2) |>\n",
    "  sample_n(10)"
   ]
  },
  {
   "cell_type": "code",
   "execution_count": 23,
   "metadata": {
    "vscode": {
     "languageId": "r"
    }
   },
   "outputs": [
    {
     "data": {
      "text/html": [
       "<table class=\"dataframe\">\n",
       "<caption>A tibble: 10 × 19</caption>\n",
       "<thead>\n",
       "\t<tr><th scope=col>year</th><th scope=col>month</th><th scope=col>day</th><th scope=col>dep_time</th><th scope=col>sched_dep_time</th><th scope=col>dep_delay</th><th scope=col>arr_time</th><th scope=col>sched_arr_time</th><th scope=col>arr_delay</th><th scope=col>carrier</th><th scope=col>flight</th><th scope=col>tailnum</th><th scope=col>origin</th><th scope=col>dest</th><th scope=col>air_time</th><th scope=col>distance</th><th scope=col>hour</th><th scope=col>minute</th><th scope=col>time_hour</th></tr>\n",
       "\t<tr><th scope=col>&lt;int&gt;</th><th scope=col>&lt;int&gt;</th><th scope=col>&lt;int&gt;</th><th scope=col>&lt;int&gt;</th><th scope=col>&lt;int&gt;</th><th scope=col>&lt;dbl&gt;</th><th scope=col>&lt;int&gt;</th><th scope=col>&lt;int&gt;</th><th scope=col>&lt;dbl&gt;</th><th scope=col>&lt;chr&gt;</th><th scope=col>&lt;int&gt;</th><th scope=col>&lt;chr&gt;</th><th scope=col>&lt;chr&gt;</th><th scope=col>&lt;chr&gt;</th><th scope=col>&lt;dbl&gt;</th><th scope=col>&lt;dbl&gt;</th><th scope=col>&lt;dbl&gt;</th><th scope=col>&lt;dbl&gt;</th><th scope=col>&lt;dttm&gt;</th></tr>\n",
       "</thead>\n",
       "<tbody>\n",
       "\t<tr><td>2013</td><td>1</td><td>24</td><td> 919</td><td> 920</td><td>-1</td><td>1242</td><td>1233</td><td>  9</td><td>UA</td><td>1275</td><td>N57869</td><td>EWR</td><td>LAX</td><td>332</td><td>2454</td><td> 9</td><td>20</td><td>2013-01-24 09:00:00</td></tr>\n",
       "\t<tr><td>2013</td><td>1</td><td> 4</td><td> 810</td><td> 810</td><td> 0</td><td>1029</td><td>1030</td><td> -1</td><td>FL</td><td> 346</td><td>N899AT</td><td>LGA</td><td>ATL</td><td>115</td><td> 762</td><td> 8</td><td>10</td><td>2013-01-04 08:00:00</td></tr>\n",
       "\t<tr><td>2013</td><td>1</td><td> 6</td><td>1126</td><td>1130</td><td>-4</td><td>1253</td><td>1306</td><td>-13</td><td>EV</td><td>4431</td><td>N16151</td><td>EWR</td><td>RDU</td><td> 75</td><td> 416</td><td>11</td><td>30</td><td>2013-01-06 11:00:00</td></tr>\n",
       "\t<tr><td>2013</td><td>1</td><td>22</td><td>1105</td><td>1105</td><td> 0</td><td>1241</td><td>1245</td><td> -4</td><td>WN</td><td> 542</td><td>N443WN</td><td>LGA</td><td>MDW</td><td>121</td><td> 725</td><td>11</td><td> 5</td><td>2013-01-22 11:00:00</td></tr>\n",
       "\t<tr><td>2013</td><td>1</td><td>31</td><td>1801</td><td>1800</td><td> 1</td><td>1922</td><td>1913</td><td>  9</td><td>US</td><td>2185</td><td>N748UW</td><td>LGA</td><td>DCA</td><td> 47</td><td> 214</td><td>18</td><td> 0</td><td>2013-01-31 18:00:00</td></tr>\n",
       "\t<tr><td>2013</td><td>1</td><td>30</td><td>1523</td><td>1345</td><td>98</td><td>1754</td><td>1641</td><td> 73</td><td>B6</td><td>1783</td><td>N805JB</td><td>JFK</td><td>MCO</td><td>139</td><td> 944</td><td>13</td><td>45</td><td>2013-01-30 13:00:00</td></tr>\n",
       "\t<tr><td>2013</td><td>1</td><td>25</td><td> 730</td><td> 710</td><td>20</td><td> 933</td><td> 850</td><td> 43</td><td>MQ</td><td>3737</td><td>N507MQ</td><td>EWR</td><td>ORD</td><td>129</td><td> 719</td><td> 7</td><td>10</td><td>2013-01-25 07:00:00</td></tr>\n",
       "\t<tr><td>2013</td><td>1</td><td> 5</td><td> 537</td><td> 540</td><td>-3</td><td> 831</td><td> 850</td><td>-19</td><td>AA</td><td>1141</td><td>N5DBAA</td><td>JFK</td><td>MIA</td><td>153</td><td>1089</td><td> 5</td><td>40</td><td>2013-01-05 05:00:00</td></tr>\n",
       "\t<tr><td>2013</td><td>2</td><td>26</td><td>1556</td><td>1605</td><td>-9</td><td>1912</td><td>1911</td><td>  1</td><td>B6</td><td> 157</td><td>N794JB</td><td>JFK</td><td>MCO</td><td>157</td><td> 944</td><td>16</td><td> 5</td><td>2013-02-26 16:00:00</td></tr>\n",
       "\t<tr><td>2013</td><td>2</td><td> 9</td><td>  NA</td><td>1600</td><td>NA</td><td>  NA</td><td>1730</td><td> NA</td><td>9E</td><td>3453</td><td>NA    </td><td>JFK</td><td>BOS</td><td> NA</td><td> 187</td><td>16</td><td> 0</td><td>2013-02-09 16:00:00</td></tr>\n",
       "</tbody>\n",
       "</table>\n"
      ],
      "text/latex": [
       "A tibble: 10 × 19\n",
       "\\begin{tabular}{lllllllllllllllllll}\n",
       " year & month & day & dep\\_time & sched\\_dep\\_time & dep\\_delay & arr\\_time & sched\\_arr\\_time & arr\\_delay & carrier & flight & tailnum & origin & dest & air\\_time & distance & hour & minute & time\\_hour\\\\\n",
       " <int> & <int> & <int> & <int> & <int> & <dbl> & <int> & <int> & <dbl> & <chr> & <int> & <chr> & <chr> & <chr> & <dbl> & <dbl> & <dbl> & <dbl> & <dttm>\\\\\n",
       "\\hline\n",
       "\t 2013 & 1 & 24 &  919 &  920 & -1 & 1242 & 1233 &   9 & UA & 1275 & N57869 & EWR & LAX & 332 & 2454 &  9 & 20 & 2013-01-24 09:00:00\\\\\n",
       "\t 2013 & 1 &  4 &  810 &  810 &  0 & 1029 & 1030 &  -1 & FL &  346 & N899AT & LGA & ATL & 115 &  762 &  8 & 10 & 2013-01-04 08:00:00\\\\\n",
       "\t 2013 & 1 &  6 & 1126 & 1130 & -4 & 1253 & 1306 & -13 & EV & 4431 & N16151 & EWR & RDU &  75 &  416 & 11 & 30 & 2013-01-06 11:00:00\\\\\n",
       "\t 2013 & 1 & 22 & 1105 & 1105 &  0 & 1241 & 1245 &  -4 & WN &  542 & N443WN & LGA & MDW & 121 &  725 & 11 &  5 & 2013-01-22 11:00:00\\\\\n",
       "\t 2013 & 1 & 31 & 1801 & 1800 &  1 & 1922 & 1913 &   9 & US & 2185 & N748UW & LGA & DCA &  47 &  214 & 18 &  0 & 2013-01-31 18:00:00\\\\\n",
       "\t 2013 & 1 & 30 & 1523 & 1345 & 98 & 1754 & 1641 &  73 & B6 & 1783 & N805JB & JFK & MCO & 139 &  944 & 13 & 45 & 2013-01-30 13:00:00\\\\\n",
       "\t 2013 & 1 & 25 &  730 &  710 & 20 &  933 &  850 &  43 & MQ & 3737 & N507MQ & EWR & ORD & 129 &  719 &  7 & 10 & 2013-01-25 07:00:00\\\\\n",
       "\t 2013 & 1 &  5 &  537 &  540 & -3 &  831 &  850 & -19 & AA & 1141 & N5DBAA & JFK & MIA & 153 & 1089 &  5 & 40 & 2013-01-05 05:00:00\\\\\n",
       "\t 2013 & 2 & 26 & 1556 & 1605 & -9 & 1912 & 1911 &   1 & B6 &  157 & N794JB & JFK & MCO & 157 &  944 & 16 &  5 & 2013-02-26 16:00:00\\\\\n",
       "\t 2013 & 2 &  9 &   NA & 1600 & NA &   NA & 1730 &  NA & 9E & 3453 & NA     & JFK & BOS &  NA &  187 & 16 &  0 & 2013-02-09 16:00:00\\\\\n",
       "\\end{tabular}\n"
      ],
      "text/markdown": [
       "\n",
       "A tibble: 10 × 19\n",
       "\n",
       "| year &lt;int&gt; | month &lt;int&gt; | day &lt;int&gt; | dep_time &lt;int&gt; | sched_dep_time &lt;int&gt; | dep_delay &lt;dbl&gt; | arr_time &lt;int&gt; | sched_arr_time &lt;int&gt; | arr_delay &lt;dbl&gt; | carrier &lt;chr&gt; | flight &lt;int&gt; | tailnum &lt;chr&gt; | origin &lt;chr&gt; | dest &lt;chr&gt; | air_time &lt;dbl&gt; | distance &lt;dbl&gt; | hour &lt;dbl&gt; | minute &lt;dbl&gt; | time_hour &lt;dttm&gt; |\n",
       "|---|---|---|---|---|---|---|---|---|---|---|---|---|---|---|---|---|---|---|\n",
       "| 2013 | 1 | 24 |  919 |  920 | -1 | 1242 | 1233 |   9 | UA | 1275 | N57869 | EWR | LAX | 332 | 2454 |  9 | 20 | 2013-01-24 09:00:00 |\n",
       "| 2013 | 1 |  4 |  810 |  810 |  0 | 1029 | 1030 |  -1 | FL |  346 | N899AT | LGA | ATL | 115 |  762 |  8 | 10 | 2013-01-04 08:00:00 |\n",
       "| 2013 | 1 |  6 | 1126 | 1130 | -4 | 1253 | 1306 | -13 | EV | 4431 | N16151 | EWR | RDU |  75 |  416 | 11 | 30 | 2013-01-06 11:00:00 |\n",
       "| 2013 | 1 | 22 | 1105 | 1105 |  0 | 1241 | 1245 |  -4 | WN |  542 | N443WN | LGA | MDW | 121 |  725 | 11 |  5 | 2013-01-22 11:00:00 |\n",
       "| 2013 | 1 | 31 | 1801 | 1800 |  1 | 1922 | 1913 |   9 | US | 2185 | N748UW | LGA | DCA |  47 |  214 | 18 |  0 | 2013-01-31 18:00:00 |\n",
       "| 2013 | 1 | 30 | 1523 | 1345 | 98 | 1754 | 1641 |  73 | B6 | 1783 | N805JB | JFK | MCO | 139 |  944 | 13 | 45 | 2013-01-30 13:00:00 |\n",
       "| 2013 | 1 | 25 |  730 |  710 | 20 |  933 |  850 |  43 | MQ | 3737 | N507MQ | EWR | ORD | 129 |  719 |  7 | 10 | 2013-01-25 07:00:00 |\n",
       "| 2013 | 1 |  5 |  537 |  540 | -3 |  831 |  850 | -19 | AA | 1141 | N5DBAA | JFK | MIA | 153 | 1089 |  5 | 40 | 2013-01-05 05:00:00 |\n",
       "| 2013 | 2 | 26 | 1556 | 1605 | -9 | 1912 | 1911 |   1 | B6 |  157 | N794JB | JFK | MCO | 157 |  944 | 16 |  5 | 2013-02-26 16:00:00 |\n",
       "| 2013 | 2 |  9 |   NA | 1600 | NA |   NA | 1730 |  NA | 9E | 3453 | NA     | JFK | BOS |  NA |  187 | 16 |  0 | 2013-02-09 16:00:00 |\n",
       "\n"
      ],
      "text/plain": [
       "   year month day dep_time sched_dep_time dep_delay arr_time sched_arr_time\n",
       "1  2013 1     24   919      920           -1        1242     1233          \n",
       "2  2013 1      4   810      810            0        1029     1030          \n",
       "3  2013 1      6  1126     1130           -4        1253     1306          \n",
       "4  2013 1     22  1105     1105            0        1241     1245          \n",
       "5  2013 1     31  1801     1800            1        1922     1913          \n",
       "6  2013 1     30  1523     1345           98        1754     1641          \n",
       "7  2013 1     25   730      710           20         933      850          \n",
       "8  2013 1      5   537      540           -3         831      850          \n",
       "9  2013 2     26  1556     1605           -9        1912     1911          \n",
       "10 2013 2      9    NA     1600           NA          NA     1730          \n",
       "   arr_delay carrier flight tailnum origin dest air_time distance hour minute\n",
       "1    9       UA      1275   N57869  EWR    LAX  332      2454      9   20    \n",
       "2   -1       FL       346   N899AT  LGA    ATL  115       762      8   10    \n",
       "3  -13       EV      4431   N16151  EWR    RDU   75       416     11   30    \n",
       "4   -4       WN       542   N443WN  LGA    MDW  121       725     11    5    \n",
       "5    9       US      2185   N748UW  LGA    DCA   47       214     18    0    \n",
       "6   73       B6      1783   N805JB  JFK    MCO  139       944     13   45    \n",
       "7   43       MQ      3737   N507MQ  EWR    ORD  129       719      7   10    \n",
       "8  -19       AA      1141   N5DBAA  JFK    MIA  153      1089      5   40    \n",
       "9    1       B6       157   N794JB  JFK    MCO  157       944     16    5    \n",
       "10  NA       9E      3453   NA      JFK    BOS   NA       187     16    0    \n",
       "   time_hour          \n",
       "1  2013-01-24 09:00:00\n",
       "2  2013-01-04 08:00:00\n",
       "3  2013-01-06 11:00:00\n",
       "4  2013-01-22 11:00:00\n",
       "5  2013-01-31 18:00:00\n",
       "6  2013-01-30 13:00:00\n",
       "7  2013-01-25 07:00:00\n",
       "8  2013-01-05 05:00:00\n",
       "9  2013-02-26 16:00:00\n",
       "10 2013-02-09 16:00:00"
      ]
     },
     "metadata": {},
     "output_type": "display_data"
    }
   ],
   "source": [
    "# A shorter way to select flights that departed in January or February\n",
    "flights |> \n",
    "  filter(month %in% c(1, 2)) |>\n",
    "  sample_n(10)"
   ]
  }
 ],
 "metadata": {
  "kernelspec": {
   "display_name": "R",
   "language": "R",
   "name": "ir"
  },
  "language_info": {
   "codemirror_mode": "r",
   "file_extension": ".r",
   "mimetype": "text/x-r-source",
   "name": "R",
   "pygments_lexer": "r",
   "version": "4.3.2"
  }
 },
 "nbformat": 4,
 "nbformat_minor": 2
}
