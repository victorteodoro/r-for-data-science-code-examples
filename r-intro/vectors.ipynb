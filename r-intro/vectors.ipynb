{
 "cells": [
  {
   "cell_type": "markdown",
   "metadata": {},
   "source": [
    "# Vector Manipulation\n",
    "Vectors are the basic data structures in R. Even standalone numbers, like 1 or 2, are considered vectors of only one element. This has many implications to how R works and is a consequence of the statistical work it was designed to enable."
   ]
  },
  {
   "cell_type": "code",
   "execution_count": 1,
   "metadata": {
    "vscode": {
     "languageId": "r"
    }
   },
   "outputs": [],
   "source": [
    "# Creating a vector\n",
    "x <- c(10.4, 5.6, 3.1, 6.4, 21.7)"
   ]
  },
  {
   "cell_type": "code",
   "execution_count": 9,
   "metadata": {
    "vscode": {
     "languageId": "r"
    }
   },
   "outputs": [
    {
     "data": {
      "text/html": [
       "<style>\n",
       ".list-inline {list-style: none; margin:0; padding: 0}\n",
       ".list-inline>li {display: inline-block}\n",
       ".list-inline>li:not(:last-child)::after {content: \"\\00b7\"; padding: 0 .5ex}\n",
       "</style>\n",
       "<ol class=list-inline><li>11.4</li><li>6.6</li><li>4.1</li><li>7.4</li><li>22.7</li></ol>\n"
      ],
      "text/latex": [
       "\\begin{enumerate*}\n",
       "\\item 11.4\n",
       "\\item 6.6\n",
       "\\item 4.1\n",
       "\\item 7.4\n",
       "\\item 22.7\n",
       "\\end{enumerate*}\n"
      ],
      "text/markdown": [
       "1. 11.4\n",
       "2. 6.6\n",
       "3. 4.1\n",
       "4. 7.4\n",
       "5. 22.7\n",
       "\n",
       "\n"
      ],
      "text/plain": [
       "[1] 11.4  6.6  4.1  7.4 22.7"
      ]
     },
     "metadata": {},
     "output_type": "display_data"
    },
    {
     "data": {
      "text/html": [
       "<style>\n",
       ".list-inline {list-style: none; margin:0; padding: 0}\n",
       ".list-inline>li {display: inline-block}\n",
       ".list-inline>li:not(:last-child)::after {content: \"\\00b7\"; padding: 0 .5ex}\n",
       "</style>\n",
       "<ol class=list-inline><li>20.8</li><li>11.2</li><li>6.2</li><li>12.8</li><li>43.4</li></ol>\n"
      ],
      "text/latex": [
       "\\begin{enumerate*}\n",
       "\\item 20.8\n",
       "\\item 11.2\n",
       "\\item 6.2\n",
       "\\item 12.8\n",
       "\\item 43.4\n",
       "\\end{enumerate*}\n"
      ],
      "text/markdown": [
       "1. 20.8\n",
       "2. 11.2\n",
       "3. 6.2\n",
       "4. 12.8\n",
       "5. 43.4\n",
       "\n",
       "\n"
      ],
      "text/plain": [
       "[1] 20.8 11.2  6.2 12.8 43.4"
      ]
     },
     "metadata": {},
     "output_type": "display_data"
    },
    {
     "data": {
      "text/html": [
       "<style>\n",
       ".list-inline {list-style: none; margin:0; padding: 0}\n",
       ".list-inline>li {display: inline-block}\n",
       ".list-inline>li:not(:last-child)::after {content: \"\\00b7\"; padding: 0 .5ex}\n",
       "</style>\n",
       "<ol class=list-inline><li>108.16</li><li>31.36</li><li>9.61</li><li>40.96</li><li>470.89</li></ol>\n"
      ],
      "text/latex": [
       "\\begin{enumerate*}\n",
       "\\item 108.16\n",
       "\\item 31.36\n",
       "\\item 9.61\n",
       "\\item 40.96\n",
       "\\item 470.89\n",
       "\\end{enumerate*}\n"
      ],
      "text/markdown": [
       "1. 108.16\n",
       "2. 31.36\n",
       "3. 9.61\n",
       "4. 40.96\n",
       "5. 470.89\n",
       "\n",
       "\n"
      ],
      "text/plain": [
       "[1] 108.16  31.36   9.61  40.96 470.89"
      ]
     },
     "metadata": {},
     "output_type": "display_data"
    },
    {
     "data": {
      "text/html": [
       "<style>\n",
       ".list-inline {list-style: none; margin:0; padding: 0}\n",
       ".list-inline>li {display: inline-block}\n",
       ".list-inline>li:not(:last-child)::after {content: \"\\00b7\"; padding: 0 .5ex}\n",
       "</style>\n",
       "<ol class=list-inline><li>0.0961538461538461</li><li>0.178571428571429</li><li>0.32258064516129</li><li>0.15625</li><li>0.0460829493087558</li></ol>\n"
      ],
      "text/latex": [
       "\\begin{enumerate*}\n",
       "\\item 0.0961538461538461\n",
       "\\item 0.178571428571429\n",
       "\\item 0.32258064516129\n",
       "\\item 0.15625\n",
       "\\item 0.0460829493087558\n",
       "\\end{enumerate*}\n"
      ],
      "text/markdown": [
       "1. 0.0961538461538461\n",
       "2. 0.178571428571429\n",
       "3. 0.32258064516129\n",
       "4. 0.15625\n",
       "5. 0.0460829493087558\n",
       "\n",
       "\n"
      ],
      "text/plain": [
       "[1] 0.09615385 0.17857143 0.32258065 0.15625000 0.04608295"
      ]
     },
     "metadata": {},
     "output_type": "display_data"
    }
   ],
   "source": [
    "# Vector arithmentic\n",
    "x + 1\n",
    "x * 2\n",
    "x ^ 2\n",
    "1 / x"
   ]
  },
  {
   "cell_type": "code",
   "execution_count": 8,
   "metadata": {
    "vscode": {
     "languageId": "r"
    }
   },
   "outputs": [
    {
     "data": {
      "text/html": [
       "<style>\n",
       ".list-inline {list-style: none; margin:0; padding: 0}\n",
       ".list-inline>li {display: inline-block}\n",
       ".list-inline>li:not(:last-child)::after {content: \"\\00b7\"; padding: 0 .5ex}\n",
       "</style>\n",
       "<ol class=list-inline><li>10.4</li><li>5.6</li><li>3.1</li><li>6.4</li><li>21.7</li><li>1</li><li>2</li><li>3</li><li>4</li><li>5</li><li>10.4</li><li>5.6</li><li>3.1</li><li>6.4</li><li>21.7</li></ol>\n"
      ],
      "text/latex": [
       "\\begin{enumerate*}\n",
       "\\item 10.4\n",
       "\\item 5.6\n",
       "\\item 3.1\n",
       "\\item 6.4\n",
       "\\item 21.7\n",
       "\\item 1\n",
       "\\item 2\n",
       "\\item 3\n",
       "\\item 4\n",
       "\\item 5\n",
       "\\item 10.4\n",
       "\\item 5.6\n",
       "\\item 3.1\n",
       "\\item 6.4\n",
       "\\item 21.7\n",
       "\\end{enumerate*}\n"
      ],
      "text/markdown": [
       "1. 10.4\n",
       "2. 5.6\n",
       "3. 3.1\n",
       "4. 6.4\n",
       "5. 21.7\n",
       "6. 1\n",
       "7. 2\n",
       "8. 3\n",
       "9. 4\n",
       "10. 5\n",
       "11. 10.4\n",
       "12. 5.6\n",
       "13. 3.1\n",
       "14. 6.4\n",
       "15. 21.7\n",
       "\n",
       "\n"
      ],
      "text/plain": [
       " [1] 10.4  5.6  3.1  6.4 21.7  1.0  2.0  3.0  4.0  5.0 10.4  5.6  3.1  6.4 21.7"
      ]
     },
     "metadata": {},
     "output_type": "display_data"
    },
    {
     "data": {
      "text/html": [
       "<style>\n",
       ".list-inline {list-style: none; margin:0; padding: 0}\n",
       ".list-inline>li {display: inline-block}\n",
       ".list-inline>li:not(:last-child)::after {content: \"\\00b7\"; padding: 0 .5ex}\n",
       "</style>\n",
       "<ol class=list-inline><li>16.6</li><li>9.4</li><li>5.65</li><li>10.6</li><li>33.55</li><li>7.2</li><li>5.8</li><li>5.55</li><li>8.2</li><li>16.85</li><li>16.6</li><li>9.4</li><li>5.65</li><li>10.6</li><li>33.55</li></ol>\n"
      ],
      "text/latex": [
       "\\begin{enumerate*}\n",
       "\\item 16.6\n",
       "\\item 9.4\n",
       "\\item 5.65\n",
       "\\item 10.6\n",
       "\\item 33.55\n",
       "\\item 7.2\n",
       "\\item 5.8\n",
       "\\item 5.55\n",
       "\\item 8.2\n",
       "\\item 16.85\n",
       "\\item 16.6\n",
       "\\item 9.4\n",
       "\\item 5.65\n",
       "\\item 10.6\n",
       "\\item 33.55\n",
       "\\end{enumerate*}\n"
      ],
      "text/markdown": [
       "1. 16.6\n",
       "2. 9.4\n",
       "3. 5.65\n",
       "4. 10.6\n",
       "5. 33.55\n",
       "6. 7.2\n",
       "7. 5.8\n",
       "8. 5.55\n",
       "9. 8.2\n",
       "10. 16.85\n",
       "11. 16.6\n",
       "12. 9.4\n",
       "13. 5.65\n",
       "14. 10.6\n",
       "15. 33.55\n",
       "\n",
       "\n"
      ],
      "text/plain": [
       " [1] 16.60  9.40  5.65 10.60 33.55  7.20  5.80  5.55  8.20 16.85 16.60  9.40\n",
       "[13]  5.65 10.60 33.55"
      ]
     },
     "metadata": {},
     "output_type": "display_data"
    }
   ],
   "source": [
    "# Vectors are recycled when vectors of different lengths are involved\n",
    "y <- c(x, 1, 2, 3, 4, 5, x); y\n",
    "v <- (2*y + x + 2) / 2; v"
   ]
  },
  {
   "cell_type": "code",
   "execution_count": 13,
   "metadata": {
    "vscode": {
     "languageId": "r"
    }
   },
   "outputs": [
    {
     "name": "stdout",
     "output_type": "stream",
     "text": [
      "The mean is just a simple mean: 9.44 == 9.44 \n",
      "Two ways to calculate the variance: 53.853 == 53.853 \n"
     ]
    }
   ],
   "source": [
    "# Basic statistical functions\n",
    "cat(\"The mean is just a simple mean:\", mean(x), \"==\", sum(x) / length(x), '\\n')\n",
    "cat(\"Two ways to calculate the variance:\", var(x), '==', sum((x-mean(x))^2)/(length(x)-1), '\\n')\n"
   ]
  },
  {
   "cell_type": "code",
   "execution_count": 14,
   "metadata": {
    "vscode": {
     "languageId": "r"
    }
   },
   "outputs": [
    {
     "data": {
      "text/html": [
       "<style>\n",
       ".list-inline {list-style: none; margin:0; padding: 0}\n",
       ".list-inline>li {display: inline-block}\n",
       ".list-inline>li:not(:last-child)::after {content: \"\\00b7\"; padding: 0 .5ex}\n",
       "</style>\n",
       "<ol class=list-inline><li>3.1</li><li>5.6</li><li>6.4</li><li>10.4</li><li>21.7</li></ol>\n"
      ],
      "text/latex": [
       "\\begin{enumerate*}\n",
       "\\item 3.1\n",
       "\\item 5.6\n",
       "\\item 6.4\n",
       "\\item 10.4\n",
       "\\item 21.7\n",
       "\\end{enumerate*}\n"
      ],
      "text/markdown": [
       "1. 3.1\n",
       "2. 5.6\n",
       "3. 6.4\n",
       "4. 10.4\n",
       "5. 21.7\n",
       "\n",
       "\n"
      ],
      "text/plain": [
       "[1]  3.1  5.6  6.4 10.4 21.7"
      ]
     },
     "metadata": {},
     "output_type": "display_data"
    },
    {
     "data": {
      "text/html": [
       "<style>\n",
       ".list-inline {list-style: none; margin:0; padding: 0}\n",
       ".list-inline>li {display: inline-block}\n",
       ".list-inline>li:not(:last-child)::after {content: \"\\00b7\"; padding: 0 .5ex}\n",
       "</style>\n",
       "<ol class=list-inline><li>21.7</li><li>10.4</li><li>6.4</li><li>5.6</li><li>3.1</li></ol>\n"
      ],
      "text/latex": [
       "\\begin{enumerate*}\n",
       "\\item 21.7\n",
       "\\item 10.4\n",
       "\\item 6.4\n",
       "\\item 5.6\n",
       "\\item 3.1\n",
       "\\end{enumerate*}\n"
      ],
      "text/markdown": [
       "1. 21.7\n",
       "2. 10.4\n",
       "3. 6.4\n",
       "4. 5.6\n",
       "5. 3.1\n",
       "\n",
       "\n"
      ],
      "text/plain": [
       "[1] 21.7 10.4  6.4  5.6  3.1"
      ]
     },
     "metadata": {},
     "output_type": "display_data"
    }
   ],
   "source": [
    "# Sorting\n",
    "sort(x)\n",
    "sort(x, decreasing = TRUE)"
   ]
  },
  {
   "cell_type": "code",
   "execution_count": 17,
   "metadata": {
    "vscode": {
     "languageId": "r"
    }
   },
   "outputs": [
    {
     "data": {
      "text/html": [
       "<style>\n",
       ".list-inline {list-style: none; margin:0; padding: 0}\n",
       ".list-inline>li {display: inline-block}\n",
       ".list-inline>li:not(:last-child)::after {content: \"\\00b7\"; padding: 0 .5ex}\n",
       "</style>\n",
       "<ol class=list-inline><li>3.22490309931942</li><li>2.36643191323985</li><li>1.7606816861659</li><li>2.5298221281347</li><li>4.65832587954085</li></ol>\n"
      ],
      "text/latex": [
       "\\begin{enumerate*}\n",
       "\\item 3.22490309931942\n",
       "\\item 2.36643191323985\n",
       "\\item 1.7606816861659\n",
       "\\item 2.5298221281347\n",
       "\\item 4.65832587954085\n",
       "\\end{enumerate*}\n"
      ],
      "text/markdown": [
       "1. 3.22490309931942\n",
       "2. 2.36643191323985\n",
       "3. 1.7606816861659\n",
       "4. 2.5298221281347\n",
       "5. 4.65832587954085\n",
       "\n",
       "\n"
      ],
      "text/plain": [
       "[1] 3.224903 2.366432 1.760682 2.529822 4.658326"
      ]
     },
     "metadata": {},
     "output_type": "display_data"
    },
    {
     "name": "stderr",
     "output_type": "stream",
     "text": [
      "Warning message in sqrt(-2):\n",
      "“NaNs produced”\n"
     ]
    },
    {
     "data": {
      "text/html": [
       "NaN"
      ],
      "text/latex": [
       "NaN"
      ],
      "text/markdown": [
       "NaN"
      ],
      "text/plain": [
       "[1] NaN"
      ]
     },
     "metadata": {},
     "output_type": "display_data"
    },
    {
     "data": {
      "text/html": [
       "1.55377397403004+0.64359425290558i"
      ],
      "text/latex": [
       "1.55377397403004+0.64359425290558i"
      ],
      "text/markdown": [
       "1.55377397403004+0.64359425290558i"
      ],
      "text/plain": [
       "[1] 1.553774+0.643594i"
      ]
     },
     "metadata": {},
     "output_type": "display_data"
    }
   ],
   "source": [
    "# Working with complex number\n",
    "sqrt(x)\n",
    "sqrt(-2) # This producs a NaN value and a warning\n",
    "sqrt(2 + 2i) # Explicitly supply the complex component for functions to work properly"
   ]
  }
 ],
 "metadata": {
  "kernelspec": {
   "display_name": "R",
   "language": "R",
   "name": "ir"
  },
  "language_info": {
   "codemirror_mode": "r",
   "file_extension": ".r",
   "mimetype": "text/x-r-source",
   "name": "R",
   "pygments_lexer": "r",
   "version": "4.2.3"
  },
  "orig_nbformat": 4
 },
 "nbformat": 4,
 "nbformat_minor": 2
}
