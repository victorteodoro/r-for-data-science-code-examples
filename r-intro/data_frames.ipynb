{
 "cells": [
  {
   "cell_type": "markdown",
   "metadata": {},
   "source": [
    "# Data Frames\n",
    "How to do basic manipulation with Data Frames? How to run \"queries\" of their columns?\n"
   ]
  },
  {
   "cell_type": "markdown",
   "metadata": {},
   "source": [
    "Let's import the `readr` package to use its fast `read_csv` function"
   ]
  },
  {
   "cell_type": "code",
   "execution_count": 2,
   "metadata": {
    "vscode": {
     "languageId": "r"
    }
   },
   "outputs": [],
   "source": [
    "# install.packages(\"readr\")\n",
    "library(\"readr\")"
   ]
  },
  {
   "cell_type": "markdown",
   "metadata": {},
   "source": [
    "Now let's pick a `data.frame` to work with. I got this one 👇 from [Kaggle](https://www.kaggle.com/datasets/claymaker/us-largest-companies). It's very interesting and mixes data of different modes (or types)."
   ]
  },
  {
   "cell_type": "code",
   "execution_count": 3,
   "metadata": {
    "vscode": {
     "languageId": "r"
    }
   },
   "outputs": [
    {
     "name": "stderr",
     "output_type": "stream",
     "text": [
      "\u001b[1mRows: \u001b[22m\u001b[34m100\u001b[39m \u001b[1mColumns: \u001b[22m\u001b[34m7\u001b[39m\n",
      "\u001b[36m──\u001b[39m \u001b[1mColumn specification\u001b[22m \u001b[36m────────────────────────────────────────────────────────\u001b[39m\n",
      "\u001b[1mDelimiter:\u001b[22m \",\"\n",
      "\u001b[31mchr\u001b[39m (4): Name, Industry, Revenue growth, Headquarters\n",
      "\u001b[32mdbl\u001b[39m (1): Rank\n",
      "\u001b[32mnum\u001b[39m (2): Revenue (USD millions), Employees\n",
      "\n",
      "\u001b[36mℹ\u001b[39m Use `spec()` to retrieve the full column specification for this data.\n",
      "\u001b[36mℹ\u001b[39m Specify the column types or set `show_col_types = FALSE` to quiet this message.\n"
     ]
    },
    {
     "data": {
      "text/html": [
       "<table class=\"dataframe\">\n",
       "<caption>A tibble: 6 × 7</caption>\n",
       "<thead>\n",
       "\t<tr><th scope=col>Rank</th><th scope=col>Name</th><th scope=col>Industry</th><th scope=col>Revenue (USD millions)</th><th scope=col>Revenue growth</th><th scope=col>Employees</th><th scope=col>Headquarters</th></tr>\n",
       "\t<tr><th scope=col>&lt;dbl&gt;</th><th scope=col>&lt;chr&gt;</th><th scope=col>&lt;chr&gt;</th><th scope=col>&lt;dbl&gt;</th><th scope=col>&lt;chr&gt;</th><th scope=col>&lt;dbl&gt;</th><th scope=col>&lt;chr&gt;</th></tr>\n",
       "</thead>\n",
       "<tbody>\n",
       "\t<tr><td>1</td><td>Walmart           </td><td>Retail                    </td><td>611289</td><td>6.7% </td><td>2100000</td><td>Bentonville, Arkansas   </td></tr>\n",
       "\t<tr><td>2</td><td>Amazon            </td><td>Retail and Cloud Computing</td><td>513983</td><td>9.4% </td><td>1540000</td><td>Seattle, Washington     </td></tr>\n",
       "\t<tr><td>3</td><td>Exxon Mobil       </td><td>Petroleum industry        </td><td>413680</td><td>44.8%</td><td>  62000</td><td>Spring, Texas           </td></tr>\n",
       "\t<tr><td>4</td><td>Apple             </td><td>Electronics industry      </td><td>394328</td><td>7.8% </td><td> 164000</td><td>Cupertino, California   </td></tr>\n",
       "\t<tr><td>5</td><td>UnitedHealth Group</td><td>Healthcare                </td><td>324162</td><td>12.7%</td><td> 400000</td><td>Minnetonka, Minnesota   </td></tr>\n",
       "\t<tr><td>6</td><td>CVS Health        </td><td>Healthcare                </td><td>322467</td><td>10.4%</td><td> 259500</td><td>Woonsocket, Rhode Island</td></tr>\n",
       "</tbody>\n",
       "</table>\n"
      ],
      "text/latex": [
       "A tibble: 6 × 7\n",
       "\\begin{tabular}{lllllll}\n",
       " Rank & Name & Industry & Revenue (USD millions) & Revenue growth & Employees & Headquarters\\\\\n",
       " <dbl> & <chr> & <chr> & <dbl> & <chr> & <dbl> & <chr>\\\\\n",
       "\\hline\n",
       "\t 1 & Walmart            & Retail                     & 611289 & 6.7\\%  & 2100000 & Bentonville, Arkansas   \\\\\n",
       "\t 2 & Amazon             & Retail and Cloud Computing & 513983 & 9.4\\%  & 1540000 & Seattle, Washington     \\\\\n",
       "\t 3 & Exxon Mobil        & Petroleum industry         & 413680 & 44.8\\% &   62000 & Spring, Texas           \\\\\n",
       "\t 4 & Apple              & Electronics industry       & 394328 & 7.8\\%  &  164000 & Cupertino, California   \\\\\n",
       "\t 5 & UnitedHealth Group & Healthcare                 & 324162 & 12.7\\% &  400000 & Minnetonka, Minnesota   \\\\\n",
       "\t 6 & CVS Health         & Healthcare                 & 322467 & 10.4\\% &  259500 & Woonsocket, Rhode Island\\\\\n",
       "\\end{tabular}\n"
      ],
      "text/markdown": [
       "\n",
       "A tibble: 6 × 7\n",
       "\n",
       "| Rank &lt;dbl&gt; | Name &lt;chr&gt; | Industry &lt;chr&gt; | Revenue (USD millions) &lt;dbl&gt; | Revenue growth &lt;chr&gt; | Employees &lt;dbl&gt; | Headquarters &lt;chr&gt; |\n",
       "|---|---|---|---|---|---|---|\n",
       "| 1 | Walmart            | Retail                     | 611289 | 6.7%  | 2100000 | Bentonville, Arkansas    |\n",
       "| 2 | Amazon             | Retail and Cloud Computing | 513983 | 9.4%  | 1540000 | Seattle, Washington      |\n",
       "| 3 | Exxon Mobil        | Petroleum industry         | 413680 | 44.8% |   62000 | Spring, Texas            |\n",
       "| 4 | Apple              | Electronics industry       | 394328 | 7.8%  |  164000 | Cupertino, California    |\n",
       "| 5 | UnitedHealth Group | Healthcare                 | 324162 | 12.7% |  400000 | Minnetonka, Minnesota    |\n",
       "| 6 | CVS Health         | Healthcare                 | 322467 | 10.4% |  259500 | Woonsocket, Rhode Island |\n",
       "\n"
      ],
      "text/plain": [
       "  Rank Name               Industry                   Revenue (USD millions)\n",
       "1 1    Walmart            Retail                     611289                \n",
       "2 2    Amazon             Retail and Cloud Computing 513983                \n",
       "3 3    Exxon Mobil        Petroleum industry         413680                \n",
       "4 4    Apple              Electronics industry       394328                \n",
       "5 5    UnitedHealth Group Healthcare                 324162                \n",
       "6 6    CVS Health         Healthcare                 322467                \n",
       "  Revenue growth Employees Headquarters            \n",
       "1 6.7%           2100000   Bentonville, Arkansas   \n",
       "2 9.4%           1540000   Seattle, Washington     \n",
       "3 44.8%            62000   Spring, Texas           \n",
       "4 7.8%            164000   Cupertino, California   \n",
       "5 12.7%           400000   Minnetonka, Minnesota   \n",
       "6 10.4%           259500   Woonsocket, Rhode Island"
      ]
     },
     "metadata": {},
     "output_type": "display_data"
    }
   ],
   "source": [
    "us_largest_incomes <- read_csv(\"webscrape.csv\")\n",
    "head(us_largest_incomes)"
   ]
  },
  {
   "cell_type": "code",
   "execution_count": 29,
   "metadata": {
    "vscode": {
     "languageId": "r"
    }
   },
   "outputs": [
    {
     "data": {
      "text/html": [
       "100"
      ],
      "text/latex": [
       "100"
      ],
      "text/markdown": [
       "100"
      ],
      "text/plain": [
       "[1] 100"
      ]
     },
     "metadata": {},
     "output_type": "display_data"
    }
   ],
   "source": [
    "length(us_largest_incomes$Rank)"
   ]
  },
  {
   "cell_type": "code",
   "execution_count": 32,
   "metadata": {
    "vscode": {
     "languageId": "r"
    }
   },
   "outputs": [
    {
     "data": {
      "text/html": [
       "'numeric'"
      ],
      "text/latex": [
       "'numeric'"
      ],
      "text/markdown": [
       "'numeric'"
      ],
      "text/plain": [
       "[1] \"numeric\""
      ]
     },
     "metadata": {},
     "output_type": "display_data"
    },
    {
     "data": {
      "text/html": [
       "'character'"
      ],
      "text/latex": [
       "'character'"
      ],
      "text/markdown": [
       "'character'"
      ],
      "text/plain": [
       "[1] \"character\""
      ]
     },
     "metadata": {},
     "output_type": "display_data"
    },
    {
     "data": {
      "text/html": [
       "'numeric'"
      ],
      "text/latex": [
       "'numeric'"
      ],
      "text/markdown": [
       "'numeric'"
      ],
      "text/plain": [
       "[1] \"numeric\""
      ]
     },
     "metadata": {},
     "output_type": "display_data"
    }
   ],
   "source": [
    "class(us_largest_incomes$Rank)\n",
    "class(us_largest_incomes$Name)\n",
    "class(us_largest_incomes$\"Revenue (USD millions)\")"
   ]
  },
  {
   "cell_type": "code",
   "execution_count": 41,
   "metadata": {
    "vscode": {
     "languageId": "r"
    }
   },
   "outputs": [
    {
     "data": {
      "text/html": [
       "117566.46"
      ],
      "text/latex": [
       "117566.46"
      ],
      "text/markdown": [
       "117566.46"
      ],
      "text/plain": [
       "[1] 117566.5"
      ]
     },
     "metadata": {},
     "output_type": "display_data"
    },
    {
     "data": {
      "text/html": [
       "80824.5"
      ],
      "text/latex": [
       "80824.5"
      ],
      "text/markdown": [
       "80824.5"
      ],
      "text/plain": [
       "[1] 80824.5"
      ]
     },
     "metadata": {},
     "output_type": "display_data"
    },
    {
     "data": {
      "text/html": [
       "<style>\n",
       ".dl-inline {width: auto; margin:0; padding: 0}\n",
       ".dl-inline>dt, .dl-inline>dd {float: none; width: auto; display: inline-block}\n",
       ".dl-inline>dt::after {content: \":\\0020\"; padding-right: .5ex}\n",
       ".dl-inline>dt:not(:first-of-type) {padding-left: .5ex}\n",
       "</style><dl class=dl-inline><dt>25%</dt><dd>57876</dd><dt>50%</dt><dd>80824.5</dd><dt>75%</dt><dd>138763</dd><dt>95%</dt><dd>322551.75</dd><dt>99%</dt><dd>514956.06</dd></dl>\n"
      ],
      "text/latex": [
       "\\begin{description*}\n",
       "\\item[25\\textbackslash{}\\%] 57876\n",
       "\\item[50\\textbackslash{}\\%] 80824.5\n",
       "\\item[75\\textbackslash{}\\%] 138763\n",
       "\\item[95\\textbackslash{}\\%] 322551.75\n",
       "\\item[99\\textbackslash{}\\%] 514956.06\n",
       "\\end{description*}\n"
      ],
      "text/markdown": [
       "25%\n",
       ":   5787650%\n",
       ":   80824.575%\n",
       ":   13876395%\n",
       ":   322551.7599%\n",
       ":   514956.06\n",
       "\n"
      ],
      "text/plain": [
       "     25%      50%      75%      95%      99% \n",
       " 57876.0  80824.5 138763.0 322551.8 514956.1 "
      ]
     },
     "metadata": {},
     "output_type": "display_data"
    }
   ],
   "source": [
    "mean(us_largest_incomes$\"Revenue (USD millions)\")\n",
    "median(us_largest_incomes$\"Revenue (USD millions)\")\n",
    "quantile(us_largest_incomes$\"Revenue (USD millions)\", prob = c(.25, .5, .75, .95, .99))\n"
   ]
  },
  {
   "cell_type": "markdown",
   "metadata": {},
   "source": [
    "How many of them are in California?"
   ]
  },
  {
   "cell_type": "code",
   "execution_count": 63,
   "metadata": {
    "vscode": {
     "languageId": "r"
    }
   },
   "outputs": [
    {
     "data": {
      "text/html": [
       "10"
      ],
      "text/latex": [
       "10"
      ],
      "text/markdown": [
       "10"
      ],
      "text/plain": [
       "[1] 10"
      ]
     },
     "metadata": {},
     "output_type": "display_data"
    },
    {
     "data": {
      "text/html": [
       "142740"
      ],
      "text/latex": [
       "142740"
      ],
      "text/markdown": [
       "142740"
      ],
      "text/plain": [
       "[1] 142740"
      ]
     },
     "metadata": {},
     "output_type": "display_data"
    },
    {
     "data": {
      "text/html": [
       "<style>\n",
       ".dl-inline {width: auto; margin:0; padding: 0}\n",
       ".dl-inline>dt, .dl-inline>dd {float: none; width: auto; display: inline-block}\n",
       ".dl-inline>dt::after {content: \":\\0020\"; padding-right: .5ex}\n",
       ".dl-inline>dt:not(:first-of-type) {padding-left: .5ex}\n",
       "</style><dl class=dl-inline><dt>25%</dt><dd>63000.75</dd><dt>50%</dt><dd>82790.5</dd><dt>75%</dt><dd>213841.25</dd><dt>95%</dt><dd>344156.6</dd><dt>99%</dt><dd>384293.72</dd></dl>\n"
      ],
      "text/latex": [
       "\\begin{description*}\n",
       "\\item[25\\textbackslash{}\\%] 63000.75\n",
       "\\item[50\\textbackslash{}\\%] 82790.5\n",
       "\\item[75\\textbackslash{}\\%] 213841.25\n",
       "\\item[95\\textbackslash{}\\%] 344156.6\n",
       "\\item[99\\textbackslash{}\\%] 384293.72\n",
       "\\end{description*}\n"
      ],
      "text/markdown": [
       "25%\n",
       ":   63000.7550%\n",
       ":   82790.575%\n",
       ":   213841.2595%\n",
       ":   344156.699%\n",
       ":   384293.72\n",
       "\n"
      ],
      "text/plain": [
       "      25%       50%       75%       95%       99% \n",
       " 63000.75  82790.50 213841.25 344156.60 384293.72 "
      ]
     },
     "metadata": {},
     "output_type": "display_data"
    },
    {
     "data": {
      "text/html": [
       "<table class=\"dataframe\">\n",
       "<caption>A tibble: 6 × 7</caption>\n",
       "<thead>\n",
       "\t<tr><th scope=col>Rank</th><th scope=col>Name</th><th scope=col>Industry</th><th scope=col>Revenue (USD millions)</th><th scope=col>Revenue growth</th><th scope=col>Employees</th><th scope=col>Headquarters</th></tr>\n",
       "\t<tr><th scope=col>&lt;dbl&gt;</th><th scope=col>&lt;chr&gt;</th><th scope=col>&lt;chr&gt;</th><th scope=col>&lt;dbl&gt;</th><th scope=col>&lt;chr&gt;</th><th scope=col>&lt;dbl&gt;</th><th scope=col>&lt;chr&gt;</th></tr>\n",
       "</thead>\n",
       "<tbody>\n",
       "\t<tr><td> 4</td><td>Apple                  </td><td>Electronics industry</td><td>394328</td><td>7.8% </td><td>164000</td><td>Cupertino, California    </td></tr>\n",
       "\t<tr><td> 8</td><td>Alphabet               </td><td>Technology          </td><td>282836</td><td>9.8% </td><td>156000</td><td>Mountain View, California</td></tr>\n",
       "\t<tr><td>10</td><td>Chevron Corporation    </td><td>Petroleum industry  </td><td>246252</td><td>51.6%</td><td> 43846</td><td>San Ramon, California    </td></tr>\n",
       "\t<tr><td>31</td><td>Meta Platforms         </td><td>Technology          </td><td>116609</td><td>1.1% </td><td> 86482</td><td>Menlo Park, California   </td></tr>\n",
       "\t<tr><td>47</td><td>Wells Fargo            </td><td>Financials          </td><td> 82859</td><td>0.5% </td><td>238000</td><td>San Francisco, California</td></tr>\n",
       "\t<tr><td>48</td><td>The Walt Disney Company</td><td>Media               </td><td> 82722</td><td>22.7%</td><td>195800</td><td>Burbank, California      </td></tr>\n",
       "</tbody>\n",
       "</table>\n"
      ],
      "text/latex": [
       "A tibble: 6 × 7\n",
       "\\begin{tabular}{lllllll}\n",
       " Rank & Name & Industry & Revenue (USD millions) & Revenue growth & Employees & Headquarters\\\\\n",
       " <dbl> & <chr> & <chr> & <dbl> & <chr> & <dbl> & <chr>\\\\\n",
       "\\hline\n",
       "\t  4 & Apple                   & Electronics industry & 394328 & 7.8\\%  & 164000 & Cupertino, California    \\\\\n",
       "\t  8 & Alphabet                & Technology           & 282836 & 9.8\\%  & 156000 & Mountain View, California\\\\\n",
       "\t 10 & Chevron Corporation     & Petroleum industry   & 246252 & 51.6\\% &  43846 & San Ramon, California    \\\\\n",
       "\t 31 & Meta Platforms          & Technology           & 116609 & 1.1\\%  &  86482 & Menlo Park, California   \\\\\n",
       "\t 47 & Wells Fargo             & Financials           &  82859 & 0.5\\%  & 238000 & San Francisco, California\\\\\n",
       "\t 48 & The Walt Disney Company & Media                &  82722 & 22.7\\% & 195800 & Burbank, California      \\\\\n",
       "\\end{tabular}\n"
      ],
      "text/markdown": [
       "\n",
       "A tibble: 6 × 7\n",
       "\n",
       "| Rank &lt;dbl&gt; | Name &lt;chr&gt; | Industry &lt;chr&gt; | Revenue (USD millions) &lt;dbl&gt; | Revenue growth &lt;chr&gt; | Employees &lt;dbl&gt; | Headquarters &lt;chr&gt; |\n",
       "|---|---|---|---|---|---|---|\n",
       "|  4 | Apple                   | Electronics industry | 394328 | 7.8%  | 164000 | Cupertino, California     |\n",
       "|  8 | Alphabet                | Technology           | 282836 | 9.8%  | 156000 | Mountain View, California |\n",
       "| 10 | Chevron Corporation     | Petroleum industry   | 246252 | 51.6% |  43846 | San Ramon, California     |\n",
       "| 31 | Meta Platforms          | Technology           | 116609 | 1.1%  |  86482 | Menlo Park, California    |\n",
       "| 47 | Wells Fargo             | Financials           |  82859 | 0.5%  | 238000 | San Francisco, California |\n",
       "| 48 | The Walt Disney Company | Media                |  82722 | 22.7% | 195800 | Burbank, California       |\n",
       "\n"
      ],
      "text/plain": [
       "  Rank Name                    Industry             Revenue (USD millions)\n",
       "1  4   Apple                   Electronics industry 394328                \n",
       "2  8   Alphabet                Technology           282836                \n",
       "3 10   Chevron Corporation     Petroleum industry   246252                \n",
       "4 31   Meta Platforms          Technology           116609                \n",
       "5 47   Wells Fargo             Financials            82859                \n",
       "6 48   The Walt Disney Company Media                 82722                \n",
       "  Revenue growth Employees Headquarters             \n",
       "1 7.8%           164000    Cupertino, California    \n",
       "2 9.8%           156000    Mountain View, California\n",
       "3 51.6%           43846    San Ramon, California    \n",
       "4 1.1%            86482    Menlo Park, California   \n",
       "5 0.5%           238000    San Francisco, California\n",
       "6 22.7%          195800    Burbank, California      "
      ]
     },
     "metadata": {},
     "output_type": "display_data"
    }
   ],
   "source": [
    "california_largest_incomes <- us_largest_incomes[grep(\"California\", us_largest_incomes$Headquarters, fixed = TRUE), ]\n",
    "\n",
    "length(california_largest_incomes$Rank)\n",
    "mean(california_largest_incomes$\"Revenue (USD millions)\")\n",
    "quantile(california_largest_incomes$\"Revenue (USD millions)\", prob = c(.25, .5, .75, .95, .99))\n",
    "head(california_largest_incomes)"
   ]
  },
  {
   "cell_type": "markdown",
   "metadata": {},
   "source": [
    "How many of them are in Tech?"
   ]
  },
  {
   "cell_type": "code",
   "execution_count": 81,
   "metadata": {
    "vscode": {
     "languageId": "r"
    }
   },
   "outputs": [
    {
     "data": {
      "text/html": [
       "'Tech companies make up 50% of the largest companies of California (or 5 in 10)'"
      ],
      "text/latex": [
       "'Tech companies make up 50\\% of the largest companies of California (or 5 in 10)'"
      ],
      "text/markdown": [
       "'Tech companies make up 50% of the largest companies of California (or 5 in 10)'"
      ],
      "text/plain": [
       "[1] \"Tech companies make up 50% of the largest companies of California (or 5 in 10)\""
      ]
     },
     "metadata": {},
     "output_type": "display_data"
    },
    {
     "data": {
      "text/html": [
       "113936.4"
      ],
      "text/latex": [
       "113936.4"
      ],
      "text/markdown": [
       "113936.4"
      ],
      "text/plain": [
       "[1] 113936.4"
      ]
     },
     "metadata": {},
     "output_type": "display_data"
    },
    {
     "data": {
      "text/html": [
       "<style>\n",
       ".dl-inline {width: auto; margin:0; padding: 0}\n",
       ".dl-inline>dt, .dl-inline>dd {float: none; width: auto; display: inline-block}\n",
       ".dl-inline>dt::after {content: \":\\0020\"; padding-right: .5ex}\n",
       ".dl-inline>dt:not(:first-of-type) {padding-left: .5ex}\n",
       "</style><dl class=dl-inline><dt>25%</dt><dd>62983</dd><dt>50%</dt><dd>63054</dd><dt>75%</dt><dd>116609</dd><dt>95%</dt><dd>249590.6</dd><dt>99%</dt><dd>276186.92</dd></dl>\n"
      ],
      "text/latex": [
       "\\begin{description*}\n",
       "\\item[25\\textbackslash{}\\%] 62983\n",
       "\\item[50\\textbackslash{}\\%] 63054\n",
       "\\item[75\\textbackslash{}\\%] 116609\n",
       "\\item[95\\textbackslash{}\\%] 249590.6\n",
       "\\item[99\\textbackslash{}\\%] 276186.92\n",
       "\\end{description*}\n"
      ],
      "text/markdown": [
       "25%\n",
       ":   6298350%\n",
       ":   6305475%\n",
       ":   11660995%\n",
       ":   249590.699%\n",
       ":   276186.92\n",
       "\n"
      ],
      "text/plain": [
       "     25%      50%      75%      95%      99% \n",
       " 62983.0  63054.0 116609.0 249590.6 276186.9 "
      ]
     },
     "metadata": {},
     "output_type": "display_data"
    },
    {
     "data": {
      "text/html": [
       "<table class=\"dataframe\">\n",
       "<caption>A tibble: 5 × 7</caption>\n",
       "<thead>\n",
       "\t<tr><th scope=col>Rank</th><th scope=col>Name</th><th scope=col>Industry</th><th scope=col>Revenue (USD millions)</th><th scope=col>Revenue growth</th><th scope=col>Employees</th><th scope=col>Headquarters</th></tr>\n",
       "\t<tr><th scope=col>&lt;dbl&gt;</th><th scope=col>&lt;chr&gt;</th><th scope=col>&lt;chr&gt;</th><th scope=col>&lt;dbl&gt;</th><th scope=col>&lt;chr&gt;</th><th scope=col>&lt;dbl&gt;</th><th scope=col>&lt;chr&gt;</th></tr>\n",
       "</thead>\n",
       "<tbody>\n",
       "\t<tr><td>  8</td><td>Alphabet      </td><td>Technology</td><td>282836</td><td>9.8% </td><td>156000</td><td>Mountain View, California</td></tr>\n",
       "\t<tr><td> 31</td><td>Meta Platforms</td><td>Technology</td><td>116609</td><td>1.1% </td><td> 86482</td><td>Menlo Park, California   </td></tr>\n",
       "\t<tr><td> 64</td><td>Intel         </td><td>Technology</td><td> 63054</td><td>20.1%</td><td>131900</td><td>Santa Clara, California  </td></tr>\n",
       "\t<tr><td> 65</td><td>HP            </td><td>Technology</td><td> 62983</td><td>0.8% </td><td> 58000</td><td>Palo Alto, California    </td></tr>\n",
       "\t<tr><td>100</td><td>Qualcomm      </td><td>Technology</td><td> 44200</td><td>31.7%</td><td> 51000</td><td>San Diego, California    </td></tr>\n",
       "</tbody>\n",
       "</table>\n"
      ],
      "text/latex": [
       "A tibble: 5 × 7\n",
       "\\begin{tabular}{lllllll}\n",
       " Rank & Name & Industry & Revenue (USD millions) & Revenue growth & Employees & Headquarters\\\\\n",
       " <dbl> & <chr> & <chr> & <dbl> & <chr> & <dbl> & <chr>\\\\\n",
       "\\hline\n",
       "\t   8 & Alphabet       & Technology & 282836 & 9.8\\%  & 156000 & Mountain View, California\\\\\n",
       "\t  31 & Meta Platforms & Technology & 116609 & 1.1\\%  &  86482 & Menlo Park, California   \\\\\n",
       "\t  64 & Intel          & Technology &  63054 & 20.1\\% & 131900 & Santa Clara, California  \\\\\n",
       "\t  65 & HP             & Technology &  62983 & 0.8\\%  &  58000 & Palo Alto, California    \\\\\n",
       "\t 100 & Qualcomm       & Technology &  44200 & 31.7\\% &  51000 & San Diego, California    \\\\\n",
       "\\end{tabular}\n"
      ],
      "text/markdown": [
       "\n",
       "A tibble: 5 × 7\n",
       "\n",
       "| Rank &lt;dbl&gt; | Name &lt;chr&gt; | Industry &lt;chr&gt; | Revenue (USD millions) &lt;dbl&gt; | Revenue growth &lt;chr&gt; | Employees &lt;dbl&gt; | Headquarters &lt;chr&gt; |\n",
       "|---|---|---|---|---|---|---|\n",
       "|   8 | Alphabet       | Technology | 282836 | 9.8%  | 156000 | Mountain View, California |\n",
       "|  31 | Meta Platforms | Technology | 116609 | 1.1%  |  86482 | Menlo Park, California    |\n",
       "|  64 | Intel          | Technology |  63054 | 20.1% | 131900 | Santa Clara, California   |\n",
       "|  65 | HP             | Technology |  62983 | 0.8%  |  58000 | Palo Alto, California     |\n",
       "| 100 | Qualcomm       | Technology |  44200 | 31.7% |  51000 | San Diego, California     |\n",
       "\n"
      ],
      "text/plain": [
       "  Rank Name           Industry   Revenue (USD millions) Revenue growth\n",
       "1   8  Alphabet       Technology 282836                 9.8%          \n",
       "2  31  Meta Platforms Technology 116609                 1.1%          \n",
       "3  64  Intel          Technology  63054                 20.1%         \n",
       "4  65  HP             Technology  62983                 0.8%          \n",
       "5 100  Qualcomm       Technology  44200                 31.7%         \n",
       "  Employees Headquarters             \n",
       "1 156000    Mountain View, California\n",
       "2  86482    Menlo Park, California   \n",
       "3 131900    Santa Clara, California  \n",
       "4  58000    Palo Alto, California    \n",
       "5  51000    San Diego, California    "
      ]
     },
     "metadata": {},
     "output_type": "display_data"
    }
   ],
   "source": [
    "tech_in_ca <- california_largest_incomes[grep(\"Technology\", california_largest_incomes$Industry, fixed = TRUE), ]\n",
    "\n",
    "num_of_ca_companies <- length(california_largest_incomes$Rank)\n",
    "num_of_ca_tech_companies <- length(tech_in_ca$Rank)\n",
    "sprintf(\"Tech companies make up %s%% of the largest companies of California (or %d in %d)\",\n",
    "    (num_of_ca_tech_companies / num_of_ca_companies) * 100,\n",
    "    num_of_ca_tech_companies,\n",
    "    num_of_ca_companies)\n",
    "mean(tech_in_ca$\"Revenue (USD millions)\")\n",
    "quantile(tech_in_ca$\"Revenue (USD millions)\", prob = c(.25, .5, .75, .95, .99))\n",
    "head(tech_in_ca)"
   ]
  },
  {
   "cell_type": "markdown",
   "metadata": {},
   "source": [
    "## Binning and frequencies\n",
    "A useful way to understand distribuition is to group, or _bin_, certain continous values into discrete levels."
   ]
  },
  {
   "cell_type": "code",
   "execution_count": 14,
   "metadata": {
    "vscode": {
     "languageId": "r"
    }
   },
   "outputs": [],
   "source": [
    "industry_factors <- factor(us_largest_incomes$Industry)\n",
    "\n",
    "largest_revenues <- us_largest_incomes$\"Revenue (USD millions)\"\n",
    "revenue_factors <- factor(cut(us_largest_incomes$\"Revenue (USD millions)\", breaks = (40000 + 50000 * (0:10))))"
   ]
  },
  {
   "cell_type": "code",
   "execution_count": 22,
   "metadata": {
    "vscode": {
     "languageId": "r"
    }
   },
   "outputs": [
    {
     "data": {
      "text/plain": [
       "                   industry_factors\n",
       "revenue_factors     Aerospace and defense Aerospace and Defense\n",
       "  (4e+04,9e+04]                         1                     1\n",
       "  (9e+04,1.4e+05]                       0                     0\n",
       "  (1.4e+05,1.9e+05]                     0                     0\n",
       "  (1.9e+05,2.4e+05]                     0                     0\n",
       "  (2.4e+05,2.9e+05]                     0                     0\n",
       "  (2.9e+05,3.4e+05]                     0                     0\n",
       "  (3.9e+05,4.4e+05]                     0                     0\n",
       "  (4.9e+05,5.4e+05]                     0                     0\n",
       "                   industry_factors\n",
       "revenue_factors     Agriculture cooperative Agriculture manufacturing Airline\n",
       "  (4e+04,9e+04]                           1                         1       3\n",
       "  (9e+04,1.4e+05]                         0                         0       0\n",
       "  (1.4e+05,1.9e+05]                       0                         0       0\n",
       "  (1.9e+05,2.4e+05]                       0                         0       0\n",
       "  (2.4e+05,2.9e+05]                       0                         0       0\n",
       "  (2.9e+05,3.4e+05]                       0                         0       0\n",
       "  (3.9e+05,4.4e+05]                       0                         0       0\n",
       "  (4.9e+05,5.4e+05]                       0                         0       0\n",
       "                   industry_factors\n",
       "revenue_factors     Apparel Automotive Automotive and Energy\n",
       "  (4e+04,9e+04]           1          0                     1\n",
       "  (9e+04,1.4e+05]         0          0                     0\n",
       "  (1.4e+05,1.9e+05]       0          1                     0\n",
       "  (1.9e+05,2.4e+05]       0          0                     0\n",
       "  (2.4e+05,2.9e+05]       0          0                     0\n",
       "  (2.9e+05,3.4e+05]       0          0                     0\n",
       "  (3.9e+05,4.4e+05]       0          0                     0\n",
       "  (4.9e+05,5.4e+05]       0          0                     0\n",
       "                   industry_factors\n",
       "revenue_factors     Automotive industry Beverage Chemical industry Conglomerate\n",
       "  (4e+04,9e+04]                       0        1                 1            2\n",
       "  (9e+04,1.4e+05]                     0        0                 0            1\n",
       "  (1.4e+05,1.9e+05]                   1        0                 0            0\n",
       "  (1.9e+05,2.4e+05]                   0        0                 0            0\n",
       "  (2.4e+05,2.9e+05]                   0        0                 0            0\n",
       "  (2.9e+05,3.4e+05]                   0        0                 0            1\n",
       "  (3.9e+05,4.4e+05]                   0        0                 0            0\n",
       "  (4.9e+05,5.4e+05]                   0        0                 0            0\n",
       "                   industry_factors\n",
       "revenue_factors     Consumer products Manufacturing Electronics industry\n",
       "  (4e+04,9e+04]                                   1                    0\n",
       "  (9e+04,1.4e+05]                                 0                    0\n",
       "  (1.4e+05,1.9e+05]                               0                    0\n",
       "  (1.9e+05,2.4e+05]                               0                    0\n",
       "  (2.4e+05,2.9e+05]                               0                    0\n",
       "  (2.9e+05,3.4e+05]                               0                    0\n",
       "  (3.9e+05,4.4e+05]                               0                    1\n",
       "  (4.9e+05,5.4e+05]                               0                    0\n",
       "                   industry_factors\n",
       "revenue_factors     Financial Financial services Financials Food industry\n",
       "  (4e+04,9e+04]             2                  0          8             1\n",
       "  (9e+04,1.4e+05]           0                  0          3             1\n",
       "  (1.4e+05,1.9e+05]         0                  1          0             0\n",
       "  (1.9e+05,2.4e+05]         0                  0          0             0\n",
       "  (2.4e+05,2.9e+05]         0                  0          0             0\n",
       "  (2.9e+05,3.4e+05]         0                  0          0             0\n",
       "  (3.9e+05,4.4e+05]         0                  0          0             0\n",
       "  (4.9e+05,5.4e+05]         0                  0          0             0\n",
       "                   industry_factors\n",
       "revenue_factors     Food Processing Food Service Health Health Insurance\n",
       "  (4e+04,9e+04]                   2            1      0                0\n",
       "  (9e+04,1.4e+05]                 0            0      0                1\n",
       "  (1.4e+05,1.9e+05]               0            0      0                1\n",
       "  (1.9e+05,2.4e+05]               0            0      0                0\n",
       "  (2.4e+05,2.9e+05]               0            0      1                0\n",
       "  (2.9e+05,3.4e+05]               0            0      0                0\n",
       "  (3.9e+05,4.4e+05]               0            0      0                0\n",
       "  (4.9e+05,5.4e+05]               0            0      0                0\n",
       "                   industry_factors\n",
       "revenue_factors     Healthcare Infotech Insurance Laboratory instruments\n",
       "  (4e+04,9e+04]              1        1         5                      1\n",
       "  (9e+04,1.4e+05]            0        0         0                      0\n",
       "  (1.4e+05,1.9e+05]          3        0         0                      0\n",
       "  (1.9e+05,2.4e+05]          0        0         0                      0\n",
       "  (2.4e+05,2.9e+05]          0        0         0                      0\n",
       "  (2.9e+05,3.4e+05]          2        0         0                      0\n",
       "  (3.9e+05,4.4e+05]          0        0         0                      0\n",
       "  (4.9e+05,5.4e+05]          0        0         0                      0\n",
       "                   industry_factors\n",
       "revenue_factors     Logistics Machinery Media Petroleum industry\n",
       "  (4e+04,9e+04]             1         1     1                  5\n",
       "  (9e+04,1.4e+05]           0         0     0                  0\n",
       "  (1.4e+05,1.9e+05]         0         0     0                  3\n",
       "  (1.9e+05,2.4e+05]         0         0     0                  0\n",
       "  (2.4e+05,2.9e+05]         0         0     0                  1\n",
       "  (2.9e+05,3.4e+05]         0         0     0                  0\n",
       "  (3.9e+05,4.4e+05]         0         0     0                  1\n",
       "  (4.9e+05,5.4e+05]         0         0     0                  0\n",
       "                   industry_factors\n",
       "revenue_factors     Petroleum industry and Logistics Pharmaceutical industry\n",
       "  (4e+04,9e+04]                                    1                       3\n",
       "  (9e+04,1.4e+05]                                  0                       3\n",
       "  (1.4e+05,1.9e+05]                                0                       0\n",
       "  (1.9e+05,2.4e+05]                                0                       1\n",
       "  (2.4e+05,2.9e+05]                                0                       0\n",
       "  (2.9e+05,3.4e+05]                                0                       0\n",
       "  (3.9e+05,4.4e+05]                                0                       0\n",
       "  (4.9e+05,5.4e+05]                                0                       0\n",
       "                   industry_factors\n",
       "revenue_factors     Retail Retail and Cloud Computing Technology\n",
       "  (4e+04,9e+04]          4                          0          4\n",
       "  (9e+04,1.4e+05]        2                          0          2\n",
       "  (1.4e+05,1.9e+05]      2                          0          0\n",
       "  (1.9e+05,2.4e+05]      1                          0          1\n",
       "  (2.4e+05,2.9e+05]      0                          0          1\n",
       "  (2.9e+05,3.4e+05]      0                          0          0\n",
       "  (3.9e+05,4.4e+05]      0                          0          0\n",
       "  (4.9e+05,5.4e+05]      0                          1          0\n",
       "                   industry_factors\n",
       "revenue_factors     Telecom Hardware Manufacturing Telecommunications\n",
       "  (4e+04,9e+04]                                  1                  1\n",
       "  (9e+04,1.4e+05]                                0                  2\n",
       "  (1.4e+05,1.9e+05]                              0                  0\n",
       "  (1.9e+05,2.4e+05]                              0                  0\n",
       "  (2.4e+05,2.9e+05]                              0                  0\n",
       "  (2.9e+05,3.4e+05]                              0                  0\n",
       "  (3.9e+05,4.4e+05]                              0                  0\n",
       "  (4.9e+05,5.4e+05]                              0                  0\n",
       "                   industry_factors\n",
       "revenue_factors     Transportation\n",
       "  (4e+04,9e+04]                  0\n",
       "  (9e+04,1.4e+05]                2\n",
       "  (1.4e+05,1.9e+05]              0\n",
       "  (1.9e+05,2.4e+05]              0\n",
       "  (2.4e+05,2.9e+05]              0\n",
       "  (2.9e+05,3.4e+05]              0\n",
       "  (3.9e+05,4.4e+05]              0\n",
       "  (4.9e+05,5.4e+05]              0"
      ]
     },
     "metadata": {},
     "output_type": "display_data"
    }
   ],
   "source": [
    "table(revenue_factors, industry_factors)"
   ]
  },
  {
   "cell_type": "markdown",
   "metadata": {},
   "source": [
    "A simpler way though would be to use the `hist` function."
   ]
  },
  {
   "cell_type": "code",
   "execution_count": 34,
   "metadata": {
    "vscode": {
     "languageId": "r"
    }
   },
   "outputs": [
    {
     "data": {
      "image/png": "[encoded data removed]",
      "text/plain": [
       "Plot with title “Histogram of revenues (USD billions)”"
      ]
     },
     "metadata": {
      "image/png": {
       "height": 420,
       "width": 420
      }
     },
     "output_type": "display_data"
    }
   ],
   "source": [
    "hist(largest_revenues / 1000, \n",
    "    main = \"Histogram of revenues (USD billions)\",\n",
    "    xlab = \"Revenue (USD billions)\", \n",
    "    ylab = \"Number of companies\",\n",
    "    border = \"purple\")"
   ]
  },
  {
   "cell_type": "code",
   "execution_count": 26,
   "metadata": {
    "vscode": {
     "languageId": "r"
    }
   },
   "outputs": [
    {
     "name": "stdout",
     "output_type": "stream",
     "text": [
      "hist                 package:graphics                  R Documentation\n",
      "\n",
      "_\bH_\bi_\bs_\bt_\bo_\bg_\br_\ba_\bm_\bs\n",
      "\n",
      "_\bD_\be_\bs_\bc_\br_\bi_\bp_\bt_\bi_\bo_\bn:\n",
      "\n",
      "     The generic function ‘hist’ computes a histogram of the given data\n",
      "     values.  If ‘plot = TRUE’, the resulting object of class\n",
      "     ‘\"histogram\"’ is plotted by ‘plot.histogram’, before it is\n",
      "     returned.\n",
      "\n",
      "_\bU_\bs_\ba_\bg_\be:\n",
      "\n",
      "     hist(x, ...)\n",
      "     \n",
      "     ## Default S3 method:\n",
      "     hist(x, breaks = \"Sturges\",\n",
      "          freq = NULL, probability = !freq,\n",
      "          include.lowest = TRUE, right = TRUE, fuzz = 1e-7,\n",
      "          density = NULL, angle = 45, col = \"lightgray\", border = NULL,\n",
      "          main = paste(\"Histogram of\" , xname),\n",
      "          xlim = range(breaks), ylim = NULL,\n",
      "          xlab = xname, ylab,\n",
      "          axes = TRUE, plot = TRUE, labels = FALSE,\n",
      "          nclass = NULL, warn.unused = TRUE, ...)\n",
      "     \n",
      "_\bA_\br_\bg_\bu_\bm_\be_\bn_\bt_\bs:\n",
      "\n",
      "       x: a vector of values for which the histogram is desired.\n",
      "\n",
      "  breaks: one of:\n",
      "\n",
      "            • a vector giving the breakpoints between histogram cells,\n",
      "\n",
      "            • a function to compute the vector of breakpoints,\n",
      "\n",
      "            • a single number giving the number of cells for the\n",
      "              histogram,\n",
      "\n",
      "            • a character string naming an algorithm to compute the\n",
      "              number of cells (see ‘Details’),\n",
      "\n",
      "            • a function to compute the number of cells.\n",
      "\n",
      "          In the last three cases the number is a suggestion only; as\n",
      "          the breakpoints will be set to ‘pretty’ values, the number is\n",
      "          limited to ‘1e6’ (with a warning if it was larger).  If\n",
      "          ‘breaks’ is a function, the ‘x’ vector is supplied to it as\n",
      "          the only argument (and the number of breaks is only limited\n",
      "          by the amount of available memory).\n",
      "\n",
      "    freq: logical; if ‘TRUE’, the histogram graphic is a representation\n",
      "          of frequencies, the ‘counts’ component of the result; if\n",
      "          ‘FALSE’, probability densities, component ‘density’, are\n",
      "          plotted (so that the histogram has a total area of one).\n",
      "          Defaults to ‘TRUE’ _if and only if_ ‘breaks’ are equidistant\n",
      "          (and ‘probability’ is not specified).\n",
      "\n",
      "probability: an _alias_ for ‘!freq’, for S compatibility.\n",
      "\n",
      "include.lowest: logical; if ‘TRUE’, an ‘x[i]’ equal to the ‘breaks’\n",
      "          value will be included in the first (or last, for ‘right =\n",
      "          FALSE’) bar.  This will be ignored (with a warning) unless\n",
      "          ‘breaks’ is a vector.\n",
      "\n",
      "   right: logical; if ‘TRUE’, the histogram cells are right-closed\n",
      "          (left open) intervals.\n",
      "\n",
      "    fuzz: non-negative number, for the case when the data is “pretty”\n",
      "          and some observations ‘x[.]’ are close but not exactly on a\n",
      "          ‘break’.  For counting fuzzy breaks proportional to ‘fuzz’\n",
      "          are used.  The default is occasionally suboptimal.\n",
      "\n",
      " density: the density of shading lines, in lines per inch.  The default\n",
      "          value of ‘NULL’ means that no shading lines are drawn.\n",
      "          Non-positive values of ‘density’ also inhibit the drawing of\n",
      "          shading lines.\n",
      "\n",
      "   angle: the slope of shading lines, given as an angle in degrees\n",
      "          (counter-clockwise).\n",
      "\n",
      "     col: a colour to be used to fill the bars.\n",
      "\n",
      "  border: the color of the border around the bars.  The default is to\n",
      "          use the standard foreground color.\n",
      "\n",
      "main, xlab, ylab: main title and axis labels: these arguments to\n",
      "          ‘title()’ get “smart” defaults here, e.g., the default ‘ylab’\n",
      "          is ‘\"Frequency\"’ iff ‘freq’ is true.\n",
      "\n",
      "xlim, ylim: the range of x and y values with sensible defaults.  Note\n",
      "          that ‘xlim’ is _not_ used to define the histogram (breaks),\n",
      "          but only for plotting (when ‘plot = TRUE’).\n",
      "\n",
      "    axes: logical.  If ‘TRUE’ (default), axes are draw if the plot is\n",
      "          drawn.\n",
      "\n",
      "    plot: logical.  If ‘TRUE’ (default), a histogram is plotted,\n",
      "          otherwise a list of breaks and counts is returned.  In the\n",
      "          latter case, a warning is used if (typically graphical)\n",
      "          arguments are specified that only apply to the ‘plot = TRUE’\n",
      "          case.\n",
      "\n",
      "  labels: logical or character string.  Additionally draw labels on top\n",
      "          of bars, if not ‘FALSE’; see ‘plot.histogram’.\n",
      "\n",
      "  nclass: numeric (integer).  For S(-PLUS) compatibility only, ‘nclass’\n",
      "          is equivalent to ‘breaks’ for a scalar or character argument.\n",
      "\n",
      "warn.unused: logical.  If ‘plot = FALSE’ and ‘warn.unused = TRUE’, a\n",
      "          warning will be issued when graphical parameters are passed\n",
      "          to ‘hist.default()’.\n",
      "\n",
      "     ...: further arguments and graphical parameters passed to\n",
      "          ‘plot.histogram’ and thence to ‘title’ and ‘axis’ (if ‘plot =\n",
      "          TRUE’).\n",
      "\n",
      "_\bD_\be_\bt_\ba_\bi_\bl_\bs:\n",
      "\n",
      "     The definition of _histogram_ differs by source (with\n",
      "     country-specific biases).  R's default with equi-spaced breaks\n",
      "     (also the default) is to plot the counts in the cells defined by\n",
      "     ‘breaks’.  Thus the height of a rectangle is proportional to the\n",
      "     number of points falling into the cell, as is the area _provided_\n",
      "     the breaks are equally-spaced.\n",
      "\n",
      "     The default with non-equi-spaced breaks is to give a plot of area\n",
      "     one, in which the _area_ of the rectangles is the fraction of the\n",
      "     data points falling in the cells.\n",
      "\n",
      "     If ‘right = TRUE’ (default), the histogram cells are intervals of\n",
      "     the form (a, b], i.e., they include their right-hand endpoint, but\n",
      "     not their left one, with the exception of the first cell when\n",
      "     ‘include.lowest’ is ‘TRUE’.\n",
      "\n",
      "     For ‘right = FALSE’, the intervals are of the form [a, b), and\n",
      "     ‘include.lowest’ means ‘_include highest_’.\n",
      "\n",
      "     A numerical tolerance of 1e-7 times the median bin size (for more\n",
      "     than four bins, otherwise the median is substituted) is applied\n",
      "     when counting entries on the edges of bins.  This is not included\n",
      "     in the reported ‘breaks’ nor in the calculation of ‘density’.\n",
      "\n",
      "     The default for ‘breaks’ is ‘\"Sturges\"’: see ‘nclass.Sturges’.\n",
      "     Other names for which algorithms are supplied are ‘\"Scott\"’ and\n",
      "     ‘\"FD\"’ / ‘\"Freedman-Diaconis\"’ (with corresponding functions\n",
      "     ‘nclass.scott’ and ‘nclass.FD’).  Case is ignored and partial\n",
      "     matching is used.  Alternatively, a function can be supplied which\n",
      "     will compute the intended number of breaks or the actual\n",
      "     breakpoints as a function of ‘x’.\n",
      "\n",
      "_\bV_\ba_\bl_\bu_\be:\n",
      "\n",
      "     an object of class ‘\"histogram\"’ which is a list with components:\n",
      "\n",
      "  breaks: the n+1 cell boundaries (= ‘breaks’ if that was a vector).\n",
      "          These are the nominal breaks, not with the boundary fuzz.\n",
      "\n",
      "  counts: n integers; for each cell, the number of ‘x[]’ inside.\n",
      "\n",
      " density: values f^(x[i]), as estimated density values. If\n",
      "          ‘all(diff(breaks) == 1)’, they are the relative frequencies\n",
      "          ‘counts/n’ and in general satisfy sum[i; f^(x[i])\n",
      "          (b[i+1]-b[i])] = 1, where b[i] = ‘breaks[i]’.\n",
      "\n",
      "    mids: the n cell midpoints.\n",
      "\n",
      "   xname: a character string with the actual ‘x’ argument name.\n",
      "\n",
      "equidist: logical, indicating if the distances between ‘breaks’ are all\n",
      "          the same.\n",
      "\n",
      "_\bR_\be_\bf_\be_\br_\be_\bn_\bc_\be_\bs:\n",
      "\n",
      "     Becker, R. A., Chambers, J. M. and Wilks, A. R. (1988) _The New S\n",
      "     Language_.  Wadsworth & Brooks/Cole.\n",
      "\n",
      "     Venables, W. N. and Ripley. B. D. (2002) _Modern Applied\n",
      "     Statistics with S_.  Springer.\n",
      "\n",
      "_\bS_\be_\be _\bA_\bl_\bs_\bo:\n",
      "\n",
      "     ‘nclass.Sturges’, ‘stem’, ‘density’, ‘truehist’ in package ‘MASS’.\n",
      "\n",
      "     Typical plots with vertical bars are _not_ histograms.  Consider\n",
      "     ‘barplot’ or ‘plot(*, type = \"h\")’ for such bar plots.\n",
      "\n",
      "_\bE_\bx_\ba_\bm_\bp_\bl_\be_\bs:\n",
      "\n",
      "     op <- par(mfrow = c(2, 2))\n",
      "     hist(islands)\n",
      "     utils::str(hist(islands, col = \"gray\", labels = TRUE))\n",
      "     \n",
      "     hist(sqrt(islands), breaks = 12, col = \"lightblue\", border = \"pink\")\n",
      "     ##-- For non-equidistant breaks, counts should NOT be graphed unscaled:\n",
      "     r <- hist(sqrt(islands), breaks = c(4*0:5, 10*3:5, 70, 100, 140),\n",
      "               col = \"blue1\")\n",
      "     text(r$mids, r$density, r$counts, adj = c(.5, -.5), col = \"blue3\")\n",
      "     sapply(r[2:3], sum)\n",
      "     sum(r$density * diff(r$breaks)) # == 1\n",
      "     lines(r, lty = 3, border = \"purple\") # -> lines.histogram(*)\n",
      "     par(op)\n",
      "     \n",
      "     require(utils) # for str\n",
      "     str(hist(islands, breaks = 12, plot =  FALSE)) #-> 10 (~= 12) breaks\n",
      "     str(hist(islands, breaks = c(12,20,36,80,200,1000,17000), plot = FALSE))\n",
      "     \n",
      "     hist(islands, breaks = c(12,20,36,80,200,1000,17000), freq = TRUE,\n",
      "          main = \"WRONG histogram\") # and warning\n",
      "     \n",
      "     ## Extreme outliers; the \"FD\" rule would take very large number of 'breaks':\n",
      "     XXL <- c(1:9, c(-1,1)*1e300)\n",
      "     hh <- hist(XXL, \"FD\") # did not work in R <= 3.4.1; now gives warning\n",
      "     ## pretty() determines how many counts are used (platform dependently!):\n",
      "     length(hh$breaks) ## typically 1 million -- though 1e6 was \"a suggestion only\"\n",
      "     \n",
      "     ## R >= 4.2.0: no \"*.5\" labels on y-axis:\n",
      "     hist(c(2,3,3,5,5,6,6,6,7))\n",
      "     \n",
      "     require(stats)\n",
      "     set.seed(14)\n",
      "     x <- rchisq(100, df = 4)\n",
      "     \n",
      "     ## Histogram with custom x-axis:\n",
      "     hist(x, xaxt = \"n\")\n",
      "     axis(1, at = 0:17)\n",
      "     \n",
      "     \n",
      "     ## Comparing data with a model distribution should be done with qqplot()!\n",
      "     qqplot(x, qchisq(ppoints(x), df = 4)); abline(0, 1, col = 2, lty = 2)\n",
      "     \n",
      "     ## if you really insist on using hist() ... :\n",
      "     hist(x, freq = FALSE, ylim = c(0, 0.2))\n",
      "     curve(dchisq(x, df = 4), col = 2, lty = 2, lwd = 2, add = TRUE)\n",
      "     "
     ]
    }
   ],
   "source": [
    "?hist"
   ]
  },
  {
   "cell_type": "code",
   "execution_count": null,
   "metadata": {
    "vscode": {
     "languageId": "r"
    }
   },
   "outputs": [],
   "source": []
  }
 ],
 "metadata": {
  "kernelspec": {
   "display_name": "R",
   "language": "R",
   "name": "ir"
  },
  "language_info": {
   "codemirror_mode": "r",
   "file_extension": ".r",
   "mimetype": "text/x-r-source",
   "name": "R",
   "pygments_lexer": "r",
   "version": "4.3.1"
  },
  "orig_nbformat": 4
 },
 "nbformat": 4,
 "nbformat_minor": 2
}
