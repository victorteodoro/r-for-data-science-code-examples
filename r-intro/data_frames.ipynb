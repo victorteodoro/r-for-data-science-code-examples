{
 "cells": [
  {
   "cell_type": "markdown",
   "metadata": {},
   "source": [
    "# Data Frames\n",
    "How to do basic manipulation with Data Frames? How to run \"queries\" of their columns?\n"
   ]
  },
  {
   "cell_type": "markdown",
   "metadata": {},
   "source": [
    "Let's import the `readr` package to use its fast `read_csv` function"
   ]
  },
  {
   "cell_type": "code",
   "execution_count": 2,
   "metadata": {
    "vscode": {
     "languageId": "r"
    }
   },
   "outputs": [],
   "source": [
    "# install.packages(\"readr\")\n",
    "library(\"readr\")"
   ]
  },
  {
   "cell_type": "markdown",
   "metadata": {},
   "source": [
    "Now let's pick a `data.frame` to work with. I got this one 👇 from [Kaggle](https://www.kaggle.com/datasets/claymaker/us-largest-companies). It's very interesting and mixes data of different modes (or types)."
   ]
  },
  {
   "cell_type": "code",
   "execution_count": 3,
   "metadata": {
    "vscode": {
     "languageId": "r"
    }
   },
   "outputs": [
    {
     "name": "stderr",
     "output_type": "stream",
     "text": [
      "\u001b[1mRows: \u001b[22m\u001b[34m100\u001b[39m \u001b[1mColumns: \u001b[22m\u001b[34m7\u001b[39m\n",
      "\u001b[36m──\u001b[39m \u001b[1mColumn specification\u001b[22m \u001b[36m────────────────────────────────────────────────────────\u001b[39m\n",
      "\u001b[1mDelimiter:\u001b[22m \",\"\n",
      "\u001b[31mchr\u001b[39m (4): Name, Industry, Revenue growth, Headquarters\n",
      "\u001b[32mdbl\u001b[39m (1): Rank\n",
      "\u001b[32mnum\u001b[39m (2): Revenue (USD millions), Employees\n",
      "\n",
      "\u001b[36mℹ\u001b[39m Use `spec()` to retrieve the full column specification for this data.\n",
      "\u001b[36mℹ\u001b[39m Specify the column types or set `show_col_types = FALSE` to quiet this message.\n"
     ]
    },
    {
     "data": {
      "text/html": [
       "<table class=\"dataframe\">\n",
       "<caption>A tibble: 6 × 7</caption>\n",
       "<thead>\n",
       "\t<tr><th scope=col>Rank</th><th scope=col>Name</th><th scope=col>Industry</th><th scope=col>Revenue (USD millions)</th><th scope=col>Revenue growth</th><th scope=col>Employees</th><th scope=col>Headquarters</th></tr>\n",
       "\t<tr><th scope=col>&lt;dbl&gt;</th><th scope=col>&lt;chr&gt;</th><th scope=col>&lt;chr&gt;</th><th scope=col>&lt;dbl&gt;</th><th scope=col>&lt;chr&gt;</th><th scope=col>&lt;dbl&gt;</th><th scope=col>&lt;chr&gt;</th></tr>\n",
       "</thead>\n",
       "<tbody>\n",
       "\t<tr><td>1</td><td>Walmart           </td><td>Retail                    </td><td>611289</td><td>6.7% </td><td>2100000</td><td>Bentonville, Arkansas   </td></tr>\n",
       "\t<tr><td>2</td><td>Amazon            </td><td>Retail and Cloud Computing</td><td>513983</td><td>9.4% </td><td>1540000</td><td>Seattle, Washington     </td></tr>\n",
       "\t<tr><td>3</td><td>Exxon Mobil       </td><td>Petroleum industry        </td><td>413680</td><td>44.8%</td><td>  62000</td><td>Spring, Texas           </td></tr>\n",
       "\t<tr><td>4</td><td>Apple             </td><td>Electronics industry      </td><td>394328</td><td>7.8% </td><td> 164000</td><td>Cupertino, California   </td></tr>\n",
       "\t<tr><td>5</td><td>UnitedHealth Group</td><td>Healthcare                </td><td>324162</td><td>12.7%</td><td> 400000</td><td>Minnetonka, Minnesota   </td></tr>\n",
       "\t<tr><td>6</td><td>CVS Health        </td><td>Healthcare                </td><td>322467</td><td>10.4%</td><td> 259500</td><td>Woonsocket, Rhode Island</td></tr>\n",
       "</tbody>\n",
       "</table>\n"
      ],
      "text/latex": [
       "A tibble: 6 × 7\n",
       "\\begin{tabular}{lllllll}\n",
       " Rank & Name & Industry & Revenue (USD millions) & Revenue growth & Employees & Headquarters\\\\\n",
       " <dbl> & <chr> & <chr> & <dbl> & <chr> & <dbl> & <chr>\\\\\n",
       "\\hline\n",
       "\t 1 & Walmart            & Retail                     & 611289 & 6.7\\%  & 2100000 & Bentonville, Arkansas   \\\\\n",
       "\t 2 & Amazon             & Retail and Cloud Computing & 513983 & 9.4\\%  & 1540000 & Seattle, Washington     \\\\\n",
       "\t 3 & Exxon Mobil        & Petroleum industry         & 413680 & 44.8\\% &   62000 & Spring, Texas           \\\\\n",
       "\t 4 & Apple              & Electronics industry       & 394328 & 7.8\\%  &  164000 & Cupertino, California   \\\\\n",
       "\t 5 & UnitedHealth Group & Healthcare                 & 324162 & 12.7\\% &  400000 & Minnetonka, Minnesota   \\\\\n",
       "\t 6 & CVS Health         & Healthcare                 & 322467 & 10.4\\% &  259500 & Woonsocket, Rhode Island\\\\\n",
       "\\end{tabular}\n"
      ],
      "text/markdown": [
       "\n",
       "A tibble: 6 × 7\n",
       "\n",
       "| Rank &lt;dbl&gt; | Name &lt;chr&gt; | Industry &lt;chr&gt; | Revenue (USD millions) &lt;dbl&gt; | Revenue growth &lt;chr&gt; | Employees &lt;dbl&gt; | Headquarters &lt;chr&gt; |\n",
       "|---|---|---|---|---|---|---|\n",
       "| 1 | Walmart            | Retail                     | 611289 | 6.7%  | 2100000 | Bentonville, Arkansas    |\n",
       "| 2 | Amazon             | Retail and Cloud Computing | 513983 | 9.4%  | 1540000 | Seattle, Washington      |\n",
       "| 3 | Exxon Mobil        | Petroleum industry         | 413680 | 44.8% |   62000 | Spring, Texas            |\n",
       "| 4 | Apple              | Electronics industry       | 394328 | 7.8%  |  164000 | Cupertino, California    |\n",
       "| 5 | UnitedHealth Group | Healthcare                 | 324162 | 12.7% |  400000 | Minnetonka, Minnesota    |\n",
       "| 6 | CVS Health         | Healthcare                 | 322467 | 10.4% |  259500 | Woonsocket, Rhode Island |\n",
       "\n"
      ],
      "text/plain": [
       "  Rank Name               Industry                   Revenue (USD millions)\n",
       "1 1    Walmart            Retail                     611289                \n",
       "2 2    Amazon             Retail and Cloud Computing 513983                \n",
       "3 3    Exxon Mobil        Petroleum industry         413680                \n",
       "4 4    Apple              Electronics industry       394328                \n",
       "5 5    UnitedHealth Group Healthcare                 324162                \n",
       "6 6    CVS Health         Healthcare                 322467                \n",
       "  Revenue growth Employees Headquarters            \n",
       "1 6.7%           2100000   Bentonville, Arkansas   \n",
       "2 9.4%           1540000   Seattle, Washington     \n",
       "3 44.8%            62000   Spring, Texas           \n",
       "4 7.8%            164000   Cupertino, California   \n",
       "5 12.7%           400000   Minnetonka, Minnesota   \n",
       "6 10.4%           259500   Woonsocket, Rhode Island"
      ]
     },
     "metadata": {},
     "output_type": "display_data"
    }
   ],
   "source": [
    "us_largest_incomes <- read_csv(\"webscrape.csv\")\n",
    "head(us_largest_incomes)"
   ]
  },
  {
   "cell_type": "code",
   "execution_count": 29,
   "metadata": {
    "vscode": {
     "languageId": "r"
    }
   },
   "outputs": [
    {
     "data": {
      "text/html": [
       "100"
      ],
      "text/latex": [
       "100"
      ],
      "text/markdown": [
       "100"
      ],
      "text/plain": [
       "[1] 100"
      ]
     },
     "metadata": {},
     "output_type": "display_data"
    }
   ],
   "source": [
    "length(us_largest_incomes$Rank)"
   ]
  },
  {
   "cell_type": "code",
   "execution_count": 32,
   "metadata": {
    "vscode": {
     "languageId": "r"
    }
   },
   "outputs": [
    {
     "data": {
      "text/html": [
       "'numeric'"
      ],
      "text/latex": [
       "'numeric'"
      ],
      "text/markdown": [
       "'numeric'"
      ],
      "text/plain": [
       "[1] \"numeric\""
      ]
     },
     "metadata": {},
     "output_type": "display_data"
    },
    {
     "data": {
      "text/html": [
       "'character'"
      ],
      "text/latex": [
       "'character'"
      ],
      "text/markdown": [
       "'character'"
      ],
      "text/plain": [
       "[1] \"character\""
      ]
     },
     "metadata": {},
     "output_type": "display_data"
    },
    {
     "data": {
      "text/html": [
       "'numeric'"
      ],
      "text/latex": [
       "'numeric'"
      ],
      "text/markdown": [
       "'numeric'"
      ],
      "text/plain": [
       "[1] \"numeric\""
      ]
     },
     "metadata": {},
     "output_type": "display_data"
    }
   ],
   "source": [
    "class(us_largest_incomes$Rank)\n",
    "class(us_largest_incomes$Name)\n",
    "class(us_largest_incomes$\"Revenue (USD millions)\")"
   ]
  },
  {
   "cell_type": "code",
   "execution_count": 41,
   "metadata": {
    "vscode": {
     "languageId": "r"
    }
   },
   "outputs": [
    {
     "data": {
      "text/html": [
       "117566.46"
      ],
      "text/latex": [
       "117566.46"
      ],
      "text/markdown": [
       "117566.46"
      ],
      "text/plain": [
       "[1] 117566.5"
      ]
     },
     "metadata": {},
     "output_type": "display_data"
    },
    {
     "data": {
      "text/html": [
       "80824.5"
      ],
      "text/latex": [
       "80824.5"
      ],
      "text/markdown": [
       "80824.5"
      ],
      "text/plain": [
       "[1] 80824.5"
      ]
     },
     "metadata": {},
     "output_type": "display_data"
    },
    {
     "data": {
      "text/html": [
       "<style>\n",
       ".dl-inline {width: auto; margin:0; padding: 0}\n",
       ".dl-inline>dt, .dl-inline>dd {float: none; width: auto; display: inline-block}\n",
       ".dl-inline>dt::after {content: \":\\0020\"; padding-right: .5ex}\n",
       ".dl-inline>dt:not(:first-of-type) {padding-left: .5ex}\n",
       "</style><dl class=dl-inline><dt>25%</dt><dd>57876</dd><dt>50%</dt><dd>80824.5</dd><dt>75%</dt><dd>138763</dd><dt>95%</dt><dd>322551.75</dd><dt>99%</dt><dd>514956.06</dd></dl>\n"
      ],
      "text/latex": [
       "\\begin{description*}\n",
       "\\item[25\\textbackslash{}\\%] 57876\n",
       "\\item[50\\textbackslash{}\\%] 80824.5\n",
       "\\item[75\\textbackslash{}\\%] 138763\n",
       "\\item[95\\textbackslash{}\\%] 322551.75\n",
       "\\item[99\\textbackslash{}\\%] 514956.06\n",
       "\\end{description*}\n"
      ],
      "text/markdown": [
       "25%\n",
       ":   5787650%\n",
       ":   80824.575%\n",
       ":   13876395%\n",
       ":   322551.7599%\n",
       ":   514956.06\n",
       "\n"
      ],
      "text/plain": [
       "     25%      50%      75%      95%      99% \n",
       " 57876.0  80824.5 138763.0 322551.8 514956.1 "
      ]
     },
     "metadata": {},
     "output_type": "display_data"
    }
   ],
   "source": [
    "mean(us_largest_incomes$\"Revenue (USD millions)\")\n",
    "median(us_largest_incomes$\"Revenue (USD millions)\")\n",
    "quantile(us_largest_incomes$\"Revenue (USD millions)\", prob = c(.25, .5, .75, .95, .99))\n"
   ]
  },
  {
   "cell_type": "markdown",
   "metadata": {},
   "source": [
    "How many of them are in California?"
   ]
  },
  {
   "cell_type": "code",
   "execution_count": 63,
   "metadata": {
    "vscode": {
     "languageId": "r"
    }
   },
   "outputs": [
    {
     "data": {
      "text/html": [
       "10"
      ],
      "text/latex": [
       "10"
      ],
      "text/markdown": [
       "10"
      ],
      "text/plain": [
       "[1] 10"
      ]
     },
     "metadata": {},
     "output_type": "display_data"
    },
    {
     "data": {
      "text/html": [
       "142740"
      ],
      "text/latex": [
       "142740"
      ],
      "text/markdown": [
       "142740"
      ],
      "text/plain": [
       "[1] 142740"
      ]
     },
     "metadata": {},
     "output_type": "display_data"
    },
    {
     "data": {
      "text/html": [
       "<style>\n",
       ".dl-inline {width: auto; margin:0; padding: 0}\n",
       ".dl-inline>dt, .dl-inline>dd {float: none; width: auto; display: inline-block}\n",
       ".dl-inline>dt::after {content: \":\\0020\"; padding-right: .5ex}\n",
       ".dl-inline>dt:not(:first-of-type) {padding-left: .5ex}\n",
       "</style><dl class=dl-inline><dt>25%</dt><dd>63000.75</dd><dt>50%</dt><dd>82790.5</dd><dt>75%</dt><dd>213841.25</dd><dt>95%</dt><dd>344156.6</dd><dt>99%</dt><dd>384293.72</dd></dl>\n"
      ],
      "text/latex": [
       "\\begin{description*}\n",
       "\\item[25\\textbackslash{}\\%] 63000.75\n",
       "\\item[50\\textbackslash{}\\%] 82790.5\n",
       "\\item[75\\textbackslash{}\\%] 213841.25\n",
       "\\item[95\\textbackslash{}\\%] 344156.6\n",
       "\\item[99\\textbackslash{}\\%] 384293.72\n",
       "\\end{description*}\n"
      ],
      "text/markdown": [
       "25%\n",
       ":   63000.7550%\n",
       ":   82790.575%\n",
       ":   213841.2595%\n",
       ":   344156.699%\n",
       ":   384293.72\n",
       "\n"
      ],
      "text/plain": [
       "      25%       50%       75%       95%       99% \n",
       " 63000.75  82790.50 213841.25 344156.60 384293.72 "
      ]
     },
     "metadata": {},
     "output_type": "display_data"
    },
    {
     "data": {
      "text/html": [
       "<table class=\"dataframe\">\n",
       "<caption>A tibble: 6 × 7</caption>\n",
       "<thead>\n",
       "\t<tr><th scope=col>Rank</th><th scope=col>Name</th><th scope=col>Industry</th><th scope=col>Revenue (USD millions)</th><th scope=col>Revenue growth</th><th scope=col>Employees</th><th scope=col>Headquarters</th></tr>\n",
       "\t<tr><th scope=col>&lt;dbl&gt;</th><th scope=col>&lt;chr&gt;</th><th scope=col>&lt;chr&gt;</th><th scope=col>&lt;dbl&gt;</th><th scope=col>&lt;chr&gt;</th><th scope=col>&lt;dbl&gt;</th><th scope=col>&lt;chr&gt;</th></tr>\n",
       "</thead>\n",
       "<tbody>\n",
       "\t<tr><td> 4</td><td>Apple                  </td><td>Electronics industry</td><td>394328</td><td>7.8% </td><td>164000</td><td>Cupertino, California    </td></tr>\n",
       "\t<tr><td> 8</td><td>Alphabet               </td><td>Technology          </td><td>282836</td><td>9.8% </td><td>156000</td><td>Mountain View, California</td></tr>\n",
       "\t<tr><td>10</td><td>Chevron Corporation    </td><td>Petroleum industry  </td><td>246252</td><td>51.6%</td><td> 43846</td><td>San Ramon, California    </td></tr>\n",
       "\t<tr><td>31</td><td>Meta Platforms         </td><td>Technology          </td><td>116609</td><td>1.1% </td><td> 86482</td><td>Menlo Park, California   </td></tr>\n",
       "\t<tr><td>47</td><td>Wells Fargo            </td><td>Financials          </td><td> 82859</td><td>0.5% </td><td>238000</td><td>San Francisco, California</td></tr>\n",
       "\t<tr><td>48</td><td>The Walt Disney Company</td><td>Media               </td><td> 82722</td><td>22.7%</td><td>195800</td><td>Burbank, California      </td></tr>\n",
       "</tbody>\n",
       "</table>\n"
      ],
      "text/latex": [
       "A tibble: 6 × 7\n",
       "\\begin{tabular}{lllllll}\n",
       " Rank & Name & Industry & Revenue (USD millions) & Revenue growth & Employees & Headquarters\\\\\n",
       " <dbl> & <chr> & <chr> & <dbl> & <chr> & <dbl> & <chr>\\\\\n",
       "\\hline\n",
       "\t  4 & Apple                   & Electronics industry & 394328 & 7.8\\%  & 164000 & Cupertino, California    \\\\\n",
       "\t  8 & Alphabet                & Technology           & 282836 & 9.8\\%  & 156000 & Mountain View, California\\\\\n",
       "\t 10 & Chevron Corporation     & Petroleum industry   & 246252 & 51.6\\% &  43846 & San Ramon, California    \\\\\n",
       "\t 31 & Meta Platforms          & Technology           & 116609 & 1.1\\%  &  86482 & Menlo Park, California   \\\\\n",
       "\t 47 & Wells Fargo             & Financials           &  82859 & 0.5\\%  & 238000 & San Francisco, California\\\\\n",
       "\t 48 & The Walt Disney Company & Media                &  82722 & 22.7\\% & 195800 & Burbank, California      \\\\\n",
       "\\end{tabular}\n"
      ],
      "text/markdown": [
       "\n",
       "A tibble: 6 × 7\n",
       "\n",
       "| Rank &lt;dbl&gt; | Name &lt;chr&gt; | Industry &lt;chr&gt; | Revenue (USD millions) &lt;dbl&gt; | Revenue growth &lt;chr&gt; | Employees &lt;dbl&gt; | Headquarters &lt;chr&gt; |\n",
       "|---|---|---|---|---|---|---|\n",
       "|  4 | Apple                   | Electronics industry | 394328 | 7.8%  | 164000 | Cupertino, California     |\n",
       "|  8 | Alphabet                | Technology           | 282836 | 9.8%  | 156000 | Mountain View, California |\n",
       "| 10 | Chevron Corporation     | Petroleum industry   | 246252 | 51.6% |  43846 | San Ramon, California     |\n",
       "| 31 | Meta Platforms          | Technology           | 116609 | 1.1%  |  86482 | Menlo Park, California    |\n",
       "| 47 | Wells Fargo             | Financials           |  82859 | 0.5%  | 238000 | San Francisco, California |\n",
       "| 48 | The Walt Disney Company | Media                |  82722 | 22.7% | 195800 | Burbank, California       |\n",
       "\n"
      ],
      "text/plain": [
       "  Rank Name                    Industry             Revenue (USD millions)\n",
       "1  4   Apple                   Electronics industry 394328                \n",
       "2  8   Alphabet                Technology           282836                \n",
       "3 10   Chevron Corporation     Petroleum industry   246252                \n",
       "4 31   Meta Platforms          Technology           116609                \n",
       "5 47   Wells Fargo             Financials            82859                \n",
       "6 48   The Walt Disney Company Media                 82722                \n",
       "  Revenue growth Employees Headquarters             \n",
       "1 7.8%           164000    Cupertino, California    \n",
       "2 9.8%           156000    Mountain View, California\n",
       "3 51.6%           43846    San Ramon, California    \n",
       "4 1.1%            86482    Menlo Park, California   \n",
       "5 0.5%           238000    San Francisco, California\n",
       "6 22.7%          195800    Burbank, California      "
      ]
     },
     "metadata": {},
     "output_type": "display_data"
    }
   ],
   "source": [
    "california_largest_incomes <- us_largest_incomes[grep(\"California\", us_largest_incomes$Headquarters, fixed = TRUE), ]\n",
    "\n",
    "length(california_largest_incomes$Rank)\n",
    "mean(california_largest_incomes$\"Revenue (USD millions)\")\n",
    "quantile(california_largest_incomes$\"Revenue (USD millions)\", prob = c(.25, .5, .75, .95, .99))\n",
    "head(california_largest_incomes)"
   ]
  },
  {
   "cell_type": "markdown",
   "metadata": {},
   "source": [
    "How many of them are in Tech?"
   ]
  },
  {
   "cell_type": "code",
   "execution_count": 81,
   "metadata": {
    "vscode": {
     "languageId": "r"
    }
   },
   "outputs": [
    {
     "data": {
      "text/html": [
       "'Tech companies make up 50% of the largest companies of California (or 5 in 10)'"
      ],
      "text/latex": [
       "'Tech companies make up 50\\% of the largest companies of California (or 5 in 10)'"
      ],
      "text/markdown": [
       "'Tech companies make up 50% of the largest companies of California (or 5 in 10)'"
      ],
      "text/plain": [
       "[1] \"Tech companies make up 50% of the largest companies of California (or 5 in 10)\""
      ]
     },
     "metadata": {},
     "output_type": "display_data"
    },
    {
     "data": {
      "text/html": [
       "113936.4"
      ],
      "text/latex": [
       "113936.4"
      ],
      "text/markdown": [
       "113936.4"
      ],
      "text/plain": [
       "[1] 113936.4"
      ]
     },
     "metadata": {},
     "output_type": "display_data"
    },
    {
     "data": {
      "text/html": [
       "<style>\n",
       ".dl-inline {width: auto; margin:0; padding: 0}\n",
       ".dl-inline>dt, .dl-inline>dd {float: none; width: auto; display: inline-block}\n",
       ".dl-inline>dt::after {content: \":\\0020\"; padding-right: .5ex}\n",
       ".dl-inline>dt:not(:first-of-type) {padding-left: .5ex}\n",
       "</style><dl class=dl-inline><dt>25%</dt><dd>62983</dd><dt>50%</dt><dd>63054</dd><dt>75%</dt><dd>116609</dd><dt>95%</dt><dd>249590.6</dd><dt>99%</dt><dd>276186.92</dd></dl>\n"
      ],
      "text/latex": [
       "\\begin{description*}\n",
       "\\item[25\\textbackslash{}\\%] 62983\n",
       "\\item[50\\textbackslash{}\\%] 63054\n",
       "\\item[75\\textbackslash{}\\%] 116609\n",
       "\\item[95\\textbackslash{}\\%] 249590.6\n",
       "\\item[99\\textbackslash{}\\%] 276186.92\n",
       "\\end{description*}\n"
      ],
      "text/markdown": [
       "25%\n",
       ":   6298350%\n",
       ":   6305475%\n",
       ":   11660995%\n",
       ":   249590.699%\n",
       ":   276186.92\n",
       "\n"
      ],
      "text/plain": [
       "     25%      50%      75%      95%      99% \n",
       " 62983.0  63054.0 116609.0 249590.6 276186.9 "
      ]
     },
     "metadata": {},
     "output_type": "display_data"
    },
    {
     "data": {
      "text/html": [
       "<table class=\"dataframe\">\n",
       "<caption>A tibble: 5 × 7</caption>\n",
       "<thead>\n",
       "\t<tr><th scope=col>Rank</th><th scope=col>Name</th><th scope=col>Industry</th><th scope=col>Revenue (USD millions)</th><th scope=col>Revenue growth</th><th scope=col>Employees</th><th scope=col>Headquarters</th></tr>\n",
       "\t<tr><th scope=col>&lt;dbl&gt;</th><th scope=col>&lt;chr&gt;</th><th scope=col>&lt;chr&gt;</th><th scope=col>&lt;dbl&gt;</th><th scope=col>&lt;chr&gt;</th><th scope=col>&lt;dbl&gt;</th><th scope=col>&lt;chr&gt;</th></tr>\n",
       "</thead>\n",
       "<tbody>\n",
       "\t<tr><td>  8</td><td>Alphabet      </td><td>Technology</td><td>282836</td><td>9.8% </td><td>156000</td><td>Mountain View, California</td></tr>\n",
       "\t<tr><td> 31</td><td>Meta Platforms</td><td>Technology</td><td>116609</td><td>1.1% </td><td> 86482</td><td>Menlo Park, California   </td></tr>\n",
       "\t<tr><td> 64</td><td>Intel         </td><td>Technology</td><td> 63054</td><td>20.1%</td><td>131900</td><td>Santa Clara, California  </td></tr>\n",
       "\t<tr><td> 65</td><td>HP            </td><td>Technology</td><td> 62983</td><td>0.8% </td><td> 58000</td><td>Palo Alto, California    </td></tr>\n",
       "\t<tr><td>100</td><td>Qualcomm      </td><td>Technology</td><td> 44200</td><td>31.7%</td><td> 51000</td><td>San Diego, California    </td></tr>\n",
       "</tbody>\n",
       "</table>\n"
      ],
      "text/latex": [
       "A tibble: 5 × 7\n",
       "\\begin{tabular}{lllllll}\n",
       " Rank & Name & Industry & Revenue (USD millions) & Revenue growth & Employees & Headquarters\\\\\n",
       " <dbl> & <chr> & <chr> & <dbl> & <chr> & <dbl> & <chr>\\\\\n",
       "\\hline\n",
       "\t   8 & Alphabet       & Technology & 282836 & 9.8\\%  & 156000 & Mountain View, California\\\\\n",
       "\t  31 & Meta Platforms & Technology & 116609 & 1.1\\%  &  86482 & Menlo Park, California   \\\\\n",
       "\t  64 & Intel          & Technology &  63054 & 20.1\\% & 131900 & Santa Clara, California  \\\\\n",
       "\t  65 & HP             & Technology &  62983 & 0.8\\%  &  58000 & Palo Alto, California    \\\\\n",
       "\t 100 & Qualcomm       & Technology &  44200 & 31.7\\% &  51000 & San Diego, California    \\\\\n",
       "\\end{tabular}\n"
      ],
      "text/markdown": [
       "\n",
       "A tibble: 5 × 7\n",
       "\n",
       "| Rank &lt;dbl&gt; | Name &lt;chr&gt; | Industry &lt;chr&gt; | Revenue (USD millions) &lt;dbl&gt; | Revenue growth &lt;chr&gt; | Employees &lt;dbl&gt; | Headquarters &lt;chr&gt; |\n",
       "|---|---|---|---|---|---|---|\n",
       "|   8 | Alphabet       | Technology | 282836 | 9.8%  | 156000 | Mountain View, California |\n",
       "|  31 | Meta Platforms | Technology | 116609 | 1.1%  |  86482 | Menlo Park, California    |\n",
       "|  64 | Intel          | Technology |  63054 | 20.1% | 131900 | Santa Clara, California   |\n",
       "|  65 | HP             | Technology |  62983 | 0.8%  |  58000 | Palo Alto, California     |\n",
       "| 100 | Qualcomm       | Technology |  44200 | 31.7% |  51000 | San Diego, California     |\n",
       "\n"
      ],
      "text/plain": [
       "  Rank Name           Industry   Revenue (USD millions) Revenue growth\n",
       "1   8  Alphabet       Technology 282836                 9.8%          \n",
       "2  31  Meta Platforms Technology 116609                 1.1%          \n",
       "3  64  Intel          Technology  63054                 20.1%         \n",
       "4  65  HP             Technology  62983                 0.8%          \n",
       "5 100  Qualcomm       Technology  44200                 31.7%         \n",
       "  Employees Headquarters             \n",
       "1 156000    Mountain View, California\n",
       "2  86482    Menlo Park, California   \n",
       "3 131900    Santa Clara, California  \n",
       "4  58000    Palo Alto, California    \n",
       "5  51000    San Diego, California    "
      ]
     },
     "metadata": {},
     "output_type": "display_data"
    }
   ],
   "source": [
    "tech_in_ca <- california_largest_incomes[grep(\"Technology\", california_largest_incomes$Industry, fixed = TRUE), ]\n",
    "\n",
    "num_of_ca_companies <- length(california_largest_incomes$Rank)\n",
    "num_of_ca_tech_companies <- length(tech_in_ca$Rank)\n",
    "sprintf(\"Tech companies make up %s%% of the largest companies of California (or %d in %d)\",\n",
    "    (num_of_ca_tech_companies / num_of_ca_companies) * 100,\n",
    "    num_of_ca_tech_companies,\n",
    "    num_of_ca_companies)\n",
    "mean(tech_in_ca$\"Revenue (USD millions)\")\n",
    "quantile(tech_in_ca$\"Revenue (USD millions)\", prob = c(.25, .5, .75, .95, .99))\n",
    "head(tech_in_ca)"
   ]
  }
 ],
 "metadata": {
  "kernelspec": {
   "display_name": "R",
   "language": "R",
   "name": "ir"
  },
  "language_info": {
   "codemirror_mode": "r",
   "file_extension": ".r",
   "mimetype": "text/x-r-source",
   "name": "R",
   "pygments_lexer": "r",
   "version": "4.2.3"
  },
  "orig_nbformat": 4
 },
 "nbformat": 4,
 "nbformat_minor": 2
}
